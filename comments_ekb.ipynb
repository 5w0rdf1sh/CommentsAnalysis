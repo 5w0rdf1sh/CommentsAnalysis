{
 "cells": [
  {
   "cell_type": "code",
   "execution_count": 1,
   "metadata": {
    "collapsed": true
   },
   "outputs": [],
   "source": [
    "import pandas as pd\n",
    "import numpy as np\n",
    "import matplotlib.pyplot as plt\n",
    "from sklearn.feature_extraction.text import CountVectorizer, TfidfVectorizer\n",
    "from sklearn import linear_model as lm\n",
    "from sklearn.cross_validation import cross_val_score, train_test_split\n",
    "from sklearn.metrics import accuracy_score\n",
    "import seaborn as sns\n",
    "from stop_words import get_stop_words\n",
    "import Stemmer\n",
    "import pymorphy2\n",
    "from segtok import segmenter\n",
    "import re\n",
    "from functools import partial\n",
    "import pickle\n",
    "from gensim import corpora, models\n",
    "from gensim.models import word2vec\n",
    "import xgboost as xgb \n",
    "%matplotlib inline"
   ]
  },
  {
   "cell_type": "code",
   "execution_count": 2,
   "metadata": {
    "collapsed": false
   },
   "outputs": [
    {
     "name": "stderr",
     "output_type": "stream",
     "text": [
      "Using Theano backend.\n"
     ]
    }
   ],
   "source": [
    "from keras.models import Sequential\n",
    "from keras.layers import Dense, Dropout, Activation\n",
    "from keras.wrappers.scikit_learn import KerasClassifier\n",
    "from keras.utils import np_utils\n",
    "from keras.layers.advanced_activations import PReLU\n",
    "from keras.optimizers import SGD"
   ]
  },
  {
   "cell_type": "code",
   "execution_count": 3,
   "metadata": {
    "collapsed": false
   },
   "outputs": [],
   "source": [
    "data = pd.read_csv('data/comments.csv.gz')"
   ]
  },
  {
   "cell_type": "code",
   "execution_count": 4,
   "metadata": {
    "collapsed": false
   },
   "outputs": [
    {
     "data": {
      "text/plain": [
       "(109529, 6)"
      ]
     },
     "execution_count": 4,
     "metadata": {},
     "output_type": "execute_result"
    }
   ],
   "source": [
    "data.shape"
   ]
  },
  {
   "cell_type": "code",
   "execution_count": 5,
   "metadata": {
    "collapsed": false
   },
   "outputs": [
    {
     "data": {
      "text/plain": [
       "1.0    54803\n",
       "0.0    54726\n",
       "Name: is_gum, dtype: int64"
      ]
     },
     "execution_count": 5,
     "metadata": {},
     "output_type": "execute_result"
    }
   ],
   "source": [
    "data.is_gum.value_counts()"
   ]
  },
  {
   "cell_type": "code",
   "execution_count": 6,
   "metadata": {
    "collapsed": false
   },
   "outputs": [
    {
     "data": {
      "text/html": [
       "<div>\n",
       "<table border=\"1\" class=\"dataframe\">\n",
       "  <thead>\n",
       "    <tr style=\"text-align: right;\">\n",
       "      <th></th>\n",
       "      <th>from_id</th>\n",
       "      <th>text</th>\n",
       "      <th>is_gum</th>\n",
       "      <th>hour</th>\n",
       "      <th>likes</th>\n",
       "      <th>sex</th>\n",
       "    </tr>\n",
       "  </thead>\n",
       "  <tbody>\n",
       "    <tr>\n",
       "      <th>0</th>\n",
       "      <td>56343863</td>\n",
       "      <td>Я один не вижу её в подписчиках?</td>\n",
       "      <td>0.0</td>\n",
       "      <td>21</td>\n",
       "      <td>0</td>\n",
       "      <td>2</td>\n",
       "    </tr>\n",
       "    <tr>\n",
       "      <th>1</th>\n",
       "      <td>4901340</td>\n",
       "      <td>[id262927831|Семён], ей даже за бабки никто св...</td>\n",
       "      <td>0.0</td>\n",
       "      <td>8</td>\n",
       "      <td>1</td>\n",
       "      <td>2</td>\n",
       "    </tr>\n",
       "    <tr>\n",
       "      <th>2</th>\n",
       "      <td>4901340</td>\n",
       "      <td>Ебаные дибилы дело блять не в растает,а темпер...</td>\n",
       "      <td>0.0</td>\n",
       "      <td>8</td>\n",
       "      <td>31</td>\n",
       "      <td>2</td>\n",
       "    </tr>\n",
       "  </tbody>\n",
       "</table>\n",
       "</div>"
      ],
      "text/plain": [
       "    from_id                                               text  is_gum  hour  \\\n",
       "0  56343863                   Я один не вижу её в подписчиках?     0.0    21   \n",
       "1   4901340  [id262927831|Семён], ей даже за бабки никто св...     0.0     8   \n",
       "2   4901340  Ебаные дибилы дело блять не в растает,а темпер...     0.0     8   \n",
       "\n",
       "   likes  sex  \n",
       "0      0    2  \n",
       "1      1    2  \n",
       "2     31    2  "
      ]
     },
     "execution_count": 6,
     "metadata": {},
     "output_type": "execute_result"
    }
   ],
   "source": [
    "data.head(3)"
   ]
  },
  {
   "cell_type": "markdown",
   "metadata": {},
   "source": [
    "### Length of comments (symbols)"
   ]
  },
  {
   "cell_type": "code",
   "execution_count": 7,
   "metadata": {
    "collapsed": false
   },
   "outputs": [
    {
     "name": "stdout",
     "output_type": "stream",
     "text": [
      "<class 'pandas.core.frame.DataFrame'>\n",
      "RangeIndex: 109529 entries, 0 to 109528\n",
      "Data columns (total 6 columns):\n",
      "from_id    109529 non-null int64\n",
      "text       109529 non-null object\n",
      "is_gum     109529 non-null float64\n",
      "hour       109529 non-null int64\n",
      "likes      109529 non-null int64\n",
      "sex        109529 non-null int64\n",
      "dtypes: float64(1), int64(4), object(1)\n",
      "memory usage: 5.0+ MB\n"
     ]
    }
   ],
   "source": [
    "data.info()"
   ]
  },
  {
   "cell_type": "code",
   "execution_count": 8,
   "metadata": {
    "collapsed": false
   },
   "outputs": [],
   "source": [
    "lenghts_symb = np.array([len(m) for m in data.text.values])"
   ]
  },
  {
   "cell_type": "code",
   "execution_count": 9,
   "metadata": {
    "collapsed": false
   },
   "outputs": [
    {
     "data": {
      "text/plain": [
       "(78.884624163463556, 47.0)"
      ]
     },
     "execution_count": 9,
     "metadata": {},
     "output_type": "execute_result"
    }
   ],
   "source": [
    "lenghts_symb.mean(), np.median(lenghts_symb)"
   ]
  },
  {
   "cell_type": "code",
   "execution_count": 10,
   "metadata": {
    "collapsed": false
   },
   "outputs": [
    {
     "data": {
      "text/plain": [
       "(1, 7420)"
      ]
     },
     "execution_count": 10,
     "metadata": {},
     "output_type": "execute_result"
    }
   ],
   "source": [
    "min(lenghts_symb), max(lenghts_symb)"
   ]
  },
  {
   "cell_type": "code",
   "execution_count": 11,
   "metadata": {
    "collapsed": false
   },
   "outputs": [
    {
     "data": {
      "text/plain": [
       "8640154"
      ]
     },
     "execution_count": 11,
     "metadata": {},
     "output_type": "execute_result"
    }
   ],
   "source": [
    "sum(lenghts_symb)"
   ]
  },
  {
   "cell_type": "code",
   "execution_count": 12,
   "metadata": {
    "collapsed": false
   },
   "outputs": [
    {
     "data": {
      "image/png": "[encoded data removed]",
      "text/plain": [
       "<matplotlib.figure.Figure at 0x7feec6e38710>"
      ]
     },
     "metadata": {},
     "output_type": "display_data"
    }
   ],
   "source": [
    "plt.hist(lenghts_symb[lenghts_symb < 500], bins=100);"
   ]
  },
  {
   "cell_type": "code",
   "execution_count": 13,
   "metadata": {
    "collapsed": false
   },
   "outputs": [
    {
     "name": "stdout",
     "output_type": "stream",
     "text": [
      "98.86% of comments are shorter than 500 symbols\n"
     ]
    }
   ],
   "source": [
    "print('{:.2f}% of comments are shorter than {} symbols'\n",
    "      .format(lenghts_symb[lenghts_symb < 500].shape[0] / lenghts_symb.shape[0] * 100, 500))"
   ]
  },
  {
   "cell_type": "code",
   "execution_count": 14,
   "metadata": {
    "collapsed": false
   },
   "outputs": [
    {
     "name": "stdout",
     "output_type": "stream",
     "text": [
      "82.89% of comments are longer than 15 symbols\n"
     ]
    }
   ],
   "source": [
    "print('{:.2f}% of comments are longer than {} symbols'\n",
    "      .format(lenghts_symb[lenghts_symb > 20].shape[0] / lenghts_symb.shape[0] * 100, 15))"
   ]
  },
  {
   "cell_type": "markdown",
   "metadata": {},
   "source": [
    "### Length of comments (words)"
   ]
  },
  {
   "cell_type": "code",
   "execution_count": 15,
   "metadata": {
    "collapsed": false
   },
   "outputs": [],
   "source": [
    "lenghts_word = np.array([len(m.split()) for m in data.text.values])"
   ]
  },
  {
   "cell_type": "code",
   "execution_count": 16,
   "metadata": {
    "collapsed": false
   },
   "outputs": [
    {
     "data": {
      "text/plain": [
       "(11.824347889600014, 7.0)"
      ]
     },
     "execution_count": 16,
     "metadata": {},
     "output_type": "execute_result"
    }
   ],
   "source": [
    "lenghts_word.mean(), np.median(lenghts_word)"
   ]
  },
  {
   "cell_type": "code",
   "execution_count": 17,
   "metadata": {
    "collapsed": false
   },
   "outputs": [
    {
     "data": {
      "text/plain": [
       "(0, 1143)"
      ]
     },
     "execution_count": 17,
     "metadata": {},
     "output_type": "execute_result"
    }
   ],
   "source": [
    "min(lenghts_word), max(lenghts_word)"
   ]
  },
  {
   "cell_type": "code",
   "execution_count": 18,
   "metadata": {
    "collapsed": false
   },
   "outputs": [
    {
     "data": {
      "text/plain": [
       "1295109"
      ]
     },
     "execution_count": 18,
     "metadata": {},
     "output_type": "execute_result"
    }
   ],
   "source": [
    "sum(lenghts_word)"
   ]
  },
  {
   "cell_type": "code",
   "execution_count": 19,
   "metadata": {
    "collapsed": false
   },
   "outputs": [
    {
     "data": {
      "image/png": "[encoded data removed]",
      "text/plain": [
       "<matplotlib.figure.Figure at 0x7feec8d35f28>"
      ]
     },
     "metadata": {},
     "output_type": "display_data"
    }
   ],
   "source": [
    "plt.hist(lenghts_word[lenghts_word < 60], bins=100);"
   ]
  },
  {
   "cell_type": "code",
   "execution_count": 20,
   "metadata": {
    "collapsed": false
   },
   "outputs": [
    {
     "name": "stdout",
     "output_type": "stream",
     "text": [
      "97.91% of comments are shorter than 60 words\n"
     ]
    }
   ],
   "source": [
    "print('{:.2f}% of comments are shorter than {} words'\n",
    "      .format(lenghts_word[lenghts_word < 60].shape[0] / lenghts_word.shape[0] * 100, 60))"
   ]
  },
  {
   "cell_type": "code",
   "execution_count": 21,
   "metadata": {
    "collapsed": false
   },
   "outputs": [
    {
     "name": "stdout",
     "output_type": "stream",
     "text": [
      "66.63% of comments are longer than 4 words\n"
     ]
    }
   ],
   "source": [
    "print('{:.2f}% of comments are longer than {} words'\n",
    "      .format(lenghts_word[lenghts_word > 4].shape[0] / lenghts_word.shape[0] * 100, 4))"
   ]
  },
  {
   "cell_type": "markdown",
   "metadata": {},
   "source": [
    "### Links"
   ]
  },
  {
   "cell_type": "code",
   "execution_count": 22,
   "metadata": {
    "collapsed": false
   },
   "outputs": [],
   "source": [
    "links = [m for m in data.text.values if 'http' in m or 'www' in m or '.ru' in m or '.com' in m] "
   ]
  },
  {
   "cell_type": "code",
   "execution_count": 23,
   "metadata": {
    "collapsed": false
   },
   "outputs": [
    {
     "data": {
      "text/plain": [
       "['http://vk.com/feed?w=wall153043142_4008',\n",
       " 'http://vk.com/photo4028388_337391386',\n",
       " '[id102017653|Иван], http://www.pdd24.com/',\n",
       " '[id146312098|Юля], https://www.google.com/search?q=%D0%BD%D0%BE%D1%87%D0%BD%D0%BE%D0%B9+%D0%B5%D0%BA%D0%B0%D1%82%D0%B5%D1%80%D0%B8%D0%BD%D0%B1%D1%83%D1%80%D0%B3&newwindow=1&biw=1920&bih=971&source=lnms&tbm=isch&sa=X&ei=zM4_VOHIAab8ywOB44CACg&ved=0CAYQ_AUoAQ',\n",
       " '[id146312098|Юля], http://vk.com/album-32182751_151375905']"
      ]
     },
     "execution_count": 23,
     "metadata": {},
     "output_type": "execute_result"
    }
   ],
   "source": [
    "links[:5]"
   ]
  },
  {
   "cell_type": "code",
   "execution_count": 24,
   "metadata": {
    "collapsed": false
   },
   "outputs": [
    {
     "name": "stdout",
     "output_type": "stream",
     "text": [
      "0.58% of comments contain links\n"
     ]
    }
   ],
   "source": [
    "print('{:.2f}% of comments contain links'.format(len(links) / len(data) * 100))"
   ]
  },
  {
   "cell_type": "markdown",
   "metadata": {},
   "source": [
    "## Preprocessing"
   ]
  },
  {
   "cell_type": "markdown",
   "metadata": {},
   "source": [
    "### Dropping short and long"
   ]
  },
  {
   "cell_type": "code",
   "execution_count": 25,
   "metadata": {
    "collapsed": false
   },
   "outputs": [],
   "source": [
    "comments = data[(lenghts_word < 60) & (lenghts_word > 4)]"
   ]
  },
  {
   "cell_type": "code",
   "execution_count": 26,
   "metadata": {
    "collapsed": false
   },
   "outputs": [
    {
     "data": {
      "text/plain": [
       "(70693, 6)"
      ]
     },
     "execution_count": 26,
     "metadata": {},
     "output_type": "execute_result"
    }
   ],
   "source": [
    "comments.shape"
   ]
  },
  {
   "cell_type": "markdown",
   "metadata": {},
   "source": [
    "### Dropping with spam"
   ]
  },
  {
   "cell_type": "code",
   "execution_count": 27,
   "metadata": {
    "collapsed": false
   },
   "outputs": [],
   "source": [
    "without_link = [False if 'http' in c or 'www' in c or '.ru' in c or '.com' in c else True for c in comments.text.values] "
   ]
  },
  {
   "cell_type": "code",
   "execution_count": 28,
   "metadata": {
    "collapsed": false
   },
   "outputs": [],
   "source": [
    "comments = comments[without_link]"
   ]
  },
  {
   "cell_type": "code",
   "execution_count": 29,
   "metadata": {
    "collapsed": false
   },
   "outputs": [
    {
     "data": {
      "text/plain": [
       "(70322, 6)"
      ]
     },
     "execution_count": 29,
     "metadata": {},
     "output_type": "execute_result"
    }
   ],
   "source": [
    "comments.shape"
   ]
  },
  {
   "cell_type": "code",
   "execution_count": 30,
   "metadata": {
    "collapsed": false
   },
   "outputs": [],
   "source": [
    "comments_lenghts = np.array([len(m) for m in comments.text.values])"
   ]
  },
  {
   "cell_type": "code",
   "execution_count": 31,
   "metadata": {
    "collapsed": false
   },
   "outputs": [
    {
     "data": {
      "text/plain": [
       "array([21846, 54384,  8177, 44397,  8558, 58265,  4787, 15466, 60497, 25625])"
      ]
     },
     "execution_count": 31,
     "metadata": {},
     "output_type": "execute_result"
    }
   ],
   "source": [
    "comments_lenghts.argsort()[:10]"
   ]
  },
  {
   "cell_type": "code",
   "execution_count": 32,
   "metadata": {
    "collapsed": false
   },
   "outputs": [
    {
     "data": {
      "text/plain": [
       "'Н И К А К'"
      ]
     },
     "execution_count": 32,
     "metadata": {},
     "output_type": "execute_result"
    }
   ],
   "source": [
    "comments.text.values[21846]"
   ]
  },
  {
   "cell_type": "code",
   "execution_count": 33,
   "metadata": {
    "collapsed": false
   },
   "outputs": [
    {
     "data": {
      "text/plain": [
       "1.0    35481\n",
       "0.0    34841\n",
       "Name: is_gum, dtype: int64"
      ]
     },
     "execution_count": 33,
     "metadata": {},
     "output_type": "execute_result"
    }
   ],
   "source": [
    "comments.is_gum.value_counts()"
   ]
  },
  {
   "cell_type": "code",
   "execution_count": 34,
   "metadata": {
    "collapsed": false
   },
   "outputs": [],
   "source": [
    "vectorizer = CountVectorizer(max_features=1000, ngram_range=(1, 3), analyzer='word', min_df=50)\n",
    "X = vectorizer.fit_transform(comments.text.values)\n",
    "y = comments.is_gum.values"
   ]
  },
  {
   "cell_type": "code",
   "execution_count": 35,
   "metadata": {
    "collapsed": false
   },
   "outputs": [
    {
     "data": {
      "text/plain": [
       "(70322, 1000)"
      ]
     },
     "execution_count": 35,
     "metadata": {},
     "output_type": "execute_result"
    }
   ],
   "source": [
    "X.shape"
   ]
  },
  {
   "cell_type": "code",
   "execution_count": 36,
   "metadata": {
    "collapsed": true
   },
   "outputs": [],
   "source": [
    "lr = lm.LogisticRegression()"
   ]
  },
  {
   "cell_type": "code",
   "execution_count": null,
   "metadata": {
    "collapsed": true
   },
   "outputs": [],
   "source": [
    "np.random.seed(0)"
   ]
  },
  {
   "cell_type": "code",
   "execution_count": 37,
   "metadata": {
    "collapsed": false
   },
   "outputs": [
    {
     "data": {
      "text/plain": [
       "(0.52546837337777197, 0.0052943301934649046)"
      ]
     },
     "execution_count": 37,
     "metadata": {},
     "output_type": "execute_result"
    }
   ],
   "source": [
    "baseline_scores = cross_val_score(lr, X, y, cv=5)\n",
    "baseline_scores.mean(), baseline_scores.std()"
   ]
  },
  {
   "cell_type": "code",
   "execution_count": 144,
   "metadata": {
    "collapsed": true
   },
   "outputs": [],
   "source": [
    "X_train, X_test, y_train, y_test = train_test_split(char_features.toarray(), comments.is_gum, test_size=0.2, random_state=0)"
   ]
  },
  {
   "cell_type": "code",
   "execution_count": 182,
   "metadata": {
    "collapsed": true
   },
   "outputs": [],
   "source": [
    "X_train, X_test, y_train, y_test = train_test_split(vects, comments.is_gum, test_size=0.2, random_state=0)"
   ]
  },
  {
   "cell_type": "code",
   "execution_count": 183,
   "metadata": {
    "collapsed": false
   },
   "outputs": [
    {
     "data": {
      "text/plain": [
       "((55979, 500), (55979,))"
      ]
     },
     "execution_count": 183,
     "metadata": {},
     "output_type": "execute_result"
    }
   ],
   "source": [
    "X_train.shape, y_train.shape"
   ]
  },
  {
   "cell_type": "code",
   "execution_count": null,
   "metadata": {
    "collapsed": true
   },
   "outputs": [],
   "source": []
  },
  {
   "cell_type": "code",
   "execution_count": 184,
   "metadata": {
    "collapsed": false
   },
   "outputs": [
    {
     "data": {
      "text/plain": [
       "0.54019292604501612"
      ]
     },
     "execution_count": 184,
     "metadata": {},
     "output_type": "execute_result"
    }
   ],
   "source": [
    "lr.fit(X_train, y_train)\n",
    "lr.score(X_test, y_test)"
   ]
  },
  {
   "cell_type": "code",
   "execution_count": 104,
   "metadata": {
    "collapsed": false
   },
   "outputs": [
    {
     "data": {
      "text/plain": [
       "'5|p'"
      ]
     },
     "execution_count": 104,
     "metadata": {},
     "output_type": "execute_result"
    }
   ],
   "source": [
    "vectorizer.get_feature_names()[1565]"
   ]
  },
  {
   "cell_type": "code",
   "execution_count": 119,
   "metadata": {
    "collapsed": false
   },
   "outputs": [
    {
     "data": {
      "text/plain": [
       "array(['040', '-не', '797', '447', '156', '0|с', '851', '582', '2|ю',\n",
       "       '866', ' ны', '894', '926', '.а ', '351', '66|', '.в ', '600',\n",
       "       ' пф', '05|', '682', '-во', ' 90', ' ди', '770', '168', '824',\n",
       "       ',ра', '164', ' 4 ', '108', '?) ', ' ак', '262', '0|и', '853',\n",
       "       '965', '632', ' яв', '169', ' ??', '433', '0|и', '124', '018',\n",
       "       '406', '204', ' шк', '518', 'd26'], \n",
       "      dtype='<U3')"
      ]
     },
     "execution_count": 119,
     "metadata": {},
     "output_type": "execute_result"
    }
   ],
   "source": [
    "np.array(vectorizer.get_feature_names())[np.random.randint(0, 2000, 50)]"
   ]
  },
  {
   "cell_type": "markdown",
   "metadata": {},
   "source": [
    "### NN"
   ]
  },
  {
   "cell_type": "code",
   "execution_count": 185,
   "metadata": {
    "collapsed": true
   },
   "outputs": [],
   "source": [
    "model = Sequential()\n",
    "model.add(Dense(300, input_shape=(500,)))\n",
    "model.add(Activation(PReLU()))\n",
    "model.add(Dropout(0.4))\n",
    "model.add(Dense(20, activation='tanh'))\n",
    "model.add(Dropout(0.4))\n",
    "model.add(Dense(1))\n",
    "model.add(Activation('sigmoid'))\n",
    "\n",
    "model.compile(loss='binary_crossentropy',\n",
    "              optimizer='adam',\n",
    "              metrics=['accuracy'])"
   ]
  },
  {
   "cell_type": "code",
   "execution_count": 186,
   "metadata": {
    "collapsed": false,
    "scrolled": true
   },
   "outputs": [
    {
     "name": "stdout",
     "output_type": "stream",
     "text": [
      "Train on 50381 samples, validate on 5598 samples\n",
      "Epoch 1/10\n",
      "50381/50381 [==============================] - 4s - loss: 0.6924 - acc: 0.5160 - val_loss: 0.6900 - val_acc: 0.5463\n",
      "Epoch 2/10\n",
      "50381/50381 [==============================] - 3s - loss: 0.6892 - acc: 0.5370 - val_loss: 0.6879 - val_acc: 0.5448\n",
      "Epoch 3/10\n",
      "50381/50381 [==============================] - 4s - loss: 0.6864 - acc: 0.5483 - val_loss: 0.6873 - val_acc: 0.5513\n",
      "Epoch 4/10\n",
      "50381/50381 [==============================] - 4s - loss: 0.6835 - acc: 0.5546 - val_loss: 0.6880 - val_acc: 0.5402\n",
      "Epoch 5/10\n",
      "50381/50381 [==============================] - 4s - loss: 0.6805 - acc: 0.5645 - val_loss: 0.6901 - val_acc: 0.5484\n",
      "Epoch 6/10\n",
      "50381/50381 [==============================] - 4s - loss: 0.6777 - acc: 0.5716 - val_loss: 0.6896 - val_acc: 0.5459\n",
      "Epoch 7/10\n",
      "50381/50381 [==============================] - 4s - loss: 0.6745 - acc: 0.5770 - val_loss: 0.6893 - val_acc: 0.5486\n",
      "Epoch 8/10\n",
      "50381/50381 [==============================] - 4s - loss: 0.6706 - acc: 0.5825 - val_loss: 0.6904 - val_acc: 0.5511\n",
      "Epoch 9/10\n",
      "50381/50381 [==============================] - 4s - loss: 0.6649 - acc: 0.5962 - val_loss: 0.6946 - val_acc: 0.5406\n",
      "Epoch 10/10\n",
      "50381/50381 [==============================] - 4s - loss: 0.6577 - acc: 0.6074 - val_loss: 0.6948 - val_acc: 0.5384\n",
      "CPU times: user 56.9 s, sys: 1min 16s, total: 2min 13s\n",
      "Wall time: 44.7 s\n"
     ]
    }
   ],
   "source": [
    "%%time\n",
    "history = model.fit(X_train, y_train,\n",
    "                    nb_epoch=10, batch_size=1024,\n",
    "                    verbose=1, validation_split=0.1)"
   ]
  },
  {
   "cell_type": "code",
   "execution_count": 78,
   "metadata": {
    "collapsed": false
   },
   "outputs": [
    {
     "name": "stdout",
     "output_type": "stream",
     "text": [
      "22453/22453 [==============================] - 1s     \n",
      "Test score: 0.605155182597\n",
      "Test accuracy: 0.690241838308\n"
     ]
    }
   ],
   "source": [
    "score = model.evaluate(X_test.toarray(), y_test,\n",
    "                       batch_size=512, verbose=1)\n",
    "print('Test score:', score[0])\n",
    "print('Test accuracy:', score[1])"
   ]
  },
  {
   "cell_type": "markdown",
   "metadata": {},
   "source": [
    "### XGB"
   ]
  },
  {
   "cell_type": "code",
   "execution_count": 187,
   "metadata": {
    "collapsed": true
   },
   "outputs": [],
   "source": [
    "params = {\n",
    "    'objective': 'binary:logistic',\n",
    "    'booster': 'gbtree',\n",
    "    'eval_matrics': 'error',\n",
    "}"
   ]
  },
  {
   "cell_type": "code",
   "execution_count": 188,
   "metadata": {
    "collapsed": false
   },
   "outputs": [
    {
     "name": "stderr",
     "output_type": "stream",
     "text": [
      "Will train until eval error hasn't decreased in 50 rounds.\n",
      "[0]\ttrain-error:0.456850\teval-error:0.484459\n",
      "[1]\ttrain-error:0.438575\teval-error:0.487245\n",
      "[2]\ttrain-error:0.425677\teval-error:0.482387\n",
      "[3]\ttrain-error:0.413584\teval-error:0.482744\n",
      "[4]\ttrain-error:0.404813\teval-error:0.483744\n",
      "[5]\ttrain-error:0.396506\teval-error:0.485173\n",
      "[6]\ttrain-error:0.392415\teval-error:0.481743\n",
      "[7]\ttrain-error:0.385180\teval-error:0.481100\n",
      "[8]\ttrain-error:0.380285\teval-error:0.479957\n",
      "[9]\ttrain-error:0.378088\teval-error:0.481458\n",
      "[10]\ttrain-error:0.370657\teval-error:0.477814\n",
      "[11]\ttrain-error:0.368853\teval-error:0.476670\n",
      "[12]\ttrain-error:0.361511\teval-error:0.476527\n",
      "[13]\ttrain-error:0.357616\teval-error:0.476384\n",
      "[14]\ttrain-error:0.352561\teval-error:0.471668\n",
      "[15]\ttrain-error:0.348756\teval-error:0.473526\n",
      "[16]\ttrain-error:0.344754\teval-error:0.475456\n",
      "[17]\ttrain-error:0.340217\teval-error:0.476242\n",
      "[18]\ttrain-error:0.336894\teval-error:0.475027\n",
      "[19]\ttrain-error:0.333446\teval-error:0.475956\n",
      "[20]\ttrain-error:0.331732\teval-error:0.477671\n",
      "[21]\ttrain-error:0.328480\teval-error:0.478099\n",
      "[22]\ttrain-error:0.325819\teval-error:0.478671\n",
      "[23]\ttrain-error:0.322085\teval-error:0.476027\n",
      "[24]\ttrain-error:0.319941\teval-error:0.478528\n",
      "[25]\ttrain-error:0.316279\teval-error:0.478742\n",
      "[26]\ttrain-error:0.314028\teval-error:0.477885\n",
      "[27]\ttrain-error:0.312099\teval-error:0.478814\n",
      "[28]\ttrain-error:0.310259\teval-error:0.478957\n",
      "[29]\ttrain-error:0.307651\teval-error:0.478028\n",
      "[30]\ttrain-error:0.305043\teval-error:0.478171\n",
      "[31]\ttrain-error:0.302596\teval-error:0.478171\n",
      "[32]\ttrain-error:0.299434\teval-error:0.475527\n",
      "[33]\ttrain-error:0.297522\teval-error:0.474741\n",
      "[34]\ttrain-error:0.295057\teval-error:0.475098\n",
      "[35]\ttrain-error:0.291931\teval-error:0.475098\n",
      "[36]\ttrain-error:0.290716\teval-error:0.478171\n",
      "[37]\ttrain-error:0.287858\teval-error:0.476885\n",
      "[38]\ttrain-error:0.284946\teval-error:0.477385\n",
      "[39]\ttrain-error:0.283410\teval-error:0.476170\n",
      "[40]\ttrain-error:0.281463\teval-error:0.476027\n",
      "[41]\ttrain-error:0.278247\teval-error:0.475241\n",
      "[42]\ttrain-error:0.275907\teval-error:0.475956\n",
      "[43]\ttrain-error:0.275050\teval-error:0.476885\n",
      "[44]\ttrain-error:0.271477\teval-error:0.475098\n",
      "[45]\ttrain-error:0.270173\teval-error:0.474312\n",
      "[46]\ttrain-error:0.268190\teval-error:0.474026\n",
      "[47]\ttrain-error:0.265814\teval-error:0.474026\n",
      "[48]\ttrain-error:0.264331\teval-error:0.472454\n",
      "[49]\ttrain-error:0.262706\teval-error:0.472169\n",
      "[50]\ttrain-error:0.261009\teval-error:0.472026\n",
      "[51]\ttrain-error:0.259865\teval-error:0.471883\n",
      "[52]\ttrain-error:0.257239\teval-error:0.472026\n",
      "[53]\ttrain-error:0.254917\teval-error:0.471740\n",
      "[54]\ttrain-error:0.253113\teval-error:0.470025\n",
      "[55]\ttrain-error:0.251576\teval-error:0.471311\n",
      "[56]\ttrain-error:0.250469\teval-error:0.471526\n",
      "[57]\ttrain-error:0.248164\teval-error:0.470454\n",
      "[58]\ttrain-error:0.246217\teval-error:0.472312\n",
      "[59]\ttrain-error:0.244020\teval-error:0.470382\n",
      "[60]\ttrain-error:0.243484\teval-error:0.470096\n",
      "[61]\ttrain-error:0.242895\teval-error:0.470382\n",
      "[62]\ttrain-error:0.241073\teval-error:0.469453\n",
      "[63]\ttrain-error:0.239143\teval-error:0.468739\n",
      "[64]\ttrain-error:0.236767\teval-error:0.470311\n",
      "[65]\ttrain-error:0.234677\teval-error:0.474955\n",
      "[66]\ttrain-error:0.232605\teval-error:0.475241\n",
      "[67]\ttrain-error:0.229908\teval-error:0.473669\n",
      "[68]\ttrain-error:0.228514\teval-error:0.473098\n",
      "[69]\ttrain-error:0.227442\teval-error:0.472240\n",
      "[70]\ttrain-error:0.226156\teval-error:0.471668\n",
      "[71]\ttrain-error:0.223530\teval-error:0.470954\n",
      "[72]\ttrain-error:0.222333\teval-error:0.471454\n",
      "[73]\ttrain-error:0.220279\teval-error:0.472740\n",
      "[74]\ttrain-error:0.219082\teval-error:0.473455\n",
      "[75]\ttrain-error:0.217742\teval-error:0.471240\n",
      "[76]\ttrain-error:0.216260\teval-error:0.471168\n",
      "[77]\ttrain-error:0.215063\teval-error:0.471168\n",
      "[78]\ttrain-error:0.212615\teval-error:0.473812\n",
      "[79]\ttrain-error:0.211329\teval-error:0.472526\n",
      "[80]\ttrain-error:0.210633\teval-error:0.472883\n",
      "[81]\ttrain-error:0.209454\teval-error:0.470525\n",
      "[82]\ttrain-error:0.207113\teval-error:0.471168\n",
      "[83]\ttrain-error:0.205577\teval-error:0.471168\n",
      "[84]\ttrain-error:0.203451\teval-error:0.469882\n",
      "[85]\ttrain-error:0.202147\teval-error:0.468810\n",
      "[86]\ttrain-error:0.200504\teval-error:0.469954\n",
      "[87]\ttrain-error:0.199432\teval-error:0.469596\n",
      "[88]\ttrain-error:0.198717\teval-error:0.469811\n",
      "[89]\ttrain-error:0.196645\teval-error:0.470096\n",
      "[90]\ttrain-error:0.196074\teval-error:0.470382\n",
      "[91]\ttrain-error:0.193340\teval-error:0.470382\n",
      "[92]\ttrain-error:0.191679\teval-error:0.469096\n",
      "[93]\ttrain-error:0.190857\teval-error:0.469811\n",
      "[94]\ttrain-error:0.188821\teval-error:0.469382\n",
      "[95]\ttrain-error:0.187427\teval-error:0.469954\n",
      "[96]\ttrain-error:0.186284\teval-error:0.470239\n",
      "[97]\ttrain-error:0.185194\teval-error:0.468882\n",
      "[98]\ttrain-error:0.182640\teval-error:0.471526\n",
      "[99]\ttrain-error:0.182068\teval-error:0.471168\n",
      "[100]\ttrain-error:0.181836\teval-error:0.471383\n",
      "[101]\ttrain-error:0.180907\teval-error:0.471668\n",
      "[102]\ttrain-error:0.179996\teval-error:0.472383\n",
      "[103]\ttrain-error:0.179299\teval-error:0.471954\n",
      "[104]\ttrain-error:0.178156\teval-error:0.471597\n",
      "[105]\ttrain-error:0.177334\teval-error:0.472312\n",
      "[106]\ttrain-error:0.175887\teval-error:0.471168\n",
      "[107]\ttrain-error:0.174762\teval-error:0.470311\n",
      "[108]\ttrain-error:0.173101\teval-error:0.469668\n",
      "[109]\ttrain-error:0.172207\teval-error:0.468953\n",
      "[110]\ttrain-error:0.171761\teval-error:0.469096\n",
      "[111]\ttrain-error:0.171011\teval-error:0.469382\n",
      "[112]\ttrain-error:0.170117\teval-error:0.469739\n"
     ]
    },
    {
     "name": "stdout",
     "output_type": "stream",
     "text": [
      "CPU times: user 12min 34s, sys: 736 ms, total: 12min 35s\n",
      "Wall time: 3min 19s\n"
     ]
    },
    {
     "name": "stderr",
     "output_type": "stream",
     "text": [
      "[113]\ttrain-error:0.169903\teval-error:0.470311\n",
      "Stopping. Best iteration:\n",
      "[63]\ttrain-error:0.239143\teval-error:0.468739\n",
      "\n"
     ]
    }
   ],
   "source": [
    "%%time\n",
    "dtrain = xgb.DMatrix(X_train, y_train)\n",
    "dvalid = xgb.DMatrix(X_test, y_test)\n",
    "watchlist = [(dtrain, 'train'), (dvalid, 'eval')]\n",
    "\n",
    "gbm = xgb.train(params, dtrain, 1000, watchlist, verbose_eval=True, early_stopping_rounds=50)"
   ]
  },
  {
   "cell_type": "code",
   "execution_count": 151,
   "metadata": {
    "collapsed": false
   },
   "outputs": [
    {
     "data": {
      "text/plain": [
       "[('f127', 57), ('f155', 53), ('f154', 51), ('f2547', 47), ('f1737', 45)]"
      ]
     },
     "execution_count": 151,
     "metadata": {},
     "output_type": "execute_result"
    }
   ],
   "source": [
    "sorted(gbm.get_fscore().items(), key=lambda x: -x[1])[:5]"
   ]
  },
  {
   "cell_type": "code",
   "execution_count": 156,
   "metadata": {
    "collapsed": false
   },
   "outputs": [
    {
     "data": {
      "text/plain": [
       "[('но ', 1737)]"
      ]
     },
     "execution_count": 156,
     "metadata": {},
     "output_type": "execute_result"
    }
   ],
   "source": [
    "list(filter(lambda x: x[1] == 1737, vectorizer.vocabulary_.items()))"
   ]
  },
  {
   "cell_type": "code",
   "execution_count": 211,
   "metadata": {
    "collapsed": false
   },
   "outputs": [
    {
     "data": {
      "text/plain": [
       "'punct_)'"
      ]
     },
     "execution_count": 211,
     "metadata": {},
     "output_type": "execute_result"
    }
   ],
   "source": [
    "comment_features.columns[3]"
   ]
  },
  {
   "cell_type": "code",
   "execution_count": 133,
   "metadata": {
    "collapsed": true
   },
   "outputs": [],
   "source": [
    "pred = gbm.predict(dvalid)"
   ]
  },
  {
   "cell_type": "code",
   "execution_count": 134,
   "metadata": {
    "collapsed": false
   },
   "outputs": [
    {
     "data": {
      "text/plain": [
       "array([ 0.46096328,  0.55611199,  0.51957262, ...,  0.45535901,\n",
       "        0.61733341,  0.53305769], dtype=float32)"
      ]
     },
     "execution_count": 134,
     "metadata": {},
     "output_type": "execute_result"
    }
   ],
   "source": [
    "pred"
   ]
  },
  {
   "cell_type": "code",
   "execution_count": 135,
   "metadata": {
    "collapsed": false
   },
   "outputs": [
    {
     "data": {
      "text/plain": [
       "0.5349053233297606"
      ]
     },
     "execution_count": 135,
     "metadata": {},
     "output_type": "execute_result"
    }
   ],
   "source": [
    "accuracy_score(y_test, pred > 0.5)"
   ]
  },
  {
   "cell_type": "markdown",
   "metadata": {},
   "source": [
    "## Testing meta features"
   ]
  },
  {
   "cell_type": "code",
   "execution_count": 62,
   "metadata": {
    "collapsed": true
   },
   "outputs": [],
   "source": [
    "is_man = np.reshape((comments.sex == 2).astype('int'), (-1, 1))"
   ]
  },
  {
   "cell_type": "code",
   "execution_count": 63,
   "metadata": {
    "collapsed": false
   },
   "outputs": [],
   "source": [
    "is_with_like = np.reshape((comments.likes > 0).astype('int'), (-1, 1))"
   ]
  },
  {
   "cell_type": "code",
   "execution_count": 64,
   "metadata": {
    "collapsed": false
   },
   "outputs": [],
   "source": [
    "X = pd.get_dummies(comments.hour, prefix='h').values\n",
    "X = np.hstack((X, is_with_like, is_man))"
   ]
  },
  {
   "cell_type": "code",
   "execution_count": 65,
   "metadata": {
    "collapsed": true
   },
   "outputs": [],
   "source": [
    "def get_meta_features():\n",
    "    features = pd.DataFrame()\n",
    "    features['is_man'] = comments.sex == 2\n",
    "    features['is_with_like'] = comments.likes > 0\n",
    "    features = pd.concat((features, pd.get_dummies(comments.hour, prefix='h')), axis=1)\n",
    "    return features"
   ]
  },
  {
   "cell_type": "code",
   "execution_count": 66,
   "metadata": {
    "collapsed": true
   },
   "outputs": [],
   "source": [
    "meta_features = get_meta_features()"
   ]
  },
  {
   "cell_type": "code",
   "execution_count": 67,
   "metadata": {
    "collapsed": false
   },
   "outputs": [
    {
     "data": {
      "text/html": [
       "<div>\n",
       "<table border=\"1\" class=\"dataframe\">\n",
       "  <thead>\n",
       "    <tr style=\"text-align: right;\">\n",
       "      <th></th>\n",
       "      <th>is_man</th>\n",
       "      <th>is_with_like</th>\n",
       "      <th>h_0</th>\n",
       "      <th>h_1</th>\n",
       "      <th>h_2</th>\n",
       "      <th>h_3</th>\n",
       "      <th>h_4</th>\n",
       "      <th>h_5</th>\n",
       "      <th>h_6</th>\n",
       "      <th>h_7</th>\n",
       "      <th>...</th>\n",
       "      <th>h_14</th>\n",
       "      <th>h_15</th>\n",
       "      <th>h_16</th>\n",
       "      <th>h_17</th>\n",
       "      <th>h_18</th>\n",
       "      <th>h_19</th>\n",
       "      <th>h_20</th>\n",
       "      <th>h_21</th>\n",
       "      <th>h_22</th>\n",
       "      <th>h_23</th>\n",
       "    </tr>\n",
       "  </thead>\n",
       "  <tbody>\n",
       "    <tr>\n",
       "      <th>1</th>\n",
       "      <td>True</td>\n",
       "      <td>True</td>\n",
       "      <td>0.0</td>\n",
       "      <td>0.0</td>\n",
       "      <td>0.0</td>\n",
       "      <td>0.0</td>\n",
       "      <td>0.0</td>\n",
       "      <td>0.0</td>\n",
       "      <td>0.0</td>\n",
       "      <td>0.0</td>\n",
       "      <td>...</td>\n",
       "      <td>0.0</td>\n",
       "      <td>0.0</td>\n",
       "      <td>0.0</td>\n",
       "      <td>0.0</td>\n",
       "      <td>1.0</td>\n",
       "      <td>0.0</td>\n",
       "      <td>0.0</td>\n",
       "      <td>0.0</td>\n",
       "      <td>0.0</td>\n",
       "      <td>0.0</td>\n",
       "    </tr>\n",
       "    <tr>\n",
       "      <th>2</th>\n",
       "      <td>True</td>\n",
       "      <td>False</td>\n",
       "      <td>0.0</td>\n",
       "      <td>0.0</td>\n",
       "      <td>0.0</td>\n",
       "      <td>0.0</td>\n",
       "      <td>0.0</td>\n",
       "      <td>0.0</td>\n",
       "      <td>0.0</td>\n",
       "      <td>0.0</td>\n",
       "      <td>...</td>\n",
       "      <td>0.0</td>\n",
       "      <td>0.0</td>\n",
       "      <td>0.0</td>\n",
       "      <td>0.0</td>\n",
       "      <td>0.0</td>\n",
       "      <td>0.0</td>\n",
       "      <td>0.0</td>\n",
       "      <td>0.0</td>\n",
       "      <td>0.0</td>\n",
       "      <td>0.0</td>\n",
       "    </tr>\n",
       "    <tr>\n",
       "      <th>3</th>\n",
       "      <td>True</td>\n",
       "      <td>False</td>\n",
       "      <td>0.0</td>\n",
       "      <td>0.0</td>\n",
       "      <td>0.0</td>\n",
       "      <td>0.0</td>\n",
       "      <td>0.0</td>\n",
       "      <td>0.0</td>\n",
       "      <td>0.0</td>\n",
       "      <td>0.0</td>\n",
       "      <td>...</td>\n",
       "      <td>0.0</td>\n",
       "      <td>0.0</td>\n",
       "      <td>0.0</td>\n",
       "      <td>0.0</td>\n",
       "      <td>0.0</td>\n",
       "      <td>0.0</td>\n",
       "      <td>0.0</td>\n",
       "      <td>0.0</td>\n",
       "      <td>0.0</td>\n",
       "      <td>0.0</td>\n",
       "    </tr>\n",
       "    <tr>\n",
       "      <th>4</th>\n",
       "      <td>True</td>\n",
       "      <td>True</td>\n",
       "      <td>0.0</td>\n",
       "      <td>0.0</td>\n",
       "      <td>0.0</td>\n",
       "      <td>0.0</td>\n",
       "      <td>0.0</td>\n",
       "      <td>0.0</td>\n",
       "      <td>0.0</td>\n",
       "      <td>0.0</td>\n",
       "      <td>...</td>\n",
       "      <td>0.0</td>\n",
       "      <td>0.0</td>\n",
       "      <td>0.0</td>\n",
       "      <td>0.0</td>\n",
       "      <td>0.0</td>\n",
       "      <td>0.0</td>\n",
       "      <td>0.0</td>\n",
       "      <td>0.0</td>\n",
       "      <td>0.0</td>\n",
       "      <td>0.0</td>\n",
       "    </tr>\n",
       "    <tr>\n",
       "      <th>5</th>\n",
       "      <td>True</td>\n",
       "      <td>False</td>\n",
       "      <td>0.0</td>\n",
       "      <td>0.0</td>\n",
       "      <td>0.0</td>\n",
       "      <td>0.0</td>\n",
       "      <td>0.0</td>\n",
       "      <td>0.0</td>\n",
       "      <td>0.0</td>\n",
       "      <td>0.0</td>\n",
       "      <td>...</td>\n",
       "      <td>0.0</td>\n",
       "      <td>0.0</td>\n",
       "      <td>0.0</td>\n",
       "      <td>0.0</td>\n",
       "      <td>0.0</td>\n",
       "      <td>0.0</td>\n",
       "      <td>0.0</td>\n",
       "      <td>0.0</td>\n",
       "      <td>0.0</td>\n",
       "      <td>0.0</td>\n",
       "    </tr>\n",
       "  </tbody>\n",
       "</table>\n",
       "<p>5 rows × 26 columns</p>\n",
       "</div>"
      ],
      "text/plain": [
       "  is_man is_with_like  h_0  h_1  h_2  h_3  h_4  h_5  h_6  h_7  ...   h_14  \\\n",
       "1   True         True  0.0  0.0  0.0  0.0  0.0  0.0  0.0  0.0  ...    0.0   \n",
       "2   True        False  0.0  0.0  0.0  0.0  0.0  0.0  0.0  0.0  ...    0.0   \n",
       "3   True        False  0.0  0.0  0.0  0.0  0.0  0.0  0.0  0.0  ...    0.0   \n",
       "4   True         True  0.0  0.0  0.0  0.0  0.0  0.0  0.0  0.0  ...    0.0   \n",
       "5   True        False  0.0  0.0  0.0  0.0  0.0  0.0  0.0  0.0  ...    0.0   \n",
       "\n",
       "   h_15  h_16  h_17  h_18  h_19  h_20  h_21  h_22  h_23  \n",
       "1   0.0   0.0   0.0   1.0   0.0   0.0   0.0   0.0   0.0  \n",
       "2   0.0   0.0   0.0   0.0   0.0   0.0   0.0   0.0   0.0  \n",
       "3   0.0   0.0   0.0   0.0   0.0   0.0   0.0   0.0   0.0  \n",
       "4   0.0   0.0   0.0   0.0   0.0   0.0   0.0   0.0   0.0  \n",
       "5   0.0   0.0   0.0   0.0   0.0   0.0   0.0   0.0   0.0  \n",
       "\n",
       "[5 rows x 26 columns]"
      ]
     },
     "execution_count": 67,
     "metadata": {},
     "output_type": "execute_result"
    }
   ],
   "source": [
    "meta_features.head()"
   ]
  },
  {
   "cell_type": "code",
   "execution_count": 49,
   "metadata": {
    "collapsed": false
   },
   "outputs": [
    {
     "data": {
      "text/plain": [
       "(0.68691930589059214, 0.054023485908062177)"
      ]
     },
     "execution_count": 49,
     "metadata": {},
     "output_type": "execute_result"
    }
   ],
   "source": [
    "baseline_scores = cross_val_score(lr, meta_features, comments.is_gum, cv=5)\n",
    "baseline_scores.mean(), baseline_scores.std()"
   ]
  },
  {
   "cell_type": "markdown",
   "metadata": {
    "collapsed": true
   },
   "source": [
    "## Emoji"
   ]
  },
  {
   "cell_type": "code",
   "execution_count": 38,
   "metadata": {
    "collapsed": true
   },
   "outputs": [],
   "source": [
    "comments_list = comments.text.values"
   ]
  },
  {
   "cell_type": "code",
   "execution_count": 39,
   "metadata": {
    "collapsed": true
   },
   "outputs": [],
   "source": [
    "with open('emoji.txt', 'r') as f:\n",
    "    lines = f.readlines()\n",
    "emojis = [line[0] for line in lines]"
   ]
  },
  {
   "cell_type": "code",
   "execution_count": 40,
   "metadata": {
    "collapsed": false
   },
   "outputs": [],
   "source": [
    "def is_with_emoji(comment):\n",
    "    for em in emojis:\n",
    "        if em in comment:\n",
    "            return 1\n",
    "    return 0"
   ]
  },
  {
   "cell_type": "code",
   "execution_count": 41,
   "metadata": {
    "collapsed": true
   },
   "outputs": [],
   "source": [
    "def with_emoji(comments):\n",
    "    return [is_with_emoji(c) for c in comments]"
   ]
  },
  {
   "cell_type": "code",
   "execution_count": 42,
   "metadata": {
    "collapsed": false
   },
   "outputs": [],
   "source": [
    "def get_emoji(comment, repetition=True):\n",
    "    ems = []\n",
    "    for em in emojis:\n",
    "        if not repetition:\n",
    "            if em in comment:\n",
    "                ems.append(em)\n",
    "        else:\n",
    "            founded = re.findall(em, comment)\n",
    "            if len(founded) > 0:\n",
    "                ems.extend(founded)\n",
    "    return ems"
   ]
  },
  {
   "cell_type": "code",
   "execution_count": 43,
   "metadata": {
    "collapsed": false
   },
   "outputs": [
    {
     "data": {
      "text/plain": [
       "['👏', '🔥', '🔥']"
      ]
     },
     "execution_count": 43,
     "metadata": {},
     "output_type": "execute_result"
    }
   ],
   "source": [
    "get_emoji(' 🔥 🔥 👏')"
   ]
  },
  {
   "cell_type": "code",
   "execution_count": 44,
   "metadata": {
    "collapsed": false
   },
   "outputs": [
    {
     "data": {
      "text/plain": [
       "['👏', '🔥']"
      ]
     },
     "execution_count": 44,
     "metadata": {},
     "output_type": "execute_result"
    }
   ],
   "source": [
    "get_emoji(' 🔥 🔥 👏', False)"
   ]
  },
  {
   "cell_type": "markdown",
   "metadata": {},
   "source": [
    "#### If not done before"
   ]
  },
  {
   "cell_type": "code",
   "execution_count": 45,
   "metadata": {
    "collapsed": false
   },
   "outputs": [
    {
     "name": "stdout",
     "output_type": "stream",
     "text": [
      "CPU times: user 30min 20s, sys: 176 ms, total: 30min 20s\n",
      "Wall time: 31min 37s\n"
     ]
    }
   ],
   "source": [
    "%time emoji_from_comments_rep = list(map(get_emoji, comments_list))"
   ]
  },
  {
   "cell_type": "code",
   "execution_count": 46,
   "metadata": {
    "collapsed": true
   },
   "outputs": [],
   "source": [
    "with open('emoji_from_comments_rep_ekb.pkl', 'wb') as f:\n",
    "    pickle.dump(emoji_from_comments_rep, f)"
   ]
  },
  {
   "cell_type": "markdown",
   "metadata": {},
   "source": [
    "#### Else load"
   ]
  },
  {
   "cell_type": "code",
   "execution_count": 47,
   "metadata": {
    "collapsed": false
   },
   "outputs": [],
   "source": [
    "with open('emoji_from_comments_rep_ekb.pkl', 'rb') as f:\n",
    "    emoji_from_comments_rep = pickle.load(f)"
   ]
  },
  {
   "cell_type": "code",
   "execution_count": 48,
   "metadata": {
    "collapsed": false
   },
   "outputs": [],
   "source": [
    "emoji_from_comments_no_rep = list(map(lambda com: get_emoji(com, False), comments_list))"
   ]
  },
  {
   "cell_type": "code",
   "execution_count": 49,
   "metadata": {
    "collapsed": false
   },
   "outputs": [],
   "source": [
    "def get_emoji_proportion(comments, emoji_from_coms=None, repetition=True):\n",
    "    emoji_proportion = [] \n",
    "    func = lambda com: get_emoji(com, repetition)\n",
    "    if not emoji_from_coms:\n",
    "        emoji_from_coms = list(map(func, comments))\n",
    "    \n",
    "    for i in range(len(comments)):\n",
    "        com = re.sub(' *', '', comments[i])\n",
    "        emoji_proportion.append(len(emoji_from_coms[i]) / len(com))\n",
    "    return np.array(emoji_proportion)"
   ]
  },
  {
   "cell_type": "code",
   "execution_count": 50,
   "metadata": {
    "collapsed": false
   },
   "outputs": [
    {
     "data": {
      "text/plain": [
       "array([ 1.])"
      ]
     },
     "execution_count": 50,
     "metadata": {},
     "output_type": "execute_result"
    }
   ],
   "source": [
    "get_emoji_proportion(['🔥 🔥 🔥 👏 😊'])"
   ]
  },
  {
   "cell_type": "code",
   "execution_count": 51,
   "metadata": {
    "collapsed": false
   },
   "outputs": [
    {
     "data": {
      "text/plain": [
       "array([ 0.6])"
      ]
     },
     "execution_count": 51,
     "metadata": {},
     "output_type": "execute_result"
    }
   ],
   "source": [
    "get_emoji_proportion(['🔥 🔥 🔥 👏 😊'], repetition=False)"
   ]
  },
  {
   "cell_type": "code",
   "execution_count": 52,
   "metadata": {
    "collapsed": true
   },
   "outputs": [],
   "source": [
    "em_proportion_rep = get_emoji_proportion(comments_list, emoji_from_comments_rep)"
   ]
  },
  {
   "cell_type": "code",
   "execution_count": 53,
   "metadata": {
    "collapsed": true
   },
   "outputs": [],
   "source": [
    "em_proportion_no_rep = get_emoji_proportion(comments_list, emoji_from_comments_no_rep)"
   ]
  },
  {
   "cell_type": "markdown",
   "metadata": {},
   "source": [
    "### With repetition"
   ]
  },
  {
   "cell_type": "code",
   "execution_count": 54,
   "metadata": {
    "collapsed": false
   },
   "outputs": [
    {
     "data": {
      "text/plain": [
       "18"
      ]
     },
     "execution_count": 54,
     "metadata": {},
     "output_type": "execute_result"
    }
   ],
   "source": [
    "(em_proportion_rep > 0.25).sum()"
   ]
  },
  {
   "cell_type": "code",
   "execution_count": 55,
   "metadata": {
    "collapsed": false
   },
   "outputs": [
    {
     "data": {
      "text/plain": [
       "array(['🐈 🐈 🐈 🐈 🐈 🐈', 'го CS 1.6 👍 👍 👍',\n",
       "       'Скоро, уже совсем скоро! 👙👓🐠🐟☀☀☀🏊⛵✈', '-тся  и - ться! 😁😩😖🔫',\n",
       "       '😆 😆 😆 😆 капееец', 'даааааааааааааааааа 💜 💛 💚 💝 💞 💗 💙',\n",
       "       '😭 😭 😭 😭 я в тебя верю',\n",
       "       '😎 😎 😎 😎 😎 ❤ ❤ ❤ ❤ ❤ ❤ ❤ ❤ ❤ ❤ ❤ ❤ романтикаааааааааааааааа',\n",
       "       '😆 😆 😆 😆 😆 😆 😆 😆 😆 😆', '😂 😂 😂 😂 😂 😂 😂',\n",
       "       'Доброе утро, страна!!! 😊 🍐 🍏 🍓 🍋 🍍 🍒', 'Милота!  😜  😆  😆  😆',\n",
       "       '15м2 одна яма ????? 😱 😱 😱 😱 😱 😱', '😊 😊 😊 😊 Смешно!', '😢 😭 😭 😭 😭',\n",
       "       'фотка - супер 👍  👍  👍  👍', 'е мае 😃 😃 😃', 'Красотища) 🍁 🍂 🌳 🌲'], dtype=object)"
      ]
     },
     "execution_count": 55,
     "metadata": {},
     "output_type": "execute_result"
    }
   ],
   "source": [
    "comments_list[em_proportion_rep > 0.25][:20]"
   ]
  },
  {
   "cell_type": "markdown",
   "metadata": {},
   "source": [
    "### Without repetition"
   ]
  },
  {
   "cell_type": "code",
   "execution_count": 56,
   "metadata": {
    "collapsed": false
   },
   "outputs": [
    {
     "data": {
      "text/plain": [
       "39"
      ]
     },
     "execution_count": 56,
     "metadata": {},
     "output_type": "execute_result"
    }
   ],
   "source": [
    "(em_proportion_no_rep > 0.1).sum()"
   ]
  },
  {
   "cell_type": "code",
   "execution_count": 57,
   "metadata": {
    "collapsed": false
   },
   "outputs": [
    {
     "data": {
      "text/plain": [
       "array(['😂😂😂😂😂ужас ну это уже внукам', 'Make love, not war👫👌👈 👍🔞',\n",
       "       'Только не у меня, 4-вых. 5- раб, 6-вых, ху.,я какая то 👿👿👿👿👿👿👿👿👿👿👿👿👿👿',\n",
       "       'ни разу такого не было ☝ ☝ ☝ 😃 😂', 'Вот это любовь 😃 😂 😂 😂',\n",
       "       'киберсиси...а чё...прикольно☺ киберсиси😁 кибер, мать его, сиси 😂😂😂👍👍👍',\n",
       "       '[id32993755|Ксения], 😆😆😆😆😆😆 какой милый максимализм👍',\n",
       "       '[id178809329|Дарія], 😆  😆  😆  😆', '🐈 🐈 🐈 🐈 🐈 🐈', 'го CS 1.6 👍 👍 👍',\n",
       "       'Ааа \" Гроза домашних животных\".... 😂😂😂😂',\n",
       "       '[id234931816|Marat], 🔞 🔞 🔞 🔞 🔞',\n",
       "       'Приветы, удачно погудеть этой ночью!!!🙏😄😄😄',\n",
       "       '[id174813903|Виктория], > просто это ВК а не дипломная работа😉\\nРоссия встанет с колен, когда такие, как Вы, передохнут \\n😉😉😉😉😉😉😉😉😉😉😉😉😉😉😉😉😉😉😉😉😉😉😉',\n",
       "       'Пяяятница привет!! Доброе утро всем!!👍👍👍☺',\n",
       "       'С Новым Годом, Екатеринбург. 🎁 Привет из Севастополя! ❄ 🍊 🍷 🍸 ✌ 🇷🇺',\n",
       "       'А я завтра улетаю 💃💃💃в лето! ☀☀☀', 'А потом я вас разыграю 😂😂😂',\n",
       "       'Скоро, уже совсем скоро! 👙👓🐠🐟☀☀☀🏊⛵✈',\n",
       "       'С днем пограничника, ребята! 🍷🍻🚬😊'], dtype=object)"
      ]
     },
     "execution_count": 57,
     "metadata": {},
     "output_type": "execute_result"
    }
   ],
   "source": [
    "comments_list[em_proportion_rep > 0.1][:20]"
   ]
  },
  {
   "cell_type": "markdown",
   "metadata": {},
   "source": [
    "### Proportion of alphabetical symbols"
   ]
  },
  {
   "cell_type": "code",
   "execution_count": 58,
   "metadata": {
    "collapsed": false
   },
   "outputs": [],
   "source": [
    "def get_abc_proportion(comments):\n",
    "    abc_proportion = []     \n",
    "    for i in range(len(comments)):\n",
    "        com = re.sub(' *', '', comments[i])\n",
    "        abc = re.findall('[а-яёa-z]', com, flags=re.IGNORECASE)\n",
    "        abc_proportion.append(len(abc) / len(com))\n",
    "    return np.array(abc_proportion)"
   ]
  },
  {
   "cell_type": "code",
   "execution_count": 59,
   "metadata": {
    "collapsed": false
   },
   "outputs": [],
   "source": [
    "abc_proportion = get_abc_proportion(comments_list)"
   ]
  },
  {
   "cell_type": "code",
   "execution_count": 60,
   "metadata": {
    "collapsed": false
   },
   "outputs": [
    {
     "data": {
      "text/plain": [
       "array([ 0.96153846,  0.75      ,  0.95774648,  0.77192982,  0.6744186 ,\n",
       "        0.68627451,  0.76666667,  0.88288288,  0.90909091,  0.9787234 ])"
      ]
     },
     "execution_count": 60,
     "metadata": {},
     "output_type": "execute_result"
    }
   ],
   "source": [
    "abc_proportion[:10]"
   ]
  },
  {
   "cell_type": "code",
   "execution_count": 61,
   "metadata": {
    "collapsed": false
   },
   "outputs": [
    {
     "data": {
      "text/plain": [
       "48"
      ]
     },
     "execution_count": 61,
     "metadata": {},
     "output_type": "execute_result"
    }
   ],
   "source": [
    "sum(abc_proportion < 0.4)"
   ]
  },
  {
   "cell_type": "code",
   "execution_count": 62,
   "metadata": {
    "collapsed": false
   },
   "outputs": [
    {
     "data": {
      "text/plain": [
       "array(['У меня встал в 7..................', '1 или 3 ? =))',\n",
       "       '[id178809329|Дарія], 😆  😆  😆  😆', '🐈 🐈 🐈 🐈 🐈 🐈',\n",
       "       '[id153783519|Денис], CS 1.6 ? 😃 😆',\n",
       "       '[id234931816|Marat], 🔞 🔞 🔞 🔞 🔞', 'П ы л ь ц а...............',\n",
       "       '[id757577|Андрей], 😂 😂 😂 👍',\n",
       "       '[id50666528|Павел], USB 1.0, 2.0 и 3.0', '4 8 15 16 23 42',\n",
       "       'Не к 2018, а к 2118.', 'С Праздником!!!!!!!!!!!!!!!!!!! 🇷🇺 🇷🇺 🇷🇺',\n",
       "       '8-912-903-64-95 в 6 жду звонка)))', '[id17574944|Влад], 😊 ☺ ☺ ☺',\n",
       "       '[id17574944|Влад], 😊 ☺ ☺ 👅 😆',\n",
       "       '[id52522328|Саша], 😦 😮 😮 😮 зачем!?',\n",
       "       'цена какая за 1кг ?????????????????????????????????',\n",
       "       '[id271976133|Влад], 😆 😆 👍 👍 👍', '[id222997111|Денис], ✌ ✌ ✌ ✌',\n",
       "       '[id208959482|Алёна], 😎 😎 ✌ ✌'], dtype=object)"
      ]
     },
     "execution_count": 62,
     "metadata": {},
     "output_type": "execute_result"
    }
   ],
   "source": [
    "comments_list[abc_proportion < 0.4][:20]"
   ]
  },
  {
   "cell_type": "markdown",
   "metadata": {},
   "source": [
    "### Filling DataFrame"
   ]
  },
  {
   "cell_type": "code",
   "execution_count": 63,
   "metadata": {
    "collapsed": false
   },
   "outputs": [],
   "source": [
    "comments['emojis'] = [' '.join(e) for e in emoji_from_comments_rep]"
   ]
  },
  {
   "cell_type": "code",
   "execution_count": 64,
   "metadata": {
    "collapsed": false
   },
   "outputs": [],
   "source": [
    "comments['em_proportion_rep'] = em_proportion_rep"
   ]
  },
  {
   "cell_type": "code",
   "execution_count": 65,
   "metadata": {
    "collapsed": true
   },
   "outputs": [],
   "source": [
    "comments['em_proportion_no_rep'] = em_proportion_no_rep"
   ]
  },
  {
   "cell_type": "code",
   "execution_count": 66,
   "metadata": {
    "collapsed": true
   },
   "outputs": [],
   "source": [
    "comments['abc_proportion'] = abc_proportion"
   ]
  },
  {
   "cell_type": "code",
   "execution_count": 67,
   "metadata": {
    "collapsed": false
   },
   "outputs": [
    {
     "data": {
      "text/html": [
       "<div>\n",
       "<table border=\"1\" class=\"dataframe\">\n",
       "  <thead>\n",
       "    <tr style=\"text-align: right;\">\n",
       "      <th></th>\n",
       "      <th>from_id</th>\n",
       "      <th>text</th>\n",
       "      <th>is_gum</th>\n",
       "      <th>hour</th>\n",
       "      <th>likes</th>\n",
       "      <th>sex</th>\n",
       "      <th>emojis</th>\n",
       "      <th>em_proportion_rep</th>\n",
       "      <th>em_proportion_no_rep</th>\n",
       "      <th>abc_proportion</th>\n",
       "    </tr>\n",
       "  </thead>\n",
       "  <tbody>\n",
       "    <tr>\n",
       "      <th>0</th>\n",
       "      <td>56343863</td>\n",
       "      <td>Я один не вижу её в подписчиках?</td>\n",
       "      <td>0.0</td>\n",
       "      <td>21</td>\n",
       "      <td>0</td>\n",
       "      <td>2</td>\n",
       "      <td></td>\n",
       "      <td>0.0</td>\n",
       "      <td>0.0</td>\n",
       "      <td>0.961538</td>\n",
       "    </tr>\n",
       "    <tr>\n",
       "      <th>1</th>\n",
       "      <td>4901340</td>\n",
       "      <td>[id262927831|Семён], ей даже за бабки никто св...</td>\n",
       "      <td>0.0</td>\n",
       "      <td>8</td>\n",
       "      <td>1</td>\n",
       "      <td>2</td>\n",
       "      <td></td>\n",
       "      <td>0.0</td>\n",
       "      <td>0.0</td>\n",
       "      <td>0.750000</td>\n",
       "    </tr>\n",
       "    <tr>\n",
       "      <th>2</th>\n",
       "      <td>4901340</td>\n",
       "      <td>Ебаные дибилы дело блять не в растает,а темпер...</td>\n",
       "      <td>0.0</td>\n",
       "      <td>8</td>\n",
       "      <td>31</td>\n",
       "      <td>2</td>\n",
       "      <td></td>\n",
       "      <td>0.0</td>\n",
       "      <td>0.0</td>\n",
       "      <td>0.957746</td>\n",
       "    </tr>\n",
       "    <tr>\n",
       "      <th>3</th>\n",
       "      <td>4901340</td>\n",
       "      <td>[id4071604|Марина], да не гребу,я чисто кто в ...</td>\n",
       "      <td>0.0</td>\n",
       "      <td>8</td>\n",
       "      <td>0</td>\n",
       "      <td>2</td>\n",
       "      <td></td>\n",
       "      <td>0.0</td>\n",
       "      <td>0.0</td>\n",
       "      <td>0.771930</td>\n",
       "    </tr>\n",
       "    <tr>\n",
       "      <th>5</th>\n",
       "      <td>4901340</td>\n",
       "      <td>[id131746820|Оля], я выше написал,что не обобщил</td>\n",
       "      <td>0.0</td>\n",
       "      <td>9</td>\n",
       "      <td>0</td>\n",
       "      <td>2</td>\n",
       "      <td></td>\n",
       "      <td>0.0</td>\n",
       "      <td>0.0</td>\n",
       "      <td>0.674419</td>\n",
       "    </tr>\n",
       "  </tbody>\n",
       "</table>\n",
       "</div>"
      ],
      "text/plain": [
       "    from_id                                               text  is_gum  hour  \\\n",
       "0  56343863                   Я один не вижу её в подписчиках?     0.0    21   \n",
       "1   4901340  [id262927831|Семён], ей даже за бабки никто св...     0.0     8   \n",
       "2   4901340  Ебаные дибилы дело блять не в растает,а темпер...     0.0     8   \n",
       "3   4901340  [id4071604|Марина], да не гребу,я чисто кто в ...     0.0     8   \n",
       "5   4901340   [id131746820|Оля], я выше написал,что не обобщил     0.0     9   \n",
       "\n",
       "   likes  sex emojis  em_proportion_rep  em_proportion_no_rep  abc_proportion  \n",
       "0      0    2                       0.0                   0.0        0.961538  \n",
       "1      1    2                       0.0                   0.0        0.750000  \n",
       "2     31    2                       0.0                   0.0        0.957746  \n",
       "3      0    2                       0.0                   0.0        0.771930  \n",
       "5      0    2                       0.0                   0.0        0.674419  "
      ]
     },
     "execution_count": 67,
     "metadata": {},
     "output_type": "execute_result"
    }
   ],
   "source": [
    "comments.head(5)"
   ]
  },
  {
   "cell_type": "markdown",
   "metadata": {},
   "source": [
    "#### If message repeats more than one time - drop (spam)"
   ]
  },
  {
   "cell_type": "code",
   "execution_count": 68,
   "metadata": {
    "collapsed": false
   },
   "outputs": [
    {
     "name": "stdout",
     "output_type": "stream",
     "text": [
      "112 different spam comments\n"
     ]
    }
   ],
   "source": [
    "print('{} different spam comments'.format((comments.text.value_counts() > 1).sum()))"
   ]
  },
  {
   "cell_type": "code",
   "execution_count": 69,
   "metadata": {
    "collapsed": false
   },
   "outputs": [
    {
     "name": "stdout",
     "output_type": "stream",
     "text": [
      "287 total count of spam comments\n"
     ]
    }
   ],
   "source": [
    "print('{} total count of spam comments'\n",
    "      .format(comments.text.value_counts()[comments.text.value_counts() > 1].values.sum()))"
   ]
  },
  {
   "cell_type": "markdown",
   "metadata": {},
   "source": [
    "### Dropping outlier"
   ]
  },
  {
   "cell_type": "code",
   "execution_count": 70,
   "metadata": {
    "collapsed": false
   },
   "outputs": [],
   "source": [
    "spam_comments = comments.text.value_counts()[comments.text.value_counts() > 1].keys()"
   ]
  },
  {
   "cell_type": "code",
   "execution_count": 71,
   "metadata": {
    "collapsed": false
   },
   "outputs": [],
   "source": [
    "comments = comments[comments.text.apply(lambda t: t not in spam_comments)]"
   ]
  },
  {
   "cell_type": "code",
   "execution_count": 72,
   "metadata": {
    "collapsed": true
   },
   "outputs": [],
   "source": [
    "index_to_del = comments[(comments.em_proportion_rep > 0.25) | (comments.abc_proportion < 0.4) | \n",
    "                        (comments.text.value_counts() != 1)].index"
   ]
  },
  {
   "cell_type": "code",
   "execution_count": 73,
   "metadata": {
    "collapsed": false
   },
   "outputs": [
    {
     "data": {
      "text/plain": [
       "(61,)"
      ]
     },
     "execution_count": 73,
     "metadata": {},
     "output_type": "execute_result"
    }
   ],
   "source": [
    "index_to_del.shape"
   ]
  },
  {
   "cell_type": "code",
   "execution_count": 74,
   "metadata": {
    "collapsed": false
   },
   "outputs": [],
   "source": [
    "comments.drop(index_to_del, inplace=True)"
   ]
  },
  {
   "cell_type": "code",
   "execution_count": 75,
   "metadata": {
    "collapsed": false
   },
   "outputs": [
    {
     "data": {
      "text/plain": [
       "(69974, 10)"
      ]
     },
     "execution_count": 75,
     "metadata": {},
     "output_type": "execute_result"
    }
   ],
   "source": [
    "comments.shape"
   ]
  },
  {
   "cell_type": "code",
   "execution_count": 76,
   "metadata": {
    "collapsed": true
   },
   "outputs": [],
   "source": [
    "comments_list = comments.text.values"
   ]
  },
  {
   "cell_type": "markdown",
   "metadata": {},
   "source": [
    "### Replacing id"
   ]
  },
  {
   "cell_type": "code",
   "execution_count": 77,
   "metadata": {
    "collapsed": false
   },
   "outputs": [],
   "source": [
    "comments_list = []\n",
    "for comment in comments.text.values:\n",
    "    c = comment.split()\n",
    "    if c[0].startswith('[id'):\n",
    "        c[0] = 'adddresssation'\n",
    "    c_ = []\n",
    "    for w in c:\n",
    "        if w.startswith('id'):\n",
    "            c_.append('adddresssation')\n",
    "        else:\n",
    "            c_.append(w)\n",
    "    comments_list.append(' '.join(c))\n",
    "comments_list = np.array(comments_list)"
   ]
  },
  {
   "cell_type": "code",
   "execution_count": 78,
   "metadata": {
    "collapsed": false
   },
   "outputs": [
    {
     "data": {
      "text/plain": [
       "array(['Я один не вижу её в подписчиках?',\n",
       "       'adddresssation ей даже за бабки никто свой член не даст',\n",
       "       'Ебаные дибилы дело блять не в растает,а температуре и свойстве резины,плюс наледи,бараны ебаные,ладно телки в этом деле тупорогие,но за парней обидно,что они ебланы',\n",
       "       'adddresssation да не гребу,я чисто кто в этой теме,не обобщаю',\n",
       "       'adddresssation я выше написал,что не обобщил'], \n",
       "      dtype='<U465')"
      ]
     },
     "execution_count": 78,
     "metadata": {},
     "output_type": "execute_result"
    }
   ],
   "source": [
    "comments_list[:5]"
   ]
  },
  {
   "cell_type": "code",
   "execution_count": 79,
   "metadata": {
    "collapsed": true
   },
   "outputs": [],
   "source": [
    "comments_lenghts = np.array([len(m) for m in comments_list])"
   ]
  },
  {
   "cell_type": "markdown",
   "metadata": {},
   "source": [
    "## Clearing comments"
   ]
  },
  {
   "cell_type": "code",
   "execution_count": 80,
   "metadata": {
    "collapsed": true
   },
   "outputs": [],
   "source": [
    "y = comments.is_gum.values"
   ]
  },
  {
   "cell_type": "code",
   "execution_count": 81,
   "metadata": {
    "collapsed": true
   },
   "outputs": [],
   "source": [
    "adj_proportion = []"
   ]
  },
  {
   "cell_type": "code",
   "execution_count": 82,
   "metadata": {
    "collapsed": true
   },
   "outputs": [],
   "source": [
    "errors = []"
   ]
  },
  {
   "cell_type": "code",
   "execution_count": 83,
   "metadata": {
    "collapsed": true
   },
   "outputs": [],
   "source": [
    "def clear_comments(comments, with_stemmer=False, with_lemmer=False, to_lower=True, without_names=False,\n",
    "                without_stop_words=False, min_word_len=None, with_emoji=False):\n",
    "    global adj_proportion\n",
    "    global errors \n",
    "    adj_proportion = []\n",
    "    errors = []\n",
    "    clear_comments = []\n",
    "    stop_words = set(get_stop_words('ru'))\n",
    "    stemmer = Stemmer.Stemmer('russian')\n",
    "    lemmer = pymorphy2.MorphAnalyzer()\n",
    "    \n",
    "    names_del = 0\n",
    "    i = -1\n",
    "    for comment in comments:\n",
    "        comment_ = comment\n",
    "        i += 1\n",
    "        if to_lower:\n",
    "            comment = comment.lower()\n",
    "        comment = re.sub('[^а-яА-ЯёЁa-zA-Z\\-]', ' ', comment)\n",
    "        comment = comment.split()\n",
    "        if without_stop_words:\n",
    "            comment = [c for c in comment if c not in stop_words]\n",
    "        if with_stemmer:\n",
    "            comment = stemmer.stemWords(comment)\n",
    "            if without_names:\n",
    "                with open('names_from_sent.txt', 'r') as f:\n",
    "                    names = f.readlines()\n",
    "                    names = set([name.strip() for name in names])\n",
    "                before = len(comment)\n",
    "                comment = [c for c in comment if c not in names]\n",
    "                aft = len(comment)\n",
    "                names_del += before - aft\n",
    "        elif with_lemmer:\n",
    "            parsed = [lemmer.parse(c)[0] for c in comment]\n",
    "            comment = [p.normal_form for p in parsed]\n",
    "            adj = sum([1 for p in parsed if 'ADJ' in str(p.tag)])\n",
    "            if len(comment) == 0:\n",
    "                errors.append(comment_)\n",
    "                adj_proportion.append(0)\n",
    "            else:\n",
    "                adj_proportion.append(adj / len(comment))\n",
    "            if without_names:\n",
    "                with open('names.txt', 'r') as f:\n",
    "                    names = f.readlines()\n",
    "                    names = set([name.strip() for name in names])\n",
    "                    before = len(comment)\n",
    "                    comment = [c for c in comment if c not in names]\n",
    "                    aft = len(comment)\n",
    "                    names_del += before - aft\n",
    "        if min_word_len is not None:\n",
    "            comment = [c for c in comment if len(c) >= min_word_len]\n",
    "        if with_emoji:\n",
    "            comment.extend(emoji_from_comments_rep[i])\n",
    "        clear_comments.append(' '.join(comment))\n",
    "    print('names del: {}'.format(names_del))\n",
    "    return clear_comments"
   ]
  },
  {
   "cell_type": "markdown",
   "metadata": {},
   "source": [
    "### Char"
   ]
  },
  {
   "cell_type": "code",
   "execution_count": 137,
   "metadata": {
    "collapsed": false
   },
   "outputs": [
    {
     "name": "stdout",
     "output_type": "stream",
     "text": [
      "names del: 0\n",
      "CPU times: user 1.2 s, sys: 0 ns, total: 1.2 s\n",
      "Wall time: 1.25 s\n"
     ]
    }
   ],
   "source": [
    "%%time\n",
    "clear_coms = clear_comments(comments_list, min_word_len=2, with_emoji=False, with_stemmer=False,\n",
    "                            with_lemmer=False, without_names=True, without_stop_words=False)"
   ]
  },
  {
   "cell_type": "code",
   "execution_count": 138,
   "metadata": {
    "collapsed": false
   },
   "outputs": [
    {
     "data": {
      "text/plain": [
       "['adddresssation ты про чайковского',\n",
       " 'adddresssation это от областников поганых не проехать утра со всех трасс такой поток съезжается ездили бы только местные было бы очень свободно',\n",
       " 'куда не копни все охуено',\n",
       " 'ничего не изменилось очень слабая урбанизация',\n",
       " 'что она после олимпиады выйграла за года']"
      ]
     },
     "execution_count": 138,
     "metadata": {},
     "output_type": "execute_result"
    }
   ],
   "source": [
    "clear_coms[10:15]"
   ]
  },
  {
   "cell_type": "code",
   "execution_count": 139,
   "metadata": {
    "collapsed": false
   },
   "outputs": [
    {
     "name": "stdout",
     "output_type": "stream",
     "text": [
      "CPU times: user 4.92 s, sys: 20 ms, total: 4.94 s\n",
      "Wall time: 4.94 s\n"
     ]
    }
   ],
   "source": [
    "%%time\n",
    "vectorizer = CountVectorizer(max_features=3000, min_df=50, ngram_range=(3, 3), analyzer='char_wb')\n",
    "char_features = vectorizer.fit_transform(clear_coms)"
   ]
  },
  {
   "cell_type": "code",
   "execution_count": 120,
   "metadata": {
    "collapsed": false
   },
   "outputs": [
    {
     "data": {
      "text/plain": [
       "array(['езт', 'ай ', ' ге', 'зык', 'жде', 'выр', 'азн', ' сч', 'емя',\n",
       "       'дик', 'бще', ' 😃 ', 'кил', 'еше', ' ам', ' фу', 'ема', ' мя',\n",
       "       'имо', 'ежи', 'ави', 'бст', 'баб', 'гор', 'зык', 'дру', 'ion',\n",
       "       'гот', 'зап', 'изв', 'жно', 'вер', ' уб', 'арш', 'гад', ' не',\n",
       "       'еня', ' лю', ' пл', 'ате', 'арь', 'ера', 'зап', 'ети', 'вит',\n",
       "       'вое', 'анд', ' ср', 'кал', 'бен'], \n",
       "      dtype='<U3')"
      ]
     },
     "execution_count": 120,
     "metadata": {},
     "output_type": "execute_result"
    }
   ],
   "source": [
    "np.array(vectorizer.get_feature_names())[np.random.randint(0, 1000, 50)]"
   ]
  },
  {
   "cell_type": "markdown",
   "metadata": {},
   "source": [
    "### Word"
   ]
  },
  {
   "cell_type": "code",
   "execution_count": 168,
   "metadata": {
    "collapsed": false
   },
   "outputs": [
    {
     "name": "stdout",
     "output_type": "stream",
     "text": [
      "names del: 4794\n",
      "CPU times: user 13min 10s, sys: 10.3 s, total: 13min 20s\n",
      "Wall time: 14min 16s\n"
     ]
    }
   ],
   "source": [
    "%%time\n",
    "clear_coms = clear_comments(comments_list, min_word_len=3, with_emoji=True, with_stemmer=False,\n",
    "                            with_lemmer=True, without_names=True, without_stop_words=False)"
   ]
  },
  {
   "cell_type": "code",
   "execution_count": 89,
   "metadata": {
    "collapsed": false
   },
   "outputs": [
    {
     "data": {
      "text/plain": [
       "[]"
      ]
     },
     "execution_count": 89,
     "metadata": {},
     "output_type": "execute_result"
    }
   ],
   "source": [
    "errors"
   ]
  },
  {
   "cell_type": "code",
   "execution_count": 90,
   "metadata": {
    "collapsed": false
   },
   "outputs": [
    {
     "data": {
      "text/plain": [
       "['adddresssation про чайковский',\n",
       " 'adddresssation это областник поганый проехать утро весь трасса такой поток съезжаться ездить только местный быть очень свободно',\n",
       " 'куда копнить весь охуить',\n",
       " 'ничто измениться очень слабый урбанизация',\n",
       " 'что она после олимпиада выйграло год']"
      ]
     },
     "execution_count": 90,
     "metadata": {},
     "output_type": "execute_result"
    }
   ],
   "source": [
    "clear_coms[10:15]"
   ]
  },
  {
   "cell_type": "code",
   "execution_count": 91,
   "metadata": {
    "collapsed": false
   },
   "outputs": [
    {
     "data": {
      "text/plain": [
       "[0.25, 0.17391304347826086, 0.2, 0.16666666666666666, 0.0]"
      ]
     },
     "execution_count": 91,
     "metadata": {},
     "output_type": "execute_result"
    }
   ],
   "source": [
    "adj_proportion[10:15]"
   ]
  },
  {
   "cell_type": "code",
   "execution_count": 136,
   "metadata": {
    "collapsed": false
   },
   "outputs": [
    {
     "name": "stdout",
     "output_type": "stream",
     "text": [
      "CPU times: user 9.01 s, sys: 52 ms, total: 9.06 s\n",
      "Wall time: 9.06 s\n"
     ]
    }
   ],
   "source": [
    "%%time\n",
    "vectorizer = CountVectorizer(max_features=3000, min_df=50, ngram_range=(1, 3), analyzer='word')\n",
    "word_features = vectorizer.fit_transform(clear_coms)"
   ]
  },
  {
   "cell_type": "code",
   "execution_count": 122,
   "metadata": {
    "collapsed": false
   },
   "outputs": [
    {
     "data": {
      "text/plain": [
       "array(['для это', 'жизнь', 'adddresssation чем', 'давно уже', 'быть очень',\n",
       "       'интересный', 'лёд', 'мег', 'adddresssation такой', 'комп',\n",
       "       'весь хорошо', 'лечь', 'водитель', 'вода', 'выше',\n",
       "       'adddresssation никто', 'месяц', 'вставать', 'брать', 'зайти'], \n",
       "      dtype='<U25')"
      ]
     },
     "execution_count": 122,
     "metadata": {},
     "output_type": "execute_result"
    }
   ],
   "source": [
    "np.array(vectorizer.get_feature_names())[np.random.randint(0, 1000, 20)]"
   ]
  },
  {
   "cell_type": "code",
   "execution_count": 94,
   "metadata": {
    "collapsed": false
   },
   "outputs": [
    {
     "data": {
      "text/plain": [
       "((69974, 1000), (69974, 1000))"
      ]
     },
     "execution_count": 94,
     "metadata": {},
     "output_type": "execute_result"
    }
   ],
   "source": [
    "char_features.shape, word_features.shape"
   ]
  },
  {
   "cell_type": "code",
   "execution_count": 79,
   "metadata": {
    "collapsed": true
   },
   "outputs": [],
   "source": [
    "from sklearn import naive_bayes, neighbors, ensemble"
   ]
  },
  {
   "cell_type": "code",
   "execution_count": 78,
   "metadata": {
    "collapsed": true
   },
   "outputs": [],
   "source": [
    "lr = naive_bayes.MultinomialNB()"
   ]
  },
  {
   "cell_type": "code",
   "execution_count": 180,
   "metadata": {
    "collapsed": false
   },
   "outputs": [],
   "source": [
    "lr = ensemble.RandomForestClassifier(10, min_samples_leaf=3, max_features=0.8, n_jobs=-1)"
   ]
  },
  {
   "cell_type": "code",
   "execution_count": 266,
   "metadata": {
    "collapsed": true
   },
   "outputs": [],
   "source": [
    "lr = ensemble.GradientBoostingClassifier()"
   ]
  },
  {
   "cell_type": "code",
   "execution_count": 89,
   "metadata": {
    "collapsed": true
   },
   "outputs": [],
   "source": [
    "lr = lm.LogisticRegression()"
   ]
  },
  {
   "cell_type": "code",
   "execution_count": 124,
   "metadata": {
    "collapsed": true
   },
   "outputs": [],
   "source": [
    "np.random.seed(0)"
   ]
  },
  {
   "cell_type": "code",
   "execution_count": 76,
   "metadata": {
    "collapsed": false
   },
   "outputs": [
    {
     "name": "stdout",
     "output_type": "stream",
     "text": [
      "0.516760322702 0.0102954889703\n",
      "CPU times: user 5.72 s, sys: 4 ms, total: 5.72 s\n",
      "Wall time: 5.72 s\n"
     ]
    }
   ],
   "source": [
    "%%time\n",
    "baseline_scores = cross_val_score(lr, word_features, y, cv=5)\n",
    "print(baseline_scores.mean(), baseline_scores.std())"
   ]
  },
  {
   "cell_type": "code",
   "execution_count": 77,
   "metadata": {
    "collapsed": false
   },
   "outputs": [
    {
     "name": "stdout",
     "output_type": "stream",
     "text": [
      "0.529098666097 0.00914137273099\n",
      "CPU times: user 37.9 s, sys: 156 ms, total: 38 s\n",
      "Wall time: 38 s\n"
     ]
    }
   ],
   "source": [
    "%%time\n",
    "baseline_scores = cross_val_score(lr, char_features, y, cv=5)\n",
    "print(baseline_scores.mean(), baseline_scores.std())"
   ]
  },
  {
   "cell_type": "code",
   "execution_count": 101,
   "metadata": {
    "collapsed": true
   },
   "outputs": [],
   "source": [
    "from scipy import sparse"
   ]
  },
  {
   "cell_type": "code",
   "execution_count": 102,
   "metadata": {
    "collapsed": false
   },
   "outputs": [],
   "source": [
    "word_char_features = sparse.hstack((word_features, char_features))"
   ]
  },
  {
   "cell_type": "code",
   "execution_count": 103,
   "metadata": {
    "collapsed": false
   },
   "outputs": [
    {
     "data": {
      "text/plain": [
       "(111920, 2000)"
      ]
     },
     "execution_count": 103,
     "metadata": {},
     "output_type": "execute_result"
    }
   ],
   "source": [
    "word_char_features.shape"
   ]
  },
  {
   "cell_type": "code",
   "execution_count": 81,
   "metadata": {
    "collapsed": false
   },
   "outputs": [
    {
     "name": "stdout",
     "output_type": "stream",
     "text": [
      "0.528697488912 0.00809228277877\n",
      "CPU times: user 45.8 s, sys: 172 ms, total: 45.9 s\n",
      "Wall time: 45.9 s\n"
     ]
    }
   ],
   "source": [
    "%%time\n",
    "baseline_scores = cross_val_score(lr, word_char_features, y, cv=5)\n",
    "print(baseline_scores.mean(), baseline_scores.std())"
   ]
  },
  {
   "cell_type": "code",
   "execution_count": 81,
   "metadata": {
    "collapsed": false
   },
   "outputs": [
    {
     "name": "stdout",
     "output_type": "stream",
     "text": [
      "CPU times: user 8min 12s, sys: 144 ms, total: 8min 12s\n",
      "Wall time: 2min 5s\n"
     ]
    },
    {
     "data": {
      "text/plain": [
       "RandomForestClassifier(bootstrap=True, class_weight=None, criterion='gini',\n",
       "            max_depth=None, max_features=0.8, max_leaf_nodes=None,\n",
       "            min_samples_leaf=3, min_samples_split=2,\n",
       "            min_weight_fraction_leaf=0.0, n_estimators=20, n_jobs=-1,\n",
       "            oob_score=False, random_state=None, verbose=0,\n",
       "            warm_start=False)"
      ]
     },
     "execution_count": 81,
     "metadata": {},
     "output_type": "execute_result"
    }
   ],
   "source": [
    "%%time\n",
    "lr.fit(X, y)"
   ]
  },
  {
   "cell_type": "code",
   "execution_count": 82,
   "metadata": {
    "collapsed": false
   },
   "outputs": [
    {
     "data": {
      "text/plain": [
       "0.67386973776359815"
      ]
     },
     "execution_count": 82,
     "metadata": {},
     "output_type": "execute_result"
    }
   ],
   "source": [
    "lr.score(X, y)"
   ]
  },
  {
   "cell_type": "code",
   "execution_count": 83,
   "metadata": {
    "collapsed": false
   },
   "outputs": [
    {
     "data": {
      "text/plain": [
       "array([648, 765, 206, 499, 182, 183, 106, 214, 306, 870])"
      ]
     },
     "execution_count": 83,
     "metadata": {},
     "output_type": "execute_result"
    }
   ],
   "source": [
    "lr.feature_importances_.argsort()[-10:]"
   ]
  },
  {
   "cell_type": "code",
   "execution_count": 408,
   "metadata": {
    "collapsed": false
   },
   "outputs": [
    {
     "data": {
      "text/plain": [
       "462"
      ]
     },
     "execution_count": 408,
     "metadata": {},
     "output_type": "execute_result"
    }
   ],
   "source": [
    "lr.coef_.argmax()"
   ]
  },
  {
   "cell_type": "code",
   "execution_count": 84,
   "metadata": {
    "collapsed": false
   },
   "outputs": [
    {
     "data": {
      "text/plain": [
       "'прав'"
      ]
     },
     "execution_count": 84,
     "metadata": {},
     "output_type": "execute_result"
    }
   ],
   "source": [
    "vectorizer.get_feature_names()[648]"
   ]
  },
  {
   "cell_type": "code",
   "execution_count": 85,
   "metadata": {
    "collapsed": true
   },
   "outputs": [
    {
     "name": "stdout",
     "output_type": "stream",
     "text": [
      "куп\n",
      "ваш\n",
      "кажд\n",
      "хочет\n",
      "разн\n",
      "сильн\n",
      "групп\n",
      "ответ\n",
      "реальн\n",
      "голов\n",
      "равн\n",
      "тво\n",
      "собак\n",
      "поэт\n",
      "езд\n",
      "красив\n",
      "хотел\n",
      "рук\n",
      "вод\n",
      "сраз\n",
      "нужн\n",
      "чита\n",
      "еха\n",
      "дет\n",
      "главн\n",
      "суд\n",
      "автор\n",
      "личн\n",
      "никак\n",
      "жизн\n",
      "нет\n",
      "больш\n",
      "ноч\n",
      "сторон\n",
      "народ\n",
      "писа\n",
      "район\n",
      "добр\n",
      "врод\n",
      "интересн\n",
      "кстат\n",
      "счита\n",
      "утр\n",
      "деньг\n",
      "блин\n",
      "перв\n",
      "наверн\n",
      "улиц\n",
      "смотр\n",
      "мог\n",
      "муж\n",
      "вопрос\n",
      "плох\n",
      "точн\n",
      "поня\n",
      "понима\n",
      "час\n",
      "прям\n",
      "город\n",
      "мест\n",
      "девушк\n",
      "работ\n",
      "работа\n",
      "знает\n",
      "наш\n",
      "жив\n",
      "дава\n",
      "водител\n",
      "случа\n",
      "фот\n",
      "вид\n",
      "пуст\n",
      "видел\n",
      "пост\n",
      "ход\n",
      "скор\n",
      "сам\n",
      "написа\n",
      "зна\n",
      "стран\n",
      "человек\n",
      "друг\n",
      "что\n",
      "нормальн\n",
      "хорош\n",
      "слов\n",
      "говор\n",
      "сто\n",
      "сво\n",
      "дорог\n",
      "прав\n",
      "сдела\n",
      "дом\n",
      "одн\n",
      "дел\n",
      "дела\n",
      "вообщ\n",
      "дума\n",
      "как\n",
      "так\n"
     ]
    }
   ],
   "source": [
    "for w in lr.feature_importances_.argsort()[-100:]:\n",
    "    print(vectorizer.get_feature_names()[w])"
   ]
  },
  {
   "cell_type": "markdown",
   "metadata": {},
   "source": [
    "### Is the first letter of sentence upper"
   ]
  },
  {
   "cell_type": "code",
   "execution_count": 148,
   "metadata": {
    "collapsed": true
   },
   "outputs": [],
   "source": [
    "def sentence_stat(comments):\n",
    "    big_letter = []\n",
    "    sents_count = []\n",
    "    for comment in comments:\n",
    "        sents = list(segmenter.split_single(re.sub('(\\)+|\\.+)', '\\n', comment)))\n",
    "        count = sum([1 for sent in sents if sent and (sent[0].isupper() or 'adddresssation' in sent\n",
    "                                                      or (len(sent) > 1 and sent[0] == '\"' and sent[1].isupper()))])\n",
    "        total = sum([1 for sent in sents if sent.strip() != ''\n",
    "                     and re.match('.*[a-zа-яё].*', sent.strip(), flags=re.IGNORECASE)])\n",
    "        # print(count, total)\n",
    "        if total:\n",
    "            big_letter.append(count // total)\n",
    "        else:\n",
    "            big_letter.append(1)\n",
    "        sents_count.append(total)\n",
    "    return big_letter, sents_count"
   ]
  },
  {
   "cell_type": "code",
   "execution_count": 314,
   "metadata": {
    "collapsed": false
   },
   "outputs": [
    {
     "name": "stdout",
     "output_type": "stream",
     "text": [
      "None\n"
     ]
    }
   ],
   "source": [
    "print(re.match('.*[a-zа-яё].*', '', flags=re.IGNORECASE))"
   ]
  },
  {
   "cell_type": "code",
   "execution_count": 43,
   "metadata": {
    "collapsed": false
   },
   "outputs": [
    {
     "data": {
      "text/plain": [
       "([1, 0, 1, 1, 1, 1, 1, 1, 1, 1], [2, 2, 3, 3, 1, 2, 1, 1, 3, 3])"
      ]
     },
     "execution_count": 43,
     "metadata": {},
     "output_type": "execute_result"
    }
   ],
   "source": [
    "sentence_stat(comments_list[250:260])"
   ]
  },
  {
   "cell_type": "code",
   "execution_count": 282,
   "metadata": {
    "collapsed": false
   },
   "outputs": [
    {
     "data": {
      "text/plain": [
       "['adddresssation 😂😂😂да мне больше про смерть узнать как они умрууут😂😂😂😂😂',\n",
       " 'adddresssation вот и я об этом умрут все..а до смерти ещн далековато...поэтому пусть все все все что хотят то и творят...жизнь дается однажды...надо быть собой...а не скрывать свои желания..ссылаясь на стереотипы..',\n",
       " 'adddresssation если эти вопросы все мне то я б ответила просто я не курю...Просто не люблб когда осуждают людей..ну курят и курят ну выпивают иногда и что теперь..? Каждый должен делать то что ему по душе...',\n",
       " 'adddresssation на работе 😂😂😂',\n",
       " 'Отличноооо все...И погода оболден👍👍👍👍ная']"
      ]
     },
     "execution_count": 282,
     "metadata": {},
     "output_type": "execute_result"
    }
   ],
   "source": [
    "comments_list[355:360]"
   ]
  },
  {
   "cell_type": "code",
   "execution_count": 323,
   "metadata": {
    "collapsed": false
   },
   "outputs": [
    {
     "data": {
      "text/plain": [
       "[['Первый выпал еще вчера', '😂😂😂😂'],\n",
       " ['adddresssation это до матча было?'],\n",
       " ['😓😓😓😓😓блиииин жалькооо мне что делать', '?блиииин а как помочь'],\n",
       " ['Чет я не врублюсь в чем смысл ??😂😂😂😂'],\n",
       " ['adddresssation 😂😂😂😂😂😂😂какой тупизм',\n",
       "  'а что тогда происходит с не курящими?'],\n",
       " ['adddresssation 😂😂😂да мне больше про смерть узнать как они умрууут😂😂😂😂😂'],\n",
       " ['adddresssation вот и я об этом умрут все',\n",
       "  'а до смерти ещн далековато',\n",
       "  'поэтому пусть все все все что хотят то и творят',\n",
       "  'жизнь дается однажды',\n",
       "  'надо быть собой',\n",
       "  'а не скрывать свои желания',\n",
       "  'ссылаясь на стереотипы',\n",
       "  ''],\n",
       " ['adddresssation если эти вопросы все мне то я б ответила просто я не курю',\n",
       "  'Просто не люблб когда осуждают людей',\n",
       "  'ну курят и курят ну выпивают иногда и что теперь',\n",
       "  '?',\n",
       "  'Каждый должен делать то что ему по душе',\n",
       "  ''],\n",
       " ['adddresssation на работе 😂😂😂'],\n",
       " ['Отличноооо все', 'И погода оболден👍👍👍👍ная']]"
      ]
     },
     "execution_count": 323,
     "metadata": {},
     "output_type": "execute_result"
    }
   ],
   "source": [
    "[list(segmenter.split_single(re.sub('(\\)+|\\.+)', '\\n', c))) for c in comments_list[350:360]]"
   ]
  },
  {
   "cell_type": "code",
   "execution_count": 480,
   "metadata": {
    "collapsed": false
   },
   "outputs": [
    {
     "name": "stdout",
     "output_type": "stream",
     "text": [
      "CPU times: user 4.66 s, sys: 0 ns, total: 4.66 s\n",
      "Wall time: 4.66 s\n"
     ]
    }
   ],
   "source": [
    "%%time\n",
    "big_letter, sents_count = sentence_stat(comments_list)\n",
    "big_letter = np.reshape(big_letter, (-1, 1))\n",
    "sents_count = np.reshape(sents_count, (-1, 1))"
   ]
  },
  {
   "cell_type": "code",
   "execution_count": 481,
   "metadata": {
    "collapsed": false
   },
   "outputs": [
    {
     "data": {
      "text/plain": [
       "array([[1],\n",
       "       [1],\n",
       "       [2],\n",
       "       [1],\n",
       "       [2],\n",
       "       [1],\n",
       "       [7],\n",
       "       [4],\n",
       "       [1],\n",
       "       [2]])"
      ]
     },
     "execution_count": 481,
     "metadata": {},
     "output_type": "execute_result"
    }
   ],
   "source": [
    "sents_count[350:360]"
   ]
  },
  {
   "cell_type": "code",
   "execution_count": 482,
   "metadata": {
    "collapsed": false
   },
   "outputs": [
    {
     "data": {
      "text/plain": [
       "1    86835\n",
       "0    41675\n",
       "dtype: int64"
      ]
     },
     "execution_count": 482,
     "metadata": {},
     "output_type": "execute_result"
    }
   ],
   "source": [
    "pd.Series(big_letter.ravel()).value_counts()"
   ]
  },
  {
   "cell_type": "code",
   "execution_count": 487,
   "metadata": {
    "collapsed": false
   },
   "outputs": [
    {
     "name": "stdout",
     "output_type": "stream",
     "text": [
      "0.483230876975 0.0236564121478\n"
     ]
    }
   ],
   "source": [
    "baseline_scores = cross_val_score(lr, sents_count, y, cv=5)\n",
    "print(baseline_scores.mean(), baseline_scores.std())"
   ]
  },
  {
   "cell_type": "code",
   "execution_count": 277,
   "metadata": {
    "collapsed": true
   },
   "outputs": [],
   "source": [
    "comments['all_sent_upper'] = letters"
   ]
  },
  {
   "cell_type": "code",
   "execution_count": 325,
   "metadata": {
    "collapsed": false
   },
   "outputs": [
    {
     "data": {
      "text/plain": [
       "<matplotlib.axes._subplots.AxesSubplot at 0x7f740a451400>"
      ]
     },
     "execution_count": 325,
     "metadata": {},
     "output_type": "execute_result"
    },
    {
     "data": {
      "image/png": "[encoded data removed]",
      "text/plain": [
       "<matplotlib.figure.Figure at 0x7f73f3aab518>"
      ]
     },
     "metadata": {},
     "output_type": "display_data"
    }
   ],
   "source": [
    "sns.countplot(x='all_sent_upper', hue='is_gum', data=comments)"
   ]
  },
  {
   "cell_type": "markdown",
   "metadata": {},
   "source": [
    "### Punctuation count in comment"
   ]
  },
  {
   "cell_type": "code",
   "execution_count": 149,
   "metadata": {
    "collapsed": false
   },
   "outputs": [],
   "source": [
    "def punctuation_counts(comments, pattern='\\(+', partion=True):\n",
    "    if partion:\n",
    "        return [sum(len(p) for p in re.findall(pattern, c)) / len(c) * 100 for c in comments]\n",
    "    else:\n",
    "        return [1 if len(re.findall(pattern, c)) > 0 else 0 for c in comments]"
   ]
  },
  {
   "cell_type": "code",
   "execution_count": 153,
   "metadata": {
    "collapsed": false
   },
   "outputs": [
    {
     "data": {
      "text/plain": [
       "['НАТЯНУЛИ МОСКВиЧЕЙ!!! ТЕПЕРЬ МОЖНО И ДОМОЙ ИХ ОТПРАВИТЬ 💪💪💪💪💪',\n",
       " 'adddresssation не имеет значение где ЮР, ардрес то',\n",
       " 'adddresssation где СК удобнее там и проводят а поближе подороже! Могу мск то сделать 650р',\n",
       " 'Сегодня в 23:00 до 5:00 собираемся все НА АРЕНЕ и Валим там пока покрышки не сгорят... В ПРОТЕСТ СКУЧНЫМ И НУДНЫМ МУДАКАМ',\n",
       " 'adddresssation пошлиб да проявили смелость там😉',\n",
       " 'adddresssation любое ДТП есть страховой случай! И будет оплачиваться в законном порядке... А как в тебя въехали не ИМЕЕТ ЗНАЧЕНИЯ!',\n",
       " 'adddresssation что если кого то что то неустраевает пойти и решить проблему, а не писать в типичный что под их окнами газуют...У ВСЕХ ГАЗУЮТ',\n",
       " 'Норма у всех своя, а правила регулируют закон... А если так то действуй а не ори что у тебя проблема',\n",
       " 'adddresssation да будет так',\n",
       " 'Для особо одаренных есть ночные смены😀']"
      ]
     },
     "execution_count": 153,
     "metadata": {},
     "output_type": "execute_result"
    }
   ],
   "source": [
    "comments_list[:10]"
   ]
  },
  {
   "cell_type": "code",
   "execution_count": 151,
   "metadata": {
    "collapsed": false
   },
   "outputs": [],
   "source": [
    "commas = punctuation_counts(comments_list, pattern='[\\.]{2,}', partion=True)"
   ]
  },
  {
   "cell_type": "code",
   "execution_count": 158,
   "metadata": {
    "collapsed": false
   },
   "outputs": [
    {
     "data": {
      "text/plain": [
       "[60.0]"
      ]
     },
     "execution_count": 158,
     "metadata": {},
     "output_type": "execute_result"
    }
   ],
   "source": [
    "punctuation_counts(['he... w...'], pattern='[\\.]{2,}', partion=True)"
   ]
  },
  {
   "cell_type": "code",
   "execution_count": 159,
   "metadata": {
    "collapsed": false
   },
   "outputs": [
    {
     "data": {
      "text/plain": [
       "[0.0,\n",
       " 0.0,\n",
       " 0.0,\n",
       " 2.479338842975207,\n",
       " 0.0,\n",
       " 2.307692307692308,\n",
       " 2.142857142857143,\n",
       " 3.0,\n",
       " 0.0,\n",
       " 0.0]"
      ]
     },
     "execution_count": 159,
     "metadata": {},
     "output_type": "execute_result"
    }
   ],
   "source": [
    "commas[:10]"
   ]
  },
  {
   "cell_type": "code",
   "execution_count": 163,
   "metadata": {
    "collapsed": false
   },
   "outputs": [
    {
     "data": {
      "text/plain": [
       "0    107768\n",
       "1     20742\n",
       "dtype: int64"
      ]
     },
     "execution_count": 163,
     "metadata": {},
     "output_type": "execute_result"
    }
   ],
   "source": [
    "pd.Series(commas).value_counts()"
   ]
  },
  {
   "cell_type": "code",
   "execution_count": 500,
   "metadata": {
    "collapsed": false
   },
   "outputs": [],
   "source": [
    "commas = np.reshape(commas, (-1, 1))"
   ]
  },
  {
   "cell_type": "code",
   "execution_count": 533,
   "metadata": {
    "collapsed": true
   },
   "outputs": [],
   "source": [
    "lr = lm.LogisticRegression()"
   ]
  },
  {
   "cell_type": "code",
   "execution_count": 503,
   "metadata": {
    "collapsed": true
   },
   "outputs": [],
   "source": [
    "lr = ensemble.RandomForestClassifier(10)"
   ]
  },
  {
   "cell_type": "code",
   "execution_count": 504,
   "metadata": {
    "collapsed": false
   },
   "outputs": [
    {
     "name": "stdout",
     "output_type": "stream",
     "text": [
      "0.505563769356 0.0\n"
     ]
    }
   ],
   "source": [
    "baseline_scores = cross_val_score(lr, commas, y, cv=5)\n",
    "print(baseline_scores.mean(), baseline_scores.std())"
   ]
  },
  {
   "cell_type": "code",
   "execution_count": 628,
   "metadata": {
    "collapsed": true
   },
   "outputs": [],
   "source": [
    "comments['commas'] = commas"
   ]
  },
  {
   "cell_type": "code",
   "execution_count": 629,
   "metadata": {
    "collapsed": false
   },
   "outputs": [
    {
     "data": {
      "text/plain": [
       "<matplotlib.axes._subplots.AxesSubplot at 0x7f73dc8d5160>"
      ]
     },
     "execution_count": 629,
     "metadata": {},
     "output_type": "execute_result"
    },
    {
     "data": {
      "image/png": "[encoded data removed]",
      "text/plain": [
       "<matplotlib.figure.Figure at 0x7f73dc769d68>"
      ]
     },
     "metadata": {},
     "output_type": "display_data"
    }
   ],
   "source": [
    "sns.countplot(x='commas', hue='is_gum', data=comments)"
   ]
  },
  {
   "cell_type": "markdown",
   "metadata": {},
   "source": [
    "### Mean word length"
   ]
  },
  {
   "cell_type": "code",
   "execution_count": 150,
   "metadata": {
    "collapsed": true
   },
   "outputs": [],
   "source": [
    "def mean_word_length(comments):\n",
    "    lengths = []\n",
    "    for comment in comments:\n",
    "        comment = comment.lower()\n",
    "        comment = re.sub('[^а-яё\\-]', ' ', comment).split()\n",
    "        ls = [len(w) for w in comment]\n",
    "        if len(ls):\n",
    "            lengths.append(sum(ls) / len(ls))\n",
    "        else:\n",
    "            lengths.append(1)\n",
    "    return lengths"
   ]
  },
  {
   "cell_type": "code",
   "execution_count": 526,
   "metadata": {
    "collapsed": false
   },
   "outputs": [
    {
     "data": {
      "text/plain": [
       "['Все вопросы к администратору магазина! Незнания порядка не дает права вам нарушать его а жалобу можно отдать как администратору так и директору или есть такая КНИГА ЖАЛОБ',\n",
       " 'Сука 100 р по везету и Вы в любом конце',\n",
       " 'Папа новые даст не переживай😀',\n",
       " 'Это чисто две банды долбоебов как от факела так и от динамо',\n",
       " 'Сердце Егора ухнуло в пятки.']"
      ]
     },
     "execution_count": 526,
     "metadata": {},
     "output_type": "execute_result"
    }
   ],
   "source": [
    "comments_list[35:40]"
   ]
  },
  {
   "cell_type": "code",
   "execution_count": 530,
   "metadata": {
    "collapsed": false
   },
   "outputs": [
    {
     "data": {
      "text/plain": [
       "[5.296296296296297, 3.0, 4.8, 4.0, 4.6]"
      ]
     },
     "execution_count": 530,
     "metadata": {},
     "output_type": "execute_result"
    }
   ],
   "source": [
    "mean_length = mean_word_length(comments_list)\n",
    "mean_length[35:40]"
   ]
  },
  {
   "cell_type": "code",
   "execution_count": 531,
   "metadata": {
    "collapsed": false
   },
   "outputs": [],
   "source": [
    "mean_length = np.reshape(mean_length, (-1, 1))"
   ]
  },
  {
   "cell_type": "code",
   "execution_count": 534,
   "metadata": {
    "collapsed": false
   },
   "outputs": [
    {
     "name": "stdout",
     "output_type": "stream",
     "text": [
      "0.520029569683 0.0124683358375\n"
     ]
    }
   ],
   "source": [
    "baseline_scores = cross_val_score(lr, mean_length, y, cv=5)\n",
    "print(baseline_scores.mean(), baseline_scores.std())"
   ]
  },
  {
   "cell_type": "markdown",
   "metadata": {},
   "source": [
    "### Caps WORD"
   ]
  },
  {
   "cell_type": "code",
   "execution_count": 151,
   "metadata": {
    "collapsed": true
   },
   "outputs": [],
   "source": [
    "def caps_words(comments, partion=True):\n",
    "    caps = []\n",
    "    for comment in comments:\n",
    "        count = len(re.findall('[А-ЯЁA-Z\\-]{4,}', comment))\n",
    "        total = len(comment.split())\n",
    "        if partion and total != 0:\n",
    "            caps.append(count / total * 100)\n",
    "        else:\n",
    "            caps.append(1 if count > 0 else 0)\n",
    "    return caps"
   ]
  },
  {
   "cell_type": "code",
   "execution_count": 152,
   "metadata": {
    "collapsed": true
   },
   "outputs": [],
   "source": [
    "caps = caps_words(comments_list, False)"
   ]
  },
  {
   "cell_type": "code",
   "execution_count": 143,
   "metadata": {
    "collapsed": false
   },
   "outputs": [
    {
     "data": {
      "text/plain": [
       "['НАТЯНУЛИ МОСКВиЧЕЙ!!! ТЕПЕРЬ МОЖНО И ДОМОЙ ИХ ОТПРАВИТЬ 💪💪💪💪💪',\n",
       " 'adddresssation не имеет значение где ЮР, ардрес то',\n",
       " 'adddresssation где СК удобнее там и проводят а поближе подороже! Могу мск то сделать 650р',\n",
       " 'Сегодня в 23:00 до 5:00 собираемся все НА АРЕНЕ и Валим там пока покрышки не сгорят... В ПРОТЕСТ СКУЧНЫМ И НУДНЫМ МУДАКАМ',\n",
       " 'adddresssation пошлиб да проявили смелость там😉',\n",
       " 'adddresssation любое ДТП есть страховой случай! И будет оплачиваться в законном порядке... А как в тебя въехали не ИМЕЕТ ЗНАЧЕНИЯ!',\n",
       " 'adddresssation что если кого то что то неустраевает пойти и решить проблему, а не писать в типичный что под их окнами газуют...У ВСЕХ ГАЗУЮТ',\n",
       " 'Норма у всех своя, а правила регулируют закон... А если так то действуй а не ори что у тебя проблема',\n",
       " 'adddresssation да будет так',\n",
       " 'Для особо одаренных есть ночные смены😀']"
      ]
     },
     "execution_count": 143,
     "metadata": {},
     "output_type": "execute_result"
    }
   ],
   "source": [
    "comments_list[:10]"
   ]
  },
  {
   "cell_type": "code",
   "execution_count": 144,
   "metadata": {
    "collapsed": false
   },
   "outputs": [
    {
     "data": {
      "text/plain": [
       "[1, 0, 0, 1, 0, 1, 1, 0, 0, 0]"
      ]
     },
     "execution_count": 144,
     "metadata": {},
     "output_type": "execute_result"
    }
   ],
   "source": [
    "caps[:10]"
   ]
  },
  {
   "cell_type": "code",
   "execution_count": 145,
   "metadata": {
    "collapsed": false
   },
   "outputs": [
    {
     "data": {
      "text/plain": [
       "0    124626\n",
       "1      3884\n",
       "dtype: int64"
      ]
     },
     "execution_count": 145,
     "metadata": {},
     "output_type": "execute_result"
    }
   ],
   "source": [
    "pd.Series(caps).value_counts()"
   ]
  },
  {
   "cell_type": "code",
   "execution_count": 83,
   "metadata": {
    "collapsed": false
   },
   "outputs": [],
   "source": [
    "caps = np.reshape(caps, (-1, 1))"
   ]
  },
  {
   "cell_type": "code",
   "execution_count": 587,
   "metadata": {
    "collapsed": false
   },
   "outputs": [
    {
     "name": "stdout",
     "output_type": "stream",
     "text": [
      "0.505563769356 0.0\n"
     ]
    }
   ],
   "source": [
    "baseline_scores = cross_val_score(lr, caps, y, cv=5)\n",
    "print(baseline_scores.mean(), baseline_scores.std())"
   ]
  },
  {
   "cell_type": "markdown",
   "metadata": {},
   "source": [
    "### English words"
   ]
  },
  {
   "cell_type": "code",
   "execution_count": 153,
   "metadata": {
    "collapsed": true
   },
   "outputs": [],
   "source": [
    "def eng_words(comments, partion=True):\n",
    "    engs = []\n",
    "    for comment in comments:\n",
    "        count = len([w for w in re.findall('[a-z\\-]{3,}', comment, flags=re.IGNORECASE) if w != 'adddresssation'])\n",
    "        total = len(comment.split())\n",
    "        if partion and total != 0:\n",
    "            engs.append(count / total * 100)\n",
    "        else:\n",
    "            engs.append(1 if count > 0 else 0)\n",
    "    return engs"
   ]
  },
  {
   "cell_type": "code",
   "execution_count": 154,
   "metadata": {
    "collapsed": false
   },
   "outputs": [],
   "source": [
    "engs = eng_words(comments_list, False)"
   ]
  },
  {
   "cell_type": "code",
   "execution_count": 103,
   "metadata": {
    "collapsed": false
   },
   "outputs": [
    {
     "data": {
      "text/plain": [
       "0    110549\n",
       "1      1621\n",
       "dtype: int64"
      ]
     },
     "execution_count": 103,
     "metadata": {},
     "output_type": "execute_result"
    }
   ],
   "source": [
    "pd.Series(engs).value_counts()"
   ]
  },
  {
   "cell_type": "code",
   "execution_count": 617,
   "metadata": {
    "collapsed": false
   },
   "outputs": [],
   "source": [
    "engs = np.reshape(engs, (-1, 1))"
   ]
  },
  {
   "cell_type": "code",
   "execution_count": 619,
   "metadata": {
    "collapsed": true
   },
   "outputs": [],
   "source": [
    "lr = lm.LogisticRegression()"
   ]
  },
  {
   "cell_type": "code",
   "execution_count": 623,
   "metadata": {
    "collapsed": false
   },
   "outputs": [
    {
     "name": "stdout",
     "output_type": "stream",
     "text": [
      "0.505563769356 0.0\n"
     ]
    }
   ],
   "source": [
    "baseline_scores = cross_val_score(lr, engs, y, cv=10)\n",
    "print(baseline_scores.mean(), baseline_scores.stdt())"
   ]
  },
  {
   "cell_type": "markdown",
   "metadata": {},
   "source": [
    "### All comments features together"
   ]
  },
  {
   "cell_type": "code",
   "execution_count": 155,
   "metadata": {
    "collapsed": true
   },
   "outputs": [],
   "source": [
    "def get_comments_features(coms):\n",
    "    features = pd.DataFrame()\n",
    "    features['with_emoji'] = with_emoji(coms)\n",
    "    big_letter, sents_count = sentence_stat(coms)\n",
    "    features['big_letter'] = big_letter\n",
    "    features['sents_count'] = sents_count\n",
    "    features['punct_)'] = punctuation_counts(coms, pattern='\\)+')\n",
    "    features['punct_('] = punctuation_counts(coms, pattern='\\)+', partion=False)\n",
    "    features['punct_...'] = punctuation_counts(coms, pattern='\\.\\.\\.', partion=False)\n",
    "    features['punct_?'] = punctuation_counts(coms, pattern='\\?+')\n",
    "    features['punct_!'] = punctuation_counts(coms, pattern='\\!+')\n",
    "    features['punct_..'] = punctuation_counts(coms, pattern='[\\.]{2,}')\n",
    "    features['punct_1-9'] = punctuation_counts(coms, pattern='[0-9]{1,}')\n",
    "    features['punct_\"'] = punctuation_counts(coms, pattern='\".+\"')\n",
    "    features['eng_words'] = eng_words(coms, True)\n",
    "    features['mean_word_len'] = mean_word_length(coms)\n",
    "    features['caps'] = caps_words(coms, True)\n",
    "    features['em_proportion_rep'] = comments['em_proportion_rep'].values\n",
    "    features['em_proportion_no_rep'] = comments['em_proportion_no_rep'].values\n",
    "    features['adj_proportion'] = adj_proportion\n",
    "    features['abc_proportion'] = comments['abc_proportion'].values\n",
    "    return features"
   ]
  },
  {
   "cell_type": "code",
   "execution_count": 156,
   "metadata": {
    "collapsed": false
   },
   "outputs": [],
   "source": [
    "comment_features = get_comments_features(comments_list)"
   ]
  },
  {
   "cell_type": "code",
   "execution_count": 157,
   "metadata": {
    "collapsed": false
   },
   "outputs": [
    {
     "data": {
      "text/html": [
       "<div>\n",
       "<table border=\"1\" class=\"dataframe\">\n",
       "  <thead>\n",
       "    <tr style=\"text-align: right;\">\n",
       "      <th></th>\n",
       "      <th>with_emoji</th>\n",
       "      <th>big_letter</th>\n",
       "      <th>sents_count</th>\n",
       "      <th>punct_)</th>\n",
       "      <th>punct_(</th>\n",
       "      <th>punct_...</th>\n",
       "      <th>punct_?</th>\n",
       "      <th>punct_!</th>\n",
       "      <th>punct_..</th>\n",
       "      <th>punct_1-9</th>\n",
       "      <th>punct_\"</th>\n",
       "      <th>eng_words</th>\n",
       "      <th>mean_word_len</th>\n",
       "      <th>caps</th>\n",
       "      <th>em_proportion_rep</th>\n",
       "      <th>em_proportion_no_rep</th>\n",
       "      <th>adj_proportion</th>\n",
       "      <th>abc_proportion</th>\n",
       "    </tr>\n",
       "  </thead>\n",
       "  <tbody>\n",
       "    <tr>\n",
       "      <th>count</th>\n",
       "      <td>111282.000000</td>\n",
       "      <td>111282.000000</td>\n",
       "      <td>111282.000000</td>\n",
       "      <td>111282.000000</td>\n",
       "      <td>111282.000000</td>\n",
       "      <td>111282.000000</td>\n",
       "      <td>111282.000000</td>\n",
       "      <td>111282.000000</td>\n",
       "      <td>111282.000000</td>\n",
       "      <td>111282.000000</td>\n",
       "      <td>111282.000000</td>\n",
       "      <td>111282.000000</td>\n",
       "      <td>111282.000000</td>\n",
       "      <td>111282.000000</td>\n",
       "      <td>111282.000000</td>\n",
       "      <td>111282.000000</td>\n",
       "      <td>111282.000000</td>\n",
       "      <td>111282.000000</td>\n",
       "    </tr>\n",
       "    <tr>\n",
       "      <th>mean</th>\n",
       "      <td>0.086546</td>\n",
       "      <td>0.669578</td>\n",
       "      <td>1.784646</td>\n",
       "      <td>0.896777</td>\n",
       "      <td>0.249744</td>\n",
       "      <td>0.143824</td>\n",
       "      <td>0.434742</td>\n",
       "      <td>0.407384</td>\n",
       "      <td>0.848842</td>\n",
       "      <td>0.513379</td>\n",
       "      <td>1.419241</td>\n",
       "      <td>0.242001</td>\n",
       "      <td>4.726950</td>\n",
       "      <td>0.421457</td>\n",
       "      <td>0.002817</td>\n",
       "      <td>0.002049</td>\n",
       "      <td>0.095742</td>\n",
       "      <td>0.837275</td>\n",
       "    </tr>\n",
       "    <tr>\n",
       "      <th>std</th>\n",
       "      <td>0.281170</td>\n",
       "      <td>0.470367</td>\n",
       "      <td>1.177020</td>\n",
       "      <td>2.280447</td>\n",
       "      <td>0.432867</td>\n",
       "      <td>0.350913</td>\n",
       "      <td>1.205701</td>\n",
       "      <td>1.578833</td>\n",
       "      <td>2.350799</td>\n",
       "      <td>2.125769</td>\n",
       "      <td>7.959314</td>\n",
       "      <td>2.851777</td>\n",
       "      <td>0.958116</td>\n",
       "      <td>3.692291</td>\n",
       "      <td>0.013103</td>\n",
       "      <td>0.008321</td>\n",
       "      <td>0.096758</td>\n",
       "      <td>0.112517</td>\n",
       "    </tr>\n",
       "    <tr>\n",
       "      <th>min</th>\n",
       "      <td>0.000000</td>\n",
       "      <td>0.000000</td>\n",
       "      <td>0.000000</td>\n",
       "      <td>0.000000</td>\n",
       "      <td>0.000000</td>\n",
       "      <td>0.000000</td>\n",
       "      <td>0.000000</td>\n",
       "      <td>0.000000</td>\n",
       "      <td>0.000000</td>\n",
       "      <td>0.000000</td>\n",
       "      <td>0.000000</td>\n",
       "      <td>0.000000</td>\n",
       "      <td>1.000000</td>\n",
       "      <td>0.000000</td>\n",
       "      <td>0.000000</td>\n",
       "      <td>0.000000</td>\n",
       "      <td>0.000000</td>\n",
       "      <td>0.400000</td>\n",
       "    </tr>\n",
       "    <tr>\n",
       "      <th>25%</th>\n",
       "      <td>0.000000</td>\n",
       "      <td>0.000000</td>\n",
       "      <td>1.000000</td>\n",
       "      <td>0.000000</td>\n",
       "      <td>0.000000</td>\n",
       "      <td>0.000000</td>\n",
       "      <td>0.000000</td>\n",
       "      <td>0.000000</td>\n",
       "      <td>0.000000</td>\n",
       "      <td>0.000000</td>\n",
       "      <td>0.000000</td>\n",
       "      <td>0.000000</td>\n",
       "      <td>4.125000</td>\n",
       "      <td>0.000000</td>\n",
       "      <td>0.000000</td>\n",
       "      <td>0.000000</td>\n",
       "      <td>0.000000</td>\n",
       "      <td>0.754717</td>\n",
       "    </tr>\n",
       "    <tr>\n",
       "      <th>50%</th>\n",
       "      <td>0.000000</td>\n",
       "      <td>1.000000</td>\n",
       "      <td>1.000000</td>\n",
       "      <td>0.000000</td>\n",
       "      <td>0.000000</td>\n",
       "      <td>0.000000</td>\n",
       "      <td>0.000000</td>\n",
       "      <td>0.000000</td>\n",
       "      <td>0.000000</td>\n",
       "      <td>0.000000</td>\n",
       "      <td>0.000000</td>\n",
       "      <td>0.000000</td>\n",
       "      <td>4.666667</td>\n",
       "      <td>0.000000</td>\n",
       "      <td>0.000000</td>\n",
       "      <td>0.000000</td>\n",
       "      <td>0.086957</td>\n",
       "      <td>0.857143</td>\n",
       "    </tr>\n",
       "    <tr>\n",
       "      <th>75%</th>\n",
       "      <td>0.000000</td>\n",
       "      <td>1.000000</td>\n",
       "      <td>2.000000</td>\n",
       "      <td>0.000000</td>\n",
       "      <td>0.000000</td>\n",
       "      <td>0.000000</td>\n",
       "      <td>0.000000</td>\n",
       "      <td>0.000000</td>\n",
       "      <td>0.000000</td>\n",
       "      <td>0.000000</td>\n",
       "      <td>0.000000</td>\n",
       "      <td>0.000000</td>\n",
       "      <td>5.266667</td>\n",
       "      <td>0.000000</td>\n",
       "      <td>0.000000</td>\n",
       "      <td>0.000000</td>\n",
       "      <td>0.153846</td>\n",
       "      <td>0.933333</td>\n",
       "    </tr>\n",
       "    <tr>\n",
       "      <th>max</th>\n",
       "      <td>1.000000</td>\n",
       "      <td>1.000000</td>\n",
       "      <td>21.000000</td>\n",
       "      <td>53.061224</td>\n",
       "      <td>1.000000</td>\n",
       "      <td>1.000000</td>\n",
       "      <td>53.448276</td>\n",
       "      <td>38.775510</td>\n",
       "      <td>44.660194</td>\n",
       "      <td>45.833333</td>\n",
       "      <td>100.000000</td>\n",
       "      <td>110.000000</td>\n",
       "      <td>20.571429</td>\n",
       "      <td>120.000000</td>\n",
       "      <td>0.250000</td>\n",
       "      <td>0.250000</td>\n",
       "      <td>1.000000</td>\n",
       "      <td>1.000000</td>\n",
       "    </tr>\n",
       "  </tbody>\n",
       "</table>\n",
       "</div>"
      ],
      "text/plain": [
       "          with_emoji     big_letter    sents_count        punct_)  \\\n",
       "count  111282.000000  111282.000000  111282.000000  111282.000000   \n",
       "mean        0.086546       0.669578       1.784646       0.896777   \n",
       "std         0.281170       0.470367       1.177020       2.280447   \n",
       "min         0.000000       0.000000       0.000000       0.000000   \n",
       "25%         0.000000       0.000000       1.000000       0.000000   \n",
       "50%         0.000000       1.000000       1.000000       0.000000   \n",
       "75%         0.000000       1.000000       2.000000       0.000000   \n",
       "max         1.000000       1.000000      21.000000      53.061224   \n",
       "\n",
       "             punct_(      punct_...        punct_?        punct_!  \\\n",
       "count  111282.000000  111282.000000  111282.000000  111282.000000   \n",
       "mean        0.249744       0.143824       0.434742       0.407384   \n",
       "std         0.432867       0.350913       1.205701       1.578833   \n",
       "min         0.000000       0.000000       0.000000       0.000000   \n",
       "25%         0.000000       0.000000       0.000000       0.000000   \n",
       "50%         0.000000       0.000000       0.000000       0.000000   \n",
       "75%         0.000000       0.000000       0.000000       0.000000   \n",
       "max         1.000000       1.000000      53.448276      38.775510   \n",
       "\n",
       "            punct_..      punct_1-9        punct_\"      eng_words  \\\n",
       "count  111282.000000  111282.000000  111282.000000  111282.000000   \n",
       "mean        0.848842       0.513379       1.419241       0.242001   \n",
       "std         2.350799       2.125769       7.959314       2.851777   \n",
       "min         0.000000       0.000000       0.000000       0.000000   \n",
       "25%         0.000000       0.000000       0.000000       0.000000   \n",
       "50%         0.000000       0.000000       0.000000       0.000000   \n",
       "75%         0.000000       0.000000       0.000000       0.000000   \n",
       "max        44.660194      45.833333     100.000000     110.000000   \n",
       "\n",
       "       mean_word_len           caps  em_proportion_rep  em_proportion_no_rep  \\\n",
       "count  111282.000000  111282.000000      111282.000000         111282.000000   \n",
       "mean        4.726950       0.421457           0.002817              0.002049   \n",
       "std         0.958116       3.692291           0.013103              0.008321   \n",
       "min         1.000000       0.000000           0.000000              0.000000   \n",
       "25%         4.125000       0.000000           0.000000              0.000000   \n",
       "50%         4.666667       0.000000           0.000000              0.000000   \n",
       "75%         5.266667       0.000000           0.000000              0.000000   \n",
       "max        20.571429     120.000000           0.250000              0.250000   \n",
       "\n",
       "       adj_proportion  abc_proportion  \n",
       "count   111282.000000   111282.000000  \n",
       "mean         0.095742        0.837275  \n",
       "std          0.096758        0.112517  \n",
       "min          0.000000        0.400000  \n",
       "25%          0.000000        0.754717  \n",
       "50%          0.086957        0.857143  \n",
       "75%          0.153846        0.933333  \n",
       "max          1.000000        1.000000  "
      ]
     },
     "execution_count": 157,
     "metadata": {},
     "output_type": "execute_result"
    }
   ],
   "source": [
    "comment_features.describe()"
   ]
  },
  {
   "cell_type": "markdown",
   "metadata": {},
   "source": [
    "## word2vec"
   ]
  },
  {
   "cell_type": "code",
   "execution_count": 157,
   "metadata": {
    "collapsed": true
   },
   "outputs": [],
   "source": [
    "model_web = word2vec.Word2Vec.load_word2vec_format('../RussianHorrorStories/models_bin/web.model.bin', binary=True)"
   ]
  },
  {
   "cell_type": "code",
   "execution_count": 158,
   "metadata": {
    "collapsed": true
   },
   "outputs": [],
   "source": [
    "def get_vector_from_words(words, model, num_features):\n",
    "    features = np.zeros((num_features,), dtype=np.float32)\n",
    "    n = 0\n",
    "    index2word = set(model.index2word)\n",
    "    \n",
    "    for word in words:\n",
    "        if word in index2word:\n",
    "            features += model[word]\n",
    "            n += 1\n",
    "    return features / n"
   ]
  },
  {
   "cell_type": "code",
   "execution_count": 159,
   "metadata": {
    "collapsed": true
   },
   "outputs": [],
   "source": [
    "def get_texts_vectors(texts, model, num_features):\n",
    "    texts_vectors = np.zeros((len(texts), num_features), dtype=np.float32)\n",
    "    \n",
    "    i = 0\n",
    "    for text in texts:\n",
    "        texts_vectors[i] = get_vector_from_words(text.split(), model, num_features)\n",
    "        i += 1\n",
    "    return texts_vectors"
   ]
  },
  {
   "cell_type": "code",
   "execution_count": 160,
   "metadata": {
    "collapsed": true
   },
   "outputs": [],
   "source": [
    "for i in range(len(model_web.index2word)):\n",
    "    model_web.index2word[i] = re.split('_', model_web.index2word[i])[0]\n",
    "model_web.vocab = {re.split('_', x[0])[0]: x[1] for x in list(model_web.vocab.items())}"
   ]
  },
  {
   "cell_type": "code",
   "execution_count": 170,
   "metadata": {
    "collapsed": false
   },
   "outputs": [
    {
     "data": {
      "text/plain": [
       "['adddresssation дак сельпа сколько город едить область загибаться работа нет поэтому там продавать тут покупать',\n",
       " 'adddresssation ипотека разница добивать основное чтобы новостройка купить жить правило чтобы что купить надо что продать нал брать сразу северянин сталкиваться только такой расклад',\n",
       " 'adddresssation конечно кабала бич молодая семья',\n",
       " 'adddresssation есть кто жить дак сдавать они',\n",
       " 'adddresssation убрать товарный правда убирать уже год сейчас станция уже ночь перестать работать иногда работать день машинист туда халтура без график ездить поэтому она уже изживать себя насчёт путин тоже ждать когда сдохнуть']"
      ]
     },
     "execution_count": 170,
     "metadata": {},
     "output_type": "execute_result"
    }
   ],
   "source": [
    "clear_coms[30:35]"
   ]
  },
  {
   "cell_type": "code",
   "execution_count": 169,
   "metadata": {
    "collapsed": false
   },
   "outputs": [
    {
     "name": "stdout",
     "output_type": "stream",
     "text": [
      "CPU times: user 1h 17min 11s, sys: 2.19 s, total: 1h 17min 13s\n",
      "Wall time: 2h 15min 12s\n"
     ]
    }
   ],
   "source": [
    "%%time\n",
    "vects = get_texts_vectors(clear_coms, model_web, 500)"
   ]
  },
  {
   "cell_type": "code",
   "execution_count": 181,
   "metadata": {
    "collapsed": false
   },
   "outputs": [
    {
     "data": {
      "text/plain": [
       "0"
      ]
     },
     "execution_count": 181,
     "metadata": {},
     "output_type": "execute_result"
    }
   ],
   "source": [
    "(np.isnan(vects).sum(axis=1)).sum()"
   ]
  },
  {
   "cell_type": "code",
   "execution_count": 180,
   "metadata": {
    "collapsed": true
   },
   "outputs": [],
   "source": [
    "vects = np.nan_to_num(vects)"
   ]
  },
  {
   "cell_type": "code",
   "execution_count": 171,
   "metadata": {
    "collapsed": false
   },
   "outputs": [
    {
     "name": "stdout",
     "output_type": "stream",
     "text": [
      "[('поэтому', 0.5718047618865967), ('информайция', 0.5706641674041748), ('складывай', 0.5617139339447021), ('покупать', 0.559929609298706), ('сколько', 0.5405701398849487)]\n",
      "[('информайция', 0.5880330204963684), ('складывай', 0.576613187789917), ('купить', 0.5577439069747925), ('абрамсаидычиванов', 0.5528272390365601), ('приземл', 0.5520462393760681)]\n",
      "[('кабала', 0.6205751895904541), ('семья', 0.6001030206680298), ('молодая', 0.5578511953353882), ('бич', 0.54442298412323), ('бедняк', 0.42524629831314087)]\n",
      "[('жить', 0.6571881771087646), ('дак', 0.6414352655410767), ('сдавать', 0.6106940507888794), ('тож', 0.507592499256134), ('йти', 0.49388185143470764)]\n",
      "[('информайция', 0.6323297023773193), ('работать', 0.59303218126297), ('приземл', 0.59165358543396), ('складывай', 0.5661138892173767), ('абрамсаидычиванов', 0.5565855503082275)]\n"
     ]
    }
   ],
   "source": [
    "for vec in vects[30:35]:\n",
    "    print(model_web.similar_by_vector(vec, 5))"
   ]
  },
  {
   "cell_type": "code",
   "execution_count": 114,
   "metadata": {
    "collapsed": false
   },
   "outputs": [],
   "source": [
    "index_to_del = comments[(np.isnan(vects).sum(axis=1) != 0)].index"
   ]
  },
  {
   "cell_type": "code",
   "execution_count": 115,
   "metadata": {
    "collapsed": false
   },
   "outputs": [
    {
     "data": {
      "text/plain": [
       "(1449,)"
      ]
     },
     "execution_count": 115,
     "metadata": {},
     "output_type": "execute_result"
    }
   ],
   "source": [
    "index_to_del.shape"
   ]
  },
  {
   "cell_type": "code",
   "execution_count": 117,
   "metadata": {
    "collapsed": false
   },
   "outputs": [],
   "source": [
    "comments.drop(index_to_del, inplace=True)\n",
    "comments_list = comz pments_list[np.isnan(vects).sum(axis=1) == 0]\n",
    "vects = vects[np.isnan(vects).sum(axis=1) == 0]"
   ]
  },
  {
   "cell_type": "code",
   "execution_count": 124,
   "metadata": {
    "collapsed": true
   },
   "outputs": [],
   "source": [
    "y = comments.is_gum.values"
   ]
  },
  {
   "cell_type": "code",
   "execution_count": 125,
   "metadata": {
    "collapsed": true
   },
   "outputs": [],
   "source": [
    "lr = lm.LogisticRegression()"
   ]
  },
  {
   "cell_type": "code",
   "execution_count": 126,
   "metadata": {
    "collapsed": false
   },
   "outputs": [
    {
     "name": "stdout",
     "output_type": "stream",
     "text": [
      "0.525522550247 0.00909039521214\n",
      "CPU times: user 49.6 s, sys: 4.49 s, total: 54.1 s\n",
      "Wall time: 1min 18s\n"
     ]
    }
   ],
   "source": [
    "%%time\n",
    "baseline_scores = cross_val_score(lr, vects, y, cv=5)\n",
    "print(baseline_scores.mean(), baseline_scores.std())"
   ]
  },
  {
   "cell_type": "markdown",
   "metadata": {},
   "source": [
    "## LDA"
   ]
  },
  {
   "cell_type": "markdown",
   "metadata": {},
   "source": [
    "## Filtering dictionary"
   ]
  },
  {
   "cell_type": "code",
   "execution_count": 129,
   "metadata": {
    "collapsed": true
   },
   "outputs": [],
   "source": [
    "import copy"
   ]
  },
  {
   "cell_type": "code",
   "execution_count": 258,
   "metadata": {
    "collapsed": false
   },
   "outputs": [
    {
     "name": "stdout",
     "output_type": "stream",
     "text": [
      "Dictionary(60595 unique tokens: ['but', 'антенщик-', 'спаситель', 'миниатуюр', 'жалобщик']...)\n"
     ]
    }
   ],
   "source": [
    "splited_coms = [com.split() for com in clear_coms]\n",
    "dictionary = corpora.Dictionary(splited_coms)\n",
    "corpus = [dictionary.doc2bow(com) for com in splited_coms]\n",
    "print(dictionary)"
   ]
  },
  {
   "cell_type": "code",
   "execution_count": 259,
   "metadata": {
    "collapsed": false
   },
   "outputs": [],
   "source": [
    "dictionary_filtered = copy.deepcopy(dictionary)\n",
    "dictionary_filtered.filter_extremes(no_below=10, no_above=0.5)"
   ]
  },
  {
   "cell_type": "code",
   "execution_count": 260,
   "metadata": {
    "collapsed": false
   },
   "outputs": [],
   "source": [
    "with open('names_from_sent.txt', 'r') as f:\n",
    "    names = f.readlines()\n",
    "    names = [name.strip() for name in names]\n",
    "names_ids = []\n",
    "for name in names:\n",
    "    try:\n",
    "        names_ids.append(dictionary_filtered.token2id[name])\n",
    "    except:\n",
    "        pass\n",
    "dictionary_filtered.filter_tokens(bad_ids=names_ids)"
   ]
  },
  {
   "cell_type": "code",
   "execution_count": 261,
   "metadata": {
    "collapsed": false
   },
   "outputs": [
    {
     "name": "stdout",
     "output_type": "stream",
     "text": [
      "Dictionary(8633 unique tokens: ['быт', 'скопировать', 'пфффф', 'режим', 'старый']...)\n"
     ]
    }
   ],
   "source": [
    "print(dictionary_filtered)"
   ]
  },
  {
   "cell_type": "code",
   "execution_count": 262,
   "metadata": {
    "collapsed": false
   },
   "outputs": [],
   "source": [
    "dict_count_before= len(dictionary)\n",
    "corpus_size_before = sum([word[1] for document in corpus for word in document])\n",
    "corpus = [dictionary_filtered.doc2bow(text) for text in splited_coms]\n",
    "dict_count_after = len(dictionary_filtered)\n",
    "corpus_size_after = sum([word[1] for document in corpus for word in document])"
   ]
  },
  {
   "cell_type": "code",
   "execution_count": 263,
   "metadata": {
    "collapsed": false
   },
   "outputs": [
    {
     "name": "stdout",
     "output_type": "stream",
     "text": [
      "Dictionary size\n",
      "Before: 60595; after: 8633\n",
      "Corpus size\n",
      "Before: 1151920; after: 971131\n"
     ]
    }
   ],
   "source": [
    "print('Dictionary size\\nBefore: {}; after: {}\\nCorpus size\\nBefore: {}; after: {}'.format(\n",
    "      dict_count_before, dict_count_after, corpus_size_before, corpus_size_after))"
   ]
  },
  {
   "cell_type": "code",
   "execution_count": 264,
   "metadata": {
    "collapsed": true
   },
   "outputs": [],
   "source": [
    "dictionary_filtered.save('models_bin/dictionary_filtered')"
   ]
  },
  {
   "cell_type": "markdown",
   "metadata": {},
   "source": [
    "### Model"
   ]
  },
  {
   "cell_type": "markdown",
   "metadata": {},
   "source": [
    "If already trained before"
   ]
  },
  {
   "cell_type": "code",
   "execution_count": null,
   "metadata": {
    "collapsed": true
   },
   "outputs": [],
   "source": [
    "%%time\n",
    "dictionary_filtered = corpora.Dictionary.load('models_bin/dictionary_filtered')\n",
    "splited_texts = [text.split() for text in stemmed_posts_texts]\n",
    "corpus = [dictionary_filtered.doc2bow(text) for text in splited_texts]"
   ]
  },
  {
   "cell_type": "code",
   "execution_count": 274,
   "metadata": {
    "collapsed": false
   },
   "outputs": [
    {
     "name": "stdout",
     "output_type": "stream",
     "text": [
      "CPU times: user 30min 7s, sys: 1.53 s, total: 30min 9s\n",
      "Wall time: 30min 7s\n"
     ]
    }
   ],
   "source": [
    "%%time\n",
    "ldamodel = models.LdaModel(corpus, id2word=dictionary_filtered, num_topics=30, passes=50,\n",
    "                           alpha='auto', eta='auto')"
   ]
  },
  {
   "cell_type": "code",
   "execution_count": 275,
   "metadata": {
    "collapsed": true
   },
   "outputs": [],
   "source": [
    "ldamodel.save('models_bin/lda')"
   ]
  },
  {
   "cell_type": "code",
   "execution_count": null,
   "metadata": {
    "collapsed": true
   },
   "outputs": [],
   "source": [
    "ldamodel = models.LdaModel.load('models_bin/lda')"
   ]
  },
  {
   "cell_type": "code",
   "execution_count": 278,
   "metadata": {
    "collapsed": false
   },
   "outputs": [
    {
     "name": "stdout",
     "output_type": "stream",
     "text": [
      "Topic 0: \n",
      "даже 0.110408936734\n",
      "очень 0.106153695361\n",
      "ребёнок 0.0653334630849\n",
      "много 0.0587955610491\n",
      "пара 0.0307449519816\n",
      "Topic 1: \n",
      "хороший 0.139851781379\n",
      "самый 0.0805245816061\n",
      "наш 0.0700121438782\n",
      "дело 0.0608843326843\n",
      "всегда 0.0480964880692\n",
      "Topic 2: \n",
      "что 0.0966779047198\n",
      "это 0.0817553344666\n",
      "быть 0.0672078968897\n",
      "весь 0.0666834692074\n",
      "как 0.0472868536596\n",
      "Topic 3: \n",
      "твой 0.0762068680035\n",
      "сделать 0.071278910899\n",
      "хорошо 0.0629373529718\n",
      "народ 0.0444079540082\n",
      "куда 0.0432168446993\n",
      "Topic 4: \n",
      "идти 0.0698764588424\n",
      "нормальный 0.0497431838335\n",
      "дорога 0.0474298490072\n",
      "кстати 0.0382063777777\n",
      "именно 0.0358608662124\n",
      "Topic 5: \n",
      "блин 0.0655463678783\n",
      "парень 0.0426374069839\n",
      "кажется 0.0381042254424\n",
      "номер 0.0370874652349\n",
      "помочь 0.0370788164579\n",
      "Topic 6: \n",
      "смотреть 0.0675120761159\n",
      "два 0.0580830158353\n",
      "работать 0.0524956534856\n",
      "хотя 0.05132913354\n",
      "посмотреть 0.0393366114219\n",
      "Topic 7: \n",
      "вообще 0.157818102985\n",
      "хотеть 0.144657530718\n",
      "сказать 0.133594665286\n",
      "играть 0.023192100525\n",
      "фильм 0.0204413822616\n",
      "Topic 8: \n",
      "друг 0.0860163929578\n",
      "правда 0.046934325028\n",
      "туда 0.0398917429637\n",
      "месяц 0.0296496428517\n",
      "говорят 0.0253385166321\n",
      "Topic 9: \n",
      "тут 0.141426117988\n",
      "надо 0.131624871453\n",
      "стать 0.0430990410983\n",
      "стоить 0.0425325067867\n",
      "ехать 0.0398505093646\n",
      "Topic 10: \n",
      "никогда 0.0416889301148\n",
      "😂 0.0408104848569\n",
      "метр 0.0407083411592\n",
      "нея 0.0361024571125\n",
      "слишком 0.0276968471972\n",
      "Topic 11: \n",
      "потом 0.0909655698865\n",
      "пока 0.0655157147759\n",
      "искать 0.0332171389066\n",
      "щас 0.0309474819343\n",
      "женщина 0.0308377982338\n",
      "Topic 12: \n",
      "после 0.0654524201504\n",
      "зачем 0.0503825870293\n",
      "сразу 0.0442923705168\n",
      "водитель 0.0400256056059\n",
      "либо 0.0392444790813\n",
      "Topic 13: \n",
      "тогда 0.0786886655649\n",
      "написать 0.0681063963618\n",
      "имя 0.0592300361124\n",
      "вопрос 0.0526507817576\n",
      "нужный 0.0444845483499\n",
      "Topic 14: \n",
      "жить 0.0944847675955\n",
      "потому 0.0496187470738\n",
      "спасибо 0.04661058124\n",
      "северный 0.0251045740932\n",
      "нибыть 0.022136188554\n",
      "Topic 15: \n",
      "она 0.133573905842\n",
      "раз 0.0958582811727\n",
      "видеть 0.0793991193087\n",
      "большой 0.0788251084235\n",
      "про 0.075520982592\n",
      "Topic 16: \n",
      "можно 0.137483067893\n",
      "без 0.0782583381282\n",
      "работа 0.0584490655864\n",
      "случай 0.0414775526374\n",
      "значит 0.0397741242486\n",
      "Topic 17: \n",
      "спать 0.06328892331\n",
      "ночь 0.0422540545281\n",
      "мнение 0.0392702864169\n",
      "бывать 0.0387204196731\n",
      "час 0.0310913021842\n",
      "Topic 18: \n",
      "для 0.158887562427\n",
      "сколько 0.0457312084382\n",
      "через 0.0406963034436\n",
      "купить 0.0322269458555\n",
      "согласный 0.0301183812172\n",
      "Topic 19: \n",
      "любить 0.0680220915234\n",
      "рука 0.0443769574537\n",
      "интересно 0.0435122297873\n",
      "ряд 0.042903703068\n",
      "вид 0.0371899324366\n",
      "Topic 20: \n",
      "ничто 0.0818242112267\n",
      "сидеть 0.0531131622756\n",
      "главный 0.0379462795687\n",
      "нравиться 0.0360802228797\n",
      "давно 0.0342672177689\n",
      "Topic 21: \n",
      "хоть 0.07310683624\n",
      "сегодня 0.0691281002618\n",
      "понимать 0.0655351846911\n",
      "ага 0.0338527136756\n",
      "скоро 0.0270288570888\n",
      "Topic 22: \n",
      "один 0.0819362263706\n",
      "нет 0.0775521652213\n",
      "мой 0.0625288679389\n",
      "который 0.049538139932\n",
      "ваш 0.0244850380353\n",
      "Topic 23: \n",
      "какой 0.14937888925\n",
      "писать 0.0734496010472\n",
      "дом 0.0702582595458\n",
      "теперь 0.0536152121655\n",
      "что-то 0.0392971518064\n",
      "Topic 24: \n",
      "уже 0.141624342352\n",
      "год 0.0997621113336\n",
      "день 0.0620597656292\n",
      "девушка 0.0518701600407\n",
      "😊 0.0495835129864\n",
      "Topic 25: \n",
      "ребята 0.0507237775775\n",
      "всего 0.0505834156067\n",
      "глаз 0.0297931515685\n",
      "скорее 0.023000757908\n",
      "нечего 0.0202948710926\n",
      "Topic 26: \n",
      "чем 0.126520174248\n",
      "пусть 0.033507694729\n",
      "читать 0.031620503242\n",
      "завтра 0.0309130183211\n",
      "увидеть 0.0283484460493\n",
      "Topic 27: \n",
      "почему 0.0805573837933\n",
      "точно 0.0546274809565\n",
      "например 0.0370274501501\n",
      "новый 0.0354511978661\n",
      "особенно 0.0316408133416\n",
      "Topic 28: \n",
      "говорить 0.135893536924\n",
      "совсем 0.0402834890674\n",
      "автобус 0.0297764017632\n",
      "как-то 0.0247494227094\n",
      "бояться 0.0236164488305\n",
      "Topic 29: \n",
      "где 0.136081183041\n",
      "город 0.10594014487\n",
      "место 0.0862581448792\n",
      "район 0.048989273867\n",
      "улица 0.0436930772822\n"
     ]
    }
   ],
   "source": [
    "for i, topic in ldamodel.show_topics(num_topics=30, num_words=5, formatted=False):\n",
    "    print(\"Topic \" + str(i) + ': ')\n",
    "    for word, p in topic:\n",
    "        print(word, p)"
   ]
  },
  {
   "cell_type": "code",
   "execution_count": 287,
   "metadata": {
    "collapsed": false
   },
   "outputs": [
    {
     "data": {
      "text/plain": [
       "'adddresssation 😂😂😂😂промазал тут речь о бензине😂😂😂'"
      ]
     },
     "execution_count": 287,
     "metadata": {},
     "output_type": "execute_result"
    }
   ],
   "source": [
    "comments_list[10000]"
   ]
  },
  {
   "cell_type": "code",
   "execution_count": 294,
   "metadata": {
    "collapsed": false
   },
   "outputs": [
    {
     "data": {
      "text/plain": [
       "[(2, 0.24596399685590126),\n",
       " (10, 0.087319542810898765),\n",
       " (22, 0.051959510081673307)]"
      ]
     },
     "execution_count": 294,
     "metadata": {},
     "output_type": "execute_result"
    }
   ],
   "source": [
    "ldamodel.get_document_topics(list(corpus)[10], minimum_probability=0.05)"
   ]
  },
  {
   "cell_type": "code",
   "execution_count": 286,
   "metadata": {
    "collapsed": false
   },
   "outputs": [
    {
     "name": "stdout",
     "output_type": "stream",
     "text": [
      "один 0.0819362263706\n",
      "нет 0.0775521652213\n",
      "мой 0.0625288679389\n",
      "который 0.049538139932\n",
      "ваш 0.0244850380353\n",
      "под 0.0217745365791\n",
      "дать 0.0208372124593\n",
      "более 0.0161446560091\n",
      "бог 0.0119206661115\n",
      "девочка 0.00858602857106\n"
     ]
    }
   ],
   "source": [
    "topic = ldamodel.show_topic(22, 10)\n",
    "for word, p in topic:\n",
    "    print(word, p)"
   ]
  },
  {
   "cell_type": "code",
   "execution_count": 273,
   "metadata": {
    "collapsed": false
   },
   "outputs": [
    {
     "name": "stdout",
     "output_type": "stream",
     "text": [
      "282.892353183\n"
     ]
    }
   ],
   "source": [
    "perplexity = ldamodel.log_perplexity(list(corpus))\n",
    "print(2**(-perplexity))"
   ]
  },
  {
   "cell_type": "code",
   "execution_count": 277,
   "metadata": {
    "collapsed": false
   },
   "outputs": [
    {
     "name": "stdout",
     "output_type": "stream",
     "text": [
      "172.318180434\n"
     ]
    }
   ],
   "source": [
    "perplexity = ldamodel.log_perplexity(list(corpus))\n",
    "print(2**(-perplexity))"
   ]
  },
  {
   "cell_type": "markdown",
   "metadata": {},
   "source": [
    "## Getting LDA Feature matrix"
   ]
  },
  {
   "cell_type": "code",
   "execution_count": null,
   "metadata": {
    "collapsed": true
   },
   "outputs": [],
   "source": [
    "splited_train_texts = [text.split() for text in x_train]\n",
    "corpus_train_dataset = [dictionary_filtered.doc2bow(text) for text in splited_train_texts]"
   ]
  },
  {
   "cell_type": "code",
   "execution_count": 167,
   "metadata": {
    "collapsed": true
   },
   "outputs": [],
   "source": [
    "def get_corpus_matrix(model, corpus):\n",
    "    matrix = np.zeros((len(corpus), model.num_topics))\n",
    "    for i in range(len(corpus)):\n",
    "        doc_topics = model.get_document_topics(list(corpus)[i], minimum_probability=0.05)\n",
    "        for topic_id, prob in doc_topics:\n",
    "            matrix[i, topic_id] = prob\n",
    "    return matrix"
   ]
  },
  {
   "cell_type": "code",
   "execution_count": 169,
   "metadata": {
    "collapsed": false
   },
   "outputs": [
    {
     "name": "stdout",
     "output_type": "stream",
     "text": [
      "CPU times: user 9min 38s, sys: 300 ms, total: 9min 38s\n",
      "Wall time: 9min 38s\n"
     ]
    }
   ],
   "source": [
    "%%time\n",
    "X_lda = get_corpus_matrix(ldamodel, corpus)"
   ]
  },
  {
   "cell_type": "code",
   "execution_count": 170,
   "metadata": {
    "collapsed": false
   },
   "outputs": [
    {
     "data": {
      "text/plain": [
       "(111920, 50)"
      ]
     },
     "execution_count": 170,
     "metadata": {},
     "output_type": "execute_result"
    }
   ],
   "source": [
    "X_lda.shape"
   ]
  },
  {
   "cell_type": "code",
   "execution_count": 230,
   "metadata": {
    "collapsed": false
   },
   "outputs": [
    {
     "data": {
      "text/plain": [
       "(111920, 10)"
      ]
     },
     "execution_count": 230,
     "metadata": {},
     "output_type": "execute_result"
    }
   ],
   "source": [
    "comments.shape"
   ]
  },
  {
   "cell_type": "code",
   "execution_count": 125,
   "metadata": {
    "collapsed": true
   },
   "outputs": [],
   "source": [
    "lr = lm.LogisticRegression()"
   ]
  },
  {
   "cell_type": "code",
   "execution_count": 231,
   "metadata": {
    "collapsed": false
   },
   "outputs": [
    {
     "name": "stdout",
     "output_type": "stream",
     "text": [
      "0.509935668335 0.00745228690032\n",
      "CPU times: user 1.7 s, sys: 1.85 s, total: 3.54 s\n",
      "Wall time: 2.17 s\n"
     ]
    }
   ],
   "source": [
    "%%time\n",
    "baseline_scores = cross_val_score(lr, X_lda, comments.is_gum, cv=5)\n",
    "print(baseline_scores.mean(), baseline_scores.std())"
   ]
  },
  {
   "cell_type": "markdown",
   "metadata": {},
   "source": [
    "## Final model"
   ]
  },
  {
   "cell_type": "code",
   "execution_count": 120,
   "metadata": {
    "collapsed": false
   },
   "outputs": [
    {
     "data": {
      "text/plain": [
       "((111920, 2000), (111920, 18))"
      ]
     },
     "execution_count": 120,
     "metadata": {},
     "output_type": "execute_result"
    }
   ],
   "source": [
    "word_char_features.shape, comment_features.shape # meta_features.shape"
   ]
  },
  {
   "cell_type": "code",
   "execution_count": 121,
   "metadata": {
    "collapsed": false
   },
   "outputs": [],
   "source": [
    "X = np.hstack((word_char_features.toarray(), comment_features.values))"
   ]
  },
  {
   "cell_type": "code",
   "execution_count": 122,
   "metadata": {
    "collapsed": false
   },
   "outputs": [
    {
     "data": {
      "text/plain": [
       "(111920, 2018)"
      ]
     },
     "execution_count": 122,
     "metadata": {},
     "output_type": "execute_result"
    }
   ],
   "source": [
    "X.shape"
   ]
  },
  {
   "cell_type": "code",
   "execution_count": 90,
   "metadata": {
    "collapsed": true
   },
   "outputs": [],
   "source": [
    "y = comments.is_gum.values"
   ]
  },
  {
   "cell_type": "code",
   "execution_count": 112,
   "metadata": {
    "collapsed": true
   },
   "outputs": [],
   "source": [
    "lr = lm.LogisticRegression()"
   ]
  },
  {
   "cell_type": "code",
   "execution_count": 165,
   "metadata": {
    "collapsed": false
   },
   "outputs": [],
   "source": [
    "lr = naive_bayes.MultinomialNB()"
   ]
  },
  {
   "cell_type": "code",
   "execution_count": 124,
   "metadata": {
    "collapsed": false
   },
   "outputs": [],
   "source": [
    "lr = ensemble.RandomForestClassifier(20, min_samples_leaf=3, max_features=0.8, n_jobs=-1)"
   ]
  },
  {
   "cell_type": "code",
   "execution_count": 189,
   "metadata": {
    "collapsed": true
   },
   "outputs": [],
   "source": [
    "lr = ensemble.GradientBoostingClassifier()"
   ]
  },
  {
   "cell_type": "code",
   "execution_count": 190,
   "metadata": {
    "collapsed": true
   },
   "outputs": [],
   "source": [
    "np.random.seed(0)"
   ]
  },
  {
   "cell_type": "code",
   "execution_count": 97,
   "metadata": {
    "collapsed": false
   },
   "outputs": [
    {
     "name": "stdout",
     "output_type": "stream",
     "text": [
      "0.521181838852 0.0138376103516\n"
     ]
    }
   ],
   "source": [
    "baseline_scores = cross_val_score(lr, X, y, cv=3)\n",
    "print(baseline_scores.mean(), baseline_scores.std())"
   ]
  },
  {
   "cell_type": "markdown",
   "metadata": {},
   "source": [
    "## Testing on human"
   ]
  },
  {
   "cell_type": "code",
   "execution_count": 106,
   "metadata": {
    "collapsed": true
   },
   "outputs": [],
   "source": [
    "from sklearn.cross_validation import train_test_split, StratifiedShuffleSplit"
   ]
  },
  {
   "cell_type": "code",
   "execution_count": 107,
   "metadata": {
    "collapsed": true
   },
   "outputs": [],
   "source": [
    "from sklearn.metrics import accuracy_score, roc_auc_score, classification_report"
   ]
  },
  {
   "cell_type": "code",
   "execution_count": 138,
   "metadata": {
    "collapsed": false
   },
   "outputs": [],
   "source": [
    "s = StratifiedShuffleSplit(y, n_iter=1, test_size=20, random_state=0)"
   ]
  },
  {
   "cell_type": "code",
   "execution_count": 139,
   "metadata": {
    "collapsed": true
   },
   "outputs": [],
   "source": [
    "index_test = []"
   ]
  },
  {
   "cell_type": "code",
   "execution_count": 140,
   "metadata": {
    "collapsed": false
   },
   "outputs": [],
   "source": [
    "for train, test in s:\n",
    "    index_test = test\n",
    "    X_train, X_test, y_train, y_test = X[train], X[test], y[train], y[test]"
   ]
  },
  {
   "cell_type": "code",
   "execution_count": 141,
   "metadata": {
    "collapsed": false
   },
   "outputs": [
    {
     "data": {
      "text/plain": [
       "LogisticRegression(C=1.0, class_weight=None, dual=False, fit_intercept=True,\n",
       "          intercept_scaling=1, max_iter=100, multi_class='ovr', n_jobs=1,\n",
       "          penalty='l2', random_state=None, solver='liblinear', tol=0.0001,\n",
       "          verbose=0, warm_start=False)"
      ]
     },
     "execution_count": 141,
     "metadata": {},
     "output_type": "execute_result"
    }
   ],
   "source": [
    "lr.fit(X_train, y_train)"
   ]
  },
  {
   "cell_type": "code",
   "execution_count": 152,
   "metadata": {
    "collapsed": true
   },
   "outputs": [],
   "source": [
    "prediction = lr.predict_proba(X_test)[:, 1]"
   ]
  },
  {
   "cell_type": "code",
   "execution_count": 143,
   "metadata": {
    "collapsed": false
   },
   "outputs": [
    {
     "data": {
      "text/plain": [
       "0.34999999999999998"
      ]
     },
     "execution_count": 143,
     "metadata": {},
     "output_type": "execute_result"
    }
   ],
   "source": [
    "accuracy_score(y_test, prediction)"
   ]
  },
  {
   "cell_type": "code",
   "execution_count": 144,
   "metadata": {
    "collapsed": false
   },
   "outputs": [
    {
     "name": "stdout",
     "output_type": "stream",
     "text": [
      "Так у них же пллан какой то есть, типа стоять на всех главных перекрестках0\n",
      "Только ковры на стены вешать, иначе слышно все1\n",
      "adddresssation о, спасибо чувак, и тебе зачёт великий! Хоть кто-то знает, насколько клёвая штука - осциллограф!0\n",
      "adddresssation Даже сапер имеет право на ошибку...Так вот...Я не он1\n",
      "adddresssation я не говорила что нет обработки. фотошоп исправляет недостатки, а здесь просто улучшено качество самой фотографии.1\n",
      "adddresssation мне не нужен допинг чтобы источать радость и хорошее настроение ☺1\n",
      "adddresssation ну это да. было бы желание.0\n",
      "adddresssation Вы имели ввиду \"никто не шутит\"0\n",
      "adddresssation Самвел армянское имя и к Махачкалинской области РФ(Дагестану) никакого отношения не имеет1\n",
      "В 6 движуха уже во всю0\n",
      "adddresssation Замена заявленного кондидата в олимпийских игр происходит как минимум за 3 дня и то по травме))1\n",
      "Посмотреть что ли в окно0\n",
      "adddresssation согласна, некоторые дети бросают своих стариков 😔1\n",
      "Пересматриваю все части, чтобы пойти на 7ю подготовленным. Раньше не видел ни одной... отличный фильм1\n",
      "adddresssation понятно))) старый он) из 90х редкая машина0\n",
      "На 9 Мая был похожий1\n",
      "Тоже только что прочитала, даже как-то гордость за любимый Врн1\n",
      "Блин своим завуалированием слова хu@Eт@ внепонятки меня ввели xD0\n",
      "да какой перестраиватся в марте снег еще будет как всегда1\n",
      "adddresssation прошу вас \"умача\" не выражаться! Я тоже умею1\n"
     ]
    }
   ],
   "source": [
    "ans = []\n",
    "for comment in comments_list[index_test]:\n",
    "    a = input(comment)\n",
    "    ans.append(int(a))"
   ]
  },
  {
   "cell_type": "code",
   "execution_count": 145,
   "metadata": {
    "collapsed": false
   },
   "outputs": [
    {
     "data": {
      "text/plain": [
       "12"
      ]
     },
     "execution_count": 145,
     "metadata": {},
     "output_type": "execute_result"
    }
   ],
   "source": [
    "sum(ans)"
   ]
  },
  {
   "cell_type": "code",
   "execution_count": 146,
   "metadata": {
    "collapsed": false
   },
   "outputs": [
    {
     "data": {
      "text/plain": [
       "20"
      ]
     },
     "execution_count": 146,
     "metadata": {},
     "output_type": "execute_result"
    }
   ],
   "source": [
    "len(ans)"
   ]
  },
  {
   "cell_type": "code",
   "execution_count": 147,
   "metadata": {
    "collapsed": false
   },
   "outputs": [
    {
     "data": {
      "text/plain": [
       "0.69999999999999996"
      ]
     },
     "execution_count": 147,
     "metadata": {},
     "output_type": "execute_result"
    }
   ],
   "source": [
    "accuracy_score(y_test, ans)"
   ]
  },
  {
   "cell_type": "code",
   "execution_count": 150,
   "metadata": {
    "collapsed": true
   },
   "outputs": [],
   "source": [
    "y_test = [int(y) for y in y_test]\n",
    "prediction = [int(p) for p in prediction]"
   ]
  },
  {
   "cell_type": "code",
   "execution_count": 153,
   "metadata": {
    "collapsed": false
   },
   "outputs": [
    {
     "data": {
      "text/plain": [
       "[('Так у них же пллан какой то есть, типа стоять на всех главных перекрестках',\n",
       "  0,\n",
       "  0.51186352495835707,\n",
       "  0),\n",
       " ('Только ковры на стены вешать, иначе слышно все', 0, 0.51120625719204627, 1),\n",
       " ('adddresssation о, спасибо чувак, и тебе зачёт великий! Хоть кто-то знает, насколько клёвая штука - осциллограф!',\n",
       "  0,\n",
       "  0.37807061591042296,\n",
       "  0),\n",
       " ('adddresssation Даже сапер имеет право на ошибку...Так вот...Я не он',\n",
       "  1,\n",
       "  0.54625583923717969,\n",
       "  1),\n",
       " ('adddresssation я не говорила что нет обработки. фотошоп исправляет недостатки, а здесь просто улучшено качество самой фотографии.',\n",
       "  1,\n",
       "  0.42449077280158115,\n",
       "  1),\n",
       " ('adddresssation мне не нужен допинг чтобы источать радость и хорошее настроение ☺',\n",
       "  1,\n",
       "  0.45122448038554991,\n",
       "  1),\n",
       " ('adddresssation ну это да. было бы желание.', 1, 0.61851027790870372, 0),\n",
       " ('adddresssation Вы имели ввиду \"никто не шутит\"', 0, 0.52869545175277877, 0),\n",
       " ('adddresssation Самвел армянское имя и к Махачкалинской области РФ(Дагестану) никакого отношения не имеет',\n",
       "  0,\n",
       "  0.45040599949695487,\n",
       "  1),\n",
       " ('В 6 движуха уже во всю', 0, 0.39837549253726412, 0),\n",
       " ('adddresssation Замена заявленного кондидата в олимпийских игр происходит как минимум за 3 дня и то по травме))',\n",
       "  1,\n",
       "  0.4691183406824872,\n",
       "  1),\n",
       " ('Посмотреть что ли в окно', 1, 0.46593979081283293, 0),\n",
       " ('adddresssation согласна, некоторые дети бросают своих стариков 😔',\n",
       "  0,\n",
       "  0.68355324739556522,\n",
       "  1),\n",
       " ('Пересматриваю все части, чтобы пойти на 7ю подготовленным. Раньше не видел ни одной... отличный фильм',\n",
       "  1,\n",
       "  0.4952845179172975,\n",
       "  1),\n",
       " ('adddresssation понятно))) старый он) из 90х редкая машина',\n",
       "  0,\n",
       "  0.47938382519448225,\n",
       "  0),\n",
       " ('На 9 Мая был похожий', 1, 0.38333197085632142, 1),\n",
       " ('Тоже только что прочитала, даже как-то гордость за любимый Врн',\n",
       "  1,\n",
       "  0.47495525520916054,\n",
       "  1),\n",
       " ('Блин своим завуалированием слова хu@Eт@ внепонятки меня ввели xD',\n",
       "  0,\n",
       "  0.6382715591565582,\n",
       "  0),\n",
       " ('да какой перестраиватся в марте снег еще будет как всегда',\n",
       "  1,\n",
       "  0.55630476325820843,\n",
       "  1),\n",
       " ('adddresssation прошу вас \"умача\" не выражаться! Я тоже умею',\n",
       "  0,\n",
       "  0.51009438714137001,\n",
       "  1)]"
      ]
     },
     "execution_count": 153,
     "metadata": {},
     "output_type": "execute_result"
    }
   ],
   "source": [
    "list(zip(comments_list[index_test], y_test, prediction, ans))"
   ]
  },
  {
   "cell_type": "code",
   "execution_count": null,
   "metadata": {
    "collapsed": true
   },
   "outputs": [],
   "source": []
  }
 ],
 "metadata": {
  "kernelspec": {
   "display_name": "Python 3",
   "language": "python",
   "name": "python3"
  },
  "language_info": {
   "codemirror_mode": {
    "name": "ipython",
    "version": 3
   },
   "file_extension": ".py",
   "mimetype": "text/x-python",
   "name": "python",
   "nbconvert_exporter": "python",
   "pygments_lexer": "ipython3",
   "version": "3.5.1"
  }
 },
 "nbformat": 4,
 "nbformat_minor": 0
}
