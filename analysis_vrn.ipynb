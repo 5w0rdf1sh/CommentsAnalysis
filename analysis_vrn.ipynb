{
 "cells": [
  {
   "cell_type": "code",
   "execution_count": 1,
   "metadata": {
    "collapsed": true
   },
   "outputs": [],
   "source": [
    "import numpy as np\n",
    "import pandas as pd\n",
    "import pickle\n",
    "import matplotlib.pyplot as plt\n",
    "import seaborn as sns\n",
    "from datetime import datetime\n",
    "%matplotlib inline"
   ]
  },
  {
   "cell_type": "code",
   "execution_count": 2,
   "metadata": {
    "collapsed": false
   },
   "outputs": [],
   "source": [
    "pd.set_option(\"display.max_columns\", 100)"
   ]
  },
  {
   "cell_type": "code",
   "execution_count": 3,
   "metadata": {
    "collapsed": true
   },
   "outputs": [],
   "source": [
    "comments_path = 'data/comments_-33041211.pkl'\n",
    "users_path = 'data/users_-33041211.pkl'"
   ]
  },
  {
   "cell_type": "code",
   "execution_count": 4,
   "metadata": {
    "collapsed": true
   },
   "outputs": [],
   "source": [
    "with open(comments_path, 'rb') as f:\n",
    "    comments = pickle.load(f)\n",
    "with open(users_path, 'rb') as f:\n",
    "    users = pickle.load(f)"
   ]
  },
  {
   "cell_type": "code",
   "execution_count": 5,
   "metadata": {
    "collapsed": false
   },
   "outputs": [],
   "source": [
    "comments_df = pd.DataFrame(comments)"
   ]
  },
  {
   "cell_type": "code",
   "execution_count": 6,
   "metadata": {
    "collapsed": false
   },
   "outputs": [
    {
     "data": {
      "text/html": [
       "<div>\n",
       "<table border=\"1\" class=\"dataframe\">\n",
       "  <thead>\n",
       "    <tr style=\"text-align: right;\">\n",
       "      <th></th>\n",
       "      <th>attachments</th>\n",
       "      <th>comment_id</th>\n",
       "      <th>date</th>\n",
       "      <th>from_id</th>\n",
       "      <th>likes</th>\n",
       "      <th>owner_id</th>\n",
       "      <th>reply_to_cid</th>\n",
       "      <th>reply_to_uid</th>\n",
       "      <th>text</th>\n",
       "    </tr>\n",
       "  </thead>\n",
       "  <tbody>\n",
       "    <tr>\n",
       "      <th>0</th>\n",
       "      <td>None</td>\n",
       "      <td>3343742</td>\n",
       "      <td>1481737553</td>\n",
       "      <td>386603734</td>\n",
       "      <td>0</td>\n",
       "      <td>-33041211</td>\n",
       "      <td>None</td>\n",
       "      <td>None</td>\n",
       "      <td>Хе мем</td>\n",
       "    </tr>\n",
       "    <tr>\n",
       "      <th>1</th>\n",
       "      <td>None</td>\n",
       "      <td>3343746</td>\n",
       "      <td>1481737608</td>\n",
       "      <td>20955167</td>\n",
       "      <td>0</td>\n",
       "      <td>-33041211</td>\n",
       "      <td>None</td>\n",
       "      <td>None</td>\n",
       "      <td>вжух, и денег нет</td>\n",
       "    </tr>\n",
       "    <tr>\n",
       "      <th>2</th>\n",
       "      <td>None</td>\n",
       "      <td>3343748</td>\n",
       "      <td>1481737616</td>\n",
       "      <td>95712212</td>\n",
       "      <td>2</td>\n",
       "      <td>-33041211</td>\n",
       "      <td>None</td>\n",
       "      <td>None</td>\n",
       "      <td>Есть мем = можно брать.</td>\n",
       "    </tr>\n",
       "    <tr>\n",
       "      <th>3</th>\n",
       "      <td>[{'photo': {'height': 480, 'photo_130': 'https...</td>\n",
       "      <td>3343758</td>\n",
       "      <td>1481737748</td>\n",
       "      <td>400676616</td>\n",
       "      <td>2</td>\n",
       "      <td>-33041211</td>\n",
       "      <td>None</td>\n",
       "      <td>None</td>\n",
       "      <td></td>\n",
       "    </tr>\n",
       "    <tr>\n",
       "      <th>4</th>\n",
       "      <td>None</td>\n",
       "      <td>3343762</td>\n",
       "      <td>1481737815</td>\n",
       "      <td>7272432</td>\n",
       "      <td>0</td>\n",
       "      <td>-33041211</td>\n",
       "      <td>None</td>\n",
       "      <td>None</td>\n",
       "      <td>Месяц назад страховалась. Машина 2008 года ока...</td>\n",
       "    </tr>\n",
       "  </tbody>\n",
       "</table>\n",
       "</div>"
      ],
      "text/plain": [
       "                                         attachments  comment_id        date  \\\n",
       "0                                               None     3343742  1481737553   \n",
       "1                                               None     3343746  1481737608   \n",
       "2                                               None     3343748  1481737616   \n",
       "3  [{'photo': {'height': 480, 'photo_130': 'https...     3343758  1481737748   \n",
       "4                                               None     3343762  1481737815   \n",
       "\n",
       "     from_id  likes   owner_id reply_to_cid reply_to_uid  \\\n",
       "0  386603734      0  -33041211         None         None   \n",
       "1   20955167      0  -33041211         None         None   \n",
       "2   95712212      2  -33041211         None         None   \n",
       "3  400676616      2  -33041211         None         None   \n",
       "4    7272432      0  -33041211         None         None   \n",
       "\n",
       "                                                text  \n",
       "0                                             Хе мем  \n",
       "1                                  вжух, и денег нет  \n",
       "2                            Есть мем = можно брать.  \n",
       "3                                                     \n",
       "4  Месяц назад страховалась. Машина 2008 года ока...  "
      ]
     },
     "execution_count": 6,
     "metadata": {},
     "output_type": "execute_result"
    }
   ],
   "source": [
    "comments_df.head()"
   ]
  },
  {
   "cell_type": "code",
   "execution_count": 7,
   "metadata": {
    "collapsed": false
   },
   "outputs": [
    {
     "data": {
      "text/plain": [
       "(2637605, 9)"
      ]
     },
     "execution_count": 7,
     "metadata": {},
     "output_type": "execute_result"
    }
   ],
   "source": [
    "comments_df.shape"
   ]
  },
  {
   "cell_type": "markdown",
   "metadata": {},
   "source": [
    "# Preparing data"
   ]
  },
  {
   "cell_type": "code",
   "execution_count": 8,
   "metadata": {
    "collapsed": true
   },
   "outputs": [],
   "source": [
    "def university_cond(user):\n",
    "    return len(user.get('universities', [])) == 1"
   ]
  },
  {
   "cell_type": "code",
   "execution_count": 9,
   "metadata": {
    "collapsed": true
   },
   "outputs": [],
   "source": [
    "def faculty_cond(user):\n",
    "    return user['universities'][0].get('faculty_name') is not None"
   ]
  },
  {
   "cell_type": "code",
   "execution_count": 10,
   "metadata": {
    "collapsed": true
   },
   "outputs": [],
   "source": [
    "users_with_univ = list(filter(university_cond, users))\n",
    "users_with_fac = list(filter(faculty_cond, users_with_univ))"
   ]
  },
  {
   "cell_type": "code",
   "execution_count": 23,
   "metadata": {
    "collapsed": false
   },
   "outputs": [
    {
     "data": {
      "text/plain": [
       "(13932, 10649)"
      ]
     },
     "execution_count": 23,
     "metadata": {},
     "output_type": "execute_result"
    }
   ],
   "source": [
    "len(users_with_univ), len(users_with_fac)"
   ]
  },
  {
   "cell_type": "code",
   "execution_count": 26,
   "metadata": {
    "collapsed": false
   },
   "outputs": [
    {
     "data": {
      "text/plain": [
       "{'activities': '',\n",
       " 'bdate': '28.1',\n",
       " 'books': '',\n",
       " 'can_see_all_posts': 1,\n",
       " 'can_see_audio': 0,\n",
       " 'can_write_private_message': 1,\n",
       " 'first_name': 'Evgenia',\n",
       " 'id': 135528883,\n",
       " 'interests': '',\n",
       " 'last_name': 'Bondarenko',\n",
       " 'movies': '',\n",
       " 'music': '',\n",
       " 'occupation': {'id': 3577, 'name': 'ВЭПИ', 'type': 'university'},\n",
       " 'personal': {'alcohol': 1,\n",
       "  'inspired_by': 'Огонь, лёд, вода, и самое главное Любовь и только любовь...',\n",
       "  'langs': ['Русский', 'English'],\n",
       "  'life_main': 7,\n",
       "  'people_main': 6,\n",
       "  'political': 3,\n",
       "  'religion': 'Православие',\n",
       "  'smoking': 1},\n",
       " 'relation': 2,\n",
       " 'sex': 1,\n",
       " 'status': '',\n",
       " 'universities': [{'chair': 105436,\n",
       "   'chair_name': 'Юриспруденции',\n",
       "   'city': 42,\n",
       "   'country': 1,\n",
       "   'faculty': 14546,\n",
       "   'faculty_name': 'Социально-правовой',\n",
       "   'id': 3577,\n",
       "   'name': 'ВЭПИ'}]}"
      ]
     },
     "execution_count": 26,
     "metadata": {},
     "output_type": "execute_result"
    }
   ],
   "source": [
    "users_with_fac[3]"
   ]
  },
  {
   "cell_type": "code",
   "execution_count": 27,
   "metadata": {
    "collapsed": false
   },
   "outputs": [
    {
     "data": {
      "text/plain": [
       "{'activities': '',\n",
       " 'bdate': '20.12.1991',\n",
       " 'books': '\\n',\n",
       " 'can_see_all_posts': 0,\n",
       " 'can_see_audio': 0,\n",
       " 'can_write_private_message': 0,\n",
       " 'first_name': 'Marina',\n",
       " 'id': 81264992,\n",
       " 'interests': '',\n",
       " 'last_name': 'Datsunova',\n",
       " 'movies': '',\n",
       " 'music': '',\n",
       " 'occupation': {'id': 450, 'name': 'ВГПУ', 'type': 'university'},\n",
       " 'personal': {'alcohol': 3, 'people_main': 2, 'smoking': 2},\n",
       " 'relation': 4,\n",
       " 'relation_partner': {'first_name': 'Konstantin',\n",
       "  'id': 21401614,\n",
       "  'last_name': 'Datsunov'},\n",
       " 'sex': 1,\n",
       " 'status': '',\n",
       " 'universities': [{'chair': 1802542,\n",
       "   'chair_name': 'Географии и туризма (бывш. Экономической и социальной географии, Физической географии)',\n",
       "   'city': 42,\n",
       "   'country': 1,\n",
       "   'education_form': 'Full-time',\n",
       "   'education_status': 'Alumna (Specialist)',\n",
       "   'faculty': 30454,\n",
       "   'faculty_name': 'Естественно-географический факультет',\n",
       "   'graduation': 2014,\n",
       "   'id': 450,\n",
       "   'name': 'ВГПУ\\r\\n'}]}"
      ]
     },
     "execution_count": 27,
     "metadata": {},
     "output_type": "execute_result"
    }
   ],
   "source": [
    "users_with_fac[0]"
   ]
  },
  {
   "cell_type": "code",
   "execution_count": 23,
   "metadata": {
    "collapsed": false
   },
   "outputs": [],
   "source": [
    "users_ = []\n",
    "for u in users_with_fac:\n",
    "    u.pop('occupation', None)\n",
    "    u.pop('relation_partner', None)\n",
    "    try:\n",
    "        univ = u.pop('universities')[0]\n",
    "    except:\n",
    "        univ = None\n",
    "    u.update({'univ_name': univ['name'], 'faculty_name': univ['faculty_name'],\n",
    "              'education_form': univ.get('education_form'), 'education_status': univ.get('education_status'),\n",
    "              'graduation': univ.get('graduation')})\n",
    "    \n",
    "    pers = u.pop('personal', None)\n",
    "    if pers:\n",
    "        u.update({'political': pers.get('political'), 'langs': ','.join(pers.get('langs', [])),\n",
    "                  'religion': pers.get('religion'), 'inspired_by': pers.get('inspired_by'),\n",
    "                  'people_main': pers.get('people_main'), 'life_main': pers.get('life_main'),\n",
    "                  'smoking': pers.get('smoking'), 'alcohol': pers.get('alcohol')})\n",
    "    users_.append(u)"
   ]
  },
  {
   "cell_type": "code",
   "execution_count": 24,
   "metadata": {
    "collapsed": false
   },
   "outputs": [
    {
     "data": {
      "text/plain": [
       "{'activities': '',\n",
       " 'alcohol': 4,\n",
       " 'bdate': '19.5',\n",
       " 'books': '',\n",
       " 'can_see_all_posts': 0,\n",
       " 'can_see_audio': 0,\n",
       " 'can_write_private_message': 1,\n",
       " 'education_form': 'Full-time',\n",
       " 'education_status': 'Student (Specialist)',\n",
       " 'faculty_name': 'Архитектурный',\n",
       " 'first_name': 'Maxim',\n",
       " 'graduation': 2013,\n",
       " 'id': 3932177,\n",
       " 'inspired_by': 'Близкие люди',\n",
       " 'interests': '',\n",
       " 'langs': 'Русский,English',\n",
       " 'last_name': 'Smirnov',\n",
       " 'life_main': 6,\n",
       " 'movies': '',\n",
       " 'music': '',\n",
       " 'people_main': 2,\n",
       " 'political': 3,\n",
       " 'relation': 1,\n",
       " 'religion': 'Православие',\n",
       " 'sex': 2,\n",
       " 'smoking': 4,\n",
       " 'status': '',\n",
       " 'univ_name': 'Воронежский ГАСУ'}"
      ]
     },
     "execution_count": 24,
     "metadata": {},
     "output_type": "execute_result"
    }
   ],
   "source": [
    "users_[0]"
   ]
  },
  {
   "cell_type": "code",
   "execution_count": 25,
   "metadata": {
    "collapsed": false
   },
   "outputs": [],
   "source": [
    "users_df = pd.DataFrame(users_)"
   ]
  },
  {
   "cell_type": "code",
   "execution_count": 26,
   "metadata": {
    "collapsed": false
   },
   "outputs": [],
   "source": [
    "with open('meta_data/vrn_fac.txt', 'w') as f:\n",
    "    f.writelines('\\n'.join(users_df.faculty_name.value_counts()[(users_df.faculty_name.value_counts() > 4)].keys().values))"
   ]
  },
  {
   "cell_type": "code",
   "execution_count": 27,
   "metadata": {
    "collapsed": false
   },
   "outputs": [
    {
     "data": {
      "text/plain": [
       "150"
      ]
     },
     "execution_count": 27,
     "metadata": {},
     "output_type": "execute_result"
    }
   ],
   "source": [
    "(users_df.faculty_name.value_counts() > 4).sum()"
   ]
  },
  {
   "cell_type": "code",
   "execution_count": 28,
   "metadata": {
    "collapsed": false
   },
   "outputs": [
    {
     "data": {
      "text/plain": [
       "9222"
      ]
     },
     "execution_count": 28,
     "metadata": {},
     "output_type": "execute_result"
    }
   ],
   "source": [
    "users_df.faculty_name.value_counts()[(users_df.faculty_name.value_counts() > 4)].values.sum()"
   ]
  },
  {
   "cell_type": "code",
   "execution_count": 29,
   "metadata": {
    "collapsed": false
   },
   "outputs": [],
   "source": [
    "ing, gum = [], []\n",
    "with open('meta_data/vrn_fac_.txt', 'r') as f:\n",
    "    for line in f.readlines():\n",
    "        if len(line) > 1:\n",
    "            line = line.strip()\n",
    "            if line[-1] == '0':\n",
    "                ing.append(line[:-2])\n",
    "            elif line[-1] == '1':\n",
    "                gum.append(line[:-2])"
   ]
  },
  {
   "cell_type": "code",
   "execution_count": 30,
   "metadata": {
    "collapsed": false
   },
   "outputs": [
    {
     "data": {
      "text/plain": [
       "(44, 91)"
      ]
     },
     "execution_count": 30,
     "metadata": {},
     "output_type": "execute_result"
    }
   ],
   "source": [
    "len(ing), len(gum)"
   ]
  },
  {
   "cell_type": "code",
   "execution_count": 31,
   "metadata": {
    "collapsed": false
   },
   "outputs": [
    {
     "data": {
      "text/plain": [
       "(['Экономический факультет',\n",
       "  'Экономический',\n",
       "  'Факультет прикладной математики, информатики и механики'],\n",
       " ['Юридический факультет', 'Лечебный факультет', 'Факультет журналистики'])"
      ]
     },
     "execution_count": 31,
     "metadata": {},
     "output_type": "execute_result"
    }
   ],
   "source": [
    "ing[:3], gum[:3]"
   ]
  },
  {
   "cell_type": "code",
   "execution_count": 32,
   "metadata": {
    "collapsed": false
   },
   "outputs": [],
   "source": [
    "users_df['is_gum'] = None"
   ]
  },
  {
   "cell_type": "code",
   "execution_count": 33,
   "metadata": {
    "collapsed": false
   },
   "outputs": [],
   "source": [
    "def get_is_gum(name):\n",
    "    name = name.strip()\n",
    "    if name in gum:\n",
    "        return 1\n",
    "    elif name in ing:\n",
    "        return 0\n",
    "    else: return None"
   ]
  },
  {
   "cell_type": "code",
   "execution_count": 34,
   "metadata": {
    "collapsed": false
   },
   "outputs": [],
   "source": [
    "users_df.is_gum = users_df.faculty_name.apply(get_is_gum)"
   ]
  },
  {
   "cell_type": "code",
   "execution_count": 35,
   "metadata": {
    "collapsed": false
   },
   "outputs": [],
   "source": [
    "users_df.dropna(subset=['is_gum'], inplace=True)"
   ]
  },
  {
   "cell_type": "code",
   "execution_count": 36,
   "metadata": {
    "collapsed": false
   },
   "outputs": [
    {
     "data": {
      "text/plain": [
       "1.0    4126\n",
       "0.0    4051\n",
       "Name: is_gum, dtype: int64"
      ]
     },
     "execution_count": 36,
     "metadata": {},
     "output_type": "execute_result"
    }
   ],
   "source": [
    "users_df.is_gum.value_counts()"
   ]
  },
  {
   "cell_type": "code",
   "execution_count": 37,
   "metadata": {
    "collapsed": false
   },
   "outputs": [
    {
     "data": {
      "text/plain": [
       "Index(['activities', 'alcohol', 'bdate', 'books', 'can_see_all_posts',\n",
       "       'can_see_audio', 'can_write_private_message', 'education_form',\n",
       "       'education_status', 'faculty_name', 'first_name', 'graduation', 'id',\n",
       "       'inspired_by', 'interests', 'langs', 'last_name', 'life_main', 'movies',\n",
       "       'music', 'people_main', 'political', 'relation', 'religion', 'sex',\n",
       "       'smoking', 'status', 'status_audio', 'univ_name', 'is_gum'],\n",
       "      dtype='object')"
      ]
     },
     "execution_count": 37,
     "metadata": {},
     "output_type": "execute_result"
    }
   ],
   "source": [
    "users_df.columns"
   ]
  },
  {
   "cell_type": "markdown",
   "metadata": {},
   "source": [
    "# Demographic"
   ]
  },
  {
   "cell_type": "markdown",
   "metadata": {},
   "source": [
    "## Sex"
   ]
  },
  {
   "cell_type": "code",
   "execution_count": 38,
   "metadata": {
    "collapsed": false
   },
   "outputs": [
    {
     "data": {
      "text/plain": [
       "1.0    4126\n",
       "0.0    4051\n",
       "Name: is_gum, dtype: int64"
      ]
     },
     "execution_count": 38,
     "metadata": {},
     "output_type": "execute_result"
    }
   ],
   "source": [
    "users_vc = users_df.is_gum.value_counts()\n",
    "users_vc"
   ]
  },
  {
   "cell_type": "code",
   "execution_count": 39,
   "metadata": {
    "collapsed": false
   },
   "outputs": [
    {
     "data": {
      "text/plain": [
       "75"
      ]
     },
     "execution_count": 39,
     "metadata": {},
     "output_type": "execute_result"
    }
   ],
   "source": [
    "delta = users_vc[1] - users_vc[0]\n",
    "delta"
   ]
  },
  {
   "cell_type": "code",
   "execution_count": 40,
   "metadata": {
    "collapsed": true
   },
   "outputs": [],
   "source": [
    "index_to_del = np.random.choice(users_df[users_df.is_gum == 1].index, delta, replace=False)"
   ]
  },
  {
   "cell_type": "code",
   "execution_count": 41,
   "metadata": {
    "collapsed": false
   },
   "outputs": [
    {
     "data": {
      "image/png": "[encoded data removed]",
      "text/plain": [
       "<matplotlib.figure.Figure at 0x7fb64ec9deb8>"
      ]
     },
     "metadata": {},
     "output_type": "display_data"
    }
   ],
   "source": [
    "g = sns.countplot(x='sex', hue='is_gum',  data=users_df.drop(index_to_del))"
   ]
  },
  {
   "cell_type": "markdown",
   "metadata": {},
   "source": [
    "## Alcohol"
   ]
  },
  {
   "cell_type": "code",
   "execution_count": 42,
   "metadata": {
    "collapsed": false
   },
   "outputs": [
    {
     "data": {
      "text/plain": [
       "1.0    1525\n",
       "0.0    1510\n",
       "Name: is_gum, dtype: int64"
      ]
     },
     "execution_count": 42,
     "metadata": {},
     "output_type": "execute_result"
    }
   ],
   "source": [
    "alcohol_df = users_df.dropna(subset=['alcohol'])\n",
    "alcohol_vc = alcohol_df.is_gum.value_counts()\n",
    "alcohol_vc"
   ]
  },
  {
   "cell_type": "code",
   "execution_count": 43,
   "metadata": {
    "collapsed": false
   },
   "outputs": [
    {
     "data": {
      "text/plain": [
       "15"
      ]
     },
     "execution_count": 43,
     "metadata": {},
     "output_type": "execute_result"
    }
   ],
   "source": [
    "delta = alcohol_vc[1] - alcohol_vc[0]\n",
    "delta"
   ]
  },
  {
   "cell_type": "code",
   "execution_count": 44,
   "metadata": {
    "collapsed": false
   },
   "outputs": [
    {
     "name": "stderr",
     "output_type": "stream",
     "text": [
      "/home/digitman/anaconda3/lib/python3.5/site-packages/ipykernel/__main__.py:2: SettingWithCopyWarning: \n",
      "A value is trying to be set on a copy of a slice from a DataFrame\n",
      "\n",
      "See the caveats in the documentation: http://pandas.pydata.org/pandas-docs/stable/indexing.html#indexing-view-versus-copy\n",
      "  from ipykernel import kernelapp as app\n"
     ]
    },
    {
     "data": {
      "text/plain": [
       "1.0    1510\n",
       "0.0    1510\n",
       "Name: is_gum, dtype: int64"
      ]
     },
     "execution_count": 44,
     "metadata": {},
     "output_type": "execute_result"
    }
   ],
   "source": [
    "index_to_del = np.random.choice(alcohol_df[alcohol_df.is_gum == 1].index, delta, replace=False)\n",
    "alcohol_df.drop(index_to_del, inplace=True)\n",
    "alcohol_df.is_gum.value_counts()"
   ]
  },
  {
   "cell_type": "code",
   "execution_count": 45,
   "metadata": {
    "collapsed": false
   },
   "outputs": [
    {
     "data": {
      "image/png": "[encoded data removed]",
      "text/plain": [
       "<matplotlib.figure.Figure at 0x7fb64eda9d68>"
      ]
     },
     "metadata": {},
     "output_type": "display_data"
    }
   ],
   "source": [
    "g = sns.countplot(x='alcohol', hue='is_gum',  data=alcohol_df)"
   ]
  },
  {
   "cell_type": "markdown",
   "metadata": {},
   "source": [
    "## Smoking"
   ]
  },
  {
   "cell_type": "code",
   "execution_count": 46,
   "metadata": {
    "collapsed": false
   },
   "outputs": [
    {
     "data": {
      "text/plain": [
       "1.0    1591\n",
       "0.0    1570\n",
       "Name: is_gum, dtype: int64"
      ]
     },
     "execution_count": 46,
     "metadata": {},
     "output_type": "execute_result"
    }
   ],
   "source": [
    "smoking_df = users_df.dropna(subset=['smoking'])\n",
    "smoking_vc = smoking_df.is_gum.value_counts()\n",
    "smoking_vc"
   ]
  },
  {
   "cell_type": "code",
   "execution_count": 47,
   "metadata": {
    "collapsed": false
   },
   "outputs": [
    {
     "data": {
      "text/plain": [
       "21"
      ]
     },
     "execution_count": 47,
     "metadata": {},
     "output_type": "execute_result"
    }
   ],
   "source": [
    "delta = smoking_vc[1] - smoking_vc[0]\n",
    "delta"
   ]
  },
  {
   "cell_type": "code",
   "execution_count": 48,
   "metadata": {
    "collapsed": false
   },
   "outputs": [
    {
     "name": "stderr",
     "output_type": "stream",
     "text": [
      "/home/digitman/anaconda3/lib/python3.5/site-packages/ipykernel/__main__.py:2: SettingWithCopyWarning: \n",
      "A value is trying to be set on a copy of a slice from a DataFrame\n",
      "\n",
      "See the caveats in the documentation: http://pandas.pydata.org/pandas-docs/stable/indexing.html#indexing-view-versus-copy\n",
      "  from ipykernel import kernelapp as app\n"
     ]
    },
    {
     "data": {
      "text/plain": [
       "1.0    1570\n",
       "0.0    1570\n",
       "Name: is_gum, dtype: int64"
      ]
     },
     "execution_count": 48,
     "metadata": {},
     "output_type": "execute_result"
    }
   ],
   "source": [
    "index_to_del = np.random.choice(smoking_df[smoking_df.is_gum == 1].index, delta, replace=False)\n",
    "smoking_df.drop(index_to_del, inplace=True)\n",
    "smoking_df.is_gum.value_counts()"
   ]
  },
  {
   "cell_type": "code",
   "execution_count": 49,
   "metadata": {
    "collapsed": false
   },
   "outputs": [
    {
     "data": {
      "image/png": "[encoded data removed]",
      "text/plain": [
       "<matplotlib.figure.Figure at 0x7fb64f13cd30>"
      ]
     },
     "metadata": {},
     "output_type": "display_data"
    }
   ],
   "source": [
    "g = sns.countplot(x='smoking', hue='is_gum',  data=smoking_df)"
   ]
  },
  {
   "cell_type": "markdown",
   "metadata": {},
   "source": [
    "## Political"
   ]
  },
  {
   "cell_type": "code",
   "execution_count": 50,
   "metadata": {
    "collapsed": false
   },
   "outputs": [
    {
     "data": {
      "text/plain": [
       "0.0    1518\n",
       "1.0    1501\n",
       "Name: is_gum, dtype: int64"
      ]
     },
     "execution_count": 50,
     "metadata": {},
     "output_type": "execute_result"
    }
   ],
   "source": [
    "political_df = users_df.dropna(subset=['political'])\n",
    "political_vc = political_df.is_gum.value_counts()\n",
    "political_vc"
   ]
  },
  {
   "cell_type": "code",
   "execution_count": 52,
   "metadata": {
    "collapsed": false
   },
   "outputs": [
    {
     "data": {
      "text/plain": [
       "17"
      ]
     },
     "execution_count": 52,
     "metadata": {},
     "output_type": "execute_result"
    }
   ],
   "source": [
    "delta = political_vc[0] - political_vc[1]\n",
    "delta"
   ]
  },
  {
   "cell_type": "code",
   "execution_count": 53,
   "metadata": {
    "collapsed": false
   },
   "outputs": [
    {
     "name": "stderr",
     "output_type": "stream",
     "text": [
      "/home/digitman/anaconda3/lib/python3.5/site-packages/ipykernel/__main__.py:2: SettingWithCopyWarning: \n",
      "A value is trying to be set on a copy of a slice from a DataFrame\n",
      "\n",
      "See the caveats in the documentation: http://pandas.pydata.org/pandas-docs/stable/indexing.html#indexing-view-versus-copy\n",
      "  from ipykernel import kernelapp as app\n"
     ]
    },
    {
     "data": {
      "text/plain": [
       "1.0    1501\n",
       "0.0    1501\n",
       "Name: is_gum, dtype: int64"
      ]
     },
     "execution_count": 53,
     "metadata": {},
     "output_type": "execute_result"
    }
   ],
   "source": [
    "index_to_del = np.random.choice(political_df[political_df.is_gum == 0].index, delta, replace=False)\n",
    "political_df.drop(index_to_del, inplace=True)\n",
    "political_df.is_gum.value_counts()"
   ]
  },
  {
   "cell_type": "code",
   "execution_count": 54,
   "metadata": {
    "collapsed": false
   },
   "outputs": [
    {
     "data": {
      "image/png": "[encoded data removed]",
      "text/plain": [
       "<matplotlib.figure.Figure at 0x7fb64f353f28>"
      ]
     },
     "metadata": {},
     "output_type": "display_data"
    }
   ],
   "source": [
    "g = sns.countplot(x='political', hue='is_gum',  data=political_df)"
   ]
  },
  {
   "cell_type": "markdown",
   "metadata": {},
   "source": [
    "## Relation"
   ]
  },
  {
   "cell_type": "code",
   "execution_count": 55,
   "metadata": {
    "collapsed": false
   },
   "outputs": [
    {
     "data": {
      "text/plain": [
       "1.0    4126\n",
       "0.0    4051\n",
       "Name: is_gum, dtype: int64"
      ]
     },
     "execution_count": 55,
     "metadata": {},
     "output_type": "execute_result"
    }
   ],
   "source": [
    "relation_df = users_df.dropna(subset=['relation'])\n",
    "relation_vc = relation_df.is_gum.value_counts()\n",
    "relation_vc"
   ]
  },
  {
   "cell_type": "code",
   "execution_count": 56,
   "metadata": {
    "collapsed": false
   },
   "outputs": [
    {
     "data": {
      "text/plain": [
       "75"
      ]
     },
     "execution_count": 56,
     "metadata": {},
     "output_type": "execute_result"
    }
   ],
   "source": [
    "delta = relation_vc[1] - relation_vc[0]\n",
    "delta"
   ]
  },
  {
   "cell_type": "code",
   "execution_count": 57,
   "metadata": {
    "collapsed": false
   },
   "outputs": [
    {
     "data": {
      "text/plain": [
       "1.0    4051\n",
       "0.0    4051\n",
       "Name: is_gum, dtype: int64"
      ]
     },
     "execution_count": 57,
     "metadata": {},
     "output_type": "execute_result"
    }
   ],
   "source": [
    "index_to_del = np.random.choice(relation_df[relation_df.is_gum == 1].index, delta, replace=False)\n",
    "relation_df.drop(index_to_del, inplace=True)\n",
    "relation_df.is_gum.value_counts()"
   ]
  },
  {
   "cell_type": "code",
   "execution_count": 58,
   "metadata": {
    "collapsed": false
   },
   "outputs": [
    {
     "data": {
      "image/png": "[encoded data removed]",
      "text/plain": [
       "<matplotlib.figure.Figure at 0x7fb64f37ff28>"
      ]
     },
     "metadata": {},
     "output_type": "display_data"
    }
   ],
   "source": [
    "g = sns.countplot(x='relation', hue='is_gum',  data=relation_df)"
   ]
  },
  {
   "cell_type": "markdown",
   "metadata": {},
   "source": [
    "## Life-main"
   ]
  },
  {
   "cell_type": "code",
   "execution_count": 59,
   "metadata": {
    "collapsed": false
   },
   "outputs": [
    {
     "data": {
      "text/plain": [
       "1.0    1620\n",
       "0.0    1474\n",
       "Name: is_gum, dtype: int64"
      ]
     },
     "execution_count": 59,
     "metadata": {},
     "output_type": "execute_result"
    }
   ],
   "source": [
    "life_main_df = users_df.dropna(subset=['life_main'])\n",
    "life_main_vc = life_main_df.is_gum.value_counts()\n",
    "life_main_vc"
   ]
  },
  {
   "cell_type": "code",
   "execution_count": 60,
   "metadata": {
    "collapsed": false
   },
   "outputs": [
    {
     "data": {
      "text/plain": [
       "146"
      ]
     },
     "execution_count": 60,
     "metadata": {},
     "output_type": "execute_result"
    }
   ],
   "source": [
    "delta = life_main_vc[1] - life_main_vc[0]\n",
    "delta"
   ]
  },
  {
   "cell_type": "code",
   "execution_count": 61,
   "metadata": {
    "collapsed": false
   },
   "outputs": [
    {
     "name": "stderr",
     "output_type": "stream",
     "text": [
      "/home/digitman/anaconda3/lib/python3.5/site-packages/ipykernel/__main__.py:2: SettingWithCopyWarning: \n",
      "A value is trying to be set on a copy of a slice from a DataFrame\n",
      "\n",
      "See the caveats in the documentation: http://pandas.pydata.org/pandas-docs/stable/indexing.html#indexing-view-versus-copy\n",
      "  from ipykernel import kernelapp as app\n"
     ]
    },
    {
     "data": {
      "text/plain": [
       "1.0    1474\n",
       "0.0    1474\n",
       "Name: is_gum, dtype: int64"
      ]
     },
     "execution_count": 61,
     "metadata": {},
     "output_type": "execute_result"
    }
   ],
   "source": [
    "index_to_del = np.random.choice(life_main_df[life_main_df.is_gum == 1].index, delta, replace=False)\n",
    "life_main_df.drop(index_to_del, inplace=True)\n",
    "life_main_df.is_gum.value_counts()"
   ]
  },
  {
   "cell_type": "code",
   "execution_count": 62,
   "metadata": {
    "collapsed": false
   },
   "outputs": [
    {
     "data": {
      "image/png": "[encoded data removed]",
      "text/plain": [
       "<matplotlib.figure.Figure at 0x7fb64f713710>"
      ]
     },
     "metadata": {},
     "output_type": "display_data"
    }
   ],
   "source": [
    "g = sns.countplot(x='life_main', hue='is_gum',  data=life_main_df)"
   ]
  },
  {
   "cell_type": "markdown",
   "metadata": {},
   "source": [
    "## People-main"
   ]
  },
  {
   "cell_type": "code",
   "execution_count": 63,
   "metadata": {
    "collapsed": false
   },
   "outputs": [
    {
     "data": {
      "text/plain": [
       "1.0    1664\n",
       "0.0    1546\n",
       "Name: is_gum, dtype: int64"
      ]
     },
     "execution_count": 63,
     "metadata": {},
     "output_type": "execute_result"
    }
   ],
   "source": [
    "people_main_df = users_df.dropna(subset=['people_main'])\n",
    "people_main_vc = people_main_df.is_gum.value_counts()\n",
    "people_main_vc"
   ]
  },
  {
   "cell_type": "code",
   "execution_count": 64,
   "metadata": {
    "collapsed": false
   },
   "outputs": [
    {
     "data": {
      "text/plain": [
       "118"
      ]
     },
     "execution_count": 64,
     "metadata": {},
     "output_type": "execute_result"
    }
   ],
   "source": [
    "delta = people_main_vc[1] - people_main_vc[0]\n",
    "delta"
   ]
  },
  {
   "cell_type": "code",
   "execution_count": 65,
   "metadata": {
    "collapsed": false
   },
   "outputs": [
    {
     "name": "stderr",
     "output_type": "stream",
     "text": [
      "/home/digitman/anaconda3/lib/python3.5/site-packages/ipykernel/__main__.py:2: SettingWithCopyWarning: \n",
      "A value is trying to be set on a copy of a slice from a DataFrame\n",
      "\n",
      "See the caveats in the documentation: http://pandas.pydata.org/pandas-docs/stable/indexing.html#indexing-view-versus-copy\n",
      "  from ipykernel import kernelapp as app\n"
     ]
    },
    {
     "data": {
      "text/plain": [
       "1.0    1546\n",
       "0.0    1546\n",
       "Name: is_gum, dtype: int64"
      ]
     },
     "execution_count": 65,
     "metadata": {},
     "output_type": "execute_result"
    }
   ],
   "source": [
    "index_to_del = np.random.choice(people_main_df[people_main_df.is_gum == 1].index, delta, replace=False)\n",
    "people_main_df.drop(index_to_del, inplace=True)\n",
    "people_main_df.is_gum.value_counts()"
   ]
  },
  {
   "cell_type": "code",
   "execution_count": 66,
   "metadata": {
    "collapsed": false
   },
   "outputs": [
    {
     "data": {
      "image/png": "[encoded data removed]",
      "text/plain": [
       "<matplotlib.figure.Figure at 0x7fb66d7d9ba8>"
      ]
     },
     "metadata": {},
     "output_type": "display_data"
    }
   ],
   "source": [
    "g = sns.countplot(x='people_main', hue='is_gum',  data=people_main_df)"
   ]
  },
  {
   "cell_type": "markdown",
   "metadata": {},
   "source": [
    "## Month"
   ]
  },
  {
   "cell_type": "code",
   "execution_count": 67,
   "metadata": {
    "collapsed": false
   },
   "outputs": [],
   "source": [
    "users_df.bdate = pd.to_datetime(users_df.bdate, errors='coerce')"
   ]
  },
  {
   "cell_type": "code",
   "execution_count": 68,
   "metadata": {
    "collapsed": true
   },
   "outputs": [],
   "source": [
    "bdate_df = users_df.dropna(subset=['bdate'])"
   ]
  },
  {
   "cell_type": "code",
   "execution_count": 69,
   "metadata": {
    "collapsed": false
   },
   "outputs": [
    {
     "data": {
      "text/plain": [
       "0.0    2181\n",
       "1.0    2146\n",
       "Name: is_gum, dtype: int64"
      ]
     },
     "execution_count": 69,
     "metadata": {},
     "output_type": "execute_result"
    }
   ],
   "source": [
    "bdate_vc = bdate_df.is_gum.value_counts()\n",
    "bdate_vc"
   ]
  },
  {
   "cell_type": "code",
   "execution_count": 71,
   "metadata": {
    "collapsed": false
   },
   "outputs": [
    {
     "data": {
      "text/plain": [
       "35"
      ]
     },
     "execution_count": 71,
     "metadata": {},
     "output_type": "execute_result"
    }
   ],
   "source": [
    "delta = bdate_vc[0] - bdate_vc[1]\n",
    "delta"
   ]
  },
  {
   "cell_type": "code",
   "execution_count": 72,
   "metadata": {
    "collapsed": false
   },
   "outputs": [
    {
     "data": {
      "text/plain": [
       "(35,)"
      ]
     },
     "execution_count": 72,
     "metadata": {},
     "output_type": "execute_result"
    }
   ],
   "source": [
    "index_to_del = np.random.choice(bdate_df[bdate_df.is_gum == 0].index, delta, replace=False)\n",
    "index_to_del.shape"
   ]
  },
  {
   "cell_type": "code",
   "execution_count": 73,
   "metadata": {
    "collapsed": false
   },
   "outputs": [
    {
     "name": "stderr",
     "output_type": "stream",
     "text": [
      "/home/digitman/anaconda3/lib/python3.5/site-packages/ipykernel/__main__.py:1: SettingWithCopyWarning: \n",
      "A value is trying to be set on a copy of a slice from a DataFrame\n",
      "\n",
      "See the caveats in the documentation: http://pandas.pydata.org/pandas-docs/stable/indexing.html#indexing-view-versus-copy\n",
      "  if __name__ == '__main__':\n"
     ]
    },
    {
     "data": {
      "text/plain": [
       "0.0    2146\n",
       "1.0    2146\n",
       "Name: is_gum, dtype: int64"
      ]
     },
     "execution_count": 73,
     "metadata": {},
     "output_type": "execute_result"
    }
   ],
   "source": [
    "bdate_df.drop(index_to_del, inplace=True)\n",
    "bdate_df.is_gum.value_counts()"
   ]
  },
  {
   "cell_type": "code",
   "execution_count": 74,
   "metadata": {
    "collapsed": false
   },
   "outputs": [
    {
     "name": "stderr",
     "output_type": "stream",
     "text": [
      "/home/digitman/anaconda3/lib/python3.5/site-packages/ipykernel/__main__.py:1: SettingWithCopyWarning: \n",
      "A value is trying to be set on a copy of a slice from a DataFrame.\n",
      "Try using .loc[row_indexer,col_indexer] = value instead\n",
      "\n",
      "See the caveats in the documentation: http://pandas.pydata.org/pandas-docs/stable/indexing.html#indexing-view-versus-copy\n",
      "  if __name__ == '__main__':\n"
     ]
    }
   ],
   "source": [
    "bdate_df['bmonth'] = bdate_df.bdate.apply(lambda x: x.month if x else x)"
   ]
  },
  {
   "cell_type": "code",
   "execution_count": 75,
   "metadata": {
    "collapsed": false
   },
   "outputs": [
    {
     "data": {
      "image/png": "[encoded data removed]",
      "text/plain": [
       "<matplotlib.figure.Figure at 0x7fb6d07efe48>"
      ]
     },
     "metadata": {},
     "output_type": "display_data"
    }
   ],
   "source": [
    "g = sns.countplot(x='bmonth', hue='is_gum',  data=bdate_df)"
   ]
  },
  {
   "cell_type": "markdown",
   "metadata": {},
   "source": [
    "# Comments"
   ]
  },
  {
   "cell_type": "code",
   "execution_count": 76,
   "metadata": {
    "collapsed": false
   },
   "outputs": [
    {
     "name": "stdout",
     "output_type": "stream",
     "text": [
      "<class 'pandas.core.frame.DataFrame'>\n",
      "RangeIndex: 2637605 entries, 0 to 2637604\n",
      "Data columns (total 9 columns):\n",
      "attachments     object\n",
      "comment_id      int64\n",
      "date            int64\n",
      "from_id         int64\n",
      "likes           int64\n",
      "owner_id        object\n",
      "reply_to_cid    object\n",
      "reply_to_uid    object\n",
      "text            object\n",
      "dtypes: int64(4), object(5)\n",
      "memory usage: 181.1+ MB\n"
     ]
    }
   ],
   "source": [
    "comments_df.info()"
   ]
  },
  {
   "cell_type": "code",
   "execution_count": 77,
   "metadata": {
    "collapsed": true
   },
   "outputs": [],
   "source": [
    "comments_merged = comments_df.merge(users_df[['id', 'is_gum', 'sex']], left_on='from_id', right_on='id', how='inner')"
   ]
  },
  {
   "cell_type": "markdown",
   "metadata": {},
   "source": [
    "### Generating hour from comment date"
   ]
  },
  {
   "cell_type": "code",
   "execution_count": 78,
   "metadata": {
    "collapsed": false
   },
   "outputs": [],
   "source": [
    "comments_merged['hour'] = comments_merged.date.apply(lambda x: datetime.fromtimestamp(x).hour)"
   ]
  },
  {
   "cell_type": "code",
   "execution_count": 79,
   "metadata": {
    "collapsed": false
   },
   "outputs": [
    {
     "name": "stdout",
     "output_type": "stream",
     "text": [
      "<class 'pandas.core.frame.DataFrame'>\n",
      "Int64Index: 193716 entries, 0 to 193715\n",
      "Data columns (total 13 columns):\n",
      "attachments     11104 non-null object\n",
      "comment_id      193716 non-null int64\n",
      "date            193716 non-null int64\n",
      "from_id         193716 non-null int64\n",
      "likes           193716 non-null int64\n",
      "owner_id        193716 non-null object\n",
      "reply_to_cid    0 non-null object\n",
      "reply_to_uid    0 non-null object\n",
      "text            193716 non-null object\n",
      "id              193716 non-null int64\n",
      "is_gum          193716 non-null float64\n",
      "sex             193716 non-null int64\n",
      "hour            193716 non-null int64\n",
      "dtypes: float64(1), int64(7), object(5)\n",
      "memory usage: 20.7+ MB\n"
     ]
    }
   ],
   "source": [
    "comments_merged.info()"
   ]
  },
  {
   "cell_type": "code",
   "execution_count": 80,
   "metadata": {
    "collapsed": false
   },
   "outputs": [
    {
     "data": {
      "text/html": [
       "<div>\n",
       "<table border=\"1\" class=\"dataframe\">\n",
       "  <thead>\n",
       "    <tr style=\"text-align: right;\">\n",
       "      <th></th>\n",
       "      <th>attachments</th>\n",
       "      <th>comment_id</th>\n",
       "      <th>date</th>\n",
       "      <th>from_id</th>\n",
       "      <th>likes</th>\n",
       "      <th>owner_id</th>\n",
       "      <th>reply_to_cid</th>\n",
       "      <th>reply_to_uid</th>\n",
       "      <th>text</th>\n",
       "      <th>id</th>\n",
       "      <th>is_gum</th>\n",
       "      <th>sex</th>\n",
       "      <th>hour</th>\n",
       "    </tr>\n",
       "  </thead>\n",
       "  <tbody>\n",
       "    <tr>\n",
       "      <th>0</th>\n",
       "      <td>None</td>\n",
       "      <td>3343769</td>\n",
       "      <td>1481737910</td>\n",
       "      <td>9048238</td>\n",
       "      <td>1</td>\n",
       "      <td>-33041211</td>\n",
       "      <td>None</td>\n",
       "      <td>None</td>\n",
       "      <td>Вжух даже здесь</td>\n",
       "      <td>9048238</td>\n",
       "      <td>0.0</td>\n",
       "      <td>2</td>\n",
       "      <td>20</td>\n",
       "    </tr>\n",
       "    <tr>\n",
       "      <th>1</th>\n",
       "      <td>None</td>\n",
       "      <td>3272879</td>\n",
       "      <td>1478856041</td>\n",
       "      <td>9048238</td>\n",
       "      <td>3</td>\n",
       "      <td>-33041211</td>\n",
       "      <td>None</td>\n",
       "      <td>None</td>\n",
       "      <td>И пишите аккуратнее 😞</td>\n",
       "      <td>9048238</td>\n",
       "      <td>0.0</td>\n",
       "      <td>2</td>\n",
       "      <td>12</td>\n",
       "    </tr>\n",
       "    <tr>\n",
       "      <th>2</th>\n",
       "      <td>None</td>\n",
       "      <td>3210918</td>\n",
       "      <td>1475864318</td>\n",
       "      <td>9048238</td>\n",
       "      <td>0</td>\n",
       "      <td>-33041211</td>\n",
       "      <td>None</td>\n",
       "      <td>None</td>\n",
       "      <td>Это #имбрина 😏</td>\n",
       "      <td>9048238</td>\n",
       "      <td>0.0</td>\n",
       "      <td>2</td>\n",
       "      <td>21</td>\n",
       "    </tr>\n",
       "    <tr>\n",
       "      <th>3</th>\n",
       "      <td>None</td>\n",
       "      <td>1785419</td>\n",
       "      <td>1434244396</td>\n",
       "      <td>9048238</td>\n",
       "      <td>0</td>\n",
       "      <td>-33041211</td>\n",
       "      <td>None</td>\n",
       "      <td>None</td>\n",
       "      <td>3</td>\n",
       "      <td>9048238</td>\n",
       "      <td>0.0</td>\n",
       "      <td>2</td>\n",
       "      <td>4</td>\n",
       "    </tr>\n",
       "    <tr>\n",
       "      <th>4</th>\n",
       "      <td>None</td>\n",
       "      <td>1293387</td>\n",
       "      <td>1410276900</td>\n",
       "      <td>9048238</td>\n",
       "      <td>0</td>\n",
       "      <td>-33041211</td>\n",
       "      <td>None</td>\n",
       "      <td>None</td>\n",
       "      <td>на что фотографировали?</td>\n",
       "      <td>9048238</td>\n",
       "      <td>0.0</td>\n",
       "      <td>2</td>\n",
       "      <td>19</td>\n",
       "    </tr>\n",
       "  </tbody>\n",
       "</table>\n",
       "</div>"
      ],
      "text/plain": [
       "  attachments  comment_id        date  from_id  likes   owner_id reply_to_cid  \\\n",
       "0        None     3343769  1481737910  9048238      1  -33041211         None   \n",
       "1        None     3272879  1478856041  9048238      3  -33041211         None   \n",
       "2        None     3210918  1475864318  9048238      0  -33041211         None   \n",
       "3        None     1785419  1434244396  9048238      0  -33041211         None   \n",
       "4        None     1293387  1410276900  9048238      0  -33041211         None   \n",
       "\n",
       "  reply_to_uid                     text       id  is_gum  sex  hour  \n",
       "0         None          Вжух даже здесь  9048238     0.0    2    20  \n",
       "1         None    И пишите аккуратнее 😞  9048238     0.0    2    12  \n",
       "2         None           Это #имбрина 😏  9048238     0.0    2    21  \n",
       "3         None                        3  9048238     0.0    2     4  \n",
       "4         None  на что фотографировали?  9048238     0.0    2    19  "
      ]
     },
     "execution_count": 80,
     "metadata": {},
     "output_type": "execute_result"
    }
   ],
   "source": [
    "comments_merged.head()"
   ]
  },
  {
   "cell_type": "code",
   "execution_count": 81,
   "metadata": {
    "collapsed": false
   },
   "outputs": [
    {
     "data": {
      "text/plain": [
       "2    130877\n",
       "1     62839\n",
       "Name: sex, dtype: int64"
      ]
     },
     "execution_count": 81,
     "metadata": {},
     "output_type": "execute_result"
    }
   ],
   "source": [
    "comments_merged.sex.value_counts()"
   ]
  },
  {
   "cell_type": "markdown",
   "metadata": {},
   "source": [
    "## Nice plot"
   ]
  },
  {
   "cell_type": "code",
   "execution_count": 82,
   "metadata": {
    "collapsed": true
   },
   "outputs": [],
   "source": [
    "comments_merged['Гумманитарий'] = comments_merged.is_gum"
   ]
  },
  {
   "cell_type": "code",
   "execution_count": 97,
   "metadata": {
    "collapsed": false
   },
   "outputs": [],
   "source": [
    "comments_merged.Гумманитарий = comments_merged.Гумманитарий.map({0: False, 1: True})"
   ]
  },
  {
   "cell_type": "code",
   "execution_count": 98,
   "metadata": {
    "collapsed": false
   },
   "outputs": [
    {
     "data": {
      "text/plain": [
       "0.0    102886\n",
       "1.0     90830\n",
       "Name: is_gum, dtype: int64"
      ]
     },
     "execution_count": 98,
     "metadata": {},
     "output_type": "execute_result"
    }
   ],
   "source": [
    "merged_vc = comments_merged.is_gum.value_counts()\n",
    "merged_vc"
   ]
  },
  {
   "cell_type": "code",
   "execution_count": 86,
   "metadata": {
    "collapsed": false
   },
   "outputs": [
    {
     "data": {
      "text/plain": [
       "12056"
      ]
     },
     "execution_count": 86,
     "metadata": {},
     "output_type": "execute_result"
    }
   ],
   "source": [
    "delta = merged_vc[0] - merged_vc[1]\n",
    "delta"
   ]
  },
  {
   "cell_type": "code",
   "execution_count": 89,
   "metadata": {
    "collapsed": false
   },
   "outputs": [],
   "source": [
    "index_to_del = np.random.choice(comments_merged[comments_merged.is_gum == 0].index, delta, replace=False)"
   ]
  },
  {
   "cell_type": "code",
   "execution_count": 90,
   "metadata": {
    "collapsed": false
   },
   "outputs": [
    {
     "data": {
      "text/plain": [
       "1.0    90830\n",
       "0.0    90830\n",
       "Name: is_gum, dtype: int64"
      ]
     },
     "execution_count": 90,
     "metadata": {},
     "output_type": "execute_result"
    }
   ],
   "source": [
    "merged_ = comments_merged.drop(index_to_del)\n",
    "merged_.is_gum.value_counts()"
   ]
  },
  {
   "cell_type": "code",
   "execution_count": 91,
   "metadata": {
    "collapsed": true
   },
   "outputs": [],
   "source": [
    "%matplotlib inline"
   ]
  },
  {
   "cell_type": "code",
   "execution_count": 92,
   "metadata": {
    "collapsed": false
   },
   "outputs": [
    {
     "data": {
      "text/plain": [
       "<matplotlib.text.Text at 0x7fb64ee76d68>"
      ]
     },
     "execution_count": 92,
     "metadata": {},
     "output_type": "execute_result"
    },
    {
     "data": {
      "image/png": "[encoded data removed]",
      "text/plain": [
       "<matplotlib.figure.Figure at 0x7fb64f277c88>"
      ]
     },
     "metadata": {},
     "output_type": "display_data"
    }
   ],
   "source": [
    "sns.set(font_scale=1.2)\n",
    "g = sns.countplot(x='hour', hue='Гумманитарий', data=merged_, saturation=0.9)\n",
    "g.set_ylabel('Кол-во сообщений')\n",
    "g.set_xlabel('Время')\n",
    "plt.title('Комментарии в \"Типичный Воронеж\"')\n"
   ]
  },
  {
   "cell_type": "markdown",
   "metadata": {},
   "source": [
    "## Another"
   ]
  },
  {
   "cell_type": "code",
   "execution_count": 93,
   "metadata": {
    "collapsed": false
   },
   "outputs": [
    {
     "data": {
      "text/plain": [
       "<seaborn.axisgrid.FacetGrid at 0x7fb64f413128>"
      ]
     },
     "execution_count": 93,
     "metadata": {},
     "output_type": "execute_result"
    },
    {
     "data": {
      "image/png": "[encoded data removed]",
      "text/plain": [
       "<matplotlib.figure.Figure at 0x7fb64f23bf98>"
      ]
     },
     "metadata": {},
     "output_type": "display_data"
    }
   ],
   "source": [
    "sns.factorplot(x='is_gum', y='likes', data=merged_)"
   ]
  },
  {
   "cell_type": "markdown",
   "metadata": {},
   "source": [
    "## Saving"
   ]
  },
  {
   "cell_type": "code",
   "execution_count": 100,
   "metadata": {
    "collapsed": false
   },
   "outputs": [
    {
     "data": {
      "text/plain": [
       "(185612, 14)"
      ]
     },
     "execution_count": 100,
     "metadata": {},
     "output_type": "execute_result"
    }
   ],
   "source": [
    "index_to_del = comments_merged[comments_merged.text == ''].index\n",
    "comments_merged.drop(index_to_del, inplace=True)\n",
    "comments_merged.shape"
   ]
  },
  {
   "cell_type": "code",
   "execution_count": 101,
   "metadata": {
    "collapsed": false
   },
   "outputs": [],
   "source": [
    "comments_merged[['from_id', 'text', 'is_gum', 'hour', 'likes', 'sex']].to_csv('data/comments_vrn.csv.gz',\n",
    "                                                                       index=False, compression='gzip')"
   ]
  }
 ],
 "metadata": {
  "anaconda-cloud": {},
  "kernelspec": {
   "display_name": "Python [default]",
   "language": "python",
   "name": "python3"
  },
  "language_info": {
   "codemirror_mode": {
    "name": "ipython",
    "version": 3
   },
   "file_extension": ".py",
   "mimetype": "text/x-python",
   "name": "python",
   "nbconvert_exporter": "python",
   "pygments_lexer": "ipython3",
   "version": "3.5.2"
  }
 },
 "nbformat": 4,
 "nbformat_minor": 0
}
