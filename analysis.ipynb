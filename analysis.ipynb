{
 "cells": [
  {
   "cell_type": "code",
   "execution_count": 1,
   "metadata": {
    "collapsed": true
   },
   "outputs": [],
   "source": [
    "import numpy as np\n",
    "import pandas as pd\n",
    "import pickle\n",
    "import matplotlib.pyplot as plt\n",
    "import seaborn as sns\n",
    "%matplotlib inline"
   ]
  },
  {
   "cell_type": "code",
   "execution_count": 2,
   "metadata": {
    "collapsed": false
   },
   "outputs": [],
   "source": [
    "pd.set_option(\"display.max_columns\", 100)"
   ]
  },
  {
   "cell_type": "code",
   "execution_count": 3,
   "metadata": {
    "collapsed": true
   },
   "outputs": [],
   "source": [
    "comments_path = 'data/comments_-33041211.pkl'\n",
    "users_path = 'data/users_-33041211.pkl'"
   ]
  },
  {
   "cell_type": "code",
   "execution_count": 4,
   "metadata": {
    "collapsed": true
   },
   "outputs": [],
   "source": [
    "with open(comments_path, 'rb') as f:\n",
    "    comments = pickle.load(f)\n",
    "with open(users_path, 'rb') as f:\n",
    "    users = pickle.load(f)"
   ]
  },
  {
   "cell_type": "code",
   "execution_count": 5,
   "metadata": {
    "collapsed": false
   },
   "outputs": [],
   "source": [
    "comments_df = pd.DataFrame(comments)"
   ]
  },
  {
   "cell_type": "code",
   "execution_count": 6,
   "metadata": {
    "collapsed": false
   },
   "outputs": [
    {
     "data": {
      "text/html": [
       "<div>\n",
       "<table border=\"1\" class=\"dataframe\">\n",
       "  <thead>\n",
       "    <tr style=\"text-align: right;\">\n",
       "      <th></th>\n",
       "      <th>attachments</th>\n",
       "      <th>comment_id</th>\n",
       "      <th>date</th>\n",
       "      <th>from_id</th>\n",
       "      <th>likes</th>\n",
       "      <th>owner_id</th>\n",
       "      <th>reply_to_cid</th>\n",
       "      <th>reply_to_uid</th>\n",
       "      <th>text</th>\n",
       "    </tr>\n",
       "  </thead>\n",
       "  <tbody>\n",
       "    <tr>\n",
       "      <th>0</th>\n",
       "      <td>None</td>\n",
       "      <td>3222687</td>\n",
       "      <td>1476546572</td>\n",
       "      <td>310448946</td>\n",
       "      <td>0</td>\n",
       "      <td>-33041211</td>\n",
       "      <td>None</td>\n",
       "      <td>None</td>\n",
       "      <td>Мой мир никогда не станет прежним</td>\n",
       "    </tr>\n",
       "    <tr>\n",
       "      <th>1</th>\n",
       "      <td>None</td>\n",
       "      <td>3222688</td>\n",
       "      <td>1476546577</td>\n",
       "      <td>65801702</td>\n",
       "      <td>80</td>\n",
       "      <td>-33041211</td>\n",
       "      <td>None</td>\n",
       "      <td>None</td>\n",
       "      <td>Только Факел - только победа!!!!</td>\n",
       "    </tr>\n",
       "    <tr>\n",
       "      <th>2</th>\n",
       "      <td>None</td>\n",
       "      <td>3222689</td>\n",
       "      <td>1476546593</td>\n",
       "      <td>17288600</td>\n",
       "      <td>0</td>\n",
       "      <td>-33041211</td>\n",
       "      <td>None</td>\n",
       "      <td>None</td>\n",
       "      <td>и убегает с поля 😨\\nумно!</td>\n",
       "    </tr>\n",
       "    <tr>\n",
       "      <th>3</th>\n",
       "      <td>None</td>\n",
       "      <td>3222690</td>\n",
       "      <td>1476546602</td>\n",
       "      <td>36494568</td>\n",
       "      <td>19</td>\n",
       "      <td>-33041211</td>\n",
       "      <td>None</td>\n",
       "      <td>None</td>\n",
       "      <td>Спасибо тебе родной</td>\n",
       "    </tr>\n",
       "    <tr>\n",
       "      <th>4</th>\n",
       "      <td>None</td>\n",
       "      <td>3222695</td>\n",
       "      <td>1476546647</td>\n",
       "      <td>146226190</td>\n",
       "      <td>3</td>\n",
       "      <td>-33041211</td>\n",
       "      <td>None</td>\n",
       "      <td>None</td>\n",
       "      <td>ОБОЖАЮ</td>\n",
       "    </tr>\n",
       "  </tbody>\n",
       "</table>\n",
       "</div>"
      ],
      "text/plain": [
       "  attachments  comment_id        date    from_id  likes   owner_id  \\\n",
       "0        None     3222687  1476546572  310448946      0  -33041211   \n",
       "1        None     3222688  1476546577   65801702     80  -33041211   \n",
       "2        None     3222689  1476546593   17288600      0  -33041211   \n",
       "3        None     3222690  1476546602   36494568     19  -33041211   \n",
       "4        None     3222695  1476546647  146226190      3  -33041211   \n",
       "\n",
       "  reply_to_cid reply_to_uid                               text  \n",
       "0         None         None  Мой мир никогда не станет прежним  \n",
       "1         None         None   Только Факел - только победа!!!!  \n",
       "2         None         None          и убегает с поля 😨\\nумно!  \n",
       "3         None         None                Спасибо тебе родной  \n",
       "4         None         None                             ОБОЖАЮ  "
      ]
     },
     "execution_count": 6,
     "metadata": {},
     "output_type": "execute_result"
    }
   ],
   "source": [
    "comments_df.head()"
   ]
  },
  {
   "cell_type": "markdown",
   "metadata": {},
   "source": [
    "# Preparing data"
   ]
  },
  {
   "cell_type": "code",
   "execution_count": 7,
   "metadata": {
    "collapsed": true
   },
   "outputs": [],
   "source": [
    "def university_cond(user):\n",
    "    return len(user.get('universities', [])) == 1"
   ]
  },
  {
   "cell_type": "code",
   "execution_count": 8,
   "metadata": {
    "collapsed": true
   },
   "outputs": [],
   "source": [
    "def faculty_cond(user):\n",
    "    return user['universities'][0].get('faculty_name') is not None"
   ]
  },
  {
   "cell_type": "code",
   "execution_count": 9,
   "metadata": {
    "collapsed": true
   },
   "outputs": [],
   "source": [
    "users_with_univ = list(filter(university_cond, users))\n",
    "users_with_fac = list(filter(faculty_cond, users_with_univ))"
   ]
  },
  {
   "cell_type": "code",
   "execution_count": 10,
   "metadata": {
    "collapsed": false
   },
   "outputs": [
    {
     "data": {
      "text/plain": [
       "(13721, 10492)"
      ]
     },
     "execution_count": 10,
     "metadata": {},
     "output_type": "execute_result"
    }
   ],
   "source": [
    "len(users_with_univ), len(users_with_fac)"
   ]
  },
  {
   "cell_type": "code",
   "execution_count": 11,
   "metadata": {
    "collapsed": false
   },
   "outputs": [
    {
     "data": {
      "text/plain": [
       "{'activities': 'fanático de películas de dibujos animados (Family Guy)',\n",
       " 'books': \"Pikul', Strugatskiy's\",\n",
       " 'can_see_all_posts': 0,\n",
       " 'can_see_audio': 1,\n",
       " 'can_write_private_message': 1,\n",
       " 'first_name': 'Vladimir',\n",
       " 'id': 8126548,\n",
       " 'interests': 'idiomas extranjeras',\n",
       " 'last_name': 'Orlov',\n",
       " 'movies': '',\n",
       " 'music': 'ASOT, IKON, lounge, chill-out, Solarsoul, Placebo (primeros), Y. Schevchuk, Depeche Mode, U2 etc',\n",
       " 'occupation': {'id': 446,\n",
       "  'name': 'ВГУИТ (бывш. ВГТА, ВТИ)',\n",
       "  'type': 'university'},\n",
       " 'personal': {'alcohol': 4,\n",
       "  'inspired_by': 'Хомэр Симпсон',\n",
       "  'people_main': 6,\n",
       "  'political': 8,\n",
       "  'religion': 'I want to believe',\n",
       "  'smoking': 3},\n",
       " 'relation': 4,\n",
       " 'relation_partner': {'first_name': 'Maria',\n",
       "  'id': 3491163,\n",
       "  'last_name': 'Orlova'},\n",
       " 'sex': 2,\n",
       " 'status': '- Следите за лишним весом? - Слежу. За тем, как он растёт.',\n",
       " 'universities': [{'chair': 58493,\n",
       "   'chair_name': 'Технологии молока и молочных продуктов',\n",
       "   'city': 0,\n",
       "   'country': 1,\n",
       "   'education_form': 'Full-time',\n",
       "   'faculty': 12752,\n",
       "   'faculty_name': 'Технологический',\n",
       "   'graduation': 2008,\n",
       "   'id': 446,\n",
       "   'name': 'ВГТА (бывш. ВТИ)'}]}"
      ]
     },
     "execution_count": 11,
     "metadata": {},
     "output_type": "execute_result"
    }
   ],
   "source": [
    "users_with_fac[3]"
   ]
  },
  {
   "cell_type": "code",
   "execution_count": 12,
   "metadata": {
    "collapsed": false
   },
   "outputs": [],
   "source": [
    "users_ = []\n",
    "for u in users_with_fac:\n",
    "    u.pop('occupation', None)\n",
    "    u.pop('relation_partner', None)\n",
    "    univ = u.pop('universities')[0]\n",
    "    u.update({'univ_name': univ['name'], 'faculty_name': univ['faculty_name'],\n",
    "              'education_form': univ.get('education_form'), 'education_status': univ.get('education_status'),\n",
    "              'graduation': univ.get('graduation')})\n",
    "    pers = u.pop('personal')\n",
    "    if pers:\n",
    "        u.update({'political': pers.get('political'), 'langs': ','.join(pers.get('langs', [])),\n",
    "                  'religion': pers.get('religion'), 'inspired_by': pers.get('inspired_by'),\n",
    "                  'people_main': pers.get('people_main'), 'life_main': pers.get('life_main'),\n",
    "                  'smoking': pers.get('smoking'), 'alcohol': pers.get('alcohol')})\n",
    "    users_.append(u)"
   ]
  },
  {
   "cell_type": "code",
   "execution_count": 13,
   "metadata": {
    "collapsed": false
   },
   "outputs": [
    {
     "data": {
      "text/plain": [
       "{'activities': '',\n",
       " 'alcohol': 4,\n",
       " 'bdate': '19.5',\n",
       " 'books': '',\n",
       " 'can_see_all_posts': 0,\n",
       " 'can_see_audio': 0,\n",
       " 'can_write_private_message': 1,\n",
       " 'education_form': 'Full-time',\n",
       " 'education_status': 'Student (Specialist)',\n",
       " 'faculty_name': 'Архитектурный',\n",
       " 'first_name': 'Maxim',\n",
       " 'graduation': 2013,\n",
       " 'id': 3932177,\n",
       " 'inspired_by': 'Близкие люди',\n",
       " 'interests': '',\n",
       " 'langs': 'Русский,English',\n",
       " 'last_name': 'Smirnov',\n",
       " 'life_main': 6,\n",
       " 'movies': '',\n",
       " 'music': '',\n",
       " 'people_main': 2,\n",
       " 'political': 3,\n",
       " 'relation': 1,\n",
       " 'religion': 'Православие',\n",
       " 'sex': 2,\n",
       " 'smoking': 4,\n",
       " 'status': '',\n",
       " 'univ_name': 'Воронежский ГАСУ'}"
      ]
     },
     "execution_count": 13,
     "metadata": {},
     "output_type": "execute_result"
    }
   ],
   "source": [
    "users_[0]"
   ]
  },
  {
   "cell_type": "code",
   "execution_count": 14,
   "metadata": {
    "collapsed": false
   },
   "outputs": [],
   "source": [
    "users_df = pd.DataFrame(users_)"
   ]
  },
  {
   "cell_type": "code",
   "execution_count": 15,
   "metadata": {
    "collapsed": false
   },
   "outputs": [],
   "source": [
    "with open('ing_.txt', 'w') as f:\n",
    "    f.writelines('\\n'.join(users_df.faculty_name.value_counts()[(users_df.faculty_name.value_counts() > 4)].keys().values))"
   ]
  },
  {
   "cell_type": "code",
   "execution_count": 16,
   "metadata": {
    "collapsed": false
   },
   "outputs": [
    {
     "data": {
      "text/plain": [
       "146"
      ]
     },
     "execution_count": 16,
     "metadata": {},
     "output_type": "execute_result"
    }
   ],
   "source": [
    "(users_df.faculty_name.value_counts() > 4).sum()"
   ]
  },
  {
   "cell_type": "code",
   "execution_count": 17,
   "metadata": {
    "collapsed": false
   },
   "outputs": [
    {
     "data": {
      "text/plain": [
       "9071"
      ]
     },
     "execution_count": 17,
     "metadata": {},
     "output_type": "execute_result"
    }
   ],
   "source": [
    "users_df.faculty_name.value_counts()[(users_df.faculty_name.value_counts() > 4)].values.sum()"
   ]
  },
  {
   "cell_type": "code",
   "execution_count": 18,
   "metadata": {
    "collapsed": true
   },
   "outputs": [],
   "source": [
    "with open('ing.txt', 'r') as f:\n",
    "    ing = [line.strip() for line in f.readlines()]\n",
    "with open('gum.txt', 'r') as f:\n",
    "    gum = [line.strip() for line in f.readlines()]"
   ]
  },
  {
   "cell_type": "code",
   "execution_count": 19,
   "metadata": {
    "collapsed": false
   },
   "outputs": [
    {
     "data": {
      "text/plain": [
       "(['Экономический факультет',\n",
       "  'Экономический',\n",
       "  'Факультет прикладной математики, информатики и механики'],\n",
       " ['Юридический факультет',\n",
       "  'Экономики и управления',\n",
       "  'Экономика и управление на предприятии'])"
      ]
     },
     "execution_count": 19,
     "metadata": {},
     "output_type": "execute_result"
    }
   ],
   "source": [
    "ing[:3], gum[:3]"
   ]
  },
  {
   "cell_type": "code",
   "execution_count": 20,
   "metadata": {
    "collapsed": false
   },
   "outputs": [],
   "source": [
    "users_df['is_gum'] = None"
   ]
  },
  {
   "cell_type": "code",
   "execution_count": 21,
   "metadata": {
    "collapsed": false
   },
   "outputs": [],
   "source": [
    "def get_is_gum(name):\n",
    "    name = name.strip()\n",
    "    if name in gum:\n",
    "        return 1\n",
    "    elif name in ing:\n",
    "        return 0\n",
    "    else: return None"
   ]
  },
  {
   "cell_type": "code",
   "execution_count": 22,
   "metadata": {
    "collapsed": false
   },
   "outputs": [],
   "source": [
    "users_df.is_gum = users_df.faculty_name.apply(get_is_gum)"
   ]
  },
  {
   "cell_type": "code",
   "execution_count": 23,
   "metadata": {
    "collapsed": false
   },
   "outputs": [],
   "source": [
    "users_df.dropna(subset=['is_gum'], inplace=True)"
   ]
  },
  {
   "cell_type": "code",
   "execution_count": 24,
   "metadata": {
    "collapsed": false
   },
   "outputs": [
    {
     "data": {
      "text/plain": [
       "1.0    4036\n",
       "0.0    4012\n",
       "Name: is_gum, dtype: int64"
      ]
     },
     "execution_count": 24,
     "metadata": {},
     "output_type": "execute_result"
    }
   ],
   "source": [
    "users_df.is_gum.value_counts()"
   ]
  },
  {
   "cell_type": "code",
   "execution_count": 25,
   "metadata": {
    "collapsed": false
   },
   "outputs": [
    {
     "data": {
      "text/plain": [
       "Index(['activities', 'alcohol', 'bdate', 'books', 'can_see_all_posts',\n",
       "       'can_see_audio', 'can_write_private_message', 'education_form',\n",
       "       'education_status', 'faculty_name', 'first_name', 'graduation', 'id',\n",
       "       'inspired_by', 'interests', 'langs', 'last_name', 'life_main', 'movies',\n",
       "       'music', 'people_main', 'political', 'relation', 'religion', 'sex',\n",
       "       'smoking', 'status', 'status_audio', 'univ_name', 'is_gum'],\n",
       "      dtype='object')"
      ]
     },
     "execution_count": 25,
     "metadata": {},
     "output_type": "execute_result"
    }
   ],
   "source": [
    "users_df.columns"
   ]
  },
  {
   "cell_type": "markdown",
   "metadata": {},
   "source": [
    "# Demographic"
   ]
  },
  {
   "cell_type": "markdown",
   "metadata": {},
   "source": [
    "## Sex"
   ]
  },
  {
   "cell_type": "code",
   "execution_count": 26,
   "metadata": {
    "collapsed": false
   },
   "outputs": [
    {
     "data": {
      "text/plain": [
       "1.0    4036\n",
       "0.0    4012\n",
       "Name: is_gum, dtype: int64"
      ]
     },
     "execution_count": 26,
     "metadata": {},
     "output_type": "execute_result"
    }
   ],
   "source": [
    "users_vc = users_df.is_gum.value_counts()\n",
    "users_vc"
   ]
  },
  {
   "cell_type": "code",
   "execution_count": 71,
   "metadata": {
    "collapsed": false
   },
   "outputs": [
    {
     "data": {
      "text/plain": [
       "24"
      ]
     },
     "execution_count": 71,
     "metadata": {},
     "output_type": "execute_result"
    }
   ],
   "source": [
    "delta = users_vc[1] - users_vc[0]\n",
    "delta"
   ]
  },
  {
   "cell_type": "code",
   "execution_count": 77,
   "metadata": {
    "collapsed": true
   },
   "outputs": [],
   "source": [
    "index_to_del = np.random.choice(users_df[users_df.is_gum == 1].index, delta, replace=False)"
   ]
  },
  {
   "cell_type": "code",
   "execution_count": 78,
   "metadata": {
    "collapsed": false
   },
   "outputs": [
    {
     "data": {
      "image/png": "[encoded data removed]",
      "text/plain": [
       "<matplotlib.figure.Figure at 0x7f5bb4f2b0f0>"
      ]
     },
     "metadata": {},
     "output_type": "display_data"
    }
   ],
   "source": [
    "g = sns.countplot(x='sex', hue='is_gum',  data=users_df.drop(index_to_del))"
   ]
  },
  {
   "cell_type": "markdown",
   "metadata": {},
   "source": [
    "## Alcohol"
   ]
  },
  {
   "cell_type": "code",
   "execution_count": 80,
   "metadata": {
    "collapsed": false
   },
   "outputs": [
    {
     "data": {
      "text/plain": [
       "1.0    1487\n",
       "0.0    1475\n",
       "Name: is_gum, dtype: int64"
      ]
     },
     "execution_count": 80,
     "metadata": {},
     "output_type": "execute_result"
    }
   ],
   "source": [
    "alcohol_df = users_df.dropna(subset=['alcohol'])\n",
    "alcohol_vc = alcohol_df.is_gum.value_counts()\n",
    "alcohol_vc"
   ]
  },
  {
   "cell_type": "code",
   "execution_count": 81,
   "metadata": {
    "collapsed": false
   },
   "outputs": [
    {
     "data": {
      "text/plain": [
       "12"
      ]
     },
     "execution_count": 81,
     "metadata": {},
     "output_type": "execute_result"
    }
   ],
   "source": [
    "delta = alcohol_vc[1] - alcohol_vc[0]\n",
    "delta"
   ]
  },
  {
   "cell_type": "code",
   "execution_count": 82,
   "metadata": {
    "collapsed": false
   },
   "outputs": [
    {
     "name": "stderr",
     "output_type": "stream",
     "text": [
      "/home/digitman/anaconda3/lib/python3.5/site-packages/ipykernel/__main__.py:2: SettingWithCopyWarning: \n",
      "A value is trying to be set on a copy of a slice from a DataFrame\n",
      "\n",
      "See the caveats in the documentation: http://pandas.pydata.org/pandas-docs/stable/indexing.html#indexing-view-versus-copy\n",
      "  from ipykernel import kernelapp as app\n"
     ]
    },
    {
     "data": {
      "text/plain": [
       "1.0    1475\n",
       "0.0    1475\n",
       "Name: is_gum, dtype: int64"
      ]
     },
     "execution_count": 82,
     "metadata": {},
     "output_type": "execute_result"
    }
   ],
   "source": [
    "index_to_del = np.random.choice(alcohol_df[alcohol_df.is_gum == 1].index, delta, replace=False)\n",
    "alcohol_df.drop(index_to_del, inplace=True)\n",
    "alcohol_df.is_gum.value_counts()"
   ]
  },
  {
   "cell_type": "code",
   "execution_count": 83,
   "metadata": {
    "collapsed": false
   },
   "outputs": [
    {
     "data": {
      "image/png": "[encoded data removed]",
      "text/plain": [
       "<matplotlib.figure.Figure at 0x7f5bb3854198>"
      ]
     },
     "metadata": {},
     "output_type": "display_data"
    }
   ],
   "source": [
    "g = sns.countplot(x='alcohol', hue='is_gum',  data=alcohol_df)"
   ]
  },
  {
   "cell_type": "markdown",
   "metadata": {},
   "source": [
    "## Smoking"
   ]
  },
  {
   "cell_type": "code",
   "execution_count": 86,
   "metadata": {
    "collapsed": false
   },
   "outputs": [
    {
     "data": {
      "text/plain": [
       "1.0    1543\n",
       "0.0    1529\n",
       "Name: is_gum, dtype: int64"
      ]
     },
     "execution_count": 86,
     "metadata": {},
     "output_type": "execute_result"
    }
   ],
   "source": [
    "smoking_df = users_df.dropna(subset=['smoking'])\n",
    "smoking_vc = smoking_df.is_gum.value_counts()\n",
    "smoking_vc"
   ]
  },
  {
   "cell_type": "code",
   "execution_count": 87,
   "metadata": {
    "collapsed": false
   },
   "outputs": [
    {
     "data": {
      "text/plain": [
       "14"
      ]
     },
     "execution_count": 87,
     "metadata": {},
     "output_type": "execute_result"
    }
   ],
   "source": [
    "delta = smoking_vc[1] - smoking_vc[0]\n",
    "delta"
   ]
  },
  {
   "cell_type": "code",
   "execution_count": 88,
   "metadata": {
    "collapsed": false
   },
   "outputs": [
    {
     "name": "stderr",
     "output_type": "stream",
     "text": [
      "/home/digitman/anaconda3/lib/python3.5/site-packages/ipykernel/__main__.py:2: SettingWithCopyWarning: \n",
      "A value is trying to be set on a copy of a slice from a DataFrame\n",
      "\n",
      "See the caveats in the documentation: http://pandas.pydata.org/pandas-docs/stable/indexing.html#indexing-view-versus-copy\n",
      "  from ipykernel import kernelapp as app\n"
     ]
    },
    {
     "data": {
      "text/plain": [
       "1.0    1529\n",
       "0.0    1529\n",
       "Name: is_gum, dtype: int64"
      ]
     },
     "execution_count": 88,
     "metadata": {},
     "output_type": "execute_result"
    }
   ],
   "source": [
    "index_to_del = np.random.choice(smoking_df[smoking_df.is_gum == 1].index, delta, replace=False)\n",
    "smoking_df.drop(index_to_del, inplace=True)\n",
    "smoking_df.is_gum.value_counts()"
   ]
  },
  {
   "cell_type": "code",
   "execution_count": 89,
   "metadata": {
    "collapsed": false
   },
   "outputs": [
    {
     "data": {
      "image/png": "[encoded data removed]",
      "text/plain": [
       "<matplotlib.figure.Figure at 0x7f5bb4f1ca20>"
      ]
     },
     "metadata": {},
     "output_type": "display_data"
    }
   ],
   "source": [
    "g = sns.countplot(x='smoking', hue='is_gum',  data=smoking_df)"
   ]
  },
  {
   "cell_type": "markdown",
   "metadata": {},
   "source": [
    "## Political"
   ]
  },
  {
   "cell_type": "code",
   "execution_count": 90,
   "metadata": {
    "collapsed": false
   },
   "outputs": [
    {
     "data": {
      "text/plain": [
       "0.0    1508\n",
       "1.0    1466\n",
       "Name: is_gum, dtype: int64"
      ]
     },
     "execution_count": 90,
     "metadata": {},
     "output_type": "execute_result"
    }
   ],
   "source": [
    "political_df = users_df.dropna(subset=['political'])\n",
    "political_vc = political_df.is_gum.value_counts()\n",
    "political_vc"
   ]
  },
  {
   "cell_type": "code",
   "execution_count": 91,
   "metadata": {
    "collapsed": false
   },
   "outputs": [
    {
     "data": {
      "text/plain": [
       "42"
      ]
     },
     "execution_count": 91,
     "metadata": {},
     "output_type": "execute_result"
    }
   ],
   "source": [
    "delta = political_vc[0] - political_vc[1]\n",
    "delta"
   ]
  },
  {
   "cell_type": "code",
   "execution_count": 92,
   "metadata": {
    "collapsed": false
   },
   "outputs": [
    {
     "name": "stderr",
     "output_type": "stream",
     "text": [
      "/home/digitman/anaconda3/lib/python3.5/site-packages/ipykernel/__main__.py:2: SettingWithCopyWarning: \n",
      "A value is trying to be set on a copy of a slice from a DataFrame\n",
      "\n",
      "See the caveats in the documentation: http://pandas.pydata.org/pandas-docs/stable/indexing.html#indexing-view-versus-copy\n",
      "  from ipykernel import kernelapp as app\n"
     ]
    },
    {
     "data": {
      "text/plain": [
       "1.0    1466\n",
       "0.0    1466\n",
       "Name: is_gum, dtype: int64"
      ]
     },
     "execution_count": 92,
     "metadata": {},
     "output_type": "execute_result"
    }
   ],
   "source": [
    "index_to_del = np.random.choice(political_df[political_df.is_gum == 0].index, delta, replace=False)\n",
    "political_df.drop(index_to_del, inplace=True)\n",
    "political_df.is_gum.value_counts()"
   ]
  },
  {
   "cell_type": "code",
   "execution_count": 93,
   "metadata": {
    "collapsed": false
   },
   "outputs": [
    {
     "data": {
      "image/png": "[encoded data removed]",
      "text/plain": [
       "<matplotlib.figure.Figure at 0x7f5bb3935cc0>"
      ]
     },
     "metadata": {},
     "output_type": "display_data"
    }
   ],
   "source": [
    "g = sns.countplot(x='political', hue='is_gum',  data=political_df)"
   ]
  },
  {
   "cell_type": "markdown",
   "metadata": {},
   "source": [
    "## Relation"
   ]
  },
  {
   "cell_type": "code",
   "execution_count": 94,
   "metadata": {
    "collapsed": false
   },
   "outputs": [
    {
     "data": {
      "text/plain": [
       "1.0    4036\n",
       "0.0    4012\n",
       "Name: is_gum, dtype: int64"
      ]
     },
     "execution_count": 94,
     "metadata": {},
     "output_type": "execute_result"
    }
   ],
   "source": [
    "relation_df = users_df.dropna(subset=['relation'])\n",
    "relation_vc = relation_df.is_gum.value_counts()\n",
    "relation_vc"
   ]
  },
  {
   "cell_type": "code",
   "execution_count": 95,
   "metadata": {
    "collapsed": false
   },
   "outputs": [
    {
     "data": {
      "text/plain": [
       "24"
      ]
     },
     "execution_count": 95,
     "metadata": {},
     "output_type": "execute_result"
    }
   ],
   "source": [
    "delta = relation_vc[1] - relation_vc[0]\n",
    "delta"
   ]
  },
  {
   "cell_type": "code",
   "execution_count": 96,
   "metadata": {
    "collapsed": false
   },
   "outputs": [
    {
     "data": {
      "text/plain": [
       "1.0    4012\n",
       "0.0    4012\n",
       "Name: is_gum, dtype: int64"
      ]
     },
     "execution_count": 96,
     "metadata": {},
     "output_type": "execute_result"
    }
   ],
   "source": [
    "index_to_del = np.random.choice(relation_df[relation_df.is_gum == 1].index, delta, replace=False)\n",
    "relation_df.drop(index_to_del, inplace=True)\n",
    "relation_df.is_gum.value_counts()"
   ]
  },
  {
   "cell_type": "code",
   "execution_count": 97,
   "metadata": {
    "collapsed": false
   },
   "outputs": [
    {
     "data": {
      "image/png": "[encoded data removed]",
      "text/plain": [
       "<matplotlib.figure.Figure at 0x7f5bb3814eb8>"
      ]
     },
     "metadata": {},
     "output_type": "display_data"
    }
   ],
   "source": [
    "g = sns.countplot(x='relation', hue='is_gum',  data=relation_df)"
   ]
  },
  {
   "cell_type": "markdown",
   "metadata": {},
   "source": [
    "## Life-main"
   ]
  },
  {
   "cell_type": "code",
   "execution_count": 98,
   "metadata": {
    "collapsed": false
   },
   "outputs": [
    {
     "data": {
      "text/plain": [
       "1.0    1574\n",
       "0.0    1448\n",
       "Name: is_gum, dtype: int64"
      ]
     },
     "execution_count": 98,
     "metadata": {},
     "output_type": "execute_result"
    }
   ],
   "source": [
    "life_main_df = users_df.dropna(subset=['life_main'])\n",
    "life_main_vc = life_main_df.is_gum.value_counts()\n",
    "life_main_vc"
   ]
  },
  {
   "cell_type": "code",
   "execution_count": 99,
   "metadata": {
    "collapsed": false
   },
   "outputs": [
    {
     "data": {
      "text/plain": [
       "126"
      ]
     },
     "execution_count": 99,
     "metadata": {},
     "output_type": "execute_result"
    }
   ],
   "source": [
    "delta = life_main_vc[1] - life_main_vc[0]\n",
    "delta"
   ]
  },
  {
   "cell_type": "code",
   "execution_count": 100,
   "metadata": {
    "collapsed": false
   },
   "outputs": [
    {
     "name": "stderr",
     "output_type": "stream",
     "text": [
      "/home/digitman/anaconda3/lib/python3.5/site-packages/ipykernel/__main__.py:2: SettingWithCopyWarning: \n",
      "A value is trying to be set on a copy of a slice from a DataFrame\n",
      "\n",
      "See the caveats in the documentation: http://pandas.pydata.org/pandas-docs/stable/indexing.html#indexing-view-versus-copy\n",
      "  from ipykernel import kernelapp as app\n"
     ]
    },
    {
     "data": {
      "text/plain": [
       "1.0    1448\n",
       "0.0    1448\n",
       "Name: is_gum, dtype: int64"
      ]
     },
     "execution_count": 100,
     "metadata": {},
     "output_type": "execute_result"
    }
   ],
   "source": [
    "index_to_del = np.random.choice(life_main_df[life_main_df.is_gum == 1].index, delta, replace=False)\n",
    "life_main_df.drop(index_to_del, inplace=True)\n",
    "life_main_df.is_gum.value_counts()"
   ]
  },
  {
   "cell_type": "code",
   "execution_count": 101,
   "metadata": {
    "collapsed": false
   },
   "outputs": [
    {
     "data": {
      "image/png": "[encoded data removed]",
      "text/plain": [
       "<matplotlib.figure.Figure at 0x7f5bb32af7b8>"
      ]
     },
     "metadata": {},
     "output_type": "display_data"
    }
   ],
   "source": [
    "g = sns.countplot(x='life_main', hue='is_gum',  data=life_main_df)"
   ]
  },
  {
   "cell_type": "markdown",
   "metadata": {},
   "source": [
    "## People-main"
   ]
  },
  {
   "cell_type": "code",
   "execution_count": 102,
   "metadata": {
    "collapsed": false
   },
   "outputs": [
    {
     "data": {
      "text/plain": [
       "1.0    1610\n",
       "0.0    1510\n",
       "Name: is_gum, dtype: int64"
      ]
     },
     "execution_count": 102,
     "metadata": {},
     "output_type": "execute_result"
    }
   ],
   "source": [
    "people_main_df = users_df.dropna(subset=['people_main'])\n",
    "people_main_vc = people_main_df.is_gum.value_counts()\n",
    "people_main_vc"
   ]
  },
  {
   "cell_type": "code",
   "execution_count": 103,
   "metadata": {
    "collapsed": false
   },
   "outputs": [
    {
     "data": {
      "text/plain": [
       "100"
      ]
     },
     "execution_count": 103,
     "metadata": {},
     "output_type": "execute_result"
    }
   ],
   "source": [
    "delta = people_main_vc[1] - people_main_vc[0]\n",
    "delta"
   ]
  },
  {
   "cell_type": "code",
   "execution_count": 104,
   "metadata": {
    "collapsed": false
   },
   "outputs": [
    {
     "name": "stderr",
     "output_type": "stream",
     "text": [
      "/home/digitman/anaconda3/lib/python3.5/site-packages/ipykernel/__main__.py:2: SettingWithCopyWarning: \n",
      "A value is trying to be set on a copy of a slice from a DataFrame\n",
      "\n",
      "See the caveats in the documentation: http://pandas.pydata.org/pandas-docs/stable/indexing.html#indexing-view-versus-copy\n",
      "  from ipykernel import kernelapp as app\n"
     ]
    },
    {
     "data": {
      "text/plain": [
       "1.0    1510\n",
       "0.0    1510\n",
       "Name: is_gum, dtype: int64"
      ]
     },
     "execution_count": 104,
     "metadata": {},
     "output_type": "execute_result"
    }
   ],
   "source": [
    "index_to_del = np.random.choice(people_main_df[people_main_df.is_gum == 1].index, delta, replace=False)\n",
    "people_main_df.drop(index_to_del, inplace=True)\n",
    "people_main_df.is_gum.value_counts()"
   ]
  },
  {
   "cell_type": "code",
   "execution_count": 105,
   "metadata": {
    "collapsed": false
   },
   "outputs": [
    {
     "data": {
      "image/png": "[encoded data removed]",
      "text/plain": [
       "<matplotlib.figure.Figure at 0x7f5bb38ccbe0>"
      ]
     },
     "metadata": {},
     "output_type": "display_data"
    }
   ],
   "source": [
    "g = sns.countplot(x='people_main', hue='is_gum',  data=people_main_df)"
   ]
  },
  {
   "cell_type": "markdown",
   "metadata": {},
   "source": [
    "## Month"
   ]
  },
  {
   "cell_type": "code",
   "execution_count": 106,
   "metadata": {
    "collapsed": false
   },
   "outputs": [],
   "source": [
    "users_df.bdate = pd.to_datetime(users_df.bdate, errors='coerce')"
   ]
  },
  {
   "cell_type": "code",
   "execution_count": 107,
   "metadata": {
    "collapsed": true
   },
   "outputs": [],
   "source": [
    "bdate_df = users_df.dropna(subset=['bdate'])"
   ]
  },
  {
   "cell_type": "code",
   "execution_count": 108,
   "metadata": {
    "collapsed": false
   },
   "outputs": [
    {
     "data": {
      "text/plain": [
       "0.0    2141\n",
       "1.0    2095\n",
       "Name: is_gum, dtype: int64"
      ]
     },
     "execution_count": 108,
     "metadata": {},
     "output_type": "execute_result"
    }
   ],
   "source": [
    "bdate_vc = bdate_df.is_gum.value_counts()\n",
    "bdate_vc"
   ]
  },
  {
   "cell_type": "code",
   "execution_count": 109,
   "metadata": {
    "collapsed": false
   },
   "outputs": [
    {
     "data": {
      "text/plain": [
       "46"
      ]
     },
     "execution_count": 109,
     "metadata": {},
     "output_type": "execute_result"
    }
   ],
   "source": [
    "delta = bdate_vc[0] - bdate_vc[1]\n",
    "delta"
   ]
  },
  {
   "cell_type": "code",
   "execution_count": 110,
   "metadata": {
    "collapsed": false
   },
   "outputs": [
    {
     "data": {
      "text/plain": [
       "(46,)"
      ]
     },
     "execution_count": 110,
     "metadata": {},
     "output_type": "execute_result"
    }
   ],
   "source": [
    "index_to_del = np.random.choice(bdate_df[bdate_df.is_gum == 0].index, delta, replace=False)\n",
    "index_to_del.shape"
   ]
  },
  {
   "cell_type": "code",
   "execution_count": 111,
   "metadata": {
    "collapsed": false
   },
   "outputs": [
    {
     "name": "stderr",
     "output_type": "stream",
     "text": [
      "/home/digitman/anaconda3/lib/python3.5/site-packages/ipykernel/__main__.py:1: SettingWithCopyWarning: \n",
      "A value is trying to be set on a copy of a slice from a DataFrame\n",
      "\n",
      "See the caveats in the documentation: http://pandas.pydata.org/pandas-docs/stable/indexing.html#indexing-view-versus-copy\n",
      "  if __name__ == '__main__':\n"
     ]
    },
    {
     "data": {
      "text/plain": [
       "1.0    2095\n",
       "0.0    2095\n",
       "Name: is_gum, dtype: int64"
      ]
     },
     "execution_count": 111,
     "metadata": {},
     "output_type": "execute_result"
    }
   ],
   "source": [
    "bdate_df.drop(index_to_del, inplace=True)\n",
    "bdate_df.is_gum.value_counts()"
   ]
  },
  {
   "cell_type": "code",
   "execution_count": 60,
   "metadata": {
    "collapsed": false
   },
   "outputs": [
    {
     "name": "stderr",
     "output_type": "stream",
     "text": [
      "/home/digitman/anaconda3/lib/python3.5/site-packages/ipykernel/__main__.py:1: SettingWithCopyWarning: \n",
      "A value is trying to be set on a copy of a slice from a DataFrame.\n",
      "Try using .loc[row_indexer,col_indexer] = value instead\n",
      "\n",
      "See the caveats in the documentation: http://pandas.pydata.org/pandas-docs/stable/indexing.html#indexing-view-versus-copy\n",
      "  if __name__ == '__main__':\n"
     ]
    }
   ],
   "source": [
    "bdate_df['bmonth'] = bdate_df.bdate.apply(lambda x: x.month if x else x)"
   ]
  },
  {
   "cell_type": "code",
   "execution_count": 61,
   "metadata": {
    "collapsed": false
   },
   "outputs": [
    {
     "data": {
      "image/png": "[encoded data removed]",
      "text/plain": [
       "<matplotlib.figure.Figure at 0x7f5bcf8e8d30>"
      ]
     },
     "metadata": {},
     "output_type": "display_data"
    }
   ],
   "source": [
    "g = sns.countplot(x='bmonth', hue='is_gum',  data=bdate_df)"
   ]
  },
  {
   "cell_type": "markdown",
   "metadata": {},
   "source": [
    "# Comments"
   ]
  },
  {
   "cell_type": "code",
   "execution_count": 112,
   "metadata": {
    "collapsed": false
   },
   "outputs": [
    {
     "name": "stdout",
     "output_type": "stream",
     "text": [
      "<class 'pandas.core.frame.DataFrame'>\n",
      "RangeIndex: 2552261 entries, 0 to 2552260\n",
      "Data columns (total 9 columns):\n",
      "attachments     object\n",
      "comment_id      int64\n",
      "date            int64\n",
      "from_id         int64\n",
      "likes           int64\n",
      "owner_id        object\n",
      "reply_to_cid    object\n",
      "reply_to_uid    object\n",
      "text            object\n",
      "dtypes: int64(4), object(5)\n",
      "memory usage: 175.2+ MB\n"
     ]
    }
   ],
   "source": [
    "comments_df.info()"
   ]
  },
  {
   "cell_type": "code",
   "execution_count": 113,
   "metadata": {
    "collapsed": true
   },
   "outputs": [],
   "source": [
    "comments_merged = comments_df.merge(users_df[['id', 'is_gum']], left_on='from_id', right_on='id', how='inner')"
   ]
  },
  {
   "cell_type": "code",
   "execution_count": 114,
   "metadata": {
    "collapsed": false
   },
   "outputs": [
    {
     "name": "stdout",
     "output_type": "stream",
     "text": [
      "<class 'pandas.core.frame.DataFrame'>\n",
      "Int64Index: 185191 entries, 0 to 185190\n",
      "Data columns (total 11 columns):\n",
      "attachments     10364 non-null object\n",
      "comment_id      185191 non-null int64\n",
      "date            185191 non-null int64\n",
      "from_id         185191 non-null int64\n",
      "likes           185191 non-null int64\n",
      "owner_id        185191 non-null object\n",
      "reply_to_cid    0 non-null object\n",
      "reply_to_uid    0 non-null object\n",
      "text            185191 non-null object\n",
      "id              185191 non-null int64\n",
      "is_gum          185191 non-null float64\n",
      "dtypes: float64(1), int64(5), object(5)\n",
      "memory usage: 17.0+ MB\n"
     ]
    }
   ],
   "source": [
    "comments_merged.info()"
   ]
  },
  {
   "cell_type": "code",
   "execution_count": 115,
   "metadata": {
    "collapsed": false
   },
   "outputs": [
    {
     "data": {
      "text/html": [
       "<div>\n",
       "<table border=\"1\" class=\"dataframe\">\n",
       "  <thead>\n",
       "    <tr style=\"text-align: right;\">\n",
       "      <th></th>\n",
       "      <th>attachments</th>\n",
       "      <th>comment_id</th>\n",
       "      <th>date</th>\n",
       "      <th>from_id</th>\n",
       "      <th>likes</th>\n",
       "      <th>owner_id</th>\n",
       "      <th>reply_to_cid</th>\n",
       "      <th>reply_to_uid</th>\n",
       "      <th>text</th>\n",
       "      <th>id</th>\n",
       "      <th>is_gum</th>\n",
       "    </tr>\n",
       "  </thead>\n",
       "  <tbody>\n",
       "    <tr>\n",
       "      <th>0</th>\n",
       "      <td>None</td>\n",
       "      <td>3222718</td>\n",
       "      <td>1476546928</td>\n",
       "      <td>360037882</td>\n",
       "      <td>1</td>\n",
       "      <td>-33041211</td>\n",
       "      <td>None</td>\n",
       "      <td>None</td>\n",
       "      <td>[id352784000|Алексей], 2:1</td>\n",
       "      <td>360037882</td>\n",
       "      <td>0.0</td>\n",
       "    </tr>\n",
       "    <tr>\n",
       "      <th>1</th>\n",
       "      <td>None</td>\n",
       "      <td>3222727</td>\n",
       "      <td>1476547133</td>\n",
       "      <td>360037882</td>\n",
       "      <td>35</td>\n",
       "      <td>-33041211</td>\n",
       "      <td>None</td>\n",
       "      <td>None</td>\n",
       "      <td>НАТЯНУЛИ МОСКВиЧЕЙ!!! ТЕПЕРЬ МОЖНО И ДОМОЙ ИХ ...</td>\n",
       "      <td>360037882</td>\n",
       "      <td>0.0</td>\n",
       "    </tr>\n",
       "    <tr>\n",
       "      <th>2</th>\n",
       "      <td>None</td>\n",
       "      <td>3224133</td>\n",
       "      <td>1476602531</td>\n",
       "      <td>360037882</td>\n",
       "      <td>0</td>\n",
       "      <td>-33041211</td>\n",
       "      <td>None</td>\n",
       "      <td>None</td>\n",
       "      <td>[id34736142|Андрей], не имеет значение где ЮР,...</td>\n",
       "      <td>360037882</td>\n",
       "      <td>0.0</td>\n",
       "    </tr>\n",
       "    <tr>\n",
       "      <th>3</th>\n",
       "      <td>None</td>\n",
       "      <td>3224161</td>\n",
       "      <td>1476604171</td>\n",
       "      <td>360037882</td>\n",
       "      <td>0</td>\n",
       "      <td>-33041211</td>\n",
       "      <td>None</td>\n",
       "      <td>None</td>\n",
       "      <td>[id34736142|Андрей], где СК удобнее там и пров...</td>\n",
       "      <td>360037882</td>\n",
       "      <td>0.0</td>\n",
       "    </tr>\n",
       "    <tr>\n",
       "      <th>4</th>\n",
       "      <td>None</td>\n",
       "      <td>3199309</td>\n",
       "      <td>1475398737</td>\n",
       "      <td>360037882</td>\n",
       "      <td>9</td>\n",
       "      <td>-33041211</td>\n",
       "      <td>None</td>\n",
       "      <td>None</td>\n",
       "      <td>Сегодня в 23:00 до 5:00 собираемся все НА АРЕН...</td>\n",
       "      <td>360037882</td>\n",
       "      <td>0.0</td>\n",
       "    </tr>\n",
       "  </tbody>\n",
       "</table>\n",
       "</div>"
      ],
      "text/plain": [
       "  attachments  comment_id        date    from_id  likes   owner_id  \\\n",
       "0        None     3222718  1476546928  360037882      1  -33041211   \n",
       "1        None     3222727  1476547133  360037882     35  -33041211   \n",
       "2        None     3224133  1476602531  360037882      0  -33041211   \n",
       "3        None     3224161  1476604171  360037882      0  -33041211   \n",
       "4        None     3199309  1475398737  360037882      9  -33041211   \n",
       "\n",
       "  reply_to_cid reply_to_uid  \\\n",
       "0         None         None   \n",
       "1         None         None   \n",
       "2         None         None   \n",
       "3         None         None   \n",
       "4         None         None   \n",
       "\n",
       "                                                text         id  is_gum  \n",
       "0                         [id352784000|Алексей], 2:1  360037882     0.0  \n",
       "1  НАТЯНУЛИ МОСКВиЧЕЙ!!! ТЕПЕРЬ МОЖНО И ДОМОЙ ИХ ...  360037882     0.0  \n",
       "2  [id34736142|Андрей], не имеет значение где ЮР,...  360037882     0.0  \n",
       "3  [id34736142|Андрей], где СК удобнее там и пров...  360037882     0.0  \n",
       "4  Сегодня в 23:00 до 5:00 собираемся все НА АРЕН...  360037882     0.0  "
      ]
     },
     "execution_count": 115,
     "metadata": {},
     "output_type": "execute_result"
    }
   ],
   "source": [
    "comments_merged.head()"
   ]
  },
  {
   "cell_type": "code",
   "execution_count": 66,
   "metadata": {
    "collapsed": true
   },
   "outputs": [
    {
     "data": {
      "text/plain": [
       "141199295    6611\n",
       "81632165     4560\n",
       "68148212     4537\n",
       "140659391    4341\n",
       "283273320    3489\n",
       "139229595    2807\n",
       "21007618     2642\n",
       "20731166     2236\n",
       "3783367      2205\n",
       "7472644      1797\n",
       "87416643     1713\n",
       "191122455    1704\n",
       "30072947     1489\n",
       "174577926    1461\n",
       "13411441     1459\n",
       "44471523     1418\n",
       "8838652      1368\n",
       "146596115    1368\n",
       "72723135     1175\n",
       "234927132    1064\n",
       "56781881      917\n",
       "180428287     908\n",
       "312038515     896\n",
       "23778575      870\n",
       "14035669      848\n",
       "41103994      822\n",
       "68791881      747\n",
       "8626809       726\n",
       "6422010       692\n",
       "23708285      684\n",
       "             ... \n",
       "205907104       1\n",
       "12782965        1\n",
       "19847313        1\n",
       "167459541       1\n",
       "147104776       1\n",
       "45103078        1\n",
       "55583640        1\n",
       "25072462        1\n",
       "115525688       1\n",
       "264666835       1\n",
       "98215604        1\n",
       "103797040       1\n",
       "2109723         1\n",
       "26514191        1\n",
       "21125846        1\n",
       "141157025       1\n",
       "150053886       1\n",
       "259209850       1\n",
       "142311878       1\n",
       "70912907        1\n",
       "132329723       1\n",
       "30455562        1\n",
       "146256107       1\n",
       "154928480       1\n",
       "164487329       1\n",
       "318594999       1\n",
       "11909034        1\n",
       "322639742       1\n",
       "142491047       1\n",
       "147605513       1\n",
       "Name: from_id, dtype: int64"
      ]
     },
     "execution_count": 66,
     "metadata": {},
     "output_type": "execute_result"
    }
   ],
   "source": [
    "comments_merged.from_id.value_counts()"
   ]
  },
  {
   "cell_type": "code",
   "execution_count": 116,
   "metadata": {
    "collapsed": false
   },
   "outputs": [
    {
     "data": {
      "text/plain": [
       "array([[None, 978518, 1393187904, 11909034, 1, '-33041211', None, None,\n",
       "        '[id225131334|Виктор], в граде.магазин боско.еще был у стадиона труд',\n",
       "        11909034, 1.0]], dtype=object)"
      ]
     },
     "execution_count": 116,
     "metadata": {},
     "output_type": "execute_result"
    }
   ],
   "source": [
    "comments_merged[comments_merged.from_id == 11909034].values"
   ]
  },
  {
   "cell_type": "code",
   "execution_count": 117,
   "metadata": {
    "collapsed": false
   },
   "outputs": [
    {
     "data": {
      "text/plain": [
       "0.0    94355\n",
       "1.0    90836\n",
       "Name: is_gum, dtype: int64"
      ]
     },
     "execution_count": 117,
     "metadata": {},
     "output_type": "execute_result"
    }
   ],
   "source": [
    "comments_merged.is_gum.value_counts()"
   ]
  },
  {
   "cell_type": "code",
   "execution_count": 118,
   "metadata": {
    "collapsed": false
   },
   "outputs": [
    {
     "data": {
      "text/plain": [
       "<seaborn.axisgrid.FacetGrid at 0x7f5bb4febbe0>"
      ]
     },
     "execution_count": 118,
     "metadata": {},
     "output_type": "execute_result"
    },
    {
     "data": {
      "image/png": "[encoded data removed]",
      "text/plain": [
       "<matplotlib.figure.Figure at 0x7f5bb3562b38>"
      ]
     },
     "metadata": {},
     "output_type": "display_data"
    }
   ],
   "source": [
    "sns.factorplot(x='is_gum', y='likes', data=comments_merged)"
   ]
  },
  {
   "cell_type": "code",
   "execution_count": 136,
   "metadata": {
    "collapsed": false
   },
   "outputs": [
    {
     "data": {
      "text/plain": [
       "(177508, 11)"
      ]
     },
     "execution_count": 136,
     "metadata": {},
     "output_type": "execute_result"
    }
   ],
   "source": [
    "index_to_del = comments_merged[comments_merged.text == ''].index\n",
    "comments_merged.drop(index_to_del, inplace=True)\n",
    "comments_merged.shape"
   ]
  },
  {
   "cell_type": "code",
   "execution_count": 137,
   "metadata": {
    "collapsed": false
   },
   "outputs": [],
   "source": [
    "comments_merged[['from_id', 'text', 'is_gum']].to_csv('data/comments.csv.gz', index=False, compression='gzip')"
   ]
  },
  {
   "cell_type": "code",
   "execution_count": null,
   "metadata": {
    "collapsed": true
   },
   "outputs": [],
   "source": []
  }
 ],
 "metadata": {
  "kernelspec": {
   "display_name": "Python 3",
   "language": "python",
   "name": "python3"
  },
  "language_info": {
   "codemirror_mode": {
    "name": "ipython",
    "version": 3
   },
   "file_extension": ".py",
   "mimetype": "text/x-python",
   "name": "python",
   "nbconvert_exporter": "python",
   "pygments_lexer": "ipython3",
   "version": "3.5.1"
  }
 },
 "nbformat": 4,
 "nbformat_minor": 0
}
