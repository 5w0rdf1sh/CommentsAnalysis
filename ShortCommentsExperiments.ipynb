{
 "cells": [
  {
   "cell_type": "code",
   "execution_count": 1,
   "metadata": {},
   "outputs": [
    {
     "name": "stderr",
     "output_type": "stream",
     "text": [
      "/home/digitman/miniconda3/lib/python3.6/site-packages/sklearn/cross_validation.py:44: DeprecationWarning: This module was deprecated in version 0.18 in favor of the model_selection module into which all the refactored classes and functions are moved. Also note that the interface of the new CV iterators are different from that of this module. This module will be removed in 0.20.\n",
      "  \"This module will be removed in 0.20.\", DeprecationWarning)\n"
     ]
    }
   ],
   "source": [
    "import pandas as pd\n",
    "import numpy as np\n",
    "import matplotlib.pyplot as plt\n",
    "from sklearn.feature_extraction.text import CountVectorizer, TfidfVectorizer\n",
    "from sklearn import linear_model as lm\n",
    "from sklearn.model_selection import cross_val_score, train_test_split\n",
    "from sklearn.metrics import accuracy_score\n",
    "import seaborn as sns\n",
    "from stop_words import get_stop_words\n",
    "import Stemmer\n",
    "import pymorphy2\n",
    "from segtok import segmenter\n",
    "import re\n",
    "from functools import partial\n",
    "import pickle\n",
    "import xgboost as xgb \n",
    "%matplotlib inline"
   ]
  },
  {
   "cell_type": "markdown",
   "metadata": {},
   "source": [
    "# Loading data"
   ]
  },
  {
   "cell_type": "code",
   "execution_count": 2,
   "metadata": {
    "collapsed": true
   },
   "outputs": [],
   "source": [
    "data = pd.read_csv('data/comments_vrn.csv.gz')"
   ]
  },
  {
   "cell_type": "code",
   "execution_count": 3,
   "metadata": {},
   "outputs": [
    {
     "data": {
      "text/plain": [
       "(193539, 6)"
      ]
     },
     "execution_count": 3,
     "metadata": {},
     "output_type": "execute_result"
    }
   ],
   "source": [
    "data.shape"
   ]
  },
  {
   "cell_type": "code",
   "execution_count": 4,
   "metadata": {},
   "outputs": [
    {
     "data": {
      "text/plain": [
       "0.0    111199\n",
       "1.0     82340\n",
       "Name: is_gum, dtype: int64"
      ]
     },
     "execution_count": 4,
     "metadata": {},
     "output_type": "execute_result"
    }
   ],
   "source": [
    "data.is_gum.value_counts()"
   ]
  },
  {
   "cell_type": "code",
   "execution_count": 5,
   "metadata": {},
   "outputs": [
    {
     "data": {
      "text/html": [
       "<div>\n",
       "<style>\n",
       "    .dataframe thead tr:only-child th {\n",
       "        text-align: right;\n",
       "    }\n",
       "\n",
       "    .dataframe thead th {\n",
       "        text-align: left;\n",
       "    }\n",
       "\n",
       "    .dataframe tbody tr th {\n",
       "        vertical-align: top;\n",
       "    }\n",
       "</style>\n",
       "<table border=\"1\" class=\"dataframe\">\n",
       "  <thead>\n",
       "    <tr style=\"text-align: right;\">\n",
       "      <th></th>\n",
       "      <th>from_id</th>\n",
       "      <th>text</th>\n",
       "      <th>is_gum</th>\n",
       "      <th>hour</th>\n",
       "      <th>likes</th>\n",
       "      <th>sex</th>\n",
       "    </tr>\n",
       "  </thead>\n",
       "  <tbody>\n",
       "    <tr>\n",
       "      <th>0</th>\n",
       "      <td>170328895</td>\n",
       "      <td>А еще сегодня у нас в Советском районе нашлы м...</td>\n",
       "      <td>1.0</td>\n",
       "      <td>13</td>\n",
       "      <td>9</td>\n",
       "      <td>1</td>\n",
       "    </tr>\n",
       "    <tr>\n",
       "      <th>1</th>\n",
       "      <td>170328895</td>\n",
       "      <td>[id231306085|Алиса], не слышала такой информац...</td>\n",
       "      <td>1.0</td>\n",
       "      <td>13</td>\n",
       "      <td>0</td>\n",
       "      <td>1</td>\n",
       "    </tr>\n",
       "    <tr>\n",
       "      <th>2</th>\n",
       "      <td>170328895</td>\n",
       "      <td>Алиса, хорошо бы ,у нас ни от кого такой инфор...</td>\n",
       "      <td>1.0</td>\n",
       "      <td>13</td>\n",
       "      <td>0</td>\n",
       "      <td>1</td>\n",
       "    </tr>\n",
       "  </tbody>\n",
       "</table>\n",
       "</div>"
      ],
      "text/plain": [
       "     from_id                                               text  is_gum  hour  \\\n",
       "0  170328895  А еще сегодня у нас в Советском районе нашлы м...     1.0    13   \n",
       "1  170328895  [id231306085|Алиса], не слышала такой информац...     1.0    13   \n",
       "2  170328895  Алиса, хорошо бы ,у нас ни от кого такой инфор...     1.0    13   \n",
       "\n",
       "   likes  sex  \n",
       "0      9    1  \n",
       "1      0    1  \n",
       "2      0    1  "
      ]
     },
     "execution_count": 5,
     "metadata": {},
     "output_type": "execute_result"
    }
   ],
   "source": [
    "data.head(3)"
   ]
  },
  {
   "cell_type": "markdown",
   "metadata": {},
   "source": [
    "## Examples of two classes"
   ]
  },
  {
   "cell_type": "code",
   "execution_count": 6,
   "metadata": {},
   "outputs": [
    {
     "data": {
      "text/plain": [
       "array(['все улицы залиты', '[id159140514|Денис], не все!1!!',\n",
       "       'погугли!\\nhttp://ru.wikipedia.org/wiki/%C2%F1%EF%EE%EC%ED%E8%F2%FC_%E2%F1%B8_(%F4%E8%EB%FC%EC,_1990)',\n",
       "       '[id12422137|Илья], ага, прикинь сколько ты отдашь, когда при досмотре тебе подкинут пакетик, чтобы не отправится на стул',\n",
       "       '[id293169571|Эльдар], ахаха...имеется',\n",
       "       '[id196185878|Олег], или в мусоропровод',\n",
       "       'Я вот знаю, что уже двое мужиков похожих заластали', 'Косячок )))',\n",
       "       'я в детстве пластилином по прохожим кидался))))а тут чет жестко как то бетонными глыбами , суровое поколение:D',\n",
       "       '[id140593667|Юля], Ну, если Северный с Коминтерном ещё не разделили. А Олимпик вообще относится к ЦЕНТРУ(!!!) - думаю, проводящие границы или спят или что-то хорошее употребляют. :-)\\nP/S/ То же самое с \"Советский\" и Юго-Западный.'], dtype=object)"
      ]
     },
     "execution_count": 6,
     "metadata": {},
     "output_type": "execute_result"
    }
   ],
   "source": [
    "data[data.is_gum == False].text.sample(10).values"
   ]
  },
  {
   "cell_type": "code",
   "execution_count": 7,
   "metadata": {},
   "outputs": [
    {
     "data": {
      "text/plain": [
       "array(['[id210347151|Мария], 4',\n",
       "       '[id17699181|Юля], значит и фанаты такие же, высоко разумные вы уж простите, а то как реп слушать, так там наркоманы, а как тут горшок умер от наркоты и вёл далеко аморальный образ жизни так это великий',\n",
       "       'набираем желающих заниматься боксом (парней/девушек) а также тренажёрный зал + индивидуальные занятия',\n",
       "       '[id10396703|Кирюха], Да тут все лишь бы языки почесать, вроде завтра в школу спать пора',\n",
       "       '[id224419568|Олег], 14',\n",
       "       'Причём тут выборы и программа общественного транспорта Гордеева...',\n",
       "       'Алан Милн - «Винни Пух» был написан в 1925 и опубликован в 1926 году.',\n",
       "       'Одобрили мою картинку,значит))', '[id1417542|Ярослав], ты идиот😉',\n",
       "       'А в инете разве нету?'], dtype=object)"
      ]
     },
     "execution_count": 7,
     "metadata": {},
     "output_type": "execute_result"
    }
   ],
   "source": [
    "data[data.is_gum == True].text.sample(10).values"
   ]
  },
  {
   "cell_type": "markdown",
   "metadata": {},
   "source": [
    "# Preprocessing"
   ]
  },
  {
   "cell_type": "markdown",
   "metadata": {},
   "source": [
    "## Words count"
   ]
  },
  {
   "cell_type": "code",
   "execution_count": 8,
   "metadata": {
    "collapsed": true
   },
   "outputs": [],
   "source": [
    "lenghts_word = np.array([len(m.split()) for m in data.text.values])"
   ]
  },
  {
   "cell_type": "code",
   "execution_count": 9,
   "metadata": {},
   "outputs": [
    {
     "data": {
      "text/plain": [
       "(11.219397640785578, 6.0)"
      ]
     },
     "execution_count": 9,
     "metadata": {},
     "output_type": "execute_result"
    }
   ],
   "source": [
    "lenghts_word.mean(), np.median(lenghts_word)"
   ]
  },
  {
   "cell_type": "code",
   "execution_count": 10,
   "metadata": {},
   "outputs": [
    {
     "data": {
      "text/plain": [
       "(147584, 6)"
      ]
     },
     "execution_count": 10,
     "metadata": {},
     "output_type": "execute_result"
    }
   ],
   "source": [
    "comments = data[(lenghts_word < 20) & (lenghts_word > 1)]\n",
    "comments.shape"
   ]
  },
  {
   "cell_type": "markdown",
   "metadata": {},
   "source": [
    "## Links"
   ]
  },
  {
   "cell_type": "code",
   "execution_count": 11,
   "metadata": {},
   "outputs": [
    {
     "name": "stdout",
     "output_type": "stream",
     "text": [
      "0.46% of comments contain links\n"
     ]
    }
   ],
   "source": [
    "links = [m for m in data.text.values if 'http' in m or 'www' in m or '.ru' in m or '.com' in m] \n",
    "print('{:.2f}% of comments contain links'.format(len(links) / len(data) * 100))"
   ]
  },
  {
   "cell_type": "code",
   "execution_count": 12,
   "metadata": {
    "collapsed": true
   },
   "outputs": [],
   "source": [
    "without_link = [False if 'http' in c or 'www' in c or '.ru' in c or '.com' in c else True\n",
    "                for c in comments.text.values] "
   ]
  },
  {
   "cell_type": "code",
   "execution_count": 13,
   "metadata": {
    "collapsed": true
   },
   "outputs": [],
   "source": [
    "comments = comments[without_link]"
   ]
  },
  {
   "cell_type": "code",
   "execution_count": 14,
   "metadata": {},
   "outputs": [
    {
     "data": {
      "text/plain": [
       "(146955, 6)"
      ]
     },
     "execution_count": 14,
     "metadata": {},
     "output_type": "execute_result"
    }
   ],
   "source": [
    "comments.shape"
   ]
  },
  {
   "cell_type": "code",
   "execution_count": 15,
   "metadata": {
    "collapsed": true
   },
   "outputs": [],
   "source": [
    "lenghts_word = np.array([len(m.split()) for m in comments.text.values])"
   ]
  },
  {
   "cell_type": "code",
   "execution_count": 16,
   "metadata": {},
   "outputs": [
    {
     "data": {
      "image/png": "[encoded data removed]",
      "text/plain": [
       "<matplotlib.figure.Figure at 0x7f379f62a6d8>"
      ]
     },
     "metadata": {},
     "output_type": "display_data"
    }
   ],
   "source": [
    "plt.hist(lenghts_word, bins=15);"
   ]
  },
  {
   "cell_type": "markdown",
   "metadata": {},
   "source": [
    "# Droping outliers"
   ]
  },
  {
   "cell_type": "markdown",
   "metadata": {},
   "source": [
    "## Emoji"
   ]
  },
  {
   "cell_type": "code",
   "execution_count": 18,
   "metadata": {
    "collapsed": true
   },
   "outputs": [],
   "source": [
    "comments_list = comments.text.values"
   ]
  },
  {
   "cell_type": "code",
   "execution_count": 19,
   "metadata": {
    "collapsed": true
   },
   "outputs": [],
   "source": [
    "with open('meta_data/emoji.txt', 'r') as f:\n",
    "    lines = f.readlines()\n",
    "emojis = [line[0] for line in lines]"
   ]
  },
  {
   "cell_type": "code",
   "execution_count": 20,
   "metadata": {
    "collapsed": true
   },
   "outputs": [],
   "source": [
    "def is_with_emoji(comment):\n",
    "    for em in emojis:\n",
    "        if em in comment:\n",
    "            return 1\n",
    "    return 0"
   ]
  },
  {
   "cell_type": "code",
   "execution_count": 21,
   "metadata": {
    "collapsed": true
   },
   "outputs": [],
   "source": [
    "def with_emoji(comments):\n",
    "    return [is_with_emoji(c) for c in comments]"
   ]
  },
  {
   "cell_type": "code",
   "execution_count": 22,
   "metadata": {
    "collapsed": true
   },
   "outputs": [],
   "source": [
    "def get_emoji(comment, repetition=True):\n",
    "    ems = []\n",
    "    for em in emojis:\n",
    "        if not repetition:\n",
    "            if em in comment:\n",
    "                ems.append(em)\n",
    "        else:\n",
    "            founded = re.findall(em, comment)\n",
    "            if len(founded) > 0:\n",
    "                ems.extend(founded)\n",
    "    return ems"
   ]
  },
  {
   "cell_type": "code",
   "execution_count": 24,
   "metadata": {
    "collapsed": true
   },
   "outputs": [],
   "source": [
    "def get_emoji_proportion(comments, emoji_from_coms=None, repetition=True):\n",
    "    emoji_proportion = [] \n",
    "    func = lambda com: get_emoji(com, repetition)\n",
    "    if not emoji_from_coms:\n",
    "        emoji_from_coms = list(map(func, comments))\n",
    "    \n",
    "    for i in range(len(comments)):\n",
    "        com = re.sub(' *', '', comments[i])\n",
    "        emoji_proportion.append(len(emoji_from_coms[i]) / len(com))\n",
    "    return np.array(emoji_proportion)"
   ]
  },
  {
   "cell_type": "markdown",
   "metadata": {},
   "source": [
    "### Proportion of alphabetical symbols"
   ]
  },
  {
   "cell_type": "code",
   "execution_count": 25,
   "metadata": {
    "collapsed": true
   },
   "outputs": [],
   "source": [
    "def get_abc_proportion(comments):\n",
    "    abc_proportion = []     \n",
    "    for i in range(len(comments)):\n",
    "        com = re.sub(' *', '', comments[i])\n",
    "        abc = re.findall('[а-яёa-z]', com, flags=re.IGNORECASE)\n",
    "        abc_proportion.append(len(abc) / len(com))\n",
    "    return np.array(abc_proportion)"
   ]
  },
  {
   "cell_type": "code",
   "execution_count": 26,
   "metadata": {
    "collapsed": true
   },
   "outputs": [],
   "source": [
    "abc_proportion = get_abc_proportion(comments.text.values)"
   ]
  },
  {
   "cell_type": "code",
   "execution_count": 27,
   "metadata": {},
   "outputs": [
    {
     "data": {
      "image/png": "[encoded data removed]",
      "text/plain": [
       "<matplotlib.figure.Figure at 0x7f379e9cacf8>"
      ]
     },
     "metadata": {},
     "output_type": "display_data"
    }
   ],
   "source": [
    "plt.hist(abc_proportion, bins=30);"
   ]
  },
  {
   "cell_type": "code",
   "execution_count": 28,
   "metadata": {},
   "outputs": [
    {
     "data": {
      "text/plain": [
       "1201"
      ]
     },
     "execution_count": 28,
     "metadata": {},
     "output_type": "execute_result"
    }
   ],
   "source": [
    "sum(abc_proportion < 0.3)"
   ]
  },
  {
   "cell_type": "code",
   "execution_count": 29,
   "metadata": {},
   "outputs": [
    {
     "data": {
      "text/plain": [
       "array(['89066762448                                    📲',\n",
       "       '89066762448                                     👻', '48 и 16',\n",
       "       'Мне 16).\\n19-23', '[id221855027|Яна], ...............',\n",
       "       '[id65018554|Катерина], .............',\n",
       "       '[id133213774|Валентина], ........................',\n",
       "       '[id298430272|Наталья], ...................',\n",
       "       '[id261257368|Ольга], .............',\n",
       "       '[id206912044|Олежа], ................'], dtype=object)"
      ]
     },
     "execution_count": 29,
     "metadata": {},
     "output_type": "execute_result"
    }
   ],
   "source": [
    "comments_list[abc_proportion < 0.3][:10]"
   ]
  },
  {
   "cell_type": "markdown",
   "metadata": {},
   "source": [
    "### Filling DataFrame"
   ]
  },
  {
   "cell_type": "code",
   "execution_count": 30,
   "metadata": {
    "collapsed": true
   },
   "outputs": [],
   "source": [
    "comments['abc_proportion'] = abc_proportion"
   ]
  },
  {
   "cell_type": "markdown",
   "metadata": {},
   "source": [
    "#### If message repeats more than one time - drop (spam)"
   ]
  },
  {
   "cell_type": "code",
   "execution_count": 32,
   "metadata": {},
   "outputs": [
    {
     "name": "stdout",
     "output_type": "stream",
     "text": [
      "951 different spam comments\n"
     ]
    }
   ],
   "source": [
    "print('{} different spam comments'.format((comments.text.value_counts() > 1).sum()))"
   ]
  },
  {
   "cell_type": "code",
   "execution_count": 33,
   "metadata": {},
   "outputs": [
    {
     "name": "stdout",
     "output_type": "stream",
     "text": [
      "3069 total count of spam comments\n"
     ]
    }
   ],
   "source": [
    "print('{} total count of spam comments'\n",
    "      .format(comments.text.value_counts()[comments.text.value_counts() > 1].values.sum()))"
   ]
  },
  {
   "cell_type": "markdown",
   "metadata": {},
   "source": [
    "### Dropping outlier"
   ]
  },
  {
   "cell_type": "code",
   "execution_count": 34,
   "metadata": {
    "collapsed": true
   },
   "outputs": [],
   "source": [
    "spam_comments = comments.text.value_counts()[comments.text.value_counts() > 1].keys()\n",
    "comments = comments[comments.text.apply(lambda t: t not in spam_comments)]"
   ]
  },
  {
   "cell_type": "code",
   "execution_count": 35,
   "metadata": {},
   "outputs": [
    {
     "data": {
      "text/plain": [
       "(143886, 7)"
      ]
     },
     "execution_count": 35,
     "metadata": {},
     "output_type": "execute_result"
    }
   ],
   "source": [
    "comments.shape"
   ]
  },
  {
   "cell_type": "code",
   "execution_count": 36,
   "metadata": {
    "collapsed": true
   },
   "outputs": [],
   "source": [
    "comments_list = comments.text.values"
   ]
  },
  {
   "cell_type": "markdown",
   "metadata": {},
   "source": [
    "### Replacing id"
   ]
  },
  {
   "cell_type": "code",
   "execution_count": 37,
   "metadata": {
    "collapsed": true
   },
   "outputs": [],
   "source": [
    "def replace_id(df):\n",
    "    comments_list = []\n",
    "    for comment in df.text.values:\n",
    "        c = comment.split()\n",
    "        if c[0].startswith('[id'):\n",
    "            c[0] = 'имя'\n",
    "        c_ = []\n",
    "        for w in c:\n",
    "            if w.startswith('id'):\n",
    "                c_.append('имя')\n",
    "            else:\n",
    "                c_.append(w)\n",
    "        comments_list.append(' '.join(c))\n",
    "    comments_list = np.array(comments_list)\n",
    "    df.text = comments_list"
   ]
  },
  {
   "cell_type": "code",
   "execution_count": 38,
   "metadata": {
    "collapsed": true
   },
   "outputs": [],
   "source": [
    "replace_id(comments)"
   ]
  },
  {
   "cell_type": "code",
   "execution_count": 34,
   "metadata": {},
   "outputs": [
    {
     "data": {
      "text/plain": [
       "array(['имя не слышала такой информации ,все боятся )',\n",
       "       'имя да я тоже именно это и слышала.',\n",
       "       'имя как то уж слишком большое расстояние между Питером и Придонским))))'], dtype=object)"
      ]
     },
     "execution_count": 34,
     "metadata": {},
     "output_type": "execute_result"
    }
   ],
   "source": [
    "comments_list[:3]"
   ]
  },
  {
   "cell_type": "code",
   "execution_count": 39,
   "metadata": {
    "collapsed": true
   },
   "outputs": [],
   "source": [
    "comments.text = comments_list"
   ]
  },
  {
   "cell_type": "code",
   "execution_count": 40,
   "metadata": {
    "collapsed": true
   },
   "outputs": [],
   "source": [
    "y = comments.is_gum.values"
   ]
  },
  {
   "cell_type": "markdown",
   "metadata": {},
   "source": [
    "# Features"
   ]
  },
  {
   "cell_type": "markdown",
   "metadata": {},
   "source": [
    "### Is the first letter of sentence upper"
   ]
  },
  {
   "cell_type": "code",
   "execution_count": 41,
   "metadata": {
    "collapsed": true
   },
   "outputs": [],
   "source": [
    "def sentence_stat(comments):\n",
    "    big_letter = []\n",
    "    sents_count = []\n",
    "    for comment in comments:\n",
    "        sents = list(segmenter.split_single(re.sub('(\\)+|\\.+)', '\\n', comment)))\n",
    "        count = sum([1 for sent in sents if sent and (sent[0].isupper() or 'имя' in sent\n",
    "                                                      or (len(sent) > 1 and sent[0] == '\"' and sent[1].isupper()))])\n",
    "        total = sum([1 for sent in sents if sent.strip() != ''\n",
    "                     and re.match('.*[a-zа-яё].*', sent.strip(), flags=re.IGNORECASE)])\n",
    "        # print(count, total)\n",
    "        if total:\n",
    "            big_letter.append(count // total)\n",
    "        else:\n",
    "            big_letter.append(1)\n",
    "        if total > 3:\n",
    "            total = 4\n",
    "        if total < 1:\n",
    "            total = 1\n",
    "        sents_count.append(total)\n",
    "    return np.array(big_letter), np.array(sents_count)"
   ]
  },
  {
   "cell_type": "code",
   "execution_count": 42,
   "metadata": {},
   "outputs": [
    {
     "name": "stdout",
     "output_type": "stream",
     "text": [
      "CPU times: user 4.29 s, sys: 8 ms, total: 4.3 s\n",
      "Wall time: 4.31 s\n"
     ]
    }
   ],
   "source": [
    "%%time\n",
    "big_letter, sents_count = sentence_stat(comments_list)"
   ]
  },
  {
   "cell_type": "code",
   "execution_count": 43,
   "metadata": {},
   "outputs": [
    {
     "data": {
      "text/plain": [
       "1    106023\n",
       "2     29346\n",
       "3      6769\n",
       "4      1748\n",
       "dtype: int64"
      ]
     },
     "execution_count": 43,
     "metadata": {},
     "output_type": "execute_result"
    }
   ],
   "source": [
    "pd.Series(sents_count).value_counts()"
   ]
  },
  {
   "cell_type": "code",
   "execution_count": 44,
   "metadata": {},
   "outputs": [
    {
     "data": {
      "text/plain": [
       "1    0.716640\n",
       "2    0.215567\n",
       "3    0.053652\n",
       "4    0.014140\n",
       "dtype: float64"
      ]
     },
     "execution_count": 44,
     "metadata": {},
     "output_type": "execute_result"
    }
   ],
   "source": [
    "pd.Series(sents_count[y.astype(bool)]).value_counts(True)"
   ]
  },
  {
   "cell_type": "code",
   "execution_count": 45,
   "metadata": {},
   "outputs": [
    {
     "data": {
      "text/plain": [
       "1    0.751955\n",
       "2    0.195277\n",
       "3    0.042108\n",
       "4    0.010661\n",
       "dtype: float64"
      ]
     },
     "execution_count": 45,
     "metadata": {},
     "output_type": "execute_result"
    }
   ],
   "source": [
    "pd.Series(sents_count[~y.astype(bool)]).value_counts(True)"
   ]
  },
  {
   "cell_type": "code",
   "execution_count": 46,
   "metadata": {},
   "outputs": [
    {
     "data": {
      "text/plain": [
       "1    106973\n",
       "0     36913\n",
       "dtype: int64"
      ]
     },
     "execution_count": 46,
     "metadata": {},
     "output_type": "execute_result"
    }
   ],
   "source": [
    "pd.Series(big_letter).value_counts()"
   ]
  },
  {
   "cell_type": "markdown",
   "metadata": {},
   "source": [
    "### Punctuation count in comment"
   ]
  },
  {
   "cell_type": "code",
   "execution_count": 47,
   "metadata": {
    "collapsed": true
   },
   "outputs": [],
   "source": [
    "def punctuation_counts(comments, pattern='\\(+', partion=False):\n",
    "    if partion:\n",
    "        return [sum(len(p) for p in re.findall(pattern, c)) / len(c) for c in comments]\n",
    "    else:\n",
    "        return [1 if len(re.findall(pattern, c)) > 0 else 0 for c in comments]"
   ]
  },
  {
   "cell_type": "code",
   "execution_count": 48,
   "metadata": {
    "collapsed": true
   },
   "outputs": [],
   "source": [
    "commas = punctuation_counts(comments_list, pattern='[\\.]{2,}', partion=False)"
   ]
  },
  {
   "cell_type": "code",
   "execution_count": 49,
   "metadata": {},
   "outputs": [
    {
     "data": {
      "text/plain": [
       "0    128608\n",
       "1     15278\n",
       "dtype: int64"
      ]
     },
     "execution_count": 49,
     "metadata": {},
     "output_type": "execute_result"
    }
   ],
   "source": [
    "pd.Series(commas).value_counts()"
   ]
  },
  {
   "cell_type": "markdown",
   "metadata": {},
   "source": [
    "### Mean word length"
   ]
  },
  {
   "cell_type": "code",
   "execution_count": 50,
   "metadata": {
    "collapsed": true
   },
   "outputs": [],
   "source": [
    "def mean_word_length(comments):\n",
    "    lengths = []\n",
    "    for comment in comments:\n",
    "        comment = comment.lower()\n",
    "        comment = re.sub('[^а-яё\\-]', ' ', comment).split()\n",
    "        ls = [len(w) for w in comment]\n",
    "        if len(ls):\n",
    "            lengths.append(sum(ls) / len(ls))\n",
    "        else:\n",
    "            lengths.append(1)\n",
    "    return lengths"
   ]
  },
  {
   "cell_type": "code",
   "execution_count": 51,
   "metadata": {
    "collapsed": true
   },
   "outputs": [],
   "source": [
    "mean_length = mean_word_length(comments_list)"
   ]
  },
  {
   "cell_type": "markdown",
   "metadata": {},
   "source": [
    "### Caps WORD"
   ]
  },
  {
   "cell_type": "code",
   "execution_count": 52,
   "metadata": {
    "collapsed": true
   },
   "outputs": [],
   "source": [
    "def caps_words(comments, partion=False):\n",
    "    caps = []\n",
    "    for comment in comments:\n",
    "        count = len(re.findall('[А-ЯЁA-Z\\-]{4,}', comment))\n",
    "        total = len(comment.split())\n",
    "        if partion and total != 0:\n",
    "            caps.append(count / total * 100)\n",
    "        else:\n",
    "            caps.append(1 if count > 0 else 0)\n",
    "    return caps"
   ]
  },
  {
   "cell_type": "code",
   "execution_count": 53,
   "metadata": {
    "collapsed": true
   },
   "outputs": [],
   "source": [
    "caps = caps_words(comments_list, False)"
   ]
  },
  {
   "cell_type": "code",
   "execution_count": 54,
   "metadata": {},
   "outputs": [
    {
     "data": {
      "text/plain": [
       "0    141411\n",
       "1      2475\n",
       "dtype: int64"
      ]
     },
     "execution_count": 54,
     "metadata": {},
     "output_type": "execute_result"
    }
   ],
   "source": [
    "pd.Series(caps).value_counts()"
   ]
  },
  {
   "cell_type": "markdown",
   "metadata": {},
   "source": [
    "### English words"
   ]
  },
  {
   "cell_type": "code",
   "execution_count": 55,
   "metadata": {
    "collapsed": true
   },
   "outputs": [],
   "source": [
    "def eng_words(comments, partion=False):\n",
    "    engs = []\n",
    "    for comment in comments:\n",
    "        count = len([w for w in re.findall('[a-z\\-]{3,}', comment, flags=re.IGNORECASE) if w != 'имя'])\n",
    "        total = len(comment.split())\n",
    "        if partion and total != 0:\n",
    "            engs.append(count / total * 100)\n",
    "        else:\n",
    "            engs.append(1 if count > 0 else 0)\n",
    "    return engs"
   ]
  },
  {
   "cell_type": "code",
   "execution_count": 56,
   "metadata": {
    "collapsed": true
   },
   "outputs": [],
   "source": [
    "engs = eng_words(comments_list, False)"
   ]
  },
  {
   "cell_type": "code",
   "execution_count": 57,
   "metadata": {},
   "outputs": [
    {
     "data": {
      "text/plain": [
       "0    141805\n",
       "1      2081\n",
       "dtype: int64"
      ]
     },
     "execution_count": 57,
     "metadata": {},
     "output_type": "execute_result"
    }
   ],
   "source": [
    "pd.Series(engs).value_counts()"
   ]
  },
  {
   "cell_type": "markdown",
   "metadata": {},
   "source": [
    "### Total words"
   ]
  },
  {
   "cell_type": "code",
   "execution_count": 58,
   "metadata": {
    "collapsed": true
   },
   "outputs": [],
   "source": [
    "def total_words(comments):\n",
    "    return [len(com.split()) if len(com.split()) < 25 else 25 for com in comments]"
   ]
  },
  {
   "cell_type": "code",
   "execution_count": 59,
   "metadata": {
    "collapsed": true
   },
   "outputs": [],
   "source": [
    "words_count = total_words(comments_list)"
   ]
  },
  {
   "cell_type": "code",
   "execution_count": 60,
   "metadata": {},
   "outputs": [
    {
     "data": {
      "text/plain": [
       "2     18329\n",
       "3     15732\n",
       "4     15271\n",
       "5     13979\n",
       "6     12566\n",
       "7     10667\n",
       "8      9260\n",
       "9      7891\n",
       "10     6844\n",
       "11     5779\n",
       "dtype: int64"
      ]
     },
     "execution_count": 60,
     "metadata": {},
     "output_type": "execute_result"
    }
   ],
   "source": [
    "pd.Series(words_count).value_counts()[:10]"
   ]
  },
  {
   "cell_type": "markdown",
   "metadata": {},
   "source": [
    "### Total chars"
   ]
  },
  {
   "cell_type": "code",
   "execution_count": 61,
   "metadata": {
    "collapsed": true
   },
   "outputs": [],
   "source": [
    "def total_chars(comments):\n",
    "    return [len(com) if len(com) < 100 else 100 for com in comments]"
   ]
  },
  {
   "cell_type": "code",
   "execution_count": 62,
   "metadata": {
    "collapsed": true
   },
   "outputs": [],
   "source": [
    "chars_count = total_chars(comments_list)"
   ]
  },
  {
   "cell_type": "code",
   "execution_count": 63,
   "metadata": {},
   "outputs": [
    {
     "data": {
      "text/plain": [
       "100    6976\n",
       "18     2852\n",
       "21     2819\n",
       "17     2809\n",
       "20     2809\n",
       "15     2784\n",
       "14     2774\n",
       "19     2769\n",
       "16     2742\n",
       "13     2701\n",
       "dtype: int64"
      ]
     },
     "execution_count": 63,
     "metadata": {},
     "output_type": "execute_result"
    }
   ],
   "source": [
    "pd.Series(chars_count).value_counts()[:10]"
   ]
  },
  {
   "cell_type": "markdown",
   "metadata": {},
   "source": [
    "### All comments features together"
   ]
  },
  {
   "cell_type": "code",
   "execution_count": 64,
   "metadata": {
    "collapsed": true
   },
   "outputs": [],
   "source": [
    "from sklearn.feature_selection import VarianceThreshold"
   ]
  },
  {
   "cell_type": "code",
   "execution_count": 65,
   "metadata": {
    "collapsed": true
   },
   "outputs": [],
   "source": [
    "def get_comments_features(coms):\n",
    "    features = pd.DataFrame()\n",
    "    features['with_emoji'] = with_emoji(coms)\n",
    "    big_letter, sents_count = sentence_stat(coms)\n",
    "    features['big_letter'] = big_letter\n",
    "    features['sents_count'] = sents_count\n",
    "    features['punct_)'] = punctuation_counts(coms, pattern='\\)+')\n",
    "    features['punct_('] = punctuation_counts(coms, pattern='\\(+')\n",
    "    features['punct_?'] = punctuation_counts(coms, pattern='\\?+')\n",
    "    features['punct_!'] = punctuation_counts(coms, pattern='\\!+')\n",
    "    features['punct_..'] = punctuation_counts(coms, pattern='[\\.]{2,}')\n",
    "    features['punct_1-9'] = punctuation_counts(coms, pattern='[0-9]{1,}')\n",
    "    features['punct_\"'] = punctuation_counts(coms, pattern='\".+\"')\n",
    "    features['eng_words'] = eng_words(coms, True)\n",
    "    features['mean_word_len'] = mean_word_length(coms)\n",
    "    features['caps'] = caps_words(coms)\n",
    "#     features['em_proportion_rep'] = comments['em_proportion_rep'].values\n",
    "#     features['em_proportion_no_rep'] = comments['em_proportion_no_rep'].values\n",
    "    # features['adj_proportion'] = adj_proportion\n",
    "    features['abc_proportion'] = comments['abc_proportion'].values\n",
    "    features['words_count'] = total_words(coms)\n",
    "    features['chars_count'] = total_chars(coms)\n",
    "    return features"
   ]
  },
  {
   "cell_type": "code",
   "execution_count": 66,
   "metadata": {
    "collapsed": true
   },
   "outputs": [],
   "source": [
    "comment_features = get_comments_features(comments_list)"
   ]
  },
  {
   "cell_type": "code",
   "execution_count": 67,
   "metadata": {
    "collapsed": true
   },
   "outputs": [],
   "source": [
    "comment_features_list = comment_features.columns.tolist()"
   ]
  },
  {
   "cell_type": "code",
   "execution_count": 68,
   "metadata": {},
   "outputs": [
    {
     "data": {
      "text/plain": [
       "Index(['from_id', 'text', 'is_gum', 'hour', 'likes', 'sex', 'abc_proportion'], dtype='object')"
      ]
     },
     "execution_count": 68,
     "metadata": {},
     "output_type": "execute_result"
    }
   ],
   "source": [
    "comments.columns"
   ]
  },
  {
   "cell_type": "code",
   "execution_count": 69,
   "metadata": {},
   "outputs": [
    {
     "data": {
      "text/html": [
       "<div>\n",
       "<style>\n",
       "    .dataframe thead tr:only-child th {\n",
       "        text-align: right;\n",
       "    }\n",
       "\n",
       "    .dataframe thead th {\n",
       "        text-align: left;\n",
       "    }\n",
       "\n",
       "    .dataframe tbody tr th {\n",
       "        vertical-align: top;\n",
       "    }\n",
       "</style>\n",
       "<table border=\"1\" class=\"dataframe\">\n",
       "  <thead>\n",
       "    <tr style=\"text-align: right;\">\n",
       "      <th></th>\n",
       "      <th>with_emoji</th>\n",
       "      <th>big_letter</th>\n",
       "      <th>sents_count</th>\n",
       "      <th>punct_)</th>\n",
       "      <th>punct_(</th>\n",
       "      <th>punct_?</th>\n",
       "      <th>punct_!</th>\n",
       "      <th>punct_..</th>\n",
       "      <th>punct_1-9</th>\n",
       "      <th>punct_\"</th>\n",
       "      <th>eng_words</th>\n",
       "      <th>mean_word_len</th>\n",
       "      <th>caps</th>\n",
       "      <th>abc_proportion</th>\n",
       "      <th>words_count</th>\n",
       "      <th>chars_count</th>\n",
       "    </tr>\n",
       "  </thead>\n",
       "  <tbody>\n",
       "    <tr>\n",
       "      <th>count</th>\n",
       "      <td>143886.000000</td>\n",
       "      <td>143886.000000</td>\n",
       "      <td>143886.000000</td>\n",
       "      <td>143886.000000</td>\n",
       "      <td>143886.000000</td>\n",
       "      <td>143886.000000</td>\n",
       "      <td>143886.000000</td>\n",
       "      <td>143886.000000</td>\n",
       "      <td>143886.000000</td>\n",
       "      <td>143886.000000</td>\n",
       "      <td>143886.000000</td>\n",
       "      <td>143886.000000</td>\n",
       "      <td>143886.000000</td>\n",
       "      <td>143886.000000</td>\n",
       "      <td>143886.000000</td>\n",
       "      <td>143886.000000</td>\n",
       "    </tr>\n",
       "    <tr>\n",
       "      <th>mean</th>\n",
       "      <td>0.121186</td>\n",
       "      <td>0.743457</td>\n",
       "      <td>1.334487</td>\n",
       "      <td>0.219813</td>\n",
       "      <td>0.027383</td>\n",
       "      <td>0.173825</td>\n",
       "      <td>0.104479</td>\n",
       "      <td>0.106181</td>\n",
       "      <td>0.094915</td>\n",
       "      <td>0.028703</td>\n",
       "      <td>0.438921</td>\n",
       "      <td>4.667044</td>\n",
       "      <td>0.017201</td>\n",
       "      <td>0.786583</td>\n",
       "      <td>7.310079</td>\n",
       "      <td>41.934233</td>\n",
       "    </tr>\n",
       "    <tr>\n",
       "      <th>std</th>\n",
       "      <td>0.326345</td>\n",
       "      <td>0.436727</td>\n",
       "      <td>0.624170</td>\n",
       "      <td>0.414121</td>\n",
       "      <td>0.163197</td>\n",
       "      <td>0.378960</td>\n",
       "      <td>0.305881</td>\n",
       "      <td>0.308071</td>\n",
       "      <td>0.293099</td>\n",
       "      <td>0.166972</td>\n",
       "      <td>4.737411</td>\n",
       "      <td>1.273045</td>\n",
       "      <td>0.130021</td>\n",
       "      <td>0.170274</td>\n",
       "      <td>4.521634</td>\n",
       "      <td>26.544164</td>\n",
       "    </tr>\n",
       "    <tr>\n",
       "      <th>min</th>\n",
       "      <td>0.000000</td>\n",
       "      <td>0.000000</td>\n",
       "      <td>1.000000</td>\n",
       "      <td>0.000000</td>\n",
       "      <td>0.000000</td>\n",
       "      <td>0.000000</td>\n",
       "      <td>0.000000</td>\n",
       "      <td>0.000000</td>\n",
       "      <td>0.000000</td>\n",
       "      <td>0.000000</td>\n",
       "      <td>0.000000</td>\n",
       "      <td>1.000000</td>\n",
       "      <td>0.000000</td>\n",
       "      <td>0.000000</td>\n",
       "      <td>2.000000</td>\n",
       "      <td>3.000000</td>\n",
       "    </tr>\n",
       "    <tr>\n",
       "      <th>25%</th>\n",
       "      <td>0.000000</td>\n",
       "      <td>0.000000</td>\n",
       "      <td>1.000000</td>\n",
       "      <td>0.000000</td>\n",
       "      <td>0.000000</td>\n",
       "      <td>0.000000</td>\n",
       "      <td>0.000000</td>\n",
       "      <td>0.000000</td>\n",
       "      <td>0.000000</td>\n",
       "      <td>0.000000</td>\n",
       "      <td>0.000000</td>\n",
       "      <td>3.875000</td>\n",
       "      <td>0.000000</td>\n",
       "      <td>0.674419</td>\n",
       "      <td>4.000000</td>\n",
       "      <td>20.000000</td>\n",
       "    </tr>\n",
       "    <tr>\n",
       "      <th>50%</th>\n",
       "      <td>0.000000</td>\n",
       "      <td>1.000000</td>\n",
       "      <td>1.000000</td>\n",
       "      <td>0.000000</td>\n",
       "      <td>0.000000</td>\n",
       "      <td>0.000000</td>\n",
       "      <td>0.000000</td>\n",
       "      <td>0.000000</td>\n",
       "      <td>0.000000</td>\n",
       "      <td>0.000000</td>\n",
       "      <td>0.000000</td>\n",
       "      <td>4.545455</td>\n",
       "      <td>0.000000</td>\n",
       "      <td>0.814815</td>\n",
       "      <td>6.000000</td>\n",
       "      <td>35.000000</td>\n",
       "    </tr>\n",
       "    <tr>\n",
       "      <th>75%</th>\n",
       "      <td>0.000000</td>\n",
       "      <td>1.000000</td>\n",
       "      <td>2.000000</td>\n",
       "      <td>0.000000</td>\n",
       "      <td>0.000000</td>\n",
       "      <td>0.000000</td>\n",
       "      <td>0.000000</td>\n",
       "      <td>0.000000</td>\n",
       "      <td>0.000000</td>\n",
       "      <td>0.000000</td>\n",
       "      <td>0.000000</td>\n",
       "      <td>5.333333</td>\n",
       "      <td>0.000000</td>\n",
       "      <td>0.933333</td>\n",
       "      <td>10.000000</td>\n",
       "      <td>59.000000</td>\n",
       "    </tr>\n",
       "    <tr>\n",
       "      <th>max</th>\n",
       "      <td>1.000000</td>\n",
       "      <td>1.000000</td>\n",
       "      <td>4.000000</td>\n",
       "      <td>1.000000</td>\n",
       "      <td>1.000000</td>\n",
       "      <td>1.000000</td>\n",
       "      <td>1.000000</td>\n",
       "      <td>1.000000</td>\n",
       "      <td>1.000000</td>\n",
       "      <td>1.000000</td>\n",
       "      <td>150.000000</td>\n",
       "      <td>37.000000</td>\n",
       "      <td>1.000000</td>\n",
       "      <td>1.000000</td>\n",
       "      <td>19.000000</td>\n",
       "      <td>100.000000</td>\n",
       "    </tr>\n",
       "  </tbody>\n",
       "</table>\n",
       "</div>"
      ],
      "text/plain": [
       "          with_emoji     big_letter    sents_count        punct_)  \\\n",
       "count  143886.000000  143886.000000  143886.000000  143886.000000   \n",
       "mean        0.121186       0.743457       1.334487       0.219813   \n",
       "std         0.326345       0.436727       0.624170       0.414121   \n",
       "min         0.000000       0.000000       1.000000       0.000000   \n",
       "25%         0.000000       0.000000       1.000000       0.000000   \n",
       "50%         0.000000       1.000000       1.000000       0.000000   \n",
       "75%         0.000000       1.000000       2.000000       0.000000   \n",
       "max         1.000000       1.000000       4.000000       1.000000   \n",
       "\n",
       "             punct_(        punct_?        punct_!       punct_..  \\\n",
       "count  143886.000000  143886.000000  143886.000000  143886.000000   \n",
       "mean        0.027383       0.173825       0.104479       0.106181   \n",
       "std         0.163197       0.378960       0.305881       0.308071   \n",
       "min         0.000000       0.000000       0.000000       0.000000   \n",
       "25%         0.000000       0.000000       0.000000       0.000000   \n",
       "50%         0.000000       0.000000       0.000000       0.000000   \n",
       "75%         0.000000       0.000000       0.000000       0.000000   \n",
       "max         1.000000       1.000000       1.000000       1.000000   \n",
       "\n",
       "           punct_1-9        punct_\"      eng_words  mean_word_len  \\\n",
       "count  143886.000000  143886.000000  143886.000000  143886.000000   \n",
       "mean        0.094915       0.028703       0.438921       4.667044   \n",
       "std         0.293099       0.166972       4.737411       1.273045   \n",
       "min         0.000000       0.000000       0.000000       1.000000   \n",
       "25%         0.000000       0.000000       0.000000       3.875000   \n",
       "50%         0.000000       0.000000       0.000000       4.545455   \n",
       "75%         0.000000       0.000000       0.000000       5.333333   \n",
       "max         1.000000       1.000000     150.000000      37.000000   \n",
       "\n",
       "                caps  abc_proportion    words_count    chars_count  \n",
       "count  143886.000000   143886.000000  143886.000000  143886.000000  \n",
       "mean        0.017201        0.786583       7.310079      41.934233  \n",
       "std         0.130021        0.170274       4.521634      26.544164  \n",
       "min         0.000000        0.000000       2.000000       3.000000  \n",
       "25%         0.000000        0.674419       4.000000      20.000000  \n",
       "50%         0.000000        0.814815       6.000000      35.000000  \n",
       "75%         0.000000        0.933333      10.000000      59.000000  \n",
       "max         1.000000        1.000000      19.000000     100.000000  "
      ]
     },
     "execution_count": 69,
     "metadata": {},
     "output_type": "execute_result"
    }
   ],
   "source": [
    "comment_features.describe()"
   ]
  },
  {
   "cell_type": "code",
   "execution_count": 70,
   "metadata": {
    "collapsed": true
   },
   "outputs": [],
   "source": [
    "from sklearn import ensemble\n",
    "from xgboost import XGBClassifier"
   ]
  },
  {
   "cell_type": "code",
   "execution_count": 71,
   "metadata": {
    "collapsed": true
   },
   "outputs": [],
   "source": [
    "X = comment_features.values"
   ]
  },
  {
   "cell_type": "code",
   "execution_count": 72,
   "metadata": {},
   "outputs": [
    {
     "data": {
      "text/plain": [
       "(143886, 16)"
      ]
     },
     "execution_count": 72,
     "metadata": {},
     "output_type": "execute_result"
    }
   ],
   "source": [
    "X.shape"
   ]
  },
  {
   "cell_type": "code",
   "execution_count": 69,
   "metadata": {
    "collapsed": true
   },
   "outputs": [],
   "source": [
    "rf = ensemble.RandomForestClassifier(100, n_jobs=-1)"
   ]
  },
  {
   "cell_type": "code",
   "execution_count": 70,
   "metadata": {},
   "outputs": [
    {
     "name": "stdout",
     "output_type": "stream",
     "text": [
      "0.523032301322 0.0133332968428\n"
     ]
    }
   ],
   "source": [
    "baseline_scores = cross_val_score(rf, X, y, cv=5)\n",
    "print(baseline_scores.mean(), baseline_scores.std())"
   ]
  },
  {
   "cell_type": "markdown",
   "metadata": {},
   "source": [
    "---"
   ]
  },
  {
   "cell_type": "code",
   "execution_count": 102,
   "metadata": {
    "collapsed": true
   },
   "outputs": [],
   "source": [
    "gb = XGBClassifier()"
   ]
  },
  {
   "cell_type": "code",
   "execution_count": 103,
   "metadata": {},
   "outputs": [
    {
     "name": "stdout",
     "output_type": "stream",
     "text": [
      "0.549046037866 0.0200562149443\n"
     ]
    }
   ],
   "source": [
    "baseline_scores = cross_val_score(gb, X, y, cv=5)\n",
    "print(baseline_scores.mean(), baseline_scores.std())"
   ]
  },
  {
   "cell_type": "markdown",
   "metadata": {},
   "source": [
    "---"
   ]
  },
  {
   "cell_type": "code",
   "execution_count": 104,
   "metadata": {
    "collapsed": true
   },
   "outputs": [],
   "source": [
    "lr = lm.LogisticRegression()"
   ]
  },
  {
   "cell_type": "code",
   "execution_count": 105,
   "metadata": {},
   "outputs": [
    {
     "name": "stdout",
     "output_type": "stream",
     "text": [
      "0.554863078932 0.015439785092\n"
     ]
    }
   ],
   "source": [
    "baseline_scores = cross_val_score(lr, X, y, cv=5)\n",
    "print(baseline_scores.mean(), baseline_scores.std())"
   ]
  },
  {
   "cell_type": "markdown",
   "metadata": {},
   "source": [
    "### Feature selection"
   ]
  },
  {
   "cell_type": "code",
   "execution_count": 362,
   "metadata": {
    "collapsed": true
   },
   "outputs": [],
   "source": [
    "from sklearn.feature_selection import SelectKBest, f_classif, chi2, f_regression, mutual_info_regression, RFE,\\\n",
    "     SelectFromModel"
   ]
  },
  {
   "cell_type": "code",
   "execution_count": 349,
   "metadata": {
    "collapsed": true
   },
   "outputs": [],
   "source": [
    "sel = VarianceThreshold(0.5)\n",
    "sel.fit(X, y)\n",
    "X_ = sel.transform(X)"
   ]
  },
  {
   "cell_type": "code",
   "execution_count": 350,
   "metadata": {},
   "outputs": [
    {
     "data": {
      "text/plain": [
       "(131758, 5)"
      ]
     },
     "execution_count": 350,
     "metadata": {},
     "output_type": "execute_result"
    }
   ],
   "source": [
    "X_.shape"
   ]
  },
  {
   "cell_type": "code",
   "execution_count": 100,
   "metadata": {},
   "outputs": [
    {
     "name": "stdout",
     "output_type": "stream",
     "text": [
      "0.568997751894 0.00634862669786\n"
     ]
    }
   ],
   "source": [
    "baseline_scores = cross_val_score(lr, X_, y, cv=5)\n",
    "print(baseline_scores.mean(), baseline_scores.std())"
   ]
  },
  {
   "cell_type": "code",
   "execution_count": 353,
   "metadata": {},
   "outputs": [
    {
     "name": "stdout",
     "output_type": "stream",
     "text": [
      "0.568572719434 0.00514447862553\n"
     ]
    }
   ],
   "source": [
    "baseline_scores = cross_val_score(gb, X_, y, cv=5)\n",
    "print(baseline_scores.mean(), baseline_scores.std())"
   ]
  },
  {
   "cell_type": "code",
   "execution_count": 389,
   "metadata": {},
   "outputs": [
    {
     "data": {
      "text/plain": [
       "[('punct_1-9', 0.10741301),\n",
       " ('eng_words', 0.35249621),\n",
       " ('caps', 0.066565812),\n",
       " ('chars_count', 0.47352496)]"
      ]
     },
     "execution_count": 389,
     "metadata": {},
     "output_type": "execute_result"
    }
   ],
   "source": [
    "list(zip(comment_features.columns.values[sel.get_support()], gb.feature_importances_))"
   ]
  },
  {
   "cell_type": "markdown",
   "metadata": {
    "collapsed": true
   },
   "source": [
    "# Cross validation method"
   ]
  },
  {
   "cell_type": "code",
   "execution_count": 92,
   "metadata": {
    "collapsed": true
   },
   "outputs": [],
   "source": [
    "comments = pd.concat((comments.reset_index(drop=True), comment_features.reset_index(drop=True)),\n",
    "                     axis=1, ignore_index=False)"
   ]
  },
  {
   "cell_type": "markdown",
   "metadata": {},
   "source": [
    "## Grouping by user"
   ]
  },
  {
   "cell_type": "code",
   "execution_count": 74,
   "metadata": {
    "collapsed": true
   },
   "outputs": [],
   "source": [
    "def make_df_balanced(df, by_col):\n",
    "    \"\"\"Make df balanced by binary columns named - by_col. Using oversampling\"\"\"\n",
    "    big_class = 0\n",
    "    small_class = 1\n",
    "    if df[by_col].value_counts()[0] < df[by_col].value_counts()[1]:\n",
    "        big_class = 1\n",
    "        small_class = 0\n",
    "    \n",
    "    delta = df[by_col].value_counts()[big_class] - df[by_col].value_counts()[small_class]\n",
    "    only_ing = df[df[by_col] == small_class]\n",
    "    to_add_indexes = np.random.randint(0, len(only_ing) - 1, delta)\n",
    "    df = pd.concat((df, only_ing.iloc[to_add_indexes]))\n",
    "\n",
    "    # shuffle after adding\n",
    "    df = df.iloc[np.random.permutation(df.shape[0])]\n",
    "    return df"
   ]
  },
  {
   "cell_type": "code",
   "execution_count": 75,
   "metadata": {
    "collapsed": true
   },
   "outputs": [],
   "source": [
    "def fit_predict_to_n_user(comments, models, n=10, use_cache=True, debug=True, debug_score=True,\n",
    "                          with_additional=True, predict_proba=False, return_prediction=False):\n",
    "    unique_ids = None\n",
    "    if use_cache:\n",
    "        with open('unique_ids_{}.pkl'.format(n), 'rb') as f:\n",
    "            unique_ids = pickle.load(f)\n",
    "    else:\n",
    "        unique_ids = comments.from_id.value_counts()[comments.from_id.value_counts() >= n].index.values\n",
    "        additional_ids = comments.from_id.value_counts()[comments.from_id.value_counts() < n].index.values\n",
    "#         with open('unique_ids_{}.pkl'.format(n), 'wb') as f:\n",
    "#             pickle.dump(unique_ids, f)\n",
    "    \n",
    "    if debug:\n",
    "        print('{} - uniq peoples'.format(len(unique_ids)))\n",
    "        print('{} - additional peoples'.format(len(additional_ids)))\n",
    "    \n",
    "    train_idxs = unique_ids[:int(len(unique_ids) * 0.8)]\n",
    "    test_idxs = unique_ids[int(len(unique_ids) * 0.8):]\n",
    "\n",
    "    train_comments = comments[[i in train_idxs for i in comments.from_id]]\n",
    "    additional_comments = comments[[i in additional_ids for i in comments.from_id]]\n",
    "    train_comments = pd.concat((train_comments.reset_index(drop=True), additional_comments.reset_index(drop=True)))\n",
    "\n",
    "    test_comments = comments[[i in test_idxs for i in comments.from_id]]\n",
    "\n",
    "    if debug:\n",
    "        print('Before sampling:')\n",
    "        print(train_comments.is_gum.value_counts())\n",
    "        print('Additional comments:')\n",
    "        print(additional_comments.shape[0])\n",
    "    \n",
    "    train_comments = make_df_balanced(train_comments, 'is_gum')\n",
    "    \n",
    "    X_train, X_test = train_comments, test_comments\n",
    "    y_train, y_test = train_comments.is_gum.values, test_comments.is_gum.values\n",
    "    \n",
    "    # models\n",
    "    prediction_df = pd.DataFrame()\n",
    "    if debug_score:\n",
    "        print('Accuracy for comment:')\n",
    "    \n",
    "    cols = []\n",
    "    for model in models:\n",
    "        cols.append(model.name)\n",
    "        model.fit(X_train, y_train)\n",
    "        \n",
    "        if predict_proba:\n",
    "            prediction = model.predict_proba(X_test)\n",
    "            if prediction.shape[1] > 1:\n",
    "                prediction = prediction[:, 1]\n",
    "            else:\n",
    "                prediction = prediction.ravel()\n",
    "        else:\n",
    "            prediction = model.predict(X_test)\n",
    "        prediction_df[model.name] = prediction\n",
    "        \n",
    "        if debug_score:\n",
    "            print('Model: ', model.name)\n",
    "            if predict_proba:\n",
    "                print(accuracy_score(y_test, prediction > 0.5))\n",
    "            else:\n",
    "                print(accuracy_score(y_test, prediction))\n",
    "                \n",
    "    if predict_proba:\n",
    "        prediction_df['prediction'] = prediction_df.mean(axis=1)\n",
    "    else:\n",
    "        prediction_df['prediction'] = prediction_df.median(axis=1)\n",
    "        \n",
    "    if debug_score:\n",
    "        if predict_proba:\n",
    "            print('Mean of models:', accuracy_score(y_test, (prediction_df['prediction'].values > 0.5).astype(int)))\n",
    "        else:\n",
    "            print('Median of models:', accuracy_score(y_test, prediction_df['prediction'].values.astype(int)))\n",
    "    # print(test_comments.shape, prediction_df.shape)\n",
    "    test_comments = pd.concat((test_comments.reset_index(drop=True), prediction_df.reset_index(drop=True)), axis=1)\n",
    "    # print(test_comments.shape)\n",
    "    # test_comments['prediction'] = prediction\n",
    "    # y_true = test_comments.groupby('from_id').agg(np.median)['is_gum'].values\n",
    "    # return test_comments\n",
    "    if predict_proba:\n",
    "        grouped_median_test = test_comments.groupby('from_id').agg(np.mean)\n",
    "    else:\n",
    "        grouped_median_test = test_comments.groupby('from_id').agg(np.median)\n",
    "    # return test_comments.groupby('from_id')[cols].agg(np.median)\n",
    "    y_true = grouped_median_test['is_gum'].values\n",
    "    # print(y_true[:3])\n",
    "    if debug_score:\n",
    "        print('Accuracy for user:')\n",
    "\n",
    "    for model in models:\n",
    "        y_pred = grouped_median_test[model.name].values\n",
    "        # print(y_pred[:3])\n",
    "        # y_pred = np.floor(test_comments.groupby('from_id').agg(np.median)['prediction'].values)\n",
    "        if debug_score:\n",
    "            print('Model: ', model.name)\n",
    "            if predict_proba:\n",
    "                print(accuracy_score(y_true, (y_pred > 0.5).astype(int)))\n",
    "            else:\n",
    "                print(accuracy_score(y_true, y_pred.astype(int)))\n",
    "\n",
    "    if predict_proba:\n",
    "        y_pred_proba = grouped_median_test[cols].mean(axis=1).values\n",
    "        y_pred = (y_pred_proba > 0.5).astype(int)\n",
    "    else:\n",
    "        y_pred = np.floor(grouped_median_test[cols].median(axis=1).values).astype(int)\n",
    "    med_of_models_score = accuracy_score(y_true, y_pred)\n",
    "    \n",
    "    if predict_proba:\n",
    "        y_pred = (grouped_median_test['prediction'].values > 0.5).astype(int)\n",
    "    else:\n",
    "        y_pred = np.floor(grouped_median_test['prediction'].values).astype(int)\n",
    "    med_of_av_models_score = accuracy_score(y_true, y_pred)\n",
    "    \n",
    "    if debug_score:\n",
    "        print('Median of models averaged per user:')\n",
    "        print(med_of_models_score)\n",
    "    \n",
    "    if debug_score:\n",
    "        print('Median of averaged model per user:')\n",
    "        print(med_of_av_models_score)\n",
    "    \n",
    "    if return_prediction: # for debug\n",
    "        return med_of_models_score, med_of_av_models_score, prediction_df, y_test\n",
    "    else:\n",
    "        return med_of_models_score, med_of_av_models_score"
   ]
  },
  {
   "cell_type": "code",
   "execution_count": 76,
   "metadata": {
    "collapsed": true
   },
   "outputs": [],
   "source": [
    "class Model:\n",
    "    def __init__(self, name='-'):\n",
    "        self.name = name\n",
    "        \n",
    "    def fit(self, X, y):\n",
    "        raise NotImplemented()\n",
    "    \n",
    "    def predict(self, X):\n",
    "        raise NotImplemented()\n",
    "    \n",
    "    def predict_proba(self, X):\n",
    "        raise NotImplemented()"
   ]
  },
  {
   "cell_type": "code",
   "execution_count": 77,
   "metadata": {
    "collapsed": true
   },
   "outputs": [],
   "source": [
    "class LrModelCount(Model):\n",
    "    def __init__(self, name='-', max_features=1000, analyzer='word', ngram_range=(1, 1), penalty='l2', C=1):\n",
    "        super().__init__(name)\n",
    "        self.vectorizer = CountVectorizer(max_features=max_features, analyzer=analyzer, ngram_range=ngram_range)\n",
    "        self.model = lm.LogisticRegression(penalty=penalty, C=C)\n",
    "        self._fitted = False\n",
    "        \n",
    "    def fit(self, X, y):\n",
    "        X = self.vectorizer.fit_transform(X.text.values)\n",
    "        self.model.fit(X, y)\n",
    "        self._fitted = True\n",
    "    \n",
    "    def predict(self, X):\n",
    "        if not self._fitted:\n",
    "            raise Exception('Not fitted yet')\n",
    "        X = self.vectorizer.transform(X.text.values)\n",
    "        return self.model.predict(X)\n",
    "    \n",
    "    def predict_proba(self, X):\n",
    "        if not self._fitted:\n",
    "            raise Exception('Not fitted yet')\n",
    "        X = self.vectorizer.transform(X.text.values)\n",
    "        return self.model.predict_proba(X)"
   ]
  },
  {
   "cell_type": "code",
   "execution_count": 78,
   "metadata": {
    "collapsed": true
   },
   "outputs": [],
   "source": [
    "class LrModelCountClear(Model):\n",
    "    def __init__(self, name='-', max_features=1000):\n",
    "        super().__init__(name)\n",
    "        self.vectorizer = CountVectorizer(max_features=max_features)\n",
    "        self.model = lm.LogisticRegression()\n",
    "        self._fitted = False\n",
    "        \n",
    "    def fit(self, X, y):\n",
    "        X = self.vectorizer.fit_transform(X.clear_text.values)\n",
    "        self.model.fit(X, y)\n",
    "        self._fitted = True\n",
    "    \n",
    "    def predict(self, X):\n",
    "        if not self._fitted:\n",
    "            raise Exception('Not fitted yet')\n",
    "        X = self.vectorizer.transform(X.clear_text.values)\n",
    "        return self.model.predict(X)\n",
    "\n",
    "    def predict_proba(self, X):\n",
    "        if not self._fitted:\n",
    "            raise Exception('Not fitted yet')\n",
    "        X = self.vectorizer.transform(X.clear_text.values)\n",
    "        return self.model.predict_proba(X)"
   ]
  },
  {
   "cell_type": "code",
   "execution_count": 79,
   "metadata": {
    "collapsed": true
   },
   "outputs": [],
   "source": [
    "class LrModelTfidf(Model):\n",
    "    def __init__(self, name='-', max_features=1000, penalty='l2', C=1):\n",
    "        super().__init__(name)\n",
    "        self.vectorizer = TfidfVectorizer(max_features=max_features)\n",
    "        self.model = lm.LogisticRegression(penalty=penalty, C=C)\n",
    "        self._fitted = False\n",
    "        \n",
    "    def fit(self, X, y):\n",
    "        X = self.vectorizer.fit_transform(X.text.values)\n",
    "        self.model.fit(X, y)\n",
    "        self._fitted = True\n",
    "    \n",
    "    def predict(self, X):\n",
    "        if not self._fitted:\n",
    "            raise Exception('Not fitted yet')\n",
    "        X = self.vectorizer.transform(X.text.values)\n",
    "        return self.model.predict(X)\n",
    "\n",
    "    def predict_proba(self, X):\n",
    "        if not self._fitted:\n",
    "            raise Exception('Not fitted yet')\n",
    "        X = self.vectorizer.transform(X.text.values)\n",
    "        return self.model.predict_proba(X)"
   ]
  },
  {
   "cell_type": "code",
   "execution_count": 80,
   "metadata": {
    "collapsed": true
   },
   "outputs": [],
   "source": [
    "class FeaturesModelXGB(Model):\n",
    "    def __init__(self, name='-', n_estimators=100, var_threshold=None, chi2_count=None):\n",
    "        super().__init__(name)\n",
    "        self.model = xgb.XGBClassifier(n_estimators=n_estimators)\n",
    "        if chi2_count is not None:\n",
    "            self.selector = SelectKBest(chi2, chi2_count)\n",
    "        elif var_threshold is not None:\n",
    "            self.selector = VarianceThreshold(var_threshold)\n",
    "        else:\n",
    "            raise Exception('var_threshold or chi2_count should be specified!')\n",
    "        self._fitted = False\n",
    "        \n",
    "    def fit(self, X, y):\n",
    "        X = X[comment_features_list].values\n",
    "        X = self.selector.fit_transform(X, y)\n",
    "        self.model.fit(X, y)\n",
    "        self._fitted = True\n",
    "    \n",
    "    def predict(self, X):\n",
    "        if not self._fitted:\n",
    "            raise Exception('Not fitted yet')\n",
    "        X = X[comment_features_list].values\n",
    "        X = self.selector.transform(X)\n",
    "        return self.model.predict(X)\n",
    "\n",
    "    def predict_proba(self, X):\n",
    "        if not self._fitted:\n",
    "            raise Exception('Not fitted yet')\n",
    "        X = X[comment_features_list].values\n",
    "        X = self.selector.transform(X)\n",
    "        return self.model.predict_proba(X)"
   ]
  },
  {
   "cell_type": "code",
   "execution_count": 81,
   "metadata": {},
   "outputs": [
    {
     "name": "stderr",
     "output_type": "stream",
     "text": [
      "Using TensorFlow backend.\n"
     ]
    }
   ],
   "source": [
    "from keras.models import Sequential\n",
    "from keras.layers import Dense, Activation, Dropout, LSTM\n",
    "from keras.optimizers import RMSprop, Adam\n",
    "from keras.layers.advanced_activations import PReLU\n",
    "from keras.layers.embeddings import Embedding\n",
    "from keras.preprocessing import sequence\n",
    "import keras.preprocessing.text\n",
    "np.random.seed(7)\n",
    "\n",
    "import xgboost as xgb"
   ]
  },
  {
   "cell_type": "code",
   "execution_count": 82,
   "metadata": {
    "collapsed": true
   },
   "outputs": [],
   "source": [
    "class MlpModel(Model):\n",
    "    def __init__(self, name='-', max_features=1000, neurons=500, clear=False):\n",
    "        super().__init__(name)\n",
    "        self.clear = clear\n",
    "        self.vectorizer = CountVectorizer(max_features=max_features)\n",
    "\n",
    "        self.model = Sequential()\n",
    "        self.model.add(Dense(neurons, input_shape=(max_features,)))\n",
    "        self.model.add(Activation(PReLU()))\n",
    "        self.model.add(Dropout(0.3))\n",
    "        self.model.add(Dense(1))\n",
    "        self.model.add(Activation('sigmoid'))\n",
    "\n",
    "        self.model.compile(loss='binary_crossentropy',\n",
    "                      optimizer='adam',\n",
    "                      metrics=['accuracy'])\n",
    "        \n",
    "        self._fitted = False\n",
    "        \n",
    "    def fit(self, X, y):\n",
    "        text = X.text.values\n",
    "        if self.clear:\n",
    "            text = X.clear_text.values\n",
    "        X = self.vectorizer.fit_transform(text)\n",
    "        self.model.fit(X.toarray(), y,\n",
    "                    nb_epoch=3, batch_size=512,\n",
    "                    verbose=0) # , validation_split=0.1)\n",
    "        self._fitted = True\n",
    "    \n",
    "    def predict(self, X):\n",
    "        if not self._fitted:\n",
    "            raise Exception('Not fitted yet')\n",
    "\n",
    "        text = X.text.values\n",
    "        if self.clear:\n",
    "            text = X.clear_text.values\n",
    "            \n",
    "        X = self.vectorizer.transform(text)\n",
    "        return self.model.predict_classes(X.toarray(), batch_size=512, verbose=0).ravel()\n",
    "    \n",
    "    def predict_proba(self, X):\n",
    "        if not self._fitted:\n",
    "            raise Exception('Not fitted yet')\n",
    "            \n",
    "        text = X.text.values\n",
    "        if self.clear:\n",
    "            text = X.clear_text.values\n",
    "            \n",
    "        X = self.vectorizer.transform(text)\n",
    "        return self.model.predict(X.toarray(), batch_size=512, verbose=0) #.ravel()"
   ]
  },
  {
   "cell_type": "code",
   "execution_count": 83,
   "metadata": {
    "collapsed": true
   },
   "outputs": [],
   "source": [
    "class LstmModel(Model):\n",
    "    def __init__(self, name='-', nb_words=10000, embedding_vector_length=64, char_level=False, max_len=40,\n",
    "                 nb_epoch=3, clear=False):\n",
    "        super().__init__(name)\n",
    "        self.nb_words = nb_words\n",
    "        self.embedding_vector_length = embedding_vector_length\n",
    "        self.char_level = char_level\n",
    "        self.max_len = max_len\n",
    "        self.nb_epoch = nb_epoch\n",
    "        self.clear = clear\n",
    "        \n",
    "        self.vectorizer = keras.preprocessing.text.Tokenizer(nb_words=nb_words, lower=True, split=\" \",\n",
    "                                                             char_level=char_level)\n",
    "\n",
    "        self.model = Sequential()\n",
    "        self.model.add(Embedding(nb_words, embedding_vector_length))\n",
    "        self.model.add(Dropout(0.4))\n",
    "        self.model.add(LSTM(64, return_sequences=True, dropout_W=0.3, dropout_U=0.3))\n",
    "        self.model.add(Dropout(0.3))\n",
    "        self.model.add(LSTM(64, return_sequences=False, dropout_W=0.2, dropout_U=0.2))\n",
    "        self.model.add(Dropout(0.3))\n",
    "        self.model.add(Dense(1, activation='sigmoid'))\n",
    "        self.model.compile(loss='binary_crossentropy', optimizer='adam', metrics=['accuracy'])\n",
    "        \n",
    "        self._fitted = False\n",
    "        \n",
    "    def fit(self, X, y):\n",
    "        text = X.text.values\n",
    "        if self.clear:\n",
    "            text = X.clear_text.values\n",
    "            \n",
    "        self.vectorizer.fit_on_texts(text) # clear_coms\n",
    "        X = self.vectorizer.texts_to_sequences(text)\n",
    "        X = sequence.pad_sequences(X, maxlen=self.max_len, padding='pre')\n",
    "        \n",
    "        self.model.fit(X, y, nb_epoch=self.nb_epoch, batch_size=512, verbose=0)\n",
    "        self._fitted = True\n",
    "    \n",
    "    def predict(self, X):\n",
    "        if not self._fitted:\n",
    "            raise Exception('Not fitted yet')\n",
    "            \n",
    "        text = X.text.values\n",
    "        if self.clear:\n",
    "            text = X.clear_text.values\n",
    "            \n",
    "        X = self.vectorizer.texts_to_sequences(text)\n",
    "        X = sequence.pad_sequences(X, maxlen=self.max_len, padding='pre')\n",
    "        return self.model.predict_classes(X, batch_size=512, verbose=0).ravel()\n",
    "    \n",
    "    def predict_proba(self, X):\n",
    "        if not self._fitted:\n",
    "            raise Exception('Not fitted yet')\n",
    "        \n",
    "        text = X.text.values\n",
    "        if self.clear:\n",
    "            text = X.clear_text.values\n",
    "            \n",
    "        X = self.vectorizer.texts_to_sequences(text)\n",
    "        X = sequence.pad_sequences(X, maxlen=self.max_len, padding='pre')\n",
    "        return self.model.predict(X, batch_size=512, verbose=0) #.ravel()"
   ]
  },
  {
   "cell_type": "markdown",
   "metadata": {},
   "source": [
    "## Model selection"
   ]
  },
  {
   "cell_type": "markdown",
   "metadata": {},
   "source": [
    "### Probability prediction"
   ]
  },
  {
   "cell_type": "code",
   "execution_count": 91,
   "metadata": {},
   "outputs": [
    {
     "data": {
      "text/plain": [
       "Index(['from_id', 'text', 'is_gum', 'hour', 'likes', 'sex', 'abc_proportion'], dtype='object')"
      ]
     },
     "execution_count": 91,
     "metadata": {},
     "output_type": "execute_result"
    }
   ],
   "source": [
    "comments.columns"
   ]
  },
  {
   "cell_type": "code",
   "execution_count": 93,
   "metadata": {
    "scrolled": true
   },
   "outputs": [
    {
     "name": "stderr",
     "output_type": "stream",
     "text": [
      "/home/digitman/miniconda3/lib/python3.6/site-packages/keras/activations.py:89: UserWarning: Do not pass a layer instance (such as PReLU) as the activation argument of another layer. Instead, advanced activation layers should be used just like any other layer in a model.\n",
      "  ).format(identifier=identifier.__class__.__name__))\n"
     ]
    },
    {
     "name": "stdout",
     "output_type": "stream",
     "text": [
      "2629 - uniq peoples\n",
      "3992 - additional peoples\n",
      "Before sampling:\n",
      "0.0    80902\n",
      "1.0    60072\n",
      "Name: is_gum, dtype: int64\n",
      "Additional comments:\n",
      "7196\n",
      "Accuracy for comment:\n"
     ]
    },
    {
     "name": "stderr",
     "output_type": "stream",
     "text": [
      "/home/digitman/miniconda3/lib/python3.6/site-packages/keras/models.py:851: UserWarning: The `nb_epoch` argument in `fit` has been renamed `epochs`.\n",
      "  warnings.warn('The `nb_epoch` argument in `fit` '\n"
     ]
    },
    {
     "name": "stdout",
     "output_type": "stream",
     "text": [
      "Model:  mlp\n",
      "0.512706043956\n",
      "Model:  lr_count_2k_word_1\n",
      "0.512362637363\n",
      "Model:  lr_count_2k_word_12\n",
      "0.515453296703\n",
      "Model:  lr_count_2k_word_13\n",
      "0.513049450549\n",
      "Model:  lr_count_2k_char_33\n",
      "0.519574175824\n",
      "Model:  lr_count_2k_char_23\n",
      "0.52918956044\n",
      "Model:  lr_count_5k_word_12\n",
      "0.510645604396\n",
      "Model:  lr_count_5k_word_13\n",
      "0.505837912088\n",
      "Model:  lr_count_10k_word_13\n",
      "0.519574175824\n",
      "Model:  lr_count_5k_char_33\n",
      "0.508241758242\n",
      "Model:  lr_count_5k_char_23\n",
      "0.51510989011\n",
      "Model:  xgb_300_0\n",
      "0.509958791209\n",
      "Model:  xgb_200_0\n",
      "0.509615384615\n",
      "Model:  xgb_150_0.3\n",
      "0.5\n",
      "Model:  xgb_100_0.5\n",
      "0.505151098901\n",
      "Model:  xgb_75_0.7\n",
      "0.504464285714\n",
      "Model:  lr_tfidf_1k\n",
      "0.518200549451\n",
      "Model:  lr_tfidf_2k\n",
      "0.518543956044\n",
      "Model:  lr_tfidf_3k\n",
      "0.51614010989\n",
      "Model:  lr_tfidf_5k\n",
      "0.513049450549\n",
      "Mean of models: 0.519574175824\n",
      "Accuracy for user:\n",
      "Model:  mlp\n",
      "0.503802281369\n",
      "Model:  lr_count_2k_word_1\n",
      "0.526615969582\n",
      "Model:  lr_count_2k_word_12\n",
      "0.528517110266\n",
      "Model:  lr_count_2k_word_13\n",
      "0.520912547529\n",
      "Model:  lr_count_2k_char_33\n",
      "0.562737642586\n",
      "Model:  lr_count_2k_char_23\n",
      "0.58174904943\n",
      "Model:  lr_count_5k_word_12\n",
      "0.541825095057\n",
      "Model:  lr_count_5k_word_13\n",
      "0.549429657795\n",
      "Model:  lr_count_10k_word_13\n",
      "0.536121673004\n",
      "Model:  lr_count_5k_char_33\n",
      "0.553231939163\n",
      "Model:  lr_count_5k_char_23\n",
      "0.54752851711\n",
      "Model:  xgb_300_0\n",
      "0.507604562738\n",
      "Model:  xgb_200_0\n",
      "0.507604562738\n",
      "Model:  xgb_150_0.3\n",
      "0.496197718631\n",
      "Model:  xgb_100_0.5\n",
      "0.520912547529\n",
      "Model:  xgb_75_0.7\n",
      "0.51711026616\n",
      "Model:  lr_tfidf_1k\n",
      "0.530418250951\n",
      "Model:  lr_tfidf_2k\n",
      "0.534220532319\n",
      "Model:  lr_tfidf_3k\n",
      "0.536121673004\n",
      "Model:  lr_tfidf_5k\n",
      "0.539923954373\n",
      "Median of models averaged per user:\n",
      "0.51711026616\n",
      "Median of averaged model per user:\n",
      "0.51711026616\n",
      "CPU times: user 9min 53s, sys: 13.8 s, total: 10min 7s\n",
      "Wall time: 18min 17s\n"
     ]
    }
   ],
   "source": [
    "%%time\n",
    "np.random.seed(0)\n",
    "s1, s2, pr, y_t = fit_predict_to_n_user(comments,\n",
    "        [\n",
    "#             LstmModel('lstm_word', nb_words=5000, nb_epoch=4),\n",
    "#             LstmModel('lstm_word_big', nb_words=10000, nb_epoch=5),\n",
    "#             LstmModel('lstm_word_clear', nb_words=5000, nb_epoch=4, clear=True),\n",
    "#             LstmModel('lstm_char', nb_epoch=5, nb_words=100, char_level=True, max_len=100),\n",
    "            \n",
    "            MlpModel('mlp', neurons=400),\n",
    "#             MlpModel('mlp_big', max_features=3000, neurons=700),\n",
    "#             MlpModel('mlp_clear', neurons=400, clear=True),\n",
    "#             MlpModel('mlp_big_clear', max_features=2000, neurons=600, clear=True),\n",
    "\n",
    "            LrModelCount('lr_count_2k_word_1', 2000),\n",
    "            LrModelCount('lr_count_2k_word_12', 2000, ngram_range=(1, 2)),\n",
    "            LrModelCount('lr_count_2k_word_13', 2000, ngram_range=(1, 3)),\n",
    "\n",
    "            LrModelCount('lr_count_2k_char_33', 2000, 'char', (3, 3)),\n",
    "            LrModelCount('lr_count_2k_char_23', 2000, 'char', (2, 3)),\n",
    "\n",
    "            LrModelCount('lr_count_5k_word_12', 5000, ngram_range=(1, 2)),\n",
    "            LrModelCount('lr_count_5k_word_13', 5000, ngram_range=(1, 3)),\n",
    "            \n",
    "            LrModelCount('lr_count_10k_word_13', 10000, ngram_range=(1, 3)),\n",
    "            \n",
    "            LrModelCount('lr_count_5k_char_33', 5000, 'char', (3, 3)),\n",
    "            LrModelCount('lr_count_5k_char_23', 5000, 'char', (2, 3)),\n",
    "\n",
    "\n",
    "#             LrModelCountClear('lr_clear_count_1k', 1000),\n",
    "#             LrModelCountClear('lr_clear_count_2k', 2000),\n",
    "#             LrModelCountClear('lr_clear_count_3k', 3000),\n",
    "\n",
    "            FeaturesModelXGB('xgb_300_0', n_estimators=300, var_threshold=0.0),\n",
    "            FeaturesModelXGB('xgb_200_0', n_estimators=200, var_threshold=0.0),\n",
    "            FeaturesModelXGB('xgb_150_0.3', n_estimators=150, var_threshold=0.3),\n",
    "            FeaturesModelXGB('xgb_100_0.5', n_estimators=100, var_threshold=0.5),\n",
    "            FeaturesModelXGB('xgb_75_0.7', n_estimators=75, var_threshold=0.7),\n",
    "            \n",
    "            LrModelTfidf('lr_tfidf_1k', 1000),\n",
    "            LrModelTfidf('lr_tfidf_2k', 2000),\n",
    "            LrModelTfidf('lr_tfidf_3k', 3000),\n",
    "            LrModelTfidf('lr_tfidf_5k', 5000),\n",
    "        ], 5, False, with_additional=True, debug=True, predict_proba=True, return_prediction=True)"
   ]
  },
  {
   "cell_type": "code",
   "execution_count": 94,
   "metadata": {},
   "outputs": [
    {
     "data": {
      "text/html": [
       "<div>\n",
       "<style>\n",
       "    .dataframe thead tr:only-child th {\n",
       "        text-align: right;\n",
       "    }\n",
       "\n",
       "    .dataframe thead th {\n",
       "        text-align: left;\n",
       "    }\n",
       "\n",
       "    .dataframe tbody tr th {\n",
       "        vertical-align: top;\n",
       "    }\n",
       "</style>\n",
       "<table border=\"1\" class=\"dataframe\">\n",
       "  <thead>\n",
       "    <tr style=\"text-align: right;\">\n",
       "      <th></th>\n",
       "      <th>mlp</th>\n",
       "      <th>lr_count_2k_word_1</th>\n",
       "      <th>lr_count_2k_word_12</th>\n",
       "      <th>lr_count_2k_word_13</th>\n",
       "      <th>lr_count_2k_char_33</th>\n",
       "      <th>lr_count_2k_char_23</th>\n",
       "      <th>lr_count_5k_word_12</th>\n",
       "      <th>lr_count_5k_word_13</th>\n",
       "      <th>lr_count_10k_word_13</th>\n",
       "      <th>lr_count_5k_char_33</th>\n",
       "      <th>...</th>\n",
       "      <th>xgb_300_0</th>\n",
       "      <th>xgb_200_0</th>\n",
       "      <th>xgb_150_0.3</th>\n",
       "      <th>xgb_100_0.5</th>\n",
       "      <th>xgb_75_0.7</th>\n",
       "      <th>lr_tfidf_1k</th>\n",
       "      <th>lr_tfidf_2k</th>\n",
       "      <th>lr_tfidf_3k</th>\n",
       "      <th>lr_tfidf_5k</th>\n",
       "      <th>prediction</th>\n",
       "    </tr>\n",
       "  </thead>\n",
       "  <tbody>\n",
       "    <tr>\n",
       "      <th>count</th>\n",
       "      <td>2912.000000</td>\n",
       "      <td>2912.000000</td>\n",
       "      <td>2912.000000</td>\n",
       "      <td>2912.000000</td>\n",
       "      <td>2912.000000</td>\n",
       "      <td>2912.000000</td>\n",
       "      <td>2912.000000</td>\n",
       "      <td>2912.000000</td>\n",
       "      <td>2912.000000</td>\n",
       "      <td>2912.000000</td>\n",
       "      <td>...</td>\n",
       "      <td>2912.000000</td>\n",
       "      <td>2912.000000</td>\n",
       "      <td>2912.000000</td>\n",
       "      <td>2912.000000</td>\n",
       "      <td>2912.000000</td>\n",
       "      <td>2912.000000</td>\n",
       "      <td>2912.000000</td>\n",
       "      <td>2912.000000</td>\n",
       "      <td>2912.000000</td>\n",
       "      <td>2912.000000</td>\n",
       "    </tr>\n",
       "    <tr>\n",
       "      <th>mean</th>\n",
       "      <td>0.492431</td>\n",
       "      <td>0.496703</td>\n",
       "      <td>0.497455</td>\n",
       "      <td>0.497156</td>\n",
       "      <td>0.497107</td>\n",
       "      <td>0.497170</td>\n",
       "      <td>0.495606</td>\n",
       "      <td>0.495844</td>\n",
       "      <td>0.492692</td>\n",
       "      <td>0.497377</td>\n",
       "      <td>...</td>\n",
       "      <td>0.495038</td>\n",
       "      <td>0.494748</td>\n",
       "      <td>0.497983</td>\n",
       "      <td>0.498410</td>\n",
       "      <td>0.498403</td>\n",
       "      <td>0.496419</td>\n",
       "      <td>0.498416</td>\n",
       "      <td>0.497864</td>\n",
       "      <td>0.496824</td>\n",
       "      <td>0.496551</td>\n",
       "    </tr>\n",
       "    <tr>\n",
       "      <th>std</th>\n",
       "      <td>0.099080</td>\n",
       "      <td>0.099188</td>\n",
       "      <td>0.096694</td>\n",
       "      <td>0.096306</td>\n",
       "      <td>0.108774</td>\n",
       "      <td>0.114843</td>\n",
       "      <td>0.122256</td>\n",
       "      <td>0.121915</td>\n",
       "      <td>0.145775</td>\n",
       "      <td>0.142145</td>\n",
       "      <td>...</td>\n",
       "      <td>0.062434</td>\n",
       "      <td>0.058642</td>\n",
       "      <td>0.037029</td>\n",
       "      <td>0.028276</td>\n",
       "      <td>0.026520</td>\n",
       "      <td>0.081150</td>\n",
       "      <td>0.093928</td>\n",
       "      <td>0.100751</td>\n",
       "      <td>0.109466</td>\n",
       "      <td>0.068987</td>\n",
       "    </tr>\n",
       "    <tr>\n",
       "      <th>min</th>\n",
       "      <td>0.105739</td>\n",
       "      <td>0.126430</td>\n",
       "      <td>0.066563</td>\n",
       "      <td>0.066968</td>\n",
       "      <td>0.080045</td>\n",
       "      <td>0.078867</td>\n",
       "      <td>0.076624</td>\n",
       "      <td>0.073844</td>\n",
       "      <td>0.027274</td>\n",
       "      <td>0.034258</td>\n",
       "      <td>...</td>\n",
       "      <td>0.240882</td>\n",
       "      <td>0.254774</td>\n",
       "      <td>0.276301</td>\n",
       "      <td>0.311480</td>\n",
       "      <td>0.317956</td>\n",
       "      <td>0.256763</td>\n",
       "      <td>0.156417</td>\n",
       "      <td>0.155407</td>\n",
       "      <td>0.140201</td>\n",
       "      <td>0.230319</td>\n",
       "    </tr>\n",
       "    <tr>\n",
       "      <th>25%</th>\n",
       "      <td>0.437825</td>\n",
       "      <td>0.446092</td>\n",
       "      <td>0.446975</td>\n",
       "      <td>0.446606</td>\n",
       "      <td>0.434356</td>\n",
       "      <td>0.427268</td>\n",
       "      <td>0.432887</td>\n",
       "      <td>0.433106</td>\n",
       "      <td>0.410897</td>\n",
       "      <td>0.411922</td>\n",
       "      <td>...</td>\n",
       "      <td>0.446971</td>\n",
       "      <td>0.449703</td>\n",
       "      <td>0.477116</td>\n",
       "      <td>0.483910</td>\n",
       "      <td>0.485245</td>\n",
       "      <td>0.433947</td>\n",
       "      <td>0.432051</td>\n",
       "      <td>0.434150</td>\n",
       "      <td>0.430494</td>\n",
       "      <td>0.452923</td>\n",
       "    </tr>\n",
       "    <tr>\n",
       "      <th>50%</th>\n",
       "      <td>0.487945</td>\n",
       "      <td>0.490955</td>\n",
       "      <td>0.488855</td>\n",
       "      <td>0.488932</td>\n",
       "      <td>0.496124</td>\n",
       "      <td>0.493633</td>\n",
       "      <td>0.492021</td>\n",
       "      <td>0.490604</td>\n",
       "      <td>0.489144</td>\n",
       "      <td>0.497683</td>\n",
       "      <td>...</td>\n",
       "      <td>0.493868</td>\n",
       "      <td>0.494209</td>\n",
       "      <td>0.497301</td>\n",
       "      <td>0.498744</td>\n",
       "      <td>0.498880</td>\n",
       "      <td>0.496248</td>\n",
       "      <td>0.499179</td>\n",
       "      <td>0.499135</td>\n",
       "      <td>0.500419</td>\n",
       "      <td>0.492999</td>\n",
       "    </tr>\n",
       "    <tr>\n",
       "      <th>75%</th>\n",
       "      <td>0.543060</td>\n",
       "      <td>0.544860</td>\n",
       "      <td>0.547540</td>\n",
       "      <td>0.548013</td>\n",
       "      <td>0.558974</td>\n",
       "      <td>0.565763</td>\n",
       "      <td>0.560686</td>\n",
       "      <td>0.560633</td>\n",
       "      <td>0.575411</td>\n",
       "      <td>0.584032</td>\n",
       "      <td>...</td>\n",
       "      <td>0.539493</td>\n",
       "      <td>0.537689</td>\n",
       "      <td>0.517318</td>\n",
       "      <td>0.516367</td>\n",
       "      <td>0.515449</td>\n",
       "      <td>0.545952</td>\n",
       "      <td>0.558894</td>\n",
       "      <td>0.563190</td>\n",
       "      <td>0.565314</td>\n",
       "      <td>0.535627</td>\n",
       "    </tr>\n",
       "    <tr>\n",
       "      <th>max</th>\n",
       "      <td>0.943841</td>\n",
       "      <td>0.917776</td>\n",
       "      <td>0.941219</td>\n",
       "      <td>0.941228</td>\n",
       "      <td>0.925183</td>\n",
       "      <td>0.926024</td>\n",
       "      <td>0.968955</td>\n",
       "      <td>0.973513</td>\n",
       "      <td>0.973455</td>\n",
       "      <td>0.959026</td>\n",
       "      <td>...</td>\n",
       "      <td>0.711934</td>\n",
       "      <td>0.699260</td>\n",
       "      <td>0.677225</td>\n",
       "      <td>0.662909</td>\n",
       "      <td>0.639264</td>\n",
       "      <td>0.886978</td>\n",
       "      <td>0.886676</td>\n",
       "      <td>0.885050</td>\n",
       "      <td>0.891854</td>\n",
       "      <td>0.805113</td>\n",
       "    </tr>\n",
       "  </tbody>\n",
       "</table>\n",
       "<p>8 rows × 21 columns</p>\n",
       "</div>"
      ],
      "text/plain": [
       "               mlp  lr_count_2k_word_1  lr_count_2k_word_12  \\\n",
       "count  2912.000000         2912.000000          2912.000000   \n",
       "mean      0.492431            0.496703             0.497455   \n",
       "std       0.099080            0.099188             0.096694   \n",
       "min       0.105739            0.126430             0.066563   \n",
       "25%       0.437825            0.446092             0.446975   \n",
       "50%       0.487945            0.490955             0.488855   \n",
       "75%       0.543060            0.544860             0.547540   \n",
       "max       0.943841            0.917776             0.941219   \n",
       "\n",
       "       lr_count_2k_word_13  lr_count_2k_char_33  lr_count_2k_char_23  \\\n",
       "count          2912.000000          2912.000000          2912.000000   \n",
       "mean              0.497156             0.497107             0.497170   \n",
       "std               0.096306             0.108774             0.114843   \n",
       "min               0.066968             0.080045             0.078867   \n",
       "25%               0.446606             0.434356             0.427268   \n",
       "50%               0.488932             0.496124             0.493633   \n",
       "75%               0.548013             0.558974             0.565763   \n",
       "max               0.941228             0.925183             0.926024   \n",
       "\n",
       "       lr_count_5k_word_12  lr_count_5k_word_13  lr_count_10k_word_13  \\\n",
       "count          2912.000000          2912.000000           2912.000000   \n",
       "mean              0.495606             0.495844              0.492692   \n",
       "std               0.122256             0.121915              0.145775   \n",
       "min               0.076624             0.073844              0.027274   \n",
       "25%               0.432887             0.433106              0.410897   \n",
       "50%               0.492021             0.490604              0.489144   \n",
       "75%               0.560686             0.560633              0.575411   \n",
       "max               0.968955             0.973513              0.973455   \n",
       "\n",
       "       lr_count_5k_char_33     ...         xgb_300_0    xgb_200_0  \\\n",
       "count          2912.000000     ...       2912.000000  2912.000000   \n",
       "mean              0.497377     ...          0.495038     0.494748   \n",
       "std               0.142145     ...          0.062434     0.058642   \n",
       "min               0.034258     ...          0.240882     0.254774   \n",
       "25%               0.411922     ...          0.446971     0.449703   \n",
       "50%               0.497683     ...          0.493868     0.494209   \n",
       "75%               0.584032     ...          0.539493     0.537689   \n",
       "max               0.959026     ...          0.711934     0.699260   \n",
       "\n",
       "       xgb_150_0.3  xgb_100_0.5   xgb_75_0.7  lr_tfidf_1k  lr_tfidf_2k  \\\n",
       "count  2912.000000  2912.000000  2912.000000  2912.000000  2912.000000   \n",
       "mean      0.497983     0.498410     0.498403     0.496419     0.498416   \n",
       "std       0.037029     0.028276     0.026520     0.081150     0.093928   \n",
       "min       0.276301     0.311480     0.317956     0.256763     0.156417   \n",
       "25%       0.477116     0.483910     0.485245     0.433947     0.432051   \n",
       "50%       0.497301     0.498744     0.498880     0.496248     0.499179   \n",
       "75%       0.517318     0.516367     0.515449     0.545952     0.558894   \n",
       "max       0.677225     0.662909     0.639264     0.886978     0.886676   \n",
       "\n",
       "       lr_tfidf_3k  lr_tfidf_5k   prediction  \n",
       "count  2912.000000  2912.000000  2912.000000  \n",
       "mean      0.497864     0.496824     0.496551  \n",
       "std       0.100751     0.109466     0.068987  \n",
       "min       0.155407     0.140201     0.230319  \n",
       "25%       0.434150     0.430494     0.452923  \n",
       "50%       0.499135     0.500419     0.492999  \n",
       "75%       0.563190     0.565314     0.535627  \n",
       "max       0.885050     0.891854     0.805113  \n",
       "\n",
       "[8 rows x 21 columns]"
      ]
     },
     "execution_count": 94,
     "metadata": {},
     "output_type": "execute_result"
    }
   ],
   "source": [
    "pr.describe()"
   ]
  },
  {
   "cell_type": "markdown",
   "metadata": {},
   "source": [
    "### Models correlation"
   ]
  },
  {
   "cell_type": "code",
   "execution_count": 95,
   "metadata": {},
   "outputs": [
    {
     "data": {
      "text/plain": [
       "<matplotlib.axes._subplots.AxesSubplot at 0x7f378a29c748>"
      ]
     },
     "execution_count": 95,
     "metadata": {},
     "output_type": "execute_result"
    },
    {
     "data": {
      "image/png": "[encoded data removed]",
      "text/plain": [
       "<matplotlib.figure.Figure at 0x7f378a2a0ef0>"
      ]
     },
     "metadata": {},
     "output_type": "display_data"
    }
   ],
   "source": [
    "import seaborn as sns\n",
    "plt.figure(figsize=(10, 10))\n",
    "sns.heatmap(pr.corr())"
   ]
  },
  {
   "cell_type": "markdown",
   "metadata": {},
   "source": [
    "### Metrics"
   ]
  },
  {
   "cell_type": "code",
   "execution_count": 96,
   "metadata": {
    "collapsed": true
   },
   "outputs": [],
   "source": [
    "from sklearn.metrics import auc, roc_curve, f1_score, confusion_matrix, roc_auc_score"
   ]
  },
  {
   "cell_type": "code",
   "execution_count": 97,
   "metadata": {},
   "outputs": [
    {
     "data": {
      "text/plain": [
       "(2912, 21)"
      ]
     },
     "execution_count": 97,
     "metadata": {},
     "output_type": "execute_result"
    }
   ],
   "source": [
    "pr.shape"
   ]
  },
  {
   "cell_type": "code",
   "execution_count": 98,
   "metadata": {},
   "outputs": [
    {
     "data": {
      "image/png": "[encoded data removed]",
      "text/plain": [
       "<matplotlib.figure.Figure at 0x7f3789deb390>"
      ]
     },
     "metadata": {},
     "output_type": "display_data"
    }
   ],
   "source": [
    "plt.hist(pr.prediction.values, bins=30);"
   ]
  },
  {
   "cell_type": "code",
   "execution_count": 100,
   "metadata": {},
   "outputs": [
    {
     "data": {
      "text/plain": [
       "0.65308079597218893"
      ]
     },
     "execution_count": 100,
     "metadata": {},
     "output_type": "execute_result"
    }
   ],
   "source": [
    "f1_score(y_t, pr.prediction.values > 0.4)"
   ]
  },
  {
   "cell_type": "code",
   "execution_count": 101,
   "metadata": {
    "collapsed": true
   },
   "outputs": [],
   "source": [
    "# fpr, tpr = roc_curve(y_t, pr.drop('prediction', axis=1).values)\n",
    "fpr, tpr, _ = roc_curve(y_t, pr.prediction.values)"
   ]
  },
  {
   "cell_type": "code",
   "execution_count": 191,
   "metadata": {},
   "outputs": [
    {
     "data": {
      "text/plain": [
       "[<matplotlib.lines.Line2D at 0x7fec227a98d0>]"
      ]
     },
     "execution_count": 191,
     "metadata": {},
     "output_type": "execute_result"
    },
    {
     "data": {
      "image/png": "[encoded data removed]",
      "text/plain": [
       "<matplotlib.figure.Figure at 0x7fec21704358>"
      ]
     },
     "metadata": {},
     "output_type": "display_data"
    }
   ],
   "source": [
    "plt.plot(fpr, tpr)"
   ]
  },
  {
   "cell_type": "code",
   "execution_count": 104,
   "metadata": {},
   "outputs": [
    {
     "data": {
      "text/plain": [
       "<matplotlib.axes._subplots.AxesSubplot at 0x7f37391032e8>"
      ]
     },
     "execution_count": 104,
     "metadata": {},
     "output_type": "execute_result"
    },
    {
     "data": {
      "image/png": "[encoded data removed]",
      "text/plain": [
       "<matplotlib.figure.Figure at 0x7f3738bc4240>"
      ]
     },
     "metadata": {},
     "output_type": "display_data"
    }
   ],
   "source": [
    "cm = confusion_matrix(y_t, (pr.prediction.values > 0.5).astype(int))\n",
    "cm =  cm / cm.sum() #[np.newaxis]\n",
    "sns.heatmap(cm)"
   ]
  },
  {
   "cell_type": "markdown",
   "metadata": {},
   "source": [
    "### Selection model with l1 lr"
   ]
  },
  {
   "cell_type": "code",
   "execution_count": 112,
   "metadata": {},
   "outputs": [
    {
     "data": {
      "text/plain": [
       "LogisticRegression(C=0.5, class_weight=None, dual=False, fit_intercept=True,\n",
       "          intercept_scaling=1, max_iter=100, multi_class='ovr', n_jobs=1,\n",
       "          penalty='l1', random_state=None, solver='liblinear', tol=0.0001,\n",
       "          verbose=0, warm_start=False)"
      ]
     },
     "execution_count": 112,
     "metadata": {},
     "output_type": "execute_result"
    }
   ],
   "source": [
    "lr = lm.LogisticRegression('l1', C=0.5)\n",
    "lr.fit(pr.drop('prediction', axis=1).values, y_t)"
   ]
  },
  {
   "cell_type": "code",
   "execution_count": 113,
   "metadata": {},
   "outputs": [
    {
     "data": {
      "text/plain": [
       "[('xgb_200_0', -0.4177348602438728),\n",
       " ('xgb_300_0', -0.12227346140746116),\n",
       " ('lr_count_5k_char_23', -0.054779452799893401),\n",
       " ('mlp', 0.0),\n",
       " ('lr_count_2k_word_12', 0.0),\n",
       " ('lr_count_2k_word_13', 0.0),\n",
       " ('lr_count_2k_char_33', 0.0),\n",
       " ('lr_count_5k_word_13', 0.0),\n",
       " ('lr_count_10k_word_13', 0.0),\n",
       " ('lr_count_5k_char_33', 0.0),\n",
       " ('xgb_150_0.3', 0.0),\n",
       " ('xgb_100_0.5', 0.0),\n",
       " ('xgb_75_0.7', 0.0),\n",
       " ('lr_tfidf_1k', 0.0),\n",
       " ('lr_tfidf_2k', 0.0),\n",
       " ('lr_tfidf_3k', 0.0),\n",
       " ('lr_tfidf_5k', 0.0),\n",
       " ('lr_count_2k_word_1', 0.036944243194485075),\n",
       " ('lr_count_5k_word_12', 0.36648562950872987),\n",
       " ('lr_count_2k_char_23', 1.1721606052071658)]"
      ]
     },
     "execution_count": 113,
     "metadata": {},
     "output_type": "execute_result"
    }
   ],
   "source": [
    "sorted(list(zip(pr.columns[:-1], lr.coef_.ravel())), key=lambda x: x[1])"
   ]
  },
  {
   "cell_type": "code",
   "execution_count": 107,
   "metadata": {
    "collapsed": true
   },
   "outputs": [],
   "source": [
    "best = list(filter(lambda x: x[1] != 0.0, zip(pr.columns[:-1], lr.coef_.ravel())))\n",
    "best_model_names = [x[0] for x in best]"
   ]
  },
  {
   "cell_type": "code",
   "execution_count": 108,
   "metadata": {},
   "outputs": [
    {
     "data": {
      "text/plain": [
       "3"
      ]
     },
     "execution_count": 108,
     "metadata": {},
     "output_type": "execute_result"
    }
   ],
   "source": [
    "len(best)"
   ]
  },
  {
   "cell_type": "markdown",
   "metadata": {},
   "source": [
    "## Using best models"
   ]
  },
  {
   "cell_type": "markdown",
   "metadata": {},
   "source": [
    "Choosing the best models based on single comment score, user score and coef before model in ridge regression on prediction from all models"
   ]
  },
  {
   "cell_type": "markdown",
   "metadata": {},
   "source": [
    "### Probability prediction"
   ]
  },
  {
   "cell_type": "code",
   "execution_count": 116,
   "metadata": {
    "scrolled": true
   },
   "outputs": [
    {
     "name": "stdout",
     "output_type": "stream",
     "text": [
      "1567 - uniq peoples\n",
      "5054 - additional peoples\n",
      "Before sampling:\n",
      "0.0    80268\n",
      "1.0    59765\n",
      "Name: is_gum, dtype: int64\n",
      "Additional comments:\n",
      "14623\n",
      "Accuracy for comment:\n",
      "Model:  lr_tfidf_5k\n",
      "0.521930962886\n",
      "Model:  lr_count_5k_word_12\n",
      "0.522709576953\n",
      "Model:  lr_count_10k_word_13\n",
      "0.522190500908\n",
      "Model:  lr_count_5k_char_23\n",
      "0.525564495199\n",
      "Model:  lr_count_2k_char_23\n",
      "0.523228652998\n",
      "Mean of models: 0.529976641578\n",
      "Accuracy for user:\n",
      "Model:  lr_tfidf_5k\n",
      "0.550955414013\n",
      "Model:  lr_count_5k_word_12\n",
      "0.570063694268\n",
      "Model:  lr_count_10k_word_13\n",
      "0.582802547771\n",
      "Model:  lr_count_5k_char_23\n",
      "0.582802547771\n",
      "Model:  lr_count_2k_char_23\n",
      "0.53821656051\n",
      "Median of models averaged per user:\n",
      "0.579617834395\n",
      "Median of averaged model per user:\n",
      "0.579617834395\n",
      "CPU times: user 2min 2s, sys: 1.4 s, total: 2min 3s\n",
      "Wall time: 1min 40s\n"
     ]
    }
   ],
   "source": [
    "%%time\n",
    "np.random.seed(0)\n",
    "fit_predict_to_n_user(comments,\n",
    "        [\n",
    "            LrModelTfidf('lr_tfidf_5k', 5000, penalty='l2', C=0.05),\n",
    "            \n",
    "            LrModelCount('lr_count_5k_word_12', 5000, ngram_range=(1, 2), penalty='l2', C=0.05),\n",
    "            LrModelCount('lr_count_10k_word_13', 10000, ngram_range=(1, 3), penalty='l2', C=0.05),\n",
    "\n",
    "            LrModelCount('lr_count_5k_char_23', 5000, 'char', (2, 3), penalty='l2', C=0.05),\n",
    "            LrModelCount('lr_count_2k_char_23', 2000, 'char', (2, 3), penalty='l2', C=0.05),\n",
    "        ], 11, False, with_additional=True, debug=True, predict_proba=True)"
   ]
  },
  {
   "cell_type": "markdown",
   "metadata": {},
   "source": [
    "Probability is better"
   ]
  },
  {
   "cell_type": "markdown",
   "metadata": {},
   "source": [
    "## Predicting for one user in a wild"
   ]
  },
  {
   "cell_type": "markdown",
   "metadata": {},
   "source": [
    "### AverageModel"
   ]
  },
  {
   "cell_type": "code",
   "execution_count": 120,
   "metadata": {
    "collapsed": true
   },
   "outputs": [],
   "source": [
    "class AverageModel():\n",
    "    def __init__(self, models):\n",
    "        self.models = models\n",
    "        self._fitted = False\n",
    "    \n",
    "    def fit(self, X, y):\n",
    "        for m in self.models:\n",
    "            m.fit(X, y)\n",
    "        self._fitted = True\n",
    "    \n",
    "    def predict(self, X):\n",
    "        if not self._fitted:\n",
    "            raise Exception('Not fitted yet')\n",
    "        \n",
    "        predictions = np.hstack([np.expand_dims(m.predict(X), -1) for m in self.models])\n",
    "        predictions = (np.median(predictions, axis=1) > 0.5).astype(int)\n",
    "        return predictions\n",
    "    \n",
    "    def predict_proba(self, X):\n",
    "        if not self._fitted:\n",
    "            raise Exception('Not fitted yet')\n",
    "        \n",
    "        predictions = []\n",
    "        for model in self.models:\n",
    "            prediction = model.predict_proba(X)\n",
    "            if prediction.shape[1] > 1:\n",
    "                prediction = prediction[:, 1]\n",
    "            else:\n",
    "                prediction = prediction.ravel()\n",
    "            predictions.append(prediction)\n",
    "                \n",
    "        predictions = np.hstack([np.expand_dims(p, -1) for p in predictions])\n",
    "        predictions = np.mean(predictions, axis=1)\n",
    "        return predictions"
   ]
  },
  {
   "cell_type": "code",
   "execution_count": 121,
   "metadata": {
    "collapsed": true
   },
   "outputs": [],
   "source": [
    "av_model = AverageModel([\n",
    "            LrModelTfidf('lr_tfidf_5k', 5000, penalty='l2', C=0.05),\n",
    "            \n",
    "            LrModelCount('lr_count_5k_word_12', 5000, ngram_range=(1, 2), penalty='l2', C=0.05),\n",
    "            LrModelCount('lr_count_10k_word_13', 10000, ngram_range=(1, 3), penalty='l2', C=0.05),\n",
    "\n",
    "            LrModelCount('lr_count_5k_char_23', 5000, 'char', (2, 3), penalty='l2', C=0.05),\n",
    "            LrModelCount('lr_count_2k_char_23', 2000, 'char', (2, 3), penalty='l2', C=0.05),\n",
    "])"
   ]
  },
  {
   "cell_type": "code",
   "execution_count": 133,
   "metadata": {
    "collapsed": true
   },
   "outputs": [],
   "source": [
    "unique_ids = comments.from_id.value_counts()[comments.from_id.value_counts() >= 11].index.values\n",
    "additional_ids = comments.from_id.value_counts()[comments.from_id.value_counts() < 11].index.values\n",
    "\n",
    "train_idxs = unique_ids[:int(len(unique_ids) * 0.8)]\n",
    "test_idxs = unique_ids[int(len(unique_ids) * 0.8):]\n",
    "\n",
    "train_comments = comments[[i in train_idxs for i in comments.from_id]]\n",
    "additional_comments = comments[[i in additional_ids for i in comments.from_id]]\n",
    "train_comments = pd.concat((train_comments.reset_index(drop=True), additional_comments.reset_index(drop=True)))\n",
    "\n",
    "test_comments = comments[[i in test_idxs for i in comments.from_id]]\n",
    "\n",
    "train_comments = make_df_balanced(train_comments, 'is_gum')\n",
    "\n",
    "X_train, X_test = train_comments, test_comments\n",
    "y_train, y_test = train_comments.is_gum.values, test_comments.is_gum.values"
   ]
  },
  {
   "cell_type": "code",
   "execution_count": 134,
   "metadata": {
    "collapsed": true
   },
   "outputs": [],
   "source": [
    "av_model.fit(X_train, y_train)"
   ]
  },
  {
   "cell_type": "code",
   "execution_count": 135,
   "metadata": {
    "collapsed": true
   },
   "outputs": [],
   "source": [
    "pr = av_model.predict(X_test)"
   ]
  },
  {
   "cell_type": "code",
   "execution_count": 605,
   "metadata": {},
   "outputs": [
    {
     "data": {
      "text/plain": [
       "0.5545531435015506"
      ]
     },
     "execution_count": 605,
     "metadata": {},
     "output_type": "execute_result"
    }
   ],
   "source": [
    "accuracy_score(y_test, pr)"
   ]
  },
  {
   "cell_type": "code",
   "execution_count": 293,
   "metadata": {
    "collapsed": true
   },
   "outputs": [],
   "source": [
    "pr = av_model.predict_proba(X_test)"
   ]
  },
  {
   "cell_type": "code",
   "execution_count": 158,
   "metadata": {},
   "outputs": [
    {
     "data": {
      "text/plain": [
       "0    0.504801\n",
       "1    0.495199\n",
       "dtype: float64"
      ]
     },
     "execution_count": 158,
     "metadata": {},
     "output_type": "execute_result"
    }
   ],
   "source": [
    "pd.Series.value_counts((pr > 0.493).astype(int), True)"
   ]
  },
  {
   "cell_type": "code",
   "execution_count": 140,
   "metadata": {},
   "outputs": [
    {
     "data": {
      "text/plain": [
       "0.0    0.542954\n",
       "1.0    0.457046\n",
       "dtype: float64"
      ]
     },
     "execution_count": 140,
     "metadata": {},
     "output_type": "execute_result"
    }
   ],
   "source": [
    "pd.Series.value_counts(y_test, True)"
   ]
  },
  {
   "cell_type": "code",
   "execution_count": 144,
   "metadata": {},
   "outputs": [
    {
     "data": {
      "text/plain": [
       "1.0    0.5\n",
       "0.0    0.5\n",
       "dtype: float64"
      ]
     },
     "execution_count": 144,
     "metadata": {},
     "output_type": "execute_result"
    }
   ],
   "source": [
    "pd.Series.value_counts(y_train, True)"
   ]
  },
  {
   "cell_type": "code",
   "execution_count": 609,
   "metadata": {},
   "outputs": [
    {
     "data": {
      "text/plain": [
       "0.56357485198759516"
      ]
     },
     "execution_count": 609,
     "metadata": {},
     "output_type": "execute_result"
    }
   ],
   "source": [
    "accuracy_score(y_test, pr > 0.5)"
   ]
  },
  {
   "cell_type": "code",
   "execution_count": 164,
   "metadata": {},
   "outputs": [
    {
     "data": {
      "text/plain": [
       "'имя а вы себя к людям не причисляете?)или вы тоже скотина?'"
      ]
     },
     "execution_count": 164,
     "metadata": {},
     "output_type": "execute_result"
    }
   ],
   "source": [
    "test_comments.iloc[av_model.predict_proba(X_test).argmax()].text"
   ]
  },
  {
   "cell_type": "code",
   "execution_count": 165,
   "metadata": {},
   "outputs": [
    {
     "data": {
      "text/plain": [
       "1.0"
      ]
     },
     "execution_count": 165,
     "metadata": {},
     "output_type": "execute_result"
    }
   ],
   "source": [
    "test_comments.iloc[av_model.predict_proba(X_test).argmax()].is_gum"
   ]
  },
  {
   "cell_type": "code",
   "execution_count": 160,
   "metadata": {},
   "outputs": [
    {
     "data": {
      "text/plain": [
       "'Стикер типичного воронежа, воронежец был на отдыхе взял листовку у промоутера ,а отдал стикер ТВ'"
      ]
     },
     "execution_count": 160,
     "metadata": {},
     "output_type": "execute_result"
    }
   ],
   "source": [
    "test_comments.iloc[av_model.predict_proba(X_test).argmin()].text"
   ]
  },
  {
   "cell_type": "code",
   "execution_count": 166,
   "metadata": {},
   "outputs": [
    {
     "data": {
      "text/plain": [
       "0.0"
      ]
     },
     "execution_count": 166,
     "metadata": {},
     "output_type": "execute_result"
    }
   ],
   "source": [
    "test_comments.iloc[av_model.predict_proba(X_test).argmin()].is_gum"
   ]
  },
  {
   "cell_type": "code",
   "execution_count": 128,
   "metadata": {
    "collapsed": true
   },
   "outputs": [],
   "source": [
    "my_coms = ['Эй ты а ну быро отошел от моей машины!!!',\n",
    "           'Вчера на вогресе такую аварию видел',\n",
    "           'Слышали, проезд до 17р подорожал?)']"
   ]
  },
  {
   "cell_type": "code",
   "execution_count": 129,
   "metadata": {
    "collapsed": true
   },
   "outputs": [],
   "source": [
    "my_coms_df = pd.DataFrame(my_coms, columns=['text'])"
   ]
  },
  {
   "cell_type": "code",
   "execution_count": 130,
   "metadata": {},
   "outputs": [
    {
     "data": {
      "text/plain": [
       "array([ 0.45336975,  0.36736823,  0.37585673])"
      ]
     },
     "execution_count": 130,
     "metadata": {},
     "output_type": "execute_result"
    }
   ],
   "source": [
    "av_model.predict_proba(my_coms_df)"
   ]
  },
  {
   "cell_type": "markdown",
   "metadata": {},
   "source": [
    "## ELI5"
   ]
  },
  {
   "cell_type": "code",
   "execution_count": 173,
   "metadata": {},
   "outputs": [],
   "source": [
    "import eli5"
   ]
  },
  {
   "cell_type": "code",
   "execution_count": 217,
   "metadata": {
    "collapsed": true
   },
   "outputs": [],
   "source": [
    "lr_model = LrModelCount('lr_count_5k_word_12', 5000, ngram_range=(1, 2), penalty='l2', C=0.05)\n",
    "lr_model_char = LrModelCount('lr_count_5k_char_23', 5000, 'char', (2, 3), penalty='l2', C=0.05)\n",
    "lr_model_tfidf = LrModelTfidf('lr_tfidf_5k', 5000, penalty='l2', C=0.05)"
   ]
  },
  {
   "cell_type": "code",
   "execution_count": 218,
   "metadata": {},
   "outputs": [],
   "source": [
    "lr_model.fit(X_train, y_train)\n",
    "lr_model_char.fit(X_train, y_train)\n",
    "lr_model_tfidf.fit(X_train, y_train)"
   ]
  },
  {
   "cell_type": "code",
   "execution_count": 219,
   "metadata": {},
   "outputs": [
    {
     "data": {
      "image/png": "[encoded data removed]",
      "text/plain": [
       "<matplotlib.figure.Figure at 0x7f3733adabe0>"
      ]
     },
     "metadata": {},
     "output_type": "display_data"
    }
   ],
   "source": [
    "plt.hist(lr_model_tfidf.model.coef_.ravel(), bins=20);"
   ]
  },
  {
   "cell_type": "code",
   "execution_count": 199,
   "metadata": {},
   "outputs": [
    {
     "data": {
      "text/plain": [
       "array([-0.15163359])"
      ]
     },
     "execution_count": 199,
     "metadata": {},
     "output_type": "execute_result"
    }
   ],
   "source": [
    "lr_model.model.intercept_"
   ]
  },
  {
   "cell_type": "code",
   "execution_count": 201,
   "metadata": {},
   "outputs": [
    {
     "data": {
      "text/plain": [
       "array([-0.18374788])"
      ]
     },
     "execution_count": 201,
     "metadata": {},
     "output_type": "execute_result"
    }
   ],
   "source": [
    "lr_model_char.model.intercept_"
   ]
  },
  {
   "cell_type": "code",
   "execution_count": 220,
   "metadata": {},
   "outputs": [
    {
     "data": {
      "text/plain": [
       "array([-0.12873058])"
      ]
     },
     "execution_count": 220,
     "metadata": {},
     "output_type": "execute_result"
    }
   ],
   "source": [
    "lr_model_tfidf.model.intercept_"
   ]
  },
  {
   "cell_type": "code",
   "execution_count": 196,
   "metadata": {},
   "outputs": [
    {
     "data": {
      "text/html": [
       "\n",
       "    <style>\n",
       "    table.eli5-weights tr:hover {\n",
       "        filter: brightness(85%);\n",
       "    }\n",
       "</style>\n",
       "\n",
       "\n",
       "\n",
       "    \n",
       "\n",
       "    \n",
       "\n",
       "    \n",
       "\n",
       "    \n",
       "\n",
       "    \n",
       "\n",
       "    \n",
       "\n",
       "\n",
       "    \n",
       "\n",
       "    \n",
       "\n",
       "    \n",
       "\n",
       "    \n",
       "        \n",
       "\n",
       "    \n",
       "\n",
       "        \n",
       "            \n",
       "                \n",
       "                \n",
       "    \n",
       "        <p style=\"margin-bottom: 0.5em; margin-top: 0em\">\n",
       "            <b>\n",
       "    \n",
       "        y=1.0\n",
       "    \n",
       "</b>\n",
       "\n",
       "top features\n",
       "        </p>\n",
       "    \n",
       "    <table class=\"eli5-weights\"\n",
       "           style=\"border-collapse: collapse; border: none; margin-top: 0em; table-layout: auto; margin-bottom: 2em;\">\n",
       "        <thead>\n",
       "        <tr style=\"border: none;\">\n",
       "            \n",
       "                <th style=\"padding: 0 1em 0 0.5em; text-align: right; border: none;\" title=\"Feature weights. Note that weights do not account for feature value scales, so if feature values have different scales, features with highest weights might not be the most important.\">\n",
       "                    Weight<sup>?</sup>\n",
       "                </th>\n",
       "            \n",
       "            <th style=\"padding: 0 0.5em 0 0.5em; text-align: left; border: none;\">Feature</th>\n",
       "            \n",
       "        </tr>\n",
       "        </thead>\n",
       "        <tbody>\n",
       "        \n",
       "            <tr style=\"background-color: hsl(120, 100.00%, 80.26%); border: none;\">\n",
       "    <td style=\"padding: 0 1em 0 0.5em; text-align: right; border: none;\">\n",
       "        +0.894\n",
       "    </td>\n",
       "    <td style=\"padding: 0 0.5em 0 0.5em; text-align: left; border: none;\">\n",
       "        ващще\n",
       "    </td>\n",
       "    \n",
       "</tr>\n",
       "        \n",
       "            <tr style=\"background-color: hsl(120, 100.00%, 81.94%); border: none;\">\n",
       "    <td style=\"padding: 0 1em 0 0.5em; text-align: right; border: none;\">\n",
       "        +0.787\n",
       "    </td>\n",
       "    <td style=\"padding: 0 0.5em 0 0.5em; text-align: left; border: none;\">\n",
       "        кошмар\n",
       "    </td>\n",
       "    \n",
       "</tr>\n",
       "        \n",
       "            <tr style=\"background-color: hsl(120, 100.00%, 81.97%); border: none;\">\n",
       "    <td style=\"padding: 0 1em 0 0.5em; text-align: right; border: none;\">\n",
       "        +0.785\n",
       "    </td>\n",
       "    <td style=\"padding: 0 0.5em 0 0.5em; text-align: left; border: none;\">\n",
       "        приветик\n",
       "    </td>\n",
       "    \n",
       "</tr>\n",
       "        \n",
       "            <tr style=\"background-color: hsl(120, 100.00%, 82.99%); border: none;\">\n",
       "    <td style=\"padding: 0 1em 0 0.5em; text-align: right; border: none;\">\n",
       "        +0.723\n",
       "    </td>\n",
       "    <td style=\"padding: 0 0.5em 0 0.5em; text-align: left; border: none;\">\n",
       "        согласна\n",
       "    </td>\n",
       "    \n",
       "</tr>\n",
       "        \n",
       "            <tr style=\"background-color: hsl(120, 100.00%, 84.00%); border: none;\">\n",
       "    <td style=\"padding: 0 1em 0 0.5em; text-align: right; border: none;\">\n",
       "        +0.662\n",
       "    </td>\n",
       "    <td style=\"padding: 0 0.5em 0 0.5em; text-align: left; border: none;\">\n",
       "        вика\n",
       "    </td>\n",
       "    \n",
       "</tr>\n",
       "        \n",
       "            <tr style=\"background-color: hsl(120, 100.00%, 84.42%); border: none;\">\n",
       "    <td style=\"padding: 0 1em 0 0.5em; text-align: right; border: none;\">\n",
       "        +0.637\n",
       "    </td>\n",
       "    <td style=\"padding: 0 0.5em 0 0.5em; text-align: left; border: none;\">\n",
       "        видела\n",
       "    </td>\n",
       "    \n",
       "</tr>\n",
       "        \n",
       "            <tr style=\"background-color: hsl(120, 100.00%, 84.46%); border: none;\">\n",
       "    <td style=\"padding: 0 1em 0 0.5em; text-align: right; border: none;\">\n",
       "        +0.635\n",
       "    </td>\n",
       "    <td style=\"padding: 0 0.5em 0 0.5em; text-align: left; border: none;\">\n",
       "        фига\n",
       "    </td>\n",
       "    \n",
       "</tr>\n",
       "        \n",
       "            <tr style=\"background-color: hsl(120, 100.00%, 84.71%); border: none;\">\n",
       "    <td style=\"padding: 0 1em 0 0.5em; text-align: right; border: none;\">\n",
       "        +0.620\n",
       "    </td>\n",
       "    <td style=\"padding: 0 0.5em 0 0.5em; text-align: left; border: none;\">\n",
       "        хотела\n",
       "    </td>\n",
       "    \n",
       "</tr>\n",
       "        \n",
       "            <tr style=\"background-color: hsl(120, 100.00%, 84.79%); border: none;\">\n",
       "    <td style=\"padding: 0 1em 0 0.5em; text-align: right; border: none;\">\n",
       "        +0.616\n",
       "    </td>\n",
       "    <td style=\"padding: 0 0.5em 0 0.5em; text-align: left; border: none;\">\n",
       "        о_о\n",
       "    </td>\n",
       "    \n",
       "</tr>\n",
       "        \n",
       "            <tr style=\"background-color: hsl(120, 100.00%, 85.13%); border: none;\">\n",
       "    <td style=\"padding: 0 1em 0 0.5em; text-align: right; border: none;\">\n",
       "        +0.596\n",
       "    </td>\n",
       "    <td style=\"padding: 0 0.5em 0 0.5em; text-align: left; border: none;\">\n",
       "        хи\n",
       "    </td>\n",
       "    \n",
       "</tr>\n",
       "        \n",
       "            <tr style=\"background-color: hsl(120, 100.00%, 85.32%); border: none;\">\n",
       "    <td style=\"padding: 0 1em 0 0.5em; text-align: right; border: none;\">\n",
       "        +0.586\n",
       "    </td>\n",
       "    <td style=\"padding: 0 0.5em 0 0.5em; text-align: left; border: none;\">\n",
       "        ночки\n",
       "    </td>\n",
       "    \n",
       "</tr>\n",
       "        \n",
       "            <tr style=\"background-color: hsl(120, 100.00%, 85.90%); border: none;\">\n",
       "    <td style=\"padding: 0 1em 0 0.5em; text-align: right; border: none;\">\n",
       "        +0.552\n",
       "    </td>\n",
       "    <td style=\"padding: 0 0.5em 0 0.5em; text-align: left; border: none;\">\n",
       "        животных\n",
       "    </td>\n",
       "    \n",
       "</tr>\n",
       "        \n",
       "            <tr style=\"background-color: hsl(120, 100.00%, 86.29%); border: none;\">\n",
       "    <td style=\"padding: 0 1em 0 0.5em; text-align: right; border: none;\">\n",
       "        +0.531\n",
       "    </td>\n",
       "    <td style=\"padding: 0 0.5em 0 0.5em; text-align: left; border: none;\">\n",
       "        личку\n",
       "    </td>\n",
       "    \n",
       "</tr>\n",
       "        \n",
       "            <tr style=\"background-color: hsl(120, 100.00%, 86.31%); border: none;\">\n",
       "    <td style=\"padding: 0 1em 0 0.5em; text-align: right; border: none;\">\n",
       "        +0.530\n",
       "    </td>\n",
       "    <td style=\"padding: 0 0.5em 0 0.5em; text-align: left; border: none;\">\n",
       "        поняла\n",
       "    </td>\n",
       "    \n",
       "</tr>\n",
       "        \n",
       "            <tr style=\"background-color: hsl(120, 100.00%, 86.33%); border: none;\">\n",
       "    <td style=\"padding: 0 1em 0 0.5em; text-align: right; border: none;\">\n",
       "        +0.529\n",
       "    </td>\n",
       "    <td style=\"padding: 0 0.5em 0 0.5em; text-align: left; border: none;\">\n",
       "        народа\n",
       "    </td>\n",
       "    \n",
       "</tr>\n",
       "        \n",
       "            <tr style=\"background-color: hsl(120, 100.00%, 86.58%); border: none;\">\n",
       "    <td style=\"padding: 0 1em 0 0.5em; text-align: right; border: none;\">\n",
       "        +0.515\n",
       "    </td>\n",
       "    <td style=\"padding: 0 0.5em 0 0.5em; text-align: left; border: none;\">\n",
       "        xd\n",
       "    </td>\n",
       "    \n",
       "</tr>\n",
       "        \n",
       "            <tr style=\"background-color: hsl(120, 100.00%, 86.64%); border: none;\">\n",
       "    <td style=\"padding: 0 1em 0 0.5em; text-align: right; border: none;\">\n",
       "        +0.512\n",
       "    </td>\n",
       "    <td style=\"padding: 0 0.5em 0 0.5em; text-align: left; border: none;\">\n",
       "        нахрена\n",
       "    </td>\n",
       "    \n",
       "</tr>\n",
       "        \n",
       "            <tr style=\"background-color: hsl(120, 100.00%, 86.84%); border: none;\">\n",
       "    <td style=\"padding: 0 1em 0 0.5em; text-align: right; border: none;\">\n",
       "        +0.501\n",
       "    </td>\n",
       "    <td style=\"padding: 0 0.5em 0 0.5em; text-align: left; border: none;\">\n",
       "        мужчины\n",
       "    </td>\n",
       "    \n",
       "</tr>\n",
       "        \n",
       "            <tr style=\"background-color: hsl(120, 100.00%, 86.85%); border: none;\">\n",
       "    <td style=\"padding: 0 1em 0 0.5em; text-align: right; border: none;\">\n",
       "        +0.500\n",
       "    </td>\n",
       "    <td style=\"padding: 0 0.5em 0 0.5em; text-align: left; border: none;\">\n",
       "        не чего\n",
       "    </td>\n",
       "    \n",
       "</tr>\n",
       "        \n",
       "            <tr style=\"background-color: hsl(120, 100.00%, 87.02%); border: none;\">\n",
       "    <td style=\"padding: 0 1em 0 0.5em; text-align: right; border: none;\">\n",
       "        +0.491\n",
       "    </td>\n",
       "    <td style=\"padding: 0 0.5em 0 0.5em; text-align: left; border: none;\">\n",
       "        доброй ночки\n",
       "    </td>\n",
       "    \n",
       "</tr>\n",
       "        \n",
       "        \n",
       "            <tr style=\"background-color: hsl(120, 100.00%, 87.02%); border: none;\">\n",
       "                <td colspan=\"2\" style=\"padding: 0 0.5em 0 0.5em; text-align: center; border: none; white-space: nowrap;\">\n",
       "                    <i>&hellip; 2513 more positive &hellip;</i>\n",
       "                </td>\n",
       "            </tr>\n",
       "        \n",
       "\n",
       "        \n",
       "            <tr style=\"background-color: hsl(0, 100.00%, 88.70%); border: none;\">\n",
       "                <td colspan=\"2\" style=\"padding: 0 0.5em 0 0.5em; text-align: center; border: none; white-space: nowrap;\">\n",
       "                    <i>&hellip; 2448 more negative &hellip;</i>\n",
       "                </td>\n",
       "            </tr>\n",
       "        \n",
       "        \n",
       "            <tr style=\"background-color: hsl(0, 100.00%, 88.70%); border: none;\">\n",
       "    <td style=\"padding: 0 1em 0 0.5em; text-align: right; border: none;\">\n",
       "        -0.403\n",
       "    </td>\n",
       "    <td style=\"padding: 0 0.5em 0 0.5em; text-align: left; border: none;\">\n",
       "        повторюсь\n",
       "    </td>\n",
       "    \n",
       "</tr>\n",
       "        \n",
       "            <tr style=\"background-color: hsl(0, 100.00%, 88.70%); border: none;\">\n",
       "    <td style=\"padding: 0 1em 0 0.5em; text-align: right; border: none;\">\n",
       "        -0.403\n",
       "    </td>\n",
       "    <td style=\"padding: 0 0.5em 0 0.5em; text-align: left; border: none;\">\n",
       "        мск\n",
       "    </td>\n",
       "    \n",
       "</tr>\n",
       "        \n",
       "            <tr style=\"background-color: hsl(0, 100.00%, 88.64%); border: none;\">\n",
       "    <td style=\"padding: 0 1em 0 0.5em; text-align: right; border: none;\">\n",
       "        -0.406\n",
       "    </td>\n",
       "    <td style=\"padding: 0 0.5em 0 0.5em; text-align: left; border: none;\">\n",
       "        огонь\n",
       "    </td>\n",
       "    \n",
       "</tr>\n",
       "        \n",
       "            <tr style=\"background-color: hsl(0, 100.00%, 88.61%); border: none;\">\n",
       "    <td style=\"padding: 0 1em 0 0.5em; text-align: right; border: none;\">\n",
       "        -0.407\n",
       "    </td>\n",
       "    <td style=\"padding: 0 0.5em 0 0.5em; text-align: left; border: none;\">\n",
       "        резко\n",
       "    </td>\n",
       "    \n",
       "</tr>\n",
       "        \n",
       "            <tr style=\"background-color: hsl(0, 100.00%, 88.55%); border: none;\">\n",
       "    <td style=\"padding: 0 1em 0 0.5em; text-align: right; border: none;\">\n",
       "        -0.410\n",
       "    </td>\n",
       "    <td style=\"padding: 0 0.5em 0 0.5em; text-align: left; border: none;\">\n",
       "        хд\n",
       "    </td>\n",
       "    \n",
       "</tr>\n",
       "        \n",
       "            <tr style=\"background-color: hsl(0, 100.00%, 88.46%); border: none;\">\n",
       "    <td style=\"padding: 0 1em 0 0.5em; text-align: right; border: none;\">\n",
       "        -0.415\n",
       "    </td>\n",
       "    <td style=\"padding: 0 0.5em 0 0.5em; text-align: left; border: none;\">\n",
       "        бл\n",
       "    </td>\n",
       "    \n",
       "</tr>\n",
       "        \n",
       "            <tr style=\"background-color: hsl(0, 100.00%, 88.46%); border: none;\">\n",
       "    <td style=\"padding: 0 1em 0 0.5em; text-align: right; border: none;\">\n",
       "        -0.415\n",
       "    </td>\n",
       "    <td style=\"padding: 0 0.5em 0 0.5em; text-align: left; border: none;\">\n",
       "        чёт\n",
       "    </td>\n",
       "    \n",
       "</tr>\n",
       "        \n",
       "            <tr style=\"background-color: hsl(0, 100.00%, 88.45%); border: none;\">\n",
       "    <td style=\"padding: 0 1em 0 0.5em; text-align: right; border: none;\">\n",
       "        -0.416\n",
       "    </td>\n",
       "    <td style=\"padding: 0 0.5em 0 0.5em; text-align: left; border: none;\">\n",
       "        лучше чем\n",
       "    </td>\n",
       "    \n",
       "</tr>\n",
       "        \n",
       "            <tr style=\"background-color: hsl(0, 100.00%, 88.19%); border: none;\">\n",
       "    <td style=\"padding: 0 1em 0 0.5em; text-align: right; border: none;\">\n",
       "        -0.429\n",
       "    </td>\n",
       "    <td style=\"padding: 0 0.5em 0 0.5em; text-align: left; border: none;\">\n",
       "        имя дрямз\n",
       "    </td>\n",
       "    \n",
       "</tr>\n",
       "        \n",
       "            <tr style=\"background-color: hsl(0, 100.00%, 87.48%); border: none;\">\n",
       "    <td style=\"padding: 0 1em 0 0.5em; text-align: right; border: none;\">\n",
       "        -0.466\n",
       "    </td>\n",
       "    <td style=\"padding: 0 0.5em 0 0.5em; text-align: left; border: none;\">\n",
       "        тв\n",
       "    </td>\n",
       "    \n",
       "</tr>\n",
       "        \n",
       "            <tr style=\"background-color: hsl(0, 100.00%, 87.16%); border: none;\">\n",
       "    <td style=\"padding: 0 1em 0 0.5em; text-align: right; border: none;\">\n",
       "        -0.483\n",
       "    </td>\n",
       "    <td style=\"padding: 0 0.5em 0 0.5em; text-align: left; border: none;\">\n",
       "        дрямз\n",
       "    </td>\n",
       "    \n",
       "</tr>\n",
       "        \n",
       "            <tr style=\"background-color: hsl(0, 100.00%, 87.15%); border: none;\">\n",
       "    <td style=\"padding: 0 1em 0 0.5em; text-align: right; border: none;\">\n",
       "        -0.484\n",
       "    </td>\n",
       "    <td style=\"padding: 0 0.5em 0 0.5em; text-align: left; border: none;\">\n",
       "        хай\n",
       "    </td>\n",
       "    \n",
       "</tr>\n",
       "        \n",
       "            <tr style=\"background-color: hsl(0, 100.00%, 87.04%); border: none;\">\n",
       "    <td style=\"padding: 0 1em 0 0.5em; text-align: right; border: none;\">\n",
       "        -0.490\n",
       "    </td>\n",
       "    <td style=\"padding: 0 0.5em 0 0.5em; text-align: left; border: none;\">\n",
       "        ппц\n",
       "    </td>\n",
       "    \n",
       "</tr>\n",
       "        \n",
       "            <tr style=\"background-color: hsl(0, 100.00%, 85.93%); border: none;\">\n",
       "    <td style=\"padding: 0 1em 0 0.5em; text-align: right; border: none;\">\n",
       "        -0.551\n",
       "    </td>\n",
       "    <td style=\"padding: 0 0.5em 0 0.5em; text-align: left; border: none;\">\n",
       "        покедос\n",
       "    </td>\n",
       "    \n",
       "</tr>\n",
       "        \n",
       "            <tr style=\"background-color: hsl(0, 100.00%, 85.61%); border: none;\">\n",
       "    <td style=\"padding: 0 1em 0 0.5em; text-align: right; border: none;\">\n",
       "        -0.569\n",
       "    </td>\n",
       "    <td style=\"padding: 0 0.5em 0 0.5em; text-align: left; border: none;\">\n",
       "        типичный\n",
       "    </td>\n",
       "    \n",
       "</tr>\n",
       "        \n",
       "            <tr style=\"background-color: hsl(0, 100.00%, 85.19%); border: none;\">\n",
       "    <td style=\"padding: 0 1em 0 0.5em; text-align: right; border: none;\">\n",
       "        -0.593\n",
       "    </td>\n",
       "    <td style=\"padding: 0 0.5em 0 0.5em; text-align: left; border: none;\">\n",
       "        имя привет\n",
       "    </td>\n",
       "    \n",
       "</tr>\n",
       "        \n",
       "            <tr style=\"background-color: hsl(0, 100.00%, 84.94%); border: none;\">\n",
       "    <td style=\"padding: 0 1em 0 0.5em; text-align: right; border: none;\">\n",
       "        -0.607\n",
       "    </td>\n",
       "    <td style=\"padding: 0 0.5em 0 0.5em; text-align: left; border: none;\">\n",
       "        имя доброй\n",
       "    </td>\n",
       "    \n",
       "</tr>\n",
       "        \n",
       "            <tr style=\"background-color: hsl(0, 100.00%, 83.48%); border: none;\">\n",
       "    <td style=\"padding: 0 1em 0 0.5em; text-align: right; border: none;\">\n",
       "        -0.693\n",
       "    </td>\n",
       "    <td style=\"padding: 0 0.5em 0 0.5em; text-align: left; border: none;\">\n",
       "        господа\n",
       "    </td>\n",
       "    \n",
       "</tr>\n",
       "        \n",
       "            <tr style=\"background-color: hsl(0, 100.00%, 82.04%); border: none;\">\n",
       "    <td style=\"padding: 0 1em 0 0.5em; text-align: right; border: none;\">\n",
       "        -0.781\n",
       "    </td>\n",
       "    <td style=\"padding: 0 0.5em 0 0.5em; text-align: left; border: none;\">\n",
       "        ухахаха\n",
       "    </td>\n",
       "    \n",
       "</tr>\n",
       "        \n",
       "            <tr style=\"background-color: hsl(0, 100.00%, 80.00%); border: none;\">\n",
       "    <td style=\"padding: 0 1em 0 0.5em; text-align: right; border: none;\">\n",
       "        -0.911\n",
       "    </td>\n",
       "    <td style=\"padding: 0 0.5em 0 0.5em; text-align: left; border: none;\">\n",
       "        гг\n",
       "    </td>\n",
       "    \n",
       "</tr>\n",
       "        \n",
       "\n",
       "        </tbody>\n",
       "    </table>\n",
       "\n",
       "            \n",
       "        \n",
       "\n",
       "        \n",
       "\n",
       "\n",
       "\n",
       "    \n",
       "\n",
       "    \n",
       "\n",
       "    \n",
       "\n",
       "    \n",
       "\n",
       "\n",
       "    \n",
       "\n",
       "    \n",
       "\n",
       "    \n",
       "\n",
       "    \n",
       "\n",
       "    \n",
       "\n",
       "    \n",
       "\n",
       "\n",
       "    \n",
       "\n",
       "    \n",
       "\n",
       "    \n",
       "\n",
       "    \n",
       "\n",
       "    \n",
       "\n",
       "    \n",
       "\n",
       "\n",
       "\n"
      ],
      "text/plain": [
       "<IPython.core.display.HTML object>"
      ]
     },
     "execution_count": 196,
     "metadata": {},
     "output_type": "execute_result"
    }
   ],
   "source": [
    "eli5.show_weights(lr_model.model, vec=lr_model.vectorizer, top=(20, 20))"
   ]
  },
  {
   "cell_type": "code",
   "execution_count": 198,
   "metadata": {},
   "outputs": [
    {
     "data": {
      "text/html": [
       "\n",
       "    <style>\n",
       "    table.eli5-weights tr:hover {\n",
       "        filter: brightness(85%);\n",
       "    }\n",
       "</style>\n",
       "\n",
       "\n",
       "\n",
       "    \n",
       "\n",
       "    \n",
       "\n",
       "    \n",
       "\n",
       "    \n",
       "\n",
       "    \n",
       "\n",
       "    \n",
       "\n",
       "\n",
       "    \n",
       "\n",
       "    \n",
       "\n",
       "    \n",
       "\n",
       "    \n",
       "        \n",
       "\n",
       "    \n",
       "\n",
       "        \n",
       "            \n",
       "                \n",
       "                \n",
       "    \n",
       "        <p style=\"margin-bottom: 0.5em; margin-top: 0em\">\n",
       "            <b>\n",
       "    \n",
       "        y=1.0\n",
       "    \n",
       "</b>\n",
       "\n",
       "top features\n",
       "        </p>\n",
       "    \n",
       "    <table class=\"eli5-weights\"\n",
       "           style=\"border-collapse: collapse; border: none; margin-top: 0em; table-layout: auto; margin-bottom: 2em;\">\n",
       "        <thead>\n",
       "        <tr style=\"border: none;\">\n",
       "            \n",
       "                <th style=\"padding: 0 1em 0 0.5em; text-align: right; border: none;\" title=\"Feature weights. Note that weights do not account for feature value scales, so if feature values have different scales, features with highest weights might not be the most important.\">\n",
       "                    Weight<sup>?</sup>\n",
       "                </th>\n",
       "            \n",
       "            <th style=\"padding: 0 0.5em 0 0.5em; text-align: left; border: none;\">Feature</th>\n",
       "            \n",
       "        </tr>\n",
       "        </thead>\n",
       "        <tbody>\n",
       "        \n",
       "            <tr style=\"background-color: hsl(120, 100.00%, 80.00%); border: none;\">\n",
       "    <td style=\"padding: 0 1em 0 0.5em; text-align: right; border: none;\">\n",
       "        +1.093\n",
       "    </td>\n",
       "    <td style=\"padding: 0 0.5em 0 0.5em; text-align: left; border: none;\">\n",
       "        ^^\n",
       "    </td>\n",
       "    \n",
       "</tr>\n",
       "        \n",
       "            <tr style=\"background-color: hsl(120, 100.00%, 86.76%); border: none;\">\n",
       "    <td style=\"padding: 0 1em 0 0.5em; text-align: right; border: none;\">\n",
       "        +0.607\n",
       "    </td>\n",
       "    <td style=\"padding: 0 0.5em 0 0.5em; text-align: left; border: none;\">\n",
       "        я<span style=\"background-color: hsl(120, 80%, 70%); margin: 0 0.1em 0 0.1em\" title=\"A space symbol\">&emsp;</span>)\n",
       "    </td>\n",
       "    \n",
       "</tr>\n",
       "        \n",
       "            <tr style=\"background-color: hsl(120, 100.00%, 87.11%); border: none;\">\n",
       "    <td style=\"padding: 0 1em 0 0.5em; text-align: right; border: none;\">\n",
       "        +0.583\n",
       "    </td>\n",
       "    <td style=\"padding: 0 0.5em 0 0.5em; text-align: left; border: none;\">\n",
       "        )н\n",
       "    </td>\n",
       "    \n",
       "</tr>\n",
       "        \n",
       "            <tr style=\"background-color: hsl(120, 100.00%, 87.47%); border: none;\">\n",
       "    <td style=\"padding: 0 1em 0 0.5em; text-align: right; border: none;\">\n",
       "        +0.560\n",
       "    </td>\n",
       "    <td style=\"padding: 0 0.5em 0 0.5em; text-align: left; border: none;\">\n",
       "        <span style=\"background-color: hsl(120, 80%, 70%); margin: 0 0.1em 0 0\" title=\"A space symbol\">&emsp;</span>😊\n",
       "    </td>\n",
       "    \n",
       "</tr>\n",
       "        \n",
       "            <tr style=\"background-color: hsl(120, 100.00%, 87.82%); border: none;\">\n",
       "    <td style=\"padding: 0 1em 0 0.5em; text-align: right; border: none;\">\n",
       "        +0.539\n",
       "    </td>\n",
       "    <td style=\"padding: 0 0.5em 0 0.5em; text-align: left; border: none;\">\n",
       "        м)\n",
       "    </td>\n",
       "    \n",
       "</tr>\n",
       "        \n",
       "            <tr style=\"background-color: hsl(120, 100.00%, 88.46%); border: none;\">\n",
       "    <td style=\"padding: 0 1em 0 0.5em; text-align: right; border: none;\">\n",
       "        +0.498\n",
       "    </td>\n",
       "    <td style=\"padding: 0 0.5em 0 0.5em; text-align: left; border: none;\">\n",
       "        ;)\n",
       "    </td>\n",
       "    \n",
       "</tr>\n",
       "        \n",
       "            <tr style=\"background-color: hsl(120, 100.00%, 88.62%); border: none;\">\n",
       "    <td style=\"padding: 0 1em 0 0.5em; text-align: right; border: none;\">\n",
       "        +0.488\n",
       "    </td>\n",
       "    <td style=\"padding: 0 0.5em 0 0.5em; text-align: left; border: none;\">\n",
       "        нот\n",
       "    </td>\n",
       "    \n",
       "</tr>\n",
       "        \n",
       "            <tr style=\"background-color: hsl(120, 100.00%, 88.67%); border: none;\">\n",
       "    <td style=\"padding: 0 1em 0 0.5em; text-align: right; border: none;\">\n",
       "        +0.486\n",
       "    </td>\n",
       "    <td style=\"padding: 0 0.5em 0 0.5em; text-align: left; border: none;\">\n",
       "        <span style=\"background-color: hsl(120, 80%, 70%); margin: 0 0.1em 0 0\" title=\"A space symbol\">&emsp;</span>^\n",
       "    </td>\n",
       "    \n",
       "</tr>\n",
       "        \n",
       "            <tr style=\"background-color: hsl(120, 100.00%, 89.21%); border: none;\">\n",
       "    <td style=\"padding: 0 1em 0 0.5em; text-align: right; border: none;\">\n",
       "        +0.453\n",
       "    </td>\n",
       "    <td style=\"padding: 0 0.5em 0 0.5em; text-align: left; border: none;\">\n",
       "        т)\n",
       "    </td>\n",
       "    \n",
       "</tr>\n",
       "        \n",
       "            <tr style=\"background-color: hsl(120, 100.00%, 89.29%); border: none;\">\n",
       "    <td style=\"padding: 0 1em 0 0.5em; text-align: right; border: none;\">\n",
       "        +0.448\n",
       "    </td>\n",
       "    <td style=\"padding: 0 0.5em 0 0.5em; text-align: left; border: none;\">\n",
       "        .)\n",
       "    </td>\n",
       "    \n",
       "</tr>\n",
       "        \n",
       "            <tr style=\"background-color: hsl(120, 100.00%, 89.31%); border: none;\">\n",
       "    <td style=\"padding: 0 1em 0 0.5em; text-align: right; border: none;\">\n",
       "        +0.447\n",
       "    </td>\n",
       "    <td style=\"padding: 0 0.5em 0 0.5em; text-align: left; border: none;\">\n",
       "        яш\n",
       "    </td>\n",
       "    \n",
       "</tr>\n",
       "        \n",
       "            <tr style=\"background-color: hsl(120, 100.00%, 89.48%); border: none;\">\n",
       "    <td style=\"padding: 0 1em 0 0.5em; text-align: right; border: none;\">\n",
       "        +0.437\n",
       "    </td>\n",
       "    <td style=\"padding: 0 0.5em 0 0.5em; text-align: left; border: none;\">\n",
       "        а)\n",
       "    </td>\n",
       "    \n",
       "</tr>\n",
       "        \n",
       "            <tr style=\"background-color: hsl(120, 100.00%, 89.54%); border: none;\">\n",
       "    <td style=\"padding: 0 1em 0 0.5em; text-align: right; border: none;\">\n",
       "        +0.433\n",
       "    </td>\n",
       "    <td style=\"padding: 0 0.5em 0 0.5em; text-align: left; border: none;\">\n",
       "        о)\n",
       "    </td>\n",
       "    \n",
       "</tr>\n",
       "        \n",
       "            <tr style=\"background-color: hsl(120, 100.00%, 89.65%); border: none;\">\n",
       "    <td style=\"padding: 0 1em 0 0.5em; text-align: right; border: none;\">\n",
       "        +0.427\n",
       "    </td>\n",
       "    <td style=\"padding: 0 0.5em 0 0.5em; text-align: left; border: none;\">\n",
       "        шма\n",
       "    </td>\n",
       "    \n",
       "</tr>\n",
       "        \n",
       "            <tr style=\"background-color: hsl(120, 100.00%, 89.92%); border: none;\">\n",
       "    <td style=\"padding: 0 1em 0 0.5em; text-align: right; border: none;\">\n",
       "        +0.411\n",
       "    </td>\n",
       "    <td style=\"padding: 0 0.5em 0 0.5em; text-align: left; border: none;\">\n",
       "        ю)\n",
       "    </td>\n",
       "    \n",
       "</tr>\n",
       "        \n",
       "            <tr style=\"background-color: hsl(120, 100.00%, 89.98%); border: none;\">\n",
       "    <td style=\"padding: 0 1em 0 0.5em; text-align: right; border: none;\">\n",
       "        +0.407\n",
       "    </td>\n",
       "    <td style=\"padding: 0 0.5em 0 0.5em; text-align: left; border: none;\">\n",
       "        <span style=\"background-color: hsl(120, 80%, 70%); margin: 0 0.1em 0 0\" title=\"A space symbol\">&emsp;</span>хи\n",
       "    </td>\n",
       "    \n",
       "</tr>\n",
       "        \n",
       "            <tr style=\"background-color: hsl(120, 100.00%, 90.12%); border: none;\">\n",
       "    <td style=\"padding: 0 1em 0 0.5em; text-align: right; border: none;\">\n",
       "        +0.399\n",
       "    </td>\n",
       "    <td style=\"padding: 0 0.5em 0 0.5em; text-align: left; border: none;\">\n",
       "        муж\n",
       "    </td>\n",
       "    \n",
       "</tr>\n",
       "        \n",
       "            <tr style=\"background-color: hsl(120, 100.00%, 90.25%); border: none;\">\n",
       "    <td style=\"padding: 0 1em 0 0.5em; text-align: right; border: none;\">\n",
       "        +0.392\n",
       "    </td>\n",
       "    <td style=\"padding: 0 0.5em 0 0.5em; text-align: left; border: none;\">\n",
       "        ссн\n",
       "    </td>\n",
       "    \n",
       "</tr>\n",
       "        \n",
       "            <tr style=\"background-color: hsl(120, 100.00%, 90.35%); border: none;\">\n",
       "    <td style=\"padding: 0 1em 0 0.5em; text-align: right; border: none;\">\n",
       "        +0.386\n",
       "    </td>\n",
       "    <td style=\"padding: 0 0.5em 0 0.5em; text-align: left; border: none;\">\n",
       "        я<span style=\"background-color: hsl(120, 80%, 70%); margin: 0 0.1em 0 0.1em\" title=\"A space symbol\">&emsp;</span>😆\n",
       "    </td>\n",
       "    \n",
       "</tr>\n",
       "        \n",
       "            <tr style=\"background-color: hsl(120, 100.00%, 90.36%); border: none;\">\n",
       "    <td style=\"padding: 0 1em 0 0.5em; text-align: right; border: none;\">\n",
       "        +0.386\n",
       "    </td>\n",
       "    <td style=\"padding: 0 0.5em 0 0.5em; text-align: left; border: none;\">\n",
       "        <span style=\"background-color: hsl(120, 80%, 70%); margin: 0 0.1em 0 0\" title=\"A space symbol\">&emsp;</span>^^\n",
       "    </td>\n",
       "    \n",
       "</tr>\n",
       "        \n",
       "        \n",
       "            <tr style=\"background-color: hsl(120, 100.00%, 90.36%); border: none;\">\n",
       "                <td colspan=\"2\" style=\"padding: 0 0.5em 0 0.5em; text-align: center; border: none; white-space: nowrap;\">\n",
       "                    <i>&hellip; 2554 more positive &hellip;</i>\n",
       "                </td>\n",
       "            </tr>\n",
       "        \n",
       "\n",
       "        \n",
       "            <tr style=\"background-color: hsl(0, 100.00%, 90.70%); border: none;\">\n",
       "                <td colspan=\"2\" style=\"padding: 0 0.5em 0 0.5em; text-align: center; border: none; white-space: nowrap;\">\n",
       "                    <i>&hellip; 2407 more negative &hellip;</i>\n",
       "                </td>\n",
       "            </tr>\n",
       "        \n",
       "        \n",
       "            <tr style=\"background-color: hsl(0, 100.00%, 90.70%); border: none;\">\n",
       "    <td style=\"padding: 0 1em 0 0.5em; text-align: right; border: none;\">\n",
       "        -0.366\n",
       "    </td>\n",
       "    <td style=\"padding: 0 0.5em 0 0.5em; text-align: left; border: none;\">\n",
       "        <span style=\"background-color: hsl(0, 80%, 70%); margin: 0 0.1em 0 0\" title=\"A space symbol\">&emsp;</span>:-\n",
       "    </td>\n",
       "    \n",
       "</tr>\n",
       "        \n",
       "            <tr style=\"background-color: hsl(0, 100.00%, 90.62%); border: none;\">\n",
       "    <td style=\"padding: 0 1em 0 0.5em; text-align: right; border: none;\">\n",
       "        -0.371\n",
       "    </td>\n",
       "    <td style=\"padding: 0 0.5em 0 0.5em; text-align: left; border: none;\">\n",
       "        иан\n",
       "    </td>\n",
       "    \n",
       "</tr>\n",
       "        \n",
       "            <tr style=\"background-color: hsl(0, 100.00%, 90.58%); border: none;\">\n",
       "    <td style=\"padding: 0 1em 0 0.5em; text-align: right; border: none;\">\n",
       "        -0.373\n",
       "    </td>\n",
       "    <td style=\"padding: 0 0.5em 0 0.5em; text-align: left; border: none;\">\n",
       "        :<span style=\"background-color: hsl(0, 80%, 70%); margin: 0 0.1em 0 0.1em\" title=\"A space symbol\">&emsp;</span>&quot;\n",
       "    </td>\n",
       "    \n",
       "</tr>\n",
       "        \n",
       "            <tr style=\"background-color: hsl(0, 100.00%, 90.56%); border: none;\">\n",
       "    <td style=\"padding: 0 1em 0 0.5em; text-align: right; border: none;\">\n",
       "        -0.374\n",
       "    </td>\n",
       "    <td style=\"padding: 0 0.5em 0 0.5em; text-align: left; border: none;\">\n",
       "        😊<span style=\"background-color: hsl(0, 80%, 70%); margin: 0 0 0 0.1em\" title=\"A space symbol\">&emsp;</span>\n",
       "    </td>\n",
       "    \n",
       "</tr>\n",
       "        \n",
       "            <tr style=\"background-color: hsl(0, 100.00%, 90.44%); border: none;\">\n",
       "    <td style=\"padding: 0 1em 0 0.5em; text-align: right; border: none;\">\n",
       "        -0.381\n",
       "    </td>\n",
       "    <td style=\"padding: 0 0.5em 0 0.5em; text-align: left; border: none;\">\n",
       "        арш\n",
       "    </td>\n",
       "    \n",
       "</tr>\n",
       "        \n",
       "            <tr style=\"background-color: hsl(0, 100.00%, 90.44%); border: none;\">\n",
       "    <td style=\"padding: 0 1em 0 0.5em; text-align: right; border: none;\">\n",
       "        -0.381\n",
       "    </td>\n",
       "    <td style=\"padding: 0 0.5em 0 0.5em; text-align: left; border: none;\">\n",
       "        ?<span style=\"background-color: hsl(0, 80%, 70%); margin: 0 0.1em 0 0.1em\" title=\"A space symbol\">&emsp;</span>)\n",
       "    </td>\n",
       "    \n",
       "</tr>\n",
       "        \n",
       "            <tr style=\"background-color: hsl(0, 100.00%, 90.38%); border: none;\">\n",
       "    <td style=\"padding: 0 1em 0 0.5em; text-align: right; border: none;\">\n",
       "        -0.384\n",
       "    </td>\n",
       "    <td style=\"padding: 0 0.5em 0 0.5em; text-align: left; border: none;\">\n",
       "        быс\n",
       "    </td>\n",
       "    \n",
       "</tr>\n",
       "        \n",
       "            <tr style=\"background-color: hsl(0, 100.00%, 90.02%); border: none;\">\n",
       "    <td style=\"padding: 0 1em 0 0.5em; text-align: right; border: none;\">\n",
       "        -0.405\n",
       "    </td>\n",
       "    <td style=\"padding: 0 0.5em 0 0.5em; text-align: left; border: none;\">\n",
       "        ??<span style=\"background-color: hsl(0, 80%, 70%); margin: 0 0 0 0.1em\" title=\"A space symbol\">&emsp;</span>\n",
       "    </td>\n",
       "    \n",
       "</tr>\n",
       "        \n",
       "            <tr style=\"background-color: hsl(0, 100.00%, 89.96%); border: none;\">\n",
       "    <td style=\"padding: 0 1em 0 0.5em; text-align: right; border: none;\">\n",
       "        -0.408\n",
       "    </td>\n",
       "    <td style=\"padding: 0 0.5em 0 0.5em; text-align: left; border: none;\">\n",
       "        гон\n",
       "    </td>\n",
       "    \n",
       "</tr>\n",
       "        \n",
       "            <tr style=\"background-color: hsl(0, 100.00%, 89.75%); border: none;\">\n",
       "    <td style=\"padding: 0 1em 0 0.5em; text-align: right; border: none;\">\n",
       "        -0.421\n",
       "    </td>\n",
       "    <td style=\"padding: 0 0.5em 0 0.5em; text-align: left; border: none;\">\n",
       "        хм\n",
       "    </td>\n",
       "    \n",
       "</tr>\n",
       "        \n",
       "            <tr style=\"background-color: hsl(0, 100.00%, 89.72%); border: none;\">\n",
       "    <td style=\"padding: 0 1em 0 0.5em; text-align: right; border: none;\">\n",
       "        -0.423\n",
       "    </td>\n",
       "    <td style=\"padding: 0 0.5em 0 0.5em; text-align: left; border: none;\">\n",
       "        дож\n",
       "    </td>\n",
       "    \n",
       "</tr>\n",
       "        \n",
       "            <tr style=\"background-color: hsl(0, 100.00%, 89.62%); border: none;\">\n",
       "    <td style=\"padding: 0 1em 0 0.5em; text-align: right; border: none;\">\n",
       "        -0.428\n",
       "    </td>\n",
       "    <td style=\"padding: 0 0.5em 0 0.5em; text-align: left; border: none;\">\n",
       "        <span style=\"background-color: hsl(0, 80%, 70%); margin: 0 0.1em 0 0\" title=\"A space symbol\">&emsp;</span>😃\n",
       "    </td>\n",
       "    \n",
       "</tr>\n",
       "        \n",
       "            <tr style=\"background-color: hsl(0, 100.00%, 89.55%); border: none;\">\n",
       "    <td style=\"padding: 0 1em 0 0.5em; text-align: right; border: none;\">\n",
       "        -0.433\n",
       "    </td>\n",
       "    <td style=\"padding: 0 0.5em 0 0.5em; text-align: left; border: none;\">\n",
       "        <span style=\"background-color: hsl(0, 80%, 70%); margin: 0 0.1em 0 0\" title=\"A space symbol\">&emsp;</span>)\n",
       "    </td>\n",
       "    \n",
       "</tr>\n",
       "        \n",
       "            <tr style=\"background-color: hsl(0, 100.00%, 88.86%); border: none;\">\n",
       "    <td style=\"padding: 0 1em 0 0.5em; text-align: right; border: none;\">\n",
       "        -0.474\n",
       "    </td>\n",
       "    <td style=\"padding: 0 0.5em 0 0.5em; text-align: left; border: none;\">\n",
       "        <span style=\"background-color: hsl(0, 80%, 70%); margin: 0 0.1em 0 0\" title=\"A space symbol\">&emsp;</span>:)\n",
       "    </td>\n",
       "    \n",
       "</tr>\n",
       "        \n",
       "            <tr style=\"background-color: hsl(0, 100.00%, 88.08%); border: none;\">\n",
       "    <td style=\"padding: 0 1em 0 0.5em; text-align: right; border: none;\">\n",
       "        -0.522\n",
       "    </td>\n",
       "    <td style=\"padding: 0 0.5em 0 0.5em; text-align: left; border: none;\">\n",
       "        <span style=\"background-color: hsl(0, 80%, 70%); margin: 0 0.1em 0 0\" title=\"A space symbol\">&emsp;</span>(\n",
       "    </td>\n",
       "    \n",
       "</tr>\n",
       "        \n",
       "            <tr style=\"background-color: hsl(0, 100.00%, 86.53%); border: none;\">\n",
       "    <td style=\"padding: 0 1em 0 0.5em; text-align: right; border: none;\">\n",
       "        -0.621\n",
       "    </td>\n",
       "    <td style=\"padding: 0 0.5em 0 0.5em; text-align: left; border: none;\">\n",
       "        <span style=\"background-color: hsl(0, 80%, 70%); margin: 0 0.1em 0 0\" title=\"A space symbol\">&emsp;</span>😅\n",
       "    </td>\n",
       "    \n",
       "</tr>\n",
       "        \n",
       "            <tr style=\"background-color: hsl(0, 100.00%, 85.33%); border: none;\">\n",
       "    <td style=\"padding: 0 1em 0 0.5em; text-align: right; border: none;\">\n",
       "        -0.702\n",
       "    </td>\n",
       "    <td style=\"padding: 0 0.5em 0 0.5em; text-align: left; border: none;\">\n",
       "        <span style=\"background-color: hsl(0, 80%, 70%); margin: 0 0.1em 0 0\" title=\"A space symbol\">&emsp;</span>😐\n",
       "    </td>\n",
       "    \n",
       "</tr>\n",
       "        \n",
       "            <tr style=\"background-color: hsl(0, 100.00%, 84.80%); border: none;\">\n",
       "    <td style=\"padding: 0 1em 0 0.5em; text-align: right; border: none;\">\n",
       "        -0.739\n",
       "    </td>\n",
       "    <td style=\"padding: 0 0.5em 0 0.5em; text-align: left; border: none;\">\n",
       "        <span style=\"background-color: hsl(0, 80%, 70%); margin: 0 0.1em 0 0\" title=\"A space symbol\">&emsp;</span>))\n",
       "    </td>\n",
       "    \n",
       "</tr>\n",
       "        \n",
       "            <tr style=\"background-color: hsl(0, 100.00%, 84.37%); border: none;\">\n",
       "    <td style=\"padding: 0 1em 0 0.5em; text-align: right; border: none;\">\n",
       "        -0.769\n",
       "    </td>\n",
       "    <td style=\"padding: 0 0.5em 0 0.5em; text-align: left; border: none;\">\n",
       "        <span style=\"background-color: hsl(0, 80%, 70%); margin: 0 0.1em 0 0\" title=\"A space symbol\">&emsp;</span>😌\n",
       "    </td>\n",
       "    \n",
       "</tr>\n",
       "        \n",
       "            <tr style=\"background-color: hsl(0, 100.00%, 84.33%); border: none;\">\n",
       "    <td style=\"padding: 0 1em 0 0.5em; text-align: right; border: none;\">\n",
       "        -0.771\n",
       "    </td>\n",
       "    <td style=\"padding: 0 0.5em 0 0.5em; text-align: left; border: none;\">\n",
       "        <span style=\"background-color: hsl(0, 80%, 70%); margin: 0 0.1em 0 0\" title=\"A space symbol\">&emsp;</span>😏\n",
       "    </td>\n",
       "    \n",
       "</tr>\n",
       "        \n",
       "\n",
       "        </tbody>\n",
       "    </table>\n",
       "\n",
       "            \n",
       "        \n",
       "\n",
       "        \n",
       "\n",
       "\n",
       "\n",
       "    \n",
       "\n",
       "    \n",
       "\n",
       "    \n",
       "\n",
       "    \n",
       "\n",
       "\n",
       "    \n",
       "\n",
       "    \n",
       "\n",
       "    \n",
       "\n",
       "    \n",
       "\n",
       "    \n",
       "\n",
       "    \n",
       "\n",
       "\n",
       "    \n",
       "\n",
       "    \n",
       "\n",
       "    \n",
       "\n",
       "    \n",
       "\n",
       "    \n",
       "\n",
       "    \n",
       "\n",
       "\n",
       "\n"
      ],
      "text/plain": [
       "<IPython.core.display.HTML object>"
      ]
     },
     "execution_count": 198,
     "metadata": {},
     "output_type": "execute_result"
    }
   ],
   "source": [
    "eli5.show_weights(lr_model_char.model, vec=lr_model_char.vectorizer, top=(20, 20))"
   ]
  },
  {
   "cell_type": "code",
   "execution_count": 221,
   "metadata": {},
   "outputs": [
    {
     "data": {
      "text/html": [
       "\n",
       "    <style>\n",
       "    table.eli5-weights tr:hover {\n",
       "        filter: brightness(85%);\n",
       "    }\n",
       "</style>\n",
       "\n",
       "\n",
       "\n",
       "    \n",
       "\n",
       "    \n",
       "\n",
       "    \n",
       "\n",
       "    \n",
       "\n",
       "    \n",
       "\n",
       "    \n",
       "\n",
       "\n",
       "    \n",
       "\n",
       "    \n",
       "\n",
       "    \n",
       "\n",
       "    \n",
       "        \n",
       "\n",
       "    \n",
       "\n",
       "        \n",
       "            \n",
       "                \n",
       "                \n",
       "    \n",
       "        <p style=\"margin-bottom: 0.5em; margin-top: 0em\">\n",
       "            <b>\n",
       "    \n",
       "        y=1.0\n",
       "    \n",
       "</b>\n",
       "\n",
       "top features\n",
       "        </p>\n",
       "    \n",
       "    <table class=\"eli5-weights\"\n",
       "           style=\"border-collapse: collapse; border: none; margin-top: 0em; table-layout: auto; margin-bottom: 2em;\">\n",
       "        <thead>\n",
       "        <tr style=\"border: none;\">\n",
       "            \n",
       "                <th style=\"padding: 0 1em 0 0.5em; text-align: right; border: none;\" title=\"Feature weights. Note that weights do not account for feature value scales, so if feature values have different scales, features with highest weights might not be the most important.\">\n",
       "                    Weight<sup>?</sup>\n",
       "                </th>\n",
       "            \n",
       "            <th style=\"padding: 0 0.5em 0 0.5em; text-align: left; border: none;\">Feature</th>\n",
       "            \n",
       "        </tr>\n",
       "        </thead>\n",
       "        <tbody>\n",
       "        \n",
       "            <tr style=\"background-color: hsl(120, 100.00%, 80.00%); border: none;\">\n",
       "    <td style=\"padding: 0 1em 0 0.5em; text-align: right; border: none;\">\n",
       "        +0.879\n",
       "    </td>\n",
       "    <td style=\"padding: 0 0.5em 0 0.5em; text-align: left; border: none;\">\n",
       "        приветик\n",
       "    </td>\n",
       "    \n",
       "</tr>\n",
       "        \n",
       "            <tr style=\"background-color: hsl(120, 100.00%, 80.84%); border: none;\">\n",
       "    <td style=\"padding: 0 1em 0 0.5em; text-align: right; border: none;\">\n",
       "        +0.827\n",
       "    </td>\n",
       "    <td style=\"padding: 0 0.5em 0 0.5em; text-align: left; border: none;\">\n",
       "        видела\n",
       "    </td>\n",
       "    \n",
       "</tr>\n",
       "        \n",
       "            <tr style=\"background-color: hsl(120, 100.00%, 80.95%); border: none;\">\n",
       "    <td style=\"padding: 0 1em 0 0.5em; text-align: right; border: none;\">\n",
       "        +0.820\n",
       "    </td>\n",
       "    <td style=\"padding: 0 0.5em 0 0.5em; text-align: left; border: none;\">\n",
       "        согласна\n",
       "    </td>\n",
       "    \n",
       "</tr>\n",
       "        \n",
       "            <tr style=\"background-color: hsl(120, 100.00%, 82.13%); border: none;\">\n",
       "    <td style=\"padding: 0 1em 0 0.5em; text-align: right; border: none;\">\n",
       "        +0.748\n",
       "    </td>\n",
       "    <td style=\"padding: 0 0.5em 0 0.5em; text-align: left; border: none;\">\n",
       "        кошмар\n",
       "    </td>\n",
       "    \n",
       "</tr>\n",
       "        \n",
       "            <tr style=\"background-color: hsl(120, 100.00%, 82.31%); border: none;\">\n",
       "    <td style=\"padding: 0 1em 0 0.5em; text-align: right; border: none;\">\n",
       "        +0.738\n",
       "    </td>\n",
       "    <td style=\"padding: 0 0.5em 0 0.5em; text-align: left; border: none;\">\n",
       "        поняла\n",
       "    </td>\n",
       "    \n",
       "</tr>\n",
       "        \n",
       "            <tr style=\"background-color: hsl(120, 100.00%, 82.72%); border: none;\">\n",
       "    <td style=\"padding: 0 1em 0 0.5em; text-align: right; border: none;\">\n",
       "        +0.713\n",
       "    </td>\n",
       "    <td style=\"padding: 0 0.5em 0 0.5em; text-align: left; border: none;\">\n",
       "        ващще\n",
       "    </td>\n",
       "    \n",
       "</tr>\n",
       "        \n",
       "            <tr style=\"background-color: hsl(120, 100.00%, 83.16%); border: none;\">\n",
       "    <td style=\"padding: 0 1em 0 0.5em; text-align: right; border: none;\">\n",
       "        +0.687\n",
       "    </td>\n",
       "    <td style=\"padding: 0 0.5em 0 0.5em; text-align: left; border: none;\">\n",
       "        ночки\n",
       "    </td>\n",
       "    \n",
       "</tr>\n",
       "        \n",
       "            <tr style=\"background-color: hsl(120, 100.00%, 83.81%); border: none;\">\n",
       "    <td style=\"padding: 0 1em 0 0.5em; text-align: right; border: none;\">\n",
       "        +0.650\n",
       "    </td>\n",
       "    <td style=\"padding: 0 0.5em 0 0.5em; text-align: left; border: none;\">\n",
       "        очень\n",
       "    </td>\n",
       "    \n",
       "</tr>\n",
       "        \n",
       "            <tr style=\"background-color: hsl(120, 100.00%, 84.46%); border: none;\">\n",
       "    <td style=\"padding: 0 1em 0 0.5em; text-align: right; border: none;\">\n",
       "        +0.613\n",
       "    </td>\n",
       "    <td style=\"padding: 0 0.5em 0 0.5em; text-align: left; border: none;\">\n",
       "        о_о\n",
       "    </td>\n",
       "    \n",
       "</tr>\n",
       "        \n",
       "            <tr style=\"background-color: hsl(120, 100.00%, 84.51%); border: none;\">\n",
       "    <td style=\"padding: 0 1em 0 0.5em; text-align: right; border: none;\">\n",
       "        +0.610\n",
       "    </td>\n",
       "    <td style=\"padding: 0 0.5em 0 0.5em; text-align: left; border: none;\">\n",
       "        личку\n",
       "    </td>\n",
       "    \n",
       "</tr>\n",
       "        \n",
       "            <tr style=\"background-color: hsl(120, 100.00%, 84.71%); border: none;\">\n",
       "    <td style=\"padding: 0 1em 0 0.5em; text-align: right; border: none;\">\n",
       "        +0.598\n",
       "    </td>\n",
       "    <td style=\"padding: 0 0.5em 0 0.5em; text-align: left; border: none;\">\n",
       "        мне\n",
       "    </td>\n",
       "    \n",
       "</tr>\n",
       "        \n",
       "            <tr style=\"background-color: hsl(120, 100.00%, 85.05%); border: none;\">\n",
       "    <td style=\"padding: 0 1em 0 0.5em; text-align: right; border: none;\">\n",
       "        +0.580\n",
       "    </td>\n",
       "    <td style=\"padding: 0 0.5em 0 0.5em; text-align: left; border: none;\">\n",
       "        хотела\n",
       "    </td>\n",
       "    \n",
       "</tr>\n",
       "        \n",
       "            <tr style=\"background-color: hsl(120, 100.00%, 85.06%); border: none;\">\n",
       "    <td style=\"padding: 0 1em 0 0.5em; text-align: right; border: none;\">\n",
       "        +0.579\n",
       "    </td>\n",
       "    <td style=\"padding: 0 0.5em 0 0.5em; text-align: left; border: none;\">\n",
       "        фига\n",
       "    </td>\n",
       "    \n",
       "</tr>\n",
       "        \n",
       "            <tr style=\"background-color: hsl(120, 100.00%, 85.21%); border: none;\">\n",
       "    <td style=\"padding: 0 1em 0 0.5em; text-align: right; border: none;\">\n",
       "        +0.571\n",
       "    </td>\n",
       "    <td style=\"padding: 0 0.5em 0 0.5em; text-align: left; border: none;\">\n",
       "        нибудь\n",
       "    </td>\n",
       "    \n",
       "</tr>\n",
       "        \n",
       "            <tr style=\"background-color: hsl(120, 100.00%, 85.61%); border: none;\">\n",
       "    <td style=\"padding: 0 1em 0 0.5em; text-align: right; border: none;\">\n",
       "        +0.549\n",
       "    </td>\n",
       "    <td style=\"padding: 0 0.5em 0 0.5em; text-align: left; border: none;\">\n",
       "        вы\n",
       "    </td>\n",
       "    \n",
       "</tr>\n",
       "        \n",
       "            <tr style=\"background-color: hsl(120, 100.00%, 85.65%); border: none;\">\n",
       "    <td style=\"padding: 0 1em 0 0.5em; text-align: right; border: none;\">\n",
       "        +0.547\n",
       "    </td>\n",
       "    <td style=\"padding: 0 0.5em 0 0.5em; text-align: left; border: none;\">\n",
       "        правда\n",
       "    </td>\n",
       "    \n",
       "</tr>\n",
       "        \n",
       "            <tr style=\"background-color: hsl(120, 100.00%, 85.95%); border: none;\">\n",
       "    <td style=\"padding: 0 1em 0 0.5em; text-align: right; border: none;\">\n",
       "        +0.530\n",
       "    </td>\n",
       "    <td style=\"padding: 0 0.5em 0 0.5em; text-align: left; border: none;\">\n",
       "        утра\n",
       "    </td>\n",
       "    \n",
       "</tr>\n",
       "        \n",
       "            <tr style=\"background-color: hsl(120, 100.00%, 86.01%); border: none;\">\n",
       "    <td style=\"padding: 0 1em 0 0.5em; text-align: right; border: none;\">\n",
       "        +0.527\n",
       "    </td>\n",
       "    <td style=\"padding: 0 0.5em 0 0.5em; text-align: left; border: none;\">\n",
       "        вам\n",
       "    </td>\n",
       "    \n",
       "</tr>\n",
       "        \n",
       "            <tr style=\"background-color: hsl(120, 100.00%, 86.36%); border: none;\">\n",
       "    <td style=\"padding: 0 1em 0 0.5em; text-align: right; border: none;\">\n",
       "        +0.508\n",
       "    </td>\n",
       "    <td style=\"padding: 0 0.5em 0 0.5em; text-align: left; border: none;\">\n",
       "        блин\n",
       "    </td>\n",
       "    \n",
       "</tr>\n",
       "        \n",
       "            <tr style=\"background-color: hsl(120, 100.00%, 86.37%); border: none;\">\n",
       "    <td style=\"padding: 0 1em 0 0.5em; text-align: right; border: none;\">\n",
       "        +0.508\n",
       "    </td>\n",
       "    <td style=\"padding: 0 0.5em 0 0.5em; text-align: left; border: none;\">\n",
       "        ну\n",
       "    </td>\n",
       "    \n",
       "</tr>\n",
       "        \n",
       "        \n",
       "            <tr style=\"background-color: hsl(120, 100.00%, 86.37%); border: none;\">\n",
       "                <td colspan=\"2\" style=\"padding: 0 0.5em 0 0.5em; text-align: center; border: none; white-space: nowrap;\">\n",
       "                    <i>&hellip; 2570 more positive &hellip;</i>\n",
       "                </td>\n",
       "            </tr>\n",
       "        \n",
       "\n",
       "        \n",
       "            <tr style=\"background-color: hsl(0, 100.00%, 88.53%); border: none;\">\n",
       "                <td colspan=\"2\" style=\"padding: 0 0.5em 0 0.5em; text-align: center; border: none; white-space: nowrap;\">\n",
       "                    <i>&hellip; 2391 more negative &hellip;</i>\n",
       "                </td>\n",
       "            </tr>\n",
       "        \n",
       "        \n",
       "            <tr style=\"background-color: hsl(0, 100.00%, 88.53%); border: none;\">\n",
       "    <td style=\"padding: 0 1em 0 0.5em; text-align: right; border: none;\">\n",
       "        -0.397\n",
       "    </td>\n",
       "    <td style=\"padding: 0 0.5em 0 0.5em; text-align: left; border: none;\">\n",
       "        огонь\n",
       "    </td>\n",
       "    \n",
       "</tr>\n",
       "        \n",
       "            <tr style=\"background-color: hsl(0, 100.00%, 88.43%); border: none;\">\n",
       "    <td style=\"padding: 0 1em 0 0.5em; text-align: right; border: none;\">\n",
       "        -0.402\n",
       "    </td>\n",
       "    <td style=\"padding: 0 0.5em 0 0.5em; text-align: left; border: none;\">\n",
       "        более\n",
       "    </td>\n",
       "    \n",
       "</tr>\n",
       "        \n",
       "            <tr style=\"background-color: hsl(0, 100.00%, 88.09%); border: none;\">\n",
       "    <td style=\"padding: 0 1em 0 0.5em; text-align: right; border: none;\">\n",
       "        -0.419\n",
       "    </td>\n",
       "    <td style=\"padding: 0 0.5em 0 0.5em; text-align: left; border: none;\">\n",
       "        бл\n",
       "    </td>\n",
       "    \n",
       "</tr>\n",
       "        \n",
       "            <tr style=\"background-color: hsl(0, 100.00%, 88.07%); border: none;\">\n",
       "    <td style=\"padding: 0 1em 0 0.5em; text-align: right; border: none;\">\n",
       "        -0.420\n",
       "    </td>\n",
       "    <td style=\"padding: 0 0.5em 0 0.5em; text-align: left; border: none;\">\n",
       "        тв\n",
       "    </td>\n",
       "    \n",
       "</tr>\n",
       "        \n",
       "            <tr style=\"background-color: hsl(0, 100.00%, 87.94%); border: none;\">\n",
       "    <td style=\"padding: 0 1em 0 0.5em; text-align: right; border: none;\">\n",
       "        -0.426\n",
       "    </td>\n",
       "    <td style=\"padding: 0 0.5em 0 0.5em; text-align: left; border: none;\">\n",
       "        ппц\n",
       "    </td>\n",
       "    \n",
       "</tr>\n",
       "        \n",
       "            <tr style=\"background-color: hsl(0, 100.00%, 87.93%); border: none;\">\n",
       "    <td style=\"padding: 0 1em 0 0.5em; text-align: right; border: none;\">\n",
       "        -0.427\n",
       "    </td>\n",
       "    <td style=\"padding: 0 0.5em 0 0.5em; text-align: left; border: none;\">\n",
       "        чтобы\n",
       "    </td>\n",
       "    \n",
       "</tr>\n",
       "        \n",
       "            <tr style=\"background-color: hsl(0, 100.00%, 87.85%); border: none;\">\n",
       "    <td style=\"padding: 0 1em 0 0.5em; text-align: right; border: none;\">\n",
       "        -0.431\n",
       "    </td>\n",
       "    <td style=\"padding: 0 0.5em 0 0.5em; text-align: left; border: none;\">\n",
       "        видел\n",
       "    </td>\n",
       "    \n",
       "</tr>\n",
       "        \n",
       "            <tr style=\"background-color: hsl(0, 100.00%, 87.35%); border: none;\">\n",
       "    <td style=\"padding: 0 1em 0 0.5em; text-align: right; border: none;\">\n",
       "        -0.457\n",
       "    </td>\n",
       "    <td style=\"padding: 0 0.5em 0 0.5em; text-align: left; border: none;\">\n",
       "        хай\n",
       "    </td>\n",
       "    \n",
       "</tr>\n",
       "        \n",
       "            <tr style=\"background-color: hsl(0, 100.00%, 87.31%); border: none;\">\n",
       "    <td style=\"padding: 0 1em 0 0.5em; text-align: right; border: none;\">\n",
       "        -0.459\n",
       "    </td>\n",
       "    <td style=\"padding: 0 0.5em 0 0.5em; text-align: left; border: none;\">\n",
       "        хд\n",
       "    </td>\n",
       "    \n",
       "</tr>\n",
       "        \n",
       "            <tr style=\"background-color: hsl(0, 100.00%, 87.13%); border: none;\">\n",
       "    <td style=\"padding: 0 1em 0 0.5em; text-align: right; border: none;\">\n",
       "        -0.468\n",
       "    </td>\n",
       "    <td style=\"padding: 0 0.5em 0 0.5em; text-align: left; border: none;\">\n",
       "        доброй\n",
       "    </td>\n",
       "    \n",
       "</tr>\n",
       "        \n",
       "            <tr style=\"background-color: hsl(0, 100.00%, 86.93%); border: none;\">\n",
       "    <td style=\"padding: 0 1em 0 0.5em; text-align: right; border: none;\">\n",
       "        -0.478\n",
       "    </td>\n",
       "    <td style=\"padding: 0 0.5em 0 0.5em; text-align: left; border: none;\">\n",
       "        всё\n",
       "    </td>\n",
       "    \n",
       "</tr>\n",
       "        \n",
       "            <tr style=\"background-color: hsl(0, 100.00%, 86.84%); border: none;\">\n",
       "    <td style=\"padding: 0 1em 0 0.5em; text-align: right; border: none;\">\n",
       "        -0.483\n",
       "    </td>\n",
       "    <td style=\"padding: 0 0.5em 0 0.5em; text-align: left; border: none;\">\n",
       "        покедос\n",
       "    </td>\n",
       "    \n",
       "</tr>\n",
       "        \n",
       "            <tr style=\"background-color: hsl(0, 100.00%, 85.77%); border: none;\">\n",
       "    <td style=\"padding: 0 1em 0 0.5em; text-align: right; border: none;\">\n",
       "        -0.540\n",
       "    </td>\n",
       "    <td style=\"padding: 0 0.5em 0 0.5em; text-align: left; border: none;\">\n",
       "        ещё\n",
       "    </td>\n",
       "    \n",
       "</tr>\n",
       "        \n",
       "            <tr style=\"background-color: hsl(0, 100.00%, 85.49%); border: none;\">\n",
       "    <td style=\"padding: 0 1em 0 0.5em; text-align: right; border: none;\">\n",
       "        -0.556\n",
       "    </td>\n",
       "    <td style=\"padding: 0 0.5em 0 0.5em; text-align: left; border: none;\">\n",
       "        дрямз\n",
       "    </td>\n",
       "    \n",
       "</tr>\n",
       "        \n",
       "            <tr style=\"background-color: hsl(0, 100.00%, 85.31%); border: none;\">\n",
       "    <td style=\"padding: 0 1em 0 0.5em; text-align: right; border: none;\">\n",
       "        -0.565\n",
       "    </td>\n",
       "    <td style=\"padding: 0 0.5em 0 0.5em; text-align: left; border: none;\">\n",
       "        club33041211\n",
       "    </td>\n",
       "    \n",
       "</tr>\n",
       "        \n",
       "            <tr style=\"background-color: hsl(0, 100.00%, 84.98%); border: none;\">\n",
       "    <td style=\"padding: 0 1em 0 0.5em; text-align: right; border: none;\">\n",
       "        -0.584\n",
       "    </td>\n",
       "    <td style=\"padding: 0 0.5em 0 0.5em; text-align: left; border: none;\">\n",
       "        господа\n",
       "    </td>\n",
       "    \n",
       "</tr>\n",
       "        \n",
       "            <tr style=\"background-color: hsl(0, 100.00%, 84.78%); border: none;\">\n",
       "    <td style=\"padding: 0 1em 0 0.5em; text-align: right; border: none;\">\n",
       "        -0.595\n",
       "    </td>\n",
       "    <td style=\"padding: 0 0.5em 0 0.5em; text-align: left; border: none;\">\n",
       "        привет\n",
       "    </td>\n",
       "    \n",
       "</tr>\n",
       "        \n",
       "            <tr style=\"background-color: hsl(0, 100.00%, 84.10%); border: none;\">\n",
       "    <td style=\"padding: 0 1em 0 0.5em; text-align: right; border: none;\">\n",
       "        -0.633\n",
       "    </td>\n",
       "    <td style=\"padding: 0 0.5em 0 0.5em; text-align: left; border: none;\">\n",
       "        ухахаха\n",
       "    </td>\n",
       "    \n",
       "</tr>\n",
       "        \n",
       "            <tr style=\"background-color: hsl(0, 100.00%, 82.72%); border: none;\">\n",
       "    <td style=\"padding: 0 1em 0 0.5em; text-align: right; border: none;\">\n",
       "        -0.713\n",
       "    </td>\n",
       "    <td style=\"padding: 0 0.5em 0 0.5em; text-align: left; border: none;\">\n",
       "        гг\n",
       "    </td>\n",
       "    \n",
       "</tr>\n",
       "        \n",
       "            <tr style=\"background-color: hsl(0, 100.00%, 81.87%); border: none;\">\n",
       "    <td style=\"padding: 0 1em 0 0.5em; text-align: right; border: none;\">\n",
       "        -0.764\n",
       "    </td>\n",
       "    <td style=\"padding: 0 0.5em 0 0.5em; text-align: left; border: none;\">\n",
       "        типичный\n",
       "    </td>\n",
       "    \n",
       "</tr>\n",
       "        \n",
       "\n",
       "        </tbody>\n",
       "    </table>\n",
       "\n",
       "            \n",
       "        \n",
       "\n",
       "        \n",
       "\n",
       "\n",
       "\n",
       "    \n",
       "\n",
       "    \n",
       "\n",
       "    \n",
       "\n",
       "    \n",
       "\n",
       "\n",
       "    \n",
       "\n",
       "    \n",
       "\n",
       "    \n",
       "\n",
       "    \n",
       "\n",
       "    \n",
       "\n",
       "    \n",
       "\n",
       "\n",
       "    \n",
       "\n",
       "    \n",
       "\n",
       "    \n",
       "\n",
       "    \n",
       "\n",
       "    \n",
       "\n",
       "    \n",
       "\n",
       "\n",
       "\n"
      ],
      "text/plain": [
       "<IPython.core.display.HTML object>"
      ]
     },
     "execution_count": 221,
     "metadata": {},
     "output_type": "execute_result"
    }
   ],
   "source": [
    "eli5.show_weights(lr_model_tfidf.model, vec=lr_model_tfidf.vectorizer, top=(20, 20))"
   ]
  },
  {
   "cell_type": "code",
   "execution_count": 283,
   "metadata": {},
   "outputs": [
    {
     "name": "stdout",
     "output_type": "stream",
     "text": [
      "1.0\n"
     ]
    }
   ],
   "source": [
    "i = 200\n",
    "print(y_train[i])"
   ]
  },
  {
   "cell_type": "code",
   "execution_count": 284,
   "metadata": {},
   "outputs": [
    {
     "data": {
      "text/html": [
       "\n",
       "    <style>\n",
       "    table.eli5-weights tr:hover {\n",
       "        filter: brightness(85%);\n",
       "    }\n",
       "</style>\n",
       "\n",
       "\n",
       "\n",
       "    \n",
       "\n",
       "    \n",
       "\n",
       "    \n",
       "\n",
       "    \n",
       "\n",
       "    \n",
       "\n",
       "    \n",
       "\n",
       "\n",
       "    \n",
       "\n",
       "    \n",
       "\n",
       "    \n",
       "\n",
       "    \n",
       "        \n",
       "\n",
       "    \n",
       "\n",
       "        \n",
       "\n",
       "        \n",
       "    \n",
       "        \n",
       "        \n",
       "    \n",
       "        <p style=\"margin-bottom: 0.5em; margin-top: 0em\">\n",
       "            <b>\n",
       "    \n",
       "        y=1.0\n",
       "    \n",
       "</b>\n",
       "\n",
       "    \n",
       "    (probability <b>0.528</b>, score <b>0.114</b>)\n",
       "\n",
       "top features\n",
       "        </p>\n",
       "    \n",
       "    <table class=\"eli5-weights\"\n",
       "           style=\"border-collapse: collapse; border: none; margin-top: 0em; table-layout: auto; margin-bottom: 2em;\">\n",
       "        <thead>\n",
       "        <tr style=\"border: none;\">\n",
       "            \n",
       "                <th style=\"padding: 0 1em 0 0.5em; text-align: right; border: none;\" title=\"Feature contribution already accounts for the feature value (for linear models, contribution = weight * feature value), and the sum of feature contributions is equal to the score or, for some classifiers, to the probability. Feature values are shown if &quot;show_feature_values&quot; is True.\">\n",
       "                    Contribution<sup>?</sup>\n",
       "                </th>\n",
       "            \n",
       "            <th style=\"padding: 0 0.5em 0 0.5em; text-align: left; border: none;\">Feature</th>\n",
       "            \n",
       "        </tr>\n",
       "        </thead>\n",
       "        <tbody>\n",
       "        \n",
       "            <tr style=\"background-color: hsl(120, 100.00%, 80.00%); border: none;\">\n",
       "    <td style=\"padding: 0 1em 0 0.5em; text-align: right; border: none;\">\n",
       "        +0.265\n",
       "    </td>\n",
       "    <td style=\"padding: 0 0.5em 0 0.5em; text-align: left; border: none;\">\n",
       "        Highlighted in text (sum)\n",
       "    </td>\n",
       "    \n",
       "</tr>\n",
       "        \n",
       "        \n",
       "\n",
       "        \n",
       "        \n",
       "            <tr style=\"background-color: hsl(0, 100.00%, 86.48%); border: none;\">\n",
       "    <td style=\"padding: 0 1em 0 0.5em; text-align: right; border: none;\">\n",
       "        -0.152\n",
       "    </td>\n",
       "    <td style=\"padding: 0 0.5em 0 0.5em; text-align: left; border: none;\">\n",
       "        &lt;BIAS&gt;\n",
       "    </td>\n",
       "    \n",
       "</tr>\n",
       "        \n",
       "\n",
       "        </tbody>\n",
       "    </table>\n",
       "\n",
       "    \n",
       "\n",
       "\n",
       "\n",
       "    <p style=\"margin-bottom: 2.5em; margin-top:-0.5em;\">\n",
       "        <span style=\"background-color: hsl(120, 100.00%, 65.52%); opacity: 0.96\" title=\"0.115\">имя</span><span style=\"opacity: 0.80\"> я преисполнен к </span><span style=\"background-color: hsl(120, 100.00%, 95.10%); opacity: 0.81\" title=\"0.007\">ним</span><span style=\"opacity: 0.80\"> </span><span style=\"background-color: hsl(120, 100.00%, 60.00%); opacity: 1.00\" title=\"0.143\">любви</span><span style=\"opacity: 0.80\"> и обожания)))))</span>\n",
       "    </p>\n",
       "\n",
       "\n",
       "    \n",
       "\n",
       "    \n",
       "\n",
       "    \n",
       "\n",
       "    \n",
       "\n",
       "\n",
       "    \n",
       "\n",
       "    \n",
       "\n",
       "    \n",
       "\n",
       "    \n",
       "\n",
       "    \n",
       "\n",
       "    \n",
       "\n",
       "\n",
       "    \n",
       "\n",
       "    \n",
       "\n",
       "    \n",
       "\n",
       "    \n",
       "\n",
       "    \n",
       "\n",
       "    \n",
       "\n",
       "\n",
       "\n"
      ],
      "text/plain": [
       "<IPython.core.display.HTML object>"
      ]
     },
     "execution_count": 284,
     "metadata": {},
     "output_type": "execute_result"
    }
   ],
   "source": [
    "eli5.show_prediction(lr_model.model, X_train.text.iloc[i], vec=lr_model.vectorizer)"
   ]
  },
  {
   "cell_type": "code",
   "execution_count": 285,
   "metadata": {},
   "outputs": [
    {
     "data": {
      "text/html": [
       "\n",
       "    <style>\n",
       "    table.eli5-weights tr:hover {\n",
       "        filter: brightness(85%);\n",
       "    }\n",
       "</style>\n",
       "\n",
       "\n",
       "\n",
       "    \n",
       "\n",
       "    \n",
       "\n",
       "    \n",
       "\n",
       "    \n",
       "\n",
       "    \n",
       "\n",
       "    \n",
       "\n",
       "\n",
       "    \n",
       "\n",
       "    \n",
       "\n",
       "    \n",
       "\n",
       "    \n",
       "        \n",
       "\n",
       "    \n",
       "\n",
       "        \n",
       "\n",
       "        \n",
       "    \n",
       "        \n",
       "        \n",
       "    \n",
       "        <p style=\"margin-bottom: 0.5em; margin-top: 0em\">\n",
       "            <b>\n",
       "    \n",
       "        y=1.0\n",
       "    \n",
       "</b>\n",
       "\n",
       "    \n",
       "    (probability <b>0.697</b>, score <b>0.834</b>)\n",
       "\n",
       "top features\n",
       "        </p>\n",
       "    \n",
       "    <table class=\"eli5-weights\"\n",
       "           style=\"border-collapse: collapse; border: none; margin-top: 0em; table-layout: auto; margin-bottom: 2em;\">\n",
       "        <thead>\n",
       "        <tr style=\"border: none;\">\n",
       "            \n",
       "                <th style=\"padding: 0 1em 0 0.5em; text-align: right; border: none;\" title=\"Feature contribution already accounts for the feature value (for linear models, contribution = weight * feature value), and the sum of feature contributions is equal to the score or, for some classifiers, to the probability. Feature values are shown if &quot;show_feature_values&quot; is True.\">\n",
       "                    Contribution<sup>?</sup>\n",
       "                </th>\n",
       "            \n",
       "            <th style=\"padding: 0 0.5em 0 0.5em; text-align: left; border: none;\">Feature</th>\n",
       "            \n",
       "        </tr>\n",
       "        </thead>\n",
       "        <tbody>\n",
       "        \n",
       "            <tr style=\"background-color: hsl(120, 100.00%, 80.00%); border: none;\">\n",
       "    <td style=\"padding: 0 1em 0 0.5em; text-align: right; border: none;\">\n",
       "        +1.018\n",
       "    </td>\n",
       "    <td style=\"padding: 0 0.5em 0 0.5em; text-align: left; border: none;\">\n",
       "        Highlighted in text (sum)\n",
       "    </td>\n",
       "    \n",
       "</tr>\n",
       "        \n",
       "        \n",
       "\n",
       "        \n",
       "        \n",
       "            <tr style=\"background-color: hsl(0, 100.00%, 93.97%); border: none;\">\n",
       "    <td style=\"padding: 0 1em 0 0.5em; text-align: right; border: none;\">\n",
       "        -0.184\n",
       "    </td>\n",
       "    <td style=\"padding: 0 0.5em 0 0.5em; text-align: left; border: none;\">\n",
       "        &lt;BIAS&gt;\n",
       "    </td>\n",
       "    \n",
       "</tr>\n",
       "        \n",
       "\n",
       "        </tbody>\n",
       "    </table>\n",
       "\n",
       "    \n",
       "\n",
       "\n",
       "\n",
       "    <p style=\"margin-bottom: 2.5em; margin-top:-0.5em;\">\n",
       "        <span style=\"background-color: hsl(0, 100.00%, 83.53%); opacity: 0.86\" title=\"-0.056\">и</span><span style=\"background-color: hsl(120, 100.00%, 97.10%); opacity: 0.80\" title=\"0.005\">м</span><span style=\"background-color: hsl(120, 100.00%, 80.95%); opacity: 0.87\" title=\"0.069\">я</span><span style=\"background-color: hsl(120, 100.00%, 90.20%); opacity: 0.83\" title=\"0.027\"> </span><span style=\"background-color: hsl(0, 100.00%, 94.97%); opacity: 0.81\" title=\"-0.010\">я</span><span style=\"background-color: hsl(120, 100.00%, 95.80%); opacity: 0.81\" title=\"0.008\"> </span><span style=\"background-color: hsl(120, 100.00%, 94.36%); opacity: 0.81\" title=\"0.012\">п</span><span style=\"background-color: hsl(120, 100.00%, 75.26%); opacity: 0.90\" title=\"0.101\">р</span><span style=\"background-color: hsl(120, 100.00%, 77.74%); opacity: 0.89\" title=\"0.087\">е</span><span style=\"background-color: hsl(120, 100.00%, 99.23%); opacity: 0.80\" title=\"0.001\">и</span><span style=\"background-color: hsl(120, 100.00%, 95.12%); opacity: 0.81\" title=\"0.010\">с</span><span style=\"background-color: hsl(0, 100.00%, 93.67%); opacity: 0.81\" title=\"-0.014\">п</span><span style=\"background-color: hsl(0, 100.00%, 94.61%); opacity: 0.81\" title=\"-0.011\">о</span><span style=\"background-color: hsl(0, 100.00%, 93.67%); opacity: 0.81\" title=\"-0.014\">л</span><span style=\"background-color: hsl(0, 100.00%, 99.56%); opacity: 0.80\" title=\"-0.000\">н</span><span style=\"background-color: hsl(120, 100.00%, 87.28%); opacity: 0.84\" title=\"0.039\">е</span><span style=\"background-color: hsl(0, 100.00%, 98.25%); opacity: 0.80\" title=\"-0.002\">н</span><span style=\"background-color: hsl(0, 100.00%, 95.84%); opacity: 0.81\" title=\"-0.008\"> </span><span style=\"background-color: hsl(0, 100.00%, 92.06%); opacity: 0.82\" title=\"-0.020\">к</span><span style=\"background-color: hsl(0, 100.00%, 91.19%); opacity: 0.82\" title=\"-0.023\"> </span><span style=\"background-color: hsl(0, 100.00%, 93.86%); opacity: 0.81\" title=\"-0.014\">н</span><span style=\"background-color: hsl(0, 100.00%, 89.50%); opacity: 0.83\" title=\"-0.030\">и</span><span style=\"background-color: hsl(120, 100.00%, 85.65%); opacity: 0.85\" title=\"0.046\">м</span><span style=\"background-color: hsl(120, 100.00%, 82.87%); opacity: 0.86\" title=\"0.060\"> </span><span style=\"background-color: hsl(120, 100.00%, 73.40%); opacity: 0.91\" title=\"0.112\">л</span><span style=\"background-color: hsl(120, 100.00%, 74.08%); opacity: 0.91\" title=\"0.108\">ю</span><span style=\"background-color: hsl(0, 100.00%, 92.19%); opacity: 0.82\" title=\"-0.019\">б</span><span style=\"background-color: hsl(120, 100.00%, 91.18%); opacity: 0.82\" title=\"0.023\">в</span><span style=\"background-color: hsl(120, 100.00%, 86.00%); opacity: 0.84\" title=\"0.045\">и</span><span style=\"background-color: hsl(0, 100.00%, 99.15%); opacity: 0.80\" title=\"-0.001\"> </span><span style=\"background-color: hsl(120, 100.00%, 92.69%); opacity: 0.82\" title=\"0.018\">и</span><span style=\"background-color: hsl(0, 100.00%, 88.16%); opacity: 0.84\" title=\"-0.035\"> </span><span style=\"background-color: hsl(120, 100.00%, 91.42%); opacity: 0.82\" title=\"0.022\">о</span><span style=\"background-color: hsl(0, 100.00%, 88.69%); opacity: 0.83\" title=\"-0.033\">б</span><span style=\"background-color: hsl(0, 100.00%, 84.35%); opacity: 0.85\" title=\"-0.052\">о</span><span style=\"background-color: hsl(120, 100.00%, 89.06%); opacity: 0.83\" title=\"0.031\">ж</span><span style=\"background-color: hsl(120, 100.00%, 87.34%); opacity: 0.84\" title=\"0.039\">а</span><span style=\"background-color: hsl(120, 100.00%, 97.06%); opacity: 0.80\" title=\"0.005\">н</span><span style=\"background-color: hsl(0, 100.00%, 84.64%); opacity: 0.85\" title=\"-0.051\">и</span><span style=\"background-color: hsl(120, 100.00%, 71.19%); opacity: 0.93\" title=\"0.125\">я</span><span style=\"background-color: hsl(120, 100.00%, 60.00%); opacity: 1.00\" title=\"0.200\">)</span><span style=\"background-color: hsl(120, 100.00%, 79.04%); opacity: 0.88\" title=\"0.079\">)</span><span style=\"background-color: hsl(120, 100.00%, 89.59%); opacity: 0.83\" title=\"0.029\">)</span><span style=\"background-color: hsl(120, 100.00%, 79.59%); opacity: 0.88\" title=\"0.076\">)</span><span style=\"background-color: hsl(120, 100.00%, 87.44%); opacity: 0.84\" title=\"0.038\">)</span>\n",
       "    </p>\n",
       "\n",
       "\n",
       "    \n",
       "\n",
       "    \n",
       "\n",
       "    \n",
       "\n",
       "    \n",
       "\n",
       "\n",
       "    \n",
       "\n",
       "    \n",
       "\n",
       "    \n",
       "\n",
       "    \n",
       "\n",
       "    \n",
       "\n",
       "    \n",
       "\n",
       "\n",
       "    \n",
       "\n",
       "    \n",
       "\n",
       "    \n",
       "\n",
       "    \n",
       "\n",
       "    \n",
       "\n",
       "    \n",
       "\n",
       "\n",
       "\n"
      ],
      "text/plain": [
       "<IPython.core.display.HTML object>"
      ]
     },
     "execution_count": 285,
     "metadata": {},
     "output_type": "execute_result"
    }
   ],
   "source": [
    "eli5.show_prediction(lr_model_char.model, X_train.text.iloc[i], vec=lr_model_char.vectorizer)"
   ]
  },
  {
   "cell_type": "code",
   "execution_count": 286,
   "metadata": {},
   "outputs": [
    {
     "data": {
      "text/html": [
       "\n",
       "    <style>\n",
       "    table.eli5-weights tr:hover {\n",
       "        filter: brightness(85%);\n",
       "    }\n",
       "</style>\n",
       "\n",
       "\n",
       "\n",
       "    \n",
       "\n",
       "    \n",
       "\n",
       "    \n",
       "\n",
       "    \n",
       "\n",
       "    \n",
       "\n",
       "    \n",
       "\n",
       "\n",
       "    \n",
       "\n",
       "    \n",
       "\n",
       "    \n",
       "\n",
       "    \n",
       "        \n",
       "\n",
       "    \n",
       "\n",
       "        \n",
       "\n",
       "        \n",
       "    \n",
       "        \n",
       "        \n",
       "    \n",
       "        <p style=\"margin-bottom: 0.5em; margin-top: 0em\">\n",
       "            <b>\n",
       "    \n",
       "        y=1.0\n",
       "    \n",
       "</b>\n",
       "\n",
       "    \n",
       "    (probability <b>0.513</b>, score <b>0.052</b>)\n",
       "\n",
       "top features\n",
       "        </p>\n",
       "    \n",
       "    <table class=\"eli5-weights\"\n",
       "           style=\"border-collapse: collapse; border: none; margin-top: 0em; table-layout: auto; margin-bottom: 2em;\">\n",
       "        <thead>\n",
       "        <tr style=\"border: none;\">\n",
       "            \n",
       "                <th style=\"padding: 0 1em 0 0.5em; text-align: right; border: none;\" title=\"Feature contribution already accounts for the feature value (for linear models, contribution = weight * feature value), and the sum of feature contributions is equal to the score or, for some classifiers, to the probability. Feature values are shown if &quot;show_feature_values&quot; is True.\">\n",
       "                    Contribution<sup>?</sup>\n",
       "                </th>\n",
       "            \n",
       "            <th style=\"padding: 0 0.5em 0 0.5em; text-align: left; border: none;\">Feature</th>\n",
       "            \n",
       "        </tr>\n",
       "        </thead>\n",
       "        <tbody>\n",
       "        \n",
       "            <tr style=\"background-color: hsl(120, 100.00%, 80.00%); border: none;\">\n",
       "    <td style=\"padding: 0 1em 0 0.5em; text-align: right; border: none;\">\n",
       "        +0.180\n",
       "    </td>\n",
       "    <td style=\"padding: 0 0.5em 0 0.5em; text-align: left; border: none;\">\n",
       "        Highlighted in text (sum)\n",
       "    </td>\n",
       "    \n",
       "</tr>\n",
       "        \n",
       "        \n",
       "\n",
       "        \n",
       "        \n",
       "            <tr style=\"background-color: hsl(0, 100.00%, 84.21%); border: none;\">\n",
       "    <td style=\"padding: 0 1em 0 0.5em; text-align: right; border: none;\">\n",
       "        -0.129\n",
       "    </td>\n",
       "    <td style=\"padding: 0 0.5em 0 0.5em; text-align: left; border: none;\">\n",
       "        &lt;BIAS&gt;\n",
       "    </td>\n",
       "    \n",
       "</tr>\n",
       "        \n",
       "\n",
       "        </tbody>\n",
       "    </table>\n",
       "\n",
       "    \n",
       "\n",
       "\n",
       "\n",
       "    <p style=\"margin-bottom: 2.5em; margin-top:-0.5em;\">\n",
       "        <span style=\"background-color: hsl(120, 100.00%, 83.24%); opacity: 0.86\" title=\"0.029\">имя</span><span style=\"opacity: 0.80\"> я преисполнен к </span><span style=\"background-color: hsl(120, 100.00%, 75.34%); opacity: 0.90\" title=\"0.051\">ним</span><span style=\"opacity: 0.80\"> </span><span style=\"background-color: hsl(120, 100.00%, 60.00%); opacity: 1.00\" title=\"0.101\">любви</span><span style=\"opacity: 0.80\"> и обожания)))))</span>\n",
       "    </p>\n",
       "\n",
       "\n",
       "    \n",
       "\n",
       "    \n",
       "\n",
       "    \n",
       "\n",
       "    \n",
       "\n",
       "\n",
       "    \n",
       "\n",
       "    \n",
       "\n",
       "    \n",
       "\n",
       "    \n",
       "\n",
       "    \n",
       "\n",
       "    \n",
       "\n",
       "\n",
       "    \n",
       "\n",
       "    \n",
       "\n",
       "    \n",
       "\n",
       "    \n",
       "\n",
       "    \n",
       "\n",
       "    \n",
       "\n",
       "\n",
       "\n"
      ],
      "text/plain": [
       "<IPython.core.display.HTML object>"
      ]
     },
     "execution_count": 286,
     "metadata": {},
     "output_type": "execute_result"
    }
   ],
   "source": [
    "eli5.show_prediction(lr_model_tfidf.model, X_train.text.iloc[i], vec=lr_model_tfidf.vectorizer)"
   ]
  },
  {
   "cell_type": "code",
   "execution_count": 287,
   "metadata": {
    "collapsed": true
   },
   "outputs": [],
   "source": [
    "from eli5.lime import TextExplainer\n",
    "te = TextExplainer()\n",
    "\n",
    "def dummy_predict_proba(docs):\n",
    "    d = pd.DataFrame({'text': docs})\n",
    "    \n",
    "    predictions = []\n",
    "    for model in av_model.models:\n",
    "        prediction = model.predict_proba(d)\n",
    "        predictions.append(prediction)\n",
    "\n",
    "    pr = predictions[0]\n",
    "    for i in range(1, len(av_model.models)):\n",
    "        pr += predictions[1]\n",
    "    return pr / len(av_model.models)"
   ]
  },
  {
   "cell_type": "code",
   "execution_count": 288,
   "metadata": {},
   "outputs": [],
   "source": [
    "te.fit(X_train.text.iloc[i], dummy_predict_proba);"
   ]
  },
  {
   "cell_type": "code",
   "execution_count": 289,
   "metadata": {},
   "outputs": [
    {
     "data": {
      "text/html": [
       "\n",
       "    <style>\n",
       "    table.eli5-weights tr:hover {\n",
       "        filter: brightness(85%);\n",
       "    }\n",
       "</style>\n",
       "\n",
       "\n",
       "\n",
       "    \n",
       "\n",
       "    \n",
       "\n",
       "    \n",
       "\n",
       "    \n",
       "\n",
       "    \n",
       "\n",
       "    \n",
       "\n",
       "\n",
       "    \n",
       "\n",
       "    \n",
       "\n",
       "    \n",
       "\n",
       "    \n",
       "        \n",
       "\n",
       "    \n",
       "\n",
       "        \n",
       "\n",
       "        \n",
       "    \n",
       "        \n",
       "        \n",
       "    \n",
       "        <p style=\"margin-bottom: 0.5em; margin-top: 0em\">\n",
       "            <b>\n",
       "    \n",
       "        y=1\n",
       "    \n",
       "</b>\n",
       "\n",
       "    \n",
       "    (probability <b>0.530</b>, score <b>0.122</b>)\n",
       "\n",
       "top features\n",
       "        </p>\n",
       "    \n",
       "    <table class=\"eli5-weights\"\n",
       "           style=\"border-collapse: collapse; border: none; margin-top: 0em; table-layout: auto; margin-bottom: 2em;\">\n",
       "        <thead>\n",
       "        <tr style=\"border: none;\">\n",
       "            \n",
       "                <th style=\"padding: 0 1em 0 0.5em; text-align: right; border: none;\" title=\"Feature contribution already accounts for the feature value (for linear models, contribution = weight * feature value), and the sum of feature contributions is equal to the score or, for some classifiers, to the probability. Feature values are shown if &quot;show_feature_values&quot; is True.\">\n",
       "                    Contribution<sup>?</sup>\n",
       "                </th>\n",
       "            \n",
       "            <th style=\"padding: 0 0.5em 0 0.5em; text-align: left; border: none;\">Feature</th>\n",
       "            \n",
       "        </tr>\n",
       "        </thead>\n",
       "        <tbody>\n",
       "        \n",
       "            <tr style=\"background-color: hsl(120, 100.00%, 80.00%); border: none;\">\n",
       "    <td style=\"padding: 0 1em 0 0.5em; text-align: right; border: none;\">\n",
       "        +0.189\n",
       "    </td>\n",
       "    <td style=\"padding: 0 0.5em 0 0.5em; text-align: left; border: none;\">\n",
       "        Highlighted in text (sum)\n",
       "    </td>\n",
       "    \n",
       "</tr>\n",
       "        \n",
       "        \n",
       "\n",
       "        \n",
       "        \n",
       "            <tr style=\"background-color: hsl(0, 100.00%, 90.33%); border: none;\">\n",
       "    <td style=\"padding: 0 1em 0 0.5em; text-align: right; border: none;\">\n",
       "        -0.067\n",
       "    </td>\n",
       "    <td style=\"padding: 0 0.5em 0 0.5em; text-align: left; border: none;\">\n",
       "        &lt;BIAS&gt;\n",
       "    </td>\n",
       "    \n",
       "</tr>\n",
       "        \n",
       "\n",
       "        </tbody>\n",
       "    </table>\n",
       "\n",
       "    \n",
       "\n",
       "\n",
       "\n",
       "    <p style=\"margin-bottom: 2.5em; margin-top:-0.5em;\">\n",
       "        <span style=\"background-color: hsl(120, 100.00%, 77.15%); opacity: 0.89\" title=\"0.067\">имя</span><span style=\"opacity: 0.80\"> я преисполнен к </span><span style=\"background-color: hsl(120, 100.00%, 81.54%); opacity: 0.87\" title=\"0.049\">ним</span><span style=\"opacity: 0.80\"> </span><span style=\"background-color: hsl(120, 100.00%, 60.00%); opacity: 1.00\" title=\"0.149\">любви</span><span style=\"opacity: 0.80\"> </span><span style=\"background-color: hsl(120, 100.00%, 92.99%); opacity: 0.82\" title=\"0.012\">и</span><span style=\"opacity: 0.80\"> </span><span style=\"background-color: hsl(0, 100.00%, 88.02%); opacity: 0.84\" title=\"-0.027\">обожания</span><span style=\"opacity: 0.80\">)))))</span>\n",
       "    </p>\n",
       "\n",
       "\n",
       "    \n",
       "\n",
       "    \n",
       "\n",
       "    \n",
       "\n",
       "    \n",
       "\n",
       "\n",
       "    \n",
       "\n",
       "    \n",
       "\n",
       "    \n",
       "\n",
       "    \n",
       "\n",
       "    \n",
       "\n",
       "    \n",
       "\n",
       "\n",
       "    \n",
       "\n",
       "    \n",
       "\n",
       "    \n",
       "\n",
       "    \n",
       "\n",
       "    \n",
       "\n",
       "    \n",
       "\n",
       "\n",
       "\n"
      ],
      "text/plain": [
       "<IPython.core.display.HTML object>"
      ]
     },
     "execution_count": 289,
     "metadata": {},
     "output_type": "execute_result"
    }
   ],
   "source": [
    "te.show_prediction()"
   ]
  },
  {
   "cell_type": "markdown",
   "metadata": {},
   "source": [
    "### For different n"
   ]
  },
  {
   "cell_type": "code",
   "execution_count": 167,
   "metadata": {
    "scrolled": true
   },
   "outputs": [
    {
     "name": "stdout",
     "output_type": "stream",
     "text": [
      "Accuracy for comment:\n",
      "Model:  lr_tfidf_5k\n",
      "0.516226415094\n",
      "Model:  lr_count_5k_word_12\n",
      "0.507924528302\n",
      "Model:  lr_count_10k_word_13\n",
      "0.512452830189\n",
      "Model:  lr_count_5k_char_23\n",
      "0.521509433962\n",
      "Model:  lr_count_2k_char_23\n",
      "0.518490566038\n",
      "Median of models: 0.513962264151\n",
      "Accuracy for user:\n",
      "Model:  lr_tfidf_5k\n",
      "0.516226415094\n",
      "Model:  lr_count_5k_word_12\n",
      "0.507924528302\n",
      "Model:  lr_count_10k_word_13\n",
      "0.512452830189\n",
      "Model:  lr_count_5k_char_23\n",
      "0.521509433962\n",
      "Model:  lr_count_2k_char_23\n",
      "0.518490566038\n",
      "Median of models averaged per user:\n",
      "0.513962264151\n",
      "Median of averaged model per user:\n",
      "0.513962264151\n",
      "Accuracy for comment:\n",
      "Model:  lr_tfidf_5k\n",
      "0.519509476031\n",
      "Model:  lr_count_5k_word_12\n",
      "0.545707915273\n",
      "Model:  lr_count_10k_word_13\n",
      "0.544593088071\n",
      "Model:  lr_count_5k_char_23\n",
      "0.513935340022\n",
      "Model:  lr_count_2k_char_23\n",
      "0.517279821628\n",
      "Median of models: 0.535674470457\n",
      "Accuracy for user:\n",
      "Model:  lr_tfidf_5k\n",
      "0.532887402453\n",
      "Model:  lr_count_5k_word_12\n",
      "0.540691192865\n",
      "Model:  lr_count_10k_word_13\n",
      "0.545150501672\n",
      "Model:  lr_count_5k_char_23\n",
      "0.515050167224\n",
      "Model:  lr_count_2k_char_23\n",
      "0.529542920847\n",
      "Median of models averaged per user:\n",
      "0.534002229654\n",
      "Median of averaged model per user:\n",
      "0.53734671126\n",
      "Accuracy for comment:\n",
      "Model:  lr_tfidf_5k\n",
      "0.515477214101\n",
      "Model:  lr_count_5k_word_12\n",
      "0.527944969905\n",
      "Model:  lr_count_10k_word_13\n",
      "0.523215821152\n",
      "Model:  lr_count_5k_char_23\n",
      "0.524935511608\n",
      "Model:  lr_count_2k_char_23\n",
      "0.522785898538\n",
      "Median of models: 0.52622527945\n",
      "Accuracy for user:\n",
      "Model:  lr_tfidf_5k\n",
      "0.528011204482\n",
      "Model:  lr_count_5k_word_12\n",
      "0.533613445378\n",
      "Model:  lr_count_10k_word_13\n",
      "0.529411764706\n",
      "Model:  lr_count_5k_char_23\n",
      "0.526610644258\n",
      "Model:  lr_count_2k_char_23\n",
      "0.53081232493\n",
      "Median of models averaged per user:\n",
      "0.526610644258\n",
      "Median of averaged model per user:\n",
      "0.522408963585\n",
      "Accuracy for comment:\n",
      "Model:  lr_tfidf_5k\n",
      "0.526415811479\n",
      "Model:  lr_count_5k_word_12\n",
      "0.521474724439\n",
      "Model:  lr_count_10k_word_13\n",
      "0.51425313569\n",
      "Model:  lr_count_5k_char_23\n",
      "0.528696313189\n",
      "Model:  lr_count_2k_char_23\n",
      "0.530976814899\n",
      "Median of models: 0.522614975295\n",
      "Accuracy for user:\n",
      "Model:  lr_tfidf_5k\n",
      "0.549342105263\n",
      "Model:  lr_count_5k_word_12\n",
      "0.552631578947\n",
      "Model:  lr_count_10k_word_13\n",
      "0.519736842105\n",
      "Model:  lr_count_5k_char_23\n",
      "0.542763157895\n",
      "Model:  lr_count_2k_char_23\n",
      "0.53125\n",
      "Median of models averaged per user:\n",
      "0.539473684211\n",
      "Median of averaged model per user:\n",
      "0.532894736842\n",
      "Accuracy for comment:\n",
      "Model:  lr_tfidf_5k\n",
      "0.520947802198\n",
      "Model:  lr_count_5k_word_12\n",
      "0.524381868132\n",
      "Model:  lr_count_10k_word_13\n",
      "0.520947802198\n",
      "Model:  lr_count_5k_char_23\n",
      "0.521978021978\n",
      "Model:  lr_count_2k_char_23\n",
      "0.532967032967\n",
      "Median of models: 0.523008241758\n",
      "Accuracy for user:\n",
      "Model:  lr_tfidf_5k\n",
      "0.549429657795\n",
      "Model:  lr_count_5k_word_12\n",
      "0.545627376426\n",
      "Model:  lr_count_10k_word_13\n",
      "0.534220532319\n",
      "Model:  lr_count_5k_char_23\n",
      "0.557034220532\n",
      "Model:  lr_count_2k_char_23\n",
      "0.566539923954\n",
      "Median of models averaged per user:\n",
      "0.532319391635\n",
      "Median of averaged model per user:\n",
      "0.536121673004\n",
      "Accuracy for comment:\n",
      "Model:  lr_tfidf_5k\n",
      "0.523628290517\n",
      "Model:  lr_count_5k_word_12\n",
      "0.520773866159\n",
      "Model:  lr_count_10k_word_13\n",
      "0.520773866159\n",
      "Model:  lr_count_5k_char_23\n",
      "0.529654297494\n",
      "Model:  lr_count_2k_char_23\n",
      "0.522676815731\n",
      "Median of models: 0.525848398351\n",
      "Accuracy for user:\n",
      "Model:  lr_tfidf_5k\n",
      "0.549893842887\n",
      "Model:  lr_count_5k_word_12\n",
      "0.541401273885\n",
      "Model:  lr_count_10k_word_13\n",
      "0.537154989384\n",
      "Model:  lr_count_5k_char_23\n",
      "0.573248407643\n",
      "Model:  lr_count_2k_char_23\n",
      "0.549893842887\n",
      "Median of models averaged per user:\n",
      "0.562632696391\n",
      "Median of averaged model per user:\n",
      "0.56050955414\n",
      "Accuracy for comment:\n",
      "Model:  lr_tfidf_5k\n",
      "0.517014925373\n",
      "Model:  lr_count_5k_word_12\n",
      "0.509850746269\n",
      "Model:  lr_count_10k_word_13\n",
      "0.51671641791\n",
      "Model:  lr_count_5k_char_23\n",
      "0.530149253731\n",
      "Model:  lr_count_2k_char_23\n",
      "0.511641791045\n",
      "Median of models: 0.51552238806\n",
      "Accuracy for user:\n",
      "Model:  lr_tfidf_5k\n",
      "0.551401869159\n",
      "Model:  lr_count_5k_word_12\n",
      "0.525700934579\n",
      "Model:  lr_count_10k_word_13\n",
      "0.565420560748\n",
      "Model:  lr_count_5k_char_23\n",
      "0.549065420561\n",
      "Model:  lr_count_2k_char_23\n",
      "0.525700934579\n",
      "Median of models averaged per user:\n",
      "0.551401869159\n",
      "Median of averaged model per user:\n",
      "0.551401869159\n",
      "Accuracy for comment:\n",
      "Model:  lr_tfidf_5k\n",
      "0.517329545455\n",
      "Model:  lr_count_5k_word_12\n",
      "0.524147727273\n",
      "Model:  lr_count_10k_word_13\n",
      "0.524431818182\n",
      "Model:  lr_count_5k_char_23\n",
      "0.523579545455\n",
      "Model:  lr_count_2k_char_23\n",
      "0.526420454545\n",
      "Median of models: 0.528125\n",
      "Accuracy for user:\n",
      "Model:  lr_tfidf_5k\n",
      "0.539641943734\n",
      "Model:  lr_count_5k_word_12\n",
      "0.552429667519\n",
      "Model:  lr_count_10k_word_13\n",
      "0.562659846547\n",
      "Model:  lr_count_5k_char_23\n",
      "0.529411764706\n",
      "Model:  lr_count_2k_char_23\n",
      "0.542199488491\n",
      "Median of models averaged per user:\n",
      "0.56010230179\n",
      "Median of averaged model per user:\n",
      "0.565217391304\n",
      "Accuracy for comment:\n",
      "Model:  lr_tfidf_5k\n",
      "0.521798738689\n",
      "Model:  lr_count_5k_word_12\n",
      "0.521524540718\n",
      "Model:  lr_count_10k_word_13\n",
      "0.521798738689\n",
      "Model:  lr_count_5k_char_23\n",
      "0.519605154922\n",
      "Model:  lr_count_2k_char_23\n",
      "0.520153550864\n",
      "Median of models: 0.527008500137\n",
      "Accuracy for user:\n",
      "Model:  lr_tfidf_5k\n",
      "0.552197802198\n",
      "Model:  lr_count_5k_word_12\n",
      "0.576923076923\n",
      "Model:  lr_count_10k_word_13\n",
      "0.543956043956\n",
      "Model:  lr_count_5k_char_23\n",
      "0.53021978022\n",
      "Model:  lr_count_2k_char_23\n",
      "0.521978021978\n",
      "Median of models averaged per user:\n",
      "0.557692307692\n",
      "Median of averaged model per user:\n",
      "0.543956043956\n",
      "Accuracy for comment:\n",
      "Model:  lr_tfidf_5k\n",
      "0.525641025641\n",
      "Model:  lr_count_5k_word_12\n",
      "0.532585470085\n",
      "Model:  lr_count_10k_word_13\n",
      "0.528044871795\n",
      "Model:  lr_count_5k_char_23\n",
      "0.534455128205\n",
      "Model:  lr_count_2k_char_23\n",
      "0.528044871795\n",
      "Median of models: 0.536591880342\n",
      "Accuracy for user:\n",
      "Model:  lr_tfidf_5k\n",
      "0.557522123894\n",
      "Model:  lr_count_5k_word_12\n",
      "0.581120943953\n",
      "Model:  lr_count_10k_word_13\n",
      "0.58407079646\n",
      "Model:  lr_count_5k_char_23\n",
      "0.563421828909\n",
      "Model:  lr_count_2k_char_23\n",
      "0.554572271386\n",
      "Median of models averaged per user:\n",
      "0.58407079646\n",
      "Median of averaged model per user:\n",
      "0.592920353982\n",
      "Accuracy for comment:\n",
      "Model:  lr_tfidf_5k\n",
      "0.525304957176\n",
      "Model:  lr_count_5k_word_12\n",
      "0.526083571243\n",
      "Model:  lr_count_10k_word_13\n",
      "0.52011419673\n",
      "Model:  lr_count_5k_char_23\n",
      "0.527900337399\n",
      "Model:  lr_count_2k_char_23\n",
      "0.516999740462\n",
      "Median of models: 0.530495717623\n",
      "Accuracy for user:\n",
      "Model:  lr_tfidf_5k\n",
      "0.570063694268\n",
      "Model:  lr_count_5k_word_12\n",
      "0.570063694268\n",
      "Model:  lr_count_10k_word_13\n",
      "0.557324840764\n",
      "Model:  lr_count_5k_char_23\n",
      "0.566878980892\n",
      "Model:  lr_count_2k_char_23\n",
      "0.570063694268\n",
      "Median of models averaged per user:\n",
      "0.582802547771\n",
      "Median of averaged model per user:\n",
      "0.585987261146\n",
      "Accuracy for comment:\n",
      "Model:  lr_tfidf_5k\n",
      "0.529531568228\n",
      "Model:  lr_count_5k_word_12\n",
      "0.530804480652\n",
      "Model:  lr_count_10k_word_13\n",
      "0.536405295316\n",
      "Model:  lr_count_5k_char_23\n",
      "0.527749490835\n",
      "Model:  lr_count_2k_char_23\n",
      "0.528258655804\n",
      "Median of models: 0.542260692464\n",
      "Accuracy for user:\n",
      "Model:  lr_tfidf_5k\n",
      "0.574829931973\n",
      "Model:  lr_count_5k_word_12\n",
      "0.598639455782\n",
      "Model:  lr_count_10k_word_13\n",
      "0.602040816327\n",
      "Model:  lr_count_5k_char_23\n",
      "0.568027210884\n",
      "Model:  lr_count_2k_char_23\n",
      "0.581632653061\n",
      "Median of models averaged per user:\n",
      "0.591836734694\n",
      "Median of averaged model per user:\n",
      "0.598639455782\n",
      "Accuracy for comment:\n",
      "Model:  lr_tfidf_5k\n",
      "0.528424743301\n",
      "Model:  lr_count_5k_word_12\n",
      "0.534435261708\n",
      "Model:  lr_count_10k_word_13\n",
      "0.534936138242\n",
      "Model:  lr_count_5k_char_23\n",
      "0.535687453043\n",
      "Model:  lr_count_2k_char_23\n",
      "0.514650638618\n",
      "Median of models: 0.536188329577\n",
      "Accuracy for user:\n",
      "Model:  lr_tfidf_5k\n",
      "0.57761732852\n",
      "Model:  lr_count_5k_word_12\n",
      "0.552346570397\n",
      "Model:  lr_count_10k_word_13\n",
      "0.559566787004\n",
      "Model:  lr_count_5k_char_23\n",
      "0.58844765343\n",
      "Model:  lr_count_2k_char_23\n",
      "0.574007220217\n",
      "Median of models averaged per user:\n",
      "0.574007220217\n",
      "Median of averaged model per user:\n",
      "0.574007220217\n",
      "Accuracy for comment:\n",
      "Model:  lr_tfidf_5k\n",
      "0.535714285714\n",
      "Model:  lr_count_5k_word_12\n",
      "0.534729064039\n",
      "Model:  lr_count_10k_word_13\n",
      "0.538669950739\n",
      "Model:  lr_count_5k_char_23\n",
      "0.52684729064\n",
      "Model:  lr_count_2k_char_23\n",
      "0.533990147783\n",
      "Median of models: 0.543596059113\n",
      "Accuracy for user:\n",
      "Model:  lr_tfidf_5k\n",
      "0.618320610687\n",
      "Model:  lr_count_5k_word_12\n",
      "0.568702290076\n",
      "Model:  lr_count_10k_word_13\n",
      "0.572519083969\n",
      "Model:  lr_count_5k_char_23\n",
      "0.568702290076\n",
      "Model:  lr_count_2k_char_23\n",
      "0.580152671756\n",
      "Median of models averaged per user:\n",
      "0.587786259542\n",
      "Median of averaged model per user:\n",
      "0.603053435115\n"
     ]
    },
    {
     "name": "stdout",
     "output_type": "stream",
     "text": [
      "Accuracy for comment:\n",
      "Model:  lr_tfidf_5k\n",
      "0.543710539097\n",
      "Model:  lr_count_5k_word_12\n",
      "0.534725594949\n",
      "Model:  lr_count_10k_word_13\n",
      "0.539825157844\n",
      "Model:  lr_count_5k_char_23\n",
      "0.5403108305\n",
      "Model:  lr_count_2k_char_23\n",
      "0.539825157844\n",
      "Median of models: 0.54613890238\n",
      "Accuracy for user:\n",
      "Model:  lr_tfidf_5k\n",
      "0.616935483871\n",
      "Model:  lr_count_5k_word_12\n",
      "0.576612903226\n",
      "Model:  lr_count_10k_word_13\n",
      "0.568548387097\n",
      "Model:  lr_count_5k_char_23\n",
      "0.616935483871\n",
      "Model:  lr_count_2k_char_23\n",
      "0.584677419355\n",
      "Median of models averaged per user:\n",
      "0.616935483871\n",
      "Median of averaged model per user:\n",
      "0.629032258065\n",
      "Accuracy for comment:\n",
      "Model:  lr_tfidf_5k\n",
      "0.546740172579\n",
      "Model:  lr_count_5k_word_12\n",
      "0.541946308725\n",
      "Model:  lr_count_10k_word_13\n",
      "0.542186001918\n",
      "Model:  lr_count_5k_char_23\n",
      "0.547219558965\n",
      "Model:  lr_count_2k_char_23\n",
      "0.553211888782\n",
      "Median of models: 0.550575263663\n",
      "Accuracy for user:\n",
      "Model:  lr_tfidf_5k\n",
      "0.623931623932\n",
      "Model:  lr_count_5k_word_12\n",
      "0.568376068376\n",
      "Model:  lr_count_10k_word_13\n",
      "0.594017094017\n",
      "Model:  lr_count_5k_char_23\n",
      "0.65811965812\n",
      "Model:  lr_count_2k_char_23\n",
      "0.628205128205\n",
      "Median of models averaged per user:\n",
      "0.623931623932\n",
      "Median of averaged model per user:\n",
      "0.619658119658\n",
      "Accuracy for comment:\n",
      "Model:  lr_tfidf_5k\n",
      "0.529273454032\n",
      "Model:  lr_count_5k_word_12\n",
      "0.537738067247\n",
      "Model:  lr_count_10k_word_13\n",
      "0.541970373854\n",
      "Model:  lr_count_5k_char_23\n",
      "0.545967552316\n",
      "Model:  lr_count_2k_char_23\n",
      "0.543616270868\n",
      "Median of models: 0.53985422055\n",
      "Accuracy for user:\n",
      "Model:  lr_tfidf_5k\n",
      "0.585585585586\n",
      "Model:  lr_count_5k_word_12\n",
      "0.603603603604\n",
      "Model:  lr_count_10k_word_13\n",
      "0.617117117117\n",
      "Model:  lr_count_5k_char_23\n",
      "0.648648648649\n",
      "Model:  lr_count_2k_char_23\n",
      "0.612612612613\n",
      "Median of models averaged per user:\n",
      "0.59009009009\n",
      "Median of averaged model per user:\n",
      "0.608108108108\n",
      "Accuracy for comment:\n",
      "Model:  lr_tfidf_5k\n",
      "0.533937703394\n",
      "Model:  lr_count_5k_word_12\n",
      "0.531148303115\n",
      "Model:  lr_count_10k_word_13\n",
      "0.531380753138\n",
      "Model:  lr_count_5k_char_23\n",
      "0.540213854021\n",
      "Model:  lr_count_2k_char_23\n",
      "0.533240353324\n",
      "Median of models: 0.533472803347\n",
      "Accuracy for user:\n",
      "Model:  lr_tfidf_5k\n",
      "0.617924528302\n",
      "Model:  lr_count_5k_word_12\n",
      "0.570754716981\n",
      "Model:  lr_count_10k_word_13\n",
      "0.580188679245\n",
      "Model:  lr_count_5k_char_23\n",
      "0.589622641509\n",
      "Model:  lr_count_2k_char_23\n",
      "0.575471698113\n",
      "Median of models averaged per user:\n",
      "0.580188679245\n",
      "Median of averaged model per user:\n",
      "0.584905660377\n",
      "Accuracy for comment:\n",
      "Model:  lr_tfidf_5k\n",
      "0.524072794287\n",
      "Model:  lr_count_5k_word_12\n",
      "0.521078092605\n",
      "Model:  lr_count_10k_word_13\n",
      "0.521999539277\n",
      "Model:  lr_count_5k_char_23\n",
      "0.532365814328\n",
      "Model:  lr_count_2k_char_23\n",
      "0.533978346003\n",
      "Median of models: 0.528219304308\n",
      "Accuracy for user:\n",
      "Model:  lr_tfidf_5k\n",
      "0.56862745098\n",
      "Model:  lr_count_5k_word_12\n",
      "0.539215686275\n",
      "Model:  lr_count_10k_word_13\n",
      "0.583333333333\n",
      "Model:  lr_count_5k_char_23\n",
      "0.607843137255\n",
      "Model:  lr_count_2k_char_23\n",
      "0.612745098039\n",
      "Median of models averaged per user:\n",
      "0.56862745098\n",
      "Median of averaged model per user:\n",
      "0.583333333333\n",
      "Accuracy for comment:\n",
      "Model:  lr_tfidf_5k\n",
      "0.528861510381\n",
      "Model:  lr_count_5k_word_12\n",
      "0.519963495323\n",
      "Model:  lr_count_10k_word_13\n",
      "0.522245037645\n",
      "Model:  lr_count_5k_char_23\n",
      "0.522473191878\n",
      "Model:  lr_count_2k_char_23\n",
      "0.525211042665\n",
      "Median of models: 0.526579968058\n",
      "Accuracy for user:\n",
      "Model:  lr_tfidf_5k\n",
      "0.59693877551\n",
      "Model:  lr_count_5k_word_12\n",
      "0.571428571429\n",
      "Model:  lr_count_10k_word_13\n",
      "0.551020408163\n",
      "Model:  lr_count_5k_char_23\n",
      "0.540816326531\n",
      "Model:  lr_count_2k_char_23\n",
      "0.545918367347\n",
      "Median of models averaged per user:\n",
      "0.571428571429\n",
      "Median of averaged model per user:\n",
      "0.59693877551\n",
      "CPU times: user 36min 47s, sys: 24.9 s, total: 37min 12s\n",
      "Wall time: 30min 10s\n"
     ]
    }
   ],
   "source": [
    "%%time\n",
    "np.random.seed(0)\n",
    "scores = []\n",
    "for i in range(1, 21):\n",
    "    sc = fit_predict_to_n_user(comments,\n",
    "            [\n",
    "            LrModelTfidf('lr_tfidf_5k', 5000, penalty='l2', C=0.05),\n",
    "            \n",
    "            LrModelCount('lr_count_5k_word_12', 5000, ngram_range=(1, 2), penalty='l2', C=0.05),\n",
    "            LrModelCount('lr_count_10k_word_13', 10000, ngram_range=(1, 3), penalty='l2', C=0.05),\n",
    "\n",
    "            LrModelCount('lr_count_5k_char_23', 5000, 'char', (2, 3), penalty='l2', C=0.05),\n",
    "            LrModelCount('lr_count_2k_char_23', 2000, 'char', (2, 3), penalty='l2', C=0.05),\n",
    "            ], i, False, with_additional=True, debug=False)\n",
    "    scores.append(sc)"
   ]
  },
  {
   "cell_type": "code",
   "execution_count": 168,
   "metadata": {
    "collapsed": true
   },
   "outputs": [],
   "source": [
    "%matplotlib inline"
   ]
  },
  {
   "cell_type": "code",
   "execution_count": 169,
   "metadata": {},
   "outputs": [
    {
     "data": {
      "image/png": "[encoded data removed]",
      "text/plain": [
       "<matplotlib.figure.Figure at 0x7f372bb47d68>"
      ]
     },
     "metadata": {},
     "output_type": "display_data"
    }
   ],
   "source": [
    "fig = plt.figure(figsize=(8, 6))\n",
    "\n",
    "plt.plot(range(1, 21), [x[1] for x in scores])\n",
    "# plt.plot(range(3, 21), [x[1] for x in scores])\n",
    "# plt.yticks(np.round(np.linspace(0.51, 0.66, 16), 2));\n",
    "# plt.xticks(np.linspace(0, 16, 17));\n",
    "# plt.ylim(0.51, 0.66)\n",
    "# plt.xlim(0, 16)\n",
    "plt.xlabel('Минимальное кол-во комментариев')\n",
    "plt.ylabel('Точность')\n",
    "plt.title('Зависимость точности от кол-ва комментариев');"
   ]
  },
  {
   "cell_type": "code",
   "execution_count": 290,
   "metadata": {},
   "outputs": [
    {
     "data": {
      "image/png": "[encoded data removed]",
      "text/plain": [
       "<matplotlib.figure.Figure at 0x7f372f0ede10>"
      ]
     },
     "metadata": {},
     "output_type": "display_data"
    }
   ],
   "source": [
    "fig = plt.figure(figsize=(8, 6))\n",
    "\n",
    "plt.plot(range(1, 21), [x[1] for x in scores])\n",
    "# plt.plot(range(3, 21), [x[1] for x in scores])\n",
    "# plt.yticks(np.round(np.linspace(0.51, 0.66, 16), 2));\n",
    "# plt.xticks(np.linspace(0, 16, 17));\n",
    "# plt.ylim(0.51, 0.66)\n",
    "# plt.xlim(0, 16)\n",
    "plt.xlabel('Минимальное кол-во комментариев')\n",
    "plt.ylabel('Точность')\n",
    "plt.title('Зависимость точности от кол-ва комментариев');"
   ]
  },
  {
   "cell_type": "code",
   "execution_count": 291,
   "metadata": {
    "collapsed": true
   },
   "outputs": [],
   "source": [
    "fig.savefig('temp3.png')"
   ]
  }
 ],
 "metadata": {
  "anaconda-cloud": {},
  "kernelspec": {
   "display_name": "Python 3",
   "language": "python",
   "name": "python3"
  },
  "language_info": {
   "codemirror_mode": {
    "name": "ipython",
    "version": 3
   },
   "file_extension": ".py",
   "mimetype": "text/x-python",
   "name": "python",
   "nbconvert_exporter": "python",
   "pygments_lexer": "ipython3",
   "version": "3.6.0"
  }
 },
 "nbformat": 4,
 "nbformat_minor": 2
}
