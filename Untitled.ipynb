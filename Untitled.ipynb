{
 "cells": [
  {
   "cell_type": "code",
   "execution_count": 1,
   "metadata": {
    "collapsed": true
   },
   "outputs": [],
   "source": [
    "import script"
   ]
  },
  {
   "cell_type": "code",
   "execution_count": 2,
   "metadata": {
    "collapsed": false
   },
   "outputs": [
    {
     "name": "stderr",
     "output_type": "stream",
     "text": [
      "INFO:script:65 friends comments readed\n"
     ]
    }
   ],
   "source": [
    "fr_coms = script.read_friends_comments(script.my_id, script.vrn_id)"
   ]
  },
  {
   "cell_type": "code",
   "execution_count": 6,
   "metadata": {
    "collapsed": false
   },
   "outputs": [
    {
     "data": {
      "text/plain": [
       "[{'comments': [{'attachments': None,\n",
       "    'comment_id': 3337888,\n",
       "    'date': 1481399069,\n",
       "    'from_id': 118624220,\n",
       "    'likes': 0,\n",
       "    'owner_id': '-33041211',\n",
       "    'reply_to_cid': None,\n",
       "    'reply_to_uid': None,\n",
       "    'text': 'Катать на сноуборде🏂😌'},\n",
       "   {'attachments': None,\n",
       "    'comment_id': 1871406,\n",
       "    'date': 1437067929,\n",
       "    'from_id': 118624220,\n",
       "    'likes': 0,\n",
       "    'owner_id': '-33041211',\n",
       "    'reply_to_cid': None,\n",
       "    'reply_to_uid': None,\n",
       "    'text': '12 числа ходил в арене на фудкорте, просил по 10 рублей'}],\n",
       "  'user': {'first_name': 'Olya', 'id': 118624220, 'last_name': 'Maximenko'}}]"
      ]
     },
     "execution_count": 6,
     "metadata": {},
     "output_type": "execute_result"
    }
   ],
   "source": [
    "script.friends_comments_filter(fr_coms, 'Maximenko')"
   ]
  },
  {
   "cell_type": "code",
   "execution_count": 5,
   "metadata": {
    "collapsed": false
   },
   "outputs": [
    {
     "data": {
      "text/plain": [
       "['Belogurova',\n",
       " 'Fedutinov',\n",
       " 'Kuratnik',\n",
       " 'Obruchnikov',\n",
       " 'Chuvelyov',\n",
       " 'Lebedev',\n",
       " 'Perin',\n",
       " 'Grigoryev-Solntsev',\n",
       " 'Zatsepina',\n",
       " 'Besov',\n",
       " 'Matyuschenko',\n",
       " 'Karpik',\n",
       " 'Akinina',\n",
       " 'Voronov',\n",
       " 'Shvyryov',\n",
       " 'Eroshenko',\n",
       " 'Rezanov',\n",
       " 'Arsentyev',\n",
       " 'Kochergin',\n",
       " 'Medvedev',\n",
       " 'Tanigava',\n",
       " 'Abdrakhmanov',\n",
       " 'Kvasov',\n",
       " 'Gladyshev',\n",
       " 'Romova',\n",
       " 'Sokolova',\n",
       " 'Ryzhov',\n",
       " 'Zaytsev',\n",
       " 'Maleev',\n",
       " 'Molotkova',\n",
       " 'Romanenko',\n",
       " 'Tsykov',\n",
       " 'Kolesnikov',\n",
       " 'Eremin',\n",
       " 'Khoroschenko',\n",
       " 'Pugach',\n",
       " 'Zenin',\n",
       " 'Nasonova',\n",
       " 'Syman',\n",
       " 'Semakov',\n",
       " 'Klimov',\n",
       " 'Nazaryeva',\n",
       " 'Kornev',\n",
       " 'Smirnov',\n",
       " 'Korolev',\n",
       " 'Trusov',\n",
       " 'Maximenko',\n",
       " 'Melanin',\n",
       " 'Fyodorov',\n",
       " 'Demyanenko',\n",
       " 'Znak',\n",
       " 'Gluschenko',\n",
       " 'Zanina',\n",
       " 'Lis',\n",
       " 'Kolonutov',\n",
       " 'Gribinyuk',\n",
       " 'Stefanov',\n",
       " '***',\n",
       " 'Kromin',\n",
       " 'Andreev',\n",
       " 'Zhavoronkov',\n",
       " 'Ermakov',\n",
       " 'Makhinov',\n",
       " 'Maslov',\n",
       " 'Tsykov']"
      ]
     },
     "execution_count": 5,
     "metadata": {},
     "output_type": "execute_result"
    }
   ],
   "source": [
    "script.friends_comments_names(fr_coms)"
   ]
  },
  {
   "cell_type": "code",
   "execution_count": null,
   "metadata": {
    "collapsed": true
   },
   "outputs": [],
   "source": []
  }
 ],
 "metadata": {
  "anaconda-cloud": {},
  "kernelspec": {
   "display_name": "Python [conda root]",
   "language": "python",
   "name": "conda-root-py"
  },
  "language_info": {
   "codemirror_mode": {
    "name": "ipython",
    "version": 3
   },
   "file_extension": ".py",
   "mimetype": "text/x-python",
   "name": "python",
   "nbconvert_exporter": "python",
   "pygments_lexer": "ipython3",
   "version": "3.5.2"
  }
 },
 "nbformat": 4,
 "nbformat_minor": 1
}
