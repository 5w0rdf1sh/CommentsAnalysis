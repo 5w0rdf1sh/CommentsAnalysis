{
 "cells": [
  {
   "cell_type": "code",
   "execution_count": 1,
   "metadata": {
    "collapsed": true
   },
   "outputs": [],
   "source": [
    "import numpy as np\n",
    "import pandas as pd\n",
    "import pickle\n",
    "import matplotlib.pyplot as plt\n",
    "import seaborn as sns\n",
    "from datetime import datetime\n",
    "%matplotlib inline"
   ]
  },
  {
   "cell_type": "code",
   "execution_count": 2,
   "metadata": {},
   "outputs": [],
   "source": [
    "pd.set_option(\"display.max_columns\", 100)"
   ]
  },
  {
   "cell_type": "code",
   "execution_count": 3,
   "metadata": {
    "collapsed": true
   },
   "outputs": [],
   "source": [
    "comments_path = 'data/comments_-33041211.pkl'\n",
    "users_path = 'data/users_-33041211.pkl'"
   ]
  },
  {
   "cell_type": "code",
   "execution_count": 4,
   "metadata": {
    "collapsed": true
   },
   "outputs": [],
   "source": [
    "with open(comments_path, 'rb') as f:\n",
    "    comments = pickle.load(f)\n",
    "with open(users_path, 'rb') as f:\n",
    "    users = pickle.load(f)"
   ]
  },
  {
   "cell_type": "code",
   "execution_count": 5,
   "metadata": {},
   "outputs": [],
   "source": [
    "comments_df = pd.DataFrame(comments)"
   ]
  },
  {
   "cell_type": "code",
   "execution_count": 8,
   "metadata": {},
   "outputs": [
    {
     "data": {
      "text/html": [
       "<div>\n",
       "<style>\n",
       "    .dataframe thead tr:only-child th {\n",
       "        text-align: right;\n",
       "    }\n",
       "\n",
       "    .dataframe thead th {\n",
       "        text-align: left;\n",
       "    }\n",
       "\n",
       "    .dataframe tbody tr th {\n",
       "        vertical-align: top;\n",
       "    }\n",
       "</style>\n",
       "<table border=\"1\" class=\"dataframe\">\n",
       "  <thead>\n",
       "    <tr style=\"text-align: right;\">\n",
       "      <th></th>\n",
       "      <th>attachments</th>\n",
       "      <th>comment_id</th>\n",
       "      <th>date</th>\n",
       "      <th>from_id</th>\n",
       "      <th>likes</th>\n",
       "      <th>owner_id</th>\n",
       "      <th>reply_to_cid</th>\n",
       "      <th>reply_to_uid</th>\n",
       "      <th>text</th>\n",
       "    </tr>\n",
       "  </thead>\n",
       "  <tbody>\n",
       "    <tr>\n",
       "      <th>0</th>\n",
       "      <td>None</td>\n",
       "      <td>3804948</td>\n",
       "      <td>1506161801</td>\n",
       "      <td>395223136</td>\n",
       "      <td>66</td>\n",
       "      <td>-33041211</td>\n",
       "      <td>None</td>\n",
       "      <td>None</td>\n",
       "      <td>Тюремное погоняло будет \"Нос\"</td>\n",
       "    </tr>\n",
       "    <tr>\n",
       "      <th>1</th>\n",
       "      <td>None</td>\n",
       "      <td>3804951</td>\n",
       "      <td>1506161835</td>\n",
       "      <td>214650517</td>\n",
       "      <td>108</td>\n",
       "      <td>-33041211</td>\n",
       "      <td>None</td>\n",
       "      <td>None</td>\n",
       "      <td>Слишком типичный портрет для воронежа</td>\n",
       "    </tr>\n",
       "    <tr>\n",
       "      <th>2</th>\n",
       "      <td>None</td>\n",
       "      <td>3804953</td>\n",
       "      <td>1506161881</td>\n",
       "      <td>176737939</td>\n",
       "      <td>185</td>\n",
       "      <td>-33041211</td>\n",
       "      <td>None</td>\n",
       "      <td>None</td>\n",
       "      <td>Тут пол города с такой рожей ходят.</td>\n",
       "    </tr>\n",
       "    <tr>\n",
       "      <th>3</th>\n",
       "      <td>None</td>\n",
       "      <td>3804956</td>\n",
       "      <td>1506161962</td>\n",
       "      <td>21542049</td>\n",
       "      <td>7</td>\n",
       "      <td>-33041211</td>\n",
       "      <td>None</td>\n",
       "      <td>None</td>\n",
       "      <td>Я его около цирка уродов видел... Мутный тип</td>\n",
       "    </tr>\n",
       "    <tr>\n",
       "      <th>4</th>\n",
       "      <td>None</td>\n",
       "      <td>3804961</td>\n",
       "      <td>1506162137</td>\n",
       "      <td>62058251</td>\n",
       "      <td>8</td>\n",
       "      <td>-33041211</td>\n",
       "      <td>None</td>\n",
       "      <td>None</td>\n",
       "      <td>[id395223136|Король], шнобель</td>\n",
       "    </tr>\n",
       "  </tbody>\n",
       "</table>\n",
       "</div>"
      ],
      "text/plain": [
       "  attachments  comment_id        date    from_id  likes   owner_id  \\\n",
       "0        None     3804948  1506161801  395223136     66  -33041211   \n",
       "1        None     3804951  1506161835  214650517    108  -33041211   \n",
       "2        None     3804953  1506161881  176737939    185  -33041211   \n",
       "3        None     3804956  1506161962   21542049      7  -33041211   \n",
       "4        None     3804961  1506162137   62058251      8  -33041211   \n",
       "\n",
       "  reply_to_cid reply_to_uid                                          text  \n",
       "0         None         None                 Тюремное погоняло будет \"Нос\"  \n",
       "1         None         None         Слишком типичный портрет для воронежа  \n",
       "2         None         None           Тут пол города с такой рожей ходят.  \n",
       "3         None         None  Я его около цирка уродов видел... Мутный тип  \n",
       "4         None         None                 [id395223136|Король], шнобель  "
      ]
     },
     "execution_count": 8,
     "metadata": {},
     "output_type": "execute_result"
    }
   ],
   "source": [
    "comments_df.head()"
   ]
  },
  {
   "cell_type": "code",
   "execution_count": 9,
   "metadata": {},
   "outputs": [
    {
     "data": {
      "text/plain": [
       "155784"
      ]
     },
     "execution_count": 9,
     "metadata": {},
     "output_type": "execute_result"
    }
   ],
   "source": [
    "comments_df.from_id.nunique() # was 138796"
   ]
  },
  {
   "cell_type": "code",
   "execution_count": 10,
   "metadata": {},
   "outputs": [
    {
     "data": {
      "text/plain": [
       "(2969507, 9)"
      ]
     },
     "execution_count": 10,
     "metadata": {},
     "output_type": "execute_result"
    }
   ],
   "source": [
    "comments_df.shape # 2637605"
   ]
  },
  {
   "cell_type": "markdown",
   "metadata": {},
   "source": [
    "# Preparing data"
   ]
  },
  {
   "cell_type": "code",
   "execution_count": 11,
   "metadata": {
    "collapsed": true
   },
   "outputs": [],
   "source": [
    "def university_cond(user):\n",
    "    return len(user.get('universities', [])) == 1"
   ]
  },
  {
   "cell_type": "code",
   "execution_count": 12,
   "metadata": {
    "collapsed": true
   },
   "outputs": [],
   "source": [
    "def faculty_cond(user):\n",
    "    return user['universities'][0].get('faculty_name') is not None"
   ]
  },
  {
   "cell_type": "code",
   "execution_count": 13,
   "metadata": {
    "collapsed": true
   },
   "outputs": [],
   "source": [
    "users_with_univ = list(filter(university_cond, users))\n",
    "users_with_fac = list(filter(faculty_cond, users_with_univ))"
   ]
  },
  {
   "cell_type": "code",
   "execution_count": 14,
   "metadata": {},
   "outputs": [
    {
     "data": {
      "text/plain": [
       "(15588, 11879)"
      ]
     },
     "execution_count": 14,
     "metadata": {},
     "output_type": "execute_result"
    }
   ],
   "source": [
    "len(users_with_univ), len(users_with_fac)"
   ]
  },
  {
   "cell_type": "code",
   "execution_count": 15,
   "metadata": {},
   "outputs": [
    {
     "data": {
      "text/plain": [
       "{'activities': 'Профессиональное ничегонеделание, завершение гештальта',\n",
       " 'bdate': '20.1.1995',\n",
       " 'books': 'Детективы в стиле \"Нуар\", научная фантастика: братья Стругацкие, Лем, серия Метро:2033 (некоторые).\\nРемарк.',\n",
       " 'can_see_all_posts': 0,\n",
       " 'can_see_audio': 1,\n",
       " 'can_write_private_message': 1,\n",
       " 'first_name': 'Dmitry',\n",
       " 'id': 45613142,\n",
       " 'interests': 'История ХХ-го века, политология, философия, психология, фурри',\n",
       " 'last_name': 'Liberman',\n",
       " 'movies': 'It\\'s a Wonderful Life, Felidae(1994 г.в.), Godfather I, II, III; Scarface, Le Professionel;Ice Age (1, 2, 3), Брат, Брат 2, В джазе только девушки, Луна 2112, Всегда говори \"Да\", Молодые львы, Спасти рядового Райана, Список Шиндлера, Balada triste de trompeta, Шестиструнный самурай, Навсикая из Долины Ветров, Небесный замок Лапута, Унесенные призраками',\n",
       " 'music': 'Elvis 4ever, fuck yeah! Modern Talking, Smokie, The Baseballs, Наутилус Помпилиус, Кино, Машина времени, Крематорий, АлисА, Кипелов, группа \"Ростов\", Deep Purple, Bob Marley, Rammstein, Linkin park, Поль Мориа, Энио Морриконе... И, конечно, Диско, Диско, Диско!',\n",
       " 'occupation': {'id': 452, 'name': 'ВГУ', 'type': 'university'},\n",
       " 'personal': {'alcohol': 4,\n",
       "  'inspired_by': 'Человеки',\n",
       "  'langs': ['Русский', 'English'],\n",
       "  'life_main': 5,\n",
       "  'people_main': 2,\n",
       "  'political': 4,\n",
       "  'religion': 'Пастафарианство',\n",
       "  'smoking': 4},\n",
       " 'relation': 5,\n",
       " 'sex': 2,\n",
       " 'status': '',\n",
       " 'universities': [{'chair': 35021,\n",
       "   'chair_name': 'Общей и социальной психологии',\n",
       "   'city': 42,\n",
       "   'country': 1,\n",
       "   'education_form': 'Full-time',\n",
       "   'education_status': \"Student (Bachelor's)\",\n",
       "   'faculty': 30285,\n",
       "   'faculty_name': 'Факультет философии и психологии',\n",
       "   'graduation': 2016,\n",
       "   'id': 452,\n",
       "   'name': 'ВГУ\\r\\n'}]}"
      ]
     },
     "execution_count": 15,
     "metadata": {},
     "output_type": "execute_result"
    }
   ],
   "source": [
    "users_with_fac[3]"
   ]
  },
  {
   "cell_type": "code",
   "execution_count": 16,
   "metadata": {},
   "outputs": [],
   "source": [
    "users_ = []\n",
    "for u in users_with_fac:\n",
    "    u.pop('occupation', None)\n",
    "    u.pop('relation_partner', None)\n",
    "    try:\n",
    "        univ = u.pop('universities')[0]\n",
    "    except:\n",
    "        univ = None\n",
    "    u.update({'univ_name': univ['name'], 'faculty_name': univ['faculty_name'],\n",
    "              'education_form': univ.get('education_form'), 'education_status': univ.get('education_status'),\n",
    "              'graduation': univ.get('graduation')})\n",
    "    \n",
    "    pers = u.pop('personal', None)\n",
    "    if pers:\n",
    "        u.update({'political': pers.get('political'), 'langs': ','.join(pers.get('langs', [])),\n",
    "                  'religion': pers.get('religion'), 'inspired_by': pers.get('inspired_by'),\n",
    "                  'people_main': pers.get('people_main'), 'life_main': pers.get('life_main'),\n",
    "                  'smoking': pers.get('smoking'), 'alcohol': pers.get('alcohol')})\n",
    "    users_.append(u)"
   ]
  },
  {
   "cell_type": "code",
   "execution_count": 17,
   "metadata": {},
   "outputs": [
    {
     "data": {
      "text/plain": [
       "{'activities': '',\n",
       " 'alcohol': 4,\n",
       " 'bdate': '19.5',\n",
       " 'books': '',\n",
       " 'can_see_all_posts': 0,\n",
       " 'can_see_audio': 0,\n",
       " 'can_write_private_message': 1,\n",
       " 'education_form': 'Full-time',\n",
       " 'education_status': 'Student (Specialist)',\n",
       " 'faculty_name': 'Архитектурный',\n",
       " 'first_name': 'Maxim',\n",
       " 'graduation': 2013,\n",
       " 'id': 3932177,\n",
       " 'inspired_by': 'Близкие люди',\n",
       " 'interests': '',\n",
       " 'langs': 'Русский,English',\n",
       " 'last_name': 'Smirnov',\n",
       " 'life_main': 6,\n",
       " 'movies': '',\n",
       " 'music': '',\n",
       " 'people_main': 2,\n",
       " 'political': 3,\n",
       " 'relation': 1,\n",
       " 'religion': 'Православие',\n",
       " 'sex': 2,\n",
       " 'smoking': 4,\n",
       " 'status': '',\n",
       " 'univ_name': 'Воронежский ГАСУ'}"
      ]
     },
     "execution_count": 17,
     "metadata": {},
     "output_type": "execute_result"
    }
   ],
   "source": [
    "users_[0]"
   ]
  },
  {
   "cell_type": "code",
   "execution_count": 18,
   "metadata": {},
   "outputs": [],
   "source": [
    "users_df = pd.DataFrame(users_)"
   ]
  },
  {
   "cell_type": "code",
   "execution_count": 27,
   "metadata": {},
   "outputs": [],
   "source": [
    "with open('meta_data/vrn_fac_raw.txt', 'w') as f:\n",
    "    f.writelines('\\n'.join(users_df.faculty_name.value_counts()[(users_df.faculty_name.value_counts() > 4)].keys().values))"
   ]
  },
  {
   "cell_type": "code",
   "execution_count": 21,
   "metadata": {},
   "outputs": [
    {
     "data": {
      "text/plain": [
       "161"
      ]
     },
     "execution_count": 21,
     "metadata": {},
     "output_type": "execute_result"
    }
   ],
   "source": [
    "(users_df.faculty_name.value_counts() > 4).sum()"
   ]
  },
  {
   "cell_type": "code",
   "execution_count": 26,
   "metadata": {},
   "outputs": [
    {
     "data": {
      "text/plain": [
       "10325"
      ]
     },
     "execution_count": 26,
     "metadata": {},
     "output_type": "execute_result"
    }
   ],
   "source": [
    "users_df.faculty_name.value_counts()[(users_df.faculty_name.value_counts() > 4)].values.sum()"
   ]
  },
  {
   "cell_type": "code",
   "execution_count": 32,
   "metadata": {},
   "outputs": [],
   "source": [
    "ing, gum, other = [], [], []\n",
    "with open('meta_data/vrn_fac.txt', 'r') as f:\n",
    "    for line in f.readlines():\n",
    "        if len(line) > 1:\n",
    "            line = line.strip()\n",
    "            if line[-1] == '0':\n",
    "                ing.append(line[:-2])\n",
    "            elif line[-1] == '1':\n",
    "                gum.append(line[:-2])\n",
    "            else:\n",
    "                other.append(line[:-2])"
   ]
  },
  {
   "cell_type": "code",
   "execution_count": 33,
   "metadata": {},
   "outputs": [
    {
     "data": {
      "text/plain": [
       "(44, 91, 14)"
      ]
     },
     "execution_count": 33,
     "metadata": {},
     "output_type": "execute_result"
    }
   ],
   "source": [
    "len(ing), len(gum), len(other)"
   ]
  },
  {
   "cell_type": "code",
   "execution_count": 34,
   "metadata": {},
   "outputs": [
    {
     "data": {
      "text/plain": [
       "(['Экономический факультет',\n",
       "  'Экономический',\n",
       "  'Факультет прикладной математики, информатики и механики'],\n",
       " ['Юридический факультет', 'Лечебный факультет', 'Факультет журналистики'],\n",
       " ['Факультет заочного обучения',\n",
       "  'Факультет экономики и управления',\n",
       "  'Факультет землеустройства и кадастров'])"
      ]
     },
     "execution_count": 34,
     "metadata": {},
     "output_type": "execute_result"
    }
   ],
   "source": [
    "ing[:3], gum[:3], other[:3]"
   ]
  },
  {
   "cell_type": "code",
   "execution_count": 35,
   "metadata": {},
   "outputs": [],
   "source": [
    "users_df['is_gum'] = None"
   ]
  },
  {
   "cell_type": "code",
   "execution_count": 36,
   "metadata": {},
   "outputs": [],
   "source": [
    "def get_is_gum(name):\n",
    "    name = name.strip()\n",
    "    if name in gum:\n",
    "        return 1\n",
    "    elif name in ing:\n",
    "        return 0\n",
    "    else: return None"
   ]
  },
  {
   "cell_type": "code",
   "execution_count": 37,
   "metadata": {},
   "outputs": [],
   "source": [
    "users_df.is_gum = users_df.faculty_name.apply(get_is_gum)"
   ]
  },
  {
   "cell_type": "code",
   "execution_count": 38,
   "metadata": {},
   "outputs": [],
   "source": [
    "users_df.dropna(subset=['is_gum'], inplace=True)"
   ]
  },
  {
   "cell_type": "code",
   "execution_count": 39,
   "metadata": {},
   "outputs": [
    {
     "data": {
      "text/plain": [
       "0.0    4282\n",
       "1.0    4057\n",
       "Name: is_gum, dtype: int64"
      ]
     },
     "execution_count": 39,
     "metadata": {},
     "output_type": "execute_result"
    }
   ],
   "source": [
    "users_df.is_gum.value_counts()"
   ]
  },
  {
   "cell_type": "code",
   "execution_count": 40,
   "metadata": {},
   "outputs": [
    {
     "data": {
      "text/plain": [
       "Index(['activities', 'alcohol', 'bdate', 'books', 'can_see_all_posts',\n",
       "       'can_see_audio', 'can_write_private_message', 'education_form',\n",
       "       'education_status', 'faculty_name', 'first_name', 'graduation', 'id',\n",
       "       'inspired_by', 'interests', 'langs', 'last_name', 'life_main', 'movies',\n",
       "       'music', 'people_main', 'political', 'relation', 'religion', 'sex',\n",
       "       'smoking', 'status', 'status_audio', 'univ_name', 'is_gum'],\n",
       "      dtype='object')"
      ]
     },
     "execution_count": 40,
     "metadata": {},
     "output_type": "execute_result"
    }
   ],
   "source": [
    "users_df.columns"
   ]
  },
  {
   "cell_type": "code",
   "execution_count": 41,
   "metadata": {},
   "outputs": [
    {
     "data": {
      "text/html": [
       "<div>\n",
       "<style>\n",
       "    .dataframe thead tr:only-child th {\n",
       "        text-align: right;\n",
       "    }\n",
       "\n",
       "    .dataframe thead th {\n",
       "        text-align: left;\n",
       "    }\n",
       "\n",
       "    .dataframe tbody tr th {\n",
       "        vertical-align: top;\n",
       "    }\n",
       "</style>\n",
       "<table border=\"1\" class=\"dataframe\">\n",
       "  <thead>\n",
       "    <tr style=\"text-align: right;\">\n",
       "      <th></th>\n",
       "      <th>activities</th>\n",
       "      <th>alcohol</th>\n",
       "      <th>bdate</th>\n",
       "      <th>books</th>\n",
       "      <th>can_see_all_posts</th>\n",
       "      <th>can_see_audio</th>\n",
       "      <th>can_write_private_message</th>\n",
       "      <th>education_form</th>\n",
       "      <th>education_status</th>\n",
       "      <th>faculty_name</th>\n",
       "      <th>first_name</th>\n",
       "      <th>graduation</th>\n",
       "      <th>id</th>\n",
       "      <th>inspired_by</th>\n",
       "      <th>interests</th>\n",
       "      <th>langs</th>\n",
       "      <th>last_name</th>\n",
       "      <th>life_main</th>\n",
       "      <th>movies</th>\n",
       "      <th>music</th>\n",
       "      <th>people_main</th>\n",
       "      <th>political</th>\n",
       "      <th>relation</th>\n",
       "      <th>religion</th>\n",
       "      <th>sex</th>\n",
       "      <th>smoking</th>\n",
       "      <th>status</th>\n",
       "      <th>status_audio</th>\n",
       "      <th>univ_name</th>\n",
       "      <th>is_gum</th>\n",
       "    </tr>\n",
       "  </thead>\n",
       "  <tbody>\n",
       "    <tr>\n",
       "      <th>0</th>\n",
       "      <td></td>\n",
       "      <td>4.0</td>\n",
       "      <td>19.5</td>\n",
       "      <td></td>\n",
       "      <td>0</td>\n",
       "      <td>0</td>\n",
       "      <td>1</td>\n",
       "      <td>Full-time</td>\n",
       "      <td>Student (Specialist)</td>\n",
       "      <td>Архитектурный</td>\n",
       "      <td>Maxim</td>\n",
       "      <td>2013.0</td>\n",
       "      <td>3932177</td>\n",
       "      <td>Близкие люди</td>\n",
       "      <td></td>\n",
       "      <td>Русский,English</td>\n",
       "      <td>Smirnov</td>\n",
       "      <td>6.0</td>\n",
       "      <td></td>\n",
       "      <td></td>\n",
       "      <td>2.0</td>\n",
       "      <td>3.0</td>\n",
       "      <td>1</td>\n",
       "      <td>Православие</td>\n",
       "      <td>2</td>\n",
       "      <td>4.0</td>\n",
       "      <td></td>\n",
       "      <td>NaN</td>\n",
       "      <td>Воронежский ГАСУ</td>\n",
       "      <td>0.0</td>\n",
       "    </tr>\n",
       "    <tr>\n",
       "      <th>2</th>\n",
       "      <td>fanático de películas de dibujos animados (Fam...</td>\n",
       "      <td>4.0</td>\n",
       "      <td>NaN</td>\n",
       "      <td>Pikul', Strugatskiy's</td>\n",
       "      <td>0</td>\n",
       "      <td>1</td>\n",
       "      <td>1</td>\n",
       "      <td>Full-time</td>\n",
       "      <td>None</td>\n",
       "      <td>Технологический факультет</td>\n",
       "      <td>Vladimir</td>\n",
       "      <td>2008.0</td>\n",
       "      <td>8126548</td>\n",
       "      <td>Хомэр Симпсон</td>\n",
       "      <td>idiomas extranjeras</td>\n",
       "      <td></td>\n",
       "      <td>Orlov</td>\n",
       "      <td>NaN</td>\n",
       "      <td></td>\n",
       "      <td>ASOT, IKON, lounge, chill-out, Solarsoul, Plac...</td>\n",
       "      <td>6.0</td>\n",
       "      <td>8.0</td>\n",
       "      <td>4</td>\n",
       "      <td>I want to believe</td>\n",
       "      <td>2</td>\n",
       "      <td>3.0</td>\n",
       "      <td>- Следите за лишним весом? - Слежу. За тем, ка...</td>\n",
       "      <td>NaN</td>\n",
       "      <td>ВГТА (бывш. ВТИ)</td>\n",
       "      <td>0.0</td>\n",
       "    </tr>\n",
       "  </tbody>\n",
       "</table>\n",
       "</div>"
      ],
      "text/plain": [
       "                                          activities  alcohol bdate  \\\n",
       "0                                                         4.0  19.5   \n",
       "2  fanático de películas de dibujos animados (Fam...      4.0   NaN   \n",
       "\n",
       "                   books  can_see_all_posts  can_see_audio  \\\n",
       "0                                         0              0   \n",
       "2  Pikul', Strugatskiy's                  0              1   \n",
       "\n",
       "   can_write_private_message education_form      education_status  \\\n",
       "0                          1      Full-time  Student (Specialist)   \n",
       "2                          1      Full-time                  None   \n",
       "\n",
       "                faculty_name first_name  graduation       id    inspired_by  \\\n",
       "0              Архитектурный      Maxim      2013.0  3932177   Близкие люди   \n",
       "2  Технологический факультет   Vladimir      2008.0  8126548  Хомэр Симпсон   \n",
       "\n",
       "             interests            langs last_name  life_main movies  \\\n",
       "0                       Русский,English   Smirnov        6.0          \n",
       "2  idiomas extranjeras                      Orlov        NaN          \n",
       "\n",
       "                                               music  people_main  political  \\\n",
       "0                                                             2.0        3.0   \n",
       "2  ASOT, IKON, lounge, chill-out, Solarsoul, Plac...          6.0        8.0   \n",
       "\n",
       "   relation           religion  sex  smoking  \\\n",
       "0         1        Православие    2      4.0   \n",
       "2         4  I want to believe    2      3.0   \n",
       "\n",
       "                                              status status_audio  \\\n",
       "0                                                             NaN   \n",
       "2  - Следите за лишним весом? - Слежу. За тем, ка...          NaN   \n",
       "\n",
       "          univ_name  is_gum  \n",
       "0  Воронежский ГАСУ     0.0  \n",
       "2  ВГТА (бывш. ВТИ)     0.0  "
      ]
     },
     "execution_count": 41,
     "metadata": {},
     "output_type": "execute_result"
    }
   ],
   "source": [
    "users_df.head(2)"
   ]
  },
  {
   "cell_type": "markdown",
   "metadata": {},
   "source": [
    "# Demographic"
   ]
  },
  {
   "cell_type": "markdown",
   "metadata": {},
   "source": [
    "## Sex"
   ]
  },
  {
   "cell_type": "code",
   "execution_count": 58,
   "metadata": {},
   "outputs": [
    {
     "data": {
      "text/plain": [
       "2    0.538379\n",
       "1    0.461621\n",
       "Name: sex, dtype: float64"
      ]
     },
     "execution_count": 58,
     "metadata": {},
     "output_type": "execute_result"
    }
   ],
   "source": [
    "users_df = users_df[users_df.sex != 0]\n",
    "users_df.sex.value_counts(True)"
   ]
  },
  {
   "cell_type": "code",
   "execution_count": 59,
   "metadata": {},
   "outputs": [
    {
     "data": {
      "text/plain": [
       "0.0    4281\n",
       "1.0    4057\n",
       "Name: is_gum, dtype: int64"
      ]
     },
     "execution_count": 59,
     "metadata": {},
     "output_type": "execute_result"
    }
   ],
   "source": [
    "users_vc = users_df.is_gum.value_counts()\n",
    "users_vc"
   ]
  },
  {
   "cell_type": "code",
   "execution_count": 60,
   "metadata": {},
   "outputs": [
    {
     "data": {
      "text/plain": [
       "224"
      ]
     },
     "execution_count": 60,
     "metadata": {},
     "output_type": "execute_result"
    }
   ],
   "source": [
    "delta = users_vc[0] - users_vc[1]\n",
    "delta"
   ]
  },
  {
   "cell_type": "code",
   "execution_count": 66,
   "metadata": {
    "collapsed": true
   },
   "outputs": [],
   "source": [
    "index_to_del = np.random.choice(users_df[users_df.is_gum == 0].index, delta, replace=False)"
   ]
  },
  {
   "cell_type": "code",
   "execution_count": 67,
   "metadata": {},
   "outputs": [
    {
     "name": "stderr",
     "output_type": "stream",
     "text": [
      "/home/digitman/miniconda3/lib/python3.6/site-packages/matplotlib/artist.py:233: MatplotlibDeprecationWarning: get_axes has been deprecated in mpl 1.5, please use the\n",
      "axes property.  A removal date has not been set.\n",
      "  stacklevel=1)\n"
     ]
    },
    {
     "data": {
      "text/plain": [
       "<matplotlib.text.Text at 0x7fbf9845e630>"
      ]
     },
     "execution_count": 67,
     "metadata": {},
     "output_type": "execute_result"
    },
    {
     "data": {
      "image/png": "[encoded data removed]",
      "text/plain": [
       "<matplotlib.figure.Figure at 0x7fbf97745198>"
      ]
     },
     "metadata": {},
     "output_type": "display_data"
    }
   ],
   "source": [
    "g = sns.countplot(x='sex', hue='is_gum',  data=users_df.drop(index_to_del))\n",
    "sns.set(font_scale=1.1)\n",
    "\n",
    "g.set_ylabel('Кол-во человек')\n",
    "g.set_xlabel('Пол')\n",
    "\n",
    "plt.xticks(range(2), ('Жен', 'Муж')) \n",
    "\n",
    "handles, labels = g.get_axes().get_legend_handles_labels()\n",
    "g.get_axes().legend(handles, ['Инженер', 'Гуманитарий'], loc='upper left')\n",
    "plt.title('Соотношение признака \"пол\" для 2х классов')"
   ]
  },
  {
   "cell_type": "markdown",
   "metadata": {},
   "source": [
    "## Alcohol"
   ]
  },
  {
   "cell_type": "code",
   "execution_count": 69,
   "metadata": {},
   "outputs": [
    {
     "data": {
      "text/plain": [
       "0.0    1526\n",
       "1.0    1431\n",
       "Name: is_gum, dtype: int64"
      ]
     },
     "execution_count": 69,
     "metadata": {},
     "output_type": "execute_result"
    }
   ],
   "source": [
    "alcohol_df = users_df.dropna(subset=['alcohol'])\n",
    "alcohol_vc = alcohol_df.is_gum.value_counts()\n",
    "alcohol_vc"
   ]
  },
  {
   "cell_type": "code",
   "execution_count": 70,
   "metadata": {},
   "outputs": [
    {
     "data": {
      "text/plain": [
       "95"
      ]
     },
     "execution_count": 70,
     "metadata": {},
     "output_type": "execute_result"
    }
   ],
   "source": [
    "delta = alcohol_vc[0] - alcohol_vc[1]\n",
    "delta"
   ]
  },
  {
   "cell_type": "code",
   "execution_count": 71,
   "metadata": {},
   "outputs": [
    {
     "name": "stderr",
     "output_type": "stream",
     "text": [
      "/home/digitman/miniconda3/lib/python3.6/site-packages/ipykernel_launcher.py:2: SettingWithCopyWarning: \n",
      "A value is trying to be set on a copy of a slice from a DataFrame\n",
      "\n",
      "See the caveats in the documentation: http://pandas.pydata.org/pandas-docs/stable/indexing.html#indexing-view-versus-copy\n",
      "  \n"
     ]
    },
    {
     "data": {
      "text/plain": [
       "1.0    1431\n",
       "0.0    1431\n",
       "Name: is_gum, dtype: int64"
      ]
     },
     "execution_count": 71,
     "metadata": {},
     "output_type": "execute_result"
    }
   ],
   "source": [
    "index_to_del = np.random.choice(alcohol_df[alcohol_df.is_gum == 0].index, delta, replace=False)\n",
    "alcohol_df.drop(index_to_del, inplace=True)\n",
    "alcohol_df.is_gum.value_counts()"
   ]
  },
  {
   "cell_type": "code",
   "execution_count": 72,
   "metadata": {},
   "outputs": [
    {
     "name": "stderr",
     "output_type": "stream",
     "text": [
      "/home/digitman/miniconda3/lib/python3.6/site-packages/pandas/core/indexing.py:517: SettingWithCopyWarning: \n",
      "A value is trying to be set on a copy of a slice from a DataFrame.\n",
      "Try using .loc[row_indexer,col_indexer] = value instead\n",
      "\n",
      "See the caveats in the documentation: http://pandas.pydata.org/pandas-docs/stable/indexing.html#indexing-view-versus-copy\n",
      "  self.obj[item] = s\n"
     ]
    }
   ],
   "source": [
    "# замена местами компромисное и нейтральное\n",
    "alcohol_df.loc[alcohol_df.alcohol == 3, 'alcohol'] = 6\n",
    "alcohol_df.loc[alcohol_df.alcohol == 4, 'alcohol'] = 3\n",
    "alcohol_df.loc[alcohol_df.alcohol == 6, 'alcohol'] = 4"
   ]
  },
  {
   "cell_type": "code",
   "execution_count": 73,
   "metadata": {},
   "outputs": [
    {
     "name": "stderr",
     "output_type": "stream",
     "text": [
      "/home/digitman/miniconda3/lib/python3.6/site-packages/matplotlib/artist.py:233: MatplotlibDeprecationWarning: get_axes has been deprecated in mpl 1.5, please use the\n",
      "axes property.  A removal date has not been set.\n",
      "  stacklevel=1)\n"
     ]
    },
    {
     "data": {
      "text/plain": [
       "<matplotlib.text.Text at 0x7fbf989f5518>"
      ]
     },
     "execution_count": 73,
     "metadata": {},
     "output_type": "execute_result"
    },
    {
     "data": {
      "image/png": "[encoded data removed]",
      "text/plain": [
       "<matplotlib.figure.Figure at 0x7fbf97be5b70>"
      ]
     },
     "metadata": {},
     "output_type": "display_data"
    }
   ],
   "source": [
    "g = sns.pointplot(x=\"alcohol\", y=\"is_gum\", data=alcohol_df, ci=80) #, kind='swarm');\n",
    "\n",
    "sns.set(font_scale=1.1)\n",
    "\n",
    "g.set_xlabel('Отношение к алкоголю')\n",
    "g.set_ylabel('Среднее значение класса\\n(Выше - больше гуманитарий, ниже - инженер)')\n",
    "\n",
    "plt.xticks(range(5), ('$Оч. негативное$', '$Негативное$', '$Нейтральное$', '$Компромисное$', '$Позитивное$')) \n",
    "\n",
    "handles, labels = g.get_axes().get_legend_handles_labels()\n",
    "plt.title('Отношение к алкоголю у технарей и гуманитариев')"
   ]
  },
  {
   "cell_type": "code",
   "execution_count": 76,
   "metadata": {},
   "outputs": [
    {
     "data": {
      "image/png": "[encoded data removed]",
      "text/plain": [
       "<matplotlib.figure.Figure at 0x7fbf9f7e4d30>"
      ]
     },
     "metadata": {},
     "output_type": "display_data"
    }
   ],
   "source": [
    "g = sns.countplot(x='alcohol', hue='is_gum',  data=alcohol_df)"
   ]
  },
  {
   "cell_type": "markdown",
   "metadata": {},
   "source": [
    "## Smoking"
   ]
  },
  {
   "cell_type": "code",
   "execution_count": 77,
   "metadata": {},
   "outputs": [
    {
     "data": {
      "text/plain": [
       "0.0    1609\n",
       "1.0    1487\n",
       "Name: is_gum, dtype: int64"
      ]
     },
     "execution_count": 77,
     "metadata": {},
     "output_type": "execute_result"
    }
   ],
   "source": [
    "smoking_df = users_df.dropna(subset=['smoking'])\n",
    "smoking_vc = smoking_df.is_gum.value_counts()\n",
    "smoking_vc"
   ]
  },
  {
   "cell_type": "code",
   "execution_count": 79,
   "metadata": {},
   "outputs": [
    {
     "data": {
      "text/plain": [
       "122"
      ]
     },
     "execution_count": 79,
     "metadata": {},
     "output_type": "execute_result"
    }
   ],
   "source": [
    "delta = smoking_vc[0] - smoking_vc[1]\n",
    "delta"
   ]
  },
  {
   "cell_type": "code",
   "execution_count": 80,
   "metadata": {},
   "outputs": [
    {
     "name": "stderr",
     "output_type": "stream",
     "text": [
      "/home/digitman/miniconda3/lib/python3.6/site-packages/ipykernel_launcher.py:2: SettingWithCopyWarning: \n",
      "A value is trying to be set on a copy of a slice from a DataFrame\n",
      "\n",
      "See the caveats in the documentation: http://pandas.pydata.org/pandas-docs/stable/indexing.html#indexing-view-versus-copy\n",
      "  \n"
     ]
    },
    {
     "data": {
      "text/plain": [
       "1.0    1487\n",
       "0.0    1487\n",
       "Name: is_gum, dtype: int64"
      ]
     },
     "execution_count": 80,
     "metadata": {},
     "output_type": "execute_result"
    }
   ],
   "source": [
    "index_to_del = np.random.choice(smoking_df[smoking_df.is_gum == 0].index, delta, replace=False)\n",
    "smoking_df.drop(index_to_del, inplace=True)\n",
    "smoking_df.is_gum.value_counts()"
   ]
  },
  {
   "cell_type": "code",
   "execution_count": 81,
   "metadata": {},
   "outputs": [
    {
     "name": "stderr",
     "output_type": "stream",
     "text": [
      "/home/digitman/miniconda3/lib/python3.6/site-packages/pandas/core/indexing.py:517: SettingWithCopyWarning: \n",
      "A value is trying to be set on a copy of a slice from a DataFrame.\n",
      "Try using .loc[row_indexer,col_indexer] = value instead\n",
      "\n",
      "See the caveats in the documentation: http://pandas.pydata.org/pandas-docs/stable/indexing.html#indexing-view-versus-copy\n",
      "  self.obj[item] = s\n"
     ]
    }
   ],
   "source": [
    "# замена местами компромисное и нейтральное\n",
    "smoking_df.loc[smoking_df.smoking == 3, 'smoking'] = 6\n",
    "smoking_df.loc[smoking_df.smoking == 4, 'smoking'] = 3\n",
    "smoking_df.loc[smoking_df.smoking == 6, 'smoking'] = 4"
   ]
  },
  {
   "cell_type": "code",
   "execution_count": 82,
   "metadata": {
    "collapsed": true
   },
   "outputs": [],
   "source": [
    "# plt.xkcd()"
   ]
  },
  {
   "cell_type": "code",
   "execution_count": 83,
   "metadata": {},
   "outputs": [
    {
     "name": "stderr",
     "output_type": "stream",
     "text": [
      "/home/digitman/miniconda3/lib/python3.6/site-packages/matplotlib/artist.py:233: MatplotlibDeprecationWarning: get_axes has been deprecated in mpl 1.5, please use the\n",
      "axes property.  A removal date has not been set.\n",
      "  stacklevel=1)\n"
     ]
    },
    {
     "data": {
      "text/plain": [
       "<matplotlib.text.Text at 0x7fbf9f7b0780>"
      ]
     },
     "execution_count": 83,
     "metadata": {},
     "output_type": "execute_result"
    },
    {
     "data": {
      "image/png": "[encoded data removed]",
      "text/plain": [
       "<matplotlib.figure.Figure at 0x7fbf971ff6a0>"
      ]
     },
     "metadata": {},
     "output_type": "display_data"
    }
   ],
   "source": [
    "g = sns.pointplot(x=\"smoking\", y=\"is_gum\", data=smoking_df, ci=80) #, kind='swarm');\n",
    "\n",
    "sns.set(font_scale=1.1)\n",
    "\n",
    "g.set_xlabel('Отношение к курению')\n",
    "g.set_ylabel('Среднее значение класса\\n(Выше - больше гуманитарий, ниже - инженер)')\n",
    "\n",
    "plt.xticks(range(5), ('$Оч. негативное$', '$Негативное$', '$Нейтральное$', '$Компромисное$', '$Позитивное$')) \n",
    "\n",
    "handles, labels = g.get_axes().get_legend_handles_labels()\n",
    "plt.title('Отношение к курению у технарей и гуманитариев')"
   ]
  },
  {
   "cell_type": "code",
   "execution_count": 84,
   "metadata": {},
   "outputs": [
    {
     "data": {
      "image/png": "[encoded data removed]",
      "text/plain": [
       "<matplotlib.figure.Figure at 0x7fbf988635c0>"
      ]
     },
     "metadata": {},
     "output_type": "display_data"
    }
   ],
   "source": [
    "g = sns.countplot(x='smoking', hue='is_gum',  data=smoking_df)"
   ]
  },
  {
   "cell_type": "markdown",
   "metadata": {},
   "source": [
    "## Political"
   ]
  },
  {
   "cell_type": "code",
   "execution_count": 85,
   "metadata": {},
   "outputs": [
    {
     "data": {
      "text/plain": [
       "0.0    1493\n",
       "1.0    1374\n",
       "Name: is_gum, dtype: int64"
      ]
     },
     "execution_count": 85,
     "metadata": {},
     "output_type": "execute_result"
    }
   ],
   "source": [
    "political_df = users_df.dropna(subset=['political'])\n",
    "political_vc = political_df.is_gum.value_counts()\n",
    "political_vc"
   ]
  },
  {
   "cell_type": "code",
   "execution_count": 86,
   "metadata": {},
   "outputs": [
    {
     "data": {
      "text/plain": [
       "119"
      ]
     },
     "execution_count": 86,
     "metadata": {},
     "output_type": "execute_result"
    }
   ],
   "source": [
    "delta = political_vc[0] - political_vc[1]\n",
    "delta"
   ]
  },
  {
   "cell_type": "code",
   "execution_count": 87,
   "metadata": {},
   "outputs": [
    {
     "name": "stderr",
     "output_type": "stream",
     "text": [
      "/home/digitman/miniconda3/lib/python3.6/site-packages/ipykernel_launcher.py:2: SettingWithCopyWarning: \n",
      "A value is trying to be set on a copy of a slice from a DataFrame\n",
      "\n",
      "See the caveats in the documentation: http://pandas.pydata.org/pandas-docs/stable/indexing.html#indexing-view-versus-copy\n",
      "  \n"
     ]
    },
    {
     "data": {
      "text/plain": [
       "1.0    1374\n",
       "0.0    1374\n",
       "Name: is_gum, dtype: int64"
      ]
     },
     "execution_count": 87,
     "metadata": {},
     "output_type": "execute_result"
    }
   ],
   "source": [
    "index_to_del = np.random.choice(political_df[political_df.is_gum == 0].index, delta, replace=False)\n",
    "political_df.drop(index_to_del, inplace=True)\n",
    "political_df.is_gum.value_counts()"
   ]
  },
  {
   "cell_type": "code",
   "execution_count": 88,
   "metadata": {},
   "outputs": [
    {
     "data": {
      "image/png": "[encoded data removed]",
      "text/plain": [
       "<matplotlib.figure.Figure at 0x7fbf9c759e80>"
      ]
     },
     "metadata": {},
     "output_type": "display_data"
    }
   ],
   "source": [
    "g = sns.pointplot(x=\"political\", y=\"is_gum\", data=political_df, ci=80) #, kind='swarm');"
   ]
  },
  {
   "cell_type": "code",
   "execution_count": 89,
   "metadata": {},
   "outputs": [
    {
     "data": {
      "image/png": "[encoded data removed]",
      "text/plain": [
       "<matplotlib.figure.Figure at 0x7fbf990d6e48>"
      ]
     },
     "metadata": {},
     "output_type": "display_data"
    }
   ],
   "source": [
    "g = sns.countplot(x='political', hue='is_gum',  data=political_df)"
   ]
  },
  {
   "cell_type": "markdown",
   "metadata": {},
   "source": [
    "## Relation"
   ]
  },
  {
   "cell_type": "code",
   "execution_count": 90,
   "metadata": {},
   "outputs": [
    {
     "data": {
      "text/plain": [
       "0.0    4281\n",
       "1.0    4057\n",
       "Name: is_gum, dtype: int64"
      ]
     },
     "execution_count": 90,
     "metadata": {},
     "output_type": "execute_result"
    }
   ],
   "source": [
    "relation_df = users_df.dropna(subset=['relation'])\n",
    "relation_vc = relation_df.is_gum.value_counts()\n",
    "relation_vc"
   ]
  },
  {
   "cell_type": "code",
   "execution_count": 91,
   "metadata": {},
   "outputs": [
    {
     "data": {
      "text/plain": [
       "224"
      ]
     },
     "execution_count": 91,
     "metadata": {},
     "output_type": "execute_result"
    }
   ],
   "source": [
    "delta = relation_vc[0] - relation_vc[1]\n",
    "delta"
   ]
  },
  {
   "cell_type": "code",
   "execution_count": 92,
   "metadata": {},
   "outputs": [
    {
     "data": {
      "text/plain": [
       "1.0    4057\n",
       "0.0    4057\n",
       "Name: is_gum, dtype: int64"
      ]
     },
     "execution_count": 92,
     "metadata": {},
     "output_type": "execute_result"
    }
   ],
   "source": [
    "index_to_del = np.random.choice(relation_df[relation_df.is_gum == 0].index, delta, replace=False)\n",
    "relation_df.drop(index_to_del, inplace=True)\n",
    "relation_df.is_gum.value_counts()"
   ]
  },
  {
   "cell_type": "code",
   "execution_count": 94,
   "metadata": {},
   "outputs": [
    {
     "data": {
      "text/plain": [
       "<matplotlib.axes._subplots.AxesSubplot at 0x7fbf9d90bdd8>"
      ]
     },
     "execution_count": 94,
     "metadata": {},
     "output_type": "execute_result"
    },
    {
     "data": {
      "image/png": "[encoded data removed]",
      "text/plain": [
       "<matplotlib.figure.Figure at 0x7fbf9c6f40f0>"
      ]
     },
     "metadata": {},
     "output_type": "display_data"
    }
   ],
   "source": [
    "sns.pointplot(x=\"relation\", y=\"is_gum\", data=relation_df, ci=80) #, kind='swarm');"
   ]
  },
  {
   "cell_type": "code",
   "execution_count": 95,
   "metadata": {},
   "outputs": [
    {
     "data": {
      "image/png": "[encoded data removed]",
      "text/plain": [
       "<matplotlib.figure.Figure at 0x7fbf9e054048>"
      ]
     },
     "metadata": {},
     "output_type": "display_data"
    }
   ],
   "source": [
    "g = sns.countplot(x='relation', hue='is_gum',  data=relation_df)"
   ]
  },
  {
   "cell_type": "markdown",
   "metadata": {},
   "source": [
    "## Life-main"
   ]
  },
  {
   "cell_type": "code",
   "execution_count": 96,
   "metadata": {},
   "outputs": [
    {
     "data": {
      "text/plain": [
       "1.0    1536\n",
       "0.0    1476\n",
       "Name: is_gum, dtype: int64"
      ]
     },
     "execution_count": 96,
     "metadata": {},
     "output_type": "execute_result"
    }
   ],
   "source": [
    "life_main_df = users_df.dropna(subset=['life_main'])\n",
    "life_main_vc = life_main_df.is_gum.value_counts()\n",
    "life_main_vc"
   ]
  },
  {
   "cell_type": "code",
   "execution_count": 97,
   "metadata": {},
   "outputs": [
    {
     "data": {
      "text/plain": [
       "60"
      ]
     },
     "execution_count": 97,
     "metadata": {},
     "output_type": "execute_result"
    }
   ],
   "source": [
    "delta = life_main_vc[1] - life_main_vc[0]\n",
    "delta"
   ]
  },
  {
   "cell_type": "code",
   "execution_count": 98,
   "metadata": {},
   "outputs": [
    {
     "name": "stderr",
     "output_type": "stream",
     "text": [
      "/home/digitman/miniconda3/lib/python3.6/site-packages/ipykernel_launcher.py:2: SettingWithCopyWarning: \n",
      "A value is trying to be set on a copy of a slice from a DataFrame\n",
      "\n",
      "See the caveats in the documentation: http://pandas.pydata.org/pandas-docs/stable/indexing.html#indexing-view-versus-copy\n",
      "  \n"
     ]
    },
    {
     "data": {
      "text/plain": [
       "1.0    1476\n",
       "0.0    1476\n",
       "Name: is_gum, dtype: int64"
      ]
     },
     "execution_count": 98,
     "metadata": {},
     "output_type": "execute_result"
    }
   ],
   "source": [
    "index_to_del = np.random.choice(life_main_df[life_main_df.is_gum == 1].index, delta, replace=False)\n",
    "life_main_df.drop(index_to_del, inplace=True)\n",
    "life_main_df.is_gum.value_counts()"
   ]
  },
  {
   "cell_type": "code",
   "execution_count": 100,
   "metadata": {},
   "outputs": [
    {
     "data": {
      "text/plain": [
       "<matplotlib.axes._subplots.AxesSubplot at 0x7fbf9c16f438>"
      ]
     },
     "execution_count": 100,
     "metadata": {},
     "output_type": "execute_result"
    },
    {
     "data": {
      "image/png": "[encoded data removed]",
      "text/plain": [
       "<matplotlib.figure.Figure at 0x7fbf9ccb8748>"
      ]
     },
     "metadata": {},
     "output_type": "display_data"
    }
   ],
   "source": [
    "sns.pointplot(x=\"life_main\", y=\"is_gum\", data=life_main_df, ci=80) #, kind='swarm');"
   ]
  },
  {
   "cell_type": "code",
   "execution_count": 101,
   "metadata": {},
   "outputs": [
    {
     "data": {
      "image/png": "[encoded data removed]",
      "text/plain": [
       "<matplotlib.figure.Figure at 0x7fbf9eac80f0>"
      ]
     },
     "metadata": {},
     "output_type": "display_data"
    }
   ],
   "source": [
    "g = sns.countplot(x='life_main', hue='is_gum',  data=life_main_df)"
   ]
  },
  {
   "cell_type": "markdown",
   "metadata": {},
   "source": [
    "## People-main"
   ]
  },
  {
   "cell_type": "code",
   "execution_count": 102,
   "metadata": {},
   "outputs": [
    {
     "data": {
      "text/plain": [
       "1.0    1557\n",
       "0.0    1547\n",
       "Name: is_gum, dtype: int64"
      ]
     },
     "execution_count": 102,
     "metadata": {},
     "output_type": "execute_result"
    }
   ],
   "source": [
    "people_main_df = users_df.dropna(subset=['people_main'])\n",
    "people_main_vc = people_main_df.is_gum.value_counts()\n",
    "people_main_vc"
   ]
  },
  {
   "cell_type": "code",
   "execution_count": 103,
   "metadata": {},
   "outputs": [
    {
     "data": {
      "text/plain": [
       "10"
      ]
     },
     "execution_count": 103,
     "metadata": {},
     "output_type": "execute_result"
    }
   ],
   "source": [
    "delta = people_main_vc[1] - people_main_vc[0]\n",
    "delta"
   ]
  },
  {
   "cell_type": "code",
   "execution_count": 104,
   "metadata": {},
   "outputs": [
    {
     "name": "stderr",
     "output_type": "stream",
     "text": [
      "/home/digitman/miniconda3/lib/python3.6/site-packages/ipykernel_launcher.py:2: SettingWithCopyWarning: \n",
      "A value is trying to be set on a copy of a slice from a DataFrame\n",
      "\n",
      "See the caveats in the documentation: http://pandas.pydata.org/pandas-docs/stable/indexing.html#indexing-view-versus-copy\n",
      "  \n"
     ]
    },
    {
     "data": {
      "text/plain": [
       "1.0    1547\n",
       "0.0    1547\n",
       "Name: is_gum, dtype: int64"
      ]
     },
     "execution_count": 104,
     "metadata": {},
     "output_type": "execute_result"
    }
   ],
   "source": [
    "index_to_del = np.random.choice(people_main_df[people_main_df.is_gum == 1].index, delta, replace=False)\n",
    "people_main_df.drop(index_to_del, inplace=True)\n",
    "people_main_df.is_gum.value_counts()"
   ]
  },
  {
   "cell_type": "code",
   "execution_count": 106,
   "metadata": {},
   "outputs": [
    {
     "data": {
      "text/plain": [
       "<matplotlib.axes._subplots.AxesSubplot at 0x7fbf9eae87b8>"
      ]
     },
     "execution_count": 106,
     "metadata": {},
     "output_type": "execute_result"
    },
    {
     "data": {
      "image/png": "[encoded data removed]",
      "text/plain": [
       "<matplotlib.figure.Figure at 0x7fbf9e43e630>"
      ]
     },
     "metadata": {},
     "output_type": "display_data"
    }
   ],
   "source": [
    "sns.pointplot(x=\"people_main\", y=\"is_gum\", data=people_main_df, ci=80) #, kind='swarm');"
   ]
  },
  {
   "cell_type": "code",
   "execution_count": 107,
   "metadata": {},
   "outputs": [
    {
     "data": {
      "text/plain": [
       "2.0    1646\n",
       "6.0     612\n",
       "5.0     390\n",
       "1.0     343\n",
       "3.0      64\n",
       "4.0      39\n",
       "Name: people_main, dtype: int64"
      ]
     },
     "execution_count": 107,
     "metadata": {},
     "output_type": "execute_result"
    }
   ],
   "source": [
    "people_main_df.people_main.value_counts()"
   ]
  },
  {
   "cell_type": "code",
   "execution_count": 108,
   "metadata": {},
   "outputs": [
    {
     "data": {
      "image/png": "[encoded data removed]",
      "text/plain": [
       "<matplotlib.figure.Figure at 0x7fbf9cc9b710>"
      ]
     },
     "metadata": {},
     "output_type": "display_data"
    }
   ],
   "source": [
    "g = sns.countplot(x='people_main', hue='is_gum',  data=people_main_df)"
   ]
  },
  {
   "cell_type": "markdown",
   "metadata": {},
   "source": [
    "## Month"
   ]
  },
  {
   "cell_type": "code",
   "execution_count": 109,
   "metadata": {},
   "outputs": [],
   "source": [
    "users_df.bdate = pd.to_datetime(users_df.bdate, errors='coerce')"
   ]
  },
  {
   "cell_type": "code",
   "execution_count": 110,
   "metadata": {
    "collapsed": true
   },
   "outputs": [],
   "source": [
    "bdate_df = users_df.dropna(subset=['bdate'])"
   ]
  },
  {
   "cell_type": "code",
   "execution_count": 111,
   "metadata": {},
   "outputs": [
    {
     "data": {
      "text/plain": [
       "0.0    2233\n",
       "1.0    2066\n",
       "Name: is_gum, dtype: int64"
      ]
     },
     "execution_count": 111,
     "metadata": {},
     "output_type": "execute_result"
    }
   ],
   "source": [
    "bdate_vc = bdate_df.is_gum.value_counts()\n",
    "bdate_vc"
   ]
  },
  {
   "cell_type": "code",
   "execution_count": 112,
   "metadata": {},
   "outputs": [
    {
     "data": {
      "text/plain": [
       "167"
      ]
     },
     "execution_count": 112,
     "metadata": {},
     "output_type": "execute_result"
    }
   ],
   "source": [
    "delta = bdate_vc[0] - bdate_vc[1]\n",
    "delta"
   ]
  },
  {
   "cell_type": "code",
   "execution_count": 113,
   "metadata": {},
   "outputs": [
    {
     "data": {
      "text/plain": [
       "(167,)"
      ]
     },
     "execution_count": 113,
     "metadata": {},
     "output_type": "execute_result"
    }
   ],
   "source": [
    "index_to_del = np.random.choice(bdate_df[bdate_df.is_gum == 0].index, delta, replace=False)\n",
    "index_to_del.shape"
   ]
  },
  {
   "cell_type": "code",
   "execution_count": 114,
   "metadata": {},
   "outputs": [
    {
     "name": "stderr",
     "output_type": "stream",
     "text": [
      "/home/digitman/miniconda3/lib/python3.6/site-packages/ipykernel_launcher.py:1: SettingWithCopyWarning: \n",
      "A value is trying to be set on a copy of a slice from a DataFrame\n",
      "\n",
      "See the caveats in the documentation: http://pandas.pydata.org/pandas-docs/stable/indexing.html#indexing-view-versus-copy\n",
      "  \"\"\"Entry point for launching an IPython kernel.\n"
     ]
    },
    {
     "data": {
      "text/plain": [
       "0.0    2066\n",
       "1.0    2066\n",
       "Name: is_gum, dtype: int64"
      ]
     },
     "execution_count": 114,
     "metadata": {},
     "output_type": "execute_result"
    }
   ],
   "source": [
    "bdate_df.drop(index_to_del, inplace=True)\n",
    "bdate_df.is_gum.value_counts()"
   ]
  },
  {
   "cell_type": "code",
   "execution_count": 115,
   "metadata": {},
   "outputs": [
    {
     "name": "stderr",
     "output_type": "stream",
     "text": [
      "/home/digitman/miniconda3/lib/python3.6/site-packages/ipykernel_launcher.py:1: SettingWithCopyWarning: \n",
      "A value is trying to be set on a copy of a slice from a DataFrame.\n",
      "Try using .loc[row_indexer,col_indexer] = value instead\n",
      "\n",
      "See the caveats in the documentation: http://pandas.pydata.org/pandas-docs/stable/indexing.html#indexing-view-versus-copy\n",
      "  \"\"\"Entry point for launching an IPython kernel.\n"
     ]
    }
   ],
   "source": [
    "bdate_df['bmonth'] = bdate_df.bdate.apply(lambda x: x.month if x else x)"
   ]
  },
  {
   "cell_type": "code",
   "execution_count": 116,
   "metadata": {},
   "outputs": [
    {
     "data": {
      "image/png": "[encoded data removed]",
      "text/plain": [
       "<matplotlib.figure.Figure at 0x7fbf9ee89710>"
      ]
     },
     "metadata": {},
     "output_type": "display_data"
    }
   ],
   "source": [
    "g = sns.countplot(x='bmonth', hue='is_gum',  data=bdate_df)"
   ]
  },
  {
   "cell_type": "markdown",
   "metadata": {},
   "source": [
    "# Comments"
   ]
  },
  {
   "cell_type": "code",
   "execution_count": 117,
   "metadata": {},
   "outputs": [
    {
     "name": "stdout",
     "output_type": "stream",
     "text": [
      "<class 'pandas.core.frame.DataFrame'>\n",
      "RangeIndex: 2969507 entries, 0 to 2969506\n",
      "Data columns (total 9 columns):\n",
      "attachments     object\n",
      "comment_id      int64\n",
      "date            int64\n",
      "from_id         int64\n",
      "likes           int64\n",
      "owner_id        object\n",
      "reply_to_cid    object\n",
      "reply_to_uid    object\n",
      "text            object\n",
      "dtypes: int64(4), object(5)\n",
      "memory usage: 203.9+ MB\n"
     ]
    }
   ],
   "source": [
    "comments_df.info()"
   ]
  },
  {
   "cell_type": "code",
   "execution_count": 118,
   "metadata": {
    "collapsed": true
   },
   "outputs": [],
   "source": [
    "comments_merged = comments_df.merge(users_df[['id', 'is_gum', 'sex']], left_on='from_id', right_on='id', how='inner')"
   ]
  },
  {
   "cell_type": "code",
   "execution_count": 119,
   "metadata": {},
   "outputs": [
    {
     "data": {
      "text/plain": [
       "3135"
      ]
     },
     "execution_count": 119,
     "metadata": {},
     "output_type": "execute_result"
    }
   ],
   "source": [
    "(comments_merged.from_id.value_counts() > 5).sum() # was 3053"
   ]
  },
  {
   "cell_type": "markdown",
   "metadata": {},
   "source": [
    "### Generating hour from comment date"
   ]
  },
  {
   "cell_type": "code",
   "execution_count": 120,
   "metadata": {},
   "outputs": [],
   "source": [
    "comments_merged['hour'] = comments_merged.date.apply(lambda x: datetime.fromtimestamp(x).hour)"
   ]
  },
  {
   "cell_type": "code",
   "execution_count": 121,
   "metadata": {},
   "outputs": [
    {
     "name": "stdout",
     "output_type": "stream",
     "text": [
      "<class 'pandas.core.frame.DataFrame'>\n",
      "Int64Index: 202818 entries, 0 to 202817\n",
      "Data columns (total 13 columns):\n",
      "attachments     13650 non-null object\n",
      "comment_id      202818 non-null int64\n",
      "date            202818 non-null int64\n",
      "from_id         202818 non-null int64\n",
      "likes           202818 non-null int64\n",
      "owner_id        202818 non-null object\n",
      "reply_to_cid    0 non-null object\n",
      "reply_to_uid    0 non-null object\n",
      "text            202818 non-null object\n",
      "id              202818 non-null int64\n",
      "is_gum          202818 non-null float64\n",
      "sex             202818 non-null int64\n",
      "hour            202818 non-null int64\n",
      "dtypes: float64(1), int64(7), object(5)\n",
      "memory usage: 21.7+ MB\n"
     ]
    }
   ],
   "source": [
    "comments_merged.info() # was 193715"
   ]
  },
  {
   "cell_type": "code",
   "execution_count": 122,
   "metadata": {},
   "outputs": [
    {
     "data": {
      "text/html": [
       "<div>\n",
       "<style>\n",
       "    .dataframe thead tr:only-child th {\n",
       "        text-align: right;\n",
       "    }\n",
       "\n",
       "    .dataframe thead th {\n",
       "        text-align: left;\n",
       "    }\n",
       "\n",
       "    .dataframe tbody tr th {\n",
       "        vertical-align: top;\n",
       "    }\n",
       "</style>\n",
       "<table border=\"1\" class=\"dataframe\">\n",
       "  <thead>\n",
       "    <tr style=\"text-align: right;\">\n",
       "      <th></th>\n",
       "      <th>attachments</th>\n",
       "      <th>comment_id</th>\n",
       "      <th>date</th>\n",
       "      <th>from_id</th>\n",
       "      <th>likes</th>\n",
       "      <th>owner_id</th>\n",
       "      <th>reply_to_cid</th>\n",
       "      <th>reply_to_uid</th>\n",
       "      <th>text</th>\n",
       "      <th>id</th>\n",
       "      <th>is_gum</th>\n",
       "      <th>sex</th>\n",
       "      <th>hour</th>\n",
       "    </tr>\n",
       "  </thead>\n",
       "  <tbody>\n",
       "    <tr>\n",
       "      <th>0</th>\n",
       "      <td>None</td>\n",
       "      <td>3804998</td>\n",
       "      <td>1506163809</td>\n",
       "      <td>170328895</td>\n",
       "      <td>9</td>\n",
       "      <td>-33041211</td>\n",
       "      <td>None</td>\n",
       "      <td>None</td>\n",
       "      <td>А еще сегодня у нас в Советском районе нашлы м...</td>\n",
       "      <td>170328895</td>\n",
       "      <td>1.0</td>\n",
       "      <td>1</td>\n",
       "      <td>13</td>\n",
       "    </tr>\n",
       "    <tr>\n",
       "      <th>1</th>\n",
       "      <td>None</td>\n",
       "      <td>3805009</td>\n",
       "      <td>1506164128</td>\n",
       "      <td>170328895</td>\n",
       "      <td>0</td>\n",
       "      <td>-33041211</td>\n",
       "      <td>None</td>\n",
       "      <td>None</td>\n",
       "      <td>[id231306085|Алиса], не слышала такой информац...</td>\n",
       "      <td>170328895</td>\n",
       "      <td>1.0</td>\n",
       "      <td>1</td>\n",
       "      <td>13</td>\n",
       "    </tr>\n",
       "    <tr>\n",
       "      <th>2</th>\n",
       "      <td>None</td>\n",
       "      <td>3805017</td>\n",
       "      <td>1506164353</td>\n",
       "      <td>170328895</td>\n",
       "      <td>0</td>\n",
       "      <td>-33041211</td>\n",
       "      <td>None</td>\n",
       "      <td>None</td>\n",
       "      <td>Алиса, хорошо бы ,у нас ни от кого такой инфор...</td>\n",
       "      <td>170328895</td>\n",
       "      <td>1.0</td>\n",
       "      <td>1</td>\n",
       "      <td>13</td>\n",
       "    </tr>\n",
       "    <tr>\n",
       "      <th>3</th>\n",
       "      <td>None</td>\n",
       "      <td>3805026</td>\n",
       "      <td>1506164822</td>\n",
       "      <td>170328895</td>\n",
       "      <td>1</td>\n",
       "      <td>-33041211</td>\n",
       "      <td>None</td>\n",
       "      <td>None</td>\n",
       "      <td>[id231306085|Алиса], да я тоже именно это и сл...</td>\n",
       "      <td>170328895</td>\n",
       "      <td>1.0</td>\n",
       "      <td>1</td>\n",
       "      <td>14</td>\n",
       "    </tr>\n",
       "    <tr>\n",
       "      <th>4</th>\n",
       "      <td>None</td>\n",
       "      <td>3805030</td>\n",
       "      <td>1506164985</td>\n",
       "      <td>170328895</td>\n",
       "      <td>6</td>\n",
       "      <td>-33041211</td>\n",
       "      <td>None</td>\n",
       "      <td>None</td>\n",
       "      <td>[id54206198|Игорь], как то уж слишком большое ...</td>\n",
       "      <td>170328895</td>\n",
       "      <td>1.0</td>\n",
       "      <td>1</td>\n",
       "      <td>14</td>\n",
       "    </tr>\n",
       "  </tbody>\n",
       "</table>\n",
       "</div>"
      ],
      "text/plain": [
       "  attachments  comment_id        date    from_id  likes   owner_id  \\\n",
       "0        None     3804998  1506163809  170328895      9  -33041211   \n",
       "1        None     3805009  1506164128  170328895      0  -33041211   \n",
       "2        None     3805017  1506164353  170328895      0  -33041211   \n",
       "3        None     3805026  1506164822  170328895      1  -33041211   \n",
       "4        None     3805030  1506164985  170328895      6  -33041211   \n",
       "\n",
       "  reply_to_cid reply_to_uid  \\\n",
       "0         None         None   \n",
       "1         None         None   \n",
       "2         None         None   \n",
       "3         None         None   \n",
       "4         None         None   \n",
       "\n",
       "                                                text         id  is_gum  sex  \\\n",
       "0  А еще сегодня у нас в Советском районе нашлы м...  170328895     1.0    1   \n",
       "1  [id231306085|Алиса], не слышала такой информац...  170328895     1.0    1   \n",
       "2  Алиса, хорошо бы ,у нас ни от кого такой инфор...  170328895     1.0    1   \n",
       "3  [id231306085|Алиса], да я тоже именно это и сл...  170328895     1.0    1   \n",
       "4  [id54206198|Игорь], как то уж слишком большое ...  170328895     1.0    1   \n",
       "\n",
       "   hour  \n",
       "0    13  \n",
       "1    13  \n",
       "2    13  \n",
       "3    14  \n",
       "4    14  "
      ]
     },
     "execution_count": 122,
     "metadata": {},
     "output_type": "execute_result"
    }
   ],
   "source": [
    "comments_merged.head()"
   ]
  },
  {
   "cell_type": "code",
   "execution_count": 123,
   "metadata": {},
   "outputs": [
    {
     "data": {
      "text/plain": [
       "0.0    116517\n",
       "1.0     86301\n",
       "Name: is_gum, dtype: int64"
      ]
     },
     "execution_count": 123,
     "metadata": {},
     "output_type": "execute_result"
    }
   ],
   "source": [
    "comments_merged.is_gum.value_counts()"
   ]
  },
  {
   "cell_type": "markdown",
   "metadata": {},
   "source": [
    "## Nice plot"
   ]
  },
  {
   "cell_type": "code",
   "execution_count": 124,
   "metadata": {
    "collapsed": true
   },
   "outputs": [],
   "source": [
    "comments_merged['Гумманитарий'] = comments_merged.is_gum"
   ]
  },
  {
   "cell_type": "code",
   "execution_count": 125,
   "metadata": {},
   "outputs": [],
   "source": [
    "comments_merged.Гумманитарий = comments_merged.Гумманитарий.map({0: False, 1: True})"
   ]
  },
  {
   "cell_type": "code",
   "execution_count": 126,
   "metadata": {},
   "outputs": [
    {
     "data": {
      "text/plain": [
       "0.0    116517\n",
       "1.0     86301\n",
       "Name: is_gum, dtype: int64"
      ]
     },
     "execution_count": 126,
     "metadata": {},
     "output_type": "execute_result"
    }
   ],
   "source": [
    "merged_vc = comments_merged.is_gum.value_counts()\n",
    "merged_vc"
   ]
  },
  {
   "cell_type": "code",
   "execution_count": 127,
   "metadata": {},
   "outputs": [
    {
     "data": {
      "text/plain": [
       "30216"
      ]
     },
     "execution_count": 127,
     "metadata": {},
     "output_type": "execute_result"
    }
   ],
   "source": [
    "delta = merged_vc[0] - merged_vc[1]\n",
    "delta"
   ]
  },
  {
   "cell_type": "code",
   "execution_count": 128,
   "metadata": {},
   "outputs": [],
   "source": [
    "index_to_del = np.random.choice(comments_merged[comments_merged.is_gum == 0].index, delta, replace=False)"
   ]
  },
  {
   "cell_type": "code",
   "execution_count": 129,
   "metadata": {},
   "outputs": [
    {
     "data": {
      "text/plain": [
       "0.0    86301\n",
       "1.0    86301\n",
       "Name: is_gum, dtype: int64"
      ]
     },
     "execution_count": 129,
     "metadata": {},
     "output_type": "execute_result"
    }
   ],
   "source": [
    "merged_ = comments_merged.drop(index_to_del)\n",
    "merged_.is_gum.value_counts()"
   ]
  },
  {
   "cell_type": "code",
   "execution_count": 130,
   "metadata": {
    "collapsed": true
   },
   "outputs": [],
   "source": [
    "%matplotlib inline"
   ]
  },
  {
   "cell_type": "code",
   "execution_count": 131,
   "metadata": {},
   "outputs": [
    {
     "name": "stderr",
     "output_type": "stream",
     "text": [
      "/home/digitman/miniconda3/lib/python3.6/site-packages/matplotlib/artist.py:233: MatplotlibDeprecationWarning: get_axes has been deprecated in mpl 1.5, please use the\n",
      "axes property.  A removal date has not been set.\n",
      "  stacklevel=1)\n"
     ]
    },
    {
     "data": {
      "text/plain": [
       "<matplotlib.legend.Legend at 0x7fbf9ff18518>"
      ]
     },
     "execution_count": 131,
     "metadata": {},
     "output_type": "execute_result"
    },
    {
     "data": {
      "image/png": "[encoded data removed]",
      "text/plain": [
       "<matplotlib.figure.Figure at 0x7fbf9fe78fd0>"
      ]
     },
     "metadata": {},
     "output_type": "display_data"
    }
   ],
   "source": [
    "sns.set(font_scale=1.1)\n",
    "g = sns.countplot(x='hour', hue='Гумманитарий', data=merged_, saturation=0.9)\n",
    "g.set_ylabel('Кол-во комментариев')\n",
    "g.set_xlabel('Время')\n",
    "plt.title('Распределение времени отправки комментариев')\n",
    "\n",
    "handles, labels = g.get_axes().get_legend_handles_labels()\n",
    "g.get_axes().legend(handles, ['Инженер', 'Гуманитарий']) #, loc='upper left')"
   ]
  },
  {
   "cell_type": "markdown",
   "metadata": {},
   "source": [
    "## Another"
   ]
  },
  {
   "cell_type": "code",
   "execution_count": 132,
   "metadata": {},
   "outputs": [
    {
     "data": {
      "image/png": "[encoded data removed]",
      "text/plain": [
       "<matplotlib.figure.Figure at 0x7fbf9c5c76a0>"
      ]
     },
     "metadata": {},
     "output_type": "display_data"
    }
   ],
   "source": [
    "g = sns.factorplot(x='is_gum', y='likes', data=merged_)\n",
    "sns.set(font_scale=1.1)\n",
    "\n",
    "g.set_xlabels('Класс')\n",
    "g.set_ylabels('Среднее кол-во лайков')\n",
    "plt.title('Распределение кол-ва лайков для 2х классов')\n",
    "\n",
    "plt.xticks(range(2), ('Инженер', 'Гуманитарий'));"
   ]
  },
  {
   "cell_type": "markdown",
   "metadata": {},
   "source": [
    "## Saving"
   ]
  },
  {
   "cell_type": "code",
   "execution_count": 133,
   "metadata": {},
   "outputs": [
    {
     "data": {
      "text/plain": [
       "(193539, 14)"
      ]
     },
     "execution_count": 133,
     "metadata": {},
     "output_type": "execute_result"
    }
   ],
   "source": [
    "index_to_del = comments_merged[comments_merged.text == ''].index\n",
    "comments_merged.drop(index_to_del, inplace=True)\n",
    "comments_merged.shape # was 185612"
   ]
  },
  {
   "cell_type": "code",
   "execution_count": 134,
   "metadata": {},
   "outputs": [],
   "source": [
    "comments_merged[['from_id', 'text', 'is_gum', 'hour', 'likes', 'sex']].to_csv('data/comments_vrn.csv.gz',\n",
    "                                                                       index=False, compression='gzip')"
   ]
  },
  {
   "cell_type": "code",
   "execution_count": null,
   "metadata": {
    "collapsed": true
   },
   "outputs": [],
   "source": []
  }
 ],
 "metadata": {
  "anaconda-cloud": {},
  "kernelspec": {
   "display_name": "Python 3",
   "language": "python",
   "name": "python3"
  },
  "language_info": {
   "codemirror_mode": {
    "name": "ipython",
    "version": 3
   },
   "file_extension": ".py",
   "mimetype": "text/x-python",
   "name": "python",
   "nbconvert_exporter": "python",
   "pygments_lexer": "ipython3",
   "version": "3.6.0"
  }
 },
 "nbformat": 4,
 "nbformat_minor": 1
}
