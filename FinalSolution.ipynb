{
 "cells": [
  {
   "cell_type": "code",
   "execution_count": 1,
   "metadata": {},
   "outputs": [
    {
     "name": "stderr",
     "output_type": "stream",
     "text": [
      "/home/digitman/miniconda3/lib/python3.6/site-packages/sklearn/cross_validation.py:44: DeprecationWarning: This module was deprecated in version 0.18 in favor of the model_selection module into which all the refactored classes and functions are moved. Also note that the interface of the new CV iterators are different from that of this module. This module will be removed in 0.20.\n",
      "  \"This module will be removed in 0.20.\", DeprecationWarning)\n"
     ]
    }
   ],
   "source": [
    "import pandas as pd\n",
    "import numpy as np\n",
    "import matplotlib.pyplot as plt\n",
    "from sklearn.feature_extraction.text import CountVectorizer, TfidfVectorizer\n",
    "from sklearn import linear_model as lm\n",
    "from sklearn.model_selection import cross_val_score, train_test_split\n",
    "from sklearn.metrics import accuracy_score\n",
    "import seaborn as sns\n",
    "from stop_words import get_stop_words\n",
    "import Stemmer\n",
    "import pymorphy2\n",
    "from segtok import segmenter\n",
    "import re\n",
    "from functools import partial\n",
    "import pickle\n",
    "import xgboost as xgb \n",
    "%matplotlib inline"
   ]
  },
  {
   "cell_type": "markdown",
   "metadata": {},
   "source": [
    "# Loading data"
   ]
  },
  {
   "cell_type": "code",
   "execution_count": 2,
   "metadata": {
    "collapsed": true
   },
   "outputs": [],
   "source": [
    "data = pd.read_csv('data/comments_vrn.csv.gz')"
   ]
  },
  {
   "cell_type": "code",
   "execution_count": 3,
   "metadata": {},
   "outputs": [
    {
     "data": {
      "text/plain": [
       "(193539, 6)"
      ]
     },
     "execution_count": 3,
     "metadata": {},
     "output_type": "execute_result"
    }
   ],
   "source": [
    "data.shape"
   ]
  },
  {
   "cell_type": "code",
   "execution_count": 4,
   "metadata": {},
   "outputs": [
    {
     "data": {
      "text/plain": [
       "0.0    111199\n",
       "1.0     82340\n",
       "Name: is_gum, dtype: int64"
      ]
     },
     "execution_count": 4,
     "metadata": {},
     "output_type": "execute_result"
    }
   ],
   "source": [
    "data.is_gum.value_counts()"
   ]
  },
  {
   "cell_type": "code",
   "execution_count": 5,
   "metadata": {},
   "outputs": [
    {
     "data": {
      "text/html": [
       "<div>\n",
       "<style>\n",
       "    .dataframe thead tr:only-child th {\n",
       "        text-align: right;\n",
       "    }\n",
       "\n",
       "    .dataframe thead th {\n",
       "        text-align: left;\n",
       "    }\n",
       "\n",
       "    .dataframe tbody tr th {\n",
       "        vertical-align: top;\n",
       "    }\n",
       "</style>\n",
       "<table border=\"1\" class=\"dataframe\">\n",
       "  <thead>\n",
       "    <tr style=\"text-align: right;\">\n",
       "      <th></th>\n",
       "      <th>from_id</th>\n",
       "      <th>text</th>\n",
       "      <th>is_gum</th>\n",
       "      <th>hour</th>\n",
       "      <th>likes</th>\n",
       "      <th>sex</th>\n",
       "    </tr>\n",
       "  </thead>\n",
       "  <tbody>\n",
       "    <tr>\n",
       "      <th>0</th>\n",
       "      <td>170328895</td>\n",
       "      <td>А еще сегодня у нас в Советском районе нашлы м...</td>\n",
       "      <td>1.0</td>\n",
       "      <td>13</td>\n",
       "      <td>9</td>\n",
       "      <td>1</td>\n",
       "    </tr>\n",
       "    <tr>\n",
       "      <th>1</th>\n",
       "      <td>170328895</td>\n",
       "      <td>[id231306085|Алиса], не слышала такой информац...</td>\n",
       "      <td>1.0</td>\n",
       "      <td>13</td>\n",
       "      <td>0</td>\n",
       "      <td>1</td>\n",
       "    </tr>\n",
       "    <tr>\n",
       "      <th>2</th>\n",
       "      <td>170328895</td>\n",
       "      <td>Алиса, хорошо бы ,у нас ни от кого такой инфор...</td>\n",
       "      <td>1.0</td>\n",
       "      <td>13</td>\n",
       "      <td>0</td>\n",
       "      <td>1</td>\n",
       "    </tr>\n",
       "  </tbody>\n",
       "</table>\n",
       "</div>"
      ],
      "text/plain": [
       "     from_id                                               text  is_gum  hour  \\\n",
       "0  170328895  А еще сегодня у нас в Советском районе нашлы м...     1.0    13   \n",
       "1  170328895  [id231306085|Алиса], не слышала такой информац...     1.0    13   \n",
       "2  170328895  Алиса, хорошо бы ,у нас ни от кого такой инфор...     1.0    13   \n",
       "\n",
       "   likes  sex  \n",
       "0      9    1  \n",
       "1      0    1  \n",
       "2      0    1  "
      ]
     },
     "execution_count": 5,
     "metadata": {},
     "output_type": "execute_result"
    }
   ],
   "source": [
    "data.head(3)"
   ]
  },
  {
   "cell_type": "markdown",
   "metadata": {},
   "source": [
    "## Examples of two classes"
   ]
  },
  {
   "cell_type": "code",
   "execution_count": 6,
   "metadata": {},
   "outputs": [
    {
     "data": {
      "text/plain": [
       "array(['Как можно быть с полторахи пиваса готовым ...!?😑', '89038575968',\n",
       "       '[id41103994|Сергей], ребята на скорой шлют нахуй! и приезжают когда хотят с аргументами у нас людей не хватает надо не жалобы писать а иски и как минздрав пару раз иск проиграет тогда они у нас и штат наберут)))',\n",
       "       'у нас в городе тоже такая фигня была. Обещали на две недели, а не было почти два месяца',\n",
       "       'И через месяц водохранка зацветет и в ней замурлыкают крокодилы 😉',\n",
       "       '[id244198838|Андрей], по крайней мере я такого чтоб годами зарплату не платили не встречал.',\n",
       "       'Почему нет дневного чата , мне скучно на физике',\n",
       "       '[id286100158|Аленка], можно, но смотри аккуратнее с носком, а то запах носка придётся запивать боярышником. носок дело тонкое )))',\n",
       "       '[id145992746|Максим], Давно - не значит, что их нету. А вот за 7-8 я вам за полчаса найду приемлемый вариант.\\nЭто к тому, что я ессно искать не буду, а к тому, что это МОЖНО найти, причём без проблем. Тем более, что сейчас идёт небольшой спад цен, связанный с отъездом студентов.\\n\\nP/S/ Маленький поиск уже сейчас мне выдал 11 вариантов на левом берегу с ценой 7- и это именно квартиры, а не комнаты с хозяевами.',\n",
       "       '[id71940076|Анастасия], у меня друзья живут в этом квартале. Но и к ним у меня всегда тот же вопрос - где были глаза? Где надземный паркинг? Ткните на карте! Нет его там и не будет. А при покупке квартиры учитывалось: близость школы, работы. а о том где ставить машину просто не думалось, авось как нибудь.'], dtype=object)"
      ]
     },
     "execution_count": 6,
     "metadata": {},
     "output_type": "execute_result"
    }
   ],
   "source": [
    "data[data.is_gum == False].text.sample(10).values"
   ]
  },
  {
   "cell_type": "code",
   "execution_count": 7,
   "metadata": {},
   "outputs": [
    {
     "data": {
      "text/plain": [
       "array(['[id142920305|Вадим], переезжай в Врн!!! 😃', '21',\n",
       "       'Блин, я вчера и такую пищу пропустил...Сколько бы я дерьма на вентилятор вбросил((((((',\n",
       "       'Тетки, пиздите своих детей! Только так можно воспитать',\n",
       "       '[id146490182|Алёна], че то слишком старый)', '54',\n",
       "       '[id354748612|Рита], я тебе могу сказать если это делается по обоюдному желанию! то наказания нет , так кая девочка сама согласилась на это!',\n",
       "       '[id168926563|Мистер], как остроумно 😑',\n",
       "       'видимо все малярийные комары по знаку зодака львы',\n",
       "       '8⃣9⃣5⃣0⃣7⃣6⃣9⃣3⃣3⃣1⃣7⃣'], dtype=object)"
      ]
     },
     "execution_count": 7,
     "metadata": {},
     "output_type": "execute_result"
    }
   ],
   "source": [
    "data[data.is_gum == True].text.sample(10).values"
   ]
  },
  {
   "cell_type": "markdown",
   "metadata": {},
   "source": [
    "# Preprocessing"
   ]
  },
  {
   "cell_type": "markdown",
   "metadata": {},
   "source": [
    "## Words count"
   ]
  },
  {
   "cell_type": "code",
   "execution_count": 8,
   "metadata": {
    "collapsed": true
   },
   "outputs": [],
   "source": [
    "lenghts_word = np.array([len(m.split()) for m in data.text.values])"
   ]
  },
  {
   "cell_type": "code",
   "execution_count": 9,
   "metadata": {},
   "outputs": [
    {
     "data": {
      "text/plain": [
       "(11.219397640785578, 6.0)"
      ]
     },
     "execution_count": 9,
     "metadata": {},
     "output_type": "execute_result"
    }
   ],
   "source": [
    "lenghts_word.mean(), np.median(lenghts_word)"
   ]
  },
  {
   "cell_type": "code",
   "execution_count": 10,
   "metadata": {},
   "outputs": [
    {
     "data": {
      "text/plain": [
       "(134898, 6)"
      ]
     },
     "execution_count": 10,
     "metadata": {},
     "output_type": "execute_result"
    }
   ],
   "source": [
    "comments = data[(lenghts_word < 60) & (lenghts_word > 3)]\n",
    "comments.shape"
   ]
  },
  {
   "cell_type": "markdown",
   "metadata": {},
   "source": [
    "## Links"
   ]
  },
  {
   "cell_type": "code",
   "execution_count": 11,
   "metadata": {},
   "outputs": [
    {
     "name": "stdout",
     "output_type": "stream",
     "text": [
      "0.46% of comments contain links\n"
     ]
    }
   ],
   "source": [
    "links = [m for m in data.text.values if 'http' in m or 'www' in m or '.ru' in m or '.com' in m] \n",
    "print('{:.2f}% of comments contain links'.format(len(links) / len(data) * 100))"
   ]
  },
  {
   "cell_type": "code",
   "execution_count": 12,
   "metadata": {
    "collapsed": true
   },
   "outputs": [],
   "source": [
    "without_link = [False if 'http' in c or 'www' in c or '.ru' in c or '.com' in c else True\n",
    "                for c in comments.text.values] "
   ]
  },
  {
   "cell_type": "code",
   "execution_count": 13,
   "metadata": {
    "collapsed": true
   },
   "outputs": [],
   "source": [
    "comments = comments[without_link]"
   ]
  },
  {
   "cell_type": "code",
   "execution_count": 14,
   "metadata": {},
   "outputs": [
    {
     "data": {
      "text/plain": [
       "(134325, 6)"
      ]
     },
     "execution_count": 14,
     "metadata": {},
     "output_type": "execute_result"
    }
   ],
   "source": [
    "comments.shape"
   ]
  },
  {
   "cell_type": "markdown",
   "metadata": {},
   "source": [
    "# Droping outliers"
   ]
  },
  {
   "cell_type": "code",
   "execution_count": 15,
   "metadata": {
    "collapsed": true
   },
   "outputs": [],
   "source": [
    "from sklearn.ensemble import IsolationForest"
   ]
  },
  {
   "cell_type": "code",
   "execution_count": 16,
   "metadata": {
    "collapsed": true
   },
   "outputs": [],
   "source": [
    "vectorizer = CountVectorizer(max_features=1000, ngram_range=(3, 3), analyzer='char')\n",
    "X = vectorizer.fit_transform([' '.join(t.split()[:4]) for t in comments.text.values])\n",
    "y = comments.is_gum.values\n",
    "# y = comments.sex.values"
   ]
  },
  {
   "cell_type": "code",
   "execution_count": 17,
   "metadata": {
    "collapsed": true
   },
   "outputs": [],
   "source": [
    "forest = IsolationForest(200, contamination=0.01, n_jobs=-1)\n",
    "forest.fit(X)\n",
    "X_pred = forest.predict(X)\n",
    "comments['len'] = [len(t) for t in comments.text.values]\n",
    "comments['outlier'] = X_pred"
   ]
  },
  {
   "cell_type": "code",
   "execution_count": 18,
   "metadata": {},
   "outputs": [
    {
     "data": {
      "text/plain": [
       "array([ '[id157428002|Анна], не расстраивайтесь....будете в Подгорном - посмотрите какие там дома эти этногруппы себе отстроили за наш с вами счет',\n",
       "       '[id259154163|Максим], всякое бывало....просто лейтенант....я был молодой',\n",
       "       '[id84212618|Виктор], кто репостит-тем более😖',\n",
       "       '[id91889000|Александр], ничего страшного. Всё что мы пьём, уже когда-то пили😏',\n",
       "       '[id11420305|Василий], наверное потому что до лета еще рановато😏',\n",
       "       '[id216426111|Марфа-Васильевна], парковка слава богу нет, а вот поставить машину можно было нигде',\n",
       "       '[id7446980|Алёна], хоть какая-то стабильность😉',\n",
       "       '[id68148212|Сергей], мобильное приложение если только)',\n",
       "       '[id16867860|Дмитрий], тогда вся Москва Ваша. 👍',\n",
       "       '[id16867860|Дмитрий], все куда-то спешат, верно?)))\\nВозвращайтесь, Воронежские девушки тут долго не ждут.'], dtype=object)"
      ]
     },
     "execution_count": 18,
     "metadata": {},
     "output_type": "execute_result"
    }
   ],
   "source": [
    "comments[comments.outlier == -1].head(10).text.values"
   ]
  },
  {
   "cell_type": "code",
   "execution_count": 19,
   "metadata": {},
   "outputs": [
    {
     "data": {
      "text/html": [
       "<div>\n",
       "<style>\n",
       "    .dataframe thead tr:only-child th {\n",
       "        text-align: right;\n",
       "    }\n",
       "\n",
       "    .dataframe thead th {\n",
       "        text-align: left;\n",
       "    }\n",
       "\n",
       "    .dataframe tbody tr th {\n",
       "        vertical-align: top;\n",
       "    }\n",
       "</style>\n",
       "<table border=\"1\" class=\"dataframe\">\n",
       "  <thead>\n",
       "    <tr style=\"text-align: right;\">\n",
       "      <th></th>\n",
       "      <th>from_id</th>\n",
       "      <th>is_gum</th>\n",
       "      <th>hour</th>\n",
       "      <th>likes</th>\n",
       "      <th>sex</th>\n",
       "      <th>len</th>\n",
       "    </tr>\n",
       "    <tr>\n",
       "      <th>outlier</th>\n",
       "      <th></th>\n",
       "      <th></th>\n",
       "      <th></th>\n",
       "      <th></th>\n",
       "      <th></th>\n",
       "      <th></th>\n",
       "    </tr>\n",
       "  </thead>\n",
       "  <tbody>\n",
       "    <tr>\n",
       "      <th>-1</th>\n",
       "      <td>1.085356e+08</td>\n",
       "      <td>0.499256</td>\n",
       "      <td>10.562500</td>\n",
       "      <td>0.473958</td>\n",
       "      <td>1.531994</td>\n",
       "      <td>99.658482</td>\n",
       "    </tr>\n",
       "    <tr>\n",
       "      <th>1</th>\n",
       "      <td>9.069213e+07</td>\n",
       "      <td>0.427347</td>\n",
       "      <td>12.658026</td>\n",
       "      <td>1.242501</td>\n",
       "      <td>1.678947</td>\n",
       "      <td>83.985306</td>\n",
       "    </tr>\n",
       "  </tbody>\n",
       "</table>\n",
       "</div>"
      ],
      "text/plain": [
       "              from_id    is_gum       hour     likes       sex        len\n",
       "outlier                                                                  \n",
       "-1       1.085356e+08  0.499256  10.562500  0.473958  1.531994  99.658482\n",
       " 1       9.069213e+07  0.427347  12.658026  1.242501  1.678947  83.985306"
      ]
     },
     "execution_count": 19,
     "metadata": {},
     "output_type": "execute_result"
    }
   ],
   "source": [
    "comments.groupby('outlier').mean()"
   ]
  },
  {
   "cell_type": "markdown",
   "metadata": {},
   "source": [
    "## Emoji"
   ]
  },
  {
   "cell_type": "code",
   "execution_count": 20,
   "metadata": {
    "collapsed": true
   },
   "outputs": [],
   "source": [
    "comments_list = comments.text.values"
   ]
  },
  {
   "cell_type": "code",
   "execution_count": 21,
   "metadata": {
    "collapsed": true
   },
   "outputs": [],
   "source": [
    "with open('meta_data/emoji.txt', 'r') as f:\n",
    "    lines = f.readlines()\n",
    "emojis = [line[0] for line in lines]"
   ]
  },
  {
   "cell_type": "code",
   "execution_count": 22,
   "metadata": {
    "collapsed": true
   },
   "outputs": [],
   "source": [
    "def is_with_emoji(comment):\n",
    "    for em in emojis:\n",
    "        if em in comment:\n",
    "            return 1\n",
    "    return 0"
   ]
  },
  {
   "cell_type": "code",
   "execution_count": 23,
   "metadata": {
    "collapsed": true
   },
   "outputs": [],
   "source": [
    "def with_emoji(comments):\n",
    "    return [is_with_emoji(c) for c in comments]"
   ]
  },
  {
   "cell_type": "code",
   "execution_count": 24,
   "metadata": {
    "collapsed": true
   },
   "outputs": [],
   "source": [
    "def get_emoji(comment, repetition=True):\n",
    "    ems = []\n",
    "    for em in emojis:\n",
    "        if not repetition:\n",
    "            if em in comment:\n",
    "                ems.append(em)\n",
    "        else:\n",
    "            founded = re.findall(em, comment)\n",
    "            if len(founded) > 0:\n",
    "                ems.extend(founded)\n",
    "    return ems"
   ]
  },
  {
   "cell_type": "markdown",
   "metadata": {},
   "source": [
    "#### If not done before"
   ]
  },
  {
   "cell_type": "code",
   "execution_count": 25,
   "metadata": {},
   "outputs": [
    {
     "data": {
      "text/plain": [
       "134325"
      ]
     },
     "execution_count": 25,
     "metadata": {},
     "output_type": "execute_result"
    }
   ],
   "source": [
    "len(comments_list)"
   ]
  },
  {
   "cell_type": "code",
   "execution_count": 38,
   "metadata": {},
   "outputs": [
    {
     "name": "stdout",
     "output_type": "stream",
     "text": [
      "CPU times: user 1h 35min 58s, sys: 804 ms, total: 1h 35min 59s\n",
      "Wall time: 1h 37min 14s\n"
     ]
    }
   ],
   "source": [
    "# %time emoji_from_comments_rep = list(map(get_emoji, comments_list))"
   ]
  },
  {
   "cell_type": "code",
   "execution_count": 39,
   "metadata": {
    "collapsed": true
   },
   "outputs": [],
   "source": [
    "# with open('meta_data/emoji_from_comments_vrn_final.pkl', 'wb') as f:\n",
    "#     pickle.dump(emoji_from_comments_rep, f)"
   ]
  },
  {
   "cell_type": "markdown",
   "metadata": {},
   "source": [
    "#### Else load"
   ]
  },
  {
   "cell_type": "code",
   "execution_count": 26,
   "metadata": {},
   "outputs": [
    {
     "data": {
      "text/plain": [
       "(134325, 134325)"
      ]
     },
     "execution_count": 26,
     "metadata": {},
     "output_type": "execute_result"
    }
   ],
   "source": [
    "with open('meta_data/emoji_from_comments_vrn_final.pkl', 'rb') as f:\n",
    "    emoji_from_comments_rep = pickle.load(f)\n",
    "emoji_from_comments_no_rep = list(map(lambda com: get_emoji(com, False), comments_list))\n",
    "len(comments_list), len(emoji_from_comments_rep)"
   ]
  },
  {
   "cell_type": "code",
   "execution_count": 27,
   "metadata": {
    "collapsed": true
   },
   "outputs": [],
   "source": [
    "def get_emoji_proportion(comments, emoji_from_coms=None, repetition=True):\n",
    "    emoji_proportion = [] \n",
    "    func = lambda com: get_emoji(com, repetition)\n",
    "    if not emoji_from_coms:\n",
    "        emoji_from_coms = list(map(func, comments))\n",
    "    \n",
    "    for i in range(len(comments)):\n",
    "        com = re.sub(' *', '', comments[i])\n",
    "        emoji_proportion.append(len(emoji_from_coms[i]) / len(com))\n",
    "    return np.array(emoji_proportion)"
   ]
  },
  {
   "cell_type": "code",
   "execution_count": 28,
   "metadata": {
    "collapsed": true
   },
   "outputs": [],
   "source": [
    "em_proportion_rep = get_emoji_proportion(comments_list, emoji_from_comments_rep)\n",
    "em_proportion_no_rep = get_emoji_proportion(comments_list, emoji_from_comments_no_rep)"
   ]
  },
  {
   "cell_type": "markdown",
   "metadata": {},
   "source": [
    "### With repetition"
   ]
  },
  {
   "cell_type": "code",
   "execution_count": 29,
   "metadata": {},
   "outputs": [
    {
     "name": "stdout",
     "output_type": "stream",
     "text": [
      "528\n"
     ]
    },
    {
     "data": {
      "text/plain": [
       "array(['С днем рождения, Легенда❤❤❤', 'больно Вы мне нужны😂😂😂',\n",
       "       'кто это слушает? 😀😀', 'Это разве так важно?😀😀😀',\n",
       "       'на логотип Pepsi похоже😋😋😋', 'Так это же провод 😀😀',\n",
       "       'Да не за что😄😄', 'А \"неправильно\" - слитно 😄😄😄',\n",
       "       'Есть✋🏻Зожники не бухают 😄', 'Я бы собачек накормила 🤗🤗🤗'], dtype=object)"
      ]
     },
     "execution_count": 29,
     "metadata": {},
     "output_type": "execute_result"
    }
   ],
   "source": [
    "print((em_proportion_rep > 0.12).sum())\n",
    "comments_list[em_proportion_rep > 0.12][:10]"
   ]
  },
  {
   "cell_type": "markdown",
   "metadata": {},
   "source": [
    "### Without repetition"
   ]
  },
  {
   "cell_type": "code",
   "execution_count": 30,
   "metadata": {},
   "outputs": [
    {
     "name": "stdout",
     "output_type": "stream",
     "text": [
      "463\n"
     ]
    },
    {
     "data": {
      "text/plain": [
       "array(['Цой жив💋\\nС днем рождения 😔', 'не люблю море 😄', 'Да не за что😄😄',\n",
       "       'Есть✋🏻Зожники не бухают 😄',\n",
       "       'Зачеет😂👍🏻 А как он туда забрался? Я тоже хочу',\n",
       "       'Классный мужик, классный Ленинград 😍👍🏻',\n",
       "       'Все деньги на качалку ушли 😀😆', 'Так оно и есть 😄',\n",
       "       'Спасибо за информацию 😇👍🏻', 'Пойду кота поцелую 😄❤'], dtype=object)"
      ]
     },
     "execution_count": 30,
     "metadata": {},
     "output_type": "execute_result"
    }
   ],
   "source": [
    "print((em_proportion_no_rep > 0.08).sum())\n",
    "comments_list[em_proportion_no_rep > 0.08][:10]"
   ]
  },
  {
   "cell_type": "markdown",
   "metadata": {},
   "source": [
    "### Proportion of alphabetical symbols"
   ]
  },
  {
   "cell_type": "code",
   "execution_count": 31,
   "metadata": {
    "collapsed": true
   },
   "outputs": [],
   "source": [
    "def get_abc_proportion(comments):\n",
    "    abc_proportion = []     \n",
    "    for i in range(len(comments)):\n",
    "        com = re.sub(' *', '', comments[i])\n",
    "        abc = re.findall('[а-яёa-z]', com, flags=re.IGNORECASE)\n",
    "        abc_proportion.append(len(abc) / len(com))\n",
    "    return np.array(abc_proportion)"
   ]
  },
  {
   "cell_type": "code",
   "execution_count": 32,
   "metadata": {
    "collapsed": true
   },
   "outputs": [],
   "source": [
    "abc_proportion = get_abc_proportion(comments_list)"
   ]
  },
  {
   "cell_type": "code",
   "execution_count": 33,
   "metadata": {},
   "outputs": [
    {
     "data": {
      "text/plain": [
       "1018"
      ]
     },
     "execution_count": 33,
     "metadata": {},
     "output_type": "execute_result"
    }
   ],
   "source": [
    "sum(abc_proportion < 0.5)"
   ]
  },
  {
   "cell_type": "code",
   "execution_count": 34,
   "metadata": {},
   "outputs": [
    {
     "data": {
      "text/plain": [
       "array(['Это как такъ ???????????',\n",
       "       '[id191122455|Катерина], что я...да так)))☺☺☺☺',\n",
       "       \".∧＿∧ \\n( ･ω･｡)つ━☆・*。 \\n⊂\\u3000 ノ \\u3000\\u3000\\u3000・゜+. \\nしーＪ\\u3000\\u3000\\u3000°。+ *´¨) \\n\\u3000\\u3000\\u3000\\u3000\\u3000\\u3000\\u3000\\u3000\\u3000.· ´¸.·*´¨) ¸.·*¨) \\n\\u3000\\u3000\\u3000\\u3000\\u3000\\u3000\\u3000\\u3000\\u3000\\u3000(¸.·´ (¸.·'* вжух,магия баяна\",\n",
       "       '[id195857273|Alexis], году в 2003',\n",
       "       '[id137387704|Юля], а чего так хмуро?))))💐',\n",
       "       '[id302984120|永恒的], а, вот ты где.',\n",
       "       '[id140593667|Юля], о том, что уже 0:22',\n",
       "       '[id20683885|Ольга], я в шоке😱😱😱😱',\n",
       "       '[id166215931|Милена], около 1,2 млн.',\n",
       "       '[id215978004|Mac], по Воронежу 12-25 т. р. зп😌'], dtype=object)"
      ]
     },
     "execution_count": 34,
     "metadata": {},
     "output_type": "execute_result"
    }
   ],
   "source": [
    "comments_list[abc_proportion < 0.5][:10]"
   ]
  },
  {
   "cell_type": "markdown",
   "metadata": {},
   "source": [
    "### Filling DataFrame"
   ]
  },
  {
   "cell_type": "code",
   "execution_count": 35,
   "metadata": {
    "collapsed": true
   },
   "outputs": [],
   "source": [
    "comments['emojis'] = [' '.join(e) for e in emoji_from_comments_rep]\n",
    "comments['em_proportion_rep'] = em_proportion_rep\n",
    "comments['em_proportion_no_rep'] = em_proportion_no_rep\n",
    "comments['abc_proportion'] = abc_proportion"
   ]
  },
  {
   "cell_type": "code",
   "execution_count": 36,
   "metadata": {},
   "outputs": [
    {
     "data": {
      "text/html": [
       "<div>\n",
       "<style>\n",
       "    .dataframe thead tr:only-child th {\n",
       "        text-align: right;\n",
       "    }\n",
       "\n",
       "    .dataframe thead th {\n",
       "        text-align: left;\n",
       "    }\n",
       "\n",
       "    .dataframe tbody tr th {\n",
       "        vertical-align: top;\n",
       "    }\n",
       "</style>\n",
       "<table border=\"1\" class=\"dataframe\">\n",
       "  <thead>\n",
       "    <tr style=\"text-align: right;\">\n",
       "      <th></th>\n",
       "      <th>from_id</th>\n",
       "      <th>text</th>\n",
       "      <th>is_gum</th>\n",
       "      <th>hour</th>\n",
       "      <th>likes</th>\n",
       "      <th>sex</th>\n",
       "      <th>len</th>\n",
       "      <th>outlier</th>\n",
       "      <th>emojis</th>\n",
       "      <th>em_proportion_rep</th>\n",
       "      <th>em_proportion_no_rep</th>\n",
       "      <th>abc_proportion</th>\n",
       "    </tr>\n",
       "  </thead>\n",
       "  <tbody>\n",
       "    <tr>\n",
       "      <th>0</th>\n",
       "      <td>170328895</td>\n",
       "      <td>А еще сегодня у нас в Советском районе нашлы м...</td>\n",
       "      <td>1.0</td>\n",
       "      <td>13</td>\n",
       "      <td>9</td>\n",
       "      <td>1</td>\n",
       "      <td>133</td>\n",
       "      <td>1</td>\n",
       "      <td></td>\n",
       "      <td>0.0</td>\n",
       "      <td>0.0</td>\n",
       "      <td>0.955752</td>\n",
       "    </tr>\n",
       "    <tr>\n",
       "      <th>1</th>\n",
       "      <td>170328895</td>\n",
       "      <td>[id231306085|Алиса], не слышала такой информац...</td>\n",
       "      <td>1.0</td>\n",
       "      <td>13</td>\n",
       "      <td>0</td>\n",
       "      <td>1</td>\n",
       "      <td>62</td>\n",
       "      <td>1</td>\n",
       "      <td></td>\n",
       "      <td>0.0</td>\n",
       "      <td>0.0</td>\n",
       "      <td>0.727273</td>\n",
       "    </tr>\n",
       "    <tr>\n",
       "      <th>2</th>\n",
       "      <td>170328895</td>\n",
       "      <td>Алиса, хорошо бы ,у нас ни от кого такой инфор...</td>\n",
       "      <td>1.0</td>\n",
       "      <td>13</td>\n",
       "      <td>0</td>\n",
       "      <td>1</td>\n",
       "      <td>123</td>\n",
       "      <td>1</td>\n",
       "      <td></td>\n",
       "      <td>0.0</td>\n",
       "      <td>0.0</td>\n",
       "      <td>0.920792</td>\n",
       "    </tr>\n",
       "  </tbody>\n",
       "</table>\n",
       "</div>"
      ],
      "text/plain": [
       "     from_id                                               text  is_gum  hour  \\\n",
       "0  170328895  А еще сегодня у нас в Советском районе нашлы м...     1.0    13   \n",
       "1  170328895  [id231306085|Алиса], не слышала такой информац...     1.0    13   \n",
       "2  170328895  Алиса, хорошо бы ,у нас ни от кого такой инфор...     1.0    13   \n",
       "\n",
       "   likes  sex  len  outlier emojis  em_proportion_rep  em_proportion_no_rep  \\\n",
       "0      9    1  133        1                       0.0                   0.0   \n",
       "1      0    1   62        1                       0.0                   0.0   \n",
       "2      0    1  123        1                       0.0                   0.0   \n",
       "\n",
       "   abc_proportion  \n",
       "0        0.955752  \n",
       "1        0.727273  \n",
       "2        0.920792  "
      ]
     },
     "execution_count": 36,
     "metadata": {},
     "output_type": "execute_result"
    }
   ],
   "source": [
    "comments.head(3)"
   ]
  },
  {
   "cell_type": "markdown",
   "metadata": {},
   "source": [
    "#### If message repeats more than one time - drop (spam)"
   ]
  },
  {
   "cell_type": "code",
   "execution_count": 37,
   "metadata": {},
   "outputs": [
    {
     "name": "stdout",
     "output_type": "stream",
     "text": [
      "318 different spam comments\n"
     ]
    }
   ],
   "source": [
    "print('{} different spam comments'.format((comments.text.value_counts() > 1).sum()))"
   ]
  },
  {
   "cell_type": "code",
   "execution_count": 38,
   "metadata": {},
   "outputs": [
    {
     "name": "stdout",
     "output_type": "stream",
     "text": [
      "989 total count of spam comments\n"
     ]
    }
   ],
   "source": [
    "print('{} total count of spam comments'\n",
    "      .format(comments.text.value_counts()[comments.text.value_counts() > 1].values.sum()))"
   ]
  },
  {
   "cell_type": "markdown",
   "metadata": {},
   "source": [
    "### Dropping outlier"
   ]
  },
  {
   "cell_type": "code",
   "execution_count": 39,
   "metadata": {
    "collapsed": true
   },
   "outputs": [],
   "source": [
    "spam_comments = comments.text.value_counts()[comments.text.value_counts() > 1].keys()\n",
    "comments = comments[comments.text.apply(lambda t: t not in spam_comments)]"
   ]
  },
  {
   "cell_type": "code",
   "execution_count": 40,
   "metadata": {
    "collapsed": true
   },
   "outputs": [],
   "source": [
    "index_to_del = comments[(comments.em_proportion_rep > 0.12).values | (comments.abc_proportion < 0.5).values | \n",
    "                        (comments.text.value_counts() != 1).values |\n",
    "                        (comments.em_proportion_no_rep > 0.08).values].index"
   ]
  },
  {
   "cell_type": "code",
   "execution_count": 41,
   "metadata": {},
   "outputs": [
    {
     "data": {
      "text/plain": [
       "(1578,)"
      ]
     },
     "execution_count": 41,
     "metadata": {},
     "output_type": "execute_result"
    }
   ],
   "source": [
    "index_to_del.shape"
   ]
  },
  {
   "cell_type": "code",
   "execution_count": 42,
   "metadata": {
    "collapsed": true
   },
   "outputs": [],
   "source": [
    "comments.drop(index_to_del, inplace=True)"
   ]
  },
  {
   "cell_type": "code",
   "execution_count": 43,
   "metadata": {},
   "outputs": [
    {
     "data": {
      "text/plain": [
       "(131758, 12)"
      ]
     },
     "execution_count": 43,
     "metadata": {},
     "output_type": "execute_result"
    }
   ],
   "source": [
    "comments.shape"
   ]
  },
  {
   "cell_type": "code",
   "execution_count": 44,
   "metadata": {
    "collapsed": true
   },
   "outputs": [],
   "source": [
    "comments_list = comments.text.values"
   ]
  },
  {
   "cell_type": "markdown",
   "metadata": {},
   "source": [
    "### Replacing id"
   ]
  },
  {
   "cell_type": "code",
   "execution_count": 45,
   "metadata": {
    "collapsed": true
   },
   "outputs": [],
   "source": [
    "comments_list = []\n",
    "for comment in comments.text.values:\n",
    "    c = comment.split()\n",
    "    if c[0].startswith('[id'):\n",
    "        c[0] = 'имя'\n",
    "    c_ = []\n",
    "    for w in c:\n",
    "        if w.startswith('id'):\n",
    "            c_.append('имя')\n",
    "        else:\n",
    "            c_.append(w)\n",
    "    comments_list.append(' '.join(c))\n",
    "comments_list = np.array(comments_list)"
   ]
  },
  {
   "cell_type": "code",
   "execution_count": 46,
   "metadata": {},
   "outputs": [
    {
     "data": {
      "text/plain": [
       "array([ 'А еще сегодня у нас в Советском районе нашлы мужчину расчлененого ,так что не факт что только на женщин нападает)Придонской гремит)))',\n",
       "       'имя не слышала такой информации ,все боятся )',\n",
       "       'Алиса, хорошо бы ,у нас ни от кого такой информации нет .Но Придонской это Советский район ,у нас не один маньяк что ли?)))'], \n",
       "      dtype='<U515')"
      ]
     },
     "execution_count": 46,
     "metadata": {},
     "output_type": "execute_result"
    }
   ],
   "source": [
    "comments_list[:3]"
   ]
  },
  {
   "cell_type": "code",
   "execution_count": 47,
   "metadata": {
    "collapsed": true
   },
   "outputs": [],
   "source": [
    "comments.text = comments_list"
   ]
  },
  {
   "cell_type": "markdown",
   "metadata": {},
   "source": [
    "# Balancing by sex"
   ]
  },
  {
   "cell_type": "markdown",
   "metadata": {},
   "source": [
    "### Not sure"
   ]
  },
  {
   "cell_type": "code",
   "execution_count": 49,
   "metadata": {
    "collapsed": true
   },
   "outputs": [],
   "source": [
    "# comments.reset_index(drop=True, inplace=True)"
   ]
  },
  {
   "cell_type": "code",
   "execution_count": 50,
   "metadata": {},
   "outputs": [
    {
     "data": {
      "text/plain": [
       "2    89296\n",
       "1    42462\n",
       "Name: sex, dtype: int64"
      ]
     },
     "execution_count": 50,
     "metadata": {},
     "output_type": "execute_result"
    }
   ],
   "source": [
    "# comments.sex.value_counts()"
   ]
  },
  {
   "cell_type": "code",
   "execution_count": 52,
   "metadata": {
    "collapsed": true
   },
   "outputs": [],
   "source": [
    "# delta = comments.sex.value_counts()[2] - comments.sex.value_counts()[1]"
   ]
  },
  {
   "cell_type": "code",
   "execution_count": 56,
   "metadata": {
    "collapsed": true
   },
   "outputs": [],
   "source": [
    "# temp = comments[comments['sex'] == 2]"
   ]
  },
  {
   "cell_type": "code",
   "execution_count": 54,
   "metadata": {},
   "outputs": [
    {
     "data": {
      "text/plain": [
       "46834"
      ]
     },
     "execution_count": 54,
     "metadata": {},
     "output_type": "execute_result"
    }
   ],
   "source": [
    "# delta"
   ]
  },
  {
   "cell_type": "code",
   "execution_count": 57,
   "metadata": {
    "collapsed": true
   },
   "outputs": [],
   "source": [
    "# to_del_indexes = temp.index.values\n",
    "# np.random.shuffle(to_del_indexes)\n",
    "# to_del_indexes = to_del_indexes[:delta]"
   ]
  },
  {
   "cell_type": "code",
   "execution_count": 59,
   "metadata": {
    "collapsed": true
   },
   "outputs": [],
   "source": [
    "# comments_ = comments.copy()"
   ]
  },
  {
   "cell_type": "code",
   "execution_count": 60,
   "metadata": {
    "collapsed": true
   },
   "outputs": [],
   "source": [
    "# comments.drop(to_del_indexes, inplace=True)"
   ]
  },
  {
   "cell_type": "code",
   "execution_count": 61,
   "metadata": {
    "collapsed": true
   },
   "outputs": [],
   "source": [
    "# comments = pd.concat((comments, temp))"
   ]
  },
  {
   "cell_type": "code",
   "execution_count": 76,
   "metadata": {
    "collapsed": true
   },
   "outputs": [],
   "source": [
    "# comments.shape"
   ]
  },
  {
   "cell_type": "code",
   "execution_count": 62,
   "metadata": {
    "collapsed": true
   },
   "outputs": [],
   "source": [
    "# comments_list = comments.text.values"
   ]
  },
  {
   "cell_type": "code",
   "execution_count": 63,
   "metadata": {},
   "outputs": [
    {
     "data": {
      "text/plain": [
       "2    42462\n",
       "1    42462\n",
       "Name: sex, dtype: int64"
      ]
     },
     "execution_count": 63,
     "metadata": {},
     "output_type": "execute_result"
    }
   ],
   "source": [
    "# comments.sex.value_counts()"
   ]
  },
  {
   "cell_type": "code",
   "execution_count": 107,
   "metadata": {},
   "outputs": [
    {
     "data": {
      "text/plain": [
       "0.0    42719\n",
       "1.0    42205\n",
       "Name: is_gum, dtype: int64"
      ]
     },
     "execution_count": 107,
     "metadata": {},
     "output_type": "execute_result"
    }
   ],
   "source": [
    "# comments.is_gum.value_counts()"
   ]
  },
  {
   "cell_type": "markdown",
   "metadata": {},
   "source": [
    "# Clearing comments"
   ]
  },
  {
   "cell_type": "code",
   "execution_count": 48,
   "metadata": {
    "collapsed": true
   },
   "outputs": [],
   "source": [
    "y = comments.is_gum.values\n",
    "adj_proportion = []\n",
    "errors = []"
   ]
  },
  {
   "cell_type": "code",
   "execution_count": 49,
   "metadata": {
    "collapsed": true
   },
   "outputs": [],
   "source": [
    "def clear_comments(comments, with_stemmer=False, with_lemmer=True, to_lower=True, without_names=False,\n",
    "                without_stop_words=False, min_word_len=None, with_emoji=False):\n",
    "    global adj_proportion\n",
    "    global errors \n",
    "    adj_proportion = []\n",
    "    errors = []\n",
    "    clear_comments = []\n",
    "    stop_words = set(get_stop_words('ru'))\n",
    "    stemmer = Stemmer.Stemmer('russian')\n",
    "    lemmer = pymorphy2.MorphAnalyzer()\n",
    "    \n",
    "    names_del = 0\n",
    "    i = -1\n",
    "    for comment in comments:\n",
    "        comment_ = comment\n",
    "        i += 1\n",
    "        if to_lower:\n",
    "            comment = comment.lower()\n",
    "        comment = re.sub('[^а-яА-ЯёЁa-zA-Z\\-]', ' ', comment)\n",
    "        comment = comment.split()\n",
    "        if without_stop_words:\n",
    "            comment = [c for c in comment if c not in stop_words]\n",
    "        if with_stemmer:\n",
    "            comment = stemmer.stemWords(comment)\n",
    "            if without_names:\n",
    "                with open('meta_data/names_from_sent.txt', 'r') as f:\n",
    "                    names = f.readlines()\n",
    "                    names = set([name.strip() for name in names])\n",
    "                before = len(comment)\n",
    "                comment = [c for c in comment if c not in names]\n",
    "                aft = len(comment)\n",
    "                names_del += before - aft\n",
    "        elif with_lemmer:\n",
    "            parsed = [lemmer.parse(c)[0] for c in comment]\n",
    "            comment = [p.normal_form for p in parsed]\n",
    "            adj = sum([1 for p in parsed if 'ADJ' in str(p.tag)])\n",
    "            if len(comment) == 0:\n",
    "                errors.append(comment_)\n",
    "                adj_proportion.append(0)\n",
    "            else:\n",
    "                adj_proportion.append(adj / len(comment))\n",
    "            if without_names:\n",
    "                with open('meta_data/names.txt', 'r') as f:\n",
    "                    names = f.readlines()\n",
    "                    names = set([name.strip() for name in names])\n",
    "                    before = len(comment)\n",
    "                    comment = [c for c in comment if c not in names]\n",
    "                    aft = len(comment)\n",
    "                    names_del += before - aft\n",
    "        if min_word_len is not None:\n",
    "            comment = [c for c in comment if len(c) >= min_word_len]\n",
    "        if with_emoji:\n",
    "            comment.extend(emoji_from_comments_rep[i])\n",
    "        clear_comments.append(' '.join(comment))\n",
    "    print('names del: {}'.format(names_del))\n",
    "    return clear_comments"
   ]
  },
  {
   "cell_type": "markdown",
   "metadata": {},
   "source": [
    "### Word"
   ]
  },
  {
   "cell_type": "code",
   "execution_count": 50,
   "metadata": {},
   "outputs": [
    {
     "name": "stdout",
     "output_type": "stream",
     "text": [
      "names del: 8877\n",
      "CPU times: user 11min 43s, sys: 8.25 s, total: 11min 52s\n",
      "Wall time: 12min 9s\n"
     ]
    }
   ],
   "source": [
    "%%time\n",
    "clear_coms = clear_comments(comments_list, min_word_len=3, with_emoji=True, with_stemmer=False,\n",
    "                            with_lemmer=True, without_names=True, without_stop_words=False)"
   ]
  },
  {
   "cell_type": "code",
   "execution_count": 51,
   "metadata": {
    "collapsed": true
   },
   "outputs": [],
   "source": [
    "comments['clear_text'] = clear_coms"
   ]
  },
  {
   "cell_type": "code",
   "execution_count": 52,
   "metadata": {},
   "outputs": [
    {
     "data": {
      "text/html": [
       "<div>\n",
       "<style>\n",
       "    .dataframe thead tr:only-child th {\n",
       "        text-align: right;\n",
       "    }\n",
       "\n",
       "    .dataframe thead th {\n",
       "        text-align: left;\n",
       "    }\n",
       "\n",
       "    .dataframe tbody tr th {\n",
       "        vertical-align: top;\n",
       "    }\n",
       "</style>\n",
       "<table border=\"1\" class=\"dataframe\">\n",
       "  <thead>\n",
       "    <tr style=\"text-align: right;\">\n",
       "      <th></th>\n",
       "      <th>from_id</th>\n",
       "      <th>text</th>\n",
       "      <th>is_gum</th>\n",
       "      <th>hour</th>\n",
       "      <th>likes</th>\n",
       "      <th>sex</th>\n",
       "      <th>len</th>\n",
       "      <th>outlier</th>\n",
       "      <th>emojis</th>\n",
       "      <th>em_proportion_rep</th>\n",
       "      <th>em_proportion_no_rep</th>\n",
       "      <th>abc_proportion</th>\n",
       "      <th>clear_text</th>\n",
       "    </tr>\n",
       "  </thead>\n",
       "  <tbody>\n",
       "    <tr>\n",
       "      <th>0</th>\n",
       "      <td>170328895</td>\n",
       "      <td>А еще сегодня у нас в Советском районе нашлы м...</td>\n",
       "      <td>1.0</td>\n",
       "      <td>13</td>\n",
       "      <td>9</td>\n",
       "      <td>1</td>\n",
       "      <td>133</td>\n",
       "      <td>1</td>\n",
       "      <td></td>\n",
       "      <td>0.0</td>\n",
       "      <td>0.0</td>\n",
       "      <td>0.955752</td>\n",
       "      <td>ещё сегодня советский район нашлый мужчина рас...</td>\n",
       "    </tr>\n",
       "    <tr>\n",
       "      <th>1</th>\n",
       "      <td>170328895</td>\n",
       "      <td>имя не слышала такой информации ,все боятся )</td>\n",
       "      <td>1.0</td>\n",
       "      <td>13</td>\n",
       "      <td>0</td>\n",
       "      <td>1</td>\n",
       "      <td>62</td>\n",
       "      <td>1</td>\n",
       "      <td></td>\n",
       "      <td>0.0</td>\n",
       "      <td>0.0</td>\n",
       "      <td>0.727273</td>\n",
       "      <td>имя слышать такой информация весь бояться</td>\n",
       "    </tr>\n",
       "  </tbody>\n",
       "</table>\n",
       "</div>"
      ],
      "text/plain": [
       "     from_id                                               text  is_gum  hour  \\\n",
       "0  170328895  А еще сегодня у нас в Советском районе нашлы м...     1.0    13   \n",
       "1  170328895      имя не слышала такой информации ,все боятся )     1.0    13   \n",
       "\n",
       "   likes  sex  len  outlier emojis  em_proportion_rep  em_proportion_no_rep  \\\n",
       "0      9    1  133        1                       0.0                   0.0   \n",
       "1      0    1   62        1                       0.0                   0.0   \n",
       "\n",
       "   abc_proportion                                         clear_text  \n",
       "0        0.955752  ещё сегодня советский район нашлый мужчина рас...  \n",
       "1        0.727273          имя слышать такой информация весь бояться  "
      ]
     },
     "execution_count": 52,
     "metadata": {},
     "output_type": "execute_result"
    }
   ],
   "source": [
    "comments.head(2)"
   ]
  },
  {
   "cell_type": "code",
   "execution_count": 53,
   "metadata": {},
   "outputs": [
    {
     "data": {
      "text/plain": [
       "[]"
      ]
     },
     "execution_count": 53,
     "metadata": {},
     "output_type": "execute_result"
    }
   ],
   "source": [
    "errors[:10]"
   ]
  },
  {
   "cell_type": "code",
   "execution_count": 54,
   "metadata": {},
   "outputs": [
    {
     "data": {
      "text/plain": [
       "['имя написать',\n",
       " 'имя там тоже открытый личка',\n",
       " 'имя так реально что большой 😂',\n",
       " 'имя даже если человек выпивать весь ровно они человек они жалко',\n",
       " 'смешной конечно женщина']"
      ]
     },
     "execution_count": 54,
     "metadata": {},
     "output_type": "execute_result"
    }
   ],
   "source": [
    "clear_coms[10:15]"
   ]
  },
  {
   "cell_type": "code",
   "execution_count": 55,
   "metadata": {},
   "outputs": [
    {
     "data": {
      "text/plain": [
       "[0.0, 0.2, 0.0, 0.08333333333333333, 0.25]"
      ]
     },
     "execution_count": 55,
     "metadata": {},
     "output_type": "execute_result"
    }
   ],
   "source": [
    "adj_proportion[10:15]"
   ]
  },
  {
   "cell_type": "code",
   "execution_count": 56,
   "metadata": {},
   "outputs": [
    {
     "name": "stdout",
     "output_type": "stream",
     "text": [
      "CPU times: user 8.57 s, sys: 84 ms, total: 8.66 s\n",
      "Wall time: 8.66 s\n"
     ]
    }
   ],
   "source": [
    "%%time\n",
    "vectorizer = CountVectorizer(max_features=10000, min_df=100, ngram_range=(1, 2), analyzer='word')\n",
    "word_features = vectorizer.fit_transform(clear_coms)"
   ]
  },
  {
   "cell_type": "code",
   "execution_count": 57,
   "metadata": {},
   "outputs": [
    {
     "data": {
      "text/plain": [
       "array(['находиться', 'обращаться', 'задолбать', 'беда', 'видео', 'бензин',\n",
       "       'видимо', 'близкие', 'зато', 'главный что', 'обратиться', 'крупный',\n",
       "       'ибо', 'невозможно', 'много', 'если быть', 'видно что', 'вокруг',\n",
       "       'жить', 'быть'], \n",
       "      dtype='<U18')"
      ]
     },
     "execution_count": 57,
     "metadata": {},
     "output_type": "execute_result"
    }
   ],
   "source": [
    "np.array(vectorizer.get_feature_names())[np.random.randint(0, 1000, 20)]"
   ]
  },
  {
   "cell_type": "code",
   "execution_count": 58,
   "metadata": {
    "collapsed": true
   },
   "outputs": [],
   "source": [
    "lr = lm.LogisticRegression()"
   ]
  },
  {
   "cell_type": "code",
   "execution_count": 59,
   "metadata": {},
   "outputs": [
    {
     "data": {
      "text/plain": [
       "0.55359819702707114"
      ]
     },
     "execution_count": 59,
     "metadata": {},
     "output_type": "execute_result"
    }
   ],
   "source": [
    "np.mean(cross_val_score(lr, word_features, comments.is_gum, cv=5))"
   ]
  },
  {
   "cell_type": "markdown",
   "metadata": {},
   "source": [
    "# Features"
   ]
  },
  {
   "cell_type": "markdown",
   "metadata": {},
   "source": [
    "### Is the first letter of sentence upper"
   ]
  },
  {
   "cell_type": "code",
   "execution_count": 60,
   "metadata": {
    "collapsed": true
   },
   "outputs": [],
   "source": [
    "def sentence_stat(comments):\n",
    "    big_letter = []\n",
    "    sents_count = []\n",
    "    for comment in comments:\n",
    "        sents = list(segmenter.split_single(re.sub('(\\)+|\\.+)', '\\n', comment)))\n",
    "        count = sum([1 for sent in sents if sent and (sent[0].isupper() or 'имя' in sent\n",
    "                                                      or (len(sent) > 1 and sent[0] == '\"' and sent[1].isupper()))])\n",
    "        total = sum([1 for sent in sents if sent.strip() != ''\n",
    "                     and re.match('.*[a-zа-яё].*', sent.strip(), flags=re.IGNORECASE)])\n",
    "        # print(count, total)\n",
    "        if total:\n",
    "            big_letter.append(count // total)\n",
    "        else:\n",
    "            big_letter.append(1)\n",
    "        if total > 3:\n",
    "            total = 4\n",
    "        if total < 1:\n",
    "            total = 1\n",
    "        sents_count.append(total)\n",
    "    return np.array(big_letter), np.array(sents_count)"
   ]
  },
  {
   "cell_type": "code",
   "execution_count": 61,
   "metadata": {},
   "outputs": [
    {
     "name": "stdout",
     "output_type": "stream",
     "text": [
      "CPU times: user 5.56 s, sys: 0 ns, total: 5.56 s\n",
      "Wall time: 5.56 s\n"
     ]
    }
   ],
   "source": [
    "%%time\n",
    "big_letter, sents_count = sentence_stat(comments_list)"
   ]
  },
  {
   "cell_type": "code",
   "execution_count": 62,
   "metadata": {},
   "outputs": [
    {
     "data": {
      "text/plain": [
       "1    75753\n",
       "2    33895\n",
       "3    12450\n",
       "4     9660\n",
       "dtype: int64"
      ]
     },
     "execution_count": 62,
     "metadata": {},
     "output_type": "execute_result"
    }
   ],
   "source": [
    "pd.Series(sents_count).value_counts()"
   ]
  },
  {
   "cell_type": "code",
   "execution_count": 63,
   "metadata": {},
   "outputs": [
    {
     "data": {
      "text/plain": [
       "1    0.559730\n",
       "2    0.264190\n",
       "3    0.100222\n",
       "4    0.075858\n",
       "dtype: float64"
      ]
     },
     "execution_count": 63,
     "metadata": {},
     "output_type": "execute_result"
    }
   ],
   "source": [
    "pd.Series(sents_count[y.astype(bool)]).value_counts(True)"
   ]
  },
  {
   "cell_type": "code",
   "execution_count": 64,
   "metadata": {},
   "outputs": [
    {
     "data": {
      "text/plain": [
       "1    0.586322\n",
       "2    0.252060\n",
       "3    0.090203\n",
       "4    0.071414\n",
       "dtype: float64"
      ]
     },
     "execution_count": 64,
     "metadata": {},
     "output_type": "execute_result"
    }
   ],
   "source": [
    "pd.Series(sents_count[~y.astype(bool)]).value_counts(True)"
   ]
  },
  {
   "cell_type": "code",
   "execution_count": 65,
   "metadata": {},
   "outputs": [
    {
     "data": {
      "text/plain": [
       "1    93185\n",
       "0    38573\n",
       "dtype: int64"
      ]
     },
     "execution_count": 65,
     "metadata": {},
     "output_type": "execute_result"
    }
   ],
   "source": [
    "pd.Series(big_letter).value_counts()"
   ]
  },
  {
   "cell_type": "markdown",
   "metadata": {},
   "source": [
    "### Punctuation count in comment"
   ]
  },
  {
   "cell_type": "code",
   "execution_count": 66,
   "metadata": {
    "collapsed": true
   },
   "outputs": [],
   "source": [
    "def punctuation_counts(comments, pattern='\\(+', partion=False):\n",
    "    if partion:\n",
    "        return [sum(len(p) for p in re.findall(pattern, c)) / len(c) for c in comments]\n",
    "    else:\n",
    "        return [1 if len(re.findall(pattern, c)) > 0 else 0 for c in comments]"
   ]
  },
  {
   "cell_type": "code",
   "execution_count": 67,
   "metadata": {
    "collapsed": true
   },
   "outputs": [],
   "source": [
    "commas = punctuation_counts(comments_list, pattern='[\\.]{2,}', partion=False)"
   ]
  },
  {
   "cell_type": "code",
   "execution_count": 68,
   "metadata": {},
   "outputs": [
    {
     "data": {
      "text/plain": [
       "0    113044\n",
       "1     18714\n",
       "dtype: int64"
      ]
     },
     "execution_count": 68,
     "metadata": {},
     "output_type": "execute_result"
    }
   ],
   "source": [
    "pd.Series(commas).value_counts()"
   ]
  },
  {
   "cell_type": "markdown",
   "metadata": {},
   "source": [
    "### Mean word length"
   ]
  },
  {
   "cell_type": "code",
   "execution_count": 69,
   "metadata": {
    "collapsed": true
   },
   "outputs": [],
   "source": [
    "def mean_word_length(comments):\n",
    "    lengths = []\n",
    "    for comment in comments:\n",
    "        comment = comment.lower()\n",
    "        comment = re.sub('[^а-яё\\-]', ' ', comment).split()\n",
    "        ls = [len(w) for w in comment]\n",
    "        if len(ls):\n",
    "            lengths.append(sum(ls) / len(ls))\n",
    "        else:\n",
    "            lengths.append(1)\n",
    "    return lengths"
   ]
  },
  {
   "cell_type": "code",
   "execution_count": 70,
   "metadata": {
    "collapsed": true
   },
   "outputs": [],
   "source": [
    "mean_length = mean_word_length(comments_list)"
   ]
  },
  {
   "cell_type": "markdown",
   "metadata": {},
   "source": [
    "### Caps WORD"
   ]
  },
  {
   "cell_type": "code",
   "execution_count": 71,
   "metadata": {
    "collapsed": true
   },
   "outputs": [],
   "source": [
    "def caps_words(comments, partion=False):\n",
    "    caps = []\n",
    "    for comment in comments:\n",
    "        count = len(re.findall('[А-ЯЁA-Z\\-]{4,}', comment))\n",
    "        total = len(comment.split())\n",
    "        if partion and total != 0:\n",
    "            caps.append(count / total * 100)\n",
    "        else:\n",
    "            caps.append(1 if count > 0 else 0)\n",
    "    return caps"
   ]
  },
  {
   "cell_type": "code",
   "execution_count": 72,
   "metadata": {
    "collapsed": true
   },
   "outputs": [],
   "source": [
    "caps = caps_words(comments_list, False)"
   ]
  },
  {
   "cell_type": "code",
   "execution_count": 73,
   "metadata": {},
   "outputs": [
    {
     "data": {
      "text/plain": [
       "0    128178\n",
       "1      3580\n",
       "dtype: int64"
      ]
     },
     "execution_count": 73,
     "metadata": {},
     "output_type": "execute_result"
    }
   ],
   "source": [
    "pd.Series(caps).value_counts()"
   ]
  },
  {
   "cell_type": "markdown",
   "metadata": {},
   "source": [
    "### English words"
   ]
  },
  {
   "cell_type": "code",
   "execution_count": 74,
   "metadata": {
    "collapsed": true
   },
   "outputs": [],
   "source": [
    "def eng_words(comments, partion=False):\n",
    "    engs = []\n",
    "    for comment in comments:\n",
    "        count = len([w for w in re.findall('[a-z\\-]{3,}', comment, flags=re.IGNORECASE) if w != 'имя'])\n",
    "        total = len(comment.split())\n",
    "        if partion and total != 0:\n",
    "            engs.append(count / total * 100)\n",
    "        else:\n",
    "            engs.append(1 if count > 0 else 0)\n",
    "    return engs"
   ]
  },
  {
   "cell_type": "code",
   "execution_count": 75,
   "metadata": {
    "collapsed": true
   },
   "outputs": [],
   "source": [
    "engs = eng_words(comments_list, False)"
   ]
  },
  {
   "cell_type": "code",
   "execution_count": 76,
   "metadata": {},
   "outputs": [
    {
     "data": {
      "text/plain": [
       "0    129737\n",
       "1      2021\n",
       "dtype: int64"
      ]
     },
     "execution_count": 76,
     "metadata": {},
     "output_type": "execute_result"
    }
   ],
   "source": [
    "pd.Series(engs).value_counts()"
   ]
  },
  {
   "cell_type": "markdown",
   "metadata": {},
   "source": [
    "### Total words"
   ]
  },
  {
   "cell_type": "code",
   "execution_count": 77,
   "metadata": {
    "collapsed": true
   },
   "outputs": [],
   "source": [
    "def total_words(comments):\n",
    "    return [len(com.split()) if len(com.split()) < 25 else 25 for com in comments]"
   ]
  },
  {
   "cell_type": "code",
   "execution_count": 78,
   "metadata": {
    "collapsed": true
   },
   "outputs": [],
   "source": [
    "words_count = total_words(comments_list)"
   ]
  },
  {
   "cell_type": "code",
   "execution_count": 79,
   "metadata": {},
   "outputs": [
    {
     "data": {
      "text/plain": [
       "25    15464\n",
       "4     14525\n",
       "5     13609\n",
       "6     12380\n",
       "7     10582\n",
       "8      9198\n",
       "9      7848\n",
       "10     6821\n",
       "11     5759\n",
       "12     5133\n",
       "dtype: int64"
      ]
     },
     "execution_count": 79,
     "metadata": {},
     "output_type": "execute_result"
    }
   ],
   "source": [
    "pd.Series(words_count).value_counts()[:10]"
   ]
  },
  {
   "cell_type": "markdown",
   "metadata": {},
   "source": [
    "### Total chars"
   ]
  },
  {
   "cell_type": "code",
   "execution_count": 80,
   "metadata": {
    "collapsed": true
   },
   "outputs": [],
   "source": [
    "def total_chars(comments):\n",
    "    return [len(com) if len(com) < 100 else 100 for com in comments]"
   ]
  },
  {
   "cell_type": "code",
   "execution_count": 81,
   "metadata": {
    "collapsed": true
   },
   "outputs": [],
   "source": [
    "chars_count = total_chars(comments_list)"
   ]
  },
  {
   "cell_type": "code",
   "execution_count": 82,
   "metadata": {},
   "outputs": [
    {
     "data": {
      "text/plain": [
       "100    30216\n",
       "28      2174\n",
       "30      2155\n",
       "26      2138\n",
       "27      2127\n",
       "31      2121\n",
       "29      2091\n",
       "33      2074\n",
       "25      2070\n",
       "32      2064\n",
       "dtype: int64"
      ]
     },
     "execution_count": 82,
     "metadata": {},
     "output_type": "execute_result"
    }
   ],
   "source": [
    "pd.Series(chars_count).value_counts()[:10]"
   ]
  },
  {
   "cell_type": "markdown",
   "metadata": {},
   "source": [
    "### All comments features together"
   ]
  },
  {
   "cell_type": "code",
   "execution_count": 83,
   "metadata": {
    "collapsed": true
   },
   "outputs": [],
   "source": [
    "from sklearn.feature_selection import VarianceThreshold"
   ]
  },
  {
   "cell_type": "code",
   "execution_count": 84,
   "metadata": {
    "collapsed": true
   },
   "outputs": [],
   "source": [
    "def get_comments_features(coms):\n",
    "    features = pd.DataFrame()\n",
    "    features['with_emoji'] = with_emoji(coms)\n",
    "    big_letter, sents_count = sentence_stat(coms)\n",
    "    features['big_letter'] = big_letter\n",
    "    features['sents_count'] = sents_count\n",
    "    features['punct_)'] = punctuation_counts(coms, pattern='\\)+')\n",
    "    features['punct_('] = punctuation_counts(coms, pattern='\\(+')\n",
    "    features['punct_?'] = punctuation_counts(coms, pattern='\\?+')\n",
    "    features['punct_!'] = punctuation_counts(coms, pattern='\\!+')\n",
    "    features['punct_..'] = punctuation_counts(coms, pattern='[\\.]{2,}')\n",
    "    features['punct_1-9'] = punctuation_counts(coms, pattern='[0-9]{1,}')\n",
    "    features['punct_\"'] = punctuation_counts(coms, pattern='\".+\"')\n",
    "    features['eng_words'] = eng_words(coms, True)\n",
    "    features['mean_word_len'] = mean_word_length(coms)\n",
    "    features['caps'] = caps_words(coms)\n",
    "    features['em_proportion_rep'] = comments['em_proportion_rep'].values\n",
    "    features['em_proportion_no_rep'] = comments['em_proportion_no_rep'].values\n",
    "    # features['adj_proportion'] = adj_proportion\n",
    "    features['abc_proportion'] = comments['abc_proportion'].values\n",
    "    features['words_count'] = total_words(coms)\n",
    "    features['chars_count'] = total_chars(coms)\n",
    "    return features"
   ]
  },
  {
   "cell_type": "code",
   "execution_count": 85,
   "metadata": {
    "collapsed": true
   },
   "outputs": [],
   "source": [
    "comment_features = get_comments_features(comments_list)"
   ]
  },
  {
   "cell_type": "code",
   "execution_count": 86,
   "metadata": {
    "collapsed": true
   },
   "outputs": [],
   "source": [
    "comment_features_list = comment_features.columns.tolist()"
   ]
  },
  {
   "cell_type": "code",
   "execution_count": 87,
   "metadata": {},
   "outputs": [
    {
     "data": {
      "text/html": [
       "<div>\n",
       "<style>\n",
       "    .dataframe thead tr:only-child th {\n",
       "        text-align: right;\n",
       "    }\n",
       "\n",
       "    .dataframe thead th {\n",
       "        text-align: left;\n",
       "    }\n",
       "\n",
       "    .dataframe tbody tr th {\n",
       "        vertical-align: top;\n",
       "    }\n",
       "</style>\n",
       "<table border=\"1\" class=\"dataframe\">\n",
       "  <thead>\n",
       "    <tr style=\"text-align: right;\">\n",
       "      <th></th>\n",
       "      <th>with_emoji</th>\n",
       "      <th>big_letter</th>\n",
       "      <th>sents_count</th>\n",
       "      <th>punct_)</th>\n",
       "      <th>punct_(</th>\n",
       "      <th>punct_?</th>\n",
       "      <th>punct_!</th>\n",
       "      <th>punct_..</th>\n",
       "      <th>punct_1-9</th>\n",
       "      <th>punct_\"</th>\n",
       "      <th>eng_words</th>\n",
       "      <th>mean_word_len</th>\n",
       "      <th>caps</th>\n",
       "      <th>em_proportion_rep</th>\n",
       "      <th>em_proportion_no_rep</th>\n",
       "      <th>abc_proportion</th>\n",
       "      <th>words_count</th>\n",
       "      <th>chars_count</th>\n",
       "    </tr>\n",
       "  </thead>\n",
       "  <tbody>\n",
       "    <tr>\n",
       "      <th>count</th>\n",
       "      <td>131758.000000</td>\n",
       "      <td>131758.000000</td>\n",
       "      <td>131758.000000</td>\n",
       "      <td>131758.000000</td>\n",
       "      <td>131758.000000</td>\n",
       "      <td>131758.000000</td>\n",
       "      <td>131758.000000</td>\n",
       "      <td>131758.000000</td>\n",
       "      <td>131758.000000</td>\n",
       "      <td>131758.000000</td>\n",
       "      <td>131758.000000</td>\n",
       "      <td>131758.000000</td>\n",
       "      <td>131758.000000</td>\n",
       "      <td>131758.000000</td>\n",
       "      <td>131758.000000</td>\n",
       "      <td>131758.000000</td>\n",
       "      <td>131758.000000</td>\n",
       "      <td>131758.000000</td>\n",
       "    </tr>\n",
       "    <tr>\n",
       "      <th>mean</th>\n",
       "      <td>0.107348</td>\n",
       "      <td>0.707244</td>\n",
       "      <td>1.666183</td>\n",
       "      <td>0.230627</td>\n",
       "      <td>0.042396</td>\n",
       "      <td>0.202652</td>\n",
       "      <td>0.125776</td>\n",
       "      <td>0.142033</td>\n",
       "      <td>0.119439</td>\n",
       "      <td>0.053113</td>\n",
       "      <td>0.297779</td>\n",
       "      <td>4.662089</td>\n",
       "      <td>0.027171</td>\n",
       "      <td>0.003154</td>\n",
       "      <td>0.002672</td>\n",
       "      <td>0.834683</td>\n",
       "      <td>11.547155</td>\n",
       "      <td>59.567396</td>\n",
       "    </tr>\n",
       "    <tr>\n",
       "      <th>std</th>\n",
       "      <td>0.309557</td>\n",
       "      <td>0.455029</td>\n",
       "      <td>0.922643</td>\n",
       "      <td>0.421236</td>\n",
       "      <td>0.201491</td>\n",
       "      <td>0.401977</td>\n",
       "      <td>0.331598</td>\n",
       "      <td>0.349085</td>\n",
       "      <td>0.324305</td>\n",
       "      <td>0.224259</td>\n",
       "      <td>3.316524</td>\n",
       "      <td>0.970924</td>\n",
       "      <td>0.162582</td>\n",
       "      <td>0.011219</td>\n",
       "      <td>0.009081</td>\n",
       "      <td>0.120017</td>\n",
       "      <td>6.913353</td>\n",
       "      <td>29.130016</td>\n",
       "    </tr>\n",
       "    <tr>\n",
       "      <th>min</th>\n",
       "      <td>0.000000</td>\n",
       "      <td>0.000000</td>\n",
       "      <td>1.000000</td>\n",
       "      <td>0.000000</td>\n",
       "      <td>0.000000</td>\n",
       "      <td>0.000000</td>\n",
       "      <td>0.000000</td>\n",
       "      <td>0.000000</td>\n",
       "      <td>0.000000</td>\n",
       "      <td>0.000000</td>\n",
       "      <td>0.000000</td>\n",
       "      <td>1.000000</td>\n",
       "      <td>0.000000</td>\n",
       "      <td>0.000000</td>\n",
       "      <td>0.000000</td>\n",
       "      <td>0.500000</td>\n",
       "      <td>4.000000</td>\n",
       "      <td>7.000000</td>\n",
       "    </tr>\n",
       "    <tr>\n",
       "      <th>25%</th>\n",
       "      <td>0.000000</td>\n",
       "      <td>0.000000</td>\n",
       "      <td>1.000000</td>\n",
       "      <td>0.000000</td>\n",
       "      <td>0.000000</td>\n",
       "      <td>0.000000</td>\n",
       "      <td>0.000000</td>\n",
       "      <td>0.000000</td>\n",
       "      <td>0.000000</td>\n",
       "      <td>0.000000</td>\n",
       "      <td>0.000000</td>\n",
       "      <td>4.000000</td>\n",
       "      <td>0.000000</td>\n",
       "      <td>0.000000</td>\n",
       "      <td>0.000000</td>\n",
       "      <td>0.746667</td>\n",
       "      <td>6.000000</td>\n",
       "      <td>33.000000</td>\n",
       "    </tr>\n",
       "    <tr>\n",
       "      <th>50%</th>\n",
       "      <td>0.000000</td>\n",
       "      <td>1.000000</td>\n",
       "      <td>1.000000</td>\n",
       "      <td>0.000000</td>\n",
       "      <td>0.000000</td>\n",
       "      <td>0.000000</td>\n",
       "      <td>0.000000</td>\n",
       "      <td>0.000000</td>\n",
       "      <td>0.000000</td>\n",
       "      <td>0.000000</td>\n",
       "      <td>0.000000</td>\n",
       "      <td>4.600000</td>\n",
       "      <td>0.000000</td>\n",
       "      <td>0.000000</td>\n",
       "      <td>0.000000</td>\n",
       "      <td>0.861702</td>\n",
       "      <td>9.000000</td>\n",
       "      <td>54.000000</td>\n",
       "    </tr>\n",
       "    <tr>\n",
       "      <th>75%</th>\n",
       "      <td>0.000000</td>\n",
       "      <td>1.000000</td>\n",
       "      <td>2.000000</td>\n",
       "      <td>0.000000</td>\n",
       "      <td>0.000000</td>\n",
       "      <td>0.000000</td>\n",
       "      <td>0.000000</td>\n",
       "      <td>0.000000</td>\n",
       "      <td>0.000000</td>\n",
       "      <td>0.000000</td>\n",
       "      <td>0.000000</td>\n",
       "      <td>5.200000</td>\n",
       "      <td>0.000000</td>\n",
       "      <td>0.000000</td>\n",
       "      <td>0.000000</td>\n",
       "      <td>0.937500</td>\n",
       "      <td>16.000000</td>\n",
       "      <td>94.000000</td>\n",
       "    </tr>\n",
       "    <tr>\n",
       "      <th>max</th>\n",
       "      <td>1.000000</td>\n",
       "      <td>1.000000</td>\n",
       "      <td>4.000000</td>\n",
       "      <td>1.000000</td>\n",
       "      <td>1.000000</td>\n",
       "      <td>1.000000</td>\n",
       "      <td>1.000000</td>\n",
       "      <td>1.000000</td>\n",
       "      <td>1.000000</td>\n",
       "      <td>1.000000</td>\n",
       "      <td>110.000000</td>\n",
       "      <td>37.000000</td>\n",
       "      <td>1.000000</td>\n",
       "      <td>0.120000</td>\n",
       "      <td>0.080000</td>\n",
       "      <td>1.000000</td>\n",
       "      <td>25.000000</td>\n",
       "      <td>100.000000</td>\n",
       "    </tr>\n",
       "  </tbody>\n",
       "</table>\n",
       "</div>"
      ],
      "text/plain": [
       "          with_emoji     big_letter    sents_count        punct_)  \\\n",
       "count  131758.000000  131758.000000  131758.000000  131758.000000   \n",
       "mean        0.107348       0.707244       1.666183       0.230627   \n",
       "std         0.309557       0.455029       0.922643       0.421236   \n",
       "min         0.000000       0.000000       1.000000       0.000000   \n",
       "25%         0.000000       0.000000       1.000000       0.000000   \n",
       "50%         0.000000       1.000000       1.000000       0.000000   \n",
       "75%         0.000000       1.000000       2.000000       0.000000   \n",
       "max         1.000000       1.000000       4.000000       1.000000   \n",
       "\n",
       "             punct_(        punct_?        punct_!       punct_..  \\\n",
       "count  131758.000000  131758.000000  131758.000000  131758.000000   \n",
       "mean        0.042396       0.202652       0.125776       0.142033   \n",
       "std         0.201491       0.401977       0.331598       0.349085   \n",
       "min         0.000000       0.000000       0.000000       0.000000   \n",
       "25%         0.000000       0.000000       0.000000       0.000000   \n",
       "50%         0.000000       0.000000       0.000000       0.000000   \n",
       "75%         0.000000       0.000000       0.000000       0.000000   \n",
       "max         1.000000       1.000000       1.000000       1.000000   \n",
       "\n",
       "           punct_1-9        punct_\"      eng_words  mean_word_len  \\\n",
       "count  131758.000000  131758.000000  131758.000000  131758.000000   \n",
       "mean        0.119439       0.053113       0.297779       4.662089   \n",
       "std         0.324305       0.224259       3.316524       0.970924   \n",
       "min         0.000000       0.000000       0.000000       1.000000   \n",
       "25%         0.000000       0.000000       0.000000       4.000000   \n",
       "50%         0.000000       0.000000       0.000000       4.600000   \n",
       "75%         0.000000       0.000000       0.000000       5.200000   \n",
       "max         1.000000       1.000000     110.000000      37.000000   \n",
       "\n",
       "                caps  em_proportion_rep  em_proportion_no_rep  abc_proportion  \\\n",
       "count  131758.000000      131758.000000         131758.000000   131758.000000   \n",
       "mean        0.027171           0.003154              0.002672        0.834683   \n",
       "std         0.162582           0.011219              0.009081        0.120017   \n",
       "min         0.000000           0.000000              0.000000        0.500000   \n",
       "25%         0.000000           0.000000              0.000000        0.746667   \n",
       "50%         0.000000           0.000000              0.000000        0.861702   \n",
       "75%         0.000000           0.000000              0.000000        0.937500   \n",
       "max         1.000000           0.120000              0.080000        1.000000   \n",
       "\n",
       "         words_count    chars_count  \n",
       "count  131758.000000  131758.000000  \n",
       "mean       11.547155      59.567396  \n",
       "std         6.913353      29.130016  \n",
       "min         4.000000       7.000000  \n",
       "25%         6.000000      33.000000  \n",
       "50%         9.000000      54.000000  \n",
       "75%        16.000000      94.000000  \n",
       "max        25.000000     100.000000  "
      ]
     },
     "execution_count": 87,
     "metadata": {},
     "output_type": "execute_result"
    }
   ],
   "source": [
    "comment_features.describe()"
   ]
  },
  {
   "cell_type": "code",
   "execution_count": 88,
   "metadata": {
    "collapsed": true
   },
   "outputs": [],
   "source": [
    "from sklearn import ensemble\n",
    "from xgboost import XGBClassifier"
   ]
  },
  {
   "cell_type": "code",
   "execution_count": 89,
   "metadata": {
    "collapsed": true
   },
   "outputs": [],
   "source": [
    "X = comment_features.values"
   ]
  },
  {
   "cell_type": "code",
   "execution_count": 90,
   "metadata": {},
   "outputs": [
    {
     "data": {
      "text/plain": [
       "(131758, 18)"
      ]
     },
     "execution_count": 90,
     "metadata": {},
     "output_type": "execute_result"
    }
   ],
   "source": [
    "X.shape"
   ]
  },
  {
   "cell_type": "code",
   "execution_count": 91,
   "metadata": {
    "collapsed": true
   },
   "outputs": [],
   "source": [
    "rf = ensemble.RandomForestClassifier(100, n_jobs=-1)"
   ]
  },
  {
   "cell_type": "code",
   "execution_count": 92,
   "metadata": {},
   "outputs": [
    {
     "name": "stdout",
     "output_type": "stream",
     "text": [
      "0.524119976045 0.00647896243553\n"
     ]
    }
   ],
   "source": [
    "baseline_scores = cross_val_score(rf, X, y, cv=5)\n",
    "print(baseline_scores.mean(), baseline_scores.std())"
   ]
  },
  {
   "cell_type": "markdown",
   "metadata": {},
   "source": [
    "---"
   ]
  },
  {
   "cell_type": "code",
   "execution_count": 93,
   "metadata": {
    "collapsed": true
   },
   "outputs": [],
   "source": [
    "gb = XGBClassifier()"
   ]
  },
  {
   "cell_type": "code",
   "execution_count": 94,
   "metadata": {},
   "outputs": [
    {
     "name": "stdout",
     "output_type": "stream",
     "text": [
      "0.549560696258 0.0187862997332\n"
     ]
    }
   ],
   "source": [
    "baseline_scores = cross_val_score(gb, X, y, cv=5)\n",
    "print(baseline_scores.mean(), baseline_scores.std())"
   ]
  },
  {
   "cell_type": "markdown",
   "metadata": {},
   "source": [
    "---"
   ]
  },
  {
   "cell_type": "code",
   "execution_count": 95,
   "metadata": {
    "collapsed": true
   },
   "outputs": [],
   "source": [
    "lr = lm.LogisticRegression()"
   ]
  },
  {
   "cell_type": "code",
   "execution_count": 96,
   "metadata": {},
   "outputs": [
    {
     "name": "stdout",
     "output_type": "stream",
     "text": [
      "0.551291135363 0.0146654394571\n"
     ]
    }
   ],
   "source": [
    "baseline_scores = cross_val_score(lr, X, y, cv=5)\n",
    "print(baseline_scores.mean(), baseline_scores.std())"
   ]
  },
  {
   "cell_type": "markdown",
   "metadata": {},
   "source": [
    "### Feature selection"
   ]
  },
  {
   "cell_type": "code",
   "execution_count": 97,
   "metadata": {
    "collapsed": true
   },
   "outputs": [],
   "source": [
    "from sklearn.feature_selection import SelectKBest, f_regression, mutual_info_regression, RFE, SelectFromModel"
   ]
  },
  {
   "cell_type": "code",
   "execution_count": 98,
   "metadata": {
    "collapsed": true
   },
   "outputs": [],
   "source": [
    "sel = VarianceThreshold(0.5)\n",
    "sel.fit(X, y)\n",
    "X_ = sel.transform(X)"
   ]
  },
  {
   "cell_type": "code",
   "execution_count": 99,
   "metadata": {},
   "outputs": [
    {
     "data": {
      "text/plain": [
       "(131758, 5)"
      ]
     },
     "execution_count": 99,
     "metadata": {},
     "output_type": "execute_result"
    }
   ],
   "source": [
    "X_.shape"
   ]
  },
  {
   "cell_type": "code",
   "execution_count": 100,
   "metadata": {},
   "outputs": [
    {
     "name": "stdout",
     "output_type": "stream",
     "text": [
      "0.568997751894 0.00634862669786\n"
     ]
    }
   ],
   "source": [
    "baseline_scores = cross_val_score(lr, X_, y, cv=5)\n",
    "print(baseline_scores.mean(), baseline_scores.std())"
   ]
  },
  {
   "cell_type": "markdown",
   "metadata": {},
   "source": [
    "---"
   ]
  },
  {
   "cell_type": "code",
   "execution_count": 101,
   "metadata": {
    "collapsed": true
   },
   "outputs": [],
   "source": [
    "sel = SelectKBest(f_regression, 3)\n",
    "sel.fit(X, y)\n",
    "X_ = sel.transform(X)"
   ]
  },
  {
   "cell_type": "code",
   "execution_count": 102,
   "metadata": {},
   "outputs": [
    {
     "data": {
      "text/plain": [
       "(131758, 3)"
      ]
     },
     "execution_count": 102,
     "metadata": {},
     "output_type": "execute_result"
    }
   ],
   "source": [
    "X_.shape"
   ]
  },
  {
   "cell_type": "code",
   "execution_count": 103,
   "metadata": {},
   "outputs": [
    {
     "name": "stdout",
     "output_type": "stream",
     "text": [
      "0.571980448857 7.9572963883e-06\n"
     ]
    }
   ],
   "source": [
    "baseline_scores = cross_val_score(lr, X_, y, cv=5)\n",
    "print(baseline_scores.mean(), baseline_scores.std())"
   ]
  },
  {
   "cell_type": "code",
   "execution_count": 104,
   "metadata": {},
   "outputs": [
    {
     "data": {
      "text/plain": [
       "LogisticRegression(C=1.0, class_weight=None, dual=False, fit_intercept=True,\n",
       "          intercept_scaling=1, max_iter=100, multi_class='ovr', n_jobs=1,\n",
       "          penalty='l2', random_state=None, solver='liblinear', tol=0.0001,\n",
       "          verbose=0, warm_start=False)"
      ]
     },
     "execution_count": 104,
     "metadata": {},
     "output_type": "execute_result"
    }
   ],
   "source": [
    "lr.fit(X_, y)"
   ]
  },
  {
   "cell_type": "code",
   "execution_count": 105,
   "metadata": {},
   "outputs": [
    {
     "data": {
      "text/plain": [
       "[('punct_)', 0.1793406878278998),\n",
       " ('punct_1-9', -0.23030668960813599),\n",
       " ('caps', -0.47574972715584235)]"
      ]
     },
     "execution_count": 105,
     "metadata": {},
     "output_type": "execute_result"
    }
   ],
   "source": [
    "list(zip(comment_features.columns.values[sel.get_support()], lr.coef_.ravel()))"
   ]
  },
  {
   "cell_type": "markdown",
   "metadata": {},
   "source": [
    "Then coef higher, probability of gum class higher"
   ]
  },
  {
   "cell_type": "markdown",
   "metadata": {},
   "source": [
    "---"
   ]
  },
  {
   "cell_type": "code",
   "execution_count": 106,
   "metadata": {
    "collapsed": true
   },
   "outputs": [],
   "source": [
    "sel = RFE(lr, 3)\n",
    "sel.fit(X, y)\n",
    "X_ = sel.transform(X)"
   ]
  },
  {
   "cell_type": "code",
   "execution_count": 107,
   "metadata": {},
   "outputs": [
    {
     "data": {
      "text/plain": [
       "(131758, 3)"
      ]
     },
     "execution_count": 107,
     "metadata": {},
     "output_type": "execute_result"
    }
   ],
   "source": [
    "X_.shape"
   ]
  },
  {
   "cell_type": "code",
   "execution_count": 108,
   "metadata": {},
   "outputs": [
    {
     "data": {
      "text/plain": [
       "0.0    75363\n",
       "1.0    56395\n",
       "Name: is_gum, dtype: int64"
      ]
     },
     "execution_count": 108,
     "metadata": {},
     "output_type": "execute_result"
    }
   ],
   "source": [
    "comments.is_gum.value_counts()"
   ]
  },
  {
   "cell_type": "code",
   "execution_count": 109,
   "metadata": {},
   "outputs": [
    {
     "name": "stdout",
     "output_type": "stream",
     "text": [
      "0.571722403927 0.000512892749374\n"
     ]
    }
   ],
   "source": [
    "baseline_scores = cross_val_score(lr, X_, y, cv=5)\n",
    "print(baseline_scores.mean(), baseline_scores.std())"
   ]
  },
  {
   "cell_type": "markdown",
   "metadata": {},
   "source": [
    "---"
   ]
  },
  {
   "cell_type": "code",
   "execution_count": 110,
   "metadata": {
    "collapsed": true
   },
   "outputs": [],
   "source": [
    "sel = lm.RandomizedLasso(sample_fraction=0.5, scaling=0.02, n_resampling=500, selection_threshold=0.99)\n",
    "sel.fit(X, y)\n",
    "X_ = sel.transform(X)"
   ]
  },
  {
   "cell_type": "code",
   "execution_count": 111,
   "metadata": {},
   "outputs": [
    {
     "data": {
      "text/plain": [
       "(131758, 12)"
      ]
     },
     "execution_count": 111,
     "metadata": {},
     "output_type": "execute_result"
    }
   ],
   "source": [
    "X_.shape"
   ]
  },
  {
   "cell_type": "code",
   "execution_count": 112,
   "metadata": {},
   "outputs": [
    {
     "data": {
      "text/plain": [
       "RandomForestClassifier(bootstrap=True, class_weight=None, criterion='gini',\n",
       "            max_depth=None, max_features='auto', max_leaf_nodes=None,\n",
       "            min_impurity_split=1e-07, min_samples_leaf=1,\n",
       "            min_samples_split=2, min_weight_fraction_leaf=0.0,\n",
       "            n_estimators=100, n_jobs=-1, oob_score=False,\n",
       "            random_state=None, verbose=0, warm_start=False)"
      ]
     },
     "execution_count": 112,
     "metadata": {},
     "output_type": "execute_result"
    }
   ],
   "source": [
    "rf.fit(X_, y)"
   ]
  },
  {
   "cell_type": "code",
   "execution_count": 113,
   "metadata": {},
   "outputs": [
    {
     "data": {
      "text/plain": [
       "[(0.43514261855315445, 'abc_proportion'),\n",
       " (0.32627241282819575, 'mean_word_len'),\n",
       " (0.12378738253736431, 'words_count'),\n",
       " (0.041588554345124769, 'em_proportion_no_rep'),\n",
       " (0.024123597997092329, 'sents_count'),\n",
       " (0.009978840619813743, 'punct_!'),\n",
       " (0.0096670931996321284, 'punct_?'),\n",
       " (0.0077924149249659624, 'eng_words'),\n",
       " (0.006809006148788729, 'punct_)'),\n",
       " (0.005760069904246528, 'punct_1-9'),\n",
       " (0.0051693791687800776, 'punct_\"'),\n",
       " (0.0039086297728411499, 'caps')]"
      ]
     },
     "execution_count": 113,
     "metadata": {},
     "output_type": "execute_result"
    }
   ],
   "source": [
    "sorted(list(zip(rf.feature_importances_, comment_features.columns.values[sel.get_support()])), key=lambda x: -x[0])"
   ]
  },
  {
   "cell_type": "code",
   "execution_count": 114,
   "metadata": {
    "collapsed": true
   },
   "outputs": [],
   "source": [
    "comments = pd.concat((comments.reset_index(drop=True), comment_features.reset_index(drop=True)),\n",
    "                     axis=1, ignore_index=False)"
   ]
  },
  {
   "cell_type": "markdown",
   "metadata": {
    "collapsed": true
   },
   "source": [
    "# Cross validation method"
   ]
  },
  {
   "cell_type": "markdown",
   "metadata": {},
   "source": [
    "## Grouping by user"
   ]
  },
  {
   "cell_type": "code",
   "execution_count": 115,
   "metadata": {
    "collapsed": true
   },
   "outputs": [],
   "source": [
    "def make_df_balanced(df, by_col):\n",
    "    \"\"\"Make df balanced by binary columns named - by_col. Using oversampling\"\"\"\n",
    "    big_class = 0\n",
    "    small_class = 1\n",
    "    if df[by_col].value_counts()[0] < df[by_col].value_counts()[1]:\n",
    "        big_class = 1\n",
    "        small_class = 0\n",
    "    \n",
    "    delta = df[by_col].value_counts()[big_class] - df[by_col].value_counts()[small_class]\n",
    "    only_ing = df[df[by_col] == small_class]\n",
    "    to_add_indexes = np.random.randint(0, len(only_ing) - 1, delta)\n",
    "    df = pd.concat((df, only_ing.iloc[to_add_indexes]))\n",
    "\n",
    "    # shuffle after adding\n",
    "    df = df.iloc[np.random.permutation(df.shape[0])]\n",
    "    return df"
   ]
  },
  {
   "cell_type": "code",
   "execution_count": 152,
   "metadata": {
    "collapsed": true
   },
   "outputs": [],
   "source": [
    "def fit_predict_to_n_user(comments, models, n=10, use_cache=True, debug=True, debug_score=True,\n",
    "                          with_additional=True, predict_proba=False, return_prediction=False):\n",
    "    unique_ids = None\n",
    "    if use_cache:\n",
    "        with open('unique_ids_{}.pkl'.format(n), 'rb') as f:\n",
    "            unique_ids = pickle.load(f)\n",
    "    else:\n",
    "        unique_ids = comments.from_id.value_counts()[comments.from_id.value_counts() >= n].index.values\n",
    "        additional_ids = comments.from_id.value_counts()[comments.from_id.value_counts() < n].index.values\n",
    "#         with open('unique_ids_{}.pkl'.format(n), 'wb') as f:\n",
    "#             pickle.dump(unique_ids, f)\n",
    "    \n",
    "    if debug:\n",
    "        print('{} - uniq peoples'.format(len(unique_ids)))\n",
    "        print('{} - additional peoples'.format(len(additional_ids)))\n",
    "    \n",
    "    train_idxs = unique_ids[:int(len(unique_ids) * 0.8)]\n",
    "    test_idxs = unique_ids[int(len(unique_ids) * 0.8):]\n",
    "\n",
    "    train_comments = comments[[i in train_idxs for i in comments.from_id]]\n",
    "    additional_comments = comments[[i in additional_ids for i in comments.from_id]]\n",
    "    train_comments = pd.concat((train_comments.reset_index(drop=True), additional_comments.reset_index(drop=True)))\n",
    "\n",
    "    test_comments = comments[[i in test_idxs for i in comments.from_id]]\n",
    "\n",
    "    if debug:\n",
    "        print('Before sampling:')\n",
    "        print(train_comments.is_gum.value_counts())\n",
    "        print('Additional comments:')\n",
    "        print(additional_comments.shape[0])\n",
    "    \n",
    "    train_comments = make_df_balanced(train_comments, 'is_gum')\n",
    "    \n",
    "    X_train, X_test = train_comments, test_comments\n",
    "    y_train, y_test = train_comments.is_gum.values, test_comments.is_gum.values\n",
    "    \n",
    "    # models\n",
    "    prediction_df = pd.DataFrame()\n",
    "    if debug_score:\n",
    "        print('Accuracy for comment:')\n",
    "    \n",
    "    cols = []\n",
    "    for model in models:\n",
    "        cols.append(model.name)\n",
    "        model.fit(X_train, y_train)\n",
    "        \n",
    "        if predict_proba:\n",
    "            prediction = model.predict_proba(X_test)\n",
    "            if prediction.shape[1] > 1:\n",
    "                prediction = prediction[:, 1]\n",
    "            else:\n",
    "                prediction = prediction.ravel()\n",
    "        else:\n",
    "            prediction = model.predict(X_test)\n",
    "        prediction_df[model.name] = prediction\n",
    "        \n",
    "        if debug_score:\n",
    "            print('Model: ', model.name)\n",
    "            if predict_proba:\n",
    "                print(accuracy_score(y_test, prediction > 0.5))\n",
    "            else:\n",
    "                print(accuracy_score(y_test, prediction))\n",
    "                \n",
    "    if predict_proba:\n",
    "        prediction_df['prediction'] = prediction_df.mean(axis=1)\n",
    "    else:\n",
    "        prediction_df['prediction'] = prediction_df.median(axis=1)\n",
    "        \n",
    "    if debug_score:\n",
    "        if predict_proba:\n",
    "            print('Mean of models:', accuracy_score(y_test, (prediction_df['prediction'].values > 0.5).astype(int)))\n",
    "        else:\n",
    "            print('Median of models:', accuracy_score(y_test, prediction_df['prediction'].values.astype(int)))\n",
    "    # print(test_comments.shape, prediction_df.shape)\n",
    "    test_comments = pd.concat((test_comments.reset_index(drop=True), prediction_df.reset_index(drop=True)), axis=1)\n",
    "    # print(test_comments.shape)\n",
    "    # test_comments['prediction'] = prediction\n",
    "    # y_true = test_comments.groupby('from_id').agg(np.median)['is_gum'].values\n",
    "    # return test_comments\n",
    "    if predict_proba:\n",
    "        grouped_median_test = test_comments.groupby('from_id').agg(np.mean)\n",
    "    else:\n",
    "        grouped_median_test = test_comments.groupby('from_id').agg(np.median)\n",
    "    # return test_comments.groupby('from_id')[cols].agg(np.median)\n",
    "    y_true = grouped_median_test['is_gum'].values\n",
    "    # print(y_true[:3])\n",
    "    if debug_score:\n",
    "        print('Accuracy for user:')\n",
    "\n",
    "    for model in models:\n",
    "        y_pred = grouped_median_test[model.name].values\n",
    "        # print(y_pred[:3])\n",
    "        # y_pred = np.floor(test_comments.groupby('from_id').agg(np.median)['prediction'].values)\n",
    "        if debug_score:\n",
    "            print('Model: ', model.name)\n",
    "            if predict_proba:\n",
    "                print(accuracy_score(y_true, (y_pred > 0.5).astype(int)))\n",
    "            else:\n",
    "                print(accuracy_score(y_true, y_pred.astype(int)))\n",
    "\n",
    "    if predict_proba:\n",
    "        y_pred_proba = grouped_median_test[cols].mean(axis=1).values\n",
    "        y_pred = (y_pred_proba > 0.5).astype(int)\n",
    "    else:\n",
    "        y_pred = np.floor(grouped_median_test[cols].median(axis=1).values).astype(int)\n",
    "    med_of_models_score = accuracy_score(y_true, y_pred)\n",
    "    \n",
    "    if predict_proba:\n",
    "        y_pred = (grouped_median_test['prediction'].values > 0.5).astype(int)\n",
    "    else:\n",
    "        y_pred = np.floor(grouped_median_test['prediction'].values).astype(int)\n",
    "    med_of_av_models_score = accuracy_score(y_true, y_pred)\n",
    "    \n",
    "    if debug_score:\n",
    "        print('Median of models averaged per user:')\n",
    "        print(med_of_models_score)\n",
    "    \n",
    "    if debug_score:\n",
    "        print('Median of averaged model per user:')\n",
    "        print(med_of_av_models_score)\n",
    "    \n",
    "    if return_prediction: # for debug\n",
    "        return med_of_models_score, med_of_av_models_score, prediction_df, y_test\n",
    "    else:\n",
    "        return med_of_models_score, med_of_av_models_score"
   ]
  },
  {
   "cell_type": "code",
   "execution_count": 127,
   "metadata": {
    "collapsed": true
   },
   "outputs": [],
   "source": [
    "class Model:\n",
    "    def __init__(self, name='-'):\n",
    "        self.name = name\n",
    "        \n",
    "    def fit(self, X, y):\n",
    "        raise NotImplemented()\n",
    "    \n",
    "    def predict(self, X):\n",
    "        raise NotImplemented()\n",
    "    \n",
    "    def predict_proba(self, X):\n",
    "        raise NotImplemented()"
   ]
  },
  {
   "cell_type": "code",
   "execution_count": 128,
   "metadata": {
    "collapsed": true
   },
   "outputs": [],
   "source": [
    "class LrModelCount(Model):\n",
    "    def __init__(self, name='-', max_features=1000, analyzer='word', ngram_range=(1, 1)):\n",
    "        super().__init__(name)\n",
    "        self.vectorizer = CountVectorizer(max_features=max_features, analyzer=analyzer, ngram_range=ngram_range)\n",
    "        self.model = lm.LogisticRegression()\n",
    "        self._fitted = False\n",
    "        \n",
    "    def fit(self, X, y):\n",
    "        X = self.vectorizer.fit_transform(X.text.values)\n",
    "        self.model.fit(X, y)\n",
    "        self._fitted = True\n",
    "    \n",
    "    def predict(self, X):\n",
    "        if not self._fitted:\n",
    "            raise Exception('Not fitted yet')\n",
    "        X = self.vectorizer.transform(X.text.values)\n",
    "        return self.model.predict(X)\n",
    "    \n",
    "    def predict_proba(self, X):\n",
    "        if not self._fitted:\n",
    "            raise Exception('Not fitted yet')\n",
    "        X = self.vectorizer.transform(X.text.values)\n",
    "        return self.model.predict_proba(X)"
   ]
  },
  {
   "cell_type": "code",
   "execution_count": 129,
   "metadata": {
    "collapsed": true
   },
   "outputs": [],
   "source": [
    "class LrModelCountClear(Model):\n",
    "    def __init__(self, name='-', max_features=1000):\n",
    "        super().__init__(name)\n",
    "        self.vectorizer = CountVectorizer(max_features=max_features)\n",
    "        self.model = lm.LogisticRegression()\n",
    "        self._fitted = False\n",
    "        \n",
    "    def fit(self, X, y):\n",
    "        X = self.vectorizer.fit_transform(X.clear_text.values)\n",
    "        self.model.fit(X, y)\n",
    "        self._fitted = True\n",
    "    \n",
    "    def predict(self, X):\n",
    "        if not self._fitted:\n",
    "            raise Exception('Not fitted yet')\n",
    "        X = self.vectorizer.transform(X.clear_text.values)\n",
    "        return self.model.predict(X)\n",
    "\n",
    "    def predict_proba(self, X):\n",
    "        if not self._fitted:\n",
    "            raise Exception('Not fitted yet')\n",
    "        X = self.vectorizer.transform(X.clear_text.values)\n",
    "        return self.model.predict_proba(X)"
   ]
  },
  {
   "cell_type": "code",
   "execution_count": 130,
   "metadata": {
    "collapsed": true
   },
   "outputs": [],
   "source": [
    "class LrModelTfidf(Model):\n",
    "    def __init__(self, name='-', max_features=1000):\n",
    "        super().__init__(name)\n",
    "        self.vectorizer = TfidfVectorizer(max_features=max_features)\n",
    "        self.model = lm.LogisticRegression()\n",
    "        self._fitted = False\n",
    "        \n",
    "    def fit(self, X, y):\n",
    "        X = self.vectorizer.fit_transform(X.text.values)\n",
    "        self.model.fit(X, y)\n",
    "        self._fitted = True\n",
    "    \n",
    "    def predict(self, X):\n",
    "        if not self._fitted:\n",
    "            raise Exception('Not fitted yet')\n",
    "        X = self.vectorizer.transform(X.text.values)\n",
    "        return self.model.predict(X)\n",
    "\n",
    "    def predict_proba(self, X):\n",
    "        if not self._fitted:\n",
    "            raise Exception('Not fitted yet')\n",
    "        X = self.vectorizer.transform(X.text.values)\n",
    "        return self.model.predict_proba(X)"
   ]
  },
  {
   "cell_type": "code",
   "execution_count": 166,
   "metadata": {
    "collapsed": true
   },
   "outputs": [],
   "source": [
    "class FeaturesModelXGB(Model):\n",
    "    def __init__(self, name='-', n_estimators=100, var_threshold=0.5):\n",
    "        super().__init__(name)\n",
    "        self.model = xgb.XGBClassifier(n_estimators=n_estimators)\n",
    "        self.selector = VarianceThreshold(var_threshold)\n",
    "        self._fitted = False\n",
    "        \n",
    "    def fit(self, X, y):\n",
    "        X = X[comment_features_list].values\n",
    "        X = self.selector.fit_transform(X, y)\n",
    "        self.model.fit(X, y)\n",
    "        self._fitted = True\n",
    "    \n",
    "    def predict(self, X):\n",
    "        if not self._fitted:\n",
    "            raise Exception('Not fitted yet')\n",
    "        X = X[comment_features_list].values\n",
    "        X = self.selector.transform(X)\n",
    "        return self.model.predict(X)\n",
    "\n",
    "    def predict_proba(self, X):\n",
    "        if not self._fitted:\n",
    "            raise Exception('Not fitted yet')\n",
    "        X = X[comment_features_list].values\n",
    "        X = self.selector.transform(X)\n",
    "        return self.model.predict_proba(X)"
   ]
  },
  {
   "cell_type": "code",
   "execution_count": 132,
   "metadata": {},
   "outputs": [],
   "source": [
    "from keras.models import Sequential\n",
    "from keras.layers import Dense, Activation, Dropout, LSTM\n",
    "from keras.optimizers import RMSprop, Adam\n",
    "from keras.layers.advanced_activations import PReLU\n",
    "from keras.layers.embeddings import Embedding\n",
    "from keras.preprocessing import sequence\n",
    "import keras.preprocessing.text\n",
    "np.random.seed(7)\n",
    "\n",
    "import xgboost as xgb"
   ]
  },
  {
   "cell_type": "code",
   "execution_count": 165,
   "metadata": {
    "collapsed": true
   },
   "outputs": [],
   "source": [
    "class MlpModel(Model):\n",
    "    def __init__(self, name='-', max_features=1000, neurons=500, clear=False):\n",
    "        super().__init__(name)\n",
    "        self.clear = clear\n",
    "        self.vectorizer = CountVectorizer(max_features=max_features)\n",
    "\n",
    "        self.model = Sequential()\n",
    "        self.model.add(Dense(neurons, input_shape=(max_features,)))\n",
    "        self.model.add(Activation(PReLU()))\n",
    "        self.model.add(Dropout(0.3))\n",
    "        self.model.add(Dense(1))\n",
    "        self.model.add(Activation('sigmoid'))\n",
    "\n",
    "        self.model.compile(loss='binary_crossentropy',\n",
    "                      optimizer='adam',\n",
    "                      metrics=['accuracy'])\n",
    "        \n",
    "        self._fitted = False\n",
    "        \n",
    "    def fit(self, X, y):\n",
    "        text = X.text.values\n",
    "        if self.clear:\n",
    "            text = X.clear_text.values\n",
    "        X = self.vectorizer.fit_transform(text)\n",
    "        self.model.fit(X.toarray(), y,\n",
    "                    nb_epoch=3, batch_size=512,\n",
    "                    verbose=0) # , validation_split=0.1)\n",
    "        self._fitted = True\n",
    "    \n",
    "    def predict(self, X):\n",
    "        if not self._fitted:\n",
    "            raise Exception('Not fitted yet')\n",
    "\n",
    "        text = X.text.values\n",
    "        if self.clear:\n",
    "            text = X.clear_text.values\n",
    "            \n",
    "        X = self.vectorizer.transform(text)\n",
    "        return self.model.predict_classes(X.toarray(), batch_size=512, verbose=0).ravel()\n",
    "    \n",
    "    def predict_proba(self, X):\n",
    "        if not self._fitted:\n",
    "            raise Exception('Not fitted yet')\n",
    "            \n",
    "        text = X.text.values\n",
    "        if self.clear:\n",
    "            text = X.clear_text.values\n",
    "            \n",
    "        X = self.vectorizer.transform(text)\n",
    "        return self.model.predict(X.toarray(), batch_size=512, verbose=0) #.ravel()"
   ]
  },
  {
   "cell_type": "code",
   "execution_count": 164,
   "metadata": {
    "collapsed": true
   },
   "outputs": [],
   "source": [
    "class LstmModel(Model):\n",
    "    def __init__(self, name='-', nb_words=10000, embedding_vector_length=64, char_level=False, max_len=40,\n",
    "                 nb_epoch=3, clear=False):\n",
    "        super().__init__(name)\n",
    "        self.nb_words = nb_words\n",
    "        self.embedding_vector_length = embedding_vector_length\n",
    "        self.char_level = char_level\n",
    "        self.max_len = max_len\n",
    "        self.nb_epoch = nb_epoch\n",
    "        self.clear = clear\n",
    "        \n",
    "        self.vectorizer = keras.preprocessing.text.Tokenizer(nb_words=nb_words, lower=True, split=\" \",\n",
    "                                                             char_level=char_level)\n",
    "\n",
    "        self.model = Sequential()\n",
    "        self.model.add(Embedding(nb_words, embedding_vector_length))\n",
    "        self.model.add(Dropout(0.4))\n",
    "        self.model.add(LSTM(64, return_sequences=True, dropout_W=0.3, dropout_U=0.3))\n",
    "        self.model.add(Dropout(0.3))\n",
    "        self.model.add(LSTM(64, return_sequences=False, dropout_W=0.2, dropout_U=0.2))\n",
    "        self.model.add(Dropout(0.3))\n",
    "        self.model.add(Dense(1, activation='sigmoid'))\n",
    "        self.model.compile(loss='binary_crossentropy', optimizer='adam', metrics=['accuracy'])\n",
    "        \n",
    "        self._fitted = False\n",
    "        \n",
    "    def fit(self, X, y):\n",
    "        text = X.text.values\n",
    "        if self.clear:\n",
    "            text = X.clear_text.values\n",
    "            \n",
    "        self.vectorizer.fit_on_texts(text) # clear_coms\n",
    "        X = self.vectorizer.texts_to_sequences(text)\n",
    "        X = sequence.pad_sequences(X, maxlen=self.max_len, padding='pre')\n",
    "        \n",
    "        self.model.fit(X, y, nb_epoch=self.nb_epoch, batch_size=512, verbose=0)\n",
    "        self._fitted = True\n",
    "    \n",
    "    def predict(self, X):\n",
    "        if not self._fitted:\n",
    "            raise Exception('Not fitted yet')\n",
    "            \n",
    "        text = X.text.values\n",
    "        if self.clear:\n",
    "            text = X.clear_text.values\n",
    "            \n",
    "        X = self.vectorizer.texts_to_sequences(text)\n",
    "        X = sequence.pad_sequences(X, maxlen=self.max_len, padding='pre')\n",
    "        return self.model.predict_classes(X, batch_size=512, verbose=0).ravel()\n",
    "    \n",
    "    def predict_proba(self, X):\n",
    "        if not self._fitted:\n",
    "            raise Exception('Not fitted yet')\n",
    "        \n",
    "        text = X.text.values\n",
    "        if self.clear:\n",
    "            text = X.clear_text.values\n",
    "            \n",
    "        X = self.vectorizer.texts_to_sequences(text)\n",
    "        X = sequence.pad_sequences(X, maxlen=self.max_len, padding='pre')\n",
    "        return self.model.predict(X, batch_size=512, verbose=0) #.ravel()"
   ]
  },
  {
   "cell_type": "markdown",
   "metadata": {},
   "source": [
    "## Model selection"
   ]
  },
  {
   "cell_type": "markdown",
   "metadata": {},
   "source": [
    "### Probability prediction"
   ]
  },
  {
   "cell_type": "code",
   "execution_count": 167,
   "metadata": {
    "scrolled": true
   },
   "outputs": [
    {
     "name": "stderr",
     "output_type": "stream",
     "text": [
      "/home/digitman/miniconda3/lib/python3.6/site-packages/keras/preprocessing/text.py:90: UserWarning: The `nb_words` argument in `Tokenizer` has been renamed `num_words`.\n",
      "  warnings.warn('The `nb_words` argument in `Tokenizer` '\n",
      "/home/digitman/miniconda3/lib/python3.6/site-packages/ipykernel_launcher.py:18: UserWarning: Update your `LSTM` call to the Keras 2 API: `LSTM(64, return_sequences=True, dropout=0.3, recurrent_dropout=0.3)`\n",
      "/home/digitman/miniconda3/lib/python3.6/site-packages/ipykernel_launcher.py:20: UserWarning: Update your `LSTM` call to the Keras 2 API: `LSTM(64, return_sequences=False, dropout=0.2, recurrent_dropout=0.2)`\n",
      "/home/digitman/miniconda3/lib/python3.6/site-packages/keras/activations.py:89: UserWarning: Do not pass a layer instance (such as PReLU) as the activation argument of another layer. Instead, advanced activation layers should be used just like any other layer in a model.\n",
      "  ).format(identifier=identifier.__class__.__name__))\n"
     ]
    },
    {
     "name": "stdout",
     "output_type": "stream",
     "text": [
      "1429 - uniq peoples\n",
      "4624 - additional peoples\n",
      "Before sampling:\n",
      "0.0    73488\n",
      "1.0    54723\n",
      "Name: is_gum, dtype: int64\n",
      "Additional comments:\n",
      "13244\n",
      "Accuracy for comment:\n"
     ]
    },
    {
     "name": "stderr",
     "output_type": "stream",
     "text": [
      "/home/digitman/miniconda3/lib/python3.6/site-packages/keras/models.py:851: UserWarning: The `nb_epoch` argument in `fit` has been renamed `epochs`.\n",
      "  warnings.warn('The `nb_epoch` argument in `fit` '\n"
     ]
    },
    {
     "name": "stdout",
     "output_type": "stream",
     "text": [
      "Model:  lstm_word\n",
      "0.539047082041\n",
      "Model:  lstm_word_big\n",
      "0.531435015506\n",
      "Model:  lstm_word_clear\n",
      "0.527488018043\n",
      "Model:  lstm_char\n",
      "0.517056667606\n",
      "Model:  mlp\n",
      "0.533972371018\n",
      "Model:  mlp_big\n",
      "0.542712151114\n",
      "Model:  mlp_clear\n",
      "0.545249506625\n",
      "Model:  mlp_big_clear\n",
      "0.529179588385\n",
      "Model:  lr_count_2k_word_1\n",
      "0.543276007894\n",
      "Model:  lr_count_2k_word_12\n",
      "0.554271215111\n",
      "Model:  lr_count_2k_word_13\n",
      "0.550606146039\n",
      "Model:  lr_count_2k_char_33\n",
      "0.549478432478\n",
      "Model:  lr_count_2k_char_23\n",
      "0.558782069354\n",
      "Model:  lr_count_5k_word_12\n",
      "0.547786862137\n",
      "Model:  lr_count_5k_word_13\n",
      "0.538765153651\n",
      "Model:  lr_count_10k_word_13\n",
      "0.547504933747\n",
      "Model:  lr_count_5k_char_33\n",
      "0.554835071892\n",
      "Model:  lr_count_5k_char_23\n",
      "0.547786862137\n",
      "Model:  lr_clear_count_1k\n",
      "0.541020580772\n",
      "Model:  lr_clear_count_2k\n",
      "0.538483225261\n",
      "Model:  lr_clear_count_3k\n",
      "0.543839864674\n",
      "Model:  xgb_300_0\n",
      "0.534536227798\n",
      "Model:  xgb_200_0\n",
      "0.531435015506\n",
      "Model:  xgb_150_0.3\n",
      "0.540738652382\n",
      "Model:  xgb_100_0.5\n",
      "0.53707358331\n",
      "Model:  xgb_75_0.7\n",
      "0.533408514237\n",
      "Model:  lr_tfidf_1k\n",
      "0.550888074429\n",
      "Model:  lr_tfidf_2k\n",
      "0.544121793065\n",
      "Model:  lr_tfidf_3k\n",
      "0.538201296871\n",
      "Model:  lr_tfidf_5k\n",
      "0.543276007894\n",
      "Mean of models: 0.566394135889\n",
      "Accuracy for user:\n",
      "Model:  lstm_word\n",
      "0.618881118881\n",
      "Model:  lstm_word_big\n",
      "0.625874125874\n",
      "Model:  lstm_word_clear\n",
      "0.573426573427\n",
      "Model:  lstm_char\n",
      "0.562937062937\n",
      "Model:  mlp\n",
      "0.615384615385\n",
      "Model:  mlp_big\n",
      "0.618881118881\n",
      "Model:  mlp_clear\n",
      "0.587412587413\n",
      "Model:  mlp_big_clear\n",
      "0.615384615385\n",
      "Model:  lr_count_2k_word_1\n",
      "0.660839160839\n",
      "Model:  lr_count_2k_word_12\n",
      "0.65034965035\n",
      "Model:  lr_count_2k_word_13\n",
      "0.65034965035\n",
      "Model:  lr_count_2k_char_33\n",
      "0.63986013986\n",
      "Model:  lr_count_2k_char_23\n",
      "0.688811188811\n",
      "Model:  lr_count_5k_word_12\n",
      "0.622377622378\n",
      "Model:  lr_count_5k_word_13\n",
      "0.601398601399\n",
      "Model:  lr_count_10k_word_13\n",
      "0.604895104895\n",
      "Model:  lr_count_5k_char_33\n",
      "0.643356643357\n",
      "Model:  lr_count_5k_char_23\n",
      "0.632867132867\n",
      "Model:  lr_clear_count_1k\n",
      "0.576923076923\n",
      "Model:  lr_clear_count_2k\n",
      "0.56993006993\n",
      "Model:  lr_clear_count_3k\n",
      "0.604895104895\n",
      "Model:  xgb_300_0\n",
      "0.576923076923\n",
      "Model:  xgb_200_0\n",
      "0.576923076923\n",
      "Model:  xgb_150_0.3\n",
      "0.604895104895\n",
      "Model:  xgb_100_0.5\n",
      "0.587412587413\n",
      "Model:  xgb_75_0.7\n",
      "0.594405594406\n",
      "Model:  lr_tfidf_1k\n",
      "0.611888111888\n",
      "Model:  lr_tfidf_2k\n",
      "0.643356643357\n",
      "Model:  lr_tfidf_3k\n",
      "0.636363636364\n",
      "Model:  lr_tfidf_5k\n",
      "0.625874125874\n",
      "Median of models averaged per user:\n",
      "0.664335664336\n",
      "Median of averaged model per user:\n",
      "0.664335664336\n",
      "CPU times: user 8h 13min 17s, sys: 48min 20s, total: 9h 1min 37s\n",
      "Wall time: 2h 38min 3s\n"
     ]
    }
   ],
   "source": [
    "%%time\n",
    "np.random.seed(0)\n",
    "s1, s2, pr, y_t = fit_predict_to_n_user(comments,\n",
    "        [\n",
    "            LstmModel('lstm_word', nb_words=5000, nb_epoch=4),\n",
    "            LstmModel('lstm_word_big', nb_words=10000, nb_epoch=5),\n",
    "            LstmModel('lstm_word_clear', nb_words=5000, nb_epoch=4, clear=True),\n",
    "            LstmModel('lstm_char', nb_epoch=5, nb_words=100, char_level=True, max_len=100),\n",
    "            \n",
    "            MlpModel('mlp', neurons=400),\n",
    "            MlpModel('mlp_big', max_features=3000, neurons=700),\n",
    "            MlpModel('mlp_clear', neurons=400, clear=True),\n",
    "            MlpModel('mlp_big_clear', max_features=2000, neurons=600, clear=True),\n",
    "\n",
    "            LrModelCount('lr_count_2k_word_1', 2000),\n",
    "            LrModelCount('lr_count_2k_word_12', 2000, ngram_range=(1, 2)),\n",
    "            LrModelCount('lr_count_2k_word_13', 2000, ngram_range=(1, 3)),\n",
    "\n",
    "            LrModelCount('lr_count_2k_char_33', 2000, 'char', (3, 3)),\n",
    "            LrModelCount('lr_count_2k_char_23', 2000, 'char', (2, 3)),\n",
    "\n",
    "            LrModelCount('lr_count_5k_word_12', 5000, ngram_range=(1, 2)),\n",
    "            LrModelCount('lr_count_5k_word_13', 5000, ngram_range=(1, 3)),\n",
    "            \n",
    "            LrModelCount('lr_count_10k_word_13', 10000, ngram_range=(1, 3)),\n",
    "            \n",
    "            LrModelCount('lr_count_5k_char_33', 5000, 'char', (3, 3)),\n",
    "            LrModelCount('lr_count_5k_char_23', 5000, 'char', (2, 3)),\n",
    "\n",
    "\n",
    "            LrModelCountClear('lr_clear_count_1k', 1000),\n",
    "            LrModelCountClear('lr_clear_count_2k', 2000),\n",
    "            LrModelCountClear('lr_clear_count_3k', 3000),\n",
    "\n",
    "            FeaturesModelXGB('xgb_300_0', n_estimators=300, var_threshold=0.0),\n",
    "            FeaturesModelXGB('xgb_200_0', n_estimators=200, var_threshold=0.0),\n",
    "            FeaturesModelXGB('xgb_150_0.3', n_estimators=150, var_threshold=0.3),\n",
    "            FeaturesModelXGB('xgb_100_0.5', n_estimators=100, var_threshold=0.5),\n",
    "            FeaturesModelXGB('xgb_75_0.7', n_estimators=75, var_threshold=0.7),\n",
    "            \n",
    "            LrModelTfidf('lr_tfidf_1k', 1000),\n",
    "            LrModelTfidf('lr_tfidf_2k', 2000),\n",
    "            LrModelTfidf('lr_tfidf_3k', 3000),\n",
    "            LrModelTfidf('lr_tfidf_5k', 5000),\n",
    "        ], 11, False, with_additional=True, debug=True, predict_proba=True, return_prediction=True)"
   ]
  },
  {
   "cell_type": "code",
   "execution_count": 168,
   "metadata": {},
   "outputs": [
    {
     "data": {
      "text/html": [
       "<div>\n",
       "<style>\n",
       "    .dataframe thead tr:only-child th {\n",
       "        text-align: right;\n",
       "    }\n",
       "\n",
       "    .dataframe thead th {\n",
       "        text-align: left;\n",
       "    }\n",
       "\n",
       "    .dataframe tbody tr th {\n",
       "        vertical-align: top;\n",
       "    }\n",
       "</style>\n",
       "<table border=\"1\" class=\"dataframe\">\n",
       "  <thead>\n",
       "    <tr style=\"text-align: right;\">\n",
       "      <th></th>\n",
       "      <th>lstm_word</th>\n",
       "      <th>lstm_word_big</th>\n",
       "      <th>lstm_word_clear</th>\n",
       "      <th>lstm_char</th>\n",
       "      <th>mlp</th>\n",
       "      <th>mlp_big</th>\n",
       "      <th>mlp_clear</th>\n",
       "      <th>mlp_big_clear</th>\n",
       "      <th>lr_count_2k_word_1</th>\n",
       "      <th>lr_count_2k_word_12</th>\n",
       "      <th>...</th>\n",
       "      <th>xgb_300_0</th>\n",
       "      <th>xgb_200_0</th>\n",
       "      <th>xgb_150_0.3</th>\n",
       "      <th>xgb_100_0.5</th>\n",
       "      <th>xgb_75_0.7</th>\n",
       "      <th>lr_tfidf_1k</th>\n",
       "      <th>lr_tfidf_2k</th>\n",
       "      <th>lr_tfidf_3k</th>\n",
       "      <th>lr_tfidf_5k</th>\n",
       "      <th>prediction</th>\n",
       "    </tr>\n",
       "  </thead>\n",
       "  <tbody>\n",
       "    <tr>\n",
       "      <th>count</th>\n",
       "      <td>3547.000000</td>\n",
       "      <td>3547.000000</td>\n",
       "      <td>3547.000000</td>\n",
       "      <td>3547.000000</td>\n",
       "      <td>3547.000000</td>\n",
       "      <td>3547.000000</td>\n",
       "      <td>3547.000000</td>\n",
       "      <td>3547.000000</td>\n",
       "      <td>3547.000000</td>\n",
       "      <td>3547.000000</td>\n",
       "      <td>...</td>\n",
       "      <td>3547.000000</td>\n",
       "      <td>3547.000000</td>\n",
       "      <td>3547.000000</td>\n",
       "      <td>3547.000000</td>\n",
       "      <td>3547.000000</td>\n",
       "      <td>3547.000000</td>\n",
       "      <td>3547.000000</td>\n",
       "      <td>3547.000000</td>\n",
       "      <td>3547.000000</td>\n",
       "      <td>3547.000000</td>\n",
       "    </tr>\n",
       "    <tr>\n",
       "      <th>mean</th>\n",
       "      <td>0.494524</td>\n",
       "      <td>0.479183</td>\n",
       "      <td>0.479653</td>\n",
       "      <td>0.494375</td>\n",
       "      <td>0.500112</td>\n",
       "      <td>0.484483</td>\n",
       "      <td>0.482043</td>\n",
       "      <td>0.487802</td>\n",
       "      <td>0.501548</td>\n",
       "      <td>0.499140</td>\n",
       "      <td>...</td>\n",
       "      <td>0.497313</td>\n",
       "      <td>0.497783</td>\n",
       "      <td>0.496815</td>\n",
       "      <td>0.497104</td>\n",
       "      <td>0.497136</td>\n",
       "      <td>0.500486</td>\n",
       "      <td>0.500778</td>\n",
       "      <td>0.500119</td>\n",
       "      <td>0.497918</td>\n",
       "      <td>0.496510</td>\n",
       "    </tr>\n",
       "    <tr>\n",
       "      <th>std</th>\n",
       "      <td>0.114672</td>\n",
       "      <td>0.157980</td>\n",
       "      <td>0.108216</td>\n",
       "      <td>0.057088</td>\n",
       "      <td>0.111211</td>\n",
       "      <td>0.168537</td>\n",
       "      <td>0.107304</td>\n",
       "      <td>0.143095</td>\n",
       "      <td>0.109158</td>\n",
       "      <td>0.109086</td>\n",
       "      <td>...</td>\n",
       "      <td>0.062143</td>\n",
       "      <td>0.057566</td>\n",
       "      <td>0.037256</td>\n",
       "      <td>0.034077</td>\n",
       "      <td>0.032231</td>\n",
       "      <td>0.086301</td>\n",
       "      <td>0.100598</td>\n",
       "      <td>0.108821</td>\n",
       "      <td>0.116778</td>\n",
       "      <td>0.075273</td>\n",
       "    </tr>\n",
       "    <tr>\n",
       "      <th>min</th>\n",
       "      <td>0.105407</td>\n",
       "      <td>0.023086</td>\n",
       "      <td>0.076239</td>\n",
       "      <td>0.132589</td>\n",
       "      <td>0.057707</td>\n",
       "      <td>0.022394</td>\n",
       "      <td>0.073027</td>\n",
       "      <td>0.042001</td>\n",
       "      <td>0.066863</td>\n",
       "      <td>0.082034</td>\n",
       "      <td>...</td>\n",
       "      <td>0.175013</td>\n",
       "      <td>0.187309</td>\n",
       "      <td>0.317216</td>\n",
       "      <td>0.335991</td>\n",
       "      <td>0.352048</td>\n",
       "      <td>0.190727</td>\n",
       "      <td>0.174869</td>\n",
       "      <td>0.165873</td>\n",
       "      <td>0.140537</td>\n",
       "      <td>0.208697</td>\n",
       "    </tr>\n",
       "    <tr>\n",
       "      <th>25%</th>\n",
       "      <td>0.423163</td>\n",
       "      <td>0.382424</td>\n",
       "      <td>0.413417</td>\n",
       "      <td>0.476266</td>\n",
       "      <td>0.435940</td>\n",
       "      <td>0.375887</td>\n",
       "      <td>0.421662</td>\n",
       "      <td>0.401399</td>\n",
       "      <td>0.443878</td>\n",
       "      <td>0.438658</td>\n",
       "      <td>...</td>\n",
       "      <td>0.456726</td>\n",
       "      <td>0.459890</td>\n",
       "      <td>0.475556</td>\n",
       "      <td>0.476443</td>\n",
       "      <td>0.477311</td>\n",
       "      <td>0.441617</td>\n",
       "      <td>0.433975</td>\n",
       "      <td>0.426486</td>\n",
       "      <td>0.416937</td>\n",
       "      <td>0.450115</td>\n",
       "    </tr>\n",
       "    <tr>\n",
       "      <th>50%</th>\n",
       "      <td>0.499839</td>\n",
       "      <td>0.483596</td>\n",
       "      <td>0.483637</td>\n",
       "      <td>0.495477</td>\n",
       "      <td>0.500240</td>\n",
       "      <td>0.481818</td>\n",
       "      <td>0.481765</td>\n",
       "      <td>0.492121</td>\n",
       "      <td>0.499653</td>\n",
       "      <td>0.494559</td>\n",
       "      <td>...</td>\n",
       "      <td>0.497934</td>\n",
       "      <td>0.499032</td>\n",
       "      <td>0.493646</td>\n",
       "      <td>0.494543</td>\n",
       "      <td>0.496264</td>\n",
       "      <td>0.502596</td>\n",
       "      <td>0.503248</td>\n",
       "      <td>0.501762</td>\n",
       "      <td>0.500559</td>\n",
       "      <td>0.496599</td>\n",
       "    </tr>\n",
       "    <tr>\n",
       "      <th>75%</th>\n",
       "      <td>0.564370</td>\n",
       "      <td>0.576147</td>\n",
       "      <td>0.546913</td>\n",
       "      <td>0.516328</td>\n",
       "      <td>0.563930</td>\n",
       "      <td>0.590431</td>\n",
       "      <td>0.541576</td>\n",
       "      <td>0.573458</td>\n",
       "      <td>0.556635</td>\n",
       "      <td>0.555431</td>\n",
       "      <td>...</td>\n",
       "      <td>0.537620</td>\n",
       "      <td>0.536039</td>\n",
       "      <td>0.517807</td>\n",
       "      <td>0.517729</td>\n",
       "      <td>0.516583</td>\n",
       "      <td>0.557469</td>\n",
       "      <td>0.566922</td>\n",
       "      <td>0.572704</td>\n",
       "      <td>0.576888</td>\n",
       "      <td>0.543353</td>\n",
       "    </tr>\n",
       "    <tr>\n",
       "      <th>max</th>\n",
       "      <td>0.862354</td>\n",
       "      <td>0.932236</td>\n",
       "      <td>0.877540</td>\n",
       "      <td>0.669623</td>\n",
       "      <td>0.940165</td>\n",
       "      <td>0.991717</td>\n",
       "      <td>0.947259</td>\n",
       "      <td>0.974586</td>\n",
       "      <td>0.964229</td>\n",
       "      <td>0.964423</td>\n",
       "      <td>...</td>\n",
       "      <td>0.799207</td>\n",
       "      <td>0.762947</td>\n",
       "      <td>0.727886</td>\n",
       "      <td>0.695030</td>\n",
       "      <td>0.661049</td>\n",
       "      <td>0.840245</td>\n",
       "      <td>0.841259</td>\n",
       "      <td>0.870749</td>\n",
       "      <td>0.878528</td>\n",
       "      <td>0.829986</td>\n",
       "    </tr>\n",
       "  </tbody>\n",
       "</table>\n",
       "<p>8 rows × 31 columns</p>\n",
       "</div>"
      ],
      "text/plain": [
       "         lstm_word  lstm_word_big  lstm_word_clear    lstm_char          mlp  \\\n",
       "count  3547.000000    3547.000000      3547.000000  3547.000000  3547.000000   \n",
       "mean      0.494524       0.479183         0.479653     0.494375     0.500112   \n",
       "std       0.114672       0.157980         0.108216     0.057088     0.111211   \n",
       "min       0.105407       0.023086         0.076239     0.132589     0.057707   \n",
       "25%       0.423163       0.382424         0.413417     0.476266     0.435940   \n",
       "50%       0.499839       0.483596         0.483637     0.495477     0.500240   \n",
       "75%       0.564370       0.576147         0.546913     0.516328     0.563930   \n",
       "max       0.862354       0.932236         0.877540     0.669623     0.940165   \n",
       "\n",
       "           mlp_big    mlp_clear  mlp_big_clear  lr_count_2k_word_1  \\\n",
       "count  3547.000000  3547.000000    3547.000000         3547.000000   \n",
       "mean      0.484483     0.482043       0.487802            0.501548   \n",
       "std       0.168537     0.107304       0.143095            0.109158   \n",
       "min       0.022394     0.073027       0.042001            0.066863   \n",
       "25%       0.375887     0.421662       0.401399            0.443878   \n",
       "50%       0.481818     0.481765       0.492121            0.499653   \n",
       "75%       0.590431     0.541576       0.573458            0.556635   \n",
       "max       0.991717     0.947259       0.974586            0.964229   \n",
       "\n",
       "       lr_count_2k_word_12     ...         xgb_300_0    xgb_200_0  \\\n",
       "count          3547.000000     ...       3547.000000  3547.000000   \n",
       "mean              0.499140     ...          0.497313     0.497783   \n",
       "std               0.109086     ...          0.062143     0.057566   \n",
       "min               0.082034     ...          0.175013     0.187309   \n",
       "25%               0.438658     ...          0.456726     0.459890   \n",
       "50%               0.494559     ...          0.497934     0.499032   \n",
       "75%               0.555431     ...          0.537620     0.536039   \n",
       "max               0.964423     ...          0.799207     0.762947   \n",
       "\n",
       "       xgb_150_0.3  xgb_100_0.5   xgb_75_0.7  lr_tfidf_1k  lr_tfidf_2k  \\\n",
       "count  3547.000000  3547.000000  3547.000000  3547.000000  3547.000000   \n",
       "mean      0.496815     0.497104     0.497136     0.500486     0.500778   \n",
       "std       0.037256     0.034077     0.032231     0.086301     0.100598   \n",
       "min       0.317216     0.335991     0.352048     0.190727     0.174869   \n",
       "25%       0.475556     0.476443     0.477311     0.441617     0.433975   \n",
       "50%       0.493646     0.494543     0.496264     0.502596     0.503248   \n",
       "75%       0.517807     0.517729     0.516583     0.557469     0.566922   \n",
       "max       0.727886     0.695030     0.661049     0.840245     0.841259   \n",
       "\n",
       "       lr_tfidf_3k  lr_tfidf_5k   prediction  \n",
       "count  3547.000000  3547.000000  3547.000000  \n",
       "mean      0.500119     0.497918     0.496510  \n",
       "std       0.108821     0.116778     0.075273  \n",
       "min       0.165873     0.140537     0.208697  \n",
       "25%       0.426486     0.416937     0.450115  \n",
       "50%       0.501762     0.500559     0.496599  \n",
       "75%       0.572704     0.576888     0.543353  \n",
       "max       0.870749     0.878528     0.829986  \n",
       "\n",
       "[8 rows x 31 columns]"
      ]
     },
     "execution_count": 168,
     "metadata": {},
     "output_type": "execute_result"
    }
   ],
   "source": [
    "pr.describe()"
   ]
  },
  {
   "cell_type": "markdown",
   "metadata": {},
   "source": [
    "### Models correlation"
   ]
  },
  {
   "cell_type": "code",
   "execution_count": 169,
   "metadata": {},
   "outputs": [
    {
     "data": {
      "text/plain": [
       "<matplotlib.axes._subplots.AxesSubplot at 0x7fec4146eef0>"
      ]
     },
     "execution_count": 169,
     "metadata": {},
     "output_type": "execute_result"
    },
    {
     "data": {
      "image/png": "[encoded data removed]",
      "text/plain": [
       "<matplotlib.figure.Figure at 0x7fec36ee21d0>"
      ]
     },
     "metadata": {},
     "output_type": "display_data"
    }
   ],
   "source": [
    "import seaborn as sns\n",
    "plt.figure(figsize=(10, 10))\n",
    "sns.heatmap(pr.corr())"
   ]
  },
  {
   "cell_type": "markdown",
   "metadata": {},
   "source": [
    "### Metrics"
   ]
  },
  {
   "cell_type": "code",
   "execution_count": 237,
   "metadata": {
    "collapsed": true
   },
   "outputs": [],
   "source": [
    "from sklearn.metrics import auc, roc_curve, f1_score, confusion_matrix, roc_auc_score"
   ]
  },
  {
   "cell_type": "code",
   "execution_count": 186,
   "metadata": {},
   "outputs": [
    {
     "data": {
      "text/plain": [
       "(3547, 31)"
      ]
     },
     "execution_count": 186,
     "metadata": {},
     "output_type": "execute_result"
    }
   ],
   "source": [
    "pr.shape"
   ]
  },
  {
   "cell_type": "code",
   "execution_count": 211,
   "metadata": {},
   "outputs": [
    {
     "data": {
      "image/png": "[encoded data removed]",
      "text/plain": [
       "<matplotlib.figure.Figure at 0x7fec22b20b38>"
      ]
     },
     "metadata": {},
     "output_type": "display_data"
    }
   ],
   "source": [
    "plt.hist(pr.prediction.values, bins=30);"
   ]
  },
  {
   "cell_type": "code",
   "execution_count": 171,
   "metadata": {},
   "outputs": [
    {
     "data": {
      "text/plain": [
       "0.56639413588948406"
      ]
     },
     "execution_count": 171,
     "metadata": {},
     "output_type": "execute_result"
    }
   ],
   "source": [
    "accuracy_score(y_t, pr.prediction.values > 0.5)"
   ]
  },
  {
   "cell_type": "code",
   "execution_count": 183,
   "metadata": {},
   "outputs": [
    {
     "data": {
      "text/plain": [
       "0.6374974442854221"
      ]
     },
     "execution_count": 183,
     "metadata": {},
     "output_type": "execute_result"
    }
   ],
   "source": [
    "f1_score(y_t, pr.prediction.values > 0.4)"
   ]
  },
  {
   "cell_type": "code",
   "execution_count": 189,
   "metadata": {},
   "outputs": [],
   "source": [
    "# fpr, tpr = roc_curve(y_t, pr.drop('prediction', axis=1).values)\n",
    "fpr, tpr, _ = roc_curve(y_t, pr.prediction.values)"
   ]
  },
  {
   "cell_type": "code",
   "execution_count": 191,
   "metadata": {},
   "outputs": [
    {
     "data": {
      "text/plain": [
       "[<matplotlib.lines.Line2D at 0x7fec227a98d0>]"
      ]
     },
     "execution_count": 191,
     "metadata": {},
     "output_type": "execute_result"
    },
    {
     "data": {
      "image/png": "[encoded data removed]",
      "text/plain": [
       "<matplotlib.figure.Figure at 0x7fec21704358>"
      ]
     },
     "metadata": {},
     "output_type": "display_data"
    }
   ],
   "source": [
    "plt.plot(fpr, tpr)"
   ]
  },
  {
   "cell_type": "code",
   "execution_count": 192,
   "metadata": {},
   "outputs": [
    {
     "data": {
      "text/plain": [
       "0.58141052631578949"
      ]
     },
     "execution_count": 192,
     "metadata": {},
     "output_type": "execute_result"
    }
   ],
   "source": [
    "auc(fpr, tpr)"
   ]
  },
  {
   "cell_type": "code",
   "execution_count": 254,
   "metadata": {},
   "outputs": [
    {
     "data": {
      "text/plain": [
       "<matplotlib.axes._subplots.AxesSubplot at 0x7fec2276b160>"
      ]
     },
     "execution_count": 254,
     "metadata": {},
     "output_type": "execute_result"
    },
    {
     "data": {
      "image/png": "[encoded data removed]",
      "text/plain": [
       "<matplotlib.figure.Figure at 0x7fec222540b8>"
      ]
     },
     "metadata": {},
     "output_type": "display_data"
    }
   ],
   "source": [
    "cm = confusion_matrix(y_t, (pr.prediction.values > 0.5).astype(int))\n",
    "cm =  cm / cm.sum() #[np.newaxis]\n",
    "sns.heatmap(cm)"
   ]
  },
  {
   "cell_type": "markdown",
   "metadata": {},
   "source": [
    "### Selection model with l1 lr"
   ]
  },
  {
   "cell_type": "code",
   "execution_count": 255,
   "metadata": {},
   "outputs": [
    {
     "data": {
      "text/plain": [
       "LogisticRegression(C=0.3, class_weight=None, dual=False, fit_intercept=True,\n",
       "          intercept_scaling=1, max_iter=100, multi_class='ovr', n_jobs=1,\n",
       "          penalty='l1', random_state=None, solver='liblinear', tol=0.0001,\n",
       "          verbose=0, warm_start=False)"
      ]
     },
     "execution_count": 255,
     "metadata": {},
     "output_type": "execute_result"
    }
   ],
   "source": [
    "lr = lm.LogisticRegression('l1', C=0.3)\n",
    "lr.fit(pr.drop('prediction', axis=1).values, y_t)"
   ]
  },
  {
   "cell_type": "code",
   "execution_count": 256,
   "metadata": {},
   "outputs": [
    {
     "data": {
      "text/plain": [
       "[('lstm_word', 0.0),\n",
       " ('lstm_word_big', 0.0),\n",
       " ('lstm_word_clear', 0.0),\n",
       " ('lstm_char', 0.0),\n",
       " ('mlp', 0.0),\n",
       " ('mlp_clear', 0.0),\n",
       " ('mlp_big_clear', 0.0),\n",
       " ('lr_count_2k_word_1', 0.0),\n",
       " ('lr_count_2k_word_13', 0.0),\n",
       " ('lr_count_2k_char_33', 0.0),\n",
       " ('lr_count_5k_word_13', 0.0),\n",
       " ('lr_count_10k_word_13', 0.0),\n",
       " ('lr_count_5k_char_23', 0.0),\n",
       " ('lr_clear_count_1k', 0.0),\n",
       " ('lr_clear_count_2k', 0.0),\n",
       " ('lr_clear_count_3k', 0.0),\n",
       " ('xgb_200_0', 0.0),\n",
       " ('xgb_150_0.3', 0.0),\n",
       " ('xgb_100_0.5', 0.0),\n",
       " ('xgb_75_0.7', 0.0),\n",
       " ('lr_tfidf_1k', 0.0),\n",
       " ('lr_tfidf_2k', 0.0),\n",
       " ('lr_tfidf_3k', 0.0),\n",
       " ('mlp_big', 0.079578809730879926),\n",
       " ('lr_tfidf_5k', 0.10877022807245063),\n",
       " ('xgb_300_0', 0.18565235883895151),\n",
       " ('lr_count_5k_word_12', 0.22940280716904571),\n",
       " ('lr_count_5k_char_33', 0.27444551864820244),\n",
       " ('lr_count_2k_word_12', 0.62057739526434041),\n",
       " ('lr_count_2k_char_23', 1.4703878156466577)]"
      ]
     },
     "execution_count": 256,
     "metadata": {},
     "output_type": "execute_result"
    }
   ],
   "source": [
    "sorted(list(zip(pr.columns[:-1], lr.coef_.ravel())), key=lambda x: x[1])"
   ]
  },
  {
   "cell_type": "code",
   "execution_count": 257,
   "metadata": {},
   "outputs": [],
   "source": [
    "best = list(filter(lambda x: x[1] != 0.0, zip(pr.columns[:-1], lr.coef_.ravel())))\n",
    "best_model_names = [x[0] for x in best]"
   ]
  },
  {
   "cell_type": "code",
   "execution_count": 258,
   "metadata": {},
   "outputs": [
    {
     "data": {
      "text/plain": [
       "7"
      ]
     },
     "execution_count": 258,
     "metadata": {},
     "output_type": "execute_result"
    }
   ],
   "source": [
    "len(best)"
   ]
  },
  {
   "cell_type": "code",
   "execution_count": 259,
   "metadata": {},
   "outputs": [
    {
     "data": {
      "text/plain": [
       "0.56216521003665065"
      ]
     },
     "execution_count": 259,
     "metadata": {},
     "output_type": "execute_result"
    }
   ],
   "source": [
    "accuracy_score(y_t, pr[best_model_names].mean(axis=1) > 0.5)"
   ]
  },
  {
   "cell_type": "code",
   "execution_count": 260,
   "metadata": {},
   "outputs": [
    {
     "data": {
      "text/plain": [
       "0.58519362041467304"
      ]
     },
     "execution_count": 260,
     "metadata": {},
     "output_type": "execute_result"
    }
   ],
   "source": [
    "roc_auc_score(y_t, pr[best_model_names].mean(axis=1))"
   ]
  },
  {
   "cell_type": "markdown",
   "metadata": {},
   "source": [
    "## Using best models"
   ]
  },
  {
   "cell_type": "markdown",
   "metadata": {},
   "source": [
    "### Binary prediction"
   ]
  },
  {
   "cell_type": "code",
   "execution_count": 261,
   "metadata": {
    "scrolled": true
   },
   "outputs": [
    {
     "name": "stderr",
     "output_type": "stream",
     "text": [
      "/home/digitman/miniconda3/lib/python3.6/site-packages/keras/activations.py:89: UserWarning: Do not pass a layer instance (such as PReLU) as the activation argument of another layer. Instead, advanced activation layers should be used just like any other layer in a model.\n",
      "  ).format(identifier=identifier.__class__.__name__))\n"
     ]
    },
    {
     "name": "stdout",
     "output_type": "stream",
     "text": [
      "1429 - uniq peoples\n",
      "4624 - additional peoples\n",
      "Before sampling:\n",
      "0.0    73488\n",
      "1.0    54723\n",
      "Name: is_gum, dtype: int64\n",
      "Additional comments:\n",
      "13244\n",
      "Accuracy for comment:\n"
     ]
    },
    {
     "name": "stderr",
     "output_type": "stream",
     "text": [
      "/home/digitman/miniconda3/lib/python3.6/site-packages/keras/models.py:851: UserWarning: The `nb_epoch` argument in `fit` has been renamed `epochs`.\n",
      "  warnings.warn('The `nb_epoch` argument in `fit` '\n"
     ]
    },
    {
     "name": "stdout",
     "output_type": "stream",
     "text": [
      "Model:  mlp_big\n",
      "0.540738652382\n",
      "Model:  lr_tfidf_5k\n",
      "0.539610938822\n",
      "Model:  xgb_300_0\n",
      "0.534254299408\n",
      "Model:  lr_count_5k_word_12\n",
      "0.544403721455\n",
      "Model:  lr_count_5k_char_33\n",
      "0.545531435016\n",
      "Model:  lr_count_2k_word_12\n",
      "0.551451931209\n",
      "Model:  lr_count_2k_char_23\n",
      "0.558218212574\n",
      "Median of models: 0.558218212574\n",
      "Accuracy for user:\n",
      "Model:  mlp_big\n",
      "0.559440559441\n",
      "Model:  lr_tfidf_5k\n",
      "0.615384615385\n",
      "Model:  xgb_300_0\n",
      "0.541958041958\n",
      "Model:  lr_count_5k_word_12\n",
      "0.618881118881\n",
      "Model:  lr_count_5k_char_33\n",
      "0.63986013986\n",
      "Model:  lr_count_2k_word_12\n",
      "0.65034965035\n",
      "Model:  lr_count_2k_char_23\n",
      "0.615384615385\n",
      "Median of models averaged per user:\n",
      "0.65034965035\n",
      "Median of averaged model per user:\n",
      "0.636363636364\n",
      "CPU times: user 13min 9s, sys: 37 s, total: 13min 46s\n",
      "Wall time: 5min 46s\n"
     ]
    }
   ],
   "source": [
    "%%time\n",
    "np.random.seed(0)\n",
    "fit_predict_to_n_user(comments,\n",
    "        [\n",
    "            MlpModel('mlp_big', max_features=3000, neurons=700),\n",
    "            LrModelTfidf('lr_tfidf_5k', 5000),\n",
    "            FeaturesModelXGB('xgb_300_0', n_estimators=300, var_threshold=0.0),\n",
    "            LrModelCount('lr_count_5k_word_12', 5000, ngram_range=(1, 2)),\n",
    "            LrModelCount('lr_count_5k_char_33', 5000, 'char', (3, 3)),\n",
    "            LrModelCount('lr_count_2k_word_12', 2000, ngram_range=(1, 2)),\n",
    "            LrModelCount('lr_count_2k_char_23', 2000, 'char', (2, 3)),\n",
    "        ], 11, False, with_additional=True, debug=True)"
   ]
  },
  {
   "cell_type": "markdown",
   "metadata": {},
   "source": [
    "### Probability prediction"
   ]
  },
  {
   "cell_type": "code",
   "execution_count": 262,
   "metadata": {
    "scrolled": true
   },
   "outputs": [
    {
     "name": "stderr",
     "output_type": "stream",
     "text": [
      "/home/digitman/miniconda3/lib/python3.6/site-packages/keras/activations.py:89: UserWarning: Do not pass a layer instance (such as PReLU) as the activation argument of another layer. Instead, advanced activation layers should be used just like any other layer in a model.\n",
      "  ).format(identifier=identifier.__class__.__name__))\n"
     ]
    },
    {
     "name": "stdout",
     "output_type": "stream",
     "text": [
      "1429 - uniq peoples\n",
      "4624 - additional peoples\n",
      "Before sampling:\n",
      "0.0    73488\n",
      "1.0    54723\n",
      "Name: is_gum, dtype: int64\n",
      "Additional comments:\n",
      "13244\n",
      "Accuracy for comment:\n"
     ]
    },
    {
     "name": "stderr",
     "output_type": "stream",
     "text": [
      "/home/digitman/miniconda3/lib/python3.6/site-packages/keras/models.py:851: UserWarning: The `nb_epoch` argument in `fit` has been renamed `epochs`.\n",
      "  warnings.warn('The `nb_epoch` argument in `fit` '\n"
     ]
    },
    {
     "name": "stdout",
     "output_type": "stream",
     "text": [
      "Model:  mlp_big\n",
      "0.541020580772\n",
      "Model:  lr_tfidf_5k\n",
      "0.539610938822\n",
      "Model:  xgb_300_0\n",
      "0.534254299408\n",
      "Model:  lr_count_5k_word_12\n",
      "0.544403721455\n",
      "Model:  lr_count_5k_char_33\n",
      "0.545531435016\n",
      "Model:  lr_count_2k_word_12\n",
      "0.551451931209\n",
      "Model:  lr_count_2k_char_23\n",
      "0.558218212574\n",
      "Mean of models: 0.558500140964\n",
      "Accuracy for user:\n",
      "Model:  mlp_big\n",
      "0.632867132867\n",
      "Model:  lr_tfidf_5k\n",
      "0.597902097902\n",
      "Model:  xgb_300_0\n",
      "0.56993006993\n",
      "Model:  lr_count_5k_word_12\n",
      "0.629370629371\n",
      "Model:  lr_count_5k_char_33\n",
      "0.632867132867\n",
      "Model:  lr_count_2k_word_12\n",
      "0.65034965035\n",
      "Model:  lr_count_2k_char_23\n",
      "0.660839160839\n",
      "Median of models averaged per user:\n",
      "0.667832167832\n",
      "Median of averaged model per user:\n",
      "0.667832167832\n",
      "CPU times: user 13min 16s, sys: 38.2 s, total: 13min 54s\n",
      "Wall time: 5min 58s\n"
     ]
    }
   ],
   "source": [
    "%%time\n",
    "np.random.seed(0)\n",
    "fit_predict_to_n_user(comments,\n",
    "        [\n",
    "            MlpModel('mlp_big', max_features=3000, neurons=700),\n",
    "            LrModelTfidf('lr_tfidf_5k', 5000),\n",
    "            FeaturesModelXGB('xgb_300_0', n_estimators=300, var_threshold=0.0),\n",
    "            LrModelCount('lr_count_5k_word_12', 5000, ngram_range=(1, 2)),\n",
    "            LrModelCount('lr_count_5k_char_33', 5000, 'char', (3, 3)),\n",
    "            LrModelCount('lr_count_2k_word_12', 2000, ngram_range=(1, 2)),\n",
    "            LrModelCount('lr_count_2k_char_23', 2000, 'char', (2, 3)),\n",
    "        ], 11, False, with_additional=True, debug=True, predict_proba=True)"
   ]
  },
  {
   "cell_type": "markdown",
   "metadata": {},
   "source": [
    "Probability is better"
   ]
  },
  {
   "cell_type": "markdown",
   "metadata": {},
   "source": [
    "## Predicting for one user in a wild"
   ]
  },
  {
   "cell_type": "markdown",
   "metadata": {},
   "source": [
    "### AverageModel"
   ]
  },
  {
   "cell_type": "code",
   "execution_count": 294,
   "metadata": {
    "collapsed": true
   },
   "outputs": [],
   "source": [
    "class AverageModel():\n",
    "    def __init__(self, models):\n",
    "        self.models = models\n",
    "        self._fitted = False\n",
    "    \n",
    "    def fit(self, X, y):\n",
    "        for m in self.models:\n",
    "            m.fit(X, y)\n",
    "        self._fitted = True\n",
    "    \n",
    "    def predict(self, X):\n",
    "        if not self._fitted:\n",
    "            raise Exception('Not fitted yet')\n",
    "        \n",
    "        predictions = np.hstack([np.expand_dims(m.predict(X), -1) for m in self.models])\n",
    "        predictions = (np.median(predictions, axis=1) > 0.5).astype(int)\n",
    "        return predictions\n",
    "    \n",
    "    def predict_proba(self, X):\n",
    "        if not self._fitted:\n",
    "            raise Exception('Not fitted yet')\n",
    "        \n",
    "        predictions = []\n",
    "        for model in self.models:\n",
    "            prediction = model.predict_proba(X)\n",
    "            if prediction.shape[1] > 1:\n",
    "                prediction = prediction[:, 1]\n",
    "            else:\n",
    "                prediction = prediction.ravel()\n",
    "            predictions.append(prediction)\n",
    "                \n",
    "        predictions = np.hstack([np.expand_dims(p, -1) for p in predictions])\n",
    "        predictions = np.mean(predictions, axis=1)\n",
    "        return predictions"
   ]
  },
  {
   "cell_type": "code",
   "execution_count": 320,
   "metadata": {},
   "outputs": [
    {
     "name": "stderr",
     "output_type": "stream",
     "text": [
      "/home/digitman/miniconda3/lib/python3.6/site-packages/keras/activations.py:89: UserWarning: Do not pass a layer instance (such as PReLU) as the activation argument of another layer. Instead, advanced activation layers should be used just like any other layer in a model.\n",
      "  ).format(identifier=identifier.__class__.__name__))\n"
     ]
    }
   ],
   "source": [
    "av_model = AverageModel([\n",
    "    MlpModel('mlp_big', max_features=3000, neurons=700),\n",
    "    LrModelTfidf('lr_tfidf_5k', 5000),\n",
    "    FeaturesModelXGB('xgb_300_0', n_estimators=300, var_threshold=0.0),\n",
    "    LrModelCount('lr_count_5k_word_12', 5000, ngram_range=(1, 2)),\n",
    "    LrModelCount('lr_count_5k_char_33', 5000, 'char', (3, 3)),\n",
    "    LrModelCount('lr_count_2k_word_12', 2000, ngram_range=(1, 2)),\n",
    "    LrModelCount('lr_count_2k_char_23', 2000, 'char', (2, 3)),\n",
    "])"
   ]
  },
  {
   "cell_type": "code",
   "execution_count": 321,
   "metadata": {},
   "outputs": [],
   "source": [
    "unique_ids = comments.from_id.value_counts()[comments.from_id.value_counts() >= 11].index.values\n",
    "additional_ids = comments.from_id.value_counts()[comments.from_id.value_counts() < 11].index.values\n",
    "\n",
    "train_idxs = unique_ids[:int(len(unique_ids) * 0.8)]\n",
    "test_idxs = unique_ids[int(len(unique_ids) * 0.8):]\n",
    "\n",
    "train_comments = comments[[i in train_idxs for i in comments.from_id]]\n",
    "additional_comments = comments[[i in additional_ids for i in comments.from_id]]\n",
    "train_comments = pd.concat((train_comments.reset_index(drop=True), additional_comments.reset_index(drop=True)))\n",
    "\n",
    "test_comments = comments[[i in test_idxs for i in comments.from_id]]\n",
    "\n",
    "train_comments = make_df_balanced(train_comments, 'is_gum')\n",
    "\n",
    "X_train, X_test = train_comments, test_comments\n",
    "y_train, y_test = train_comments.is_gum.values, test_comments.is_gum.values"
   ]
  },
  {
   "cell_type": "code",
   "execution_count": null,
   "metadata": {},
   "outputs": [
    {
     "name": "stderr",
     "output_type": "stream",
     "text": [
      "/home/digitman/miniconda3/lib/python3.6/site-packages/keras/models.py:851: UserWarning: The `nb_epoch` argument in `fit` has been renamed `epochs`.\n",
      "  warnings.warn('The `nb_epoch` argument in `fit` '\n"
     ]
    }
   ],
   "source": [
    "av_model.fit(X_train, y_train)"
   ]
  },
  {
   "cell_type": "code",
   "execution_count": null,
   "metadata": {},
   "outputs": [],
   "source": [
    "pr = av_model.predict(X_test)"
   ]
  },
  {
   "cell_type": "code",
   "execution_count": 299,
   "metadata": {},
   "outputs": [
    {
     "data": {
      "text/plain": [
       "0.57287848886382864"
      ]
     },
     "execution_count": 299,
     "metadata": {},
     "output_type": "execute_result"
    }
   ],
   "source": [
    "accuracy_score(y_test, pr)"
   ]
  },
  {
   "cell_type": "code",
   "execution_count": null,
   "metadata": {},
   "outputs": [],
   "source": [
    "accuracy_score(y_test, pr)"
   ]
  },
  {
   "cell_type": "code",
   "execution_count": null,
   "metadata": {
    "collapsed": true
   },
   "outputs": [],
   "source": [
    "pr = av_model.predict_proba(X_test)"
   ]
  },
  {
   "cell_type": "code",
   "execution_count": 301,
   "metadata": {},
   "outputs": [
    {
     "data": {
      "text/plain": [
       "0.55821821257400617"
      ]
     },
     "execution_count": 301,
     "metadata": {},
     "output_type": "execute_result"
    }
   ],
   "source": [
    "accuracy_score(y_test, pr > 0.5)"
   ]
  },
  {
   "cell_type": "code",
   "execution_count": null,
   "metadata": {},
   "outputs": [],
   "source": [
    "accuracy_score(y_test, pr > 0.5)"
   ]
  },
  {
   "cell_type": "code",
   "execution_count": 303,
   "metadata": {
    "collapsed": true
   },
   "outputs": [],
   "source": [
    "my_coms = ['Эй ты а ну быро отошел от моей машины!!!',\n",
    "           'Вчера на вогресе такую аварию видел',\n",
    "           'Слышали, проезд до 17р подорожал?)']"
   ]
  },
  {
   "cell_type": "code",
   "execution_count": 305,
   "metadata": {},
   "outputs": [],
   "source": [
    "my_coms_df = pd.DataFrame(my_coms, columns=['text'])"
   ]
  },
  {
   "cell_type": "code",
   "execution_count": 308,
   "metadata": {},
   "outputs": [
    {
     "data": {
      "text/plain": [
       "array([0, 0, 0])"
      ]
     },
     "execution_count": 308,
     "metadata": {},
     "output_type": "execute_result"
    }
   ],
   "source": [
    "av_model.predict(my_coms_df)"
   ]
  },
  {
   "cell_type": "code",
   "execution_count": null,
   "metadata": {},
   "outputs": [],
   "source": [
    "av_model.predict(my_coms_df)"
   ]
  },
  {
   "cell_type": "code",
   "execution_count": 309,
   "metadata": {},
   "outputs": [
    {
     "data": {
      "text/plain": [
       "array([ 0.52132869,  0.43700393,  0.39854874])"
      ]
     },
     "execution_count": 309,
     "metadata": {},
     "output_type": "execute_result"
    }
   ],
   "source": [
    "av_model.predict_proba(my_coms_df)"
   ]
  },
  {
   "cell_type": "code",
   "execution_count": null,
   "metadata": {},
   "outputs": [],
   "source": [
    "av_model.predict_proba(my_coms_df)"
   ]
  },
  {
   "cell_type": "code",
   "execution_count": 319,
   "metadata": {},
   "outputs": [
    {
     "name": "stdout",
     "output_type": "stream",
     "text": [
      "CPU times: user 4 ms, sys: 0 ns, total: 4 ms\n",
      "Wall time: 3.75 ms\n"
     ]
    }
   ],
   "source": [
    "%time prob = av_model.predict_proba(my_coms_df).mean()"
   ]
  },
  {
   "cell_type": "code",
   "execution_count": 312,
   "metadata": {},
   "outputs": [
    {
     "name": "stdout",
     "output_type": "stream",
     "text": [
      "Ваша оценка: 0.45\n"
     ]
    }
   ],
   "source": [
    "print('Ваша оценка: {:.2f}'.format(prob))"
   ]
  },
  {
   "cell_type": "markdown",
   "metadata": {},
   "source": [
    ".6536\n",
    ".6398"
   ]
  },
  {
   "cell_type": "markdown",
   "metadata": {},
   "source": [
    "### For different n"
   ]
  },
  {
   "cell_type": "code",
   "execution_count": 150,
   "metadata": {
    "scrolled": true
   },
   "outputs": [
    {
     "name": "stderr",
     "output_type": "stream",
     "text": [
      "/home/digitman/miniconda3/lib/python3.6/site-packages/keras/preprocessing/text.py:90: UserWarning: The `nb_words` argument in `Tokenizer` has been renamed `num_words`.\n",
      "  warnings.warn('The `nb_words` argument in `Tokenizer` '\n",
      "/home/digitman/miniconda3/lib/python3.6/site-packages/ipykernel_launcher.py:17: UserWarning: Update your `LSTM` call to the Keras 2 API: `LSTM(64, return_sequences=True, dropout=0.2, recurrent_dropout=0.2)`\n",
      "/home/digitman/miniconda3/lib/python3.6/site-packages/ipykernel_launcher.py:19: UserWarning: Update your `LSTM` call to the Keras 2 API: `LSTM(64, return_sequences=False, dropout=0.3, recurrent_dropout=0.3)`\n",
      "/home/digitman/miniconda3/lib/python3.6/site-packages/keras/activations.py:89: UserWarning: Do not pass a layer instance (such as PReLU) as the activation argument of another layer. Instead, advanced activation layers should be used just like any other layer in a model.\n",
      "  ).format(identifier=identifier.__class__.__name__))\n"
     ]
    },
    {
     "name": "stdout",
     "output_type": "stream",
     "text": [
      "Accuracy for comment:\n"
     ]
    },
    {
     "name": "stderr",
     "output_type": "stream",
     "text": [
      "/home/digitman/miniconda3/lib/python3.6/site-packages/keras/models.py:851: UserWarning: The `nb_epoch` argument in `fit` has been renamed `epochs`.\n",
      "  warnings.warn('The `nb_epoch` argument in `fit` '\n"
     ]
    },
    {
     "name": "stdout",
     "output_type": "stream",
     "text": [
      "Model:  lstm_word\n",
      "0.505617977528\n",
      "Model:  mlp\n",
      "0.512172284644\n",
      "Model:  lr_count_2k_word\n",
      "0.507490636704\n",
      "Model:  lr_count_2k_char\n",
      "0.526217228464\n",
      "Model:  lr_count_5k_word\n",
      "0.503745318352\n",
      "Model:  lr_count_5k_char\n",
      "0.50468164794\n",
      "Model:  lr_clear_count_1k\n",
      "0.5234082397\n",
      "Model:  xgb\n",
      "0.52808988764\n",
      "Model:  lr_tfidf_1k\n",
      "0.50936329588\n",
      "Model:  lr_tfidf_5k\n",
      "0.507490636704\n",
      "Median of models: 0.520599250936\n",
      "Accuracy for user:\n",
      "Model:  lstm_word\n",
      "0.505617977528\n",
      "Model:  mlp\n",
      "0.512172284644\n",
      "Model:  lr_count_2k_word\n",
      "0.507490636704\n",
      "Model:  lr_count_2k_char\n",
      "0.526217228464\n",
      "Model:  lr_count_5k_word\n",
      "0.503745318352\n",
      "Model:  lr_count_5k_char\n",
      "0.50468164794\n",
      "Model:  lr_clear_count_1k\n",
      "0.5234082397\n",
      "Model:  xgb\n",
      "0.52808988764\n",
      "Model:  lr_tfidf_1k\n",
      "0.50936329588\n",
      "Model:  lr_tfidf_5k\n",
      "0.507490636704\n",
      "Median of models averaged per user:\n",
      "0.520599250936"
     ]
    },
    {
     "name": "stderr",
     "output_type": "stream",
     "text": [
      "/home/digitman/miniconda3/lib/python3.6/site-packages/keras/preprocessing/text.py:90: UserWarning: The `nb_words` argument in `Tokenizer` has been renamed `num_words`.\n",
      "  warnings.warn('The `nb_words` argument in `Tokenizer` '\n",
      "/home/digitman/miniconda3/lib/python3.6/site-packages/ipykernel_launcher.py:17: UserWarning: Update your `LSTM` call to the Keras 2 API: `LSTM(64, return_sequences=True, dropout=0.2, recurrent_dropout=0.2)`\n",
      "/home/digitman/miniconda3/lib/python3.6/site-packages/ipykernel_launcher.py:19: UserWarning: Update your `LSTM` call to the Keras 2 API: `LSTM(64, return_sequences=False, dropout=0.3, recurrent_dropout=0.3)`\n",
      "/home/digitman/miniconda3/lib/python3.6/site-packages/keras/activations.py:89: UserWarning: Do not pass a layer instance (such as PReLU) as the activation argument of another layer. Instead, advanced activation layers should be used just like any other layer in a model.\n",
      "  ).format(identifier=identifier.__class__.__name__))\n"
     ]
    },
    {
     "name": "stdout",
     "output_type": "stream",
     "text": [
      "\n",
      "Median of averaged model per user:\n",
      "0.520599250936\n",
      "Accuracy for comment:\n"
     ]
    },
    {
     "name": "stderr",
     "output_type": "stream",
     "text": [
      "/home/digitman/miniconda3/lib/python3.6/site-packages/keras/models.py:851: UserWarning: The `nb_epoch` argument in `fit` has been renamed `epochs`.\n",
      "  warnings.warn('The `nb_epoch` argument in `fit` '\n"
     ]
    },
    {
     "name": "stdout",
     "output_type": "stream",
     "text": [
      "Model:  lstm_word\n",
      "0.495670995671\n",
      "Model:  mlp\n",
      "0.50937950938\n",
      "Model:  lr_count_2k_word\n",
      "0.502886002886\n",
      "Model:  lr_count_2k_char\n",
      "0.510101010101\n",
      "Model:  lr_count_5k_word\n",
      "0.517316017316\n",
      "Model:  lr_count_5k_char\n",
      "0.507936507937\n",
      "Model:  lr_clear_count_1k\n",
      "0.511544011544\n",
      "Model:  xgb\n",
      "0.48556998557\n",
      "Model:  lr_tfidf_1k\n",
      "0.510822510823\n",
      "Model:  lr_tfidf_5k\n",
      "0.510101010101\n",
      "Median of models: 0.512987012987\n",
      "Accuracy for user:\n",
      "Model:  lstm_word\n",
      "0.507936507937\n",
      "Model:  mlp\n",
      "0.506493506494\n",
      "Model:  lr_count_2k_word\n",
      "0.507936507937\n",
      "Model:  lr_count_2k_char\n",
      "0.518037518038\n",
      "Model:  lr_count_5k_word\n",
      "0.519480519481\n",
      "Model:  lr_count_5k_char\n",
      "0.503607503608\n",
      "Model:  lr_clear_count_1k\n",
      "0.525252525253\n",
      "Model:  xgb\n",
      "0.496392496392\n",
      "Model:  lr_tfidf_1k\n",
      "0.513708513709\n",
      "Model:  lr_tfidf_5k\n",
      "0.518037518038\n",
      "Median of models averaged per user:\n",
      "0.515151515152\n",
      "Median of averaged model per user:\n",
      "0.52380952381\n"
     ]
    },
    {
     "name": "stderr",
     "output_type": "stream",
     "text": [
      "/home/digitman/miniconda3/lib/python3.6/site-packages/keras/preprocessing/text.py:90: UserWarning: The `nb_words` argument in `Tokenizer` has been renamed `num_words`.\n",
      "  warnings.warn('The `nb_words` argument in `Tokenizer` '\n",
      "/home/digitman/miniconda3/lib/python3.6/site-packages/ipykernel_launcher.py:17: UserWarning: Update your `LSTM` call to the Keras 2 API: `LSTM(64, return_sequences=True, dropout=0.2, recurrent_dropout=0.2)`\n",
      "/home/digitman/miniconda3/lib/python3.6/site-packages/ipykernel_launcher.py:19: UserWarning: Update your `LSTM` call to the Keras 2 API: `LSTM(64, return_sequences=False, dropout=0.3, recurrent_dropout=0.3)`\n",
      "/home/digitman/miniconda3/lib/python3.6/site-packages/keras/activations.py:89: UserWarning: Do not pass a layer instance (such as PReLU) as the activation argument of another layer. Instead, advanced activation layers should be used just like any other layer in a model.\n",
      "  ).format(identifier=identifier.__class__.__name__))\n"
     ]
    },
    {
     "name": "stdout",
     "output_type": "stream",
     "text": [
      "Accuracy for comment:\n"
     ]
    },
    {
     "name": "stderr",
     "output_type": "stream",
     "text": [
      "/home/digitman/miniconda3/lib/python3.6/site-packages/keras/models.py:851: UserWarning: The `nb_epoch` argument in `fit` has been renamed `epochs`.\n",
      "  warnings.warn('The `nb_epoch` argument in `fit` '\n"
     ]
    },
    {
     "name": "stdout",
     "output_type": "stream",
     "text": [
      "Model:  lstm_word\n",
      "0.514167650531\n",
      "Model:  mlp\n",
      "0.512396694215\n",
      "Model:  lr_count_2k_word\n",
      "0.511806375443\n",
      "Model:  lr_count_2k_char\n",
      "0.513577331759\n",
      "Model:  lr_count_5k_word\n",
      "0.517709563164\n",
      "Model:  lr_count_5k_char\n",
      "0.499409681228\n",
      "Model:  lr_clear_count_1k\n",
      "0.524203069658\n",
      "Model:  xgb\n",
      "0.510625737898\n",
      "Model:  lr_tfidf_1k\n",
      "0.507674144038\n",
      "Model:  lr_tfidf_5k\n",
      "0.514167650531\n",
      "Median of models: 0.512987012987\n",
      "Accuracy for user:\n",
      "Model:  lstm_word\n",
      "0.534709193246\n",
      "Model:  mlp\n",
      "0.527204502814\n",
      "Model:  lr_count_2k_word\n",
      "0.544090056285\n",
      "Model:  lr_count_2k_char\n",
      "0.527204502814\n",
      "Model:  lr_count_5k_word\n",
      "0.527204502814\n",
      "Model:  lr_count_5k_char\n",
      "0.512195121951\n",
      "Model:  lr_clear_count_1k\n",
      "0.538461538462\n",
      "Model:  xgb\n",
      "0.519699812383\n",
      "Model:  lr_tfidf_1k\n",
      "0.519699812383\n",
      "Model:  lr_tfidf_5k\n",
      "0.538461538462\n",
      "Median of models averaged per user:\n",
      "0.544090056285\n",
      "Median of averaged model per user:\n",
      "0.53095684803\n"
     ]
    },
    {
     "name": "stderr",
     "output_type": "stream",
     "text": [
      "/home/digitman/miniconda3/lib/python3.6/site-packages/keras/preprocessing/text.py:90: UserWarning: The `nb_words` argument in `Tokenizer` has been renamed `num_words`.\n",
      "  warnings.warn('The `nb_words` argument in `Tokenizer` '\n",
      "/home/digitman/miniconda3/lib/python3.6/site-packages/ipykernel_launcher.py:17: UserWarning: Update your `LSTM` call to the Keras 2 API: `LSTM(64, return_sequences=True, dropout=0.2, recurrent_dropout=0.2)`\n",
      "/home/digitman/miniconda3/lib/python3.6/site-packages/ipykernel_launcher.py:19: UserWarning: Update your `LSTM` call to the Keras 2 API: `LSTM(64, return_sequences=False, dropout=0.3, recurrent_dropout=0.3)`\n",
      "/home/digitman/miniconda3/lib/python3.6/site-packages/keras/activations.py:89: UserWarning: Do not pass a layer instance (such as PReLU) as the activation argument of another layer. Instead, advanced activation layers should be used just like any other layer in a model.\n",
      "  ).format(identifier=identifier.__class__.__name__))\n"
     ]
    },
    {
     "name": "stdout",
     "output_type": "stream",
     "text": [
      "Accuracy for comment:\n"
     ]
    },
    {
     "name": "stderr",
     "output_type": "stream",
     "text": [
      "/home/digitman/miniconda3/lib/python3.6/site-packages/keras/models.py:851: UserWarning: The `nb_epoch` argument in `fit` has been renamed `epochs`.\n",
      "  warnings.warn('The `nb_epoch` argument in `fit` '\n"
     ]
    },
    {
     "name": "stdout",
     "output_type": "stream",
     "text": [
      "Model:  lstm_word\n",
      "0.510660426417\n",
      "Model:  mlp\n",
      "0.515860634425\n",
      "Model:  lr_count_2k_word\n",
      "0.527301092044\n",
      "Model:  lr_count_2k_char\n",
      "0.519500780031\n",
      "Model:  lr_count_5k_word\n",
      "0.519500780031\n",
      "Model:  lr_count_5k_char\n",
      "0.509100364015\n",
      "Model:  lr_clear_count_1k\n",
      "0.520540821633\n",
      "Model:  xgb\n",
      "0.527301092044\n",
      "Model:  lr_tfidf_1k\n",
      "0.50598023921\n",
      "Model:  lr_tfidf_5k\n",
      "0.515340613625\n",
      "Median of models: 0.525741029641\n",
      "Accuracy for user:\n",
      "Model:  lstm_word\n",
      "0.512359550562\n",
      "Model:  mlp\n",
      "0.52808988764\n",
      "Model:  lr_count_2k_word\n",
      "0.54606741573\n",
      "Model:  lr_count_2k_char\n",
      "0.525842696629\n",
      "Model:  lr_count_5k_word\n",
      "0.54606741573\n",
      "Model:  lr_count_5k_char\n",
      "0.516853932584\n",
      "Model:  lr_clear_count_1k\n",
      "0.54606741573\n",
      "Model:  xgb\n",
      "0.539325842697\n",
      "Model:  lr_tfidf_1k\n",
      "0.521348314607\n",
      "Model:  lr_tfidf_5k\n",
      "0.539325842697\n",
      "Median of models averaged per user:\n",
      "0.54606741573\n",
      "Median of averaged model per user:\n",
      "0.539325842697"
     ]
    },
    {
     "name": "stderr",
     "output_type": "stream",
     "text": [
      "/home/digitman/miniconda3/lib/python3.6/site-packages/keras/preprocessing/text.py:90: UserWarning: The `nb_words` argument in `Tokenizer` has been renamed `num_words`.\n",
      "  warnings.warn('The `nb_words` argument in `Tokenizer` '\n",
      "/home/digitman/miniconda3/lib/python3.6/site-packages/ipykernel_launcher.py:17: UserWarning: Update your `LSTM` call to the Keras 2 API: `LSTM(64, return_sequences=True, dropout=0.2, recurrent_dropout=0.2)`\n",
      "/home/digitman/miniconda3/lib/python3.6/site-packages/ipykernel_launcher.py:19: UserWarning: Update your `LSTM` call to the Keras 2 API: `LSTM(64, return_sequences=False, dropout=0.3, recurrent_dropout=0.3)`\n",
      "/home/digitman/miniconda3/lib/python3.6/site-packages/keras/activations.py:89: UserWarning: Do not pass a layer instance (such as PReLU) as the activation argument of another layer. Instead, advanced activation layers should be used just like any other layer in a model.\n",
      "  ).format(identifier=identifier.__class__.__name__))\n"
     ]
    },
    {
     "name": "stdout",
     "output_type": "stream",
     "text": [
      "\n",
      "Accuracy for comment:\n"
     ]
    },
    {
     "name": "stderr",
     "output_type": "stream",
     "text": [
      "/home/digitman/miniconda3/lib/python3.6/site-packages/keras/models.py:851: UserWarning: The `nb_epoch` argument in `fit` has been renamed `epochs`.\n",
      "  warnings.warn('The `nb_epoch` argument in `fit` '\n"
     ]
    },
    {
     "name": "stdout",
     "output_type": "stream",
     "text": [
      "Model:  lstm_word\n",
      "0.51395572666\n",
      "Model:  mlp\n",
      "0.523580365736\n",
      "Model:  lr_count_2k_word\n",
      "0.52021174206\n",
      "Model:  lr_count_2k_char\n",
      "0.51010587103\n",
      "Model:  lr_count_5k_word\n",
      "0.521174205967\n",
      "Model:  lr_count_5k_char\n",
      "0.507218479307\n",
      "Model:  lr_clear_count_1k\n",
      "0.518768046198\n",
      "Model:  xgb\n",
      "0.523099133782\n",
      "Model:  lr_tfidf_1k\n",
      "0.510587102984\n",
      "Model:  lr_tfidf_5k\n",
      "0.519249278152\n",
      "Median of models: 0.533205004812\n",
      "Accuracy for user:\n",
      "Model:  lstm_word\n",
      "0.537662337662\n",
      "Model:  mlp\n",
      "0.532467532468\n",
      "Model:  lr_count_2k_word\n",
      "0.527272727273\n",
      "Model:  lr_count_2k_char\n",
      "0.503896103896\n",
      "Model:  lr_count_5k_word\n",
      "0.548051948052\n",
      "Model:  lr_count_5k_char\n",
      "0.509090909091\n",
      "Model:  lr_clear_count_1k\n",
      "0.535064935065\n",
      "Model:  xgb\n",
      "0.550649350649\n",
      "Model:  lr_tfidf_1k\n",
      "0.501298701299\n",
      "Model:  lr_tfidf_5k\n",
      "0.532467532468\n",
      "Median of models averaged per user:\n",
      "0.537662337662\n",
      "Median of averaged model per user:\n",
      "0.568831168831\n"
     ]
    },
    {
     "name": "stderr",
     "output_type": "stream",
     "text": [
      "/home/digitman/miniconda3/lib/python3.6/site-packages/keras/preprocessing/text.py:90: UserWarning: The `nb_words` argument in `Tokenizer` has been renamed `num_words`.\n",
      "  warnings.warn('The `nb_words` argument in `Tokenizer` '\n",
      "/home/digitman/miniconda3/lib/python3.6/site-packages/ipykernel_launcher.py:17: UserWarning: Update your `LSTM` call to the Keras 2 API: `LSTM(64, return_sequences=True, dropout=0.2, recurrent_dropout=0.2)`\n",
      "/home/digitman/miniconda3/lib/python3.6/site-packages/ipykernel_launcher.py:19: UserWarning: Update your `LSTM` call to the Keras 2 API: `LSTM(64, return_sequences=False, dropout=0.3, recurrent_dropout=0.3)`\n",
      "/home/digitman/miniconda3/lib/python3.6/site-packages/keras/activations.py:89: UserWarning: Do not pass a layer instance (such as PReLU) as the activation argument of another layer. Instead, advanced activation layers should be used just like any other layer in a model.\n",
      "  ).format(identifier=identifier.__class__.__name__))\n"
     ]
    },
    {
     "name": "stdout",
     "output_type": "stream",
     "text": [
      "Accuracy for comment:\n"
     ]
    },
    {
     "name": "stderr",
     "output_type": "stream",
     "text": [
      "/home/digitman/miniconda3/lib/python3.6/site-packages/keras/models.py:851: UserWarning: The `nb_epoch` argument in `fit` has been renamed `epochs`.\n",
      "  warnings.warn('The `nb_epoch` argument in `fit` '\n"
     ]
    },
    {
     "name": "stdout",
     "output_type": "stream",
     "text": [
      "Model:  lstm_word\n",
      "0.51912568306\n",
      "Model:  mlp\n",
      "0.511839708561\n",
      "Model:  lr_count_2k_word\n",
      "0.516848816029\n",
      "Model:  lr_count_2k_char\n",
      "0.517304189435\n",
      "Model:  lr_count_5k_word\n",
      "0.524590163934\n",
      "Model:  lr_count_5k_char\n",
      "0.508652094718\n",
      "Model:  lr_clear_count_1k\n",
      "0.52276867031\n",
      "Model:  xgb\n",
      "0.509107468124\n",
      "Model:  lr_tfidf_1k\n",
      "0.516848816029\n",
      "Model:  lr_tfidf_5k\n",
      "0.530054644809\n",
      "Median of models: 0.525500910747\n",
      "Accuracy for user:\n",
      "Model:  lstm_word\n",
      "0.523668639053\n",
      "Model:  mlp\n",
      "0.479289940828\n",
      "Model:  lr_count_2k_word\n",
      "0.526627218935\n",
      "Model:  lr_count_2k_char\n",
      "0.508875739645\n",
      "Model:  lr_count_5k_word\n",
      "0.529585798817\n",
      "Model:  lr_count_5k_char\n",
      "0.508875739645\n",
      "Model:  lr_clear_count_1k\n",
      "0.511834319527\n",
      "Model:  xgb\n",
      "0.511834319527\n",
      "Model:  lr_tfidf_1k\n",
      "0.5\n",
      "Model:  lr_tfidf_5k\n",
      "0.532544378698\n",
      "Median of models averaged per user:\n",
      "0.529585798817\n"
     ]
    },
    {
     "name": "stderr",
     "output_type": "stream",
     "text": [
      "/home/digitman/miniconda3/lib/python3.6/site-packages/keras/preprocessing/text.py:90: UserWarning: The `nb_words` argument in `Tokenizer` has been renamed `num_words`.\n",
      "  warnings.warn('The `nb_words` argument in `Tokenizer` '\n",
      "/home/digitman/miniconda3/lib/python3.6/site-packages/ipykernel_launcher.py:17: UserWarning: Update your `LSTM` call to the Keras 2 API: `LSTM(64, return_sequences=True, dropout=0.2, recurrent_dropout=0.2)`\n",
      "/home/digitman/miniconda3/lib/python3.6/site-packages/ipykernel_launcher.py:19: UserWarning: Update your `LSTM` call to the Keras 2 API: `LSTM(64, return_sequences=False, dropout=0.3, recurrent_dropout=0.3)`\n",
      "/home/digitman/miniconda3/lib/python3.6/site-packages/keras/activations.py:89: UserWarning: Do not pass a layer instance (such as PReLU) as the activation argument of another layer. Instead, advanced activation layers should be used just like any other layer in a model.\n",
      "  ).format(identifier=identifier.__class__.__name__))\n"
     ]
    },
    {
     "name": "stdout",
     "output_type": "stream",
     "text": [
      "Median of averaged model per user:\n",
      "0.532544378698\n",
      "Accuracy for comment:\n"
     ]
    },
    {
     "name": "stderr",
     "output_type": "stream",
     "text": [
      "/home/digitman/miniconda3/lib/python3.6/site-packages/keras/models.py:851: UserWarning: The `nb_epoch` argument in `fit` has been renamed `epochs`.\n",
      "  warnings.warn('The `nb_epoch` argument in `fit` '\n"
     ]
    },
    {
     "name": "stdout",
     "output_type": "stream",
     "text": [
      "Model:  lstm_word\n",
      "0.517346053773\n",
      "Model:  mlp\n",
      "0.50607111882\n",
      "Model:  lr_count_2k_word\n",
      "0.514744145707\n",
      "Model:  lr_count_2k_char\n",
      "0.501734605377\n",
      "Model:  lr_count_5k_word\n",
      "0.510407632264\n",
      "Model:  lr_count_5k_char\n",
      "0.508673026886\n",
      "Model:  lr_clear_count_1k\n",
      "0.518213356461\n",
      "Model:  xgb\n",
      "0.510841283608\n",
      "Model:  lr_tfidf_1k\n",
      "0.511274934952\n",
      "Model:  lr_tfidf_5k\n",
      "0.511274934952\n",
      "Median of models: 0.512142237641\n",
      "Accuracy for user:\n",
      "Model:  lstm_word\n",
      "0.543046357616\n",
      "Model:  mlp\n",
      "0.5\n",
      "Model:  lr_count_2k_word\n",
      "0.543046357616\n",
      "Model:  lr_count_2k_char\n",
      "0.523178807947\n",
      "Model:  lr_count_5k_word\n",
      "0.513245033113\n",
      "Model:  lr_count_5k_char\n",
      "0.493377483444\n",
      "Model:  lr_clear_count_1k\n",
      "0.513245033113\n",
      "Model:  xgb\n",
      "0.539735099338\n",
      "Model:  lr_tfidf_1k\n",
      "0.513245033113\n",
      "Model:  lr_tfidf_5k\n",
      "0.523178807947\n",
      "Median of models averaged per user:\n",
      "0.53642384106\n",
      "Median of averaged model per user:\n",
      "0.529801324503\n"
     ]
    },
    {
     "name": "stderr",
     "output_type": "stream",
     "text": [
      "/home/digitman/miniconda3/lib/python3.6/site-packages/keras/preprocessing/text.py:90: UserWarning: The `nb_words` argument in `Tokenizer` has been renamed `num_words`.\n",
      "  warnings.warn('The `nb_words` argument in `Tokenizer` '\n",
      "/home/digitman/miniconda3/lib/python3.6/site-packages/ipykernel_launcher.py:17: UserWarning: Update your `LSTM` call to the Keras 2 API: `LSTM(64, return_sequences=True, dropout=0.2, recurrent_dropout=0.2)`\n",
      "/home/digitman/miniconda3/lib/python3.6/site-packages/ipykernel_launcher.py:19: UserWarning: Update your `LSTM` call to the Keras 2 API: `LSTM(64, return_sequences=False, dropout=0.3, recurrent_dropout=0.3)`\n",
      "/home/digitman/miniconda3/lib/python3.6/site-packages/keras/activations.py:89: UserWarning: Do not pass a layer instance (such as PReLU) as the activation argument of another layer. Instead, advanced activation layers should be used just like any other layer in a model.\n",
      "  ).format(identifier=identifier.__class__.__name__))\n"
     ]
    },
    {
     "name": "stdout",
     "output_type": "stream",
     "text": [
      "Accuracy for comment:\n"
     ]
    },
    {
     "name": "stderr",
     "output_type": "stream",
     "text": [
      "/home/digitman/miniconda3/lib/python3.6/site-packages/keras/models.py:851: UserWarning: The `nb_epoch` argument in `fit` has been renamed `epochs`.\n",
      "  warnings.warn('The `nb_epoch` argument in `fit` '\n"
     ]
    },
    {
     "name": "stdout",
     "output_type": "stream",
     "text": [
      "Model:  lstm_word\n",
      "0.520403870425\n",
      "Model:  mlp\n",
      "0.518300378629\n",
      "Model:  lr_count_2k_word\n",
      "0.525872949095\n",
      "Model:  lr_count_2k_char\n",
      "0.517038283551\n",
      "Model:  lr_count_5k_word\n",
      "0.521245267143\n",
      "Model:  lr_count_5k_char\n",
      "0.528397139251\n",
      "Model:  lr_clear_count_1k\n",
      "0.535128313\n",
      "Model:  xgb\n",
      "0.514093395036\n",
      "Model:  lr_tfidf_1k\n",
      "0.523769457299\n",
      "Model:  lr_tfidf_5k\n",
      "0.519562473706\n",
      "Median of models: 0.533866217922\n",
      "Accuracy for user:\n",
      "Model:  lstm_word\n",
      "0.553113553114\n",
      "Model:  mlp\n",
      "0.556776556777\n",
      "Model:  lr_count_2k_word\n",
      "0.534798534799\n",
      "Model:  lr_count_2k_char\n",
      "0.542124542125\n",
      "Model:  lr_count_5k_word\n",
      "0.556776556777\n",
      "Model:  lr_count_5k_char\n",
      "0.531135531136\n",
      "Model:  lr_clear_count_1k\n",
      "0.586080586081\n",
      "Model:  xgb\n",
      "0.520146520147\n",
      "Model:  lr_tfidf_1k\n",
      "0.534798534799\n",
      "Model:  lr_tfidf_5k\n",
      "0.538461538462\n",
      "Median of models averaged per user:\n",
      "0.56043956044\n",
      "Median of averaged model per user:\n",
      "0.564102564103\n"
     ]
    },
    {
     "name": "stderr",
     "output_type": "stream",
     "text": [
      "/home/digitman/miniconda3/lib/python3.6/site-packages/keras/preprocessing/text.py:90: UserWarning: The `nb_words` argument in `Tokenizer` has been renamed `num_words`.\n",
      "  warnings.warn('The `nb_words` argument in `Tokenizer` '\n",
      "/home/digitman/miniconda3/lib/python3.6/site-packages/ipykernel_launcher.py:17: UserWarning: Update your `LSTM` call to the Keras 2 API: `LSTM(64, return_sequences=True, dropout=0.2, recurrent_dropout=0.2)`\n",
      "/home/digitman/miniconda3/lib/python3.6/site-packages/ipykernel_launcher.py:19: UserWarning: Update your `LSTM` call to the Keras 2 API: `LSTM(64, return_sequences=False, dropout=0.3, recurrent_dropout=0.3)`\n",
      "/home/digitman/miniconda3/lib/python3.6/site-packages/keras/activations.py:89: UserWarning: Do not pass a layer instance (such as PReLU) as the activation argument of another layer. Instead, advanced activation layers should be used just like any other layer in a model.\n",
      "  ).format(identifier=identifier.__class__.__name__))\n"
     ]
    },
    {
     "name": "stdout",
     "output_type": "stream",
     "text": [
      "Accuracy for comment:\n"
     ]
    },
    {
     "name": "stderr",
     "output_type": "stream",
     "text": [
      "/home/digitman/miniconda3/lib/python3.6/site-packages/keras/models.py:851: UserWarning: The `nb_epoch` argument in `fit` has been renamed `epochs`.\n",
      "  warnings.warn('The `nb_epoch` argument in `fit` '\n"
     ]
    },
    {
     "name": "stdout",
     "output_type": "stream",
     "text": [
      "Model:  lstm_word\n",
      "0.534201954397\n",
      "Model:  mlp\n",
      "0.532980456026\n",
      "Model:  lr_count_2k_word\n",
      "0.54845276873\n",
      "Model:  lr_count_2k_char\n",
      "0.53664495114\n",
      "Model:  lr_count_5k_word\n",
      "0.541123778502\n",
      "Model:  lr_count_5k_char\n",
      "0.545195439739\n",
      "Model:  lr_clear_count_1k\n",
      "0.538680781759\n",
      "Model:  xgb\n",
      "0.510586319218\n",
      "Model:  lr_tfidf_1k\n",
      "0.541123778502\n",
      "Model:  lr_tfidf_5k\n",
      "0.53664495114\n",
      "Median of models: 0.550895765472\n",
      "Accuracy for user:\n",
      "Model:  lstm_word\n",
      "0.560483870968\n",
      "Model:  mlp\n",
      "0.552419354839\n",
      "Model:  lr_count_2k_word\n",
      "0.620967741935\n",
      "Model:  lr_count_2k_char\n",
      "0.564516129032\n",
      "Model:  lr_count_5k_word\n",
      "0.588709677419\n",
      "Model:  lr_count_5k_char\n",
      "0.58064516129\n",
      "Model:  lr_clear_count_1k\n",
      "0.58064516129\n",
      "Model:  xgb\n",
      "0.495967741935\n",
      "Model:  lr_tfidf_1k\n",
      "0.568548387097\n",
      "Model:  lr_tfidf_5k\n",
      "0.560483870968\n",
      "Median of models averaged per user:\n",
      "0.584677419355\n"
     ]
    },
    {
     "name": "stderr",
     "output_type": "stream",
     "text": [
      "/home/digitman/miniconda3/lib/python3.6/site-packages/keras/preprocessing/text.py:90: UserWarning: The `nb_words` argument in `Tokenizer` has been renamed `num_words`.\n",
      "  warnings.warn('The `nb_words` argument in `Tokenizer` '\n",
      "/home/digitman/miniconda3/lib/python3.6/site-packages/ipykernel_launcher.py:17: UserWarning: Update your `LSTM` call to the Keras 2 API: `LSTM(64, return_sequences=True, dropout=0.2, recurrent_dropout=0.2)`\n",
      "/home/digitman/miniconda3/lib/python3.6/site-packages/ipykernel_launcher.py:19: UserWarning: Update your `LSTM` call to the Keras 2 API: `LSTM(64, return_sequences=False, dropout=0.3, recurrent_dropout=0.3)`\n",
      "/home/digitman/miniconda3/lib/python3.6/site-packages/keras/activations.py:89: UserWarning: Do not pass a layer instance (such as PReLU) as the activation argument of another layer. Instead, advanced activation layers should be used just like any other layer in a model.\n",
      "  ).format(identifier=identifier.__class__.__name__))\n"
     ]
    },
    {
     "name": "stdout",
     "output_type": "stream",
     "text": [
      "Median of averaged model per user:\n",
      "0.58064516129\n",
      "Accuracy for comment:\n"
     ]
    },
    {
     "name": "stderr",
     "output_type": "stream",
     "text": [
      "/home/digitman/miniconda3/lib/python3.6/site-packages/keras/models.py:851: UserWarning: The `nb_epoch` argument in `fit` has been renamed `epochs`.\n",
      "  warnings.warn('The `nb_epoch` argument in `fit` '\n"
     ]
    },
    {
     "name": "stdout",
     "output_type": "stream",
     "text": [
      "Model:  lstm_word\n",
      "0.522500995619\n",
      "Model:  mlp\n",
      "0.52608522501\n",
      "Model:  lr_count_2k_word\n",
      "0.52528872959\n",
      "Model:  lr_count_2k_char\n",
      "0.539625647153\n",
      "Model:  lr_count_5k_word\n",
      "0.529271206691\n",
      "Model:  lr_count_5k_char\n",
      "0.536041417762\n",
      "Model:  lr_clear_count_1k\n",
      "0.532058940661\n",
      "Model:  xgb\n",
      "0.534050179211\n",
      "Model:  lr_tfidf_1k\n",
      "0.533253683791\n",
      "Model:  lr_tfidf_5k\n",
      "0.543608124253\n",
      "Median of models: 0.544404619673\n",
      "Accuracy for user:\n",
      "Model:  lstm_word\n",
      "0.561403508772\n",
      "Model:  mlp\n",
      "0.565789473684\n",
      "Model:  lr_count_2k_word\n",
      "0.570175438596\n",
      "Model:  lr_count_2k_char\n",
      "0.578947368421\n",
      "Model:  lr_count_5k_word\n",
      "0.561403508772\n",
      "Model:  lr_count_5k_char\n",
      "0.583333333333\n",
      "Model:  lr_clear_count_1k\n",
      "0.539473684211\n",
      "Model:  xgb\n",
      "0.539473684211\n",
      "Model:  lr_tfidf_1k\n",
      "0.614035087719\n",
      "Model:  lr_tfidf_5k\n",
      "0.570175438596\n",
      "Median of models averaged per user:\n",
      "0.565789473684\n",
      "Median of averaged model per user:\n",
      "0.561403508772\n"
     ]
    },
    {
     "name": "stderr",
     "output_type": "stream",
     "text": [
      "/home/digitman/miniconda3/lib/python3.6/site-packages/keras/preprocessing/text.py:90: UserWarning: The `nb_words` argument in `Tokenizer` has been renamed `num_words`.\n",
      "  warnings.warn('The `nb_words` argument in `Tokenizer` '\n",
      "/home/digitman/miniconda3/lib/python3.6/site-packages/ipykernel_launcher.py:17: UserWarning: Update your `LSTM` call to the Keras 2 API: `LSTM(64, return_sequences=True, dropout=0.2, recurrent_dropout=0.2)`\n",
      "/home/digitman/miniconda3/lib/python3.6/site-packages/ipykernel_launcher.py:19: UserWarning: Update your `LSTM` call to the Keras 2 API: `LSTM(64, return_sequences=False, dropout=0.3, recurrent_dropout=0.3)`\n",
      "/home/digitman/miniconda3/lib/python3.6/site-packages/keras/activations.py:89: UserWarning: Do not pass a layer instance (such as PReLU) as the activation argument of another layer. Instead, advanced activation layers should be used just like any other layer in a model.\n",
      "  ).format(identifier=identifier.__class__.__name__))\n"
     ]
    },
    {
     "name": "stdout",
     "output_type": "stream",
     "text": [
      "Accuracy for comment:\n"
     ]
    },
    {
     "name": "stderr",
     "output_type": "stream",
     "text": [
      "/home/digitman/miniconda3/lib/python3.6/site-packages/keras/models.py:851: UserWarning: The `nb_epoch` argument in `fit` has been renamed `epochs`.\n",
      "  warnings.warn('The `nb_epoch` argument in `fit` '\n"
     ]
    },
    {
     "name": "stdout",
     "output_type": "stream",
     "text": [
      "Model:  lstm_word\n",
      "0.511655011655\n",
      "Model:  mlp\n",
      "0.51825951826\n",
      "Model:  lr_count_2k_word\n",
      "0.520590520591\n",
      "Model:  lr_count_2k_char\n",
      "0.532634032634\n",
      "Model:  lr_count_5k_word\n",
      "0.53108003108\n",
      "Model:  lr_count_5k_char\n",
      "0.530303030303\n",
      "Model:  lr_clear_count_1k\n",
      "0.52602952603\n",
      "Model:  xgb\n",
      "0.52602952603\n",
      "Model:  lr_tfidf_1k\n",
      "0.530303030303\n",
      "Model:  lr_tfidf_5k\n",
      "0.538461538462\n",
      "Median of models: 0.533411033411\n",
      "Accuracy for user:\n",
      "Model:  lstm_word\n",
      "0.509433962264\n",
      "Model:  mlp\n",
      "0.580188679245\n",
      "Model:  lr_count_2k_word\n",
      "0.556603773585\n",
      "Model:  lr_count_2k_char\n",
      "0.575471698113\n",
      "Model:  lr_count_5k_word\n",
      "0.589622641509\n",
      "Model:  lr_count_5k_char\n",
      "0.561320754717\n",
      "Model:  lr_clear_count_1k\n",
      "0.547169811321\n",
      "Model:  xgb\n",
      "0.556603773585\n",
      "Model:  lr_tfidf_1k\n",
      "0.584905660377\n",
      "Model:  lr_tfidf_5k\n",
      "0.580188679245\n",
      "Median of models averaged per user:\n",
      "0.575471698113\n",
      "Median of averaged model per user:\n",
      "0.580188679245\n"
     ]
    },
    {
     "name": "stderr",
     "output_type": "stream",
     "text": [
      "/home/digitman/miniconda3/lib/python3.6/site-packages/keras/preprocessing/text.py:90: UserWarning: The `nb_words` argument in `Tokenizer` has been renamed `num_words`.\n",
      "  warnings.warn('The `nb_words` argument in `Tokenizer` '\n",
      "/home/digitman/miniconda3/lib/python3.6/site-packages/ipykernel_launcher.py:17: UserWarning: Update your `LSTM` call to the Keras 2 API: `LSTM(64, return_sequences=True, dropout=0.2, recurrent_dropout=0.2)`\n",
      "/home/digitman/miniconda3/lib/python3.6/site-packages/ipykernel_launcher.py:19: UserWarning: Update your `LSTM` call to the Keras 2 API: `LSTM(64, return_sequences=False, dropout=0.3, recurrent_dropout=0.3)`\n",
      "/home/digitman/miniconda3/lib/python3.6/site-packages/keras/activations.py:89: UserWarning: Do not pass a layer instance (such as PReLU) as the activation argument of another layer. Instead, advanced activation layers should be used just like any other layer in a model.\n",
      "  ).format(identifier=identifier.__class__.__name__))\n"
     ]
    },
    {
     "name": "stdout",
     "output_type": "stream",
     "text": [
      "Accuracy for comment:\n"
     ]
    },
    {
     "name": "stderr",
     "output_type": "stream",
     "text": [
      "/home/digitman/miniconda3/lib/python3.6/site-packages/keras/models.py:851: UserWarning: The `nb_epoch` argument in `fit` has been renamed `epochs`.\n",
      "  warnings.warn('The `nb_epoch` argument in `fit` '\n"
     ]
    },
    {
     "name": "stdout",
     "output_type": "stream",
     "text": [
      "Model:  lstm_word\n",
      "0.506717850288\n",
      "Model:  mlp\n",
      "0.516314779271\n",
      "Model:  lr_count_2k_word\n",
      "0.520537428023\n",
      "Model:  lr_count_2k_char\n",
      "0.528598848369\n",
      "Model:  lr_count_5k_word\n",
      "0.525143953935\n",
      "Model:  lr_count_5k_char\n",
      "0.532821497121\n",
      "Model:  lr_clear_count_1k\n",
      "0.529366602687\n",
      "Model:  xgb\n",
      "0.518618042226\n",
      "Model:  lr_tfidf_1k\n",
      "0.521689059501\n",
      "Model:  lr_tfidf_5k\n",
      "0.52207293666\n",
      "Median of models: 0.523992322457\n",
      "Accuracy for user:\n",
      "Model:  lstm_word\n",
      "0.492462311558\n",
      "Model:  mlp\n",
      "0.537688442211\n",
      "Model:  lr_count_2k_word\n",
      "0.547738693467\n",
      "Model:  lr_count_2k_char\n",
      "0.592964824121\n",
      "Model:  lr_count_5k_word\n",
      "0.56783919598\n",
      "Model:  lr_count_5k_char\n",
      "0.587939698492\n",
      "Model:  lr_clear_count_1k\n",
      "0.562814070352\n",
      "Model:  xgb\n",
      "0.562814070352\n",
      "Model:  lr_tfidf_1k\n",
      "0.547738693467\n",
      "Model:  lr_tfidf_5k\n",
      "0.572864321608\n",
      "Median of models averaged per user:\n",
      "0.582914572864\n",
      "Median of averaged model per user:"
     ]
    },
    {
     "name": "stderr",
     "output_type": "stream",
     "text": [
      "/home/digitman/miniconda3/lib/python3.6/site-packages/keras/preprocessing/text.py:90: UserWarning: The `nb_words` argument in `Tokenizer` has been renamed `num_words`.\n",
      "  warnings.warn('The `nb_words` argument in `Tokenizer` '\n",
      "/home/digitman/miniconda3/lib/python3.6/site-packages/ipykernel_launcher.py:17: UserWarning: Update your `LSTM` call to the Keras 2 API: `LSTM(64, return_sequences=True, dropout=0.2, recurrent_dropout=0.2)`\n",
      "/home/digitman/miniconda3/lib/python3.6/site-packages/ipykernel_launcher.py:19: UserWarning: Update your `LSTM` call to the Keras 2 API: `LSTM(64, return_sequences=False, dropout=0.3, recurrent_dropout=0.3)`\n",
      "/home/digitman/miniconda3/lib/python3.6/site-packages/keras/activations.py:89: UserWarning: Do not pass a layer instance (such as PReLU) as the activation argument of another layer. Instead, advanced activation layers should be used just like any other layer in a model.\n",
      "  ).format(identifier=identifier.__class__.__name__))\n"
     ]
    },
    {
     "name": "stdout",
     "output_type": "stream",
     "text": [
      "\n",
      "0.552763819095\n",
      "Accuracy for comment:\n"
     ]
    },
    {
     "name": "stderr",
     "output_type": "stream",
     "text": [
      "/home/digitman/miniconda3/lib/python3.6/site-packages/keras/models.py:851: UserWarning: The `nb_epoch` argument in `fit` has been renamed `epochs`.\n",
      "  warnings.warn('The `nb_epoch` argument in `fit` '\n"
     ]
    },
    {
     "name": "stdout",
     "output_type": "stream",
     "text": [
      "Model:  lstm_word\n",
      "0.501131221719\n",
      "Model:  mlp\n",
      "0.519230769231\n",
      "Model:  lr_count_2k_word\n",
      "0.510935143288\n",
      "Model:  lr_count_2k_char\n",
      "0.525641025641\n",
      "Model:  lr_count_5k_word\n",
      "0.50754147813\n",
      "Model:  lr_count_5k_char\n",
      "0.522247360483\n",
      "Model:  lr_clear_count_1k\n",
      "0.524509803922\n",
      "Model:  xgb\n",
      "0.505279034691\n",
      "Model:  lr_tfidf_1k\n",
      "0.519230769231\n",
      "Model:  lr_tfidf_5k\n",
      "0.530165912519\n",
      "Median of models: 0.523755656109\n",
      "Accuracy for user:\n",
      "Model:  lstm_word\n",
      "0.532608695652\n",
      "Model:  mlp\n",
      "0.548913043478\n",
      "Model:  lr_count_2k_word\n",
      "0.559782608696\n",
      "Model:  lr_count_2k_char\n",
      "0.576086956522\n",
      "Model:  lr_count_5k_word\n",
      "0.5\n",
      "Model:  lr_count_5k_char\n",
      "0.586956521739\n",
      "Model:  lr_clear_count_1k\n",
      "0.570652173913\n",
      "Model:  xgb\n",
      "0.5\n",
      "Model:  lr_tfidf_1k\n",
      "0.538043478261\n",
      "Model:  lr_tfidf_5k\n",
      "0.586956521739\n",
      "Median of models averaged per user:\n",
      "0.565217391304\n"
     ]
    },
    {
     "name": "stderr",
     "output_type": "stream",
     "text": [
      "/home/digitman/miniconda3/lib/python3.6/site-packages/keras/preprocessing/text.py:90: UserWarning: The `nb_words` argument in `Tokenizer` has been renamed `num_words`.\n",
      "  warnings.warn('The `nb_words` argument in `Tokenizer` '\n",
      "/home/digitman/miniconda3/lib/python3.6/site-packages/ipykernel_launcher.py:17: UserWarning: Update your `LSTM` call to the Keras 2 API: `LSTM(64, return_sequences=True, dropout=0.2, recurrent_dropout=0.2)`\n",
      "/home/digitman/miniconda3/lib/python3.6/site-packages/ipykernel_launcher.py:19: UserWarning: Update your `LSTM` call to the Keras 2 API: `LSTM(64, return_sequences=False, dropout=0.3, recurrent_dropout=0.3)`\n",
      "/home/digitman/miniconda3/lib/python3.6/site-packages/keras/activations.py:89: UserWarning: Do not pass a layer instance (such as PReLU) as the activation argument of another layer. Instead, advanced activation layers should be used just like any other layer in a model.\n",
      "  ).format(identifier=identifier.__class__.__name__))\n"
     ]
    },
    {
     "name": "stdout",
     "output_type": "stream",
     "text": [
      "Median of averaged model per user:\n",
      "0.559782608696\n",
      "Accuracy for comment:\n"
     ]
    },
    {
     "name": "stderr",
     "output_type": "stream",
     "text": [
      "/home/digitman/miniconda3/lib/python3.6/site-packages/keras/models.py:851: UserWarning: The `nb_epoch` argument in `fit` has been renamed `epochs`.\n",
      "  warnings.warn('The `nb_epoch` argument in `fit` '\n"
     ]
    },
    {
     "name": "stdout",
     "output_type": "stream",
     "text": [
      "Model:  lstm_word\n",
      "0.518449496832\n",
      "Model:  mlp\n",
      "0.530003727171\n",
      "Model:  lr_count_2k_word\n",
      "0.52851285874\n",
      "Model:  lr_count_2k_char\n",
      "0.529258292956\n",
      "Model:  lr_count_5k_word\n",
      "0.530376444279\n",
      "Model:  lr_count_5k_char\n",
      "0.525903838986\n",
      "Model:  lr_clear_count_1k\n",
      "0.540439806187\n",
      "Model:  xgb\n",
      "0.519567648155\n",
      "Model:  lr_tfidf_1k\n",
      "0.532985464033\n",
      "Model:  lr_tfidf_5k\n",
      "0.540812523295\n",
      "Median of models: 0.537830786433\n",
      "Accuracy for user:\n",
      "Model:  lstm_word\n",
      "0.563218390805\n",
      "Model:  mlp\n",
      "0.586206896552\n",
      "Model:  lr_count_2k_word\n",
      "0.568965517241\n",
      "Model:  lr_count_2k_char\n",
      "0.563218390805\n",
      "Model:  lr_count_5k_word\n",
      "0.591954022989\n",
      "Model:  lr_count_5k_char\n",
      "0.586206896552\n",
      "Model:  lr_clear_count_1k\n",
      "0.620689655172\n",
      "Model:  xgb\n",
      "0.557471264368\n",
      "Model:  lr_tfidf_1k\n",
      "0.591954022989\n",
      "Model:  lr_tfidf_5k\n",
      "0.649425287356\n",
      "Median of models averaged per user:\n",
      "0.609195402299\n",
      "Median of averaged model per user:\n",
      "0.586206896552\n"
     ]
    },
    {
     "name": "stderr",
     "output_type": "stream",
     "text": [
      "/home/digitman/miniconda3/lib/python3.6/site-packages/keras/preprocessing/text.py:90: UserWarning: The `nb_words` argument in `Tokenizer` has been renamed `num_words`.\n",
      "  warnings.warn('The `nb_words` argument in `Tokenizer` '\n",
      "/home/digitman/miniconda3/lib/python3.6/site-packages/ipykernel_launcher.py:17: UserWarning: Update your `LSTM` call to the Keras 2 API: `LSTM(64, return_sequences=True, dropout=0.2, recurrent_dropout=0.2)`\n",
      "/home/digitman/miniconda3/lib/python3.6/site-packages/ipykernel_launcher.py:19: UserWarning: Update your `LSTM` call to the Keras 2 API: `LSTM(64, return_sequences=False, dropout=0.3, recurrent_dropout=0.3)`\n",
      "/home/digitman/miniconda3/lib/python3.6/site-packages/keras/activations.py:89: UserWarning: Do not pass a layer instance (such as PReLU) as the activation argument of another layer. Instead, advanced activation layers should be used just like any other layer in a model.\n",
      "  ).format(identifier=identifier.__class__.__name__))\n"
     ]
    },
    {
     "name": "stdout",
     "output_type": "stream",
     "text": [
      "Accuracy for comment:\n"
     ]
    },
    {
     "name": "stderr",
     "output_type": "stream",
     "text": [
      "/home/digitman/miniconda3/lib/python3.6/site-packages/keras/models.py:851: UserWarning: The `nb_epoch` argument in `fit` has been renamed `epochs`.\n",
      "  warnings.warn('The `nb_epoch` argument in `fit` '\n"
     ]
    },
    {
     "name": "stdout",
     "output_type": "stream",
     "text": [
      "Model:  lstm_word\n",
      "0.513114148504\n",
      "Model:  mlp\n",
      "0.52124122645\n",
      "Model:  lr_count_2k_word\n",
      "0.516808274843\n",
      "Model:  lr_count_2k_char\n",
      "0.511636497968\n",
      "Model:  lr_count_5k_word\n",
      "0.5108976727\n",
      "Model:  lr_count_5k_char\n",
      "0.508681196897\n",
      "Model:  lr_clear_count_1k\n",
      "0.530476542298\n",
      "Model:  xgb\n",
      "0.530107129664\n",
      "Model:  lr_tfidf_1k\n",
      "0.515700036941\n",
      "Model:  lr_tfidf_5k\n",
      "0.530845954932\n",
      "Median of models: 0.525304765423\n",
      "Accuracy for user:\n",
      "Model:  lstm_word\n",
      "0.493902439024\n",
      "Model:  mlp\n",
      "0.55487804878\n",
      "Model:  lr_count_2k_word\n",
      "0.536585365854\n",
      "Model:  lr_count_2k_char\n",
      "0.506097560976\n",
      "Model:  lr_count_5k_word\n",
      "0.512195121951\n",
      "Model:  lr_count_5k_char\n",
      "0.536585365854\n",
      "Model:  lr_clear_count_1k\n",
      "0.59756097561\n",
      "Model:  xgb\n",
      "0.585365853659\n",
      "Model:  lr_tfidf_1k\n",
      "0.524390243902\n",
      "Model:  lr_tfidf_5k\n",
      "0.591463414634\n",
      "Median of models averaged per user:\n",
      "0.548780487805\n",
      "Median of averaged model per user:\n",
      "0.542682926829\n"
     ]
    },
    {
     "name": "stderr",
     "output_type": "stream",
     "text": [
      "/home/digitman/miniconda3/lib/python3.6/site-packages/keras/preprocessing/text.py:90: UserWarning: The `nb_words` argument in `Tokenizer` has been renamed `num_words`.\n",
      "  warnings.warn('The `nb_words` argument in `Tokenizer` '\n",
      "/home/digitman/miniconda3/lib/python3.6/site-packages/ipykernel_launcher.py:17: UserWarning: Update your `LSTM` call to the Keras 2 API: `LSTM(64, return_sequences=True, dropout=0.2, recurrent_dropout=0.2)`\n",
      "/home/digitman/miniconda3/lib/python3.6/site-packages/ipykernel_launcher.py:19: UserWarning: Update your `LSTM` call to the Keras 2 API: `LSTM(64, return_sequences=False, dropout=0.3, recurrent_dropout=0.3)`\n",
      "/home/digitman/miniconda3/lib/python3.6/site-packages/keras/activations.py:89: UserWarning: Do not pass a layer instance (such as PReLU) as the activation argument of another layer. Instead, advanced activation layers should be used just like any other layer in a model.\n",
      "  ).format(identifier=identifier.__class__.__name__))\n"
     ]
    },
    {
     "name": "stdout",
     "output_type": "stream",
     "text": [
      "Accuracy for comment:\n"
     ]
    },
    {
     "name": "stderr",
     "output_type": "stream",
     "text": [
      "/home/digitman/miniconda3/lib/python3.6/site-packages/keras/models.py:851: UserWarning: The `nb_epoch` argument in `fit` has been renamed `epochs`.\n",
      "  warnings.warn('The `nb_epoch` argument in `fit` '\n"
     ]
    },
    {
     "name": "stdout",
     "output_type": "stream",
     "text": [
      "Model:  lstm_word\n",
      "0.507262164125\n",
      "Model:  mlp\n",
      "0.518518518519\n",
      "Model:  lr_count_2k_word\n",
      "0.515250544662\n",
      "Model:  lr_count_2k_char\n",
      "0.512708787219\n",
      "Model:  lr_count_5k_word\n",
      "0.509077705156\n",
      "Model:  lr_count_5k_char\n",
      "0.5174291939\n",
      "Model:  lr_clear_count_1k\n",
      "0.536310820625\n",
      "Model:  xgb\n",
      "0.5232389252\n",
      "Model:  lr_tfidf_1k\n",
      "0.518881626725\n",
      "Model:  lr_tfidf_5k\n",
      "0.533042846768\n",
      "Median of models: 0.532679738562\n",
      "Accuracy for user:\n",
      "Model:  lstm_word\n",
      "0.532467532468\n",
      "Model:  mlp\n",
      "0.551948051948\n",
      "Model:  lr_count_2k_word\n",
      "0.545454545455\n",
      "Model:  lr_count_2k_char\n",
      "0.519480519481\n",
      "Model:  lr_count_5k_word\n",
      "0.525974025974\n",
      "Model:  lr_count_5k_char\n",
      "0.545454545455\n",
      "Model:  lr_clear_count_1k\n",
      "0.597402597403\n",
      "Model:  xgb\n",
      "0.545454545455\n",
      "Model:  lr_tfidf_1k\n",
      "0.551948051948\n",
      "Model:  lr_tfidf_5k\n",
      "0.603896103896\n",
      "Median of models averaged per user:\n",
      "0.564935064935\n",
      "Median of averaged model per user:"
     ]
    },
    {
     "name": "stderr",
     "output_type": "stream",
     "text": [
      "/home/digitman/miniconda3/lib/python3.6/site-packages/keras/preprocessing/text.py:90: UserWarning: The `nb_words` argument in `Tokenizer` has been renamed `num_words`.\n",
      "  warnings.warn('The `nb_words` argument in `Tokenizer` '\n",
      "/home/digitman/miniconda3/lib/python3.6/site-packages/ipykernel_launcher.py:17: UserWarning: Update your `LSTM` call to the Keras 2 API: `LSTM(64, return_sequences=True, dropout=0.2, recurrent_dropout=0.2)`\n",
      "/home/digitman/miniconda3/lib/python3.6/site-packages/ipykernel_launcher.py:19: UserWarning: Update your `LSTM` call to the Keras 2 API: `LSTM(64, return_sequences=False, dropout=0.3, recurrent_dropout=0.3)`\n",
      "/home/digitman/miniconda3/lib/python3.6/site-packages/keras/activations.py:89: UserWarning: Do not pass a layer instance (such as PReLU) as the activation argument of another layer. Instead, advanced activation layers should be used just like any other layer in a model.\n",
      "  ).format(identifier=identifier.__class__.__name__))\n"
     ]
    },
    {
     "name": "stdout",
     "output_type": "stream",
     "text": [
      "\n",
      "0.558441558442\n",
      "Accuracy for comment:\n"
     ]
    },
    {
     "name": "stderr",
     "output_type": "stream",
     "text": [
      "/home/digitman/miniconda3/lib/python3.6/site-packages/keras/models.py:851: UserWarning: The `nb_epoch` argument in `fit` has been renamed `epochs`.\n",
      "  warnings.warn('The `nb_epoch` argument in `fit` '\n"
     ]
    },
    {
     "name": "stdout",
     "output_type": "stream",
     "text": [
      "Model:  lstm_word\n",
      "0.51570964247\n",
      "Model:  mlp\n",
      "0.534850126399\n",
      "Model:  lr_count_2k_word\n",
      "0.52618273745\n",
      "Model:  lr_count_2k_char\n",
      "0.520765619357\n",
      "Model:  lr_count_5k_word\n",
      "0.534488985193\n",
      "Model:  lr_count_5k_char\n",
      "0.526905019863\n",
      "Model:  lr_clear_count_1k\n",
      "0.547128927411\n",
      "Model:  xgb\n",
      "0.513542795233\n",
      "Model:  lr_tfidf_1k\n",
      "0.5290718671\n",
      "Model:  lr_tfidf_5k\n",
      "0.526905019863\n",
      "Median of models: 0.533044420368\n",
      "Accuracy for user:\n",
      "Model:  lstm_word\n",
      "0.493243243243\n",
      "Model:  mlp\n",
      "0.587837837838\n",
      "Model:  lr_count_2k_word\n",
      "0.560810810811\n",
      "Model:  lr_count_2k_char\n",
      "0.533783783784\n",
      "Model:  lr_count_5k_word\n",
      "0.641891891892\n",
      "Model:  lr_count_5k_char\n",
      "0.560810810811\n",
      "Model:  lr_clear_count_1k\n",
      "0.608108108108\n",
      "Model:  xgb\n",
      "0.513513513514\n",
      "Model:  lr_tfidf_1k\n",
      "0.533783783784\n",
      "Model:  lr_tfidf_5k\n",
      "0.587837837838\n",
      "Median of models averaged per user:\n",
      "0.560810810811\n",
      "Median of averaged model per user:\n"
     ]
    },
    {
     "name": "stderr",
     "output_type": "stream",
     "text": [
      "/home/digitman/miniconda3/lib/python3.6/site-packages/keras/preprocessing/text.py:90: UserWarning: The `nb_words` argument in `Tokenizer` has been renamed `num_words`.\n",
      "  warnings.warn('The `nb_words` argument in `Tokenizer` '\n",
      "/home/digitman/miniconda3/lib/python3.6/site-packages/ipykernel_launcher.py:17: UserWarning: Update your `LSTM` call to the Keras 2 API: `LSTM(64, return_sequences=True, dropout=0.2, recurrent_dropout=0.2)`\n",
      "/home/digitman/miniconda3/lib/python3.6/site-packages/ipykernel_launcher.py:19: UserWarning: Update your `LSTM` call to the Keras 2 API: `LSTM(64, return_sequences=False, dropout=0.3, recurrent_dropout=0.3)`\n",
      "/home/digitman/miniconda3/lib/python3.6/site-packages/keras/activations.py:89: UserWarning: Do not pass a layer instance (such as PReLU) as the activation argument of another layer. Instead, advanced activation layers should be used just like any other layer in a model.\n",
      "  ).format(identifier=identifier.__class__.__name__))\n"
     ]
    },
    {
     "name": "stdout",
     "output_type": "stream",
     "text": [
      "0.574324324324\n",
      "Accuracy for comment:\n"
     ]
    },
    {
     "name": "stderr",
     "output_type": "stream",
     "text": [
      "/home/digitman/miniconda3/lib/python3.6/site-packages/keras/models.py:851: UserWarning: The `nb_epoch` argument in `fit` has been renamed `epochs`.\n",
      "  warnings.warn('The `nb_epoch` argument in `fit` '\n"
     ]
    },
    {
     "name": "stdout",
     "output_type": "stream",
     "text": [
      "Model:  lstm_word\n",
      "0.515873015873\n",
      "Model:  mlp\n",
      "0.505050505051\n",
      "Model:  lr_count_2k_word\n",
      "0.513347763348\n",
      "Model:  lr_count_2k_char\n",
      "0.506854256854\n",
      "Model:  lr_count_5k_word\n",
      "0.511904761905\n",
      "Model:  lr_count_5k_char\n",
      "0.516955266955\n",
      "Model:  lr_clear_count_1k\n",
      "0.532467532468\n",
      "Model:  xgb\n",
      "0.498917748918\n",
      "Model:  lr_tfidf_1k\n",
      "0.520923520924\n",
      "Model:  lr_tfidf_5k\n",
      "0.521645021645\n",
      "Median of models: 0.522727272727\n",
      "Accuracy for user:\n",
      "Model:  lstm_word\n",
      "0.528571428571\n",
      "Model:  mlp\n",
      "0.514285714286\n",
      "Model:  lr_count_2k_word\n",
      "0.514285714286\n",
      "Model:  lr_count_2k_char\n",
      "0.478571428571\n",
      "Model:  lr_count_5k_word\n",
      "0.5\n",
      "Model:  lr_count_5k_char\n",
      "0.542857142857\n",
      "Model:  lr_clear_count_1k\n",
      "0.571428571429\n",
      "Model:  xgb\n",
      "0.507142857143\n",
      "Model:  lr_tfidf_1k\n",
      "0.542857142857\n",
      "Model:  lr_tfidf_5k\n",
      "0.592857142857\n",
      "Median of models averaged per user:\n",
      "0.535714285714\n",
      "Median of averaged model per user:\n",
      "0.55\n"
     ]
    },
    {
     "name": "stderr",
     "output_type": "stream",
     "text": [
      "/home/digitman/miniconda3/lib/python3.6/site-packages/keras/preprocessing/text.py:90: UserWarning: The `nb_words` argument in `Tokenizer` has been renamed `num_words`.\n",
      "  warnings.warn('The `nb_words` argument in `Tokenizer` '\n",
      "/home/digitman/miniconda3/lib/python3.6/site-packages/ipykernel_launcher.py:17: UserWarning: Update your `LSTM` call to the Keras 2 API: `LSTM(64, return_sequences=True, dropout=0.2, recurrent_dropout=0.2)`\n",
      "/home/digitman/miniconda3/lib/python3.6/site-packages/ipykernel_launcher.py:19: UserWarning: Update your `LSTM` call to the Keras 2 API: `LSTM(64, return_sequences=False, dropout=0.3, recurrent_dropout=0.3)`\n",
      "/home/digitman/miniconda3/lib/python3.6/site-packages/keras/activations.py:89: UserWarning: Do not pass a layer instance (such as PReLU) as the activation argument of another layer. Instead, advanced activation layers should be used just like any other layer in a model.\n",
      "  ).format(identifier=identifier.__class__.__name__))\n"
     ]
    },
    {
     "name": "stdout",
     "output_type": "stream",
     "text": [
      "Accuracy for comment:\n"
     ]
    },
    {
     "name": "stderr",
     "output_type": "stream",
     "text": [
      "/home/digitman/miniconda3/lib/python3.6/site-packages/keras/models.py:851: UserWarning: The `nb_epoch` argument in `fit` has been renamed `epochs`.\n",
      "  warnings.warn('The `nb_epoch` argument in `fit` '\n"
     ]
    },
    {
     "name": "stdout",
     "output_type": "stream",
     "text": [
      "Model:  lstm_word\n",
      "0.534958766583\n",
      "Model:  mlp\n",
      "0.53101470061\n",
      "Model:  lr_count_2k_word\n",
      "0.525636428828\n",
      "Model:  lr_count_2k_char\n",
      "0.524202223019\n",
      "Model:  lr_count_5k_word\n",
      "0.537110075296\n",
      "Model:  lr_count_5k_char\n",
      "0.53280745787\n",
      "Model:  lr_clear_count_1k\n",
      "0.533166009322\n",
      "Model:  xgb\n",
      "0.502330584439\n",
      "Model:  lr_tfidf_1k\n",
      "0.537110075296\n",
      "Model:  lr_tfidf_5k\n",
      "0.528863391897\n",
      "Median of models: 0.539261384009\n",
      "Accuracy for user:\n",
      "Model:  lstm_word\n",
      "0.626865671642\n",
      "Model:  mlp\n",
      "0.544776119403\n",
      "Model:  lr_count_2k_word\n",
      "0.574626865672\n",
      "Model:  lr_count_2k_char\n",
      "0.559701492537\n",
      "Model:  lr_count_5k_word\n",
      "0.65671641791\n",
      "Model:  lr_count_5k_char\n",
      "0.626865671642\n",
      "Model:  lr_clear_count_1k\n",
      "0.611940298507\n",
      "Model:  xgb\n",
      "0.5\n",
      "Model:  lr_tfidf_1k\n",
      "0.582089552239\n",
      "Model:  lr_tfidf_5k\n",
      "0.589552238806\n",
      "Median of models averaged per user:\n",
      "0.60447761194\n",
      "Median of averaged model per user:\n",
      "0.574626865672\n"
     ]
    },
    {
     "name": "stderr",
     "output_type": "stream",
     "text": [
      "/home/digitman/miniconda3/lib/python3.6/site-packages/keras/preprocessing/text.py:90: UserWarning: The `nb_words` argument in `Tokenizer` has been renamed `num_words`.\n",
      "  warnings.warn('The `nb_words` argument in `Tokenizer` '\n",
      "/home/digitman/miniconda3/lib/python3.6/site-packages/ipykernel_launcher.py:17: UserWarning: Update your `LSTM` call to the Keras 2 API: `LSTM(64, return_sequences=True, dropout=0.2, recurrent_dropout=0.2)`\n",
      "/home/digitman/miniconda3/lib/python3.6/site-packages/ipykernel_launcher.py:19: UserWarning: Update your `LSTM` call to the Keras 2 API: `LSTM(64, return_sequences=False, dropout=0.3, recurrent_dropout=0.3)`\n",
      "/home/digitman/miniconda3/lib/python3.6/site-packages/keras/activations.py:89: UserWarning: Do not pass a layer instance (such as PReLU) as the activation argument of another layer. Instead, advanced activation layers should be used just like any other layer in a model.\n",
      "  ).format(identifier=identifier.__class__.__name__))\n"
     ]
    },
    {
     "name": "stdout",
     "output_type": "stream",
     "text": [
      "Accuracy for comment:\n"
     ]
    },
    {
     "name": "stderr",
     "output_type": "stream",
     "text": [
      "/home/digitman/miniconda3/lib/python3.6/site-packages/keras/models.py:851: UserWarning: The `nb_epoch` argument in `fit` has been renamed `epochs`.\n",
      "  warnings.warn('The `nb_epoch` argument in `fit` '\n"
     ]
    },
    {
     "name": "stdout",
     "output_type": "stream",
     "text": [
      "Model:  lstm_word\n",
      "0.519285714286\n",
      "Model:  mlp\n",
      "0.526785714286\n",
      "Model:  lr_count_2k_word\n",
      "0.524285714286\n",
      "Model:  lr_count_2k_char\n",
      "0.53\n",
      "Model:  lr_count_5k_word\n",
      "0.531071428571\n",
      "Model:  lr_count_5k_char\n",
      "0.532857142857\n",
      "Model:  lr_clear_count_1k\n",
      "0.530714285714\n",
      "Model:  xgb\n",
      "0.493214285714\n",
      "Model:  lr_tfidf_1k\n",
      "0.529642857143\n",
      "Model:  lr_tfidf_5k\n",
      "0.53\n",
      "Median of models: 0.533571428571\n",
      "Accuracy for user:\n",
      "Model:  lstm_word\n",
      "0.546875\n",
      "Model:  mlp\n",
      "0.609375\n",
      "Model:  lr_count_2k_word\n",
      "0.578125\n",
      "Model:  lr_count_2k_char\n",
      "0.5703125\n",
      "Model:  lr_count_5k_word\n",
      "0.6171875\n",
      "Model:  lr_count_5k_char\n",
      "0.5703125\n",
      "Model:  lr_clear_count_1k\n",
      "0.5859375\n",
      "Model:  xgb\n",
      "0.5\n",
      "Model:  lr_tfidf_1k\n",
      "0.609375\n",
      "Model:  lr_tfidf_5k\n",
      "0.546875\n",
      "Median of models averaged per user:\n",
      "0.609375\n",
      "Median of averaged model per user:\n",
      "0.609375\n",
      "CPU times: user 18h 3min 49s, sys: 1h 44min 33s, total: 19h 48min 23s\n",
      "Wall time: 5h 49min 51s\n"
     ]
    }
   ],
   "source": [
    "%%time\n",
    "np.random.seed(0)\n",
    "scores = []\n",
    "for i in range(1, 21):\n",
    "    sc = fit_predict_to_n_user(comments,\n",
    "            [\n",
    "                LstmModel('lstm_word', nb_epoch=5),\n",
    "    #             LstmModel('lstm_char', nb_epoch=5, nb_words=100, char_level=True, max_len=100),\n",
    "                MlpModel('mlp'),\n",
    "                LrModelCount('lr_count_2k_word', 2000, ngram_range=(1, 2)),\n",
    "                LrModelCount('lr_count_2k_char', 2000, 'char', (3, 3)),\n",
    "                LrModelCount('lr_count_5k_word', 5000, ngram_range=(1, 2)),\n",
    "                LrModelCount('lr_count_5k_char', 5000, 'char', (3, 3)),\n",
    "\n",
    "                LrModelCountClear('lr_clear_count_1k', 1000),\n",
    "                FeaturesModelXGB('xgb'),\n",
    "                LrModelTfidf('lr_tfidf_1k', 1000),\n",
    "                LrModelTfidf('lr_tfidf_5k', 5000),\n",
    "            ], i, False, with_additional=True, debug=False)\n",
    "    scores.append(sc)"
   ]
  },
  {
   "cell_type": "code",
   "execution_count": 151,
   "metadata": {
    "collapsed": true
   },
   "outputs": [],
   "source": [
    "%matplotlib inline"
   ]
  },
  {
   "cell_type": "code",
   "execution_count": 265,
   "metadata": {},
   "outputs": [
    {
     "data": {
      "image/png": "[encoded data removed]",
      "text/plain": [
       "<matplotlib.figure.Figure at 0x7f57ccc7f6a0>"
      ]
     },
     "metadata": {},
     "output_type": "display_data"
    }
   ],
   "source": [
    "fig = plt.figure(figsize=(8, 6))\n",
    "\n",
    "plt.plot(range(1, 21), [x[1] for x in scores])\n",
    "# plt.plot(range(3, 21), [x[1] for x in scores])\n",
    "# plt.yticks(np.round(np.linspace(0.51, 0.66, 16), 2));\n",
    "# plt.xticks(np.linspace(0, 16, 17));\n",
    "# plt.ylim(0.51, 0.66)\n",
    "# plt.xlim(0, 16)\n",
    "plt.xlabel('Минимальное кол-во комментариев')\n",
    "plt.ylabel('Точность')\n",
    "plt.title('Зависимость точности от кол-ва комментариев');"
   ]
  },
  {
   "cell_type": "code",
   "execution_count": 152,
   "metadata": {},
   "outputs": [
    {
     "data": {
      "image/png": "[encoded data removed]",
      "text/plain": [
       "<matplotlib.figure.Figure at 0x7f252cfd1a20>"
      ]
     },
     "metadata": {},
     "output_type": "display_data"
    }
   ],
   "source": [
    "fig = plt.figure(figsize=(8, 6))\n",
    "\n",
    "plt.plot(range(1, 21), [x[1] for x in scores])\n",
    "# plt.plot(range(3, 21), [x[1] for x in scores])\n",
    "# plt.yticks(np.round(np.linspace(0.51, 0.66, 16), 2));\n",
    "# plt.xticks(np.linspace(0, 16, 17));\n",
    "# plt.ylim(0.51, 0.66)\n",
    "# plt.xlim(0, 16)\n",
    "plt.xlabel('Минимальное кол-во комментариев')\n",
    "plt.ylabel('Точность')\n",
    "plt.title('Зависимость точности от кол-ва комментариев');"
   ]
  },
  {
   "cell_type": "code",
   "execution_count": 153,
   "metadata": {
    "collapsed": true
   },
   "outputs": [],
   "source": [
    "fig.savefig('temp2.png')"
   ]
  },
  {
   "cell_type": "code",
   "execution_count": 267,
   "metadata": {
    "collapsed": true
   },
   "outputs": [],
   "source": [
    "uniq_ids = []\n",
    "for i in range(1, 21):\n",
    "    unique_ids = comments.from_id.value_counts()[comments.from_id.value_counts() >= i].index.values\n",
    "    uniq_ids.append(len(unique_ids))"
   ]
  },
  {
   "cell_type": "code",
   "execution_count": 269,
   "metadata": {},
   "outputs": [
    {
     "data": {
      "image/png": "[encoded data removed]",
      "text/plain": [
       "<matplotlib.figure.Figure at 0x7f57cc276630>"
      ]
     },
     "metadata": {},
     "output_type": "display_data"
    }
   ],
   "source": [
    "fig = plt.figure(figsize=(8, 6))\n",
    "plt.plot(range(1,21), uniq_ids)\n",
    "# plt.xticks(np.linspace(0, 16, 17));\n",
    "plt.xlabel('Минимальное кол-во комментариев')\n",
    "plt.ylabel('Количество человек')\n",
    "plt.title('Количество человек при ограничении минимального кол-ва комментариев');"
   ]
  },
  {
   "cell_type": "code",
   "execution_count": 130,
   "metadata": {
    "collapsed": true
   },
   "outputs": [],
   "source": [
    "fig.savefig('temp.png')"
   ]
  },
  {
   "cell_type": "code",
   "execution_count": 711,
   "metadata": {
    "collapsed": true
   },
   "outputs": [],
   "source": [
    "with open('unique_ids.pkl', 'wb') as f:\n",
    "    pickle.dump(unique_ids, f)"
   ]
  },
  {
   "cell_type": "code",
   "execution_count": 928,
   "metadata": {
    "collapsed": true
   },
   "outputs": [],
   "source": [
    "with open('unique_ids_10.pkl', 'rb') as f:\n",
    "    unique_ids = pickle.load(f)"
   ]
  },
  {
   "cell_type": "code",
   "execution_count": 785,
   "metadata": {
    "collapsed": true
   },
   "outputs": [],
   "source": [
    "unique_ids = pd.Series(unique_ids).sample(frac=1, random_state=3).values"
   ]
  },
  {
   "cell_type": "code",
   "execution_count": 908,
   "metadata": {},
   "outputs": [
    {
     "data": {
      "text/plain": [
       "0.0    45254\n",
       "1.0    37810\n",
       "Name: is_gum, dtype: int64"
      ]
     },
     "execution_count": 908,
     "metadata": {},
     "output_type": "execute_result"
    }
   ],
   "source": [
    "# unique_ids = pd.Series(unique_ids).sample(frac=1, random_state=3).values\n",
    "train_idxs = unique_ids[:len(unique_ids) * 0.8]\n",
    "test_idxs = unique_ids[len(unique_ids) * 0.8:]\n",
    "\n",
    "train_comments = comments[[i in train_idxs for i in comments.from_id]]\n",
    "test_comments = comments[[i in test_idxs for i in comments.from_id]]\n",
    "\n",
    "train_comments.is_gum.value_counts()"
   ]
  },
  {
   "cell_type": "code",
   "execution_count": 929,
   "metadata": {},
   "outputs": [
    {
     "name": "stdout",
     "output_type": "stream",
     "text": [
      "0.0    9671\n",
      "1.0    8301\n",
      "Name: is_gum, dtype: int64\n"
     ]
    }
   ],
   "source": [
    "print(test_comments.is_gum.value_counts())"
   ]
  },
  {
   "cell_type": "code",
   "execution_count": 910,
   "metadata": {},
   "outputs": [
    {
     "data": {
      "text/plain": [
       "(1088, 273)"
      ]
     },
     "execution_count": 910,
     "metadata": {},
     "output_type": "execute_result"
    }
   ],
   "source": [
    "len(train_idxs), len(test_idxs)"
   ]
  },
  {
   "cell_type": "code",
   "execution_count": 932,
   "metadata": {},
   "outputs": [
    {
     "data": {
      "text/plain": [
       "0.0    9671\n",
       "1.0    8301\n",
       "Name: is_gum, dtype: int64"
      ]
     },
     "execution_count": 932,
     "metadata": {},
     "output_type": "execute_result"
    }
   ],
   "source": [
    "test_comments.is_gum.value_counts()"
   ]
  },
  {
   "cell_type": "code",
   "execution_count": 916,
   "metadata": {},
   "outputs": [
    {
     "data": {
      "text/plain": [
       "1.0    45254\n",
       "0.0    45254\n",
       "Name: is_gum, dtype: int64"
      ]
     },
     "execution_count": 916,
     "metadata": {},
     "output_type": "execute_result"
    }
   ],
   "source": [
    "train_comments.is_gum.value_counts()"
   ]
  },
  {
   "cell_type": "code",
   "execution_count": 917,
   "metadata": {
    "scrolled": true
   },
   "outputs": [
    {
     "data": {
      "text/plain": [
       "((90508, 10), (17972, 10))"
      ]
     },
     "execution_count": 917,
     "metadata": {},
     "output_type": "execute_result"
    }
   ],
   "source": [
    "train_comments.shape, test_comments.shape"
   ]
  },
  {
   "cell_type": "code",
   "execution_count": 918,
   "metadata": {
    "collapsed": true
   },
   "outputs": [],
   "source": [
    "X_train = vectorizer.transform(train_comments.text.values)\n",
    "X_test = vectorizer.transform(test_comments.text.values)"
   ]
  },
  {
   "cell_type": "code",
   "execution_count": 919,
   "metadata": {},
   "outputs": [
    {
     "data": {
      "text/plain": [
       "matrix([[7],\n",
       "        [1],\n",
       "        [6],\n",
       "        ..., \n",
       "        [7],\n",
       "        [2],\n",
       "        [4]])"
      ]
     },
     "execution_count": 919,
     "metadata": {},
     "output_type": "execute_result"
    }
   ],
   "source": [
    "X_test.sum(axis=1)"
   ]
  },
  {
   "cell_type": "code",
   "execution_count": 920,
   "metadata": {
    "collapsed": true
   },
   "outputs": [],
   "source": [
    "lr = lm.LogisticRegression() # class_weight='balanced')"
   ]
  },
  {
   "cell_type": "code",
   "execution_count": 921,
   "metadata": {},
   "outputs": [
    {
     "data": {
      "text/plain": [
       "LogisticRegression(C=1.0, class_weight=None, dual=False, fit_intercept=True,\n",
       "          intercept_scaling=1, max_iter=100, multi_class='ovr', n_jobs=1,\n",
       "          penalty='l2', random_state=None, solver='liblinear', tol=0.0001,\n",
       "          verbose=0, warm_start=False)"
      ]
     },
     "execution_count": 921,
     "metadata": {},
     "output_type": "execute_result"
    }
   ],
   "source": [
    "lr.fit(X_train, train_comments.is_gum.values)"
   ]
  },
  {
   "cell_type": "code",
   "execution_count": 922,
   "metadata": {},
   "outputs": [
    {
     "data": {
      "text/plain": [
       "0.52203427553972848"
      ]
     },
     "execution_count": 922,
     "metadata": {},
     "output_type": "execute_result"
    }
   ],
   "source": [
    "lr.score(X_test, test_comments.is_gum.values)"
   ]
  },
  {
   "cell_type": "code",
   "execution_count": 923,
   "metadata": {
    "collapsed": true
   },
   "outputs": [],
   "source": [
    "prediction = lr.predict(X_test)"
   ]
  },
  {
   "cell_type": "code",
   "execution_count": 924,
   "metadata": {},
   "outputs": [
    {
     "name": "stderr",
     "output_type": "stream",
     "text": [
      "/home/digitman/anaconda3/lib/python3.5/site-packages/ipykernel/__main__.py:1: SettingWithCopyWarning: \n",
      "A value is trying to be set on a copy of a slice from a DataFrame.\n",
      "Try using .loc[row_indexer,col_indexer] = value instead\n",
      "\n",
      "See the caveats in the documentation: http://pandas.pydata.org/pandas-docs/stable/indexing.html#indexing-view-versus-copy\n",
      "  if __name__ == '__main__':\n"
     ]
    }
   ],
   "source": [
    "test_comments['prediction'] = prediction"
   ]
  },
  {
   "cell_type": "code",
   "execution_count": 925,
   "metadata": {
    "collapsed": true
   },
   "outputs": [],
   "source": []
  },
  {
   "cell_type": "code",
   "execution_count": 926,
   "metadata": {
    "collapsed": true
   },
   "outputs": [],
   "source": [
    "y_true = test_comments.groupby('from_id').agg(np.median)['is_gum'].values\n",
    "y_pred = np.floor(test_comments.groupby('from_id').agg(np.median)['prediction'].values)\n",
    "accuracy_score(y_true, y_pred)"
   ]
  },
  {
   "cell_type": "code",
   "execution_count": 927,
   "metadata": {},
   "outputs": [
    {
     "data": {
      "text/plain": [
       "0.58608058608058611"
      ]
     },
     "execution_count": 927,
     "metadata": {},
     "output_type": "execute_result"
    }
   ],
   "source": []
  },
  {
   "cell_type": "code",
   "execution_count": 904,
   "metadata": {},
   "outputs": [
    {
     "data": {
      "text/plain": [
       "<matplotlib.axes._subplots.AxesSubplot at 0x7f4e194c8588>"
      ]
     },
     "execution_count": 904,
     "metadata": {},
     "output_type": "execute_result"
    },
    {
     "data": {
      "image/png": "[encoded data removed]",
      "text/plain": [
       "<matplotlib.figure.Figure at 0x7f4e172e16a0>"
      ]
     },
     "metadata": {},
     "output_type": "display_data"
    }
   ],
   "source": [
    "test_comments.groupby('from_id').agg(np.std)['prediction'].hist()"
   ]
  },
  {
   "cell_type": "code",
   "execution_count": 905,
   "metadata": {},
   "outputs": [
    {
     "data": {
      "text/plain": [
       "<matplotlib.axes._subplots.AxesSubplot at 0x7f4e171b7390>"
      ]
     },
     "execution_count": 905,
     "metadata": {},
     "output_type": "execute_result"
    },
    {
     "data": {
      "image/png": "[encoded data removed]",
      "text/plain": [
       "<matplotlib.figure.Figure at 0x7f4e1949a978>"
      ]
     },
     "metadata": {},
     "output_type": "display_data"
    }
   ],
   "source": [
    "test_comments.groupby('from_id').agg(np.median)['prediction'].hist()"
   ]
  },
  {
   "cell_type": "code",
   "execution_count": null,
   "metadata": {
    "collapsed": true
   },
   "outputs": [],
   "source": []
  }
 ],
 "metadata": {
  "anaconda-cloud": {},
  "kernelspec": {
   "display_name": "Python 3",
   "language": "python",
   "name": "python3"
  },
  "language_info": {
   "codemirror_mode": {
    "name": "ipython",
    "version": 3
   },
   "file_extension": ".py",
   "mimetype": "text/x-python",
   "name": "python",
   "nbconvert_exporter": "python",
   "pygments_lexer": "ipython3",
   "version": "3.6.0"
  }
 },
 "nbformat": 4,
 "nbformat_minor": 2
}
