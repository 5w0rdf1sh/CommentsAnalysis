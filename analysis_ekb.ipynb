{
 "cells": [
  {
   "cell_type": "code",
   "execution_count": 1,
   "metadata": {
    "collapsed": true
   },
   "outputs": [],
   "source": [
    "import numpy as np\n",
    "import pandas as pd\n",
    "import pickle\n",
    "import matplotlib.pyplot as plt\n",
    "import seaborn as sns\n",
    "from datetime import datetime\n",
    "%matplotlib inline"
   ]
  },
  {
   "cell_type": "code",
   "execution_count": 2,
   "metadata": {
    "collapsed": false
   },
   "outputs": [],
   "source": [
    "pd.set_option(\"display.max_columns\", 100)"
   ]
  },
  {
   "cell_type": "code",
   "execution_count": 3,
   "metadata": {
    "collapsed": true
   },
   "outputs": [],
   "source": [
    "comments_path = 'data/comments_-32182751.pkl'\n",
    "users_path = 'data/users_-32182751.pkl'"
   ]
  },
  {
   "cell_type": "code",
   "execution_count": 4,
   "metadata": {
    "collapsed": true
   },
   "outputs": [],
   "source": [
    "with open(comments_path, 'rb') as f:\n",
    "    comments = pickle.load(f)\n",
    "with open(users_path, 'rb') as f:\n",
    "    users = pickle.load(f)"
   ]
  },
  {
   "cell_type": "code",
   "execution_count": 5,
   "metadata": {
    "collapsed": false
   },
   "outputs": [],
   "source": [
    "comments_df = pd.DataFrame(comments)"
   ]
  },
  {
   "cell_type": "code",
   "execution_count": 6,
   "metadata": {
    "collapsed": false
   },
   "outputs": [
    {
     "data": {
      "text/html": [
       "<div>\n",
       "<table border=\"1\" class=\"dataframe\">\n",
       "  <thead>\n",
       "    <tr style=\"text-align: right;\">\n",
       "      <th></th>\n",
       "      <th>attachments</th>\n",
       "      <th>comment_id</th>\n",
       "      <th>date</th>\n",
       "      <th>from_id</th>\n",
       "      <th>likes</th>\n",
       "      <th>owner_id</th>\n",
       "      <th>reply_to_cid</th>\n",
       "      <th>reply_to_uid</th>\n",
       "      <th>text</th>\n",
       "    </tr>\n",
       "  </thead>\n",
       "  <tbody>\n",
       "    <tr>\n",
       "      <th>0</th>\n",
       "      <td>None</td>\n",
       "      <td>3481302</td>\n",
       "      <td>1477935220</td>\n",
       "      <td>255518914</td>\n",
       "      <td>17</td>\n",
       "      <td>-32182751</td>\n",
       "      <td>None</td>\n",
       "      <td>None</td>\n",
       "      <td>Можно удалять репост)).</td>\n",
       "    </tr>\n",
       "    <tr>\n",
       "      <th>1</th>\n",
       "      <td>None</td>\n",
       "      <td>3481303</td>\n",
       "      <td>1477935225</td>\n",
       "      <td>166267984</td>\n",
       "      <td>59</td>\n",
       "      <td>-32182751</td>\n",
       "      <td>None</td>\n",
       "      <td>None</td>\n",
       "      <td>Кругом обман, уйду в тумааан</td>\n",
       "    </tr>\n",
       "    <tr>\n",
       "      <th>2</th>\n",
       "      <td>None</td>\n",
       "      <td>3481307</td>\n",
       "      <td>1477935303</td>\n",
       "      <td>313942764</td>\n",
       "      <td>7</td>\n",
       "      <td>-32182751</td>\n",
       "      <td>None</td>\n",
       "      <td>None</td>\n",
       "      <td>Ниче нового..ну хоть репост уже можно удалить</td>\n",
       "    </tr>\n",
       "    <tr>\n",
       "      <th>3</th>\n",
       "      <td>[{'type': 'photo', 'photo': {'album_id': -8, '...</td>\n",
       "      <td>3481309</td>\n",
       "      <td>1477935316</td>\n",
       "      <td>204588922</td>\n",
       "      <td>14</td>\n",
       "      <td>-32182751</td>\n",
       "      <td>None</td>\n",
       "      <td>None</td>\n",
       "      <td>Мой братан - тлен</td>\n",
       "    </tr>\n",
       "    <tr>\n",
       "      <th>4</th>\n",
       "      <td>None</td>\n",
       "      <td>3481310</td>\n",
       "      <td>1477935330</td>\n",
       "      <td>306333205</td>\n",
       "      <td>4</td>\n",
       "      <td>-32182751</td>\n",
       "      <td>None</td>\n",
       "      <td>None</td>\n",
       "      <td>Поздравляю, Анастасия!</td>\n",
       "    </tr>\n",
       "  </tbody>\n",
       "</table>\n",
       "</div>"
      ],
      "text/plain": [
       "                                         attachments  comment_id        date  \\\n",
       "0                                               None     3481302  1477935220   \n",
       "1                                               None     3481303  1477935225   \n",
       "2                                               None     3481307  1477935303   \n",
       "3  [{'type': 'photo', 'photo': {'album_id': -8, '...     3481309  1477935316   \n",
       "4                                               None     3481310  1477935330   \n",
       "\n",
       "     from_id  likes   owner_id reply_to_cid reply_to_uid  \\\n",
       "0  255518914     17  -32182751         None         None   \n",
       "1  166267984     59  -32182751         None         None   \n",
       "2  313942764      7  -32182751         None         None   \n",
       "3  204588922     14  -32182751         None         None   \n",
       "4  306333205      4  -32182751         None         None   \n",
       "\n",
       "                                            text  \n",
       "0                        Можно удалять репост)).  \n",
       "1                   Кругом обман, уйду в тумааан  \n",
       "2  Ниче нового..ну хоть репост уже можно удалить  \n",
       "3                              Мой братан - тлен  \n",
       "4                         Поздравляю, Анастасия!  "
      ]
     },
     "execution_count": 6,
     "metadata": {},
     "output_type": "execute_result"
    }
   ],
   "source": [
    "comments_df.head()"
   ]
  },
  {
   "cell_type": "code",
   "execution_count": 7,
   "metadata": {
    "collapsed": false
   },
   "outputs": [
    {
     "data": {
      "text/plain": [
       "(2766029, 9)"
      ]
     },
     "execution_count": 7,
     "metadata": {},
     "output_type": "execute_result"
    }
   ],
   "source": [
    "comments_df.shape"
   ]
  },
  {
   "cell_type": "markdown",
   "metadata": {},
   "source": [
    "# Preparing data"
   ]
  },
  {
   "cell_type": "code",
   "execution_count": 8,
   "metadata": {
    "collapsed": true
   },
   "outputs": [],
   "source": [
    "def university_cond(user):\n",
    "    return len(user.get('universities', [])) == 1"
   ]
  },
  {
   "cell_type": "code",
   "execution_count": 9,
   "metadata": {
    "collapsed": true
   },
   "outputs": [],
   "source": [
    "def faculty_cond(user):\n",
    "    return user['universities'][0].get('faculty_name') is not None"
   ]
  },
  {
   "cell_type": "code",
   "execution_count": 10,
   "metadata": {
    "collapsed": true
   },
   "outputs": [],
   "source": [
    "users_with_univ = list(filter(university_cond, users))\n",
    "users_with_fac = list(filter(faculty_cond, users_with_univ))"
   ]
  },
  {
   "cell_type": "code",
   "execution_count": 11,
   "metadata": {
    "collapsed": false
   },
   "outputs": [
    {
     "data": {
      "text/plain": [
       "(13966, 11012)"
      ]
     },
     "execution_count": 11,
     "metadata": {},
     "output_type": "execute_result"
    }
   ],
   "source": [
    "len(users_with_univ), len(users_with_fac)"
   ]
  },
  {
   "cell_type": "code",
   "execution_count": 12,
   "metadata": {
    "collapsed": false
   },
   "outputs": [
    {
     "data": {
      "text/plain": [
       "{'activities': 'СМП',\n",
       " 'bdate': '12.1.1985',\n",
       " 'books': 'Библия, Иоанн Златоуст, \"Человек перед Богом\" митрополит Антоний Сурожский, \"Братья Карамазовы\" Достоевский, \"Кирза\" Чекунов, \"На западном фронте без перемен\" Ремарк, \"Евгений Онегин\"',\n",
       " 'can_see_all_posts': 0,\n",
       " 'can_see_audio': 0,\n",
       " 'can_write_private_message': 0,\n",
       " 'first_name': 'Konstantin',\n",
       " 'id': 146538596,\n",
       " 'interests': '',\n",
       " 'last_name': 'Malyshev',\n",
       " 'movies': 'Исчезнувшая 2014',\n",
       " 'music': '',\n",
       " 'occupation': {'name': 'ЦРБ', 'type': 'work'},\n",
       " 'personal': {'alcohol': 3,\n",
       "  'inspired_by': 'голод и холод',\n",
       "  'political': 4,\n",
       "  'religion': 'Православие',\n",
       "  'smoking': 1},\n",
       " 'relation': 4,\n",
       " 'sex': 2,\n",
       " 'status': 'Откровение настолько нереально, что вера в него - это заслуга. И настолько реально, что неверие в него - это вина.\\n\\nКарл Ясперс.',\n",
       " 'universities': [{'chair': 2039002,\n",
       "   'chair_name': 'Теологии',\n",
       "   'city': 10719,\n",
       "   'country': 1,\n",
       "   'education_form': 'Full-time',\n",
       "   'faculty': 36704,\n",
       "   'faculty_name': 'Институт психолого-педагогического образования',\n",
       "   'graduation': 2006,\n",
       "   'id': 9958,\n",
       "   'name': 'РГППУ'}]}"
      ]
     },
     "execution_count": 12,
     "metadata": {},
     "output_type": "execute_result"
    }
   ],
   "source": [
    "users_with_fac[3]"
   ]
  },
  {
   "cell_type": "code",
   "execution_count": 13,
   "metadata": {
    "collapsed": false
   },
   "outputs": [],
   "source": [
    "users_ = []\n",
    "for u in users_with_fac:\n",
    "    u.pop('occupation', None)\n",
    "    u.pop('relation_partner', None)\n",
    "    univ = u.pop('universities')[0]\n",
    "    u.update({'univ_name': univ['name'], 'faculty_name': univ['faculty_name'],\n",
    "              'education_form': univ.get('education_form'), 'education_status': univ.get('education_status'),\n",
    "              'graduation': univ.get('graduation')})\n",
    "    pers = u.pop('personal')\n",
    "    if pers:\n",
    "        u.update({'political': pers.get('political'), 'langs': ','.join(pers.get('langs', [])),\n",
    "                  'religion': pers.get('religion'), 'inspired_by': pers.get('inspired_by'),\n",
    "                  'people_main': pers.get('people_main'), 'life_main': pers.get('life_main'),\n",
    "                  'smoking': pers.get('smoking'), 'alcohol': pers.get('alcohol')})\n",
    "    users_.append(u)"
   ]
  },
  {
   "cell_type": "code",
   "execution_count": 14,
   "metadata": {
    "collapsed": false
   },
   "outputs": [
    {
     "data": {
      "text/plain": [
       "{'activities': '',\n",
       " 'bdate': '21.10',\n",
       " 'books': '',\n",
       " 'can_see_all_posts': 0,\n",
       " 'can_see_audio': 1,\n",
       " 'can_write_private_message': 1,\n",
       " 'education_form': None,\n",
       " 'education_status': None,\n",
       " 'faculty_name': 'Факультет телерадиожурналистики',\n",
       " 'first_name': 'Ivan',\n",
       " 'graduation': None,\n",
       " 'id': 25165865,\n",
       " 'interests': '',\n",
       " 'last_name': 'Loginovskikh',\n",
       " 'movies': '',\n",
       " 'music': '',\n",
       " 'relation': 0,\n",
       " 'sex': 2,\n",
       " 'status': '',\n",
       " 'univ_name': 'ГУ\\r\\n'}"
      ]
     },
     "execution_count": 14,
     "metadata": {},
     "output_type": "execute_result"
    }
   ],
   "source": [
    "users_[0]"
   ]
  },
  {
   "cell_type": "code",
   "execution_count": 15,
   "metadata": {
    "collapsed": false
   },
   "outputs": [],
   "source": [
    "users_df = pd.DataFrame(users_)"
   ]
  },
  {
   "cell_type": "code",
   "execution_count": 16,
   "metadata": {
    "collapsed": false
   },
   "outputs": [],
   "source": [
    "with open('ing__.txt', 'w') as f:\n",
    "    f.writelines('\\n'.join(users_df.faculty_name.value_counts()[(users_df.faculty_name.value_counts() > 4)].keys().values))"
   ]
  },
  {
   "cell_type": "code",
   "execution_count": 17,
   "metadata": {
    "collapsed": false
   },
   "outputs": [
    {
     "data": {
      "text/plain": [
       "244"
      ]
     },
     "execution_count": 17,
     "metadata": {},
     "output_type": "execute_result"
    }
   ],
   "source": [
    "(users_df.faculty_name.value_counts() > 4).sum()"
   ]
  },
  {
   "cell_type": "code",
   "execution_count": 18,
   "metadata": {
    "collapsed": false
   },
   "outputs": [
    {
     "data": {
      "text/plain": [
       "9411"
      ]
     },
     "execution_count": 18,
     "metadata": {},
     "output_type": "execute_result"
    }
   ],
   "source": [
    "users_df.faculty_name.value_counts()[(users_df.faculty_name.value_counts() > 4)].values.sum()"
   ]
  },
  {
   "cell_type": "code",
   "execution_count": 19,
   "metadata": {
    "collapsed": true
   },
   "outputs": [],
   "source": [
    "with open('ing.txt', 'r') as f:\n",
    "    ing = [line.strip() for line in f.readlines()]\n",
    "with open('gum.txt', 'r') as f:\n",
    "    gum = [line.strip() for line in f.readlines()]"
   ]
  },
  {
   "cell_type": "code",
   "execution_count": 20,
   "metadata": {
    "collapsed": false
   },
   "outputs": [
    {
     "data": {
      "text/plain": [
       "(['Экономический факультет',\n",
       "  'Экономический',\n",
       "  'Факультет прикладной математики, информатики и механики'],\n",
       " ['Юридический факультет',\n",
       "  'Экономики и управления',\n",
       "  'Экономика и управление на предприятии'])"
      ]
     },
     "execution_count": 20,
     "metadata": {},
     "output_type": "execute_result"
    }
   ],
   "source": [
    "ing[:3], gum[:3]"
   ]
  },
  {
   "cell_type": "code",
   "execution_count": 20,
   "metadata": {
    "collapsed": false
   },
   "outputs": [],
   "source": [
    "users_df['is_gum'] = None"
   ]
  },
  {
   "cell_type": "code",
   "execution_count": 21,
   "metadata": {
    "collapsed": false
   },
   "outputs": [],
   "source": [
    "def get_is_gum(name):\n",
    "    name = name.strip()\n",
    "    if name in gum:\n",
    "        return 1\n",
    "    elif name in ing:\n",
    "        return 0\n",
    "    else: return None"
   ]
  },
  {
   "cell_type": "code",
   "execution_count": 26,
   "metadata": {
    "collapsed": false
   },
   "outputs": [],
   "source": [
    "users_df['is_gum'] = users_df.faculty_name.apply(get_is_gum)"
   ]
  },
  {
   "cell_type": "code",
   "execution_count": 27,
   "metadata": {
    "collapsed": false
   },
   "outputs": [],
   "source": [
    "users_df.dropna(subset=['is_gum'], inplace=True)"
   ]
  },
  {
   "cell_type": "code",
   "execution_count": 28,
   "metadata": {
    "collapsed": false
   },
   "outputs": [
    {
     "data": {
      "text/plain": [
       "1.0    4349\n",
       "0.0    2744\n",
       "Name: faculty_name, dtype: int64"
      ]
     },
     "execution_count": 28,
     "metadata": {},
     "output_type": "execute_result"
    }
   ],
   "source": [
    "users_df.is_gum.value_counts()"
   ]
  },
  {
   "cell_type": "code",
   "execution_count": 29,
   "metadata": {
    "collapsed": false
   },
   "outputs": [
    {
     "data": {
      "text/plain": [
       "Index(['activities', 'alcohol', 'bdate', 'books', 'can_see_all_posts',\n",
       "       'can_see_audio', 'can_write_private_message', 'education_form',\n",
       "       'education_status', 'faculty_name', 'first_name', 'graduation', 'id',\n",
       "       'inspired_by', 'interests', 'langs', 'last_name', 'life_main', 'movies',\n",
       "       'music', 'people_main', 'political', 'relation', 'religion', 'sex',\n",
       "       'smoking', 'status', 'status_audio', 'univ_name', 'is_gum'],\n",
       "      dtype='object')"
      ]
     },
     "execution_count": 29,
     "metadata": {},
     "output_type": "execute_result"
    }
   ],
   "source": [
    "users_df.columns"
   ]
  },
  {
   "cell_type": "markdown",
   "metadata": {},
   "source": [
    "# Demographic"
   ]
  },
  {
   "cell_type": "markdown",
   "metadata": {},
   "source": [
    "## Sex"
   ]
  },
  {
   "cell_type": "code",
   "execution_count": 30,
   "metadata": {
    "collapsed": false
   },
   "outputs": [
    {
     "data": {
      "text/plain": [
       "1.0    4349\n",
       "0.0    2744\n",
       "Name: faculty_name, dtype: int64"
      ]
     },
     "execution_count": 30,
     "metadata": {},
     "output_type": "execute_result"
    }
   ],
   "source": [
    "users_vc = users_df.is_gum.value_counts()\n",
    "users_vc"
   ]
  },
  {
   "cell_type": "code",
   "execution_count": 31,
   "metadata": {
    "collapsed": false
   },
   "outputs": [
    {
     "data": {
      "text/plain": [
       "1605"
      ]
     },
     "execution_count": 31,
     "metadata": {},
     "output_type": "execute_result"
    }
   ],
   "source": [
    "delta = users_vc[1] - users_vc[0]\n",
    "delta"
   ]
  },
  {
   "cell_type": "code",
   "execution_count": 32,
   "metadata": {
    "collapsed": false
   },
   "outputs": [
    {
     "name": "stderr",
     "output_type": "stream",
     "text": [
      "/home/digitman/anaconda3/lib/python3.5/site-packages/ipykernel/__main__.py:1: UserWarning: Boolean Series key will be reindexed to match DataFrame index.\n",
      "  if __name__ == '__main__':\n"
     ]
    }
   ],
   "source": [
    "index_to_del = np.random.choice(users_df[users_df.is_gum == 1].index, delta, replace=False)"
   ]
  },
  {
   "cell_type": "code",
   "execution_count": 33,
   "metadata": {
    "collapsed": false
   },
   "outputs": [
    {
     "data": {
      "image/png": "[encoded data removed]",
      "text/plain": [
       "<matplotlib.figure.Figure at 0x7f971a5304a8>"
      ]
     },
     "metadata": {},
     "output_type": "display_data"
    }
   ],
   "source": [
    "g = sns.countplot(x='sex', hue='is_gum',  data=users_df.drop(index_to_del))"
   ]
  },
  {
   "cell_type": "markdown",
   "metadata": {},
   "source": [
    "## Alcohol"
   ]
  },
  {
   "cell_type": "code",
   "execution_count": 34,
   "metadata": {
    "collapsed": false
   },
   "outputs": [
    {
     "data": {
      "text/plain": [
       "1.0    1677\n",
       "0.0    1109\n",
       "Name: is_gum, dtype: int64"
      ]
     },
     "execution_count": 34,
     "metadata": {},
     "output_type": "execute_result"
    }
   ],
   "source": [
    "alcohol_df = users_df.dropna(subset=['alcohol'])\n",
    "alcohol_vc = alcohol_df.is_gum.value_counts()\n",
    "alcohol_vc"
   ]
  },
  {
   "cell_type": "code",
   "execution_count": 35,
   "metadata": {
    "collapsed": false
   },
   "outputs": [
    {
     "data": {
      "text/plain": [
       "568"
      ]
     },
     "execution_count": 35,
     "metadata": {},
     "output_type": "execute_result"
    }
   ],
   "source": [
    "delta = alcohol_vc[1] - alcohol_vc[0]\n",
    "delta"
   ]
  },
  {
   "cell_type": "code",
   "execution_count": 36,
   "metadata": {
    "collapsed": false
   },
   "outputs": [
    {
     "name": "stderr",
     "output_type": "stream",
     "text": [
      "/home/digitman/anaconda3/lib/python3.5/site-packages/ipykernel/__main__.py:2: SettingWithCopyWarning: \n",
      "A value is trying to be set on a copy of a slice from a DataFrame\n",
      "\n",
      "See the caveats in the documentation: http://pandas.pydata.org/pandas-docs/stable/indexing.html#indexing-view-versus-copy\n",
      "  from ipykernel import kernelapp as app\n"
     ]
    },
    {
     "data": {
      "text/plain": [
       "1.0    1109\n",
       "0.0    1109\n",
       "Name: is_gum, dtype: int64"
      ]
     },
     "execution_count": 36,
     "metadata": {},
     "output_type": "execute_result"
    }
   ],
   "source": [
    "index_to_del = np.random.choice(alcohol_df[alcohol_df.is_gum == 1].index, delta, replace=False)\n",
    "alcohol_df.drop(index_to_del, inplace=True)\n",
    "alcohol_df.is_gum.value_counts()"
   ]
  },
  {
   "cell_type": "code",
   "execution_count": 37,
   "metadata": {
    "collapsed": false
   },
   "outputs": [
    {
     "data": {
      "image/png": "[encoded data removed]",
      "text/plain": [
       "<matplotlib.figure.Figure at 0x7f971a6c6908>"
      ]
     },
     "metadata": {},
     "output_type": "display_data"
    }
   ],
   "source": [
    "g = sns.countplot(x='alcohol', hue='is_gum',  data=alcohol_df)"
   ]
  },
  {
   "cell_type": "markdown",
   "metadata": {},
   "source": [
    "## Smoking"
   ]
  },
  {
   "cell_type": "code",
   "execution_count": 38,
   "metadata": {
    "collapsed": false
   },
   "outputs": [
    {
     "data": {
      "text/plain": [
       "1.0    1731\n",
       "0.0    1148\n",
       "Name: is_gum, dtype: int64"
      ]
     },
     "execution_count": 38,
     "metadata": {},
     "output_type": "execute_result"
    }
   ],
   "source": [
    "smoking_df = users_df.dropna(subset=['smoking'])\n",
    "smoking_vc = smoking_df.is_gum.value_counts()\n",
    "smoking_vc"
   ]
  },
  {
   "cell_type": "code",
   "execution_count": 39,
   "metadata": {
    "collapsed": false
   },
   "outputs": [
    {
     "data": {
      "text/plain": [
       "583"
      ]
     },
     "execution_count": 39,
     "metadata": {},
     "output_type": "execute_result"
    }
   ],
   "source": [
    "delta = smoking_vc[1] - smoking_vc[0]\n",
    "delta"
   ]
  },
  {
   "cell_type": "code",
   "execution_count": 40,
   "metadata": {
    "collapsed": false
   },
   "outputs": [
    {
     "name": "stderr",
     "output_type": "stream",
     "text": [
      "/home/digitman/anaconda3/lib/python3.5/site-packages/ipykernel/__main__.py:2: SettingWithCopyWarning: \n",
      "A value is trying to be set on a copy of a slice from a DataFrame\n",
      "\n",
      "See the caveats in the documentation: http://pandas.pydata.org/pandas-docs/stable/indexing.html#indexing-view-versus-copy\n",
      "  from ipykernel import kernelapp as app\n"
     ]
    },
    {
     "data": {
      "text/plain": [
       "1.0    1148\n",
       "0.0    1148\n",
       "Name: is_gum, dtype: int64"
      ]
     },
     "execution_count": 40,
     "metadata": {},
     "output_type": "execute_result"
    }
   ],
   "source": [
    "index_to_del = np.random.choice(smoking_df[smoking_df.is_gum == 1].index, delta, replace=False)\n",
    "smoking_df.drop(index_to_del, inplace=True)\n",
    "smoking_df.is_gum.value_counts()"
   ]
  },
  {
   "cell_type": "code",
   "execution_count": 41,
   "metadata": {
    "collapsed": false
   },
   "outputs": [
    {
     "data": {
      "image/png": "[encoded data removed]",
      "text/plain": [
       "<matplotlib.figure.Figure at 0x7f971ad5ff28>"
      ]
     },
     "metadata": {},
     "output_type": "display_data"
    }
   ],
   "source": [
    "g = sns.countplot(x='smoking', hue='is_gum',  data=smoking_df)"
   ]
  },
  {
   "cell_type": "markdown",
   "metadata": {},
   "source": [
    "## Political"
   ]
  },
  {
   "cell_type": "code",
   "execution_count": 42,
   "metadata": {
    "collapsed": false
   },
   "outputs": [
    {
     "data": {
      "text/plain": [
       "1.0    1505\n",
       "0.0    1009\n",
       "Name: is_gum, dtype: int64"
      ]
     },
     "execution_count": 42,
     "metadata": {},
     "output_type": "execute_result"
    }
   ],
   "source": [
    "political_df = users_df.dropna(subset=['political'])\n",
    "political_vc = political_df.is_gum.value_counts()\n",
    "political_vc"
   ]
  },
  {
   "cell_type": "code",
   "execution_count": 44,
   "metadata": {
    "collapsed": false
   },
   "outputs": [
    {
     "data": {
      "text/plain": [
       "496"
      ]
     },
     "execution_count": 44,
     "metadata": {},
     "output_type": "execute_result"
    }
   ],
   "source": [
    "delta = political_vc[1] - political_vc[0]\n",
    "delta"
   ]
  },
  {
   "cell_type": "code",
   "execution_count": 45,
   "metadata": {
    "collapsed": false
   },
   "outputs": [
    {
     "name": "stderr",
     "output_type": "stream",
     "text": [
      "/home/digitman/anaconda3/lib/python3.5/site-packages/ipykernel/__main__.py:2: SettingWithCopyWarning: \n",
      "A value is trying to be set on a copy of a slice from a DataFrame\n",
      "\n",
      "See the caveats in the documentation: http://pandas.pydata.org/pandas-docs/stable/indexing.html#indexing-view-versus-copy\n",
      "  from ipykernel import kernelapp as app\n"
     ]
    },
    {
     "data": {
      "text/plain": [
       "1.0    1009\n",
       "0.0    1009\n",
       "Name: is_gum, dtype: int64"
      ]
     },
     "execution_count": 45,
     "metadata": {},
     "output_type": "execute_result"
    }
   ],
   "source": [
    "index_to_del = np.random.choice(political_df[political_df.is_gum == 1].index, delta, replace=False)\n",
    "political_df.drop(index_to_del, inplace=True)\n",
    "political_df.is_gum.value_counts()"
   ]
  },
  {
   "cell_type": "code",
   "execution_count": 46,
   "metadata": {
    "collapsed": false
   },
   "outputs": [
    {
     "data": {
      "image/png": "[encoded data removed]",
      "text/plain": [
       "<matplotlib.figure.Figure at 0x7f971aea6b70>"
      ]
     },
     "metadata": {},
     "output_type": "display_data"
    }
   ],
   "source": [
    "g = sns.countplot(x='political', hue='is_gum',  data=political_df)"
   ]
  },
  {
   "cell_type": "markdown",
   "metadata": {},
   "source": [
    "## Relation"
   ]
  },
  {
   "cell_type": "code",
   "execution_count": 47,
   "metadata": {
    "collapsed": false
   },
   "outputs": [
    {
     "data": {
      "text/plain": [
       "1.0    4349\n",
       "0.0    2744\n",
       "Name: is_gum, dtype: int64"
      ]
     },
     "execution_count": 47,
     "metadata": {},
     "output_type": "execute_result"
    }
   ],
   "source": [
    "relation_df = users_df.dropna(subset=['relation'])\n",
    "relation_vc = relation_df.is_gum.value_counts()\n",
    "relation_vc"
   ]
  },
  {
   "cell_type": "code",
   "execution_count": 48,
   "metadata": {
    "collapsed": false
   },
   "outputs": [
    {
     "data": {
      "text/plain": [
       "1605"
      ]
     },
     "execution_count": 48,
     "metadata": {},
     "output_type": "execute_result"
    }
   ],
   "source": [
    "delta = relation_vc[1] - relation_vc[0]\n",
    "delta"
   ]
  },
  {
   "cell_type": "code",
   "execution_count": 49,
   "metadata": {
    "collapsed": false
   },
   "outputs": [
    {
     "data": {
      "text/plain": [
       "1.0    2744\n",
       "0.0    2744\n",
       "Name: is_gum, dtype: int64"
      ]
     },
     "execution_count": 49,
     "metadata": {},
     "output_type": "execute_result"
    }
   ],
   "source": [
    "index_to_del = np.random.choice(relation_df[relation_df.is_gum == 1].index, delta, replace=False)\n",
    "relation_df.drop(index_to_del, inplace=True)\n",
    "relation_df.is_gum.value_counts()"
   ]
  },
  {
   "cell_type": "code",
   "execution_count": 50,
   "metadata": {
    "collapsed": false
   },
   "outputs": [
    {
     "data": {
      "image/png": "[encoded data removed]",
      "text/plain": [
       "<matplotlib.figure.Figure at 0x7f971a43b908>"
      ]
     },
     "metadata": {},
     "output_type": "display_data"
    }
   ],
   "source": [
    "g = sns.countplot(x='relation', hue='is_gum',  data=relation_df)"
   ]
  },
  {
   "cell_type": "markdown",
   "metadata": {},
   "source": [
    "## Life-main"
   ]
  },
  {
   "cell_type": "code",
   "execution_count": 51,
   "metadata": {
    "collapsed": false
   },
   "outputs": [
    {
     "data": {
      "text/plain": [
       "1.0    1756\n",
       "0.0     999\n",
       "Name: is_gum, dtype: int64"
      ]
     },
     "execution_count": 51,
     "metadata": {},
     "output_type": "execute_result"
    }
   ],
   "source": [
    "life_main_df = users_df.dropna(subset=['life_main'])\n",
    "life_main_vc = life_main_df.is_gum.value_counts()\n",
    "life_main_vc"
   ]
  },
  {
   "cell_type": "code",
   "execution_count": 52,
   "metadata": {
    "collapsed": false
   },
   "outputs": [
    {
     "data": {
      "text/plain": [
       "757"
      ]
     },
     "execution_count": 52,
     "metadata": {},
     "output_type": "execute_result"
    }
   ],
   "source": [
    "delta = life_main_vc[1] - life_main_vc[0]\n",
    "delta"
   ]
  },
  {
   "cell_type": "code",
   "execution_count": 53,
   "metadata": {
    "collapsed": false
   },
   "outputs": [
    {
     "name": "stderr",
     "output_type": "stream",
     "text": [
      "/home/digitman/anaconda3/lib/python3.5/site-packages/ipykernel/__main__.py:2: SettingWithCopyWarning: \n",
      "A value is trying to be set on a copy of a slice from a DataFrame\n",
      "\n",
      "See the caveats in the documentation: http://pandas.pydata.org/pandas-docs/stable/indexing.html#indexing-view-versus-copy\n",
      "  from ipykernel import kernelapp as app\n"
     ]
    },
    {
     "data": {
      "text/plain": [
       "1.0    999\n",
       "0.0    999\n",
       "Name: is_gum, dtype: int64"
      ]
     },
     "execution_count": 53,
     "metadata": {},
     "output_type": "execute_result"
    }
   ],
   "source": [
    "index_to_del = np.random.choice(life_main_df[life_main_df.is_gum == 1].index, delta, replace=False)\n",
    "life_main_df.drop(index_to_del, inplace=True)\n",
    "life_main_df.is_gum.value_counts()"
   ]
  },
  {
   "cell_type": "code",
   "execution_count": 54,
   "metadata": {
    "collapsed": false
   },
   "outputs": [
    {
     "data": {
      "image/png": "[encoded data removed]",
      "text/plain": [
       "<matplotlib.figure.Figure at 0x7f971b2c37b8>"
      ]
     },
     "metadata": {},
     "output_type": "display_data"
    }
   ],
   "source": [
    "g = sns.countplot(x='life_main', hue='is_gum',  data=life_main_df)"
   ]
  },
  {
   "cell_type": "markdown",
   "metadata": {},
   "source": [
    "## People-main"
   ]
  },
  {
   "cell_type": "code",
   "execution_count": 55,
   "metadata": {
    "collapsed": false
   },
   "outputs": [
    {
     "data": {
      "text/plain": [
       "1.0    1781\n",
       "0.0    1073\n",
       "Name: is_gum, dtype: int64"
      ]
     },
     "execution_count": 55,
     "metadata": {},
     "output_type": "execute_result"
    }
   ],
   "source": [
    "people_main_df = users_df.dropna(subset=['people_main'])\n",
    "people_main_vc = people_main_df.is_gum.value_counts()\n",
    "people_main_vc"
   ]
  },
  {
   "cell_type": "code",
   "execution_count": 56,
   "metadata": {
    "collapsed": false
   },
   "outputs": [
    {
     "data": {
      "text/plain": [
       "708"
      ]
     },
     "execution_count": 56,
     "metadata": {},
     "output_type": "execute_result"
    }
   ],
   "source": [
    "delta = people_main_vc[1] - people_main_vc[0]\n",
    "delta"
   ]
  },
  {
   "cell_type": "code",
   "execution_count": 57,
   "metadata": {
    "collapsed": false
   },
   "outputs": [
    {
     "name": "stderr",
     "output_type": "stream",
     "text": [
      "/home/digitman/anaconda3/lib/python3.5/site-packages/ipykernel/__main__.py:2: SettingWithCopyWarning: \n",
      "A value is trying to be set on a copy of a slice from a DataFrame\n",
      "\n",
      "See the caveats in the documentation: http://pandas.pydata.org/pandas-docs/stable/indexing.html#indexing-view-versus-copy\n",
      "  from ipykernel import kernelapp as app\n"
     ]
    },
    {
     "data": {
      "text/plain": [
       "1.0    1073\n",
       "0.0    1073\n",
       "Name: is_gum, dtype: int64"
      ]
     },
     "execution_count": 57,
     "metadata": {},
     "output_type": "execute_result"
    }
   ],
   "source": [
    "index_to_del = np.random.choice(people_main_df[people_main_df.is_gum == 1].index, delta, replace=False)\n",
    "people_main_df.drop(index_to_del, inplace=True)\n",
    "people_main_df.is_gum.value_counts()"
   ]
  },
  {
   "cell_type": "code",
   "execution_count": 58,
   "metadata": {
    "collapsed": false
   },
   "outputs": [
    {
     "data": {
      "image/png": "[encoded data removed]",
      "text/plain": [
       "<matplotlib.figure.Figure at 0x7f971a4970b8>"
      ]
     },
     "metadata": {},
     "output_type": "display_data"
    }
   ],
   "source": [
    "g = sns.countplot(x='people_main', hue='is_gum',  data=people_main_df)"
   ]
  },
  {
   "cell_type": "markdown",
   "metadata": {},
   "source": [
    "## Month"
   ]
  },
  {
   "cell_type": "code",
   "execution_count": 59,
   "metadata": {
    "collapsed": false
   },
   "outputs": [],
   "source": [
    "users_df.bdate = pd.to_datetime(users_df.bdate, errors='coerce')"
   ]
  },
  {
   "cell_type": "code",
   "execution_count": 60,
   "metadata": {
    "collapsed": true
   },
   "outputs": [],
   "source": [
    "bdate_df = users_df.dropna(subset=['bdate'])"
   ]
  },
  {
   "cell_type": "code",
   "execution_count": 61,
   "metadata": {
    "collapsed": false
   },
   "outputs": [
    {
     "data": {
      "text/plain": [
       "1.0    2415\n",
       "0.0    1548\n",
       "Name: is_gum, dtype: int64"
      ]
     },
     "execution_count": 61,
     "metadata": {},
     "output_type": "execute_result"
    }
   ],
   "source": [
    "bdate_vc = bdate_df.is_gum.value_counts()\n",
    "bdate_vc"
   ]
  },
  {
   "cell_type": "code",
   "execution_count": 62,
   "metadata": {
    "collapsed": false
   },
   "outputs": [
    {
     "data": {
      "text/plain": [
       "867"
      ]
     },
     "execution_count": 62,
     "metadata": {},
     "output_type": "execute_result"
    }
   ],
   "source": [
    "delta = bdate_vc[1] - bdate_vc[0]\n",
    "delta"
   ]
  },
  {
   "cell_type": "code",
   "execution_count": 63,
   "metadata": {
    "collapsed": false
   },
   "outputs": [
    {
     "data": {
      "text/plain": [
       "(867,)"
      ]
     },
     "execution_count": 63,
     "metadata": {},
     "output_type": "execute_result"
    }
   ],
   "source": [
    "index_to_del = np.random.choice(bdate_df[bdate_df.is_gum == 1].index, delta, replace=False)\n",
    "index_to_del.shape"
   ]
  },
  {
   "cell_type": "code",
   "execution_count": 64,
   "metadata": {
    "collapsed": false
   },
   "outputs": [
    {
     "name": "stderr",
     "output_type": "stream",
     "text": [
      "/home/digitman/anaconda3/lib/python3.5/site-packages/ipykernel/__main__.py:1: SettingWithCopyWarning: \n",
      "A value is trying to be set on a copy of a slice from a DataFrame\n",
      "\n",
      "See the caveats in the documentation: http://pandas.pydata.org/pandas-docs/stable/indexing.html#indexing-view-versus-copy\n",
      "  if __name__ == '__main__':\n"
     ]
    },
    {
     "data": {
      "text/plain": [
       "1.0    1548\n",
       "0.0    1548\n",
       "Name: is_gum, dtype: int64"
      ]
     },
     "execution_count": 64,
     "metadata": {},
     "output_type": "execute_result"
    }
   ],
   "source": [
    "bdate_df.drop(index_to_del, inplace=True)\n",
    "bdate_df.is_gum.value_counts()"
   ]
  },
  {
   "cell_type": "code",
   "execution_count": 65,
   "metadata": {
    "collapsed": false
   },
   "outputs": [
    {
     "name": "stderr",
     "output_type": "stream",
     "text": [
      "/home/digitman/anaconda3/lib/python3.5/site-packages/ipykernel/__main__.py:1: SettingWithCopyWarning: \n",
      "A value is trying to be set on a copy of a slice from a DataFrame.\n",
      "Try using .loc[row_indexer,col_indexer] = value instead\n",
      "\n",
      "See the caveats in the documentation: http://pandas.pydata.org/pandas-docs/stable/indexing.html#indexing-view-versus-copy\n",
      "  if __name__ == '__main__':\n"
     ]
    }
   ],
   "source": [
    "bdate_df['bmonth'] = bdate_df.bdate.apply(lambda x: x.month if x else x)"
   ]
  },
  {
   "cell_type": "code",
   "execution_count": 66,
   "metadata": {
    "collapsed": false
   },
   "outputs": [
    {
     "data": {
      "image/png": "[encoded data removed]",
      "text/plain": [
       "<matplotlib.figure.Figure at 0x7f9719e700b8>"
      ]
     },
     "metadata": {},
     "output_type": "display_data"
    }
   ],
   "source": [
    "g = sns.countplot(x='bmonth', hue='is_gum',  data=bdate_df)"
   ]
  },
  {
   "cell_type": "markdown",
   "metadata": {},
   "source": [
    "# Comments"
   ]
  },
  {
   "cell_type": "code",
   "execution_count": 67,
   "metadata": {
    "collapsed": false
   },
   "outputs": [
    {
     "name": "stdout",
     "output_type": "stream",
     "text": [
      "<class 'pandas.core.frame.DataFrame'>\n",
      "RangeIndex: 2766029 entries, 0 to 2766028\n",
      "Data columns (total 9 columns):\n",
      "attachments     object\n",
      "comment_id      int64\n",
      "date            int64\n",
      "from_id         int64\n",
      "likes           int64\n",
      "owner_id        object\n",
      "reply_to_cid    object\n",
      "reply_to_uid    object\n",
      "text            object\n",
      "dtypes: int64(4), object(5)\n",
      "memory usage: 189.9+ MB\n"
     ]
    }
   ],
   "source": [
    "comments_df.info()"
   ]
  },
  {
   "cell_type": "code",
   "execution_count": 68,
   "metadata": {
    "collapsed": true
   },
   "outputs": [],
   "source": [
    "comments_merged = comments_df.merge(users_df[['id', 'is_gum', 'sex']], left_on='from_id', right_on='id', how='inner')"
   ]
  },
  {
   "cell_type": "markdown",
   "metadata": {},
   "source": [
    "### Generating hour from comment date"
   ]
  },
  {
   "cell_type": "code",
   "execution_count": 69,
   "metadata": {
    "collapsed": false
   },
   "outputs": [],
   "source": [
    "comments_merged['hour'] = comments_merged.date.apply(lambda x: datetime.fromtimestamp(x).hour)"
   ]
  },
  {
   "cell_type": "code",
   "execution_count": 70,
   "metadata": {
    "collapsed": false
   },
   "outputs": [
    {
     "name": "stdout",
     "output_type": "stream",
     "text": [
      "<class 'pandas.core.frame.DataFrame'>\n",
      "Int64Index: 132681 entries, 0 to 132680\n",
      "Data columns (total 13 columns):\n",
      "attachments     6220 non-null object\n",
      "comment_id      132681 non-null int64\n",
      "date            132681 non-null int64\n",
      "from_id         132681 non-null int64\n",
      "likes           132681 non-null int64\n",
      "owner_id        132681 non-null object\n",
      "reply_to_cid    0 non-null object\n",
      "reply_to_uid    0 non-null object\n",
      "text            132681 non-null object\n",
      "id              132681 non-null int64\n",
      "is_gum          132681 non-null float64\n",
      "sex             132681 non-null int64\n",
      "hour            132681 non-null int64\n",
      "dtypes: float64(1), int64(7), object(5)\n",
      "memory usage: 14.2+ MB\n"
     ]
    }
   ],
   "source": [
    "comments_merged.info()"
   ]
  },
  {
   "cell_type": "code",
   "execution_count": 71,
   "metadata": {
    "collapsed": false
   },
   "outputs": [
    {
     "data": {
      "text/html": [
       "<div>\n",
       "<table border=\"1\" class=\"dataframe\">\n",
       "  <thead>\n",
       "    <tr style=\"text-align: right;\">\n",
       "      <th></th>\n",
       "      <th>attachments</th>\n",
       "      <th>comment_id</th>\n",
       "      <th>date</th>\n",
       "      <th>from_id</th>\n",
       "      <th>likes</th>\n",
       "      <th>owner_id</th>\n",
       "      <th>reply_to_cid</th>\n",
       "      <th>reply_to_uid</th>\n",
       "      <th>text</th>\n",
       "      <th>id</th>\n",
       "      <th>is_gum</th>\n",
       "      <th>sex</th>\n",
       "      <th>hour</th>\n",
       "    </tr>\n",
       "  </thead>\n",
       "  <tbody>\n",
       "    <tr>\n",
       "      <th>0</th>\n",
       "      <td>None</td>\n",
       "      <td>3481611</td>\n",
       "      <td>1477939228</td>\n",
       "      <td>56343863</td>\n",
       "      <td>0</td>\n",
       "      <td>-32182751</td>\n",
       "      <td>None</td>\n",
       "      <td>None</td>\n",
       "      <td>Я один не вижу её в подписчиках?</td>\n",
       "      <td>56343863</td>\n",
       "      <td>0.0</td>\n",
       "      <td>2</td>\n",
       "      <td>21</td>\n",
       "    </tr>\n",
       "    <tr>\n",
       "      <th>1</th>\n",
       "      <td>None</td>\n",
       "      <td>3482261</td>\n",
       "      <td>1477978615</td>\n",
       "      <td>4901340</td>\n",
       "      <td>1</td>\n",
       "      <td>-32182751</td>\n",
       "      <td>None</td>\n",
       "      <td>None</td>\n",
       "      <td>[id262927831|Семён], ей даже за бабки никто св...</td>\n",
       "      <td>4901340</td>\n",
       "      <td>0.0</td>\n",
       "      <td>2</td>\n",
       "      <td>8</td>\n",
       "    </tr>\n",
       "    <tr>\n",
       "      <th>2</th>\n",
       "      <td>None</td>\n",
       "      <td>3444860</td>\n",
       "      <td>1476337936</td>\n",
       "      <td>4901340</td>\n",
       "      <td>31</td>\n",
       "      <td>-32182751</td>\n",
       "      <td>None</td>\n",
       "      <td>None</td>\n",
       "      <td>Ебаные дибилы дело блять не в растает,а темпер...</td>\n",
       "      <td>4901340</td>\n",
       "      <td>0.0</td>\n",
       "      <td>2</td>\n",
       "      <td>8</td>\n",
       "    </tr>\n",
       "    <tr>\n",
       "      <th>3</th>\n",
       "      <td>None</td>\n",
       "      <td>3444866</td>\n",
       "      <td>1476338083</td>\n",
       "      <td>4901340</td>\n",
       "      <td>0</td>\n",
       "      <td>-32182751</td>\n",
       "      <td>None</td>\n",
       "      <td>None</td>\n",
       "      <td>[id4071604|Марина], да не гребу,я чисто кто в ...</td>\n",
       "      <td>4901340</td>\n",
       "      <td>0.0</td>\n",
       "      <td>2</td>\n",
       "      <td>8</td>\n",
       "    </tr>\n",
       "    <tr>\n",
       "      <th>4</th>\n",
       "      <td>None</td>\n",
       "      <td>3444872</td>\n",
       "      <td>1476338214</td>\n",
       "      <td>4901340</td>\n",
       "      <td>0</td>\n",
       "      <td>-32182751</td>\n",
       "      <td>None</td>\n",
       "      <td>None</td>\n",
       "      <td>[id4071604|Марина], бесспорно</td>\n",
       "      <td>4901340</td>\n",
       "      <td>0.0</td>\n",
       "      <td>2</td>\n",
       "      <td>8</td>\n",
       "    </tr>\n",
       "  </tbody>\n",
       "</table>\n",
       "</div>"
      ],
      "text/plain": [
       "  attachments  comment_id        date   from_id  likes   owner_id  \\\n",
       "0        None     3481611  1477939228  56343863      0  -32182751   \n",
       "1        None     3482261  1477978615   4901340      1  -32182751   \n",
       "2        None     3444860  1476337936   4901340     31  -32182751   \n",
       "3        None     3444866  1476338083   4901340      0  -32182751   \n",
       "4        None     3444872  1476338214   4901340      0  -32182751   \n",
       "\n",
       "  reply_to_cid reply_to_uid  \\\n",
       "0         None         None   \n",
       "1         None         None   \n",
       "2         None         None   \n",
       "3         None         None   \n",
       "4         None         None   \n",
       "\n",
       "                                                text        id  is_gum  sex  \\\n",
       "0                   Я один не вижу её в подписчиках?  56343863     0.0    2   \n",
       "1  [id262927831|Семён], ей даже за бабки никто св...   4901340     0.0    2   \n",
       "2  Ебаные дибилы дело блять не в растает,а темпер...   4901340     0.0    2   \n",
       "3  [id4071604|Марина], да не гребу,я чисто кто в ...   4901340     0.0    2   \n",
       "4                      [id4071604|Марина], бесспорно   4901340     0.0    2   \n",
       "\n",
       "   hour  \n",
       "0    21  \n",
       "1     8  \n",
       "2     8  \n",
       "3     8  \n",
       "4     8  "
      ]
     },
     "execution_count": 71,
     "metadata": {},
     "output_type": "execute_result"
    }
   ],
   "source": [
    "comments_merged.head()"
   ]
  },
  {
   "cell_type": "code",
   "execution_count": 72,
   "metadata": {
    "collapsed": false
   },
   "outputs": [
    {
     "data": {
      "text/plain": [
       "2    78855\n",
       "1    53826\n",
       "Name: sex, dtype: int64"
      ]
     },
     "execution_count": 72,
     "metadata": {},
     "output_type": "execute_result"
    }
   ],
   "source": [
    "comments_merged.sex.value_counts()"
   ]
  },
  {
   "cell_type": "markdown",
   "metadata": {},
   "source": [
    "## Nice plot"
   ]
  },
  {
   "cell_type": "code",
   "execution_count": 74,
   "metadata": {
    "collapsed": true
   },
   "outputs": [],
   "source": [
    "comments_merged['Гумманитарий'] = comments_merged.is_gum"
   ]
  },
  {
   "cell_type": "code",
   "execution_count": 75,
   "metadata": {
    "collapsed": false
   },
   "outputs": [],
   "source": [
    "comments_merged.Гумманитарий = comments_merged.Гумманитарий.map({0: False, 1: True})"
   ]
  },
  {
   "cell_type": "code",
   "execution_count": 76,
   "metadata": {
    "collapsed": false
   },
   "outputs": [
    {
     "data": {
      "text/plain": [
       "1.0    76006\n",
       "0.0    56675\n",
       "Name: is_gum, dtype: int64"
      ]
     },
     "execution_count": 76,
     "metadata": {},
     "output_type": "execute_result"
    }
   ],
   "source": [
    "merged_vc = comments_merged.is_gum.value_counts()\n",
    "merged_vc"
   ]
  },
  {
   "cell_type": "code",
   "execution_count": 77,
   "metadata": {
    "collapsed": false
   },
   "outputs": [
    {
     "data": {
      "text/plain": [
       "19331"
      ]
     },
     "execution_count": 77,
     "metadata": {},
     "output_type": "execute_result"
    }
   ],
   "source": [
    "delta = merged_vc[1] - merged_vc[0]\n",
    "delta"
   ]
  },
  {
   "cell_type": "code",
   "execution_count": 78,
   "metadata": {
    "collapsed": false
   },
   "outputs": [],
   "source": [
    "index_to_del = np.random.choice(comments_merged[comments_merged.is_gum == 1].index, delta, replace=False)"
   ]
  },
  {
   "cell_type": "code",
   "execution_count": 79,
   "metadata": {
    "collapsed": false
   },
   "outputs": [
    {
     "data": {
      "text/plain": [
       "1.0    56675\n",
       "0.0    56675\n",
       "Name: is_gum, dtype: int64"
      ]
     },
     "execution_count": 79,
     "metadata": {},
     "output_type": "execute_result"
    }
   ],
   "source": [
    "merged_ = comments_merged.drop(index_to_del)\n",
    "merged_.is_gum.value_counts()"
   ]
  },
  {
   "cell_type": "code",
   "execution_count": 80,
   "metadata": {
    "collapsed": true
   },
   "outputs": [],
   "source": [
    "%matplotlib inline"
   ]
  },
  {
   "cell_type": "code",
   "execution_count": 81,
   "metadata": {
    "collapsed": false
   },
   "outputs": [
    {
     "data": {
      "text/plain": [
       "<matplotlib.text.Text at 0x7f971a86dd68>"
      ]
     },
     "execution_count": 81,
     "metadata": {},
     "output_type": "execute_result"
    },
    {
     "data": {
      "image/png": "[encoded data removed]",
      "text/plain": [
       "<matplotlib.figure.Figure at 0x7f971aa604a8>"
      ]
     },
     "metadata": {},
     "output_type": "display_data"
    }
   ],
   "source": [
    "sns.set(font_scale=1.2)\n",
    "g = sns.countplot(x='hour', hue='Гумманитарий', data=merged_, saturation=0.9)\n",
    "g.set_ylabel('Кол-во сообщений')\n",
    "g.set_xlabel('Время')\n",
    "plt.title('Комментарии в \"Типичный Воронеж\"')\n"
   ]
  },
  {
   "cell_type": "markdown",
   "metadata": {},
   "source": [
    "## Another"
   ]
  },
  {
   "cell_type": "code",
   "execution_count": 82,
   "metadata": {
    "collapsed": false
   },
   "outputs": [
    {
     "data": {
      "text/plain": [
       "<seaborn.axisgrid.FacetGrid at 0x7f971a630a58>"
      ]
     },
     "execution_count": 82,
     "metadata": {},
     "output_type": "execute_result"
    },
    {
     "data": {
      "image/png": "[encoded data removed]",
      "text/plain": [
       "<matplotlib.figure.Figure at 0x7f971a441630>"
      ]
     },
     "metadata": {},
     "output_type": "display_data"
    }
   ],
   "source": [
    "sns.factorplot(x='is_gum', y='likes', data=merged_)"
   ]
  },
  {
   "cell_type": "markdown",
   "metadata": {},
   "source": [
    "## Saving"
   ]
  },
  {
   "cell_type": "code",
   "execution_count": 85,
   "metadata": {
    "collapsed": false
   },
   "outputs": [
    {
     "data": {
      "text/plain": [
       "(109529, 14)"
      ]
     },
     "execution_count": 85,
     "metadata": {},
     "output_type": "execute_result"
    }
   ],
   "source": [
    "index_to_del = merged_[merged_.text == ''].index\n",
    "merged_.drop(index_to_del, inplace=True)\n",
    "merged_.shape"
   ]
  },
  {
   "cell_type": "code",
   "execution_count": 86,
   "metadata": {
    "collapsed": false
   },
   "outputs": [],
   "source": [
    "merged_[['from_id', 'text', 'is_gum', 'hour', 'likes', 'sex']].to_csv('data/comments.csv.gz',\n",
    "                                                                       index=False, compression='gzip')"
   ]
  },
  {
   "cell_type": "code",
   "execution_count": null,
   "metadata": {
    "collapsed": true
   },
   "outputs": [],
   "source": []
  }
 ],
 "metadata": {
  "kernelspec": {
   "display_name": "Python 3",
   "language": "python",
   "name": "python3"
  },
  "language_info": {
   "codemirror_mode": {
    "name": "ipython",
    "version": 3
   },
   "file_extension": ".py",
   "mimetype": "text/x-python",
   "name": "python",
   "nbconvert_exporter": "python",
   "pygments_lexer": "ipython3",
   "version": "3.5.1"
  }
 },
 "nbformat": 4,
 "nbformat_minor": 0
}
