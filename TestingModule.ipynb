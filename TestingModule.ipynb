{
 "cells": [
  {
   "cell_type": "code",
   "execution_count": 1,
   "metadata": {
    "collapsed": true
   },
   "outputs": [],
   "source": [
    "from scripts import fit_predict"
   ]
  },
  {
   "cell_type": "code",
   "execution_count": 2,
   "metadata": {
    "collapsed": true
   },
   "outputs": [],
   "source": [
    "fit_predict.dump_best_data()"
   ]
  },
  {
   "cell_type": "code",
   "execution_count": 3,
   "metadata": {
    "collapsed": true
   },
   "outputs": [],
   "source": [
    "best = fit_predict.load_best_data()"
   ]
  },
  {
   "cell_type": "code",
   "execution_count": 4,
   "metadata": {},
   "outputs": [
    {
     "data": {
      "text/plain": [
       "['Что днем, что ночью, вид чудесный!',\n",
       " 'Всё просто: можешь, но нельзя.',\n",
       " '[id204440073|Валерия], да куда уж мне 🤣🤣🤣🤣 мозгов может и у меня нет... Но зато... Я умею вовремя вытаскивать 🤣',\n",
       " 'Скоро пиздюки загадят.',\n",
       " 'ухахаха, он на ней как на баяне играет',\n",
       " 'Слёт подписчиков \"ответы на ЕГЭ 2014\"',\n",
       " 'странно, в одной кофте и сапогах, колготки и куртка. юбки не было? Да, блин какое время сейчас не спокойное 😦 девчонки пропадают и не только 😣',\n",
       " 'Соединенные Штаты перешли на новый уровень, а тут все по прежнему😊',\n",
       " 'Всем привет!)',\n",
       " 'Не забывайте взять зонтик, тучки опять протекают.. \\nДоброго утра, приятного дня и завтрака посытнее!']"
      ]
     },
     "execution_count": 4,
     "metadata": {},
     "output_type": "execute_result"
    }
   ],
   "source": [
    "best.sample(10).text.tolist()"
   ]
  },
  {
   "cell_type": "code",
   "execution_count": 5,
   "metadata": {},
   "outputs": [
    {
     "data": {
      "text/plain": [
       "(10867, 1)"
      ]
     },
     "execution_count": 5,
     "metadata": {},
     "output_type": "execute_result"
    }
   ],
   "source": [
    "best.shape"
   ]
  },
  {
   "cell_type": "code",
   "execution_count": 6,
   "metadata": {},
   "outputs": [
    {
     "name": "stdout",
     "output_type": "stream",
     "text": [
      "CPU times: user 1min 50s, sys: 1.32 s, total: 1min 51s\n",
      "Wall time: 1min 31s\n"
     ]
    }
   ],
   "source": [
    "%%time\n",
    "fit_predict.train_model()"
   ]
  },
  {
   "cell_type": "code",
   "execution_count": 6,
   "metadata": {},
   "outputs": [
    {
     "name": "stdout",
     "output_type": "stream",
     "text": [
      "CPU times: user 1.33 s, sys: 84 ms, total: 1.42 s\n",
      "Wall time: 1.41 s\n"
     ]
    }
   ],
   "source": [
    "%%time\n",
    "fit_predict.load_model()"
   ]
  },
  {
   "cell_type": "code",
   "execution_count": 7,
   "metadata": {
    "collapsed": true
   },
   "outputs": [],
   "source": [
    "my_coms = ['купи права',\n",
    "           'автомобиль в студию',\n",
    "           'а ты сфоткай побольше мест)',\n",
    "           'Собчак в президенты😂',\n",
    "           'поэтому бери копейку👍',\n",
    "           'в твоем сообщение',\n",
    "           'ну если ты купил диплом',\n",
    "           'танж?',\n",
    "           'а ты выглядишь как олень',\n",
    "           'но если у тебя мозга, тебе нечем делать выводы',\n",
    "           'блядь',\n",
    "           'б**дь',\n",
    "           ' дура'\n",
    "          ]"
   ]
  },
  {
   "cell_type": "code",
   "execution_count": 8,
   "metadata": {},
   "outputs": [
    {
     "data": {
      "text/plain": [
       "1.0"
      ]
     },
     "execution_count": 8,
     "metadata": {},
     "output_type": "execute_result"
    }
   ],
   "source": [
    "fit_predict.predict_comments(my_coms)"
   ]
  },
  {
   "cell_type": "code",
   "execution_count": 10,
   "metadata": {},
   "outputs": [
    {
     "data": {
      "text/plain": [
       "(1.0, array([0, 0, 1, 0, 1, 1, 1, 1, 0, 1, 0, 0, 1]))"
      ]
     },
     "execution_count": 10,
     "metadata": {},
     "output_type": "execute_result"
    }
   ],
   "source": [
    "fit_predict.predict_comments(my_coms, True)"
   ]
  },
  {
   "cell_type": "code",
   "execution_count": 9,
   "metadata": {},
   "outputs": [
    {
     "data": {
      "text/plain": [
       "[array([ 0.44115088]),\n",
       " array([ 0.49083621]),\n",
       " array([ 0.56039492]),\n",
       " array([ 0.49850457]),\n",
       " array([ 0.5191531]),\n",
       " array([ 0.52640394]),\n",
       " array([ 0.50811073]),\n",
       " array([ 0.50158218]),\n",
       " array([ 0.48154657]),\n",
       " array([ 0.51706583]),\n",
       " array([ 0.49418205]),\n",
       " array([ 0.49007065]),\n",
       " array([ 0.50547331])]"
      ]
     },
     "execution_count": 9,
     "metadata": {},
     "output_type": "execute_result"
    }
   ],
   "source": [
    "[fit_predict.predict_one_comment(c) for c in my_coms]"
   ]
  }
 ],
 "metadata": {
  "kernelspec": {
   "display_name": "Python 3",
   "language": "python",
   "name": "python3"
  },
  "language_info": {
   "codemirror_mode": {
    "name": "ipython",
    "version": 3
   },
   "file_extension": ".py",
   "mimetype": "text/x-python",
   "name": "python",
   "nbconvert_exporter": "python",
   "pygments_lexer": "ipython3",
   "version": "3.6.0"
  }
 },
 "nbformat": 4,
 "nbformat_minor": 2
}
