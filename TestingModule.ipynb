{
 "cells": [
  {
   "cell_type": "code",
   "execution_count": 1,
   "metadata": {
    "collapsed": true
   },
   "outputs": [],
   "source": [
    "from scripts import fit_predict"
   ]
  },
  {
   "cell_type": "code",
   "execution_count": 2,
   "metadata": {
    "collapsed": true
   },
   "outputs": [],
   "source": [
    "fit_predict.dump_best_data()"
   ]
  },
  {
   "cell_type": "code",
   "execution_count": 3,
   "metadata": {
    "collapsed": true
   },
   "outputs": [],
   "source": [
    "best = fit_predict.load_best_data()"
   ]
  },
  {
   "cell_type": "code",
   "execution_count": 4,
   "metadata": {},
   "outputs": [
    {
     "data": {
      "text/plain": [
       "['[id26530862|Алексей], есть такое разрешение воровать деньги???☺',\n",
       " 'Как всегда прекрасно ^_^',\n",
       " 'Мы тоже из Воронежа и тоже на этом пляже и прямо сейчас',\n",
       " 'не хватает варианта \"Когда как\"',\n",
       " 'Эта картинка на каждом углу...не надоела ещё? 😕',\n",
       " 'хохлы напали',\n",
       " 'Друзья, пересчитайте своих тараканов... Чей-то потерялся!!! Плачет, домой хочет!..',\n",
       " 'Давно пора,а отрицательно хамы и относятся',\n",
       " 'кто бы не был за рулем, русский или не русский, чей то сын или из интерната, таких надо сажать лет на 12 строго',\n",
       " '[id294770934|Оксана], с одной стороны правильно, но вряд ли откажетесь от 7 000 в кошельке, который, возможно, вы найдёте где-нибудь.']"
      ]
     },
     "execution_count": 4,
     "metadata": {},
     "output_type": "execute_result"
    }
   ],
   "source": [
    "best.sample(10).text.tolist()"
   ]
  },
  {
   "cell_type": "code",
   "execution_count": 5,
   "metadata": {},
   "outputs": [
    {
     "data": {
      "text/plain": [
       "(10867, 1)"
      ]
     },
     "execution_count": 5,
     "metadata": {},
     "output_type": "execute_result"
    }
   ],
   "source": [
    "best.shape"
   ]
  },
  {
   "cell_type": "code",
   "execution_count": 6,
   "metadata": {},
   "outputs": [
    {
     "name": "stdout",
     "output_type": "stream",
     "text": [
      "CPU times: user 1min 50s, sys: 1.32 s, total: 1min 51s\n",
      "Wall time: 1min 31s\n"
     ]
    }
   ],
   "source": [
    "%%time\n",
    "fit_predict.train_model()"
   ]
  },
  {
   "cell_type": "code",
   "execution_count": 2,
   "metadata": {},
   "outputs": [
    {
     "name": "stdout",
     "output_type": "stream",
     "text": [
      "CPU times: user 1.3 s, sys: 116 ms, total: 1.42 s\n",
      "Wall time: 1.41 s\n"
     ]
    }
   ],
   "source": [
    "%%time\n",
    "fit_predict.load_model()"
   ]
  },
  {
   "cell_type": "code",
   "execution_count": 3,
   "metadata": {
    "collapsed": true
   },
   "outputs": [],
   "source": [
    "my_coms = ['купи права',\n",
    "           'автомобиль в студию',\n",
    "           'а ты сфоткай побольше мест)',\n",
    "           'Собчак в президенты😂',\n",
    "           'поэтому бери копейку👍',\n",
    "           'в твоем сообщение',\n",
    "           'ну если ты купил диплом',\n",
    "           'танж?',\n",
    "           'а ты выглядишь как олень',\n",
    "           'но если у тебя мозга, тебе нечем делать выводы',\n",
    "           'блядь',\n",
    "           'б**дь',\n",
    "           ' дура'\n",
    "          ]"
   ]
  },
  {
   "cell_type": "code",
   "execution_count": 4,
   "metadata": {},
   "outputs": [
    {
     "data": {
      "text/plain": [
       "1.0"
      ]
     },
     "execution_count": 4,
     "metadata": {},
     "output_type": "execute_result"
    }
   ],
   "source": [
    "fit_predict.predict_comments(my_coms)"
   ]
  },
  {
   "cell_type": "code",
   "execution_count": 10,
   "metadata": {},
   "outputs": [
    {
     "data": {
      "text/plain": [
       "[array([ 0.44115088]),\n",
       " array([ 0.49083621]),\n",
       " array([ 0.56039492]),\n",
       " array([ 0.49850457]),\n",
       " array([ 0.5191531]),\n",
       " array([ 0.52640394]),\n",
       " array([ 0.50811073]),\n",
       " array([ 0.50158218]),\n",
       " array([ 0.48154657]),\n",
       " array([ 0.51706583]),\n",
       " array([ 0.49418205]),\n",
       " array([ 0.49007065]),\n",
       " array([ 0.50547331])]"
      ]
     },
     "execution_count": 10,
     "metadata": {},
     "output_type": "execute_result"
    }
   ],
   "source": [
    "[fit_predict.predict_one_comment(c) for c in my_coms]"
   ]
  },
  {
   "cell_type": "code",
   "execution_count": 5,
   "metadata": {},
   "outputs": [
    {
     "data": {
      "text/plain": [
       "[array([ 0.44115088]),\n",
       " array([ 0.49083621]),\n",
       " array([ 0.56039492]),\n",
       " array([ 0.49850457]),\n",
       " array([ 0.5191531]),\n",
       " array([ 0.52640394]),\n",
       " array([ 0.50811073]),\n",
       " array([ 0.50158218]),\n",
       " array([ 0.48154657]),\n",
       " array([ 0.51706583]),\n",
       " array([ 0.49418205]),\n",
       " array([ 0.49007065]),\n",
       " array([ 0.50547331])]"
      ]
     },
     "execution_count": 5,
     "metadata": {},
     "output_type": "execute_result"
    }
   ],
   "source": [
    "[fit_predict.predict_one_comment(c) for c in my_coms]"
   ]
  },
  {
   "cell_type": "code",
   "execution_count": null,
   "metadata": {
    "collapsed": true
   },
   "outputs": [],
   "source": []
  }
 ],
 "metadata": {
  "kernelspec": {
   "display_name": "Python 3",
   "language": "python",
   "name": "python3"
  },
  "language_info": {
   "codemirror_mode": {
    "name": "ipython",
    "version": 3
   },
   "file_extension": ".py",
   "mimetype": "text/x-python",
   "name": "python",
   "nbconvert_exporter": "python",
   "pygments_lexer": "ipython3",
   "version": "3.6.0"
  }
 },
 "nbformat": 4,
 "nbformat_minor": 2
}
