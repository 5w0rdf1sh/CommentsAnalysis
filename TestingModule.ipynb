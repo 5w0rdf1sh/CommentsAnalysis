{
 "cells": [
  {
   "cell_type": "code",
   "execution_count": 1,
   "metadata": {
    "collapsed": true
   },
   "outputs": [],
   "source": [
    "from scripts import fit_predict"
   ]
  },
  {
   "cell_type": "code",
   "execution_count": 2,
   "metadata": {
    "collapsed": true
   },
   "outputs": [],
   "source": [
    "fit_predict.dump_best_data()"
   ]
  },
  {
   "cell_type": "code",
   "execution_count": 2,
   "metadata": {
    "collapsed": true
   },
   "outputs": [],
   "source": [
    "best = fit_predict.load_best_data()"
   ]
  },
  {
   "cell_type": "code",
   "execution_count": 7,
   "metadata": {},
   "outputs": [
    {
     "data": {
      "text/plain": [
       "['как то пофигу вообще',\n",
       " '-1 - -21 прадовало...',\n",
       " 'Болеем за фанатов сборной, у них лучше получается побеждать',\n",
       " 'И Пока будет такое - мы будем Нелюдями!',\n",
       " '[id73667785|Оля], на машине не ездят если денег нет',\n",
       " 'Смущает, что в Воронеже Белгородское ООО...\\nСука, т.е. за то, чтобы остановиться у себя в городе я буду платить Белгороду часть? Жесть...',\n",
       " 'там же статуи стоять ещё должны',\n",
       " 'В наминации лучшая 1во апрельская шутка,побеждает апрель...гроза ,ливень и снег за 8 часов.',\n",
       " '[id237244411|Антон], о Боже, я не думала,что вы настолько тупой. Твоему Богу..... за себя молись, чтоб мозги дал.',\n",
       " 'Кто-нибудь знает, что за барабанщики выступали с Митей?']"
      ]
     },
     "execution_count": 7,
     "metadata": {},
     "output_type": "execute_result"
    }
   ],
   "source": [
    "best.sample(10).text.tolist()"
   ]
  },
  {
   "cell_type": "code",
   "execution_count": 6,
   "metadata": {
    "collapsed": true
   },
   "outputs": [],
   "source": [
    "# %%time\n",
    "# fit_predict.train_model()"
   ]
  },
  {
   "cell_type": "code",
   "execution_count": 10,
   "metadata": {},
   "outputs": [
    {
     "name": "stdout",
     "output_type": "stream",
     "text": [
      "CPU times: user 1.37 s, sys: 108 ms, total: 1.48 s\n",
      "Wall time: 1.55 s\n"
     ]
    }
   ],
   "source": [
    "%%time\n",
    "fit_predict.load_model()"
   ]
  },
  {
   "cell_type": "code",
   "execution_count": 20,
   "metadata": {
    "collapsed": true
   },
   "outputs": [],
   "source": [
    "my_coms = ['купи права',\n",
    "           'автомобиль в студию',\n",
    "           'а ты сфоткай побольше мест)',\n",
    "           'Собчак в президенты😂',\n",
    "           'поэтому бери копейку👍',\n",
    "           'в твоем сообщение',\n",
    "           'ну если ты купил диплом',\n",
    "           'танж?',\n",
    "           'а ты выглядишь как олень',\n",
    "           'но если у тебя мозга, тебе нечем делать выводы',\n",
    "           'блядь',\n",
    "           'б**дь',\n",
    "           ' дура'\n",
    "          ]"
   ]
  },
  {
   "cell_type": "code",
   "execution_count": 21,
   "metadata": {},
   "outputs": [
    {
     "data": {
      "text/plain": [
       "0.0"
      ]
     },
     "execution_count": 21,
     "metadata": {},
     "output_type": "execute_result"
    }
   ],
   "source": [
    "fit_predict.predict_comments(my_coms)"
   ]
  },
  {
   "cell_type": "code",
   "execution_count": 15,
   "metadata": {},
   "outputs": [
    {
     "data": {
      "text/plain": [
       "[array([ 0.46640133]), array([ 0.50063796])]"
      ]
     },
     "execution_count": 15,
     "metadata": {},
     "output_type": "execute_result"
    }
   ],
   "source": [
    "[fit_predict.predict_one_comment(c) for c in my_coms]"
   ]
  },
  {
   "cell_type": "code",
   "execution_count": null,
   "metadata": {
    "collapsed": true
   },
   "outputs": [],
   "source": []
  }
 ],
 "metadata": {
  "kernelspec": {
   "display_name": "Python 3",
   "language": "python",
   "name": "python3"
  },
  "language_info": {
   "codemirror_mode": {
    "name": "ipython",
    "version": 3
   },
   "file_extension": ".py",
   "mimetype": "text/x-python",
   "name": "python",
   "nbconvert_exporter": "python",
   "pygments_lexer": "ipython3",
   "version": "3.6.0"
  }
 },
 "nbformat": 4,
 "nbformat_minor": 2
}
