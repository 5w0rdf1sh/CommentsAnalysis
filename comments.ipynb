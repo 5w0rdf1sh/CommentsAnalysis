{
 "cells": [
  {
   "cell_type": "code",
   "execution_count": 140,
   "metadata": {
    "collapsed": true
   },
   "outputs": [],
   "source": [
    "import pandas as pd\n",
    "import numpy as np\n",
    "import matplotlib.pyplot as plt\n",
    "from sklearn.feature_extraction.text import CountVectorizer, TfidfVectorizer\n",
    "from sklearn import linear_model as lm\n",
    "from sklearn.cross_validation import cross_val_score\n",
    "import seaborn as sns\n",
    "from stop_words import get_stop_words\n",
    "import Stemmer\n",
    "import pymorphy2\n",
    "import re\n",
    "%matplotlib inline"
   ]
  },
  {
   "cell_type": "code",
   "execution_count": 70,
   "metadata": {
    "collapsed": true
   },
   "outputs": [],
   "source": [
    "data = pd.read_csv('data/comments.csv.gz')"
   ]
  },
  {
   "cell_type": "code",
   "execution_count": 71,
   "metadata": {
    "collapsed": false
   },
   "outputs": [
    {
     "data": {
      "text/plain": [
       "(180687, 3)"
      ]
     },
     "execution_count": 71,
     "metadata": {},
     "output_type": "execute_result"
    }
   ],
   "source": [
    "data.shape"
   ]
  },
  {
   "cell_type": "code",
   "execution_count": 72,
   "metadata": {
    "collapsed": false
   },
   "outputs": [
    {
     "data": {
      "text/plain": [
       "1.0    90633\n",
       "0.0    90054\n",
       "Name: is_gum, dtype: int64"
      ]
     },
     "execution_count": 72,
     "metadata": {},
     "output_type": "execute_result"
    }
   ],
   "source": [
    "data.is_gum.value_counts()"
   ]
  },
  {
   "cell_type": "markdown",
   "metadata": {},
   "source": [
    "### Length of comments (symbols)"
   ]
  },
  {
   "cell_type": "code",
   "execution_count": 73,
   "metadata": {
    "collapsed": false
   },
   "outputs": [],
   "source": [
    "lenghts_symb = np.array([len(m) for m in data.text.values])"
   ]
  },
  {
   "cell_type": "code",
   "execution_count": 74,
   "metadata": {
    "collapsed": false
   },
   "outputs": [
    {
     "data": {
      "text/plain": [
       "(77.064913358459663, 47.0)"
      ]
     },
     "execution_count": 74,
     "metadata": {},
     "output_type": "execute_result"
    }
   ],
   "source": [
    "lenghts_symb.mean(), np.median(lenghts_symb)"
   ]
  },
  {
   "cell_type": "code",
   "execution_count": 75,
   "metadata": {
    "collapsed": false
   },
   "outputs": [
    {
     "data": {
      "text/plain": [
       "(1, 9947)"
      ]
     },
     "execution_count": 75,
     "metadata": {},
     "output_type": "execute_result"
    }
   ],
   "source": [
    "min(lenghts_symb), max(lenghts_symb)"
   ]
  },
  {
   "cell_type": "code",
   "execution_count": 76,
   "metadata": {
    "collapsed": false
   },
   "outputs": [
    {
     "data": {
      "text/plain": [
       "13924628"
      ]
     },
     "execution_count": 76,
     "metadata": {},
     "output_type": "execute_result"
    }
   ],
   "source": [
    "sum(lenghts_symb)"
   ]
  },
  {
   "cell_type": "code",
   "execution_count": 77,
   "metadata": {
    "collapsed": false
   },
   "outputs": [
    {
     "data": {
      "image/png": "[encoded data removed]",
      "text/plain": [
       "<matplotlib.figure.Figure at 0x7f2ec57c8c88>"
      ]
     },
     "metadata": {},
     "output_type": "display_data"
    }
   ],
   "source": [
    "plt.hist(lenghts_symb[lenghts_symb < 500], bins=100);"
   ]
  },
  {
   "cell_type": "code",
   "execution_count": 78,
   "metadata": {
    "collapsed": false
   },
   "outputs": [
    {
     "name": "stdout",
     "output_type": "stream",
     "text": [
      "99.04% of comments are shorter than 500 symbols\n"
     ]
    }
   ],
   "source": [
    "print('{:.2f}% of comments are shorter than {} symbols'\n",
    "      .format(lenghts_symb[lenghts_symb < 500].shape[0] / lenghts_symb.shape[0] * 100, 500))"
   ]
  },
  {
   "cell_type": "code",
   "execution_count": 79,
   "metadata": {
    "collapsed": false
   },
   "outputs": [
    {
     "name": "stdout",
     "output_type": "stream",
     "text": [
      "82.19% of comments are longer than 15 symbols\n"
     ]
    }
   ],
   "source": [
    "print('{:.2f}% of comments are longer than {} symbols'\n",
    "      .format(lenghts_symb[lenghts_symb > 20].shape[0] / lenghts_symb.shape[0] * 100, 15))"
   ]
  },
  {
   "cell_type": "markdown",
   "metadata": {},
   "source": [
    "### Length of comments (words)"
   ]
  },
  {
   "cell_type": "code",
   "execution_count": 80,
   "metadata": {
    "collapsed": false
   },
   "outputs": [],
   "source": [
    "lenghts_word = np.array([len(m.split()) for m in data.text.values])"
   ]
  },
  {
   "cell_type": "code",
   "execution_count": 81,
   "metadata": {
    "collapsed": false
   },
   "outputs": [
    {
     "data": {
      "text/plain": [
       "(11.438432205969439, 7.0)"
      ]
     },
     "execution_count": 81,
     "metadata": {},
     "output_type": "execute_result"
    }
   ],
   "source": [
    "lenghts_word.mean(), np.median(lenghts_word)"
   ]
  },
  {
   "cell_type": "code",
   "execution_count": 82,
   "metadata": {
    "collapsed": false
   },
   "outputs": [
    {
     "data": {
      "text/plain": [
       "(1, 1612)"
      ]
     },
     "execution_count": 82,
     "metadata": {},
     "output_type": "execute_result"
    }
   ],
   "source": [
    "min(lenghts_word), max(lenghts_word)"
   ]
  },
  {
   "cell_type": "code",
   "execution_count": 83,
   "metadata": {
    "collapsed": false
   },
   "outputs": [
    {
     "data": {
      "text/plain": [
       "2066776"
      ]
     },
     "execution_count": 83,
     "metadata": {},
     "output_type": "execute_result"
    }
   ],
   "source": [
    "sum(lenghts_word)"
   ]
  },
  {
   "cell_type": "code",
   "execution_count": 84,
   "metadata": {
    "collapsed": false
   },
   "outputs": [
    {
     "data": {
      "image/png": "[encoded data removed]",
      "text/plain": [
       "<matplotlib.figure.Figure at 0x7f2ec57c8a58>"
      ]
     },
     "metadata": {},
     "output_type": "display_data"
    }
   ],
   "source": [
    "plt.hist(lenghts_word[lenghts_word < 80], bins=100);"
   ]
  },
  {
   "cell_type": "code",
   "execution_count": 85,
   "metadata": {
    "collapsed": false
   },
   "outputs": [
    {
     "name": "stdout",
     "output_type": "stream",
     "text": [
      "99.04% of comments are shorter than 80 words\n"
     ]
    }
   ],
   "source": [
    "print('{:.2f}% of comments are shorter than {} words'\n",
    "      .format(lenghts_word[lenghts_word < 80].shape[0] / lenghts_word.shape[0] * 100, 80))"
   ]
  },
  {
   "cell_type": "code",
   "execution_count": 86,
   "metadata": {
    "collapsed": false
   },
   "outputs": [
    {
     "name": "stdout",
     "output_type": "stream",
     "text": [
      "72.44% of comments are longer than 3 words\n"
     ]
    }
   ],
   "source": [
    "print('{:.2f}% of comments are longer than {} words'\n",
    "      .format(lenghts_word[lenghts_word > 3].shape[0] / lenghts_word.shape[0] * 100, 3))"
   ]
  },
  {
   "cell_type": "markdown",
   "metadata": {},
   "source": [
    "### Links"
   ]
  },
  {
   "cell_type": "code",
   "execution_count": 87,
   "metadata": {
    "collapsed": false
   },
   "outputs": [],
   "source": [
    "links = [m for m in data.text.values if 'http' in m or 'www' in m or '.ru' in m or '.com' in m] "
   ]
  },
  {
   "cell_type": "code",
   "execution_count": 88,
   "metadata": {
    "collapsed": false
   },
   "outputs": [
    {
     "data": {
      "text/plain": [
       "['[id99906417|Илья], http://prostitutki-voronezha.info/',\n",
       " 'Вот, как раз на эту тему http://s02.yapfiles.ru/files/531066/SHkala_masshtabov_Vselennoy_v.2.swf Про масштабы вселенной, админы проигнорили мой пост, видимо про котят интереснее.....',\n",
       " 'Она каким то образом пишет в вк? Значит у нее есть доступ к 2gis.ru',\n",
       " 'http://www.zakonrf.info/koap/20.1/',\n",
       " 'http://m.youtube.com/#/watch?feature=youtu.be&v=yfDOcUSLZ6o&desktop_uri=%2Fwatch%3Fv%3DyfDOcUSLZ6o%26feature%3Dyoutu.be\\nДоставило, особенно комментарии. Спасители наши']"
      ]
     },
     "execution_count": 88,
     "metadata": {},
     "output_type": "execute_result"
    }
   ],
   "source": [
    "links[:5]"
   ]
  },
  {
   "cell_type": "code",
   "execution_count": 89,
   "metadata": {
    "collapsed": false
   },
   "outputs": [
    {
     "name": "stdout",
     "output_type": "stream",
     "text": [
      "0.57% of comments contain links\n"
     ]
    }
   ],
   "source": [
    "print('{:.2f}% of comments contain links'.format(len(links) / len(data) * 100))"
   ]
  },
  {
   "cell_type": "markdown",
   "metadata": {},
   "source": [
    "## Baseline model"
   ]
  },
  {
   "cell_type": "code",
   "execution_count": 90,
   "metadata": {
    "collapsed": false
   },
   "outputs": [],
   "source": [
    "vectorizer = CountVectorizer(max_features=10000)\n",
    "X = vectorizer.fit_transform(data.text.values)\n",
    "y = data.is_gum.values"
   ]
  },
  {
   "cell_type": "code",
   "execution_count": 91,
   "metadata": {
    "collapsed": true
   },
   "outputs": [],
   "source": [
    "lr = lm.LogisticRegression()"
   ]
  },
  {
   "cell_type": "code",
   "execution_count": 92,
   "metadata": {
    "collapsed": true
   },
   "outputs": [],
   "source": [
    "np.random.seed(0)"
   ]
  },
  {
   "cell_type": "markdown",
   "metadata": {},
   "source": [
    "### CV result"
   ]
  },
  {
   "cell_type": "code",
   "execution_count": 93,
   "metadata": {
    "collapsed": false
   },
   "outputs": [
    {
     "data": {
      "text/plain": [
       "(0.52080136820649048, 0.012812570384976506)"
      ]
     },
     "execution_count": 93,
     "metadata": {},
     "output_type": "execute_result"
    }
   ],
   "source": [
    "baseline_scores = cross_val_score(lr, X, y, cv=5)\n",
    "baseline_scores.mean(), baseline_scores.std()"
   ]
  },
  {
   "cell_type": "markdown",
   "metadata": {},
   "source": [
    "### Overfitted result"
   ]
  },
  {
   "cell_type": "code",
   "execution_count": 96,
   "metadata": {
    "collapsed": false
   },
   "outputs": [
    {
     "data": {
      "text/plain": [
       "LogisticRegression(C=1.0, class_weight=None, dual=False, fit_intercept=True,\n",
       "          intercept_scaling=1, max_iter=100, multi_class='ovr', n_jobs=1,\n",
       "          penalty='l2', random_state=None, solver='liblinear', tol=0.0001,\n",
       "          verbose=0, warm_start=False)"
      ]
     },
     "execution_count": 96,
     "metadata": {},
     "output_type": "execute_result"
    }
   ],
   "source": [
    "lr.fit(X, y)"
   ]
  },
  {
   "cell_type": "code",
   "execution_count": 97,
   "metadata": {
    "collapsed": false
   },
   "outputs": [
    {
     "data": {
      "text/plain": [
       "0.64771123545136067"
      ]
     },
     "execution_count": 97,
     "metadata": {},
     "output_type": "execute_result"
    }
   ],
   "source": [
    "lr.score(X, y)"
   ]
  },
  {
   "cell_type": "code",
   "execution_count": 98,
   "metadata": {
    "collapsed": false
   },
   "outputs": [
    {
     "data": {
      "text/plain": [
       "1096"
      ]
     },
     "execution_count": 98,
     "metadata": {},
     "output_type": "execute_result"
    }
   ],
   "source": [
    "lr.coef_.argmax()"
   ]
  },
  {
   "cell_type": "code",
   "execution_count": 99,
   "metadata": {
    "collapsed": false
   },
   "outputs": [
    {
     "data": {
      "text/plain": [
       "'yulya'"
      ]
     },
     "execution_count": 99,
     "metadata": {},
     "output_type": "execute_result"
    }
   ],
   "source": [
    "vectorizer.get_feature_names()[1096]"
   ]
  },
  {
   "cell_type": "markdown",
   "metadata": {},
   "source": [
    "## Preprocessing"
   ]
  },
  {
   "cell_type": "code",
   "execution_count": 100,
   "metadata": {
    "collapsed": false
   },
   "outputs": [],
   "source": [
    "comments = data[(lenghts_word < 80) & (lenghts_word > 3)]"
   ]
  },
  {
   "cell_type": "code",
   "execution_count": 101,
   "metadata": {
    "collapsed": false
   },
   "outputs": [
    {
     "data": {
      "text/plain": [
       "(129171, 3)"
      ]
     },
     "execution_count": 101,
     "metadata": {},
     "output_type": "execute_result"
    }
   ],
   "source": [
    "comments.shape"
   ]
  },
  {
   "cell_type": "code",
   "execution_count": 102,
   "metadata": {
    "collapsed": false
   },
   "outputs": [],
   "source": [
    "comments_lenghts = np.array([len(m) for m in comments.text.values])"
   ]
  },
  {
   "cell_type": "code",
   "execution_count": 103,
   "metadata": {
    "collapsed": false
   },
   "outputs": [
    {
     "data": {
      "text/plain": [
       "array([62662, 12532, 12533, 12551, 69195, 12767, 11304,  2805, 84262, 10001])"
      ]
     },
     "execution_count": 103,
     "metadata": {},
     "output_type": "execute_result"
    }
   ],
   "source": [
    "comments_lenghts.argsort()[:10]"
   ]
  },
  {
   "cell_type": "code",
   "execution_count": 105,
   "metadata": {
    "collapsed": false
   },
   "outputs": [
    {
     "data": {
      "text/plain": [
       "'😡 😡 😡 😡'"
      ]
     },
     "execution_count": 105,
     "metadata": {},
     "output_type": "execute_result"
    }
   ],
   "source": [
    "comments.text.values[62662]"
   ]
  },
  {
   "cell_type": "code",
   "execution_count": 106,
   "metadata": {
    "collapsed": false
   },
   "outputs": [
    {
     "data": {
      "text/plain": [
       "0.0    65268\n",
       "1.0    63903\n",
       "Name: is_gum, dtype: int64"
      ]
     },
     "execution_count": 106,
     "metadata": {},
     "output_type": "execute_result"
    }
   ],
   "source": [
    "comments.is_gum.value_counts()"
   ]
  },
  {
   "cell_type": "code",
   "execution_count": 108,
   "metadata": {
    "collapsed": false
   },
   "outputs": [
    {
     "data": {
      "text/plain": [
       "array([ '[id168803274|Артём], воооот) а у меня батя дальнобойщик. Я не понаслышке знаю что такое груженый тягач) в общем, мы друг друга поняли!)',\n",
       "       '[id13014907|Сергей], когда воздух уходит из системы- машина растормаживается, т.е. все колёса блокируются. Тормоза на новых тягачах не отказывают. Это вам не КрАЗ'], dtype=object)"
      ]
     },
     "execution_count": 108,
     "metadata": {},
     "output_type": "execute_result"
    }
   ],
   "source": [
    "comments.text.values[102:104]"
   ]
  },
  {
   "cell_type": "code",
   "execution_count": 109,
   "metadata": {
    "collapsed": false
   },
   "outputs": [
    {
     "data": {
      "text/plain": [
       "[['[id168803274|Артём],',\n",
       "  'воооот)',\n",
       "  'а',\n",
       "  'у',\n",
       "  'меня',\n",
       "  'батя',\n",
       "  'дальнобойщик.',\n",
       "  'Я',\n",
       "  'не',\n",
       "  'понаслышке',\n",
       "  'знаю',\n",
       "  'что',\n",
       "  'такое',\n",
       "  'груженый',\n",
       "  'тягач)',\n",
       "  'в',\n",
       "  'общем,',\n",
       "  'мы',\n",
       "  'друг',\n",
       "  'друга',\n",
       "  'поняли!)'],\n",
       " ['[id13014907|Сергей],',\n",
       "  'когда',\n",
       "  'воздух',\n",
       "  'уходит',\n",
       "  'из',\n",
       "  'системы-',\n",
       "  'машина',\n",
       "  'растормаживается,',\n",
       "  'т.е.',\n",
       "  'все',\n",
       "  'колёса',\n",
       "  'блокируются.',\n",
       "  'Тормоза',\n",
       "  'на',\n",
       "  'новых',\n",
       "  'тягачах',\n",
       "  'не',\n",
       "  'отказывают.',\n",
       "  'Это',\n",
       "  'вам',\n",
       "  'не',\n",
       "  'КрАЗ']]"
      ]
     },
     "execution_count": 109,
     "metadata": {},
     "output_type": "execute_result"
    }
   ],
   "source": [
    "[t.split() for t in comments.text.values[102:104]]"
   ]
  },
  {
   "cell_type": "code",
   "execution_count": 110,
   "metadata": {
    "collapsed": false
   },
   "outputs": [],
   "source": [
    "vectorizer = CountVectorizer(max_features=10000)\n",
    "X = vectorizer.fit_transform(comments.text.values)\n",
    "y = comments.is_gum.values"
   ]
  },
  {
   "cell_type": "code",
   "execution_count": 111,
   "metadata": {
    "collapsed": true
   },
   "outputs": [],
   "source": [
    "lr = lm.LogisticRegression()"
   ]
  },
  {
   "cell_type": "code",
   "execution_count": 112,
   "metadata": {
    "collapsed": true
   },
   "outputs": [],
   "source": [
    "np.random.seed(0)"
   ]
  },
  {
   "cell_type": "code",
   "execution_count": 113,
   "metadata": {
    "collapsed": false
   },
   "outputs": [
    {
     "data": {
      "text/plain": [
       "(0.51759298157147593, 0.010068387473288525)"
      ]
     },
     "execution_count": 113,
     "metadata": {},
     "output_type": "execute_result"
    }
   ],
   "source": [
    "baseline_scores = cross_val_score(lr, X, y, cv=5)\n",
    "baseline_scores.mean(), baseline_scores.std()"
   ]
  },
  {
   "cell_type": "code",
   "execution_count": 114,
   "metadata": {
    "collapsed": false
   },
   "outputs": [
    {
     "data": {
      "text/plain": [
       "0.67061492130586586"
      ]
     },
     "execution_count": 114,
     "metadata": {},
     "output_type": "execute_result"
    }
   ],
   "source": [
    "lr.fit(X, y)\n",
    "lr.score(X, y)"
   ]
  },
  {
   "cell_type": "markdown",
   "metadata": {},
   "source": [
    "## Replacing id"
   ]
  },
  {
   "cell_type": "code",
   "execution_count": 154,
   "metadata": {
    "collapsed": false
   },
   "outputs": [],
   "source": [
    "comments_list = []\n",
    "for comment in comments.text.values:\n",
    "    c = comment.split()\n",
    "    if c[0].startswith('[id'):\n",
    "        c[0] = 'adddresssation'\n",
    "    c_ = []\n",
    "    for w in c:\n",
    "        if w.startswith('id'):\n",
    "            c_.append('adddresssation')\n",
    "        else:\n",
    "            c_.append(w)\n",
    "    comments_list.append(' '.join(c))"
   ]
  },
  {
   "cell_type": "code",
   "execution_count": 155,
   "metadata": {
    "collapsed": false
   },
   "outputs": [
    {
     "data": {
      "text/plain": [
       "['НАТЯНУЛИ МОСКВиЧЕЙ!!! ТЕПЕРЬ МОЖНО И ДОМОЙ ИХ ОТПРАВИТЬ 💪💪💪💪💪',\n",
       " 'adddresssation не имеет значение где ЮР, ардрес то',\n",
       " 'adddresssation где СК удобнее там и проводят а поближе подороже! Могу мск то сделать 650р',\n",
       " 'Сегодня в 23:00 до 5:00 собираемся все НА АРЕНЕ и Валим там пока покрышки не сгорят... В ПРОТЕСТ СКУЧНЫМ И НУДНЫМ МУДАКАМ',\n",
       " 'adddresssation пошлиб да проявили смелость там😉']"
      ]
     },
     "execution_count": 155,
     "metadata": {},
     "output_type": "execute_result"
    }
   ],
   "source": [
    "comments_list[:5]"
   ]
  },
  {
   "cell_type": "markdown",
   "metadata": {
    "collapsed": true
   },
   "source": [
    "## Emoji"
   ]
  },
  {
   "cell_type": "code",
   "execution_count": 156,
   "metadata": {
    "collapsed": true
   },
   "outputs": [],
   "source": [
    "with open('emoji.txt', 'r') as f:\n",
    "    lines = f.readlines()\n",
    "emojis = [line[0] for line in lines]"
   ]
  },
  {
   "cell_type": "code",
   "execution_count": 157,
   "metadata": {
    "collapsed": false
   },
   "outputs": [],
   "source": [
    "def is_with_emoji(comment):\n",
    "    for em in emojis:\n",
    "        if em in comment:\n",
    "            return True\n",
    "    return False"
   ]
  },
  {
   "cell_type": "code",
   "execution_count": 158,
   "metadata": {
    "collapsed": false
   },
   "outputs": [],
   "source": [
    "def get_emoji(comment):\n",
    "    ems = []\n",
    "    for em in emojis:\n",
    "        if em in comment:\n",
    "            ems.append(em)\n",
    "    return ems"
   ]
  },
  {
   "cell_type": "code",
   "execution_count": 159,
   "metadata": {
    "collapsed": true
   },
   "outputs": [],
   "source": [
    "comments_emoji = [c for c in comments_list if is_with_emoji(c)]"
   ]
  },
  {
   "cell_type": "code",
   "execution_count": 160,
   "metadata": {
    "collapsed": false
   },
   "outputs": [
    {
     "data": {
      "text/plain": [
       "11243"
      ]
     },
     "execution_count": 160,
     "metadata": {},
     "output_type": "execute_result"
    }
   ],
   "source": [
    "len(comments_emoji)"
   ]
  },
  {
   "cell_type": "code",
   "execution_count": 133,
   "metadata": {
    "collapsed": false
   },
   "outputs": [],
   "source": [
    "emoji_from_comments = list(map(get_emoji, comments_list))"
   ]
  },
  {
   "cell_type": "code",
   "execution_count": 134,
   "metadata": {
    "collapsed": false
   },
   "outputs": [
    {
     "name": "stderr",
     "output_type": "stream",
     "text": [
      "/home/digitman/anaconda3/lib/python3.5/site-packages/ipykernel/__main__.py:1: SettingWithCopyWarning: \n",
      "A value is trying to be set on a copy of a slice from a DataFrame.\n",
      "Try using .loc[row_indexer,col_indexer] = value instead\n",
      "\n",
      "See the caveats in the documentation: http://pandas.pydata.org/pandas-docs/stable/indexing.html#indexing-view-versus-copy\n",
      "  if __name__ == '__main__':\n"
     ]
    }
   ],
   "source": [
    "comments['emojis'] = [' '.join(e) for e in emoji_from_comments]"
   ]
  },
  {
   "cell_type": "code",
   "execution_count": 135,
   "metadata": {
    "collapsed": false
   },
   "outputs": [
    {
     "data": {
      "text/html": [
       "<div>\n",
       "<table border=\"1\" class=\"dataframe\">\n",
       "  <thead>\n",
       "    <tr style=\"text-align: right;\">\n",
       "      <th></th>\n",
       "      <th>from_id</th>\n",
       "      <th>text</th>\n",
       "      <th>is_gum</th>\n",
       "      <th>emojis</th>\n",
       "    </tr>\n",
       "  </thead>\n",
       "  <tbody>\n",
       "    <tr>\n",
       "      <th>1</th>\n",
       "      <td>360037882</td>\n",
       "      <td>НАТЯНУЛИ МОСКВиЧЕЙ!!! ТЕПЕРЬ МОЖНО И ДОМОЙ ИХ ...</td>\n",
       "      <td>0.0</td>\n",
       "      <td>💪</td>\n",
       "    </tr>\n",
       "    <tr>\n",
       "      <th>2</th>\n",
       "      <td>360037882</td>\n",
       "      <td>[id34736142|Андрей], не имеет значение где ЮР,...</td>\n",
       "      <td>0.0</td>\n",
       "      <td></td>\n",
       "    </tr>\n",
       "    <tr>\n",
       "      <th>3</th>\n",
       "      <td>360037882</td>\n",
       "      <td>[id34736142|Андрей], где СК удобнее там и пров...</td>\n",
       "      <td>0.0</td>\n",
       "      <td></td>\n",
       "    </tr>\n",
       "    <tr>\n",
       "      <th>4</th>\n",
       "      <td>360037882</td>\n",
       "      <td>Сегодня в 23:00 до 5:00 собираемся все НА АРЕН...</td>\n",
       "      <td>0.0</td>\n",
       "      <td></td>\n",
       "    </tr>\n",
       "    <tr>\n",
       "      <th>5</th>\n",
       "      <td>360037882</td>\n",
       "      <td>[id55153608|Федор], пошлиб да проявили смелост...</td>\n",
       "      <td>0.0</td>\n",
       "      <td>😉</td>\n",
       "    </tr>\n",
       "    <tr>\n",
       "      <th>6</th>\n",
       "      <td>360037882</td>\n",
       "      <td>[id16867860|Дмитрий], любое ДТП есть страховой...</td>\n",
       "      <td>0.0</td>\n",
       "      <td></td>\n",
       "    </tr>\n",
       "    <tr>\n",
       "      <th>7</th>\n",
       "      <td>360037882</td>\n",
       "      <td>[id269199653|Евгений], что если кого то что то...</td>\n",
       "      <td>0.0</td>\n",
       "      <td></td>\n",
       "    </tr>\n",
       "    <tr>\n",
       "      <th>8</th>\n",
       "      <td>360037882</td>\n",
       "      <td>Норма у всех своя, а правила регулируют закон....</td>\n",
       "      <td>0.0</td>\n",
       "      <td></td>\n",
       "    </tr>\n",
       "    <tr>\n",
       "      <th>11</th>\n",
       "      <td>360037882</td>\n",
       "      <td>[id269199653|Евгений], да будет так</td>\n",
       "      <td>0.0</td>\n",
       "      <td></td>\n",
       "    </tr>\n",
       "    <tr>\n",
       "      <th>13</th>\n",
       "      <td>360037882</td>\n",
       "      <td>Для особо одаренных есть ночные смены😀</td>\n",
       "      <td>0.0</td>\n",
       "      <td>😀</td>\n",
       "    </tr>\n",
       "  </tbody>\n",
       "</table>\n",
       "</div>"
      ],
      "text/plain": [
       "      from_id                                               text  is_gum  \\\n",
       "1   360037882  НАТЯНУЛИ МОСКВиЧЕЙ!!! ТЕПЕРЬ МОЖНО И ДОМОЙ ИХ ...     0.0   \n",
       "2   360037882  [id34736142|Андрей], не имеет значение где ЮР,...     0.0   \n",
       "3   360037882  [id34736142|Андрей], где СК удобнее там и пров...     0.0   \n",
       "4   360037882  Сегодня в 23:00 до 5:00 собираемся все НА АРЕН...     0.0   \n",
       "5   360037882  [id55153608|Федор], пошлиб да проявили смелост...     0.0   \n",
       "6   360037882  [id16867860|Дмитрий], любое ДТП есть страховой...     0.0   \n",
       "7   360037882  [id269199653|Евгений], что если кого то что то...     0.0   \n",
       "8   360037882  Норма у всех своя, а правила регулируют закон....     0.0   \n",
       "11  360037882                [id269199653|Евгений], да будет так     0.0   \n",
       "13  360037882             Для особо одаренных есть ночные смены😀     0.0   \n",
       "\n",
       "   emojis  \n",
       "1       💪  \n",
       "2          \n",
       "3          \n",
       "4          \n",
       "5       😉  \n",
       "6          \n",
       "7          \n",
       "8          \n",
       "11         \n",
       "13      😀  "
      ]
     },
     "execution_count": 135,
     "metadata": {},
     "output_type": "execute_result"
    }
   ],
   "source": [
    "comments.head(10)"
   ]
  },
  {
   "cell_type": "markdown",
   "metadata": {},
   "source": [
    "## Clearing comments"
   ]
  },
  {
   "cell_type": "code",
   "execution_count": 199,
   "metadata": {
    "collapsed": true
   },
   "outputs": [],
   "source": [
    "def clear_comments(comments, with_stemmer=False, with_lemmer=False, to_lower=True, without_names=False,\n",
    "                without_stop_words=False, min_word_len=None, with_emoji=False):\n",
    "    clear_comments = []\n",
    "    stop_words = set(get_stop_words('ru'))\n",
    "    stemmer = Stemmer.Stemmer('russian')\n",
    "    lemmer = pymorphy2.MorphAnalyzer()\n",
    "    \n",
    "    if with_emoji:\n",
    "        emoji_from_comments = ' '.join(map(get_emoji, comments.text.values)))\n",
    "    \n",
    "    names_del = 0\n",
    "    for comment in comments:\n",
    "        if to_lower:\n",
    "            comment = comment.lower()\n",
    "        comment = comment.sub('[^а-яА-ЯёЁa-zA-Z\\-]', ' ', comment)\n",
    "        comment = comment.split()\n",
    "        if without_stop_words:\n",
    "            comment = [c for c in comment if c not in stop_words]\n",
    "        if with_stemmer:\n",
    "            comment = stemmer.stemWords(comment)\n",
    "            if without_names:\n",
    "                with open('names_from_sent.txt', 'r') as f:\n",
    "                    names = f.readlines()\n",
    "                    names = set([name.strip() for name in names])\n",
    "                before = len(comment)\n",
    "                comment = [c for c in comment if c not in names]\n",
    "                aft = len(comment)\n",
    "                names_del += before - aft\n",
    "        elif with_lemmer:\n",
    "            comment = [lemmer.parse(c)[0].normal_form for c in comment]\n",
    "            if without_names:\n",
    "                with open('names.txt', 'r') as f:\n",
    "                    names = f.readlines()\n",
    "                    names = set([name.strip() for name in names])\n",
    "                    before = len(comment)\n",
    "                    comment = [c for c in comment if c not in names]\n",
    "                    aft = len(comment)\n",
    "                    names_del += before - aft\n",
    "        if min_word_len is not None:\n",
    "            comment = [c for c in comment if len(c) >= min_word_len]\n",
    "        clear_comments.append(' '.join(comment))\n",
    "    print('names del: {}'.format(names_del))\n",
    "    return clear_comments"
   ]
  },
  {
   "cell_type": "code",
   "execution_count": 200,
   "metadata": {
    "collapsed": false
   },
   "outputs": [
    {
     "name": "stdout",
     "output_type": "stream",
     "text": [
      "names del: 0\n"
     ]
    }
   ],
   "source": [
    "clear_coms = clear_comments(comments_list, min_word_len=3)"
   ]
  },
  {
   "cell_type": "code",
   "execution_count": 201,
   "metadata": {
    "collapsed": false
   },
   "outputs": [
    {
     "data": {
      "text/plain": [
       "['adddresssation где купить можно, в поддержку отечественного продукта',\n",
       " 'Опять эти пазики да как Вы уже задрали 😂😂😂😂😂😂',\n",
       " 'adddresssation да и так понятно что встречный... Просто пазики и водителей везде тролят за их вождение а тут бац и он вообще не приделах',\n",
       " 'Кто посоветует клуб для занятий по боксу...',\n",
       " 'Нехуй тормозить перед большигрузами😀😂']"
      ]
     },
     "execution_count": 201,
     "metadata": {},
     "output_type": "execute_result"
    }
   ],
   "source": [
    "comments_list[10:15]"
   ]
  },
  {
   "cell_type": "code",
   "execution_count": 202,
   "metadata": {
    "collapsed": false
   },
   "outputs": [
    {
     "data": {
      "text/plain": [
       "['adddresssation где купить можно поддержку отечественного продукта',\n",
       " 'опять эти пазики как уже задрали',\n",
       " 'adddresssation так понятно что встречный просто пазики водителей везде тролят вождение тут бац вообще приделах',\n",
       " 'кто посоветует клуб для занятий боксу',\n",
       " 'нехуй тормозить перед большигрузами']"
      ]
     },
     "execution_count": 202,
     "metadata": {},
     "output_type": "execute_result"
    }
   ],
   "source": [
    "clear_coms[10:15]"
   ]
  },
  {
   "cell_type": "code",
   "execution_count": 203,
   "metadata": {
    "collapsed": false
   },
   "outputs": [],
   "source": [
    "vectorizer = CountVectorizer(max_features=10000)\n",
    "X = vectorizer.fit_transform(clear_coms)\n",
    "y = comments.is_gum.values"
   ]
  },
  {
   "cell_type": "code",
   "execution_count": 208,
   "metadata": {
    "collapsed": false
   },
   "outputs": [
    {
     "data": {
      "text/plain": [
       "['вообщем',\n",
       " 'вооот',\n",
       " 'вопрос',\n",
       " 'вопроса',\n",
       " 'вопросам',\n",
       " 'вопросе',\n",
       " 'вопросов',\n",
       " 'вопросом',\n",
       " 'вопросу',\n",
       " 'вопросы']"
      ]
     },
     "execution_count": 208,
     "metadata": {},
     "output_type": "execute_result"
    }
   ],
   "source": [
    "vectorizer.get_feature_names()[1000:1010]"
   ]
  },
  {
   "cell_type": "code",
   "execution_count": 205,
   "metadata": {
    "collapsed": true
   },
   "outputs": [],
   "source": [
    "lr = lm.LogisticRegression()"
   ]
  },
  {
   "cell_type": "code",
   "execution_count": 206,
   "metadata": {
    "collapsed": true
   },
   "outputs": [],
   "source": [
    "np.random.seed(0)"
   ]
  },
  {
   "cell_type": "code",
   "execution_count": 207,
   "metadata": {
    "collapsed": false
   },
   "outputs": [
    {
     "data": {
      "text/plain": [
       "(0.52562122593099969, 0.0095568967135199537)"
      ]
     },
     "execution_count": 207,
     "metadata": {},
     "output_type": "execute_result"
    }
   ],
   "source": [
    "baseline_scores = cross_val_score(lr, X, y, cv=5)\n",
    "baseline_scores.mean(), baseline_scores.std()"
   ]
  },
  {
   "cell_type": "code",
   "execution_count": 209,
   "metadata": {
    "collapsed": false
   },
   "outputs": [
    {
     "data": {
      "text/plain": [
       "LogisticRegression(C=1.0, class_weight=None, dual=False, fit_intercept=True,\n",
       "          intercept_scaling=1, max_iter=100, multi_class='ovr', n_jobs=1,\n",
       "          penalty='l2', random_state=None, solver='liblinear', tol=0.0001,\n",
       "          verbose=0, warm_start=False)"
      ]
     },
     "execution_count": 209,
     "metadata": {},
     "output_type": "execute_result"
    }
   ],
   "source": [
    "lr.fit(X, y)"
   ]
  },
  {
   "cell_type": "code",
   "execution_count": 210,
   "metadata": {
    "collapsed": false
   },
   "outputs": [
    {
     "data": {
      "text/plain": [
       "0.64001207701419049"
      ]
     },
     "execution_count": 210,
     "metadata": {},
     "output_type": "execute_result"
    }
   ],
   "source": [
    "lr.score(X, y)"
   ]
  },
  {
   "cell_type": "code",
   "execution_count": 215,
   "metadata": {
    "collapsed": false
   },
   "outputs": [
    {
     "data": {
      "text/plain": [
       "9288"
      ]
     },
     "execution_count": 215,
     "metadata": {},
     "output_type": "execute_result"
    }
   ],
   "source": [
    "lr.coef_.argmin()"
   ]
  },
  {
   "cell_type": "code",
   "execution_count": 216,
   "metadata": {
    "collapsed": false
   },
   "outputs": [
    {
     "data": {
      "text/plain": [
       "'ухахаха'"
      ]
     },
     "execution_count": 216,
     "metadata": {},
     "output_type": "execute_result"
    }
   ],
   "source": [
    "vectorizer.get_feature_names()[9288]"
   ]
  },
  {
   "cell_type": "code",
   "execution_count": null,
   "metadata": {
    "collapsed": true
   },
   "outputs": [],
   "source": []
  }
 ],
 "metadata": {
  "kernelspec": {
   "display_name": "Python 3",
   "language": "python",
   "name": "python3"
  },
  "language_info": {
   "codemirror_mode": {
    "name": "ipython",
    "version": 3
   },
   "file_extension": ".py",
   "mimetype": "text/x-python",
   "name": "python",
   "nbconvert_exporter": "python",
   "pygments_lexer": "ipython3",
   "version": "3.5.1"
  }
 },
 "nbformat": 4,
 "nbformat_minor": 0
}
